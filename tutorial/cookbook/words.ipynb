{
 "cells": [
  {
   "cell_type": "markdown",
   "metadata": {},
   "source": [
    "For the main tutorial go to [start](../start.ipynb)\n",
    "\n",
    "---"
   ]
  },
  {
   "cell_type": "markdown",
   "metadata": {},
   "source": [
    "# Word searches\n",
    "\n",
    "Searches for particular morphology inside words can become complicated. Here are some ways to achieve results.\n",
    "\n",
    "In particular, we show how to use *regular expressions* inside search templates.\n",
    "\n",
    "Regular expressions are search partterns as used in tools like *grep*, *awk*, *vim*, and many programming languages,\n",
    "among which Python.\n",
    "\n",
    "TF search patterns can tap the full power of Python\n",
    "[regular expressions](https://docs.python.org/3/library/re.html#module-re)."
   ]
  },
  {
   "cell_type": "code",
   "execution_count": 1,
   "metadata": {},
   "outputs": [],
   "source": [
    "from tf.app import use"
   ]
  },
  {
   "cell_type": "code",
   "execution_count": 2,
   "metadata": {},
   "outputs": [
    {
     "data": {
      "text/html": [
       "<b title=\"local github\">TF-app:</b> <span title=\"repo clone offline under ~/github\">~/github/annotation/app-oldbabylonian/code</span>"
      ],
      "text/plain": [
       "<IPython.core.display.HTML object>"
      ]
     },
     "metadata": {},
     "output_type": "display_data"
    },
    {
     "data": {
      "text/html": [
       "<b title=\"local github\">data:</b> <span title=\"repo clone offline under ~/github\">~/github/Nino-cunei/oldbabylonian/tf/1.0.5</span>"
      ],
      "text/plain": [
       "<IPython.core.display.HTML object>"
      ]
     },
     "metadata": {},
     "output_type": "display_data"
    },
    {
     "data": {
      "text/html": [
       "<b>Text-Fabric:</b> <a target=\"_blank\" href=\"https://annotation.github.io/text-fabric/cheatsheet.html\" title=\"text-fabric-api\">Text-Fabric API 8.3.0</a>, <a target=\"_blank\" href=\"https://github.com/annotation/app-oldbabylonian\" title=\"oldbabylonian TF-app\">app-oldbabylonian</a>, <a target=\"_blank\" href=\"https://annotation.github.io/text-fabric/about/searchusage.html\" title=\"Search Templates Introduction and Reference\">Search Reference</a><br><b>Data:</b> <a target=\"_blank\" href=\"https://github.com/Nino-cunei/oldbabylonian/blob/master/docs/about.md\" title=\"provenance of Old Babylonian Letters 1900-1600: Cuneiform tablets \">OLDBABYLONIAN</a>, <a target=\"_blank\" href=\"https://github.com/Nino-cunei/oldbabylonian/blob/master/docs/programs/mapReadings.ipynb\" title=\"mapping from readings to UNICODE\">Character table</a>, <a target=\"_blank\" href=\"https://github.com/Nino-cunei/oldbabylonian/blob/master/docs/transcription.md\" title=\"OLDBABYLONIAN feature documentation\">Feature docs</a><br><b>Features:</b><br><details><summary><b>Old Babylonian Letters 1900-1600: Cuneiform tablets </b></summary><a target=\"_blank\" href=\"https://github.com/Nino-cunei/oldbabylonian/blob/master/docs/transcription.md\" title=\"~/github/Nino-cunei/oldbabylonian/tf/1.0.5/ARK.tf\">ARK</a><br><a target=\"_blank\" href=\"https://github.com/Nino-cunei/oldbabylonian/blob/master/docs/transcription.md\" title=\"~/github/Nino-cunei/oldbabylonian/tf/1.0.5/after.tf\">after</a><br><a target=\"_blank\" href=\"https://github.com/Nino-cunei/oldbabylonian/blob/master/docs/transcription.md\" title=\"~/github/Nino-cunei/oldbabylonian/tf/1.0.5/afterr.tf\">afterr</a><br><a target=\"_blank\" href=\"https://github.com/Nino-cunei/oldbabylonian/blob/master/docs/transcription.md\" title=\"~/github/Nino-cunei/oldbabylonian/tf/1.0.5/afteru.tf\">afteru</a><br><a target=\"_blank\" href=\"https://github.com/Nino-cunei/oldbabylonian/blob/master/docs/transcription.md\" title=\"~/github/Nino-cunei/oldbabylonian/tf/1.0.5/atf.tf\">atf</a><br><a target=\"_blank\" href=\"https://github.com/Nino-cunei/oldbabylonian/blob/master/docs/transcription.md\" title=\"~/github/Nino-cunei/oldbabylonian/tf/1.0.5/atfpost.tf\">atfpost</a><br><a target=\"_blank\" href=\"https://github.com/Nino-cunei/oldbabylonian/blob/master/docs/transcription.md\" title=\"~/github/Nino-cunei/oldbabylonian/tf/1.0.5/atfpre.tf\">atfpre</a><br><a target=\"_blank\" href=\"https://github.com/Nino-cunei/oldbabylonian/blob/master/docs/transcription.md\" title=\"~/github/Nino-cunei/oldbabylonian/tf/1.0.5/author.tf\">author</a><br><a target=\"_blank\" href=\"https://github.com/Nino-cunei/oldbabylonian/blob/master/docs/transcription.md\" title=\"~/github/Nino-cunei/oldbabylonian/tf/1.0.5/col.tf\">col</a><br><a target=\"_blank\" href=\"https://github.com/Nino-cunei/oldbabylonian/blob/master/docs/transcription.md\" title=\"~/github/Nino-cunei/oldbabylonian/tf/1.0.5/collated.tf\">collated</a><br><a target=\"_blank\" href=\"https://github.com/Nino-cunei/oldbabylonian/blob/master/docs/transcription.md\" title=\"~/github/Nino-cunei/oldbabylonian/tf/1.0.5/collection.tf\">collection</a><br><a target=\"_blank\" href=\"https://github.com/Nino-cunei/oldbabylonian/blob/master/docs/transcription.md\" title=\"~/github/Nino-cunei/oldbabylonian/tf/1.0.5/comment.tf\">comment</a><br><a target=\"_blank\" href=\"https://github.com/Nino-cunei/oldbabylonian/blob/master/docs/transcription.md\" title=\"~/github/Nino-cunei/oldbabylonian/tf/1.0.5/damage.tf\">damage</a><br><a target=\"_blank\" href=\"https://github.com/Nino-cunei/oldbabylonian/blob/master/docs/transcription.md\" title=\"~/github/Nino-cunei/oldbabylonian/tf/1.0.5/det.tf\">det</a><br><a target=\"_blank\" href=\"https://github.com/Nino-cunei/oldbabylonian/blob/master/docs/transcription.md\" title=\"~/github/Nino-cunei/oldbabylonian/tf/1.0.5/docnote.tf\">docnote</a><br><a target=\"_blank\" href=\"https://github.com/Nino-cunei/oldbabylonian/blob/master/docs/transcription.md\" title=\"~/github/Nino-cunei/oldbabylonian/tf/1.0.5/docnumber.tf\">docnumber</a><br><a target=\"_blank\" href=\"https://github.com/Nino-cunei/oldbabylonian/blob/master/docs/transcription.md\" title=\"~/github/Nino-cunei/oldbabylonian/tf/1.0.5/excavation.tf\">excavation</a><br><a target=\"_blank\" href=\"https://github.com/Nino-cunei/oldbabylonian/blob/master/docs/transcription.md\" title=\"~/github/Nino-cunei/oldbabylonian/tf/1.0.5/excised.tf\">excised</a><br><a target=\"_blank\" href=\"https://github.com/Nino-cunei/oldbabylonian/blob/master/docs/transcription.md\" title=\"~/github/Nino-cunei/oldbabylonian/tf/1.0.5/face.tf\">face</a><br><a target=\"_blank\" href=\"https://github.com/Nino-cunei/oldbabylonian/blob/master/docs/transcription.md\" title=\"~/github/Nino-cunei/oldbabylonian/tf/1.0.5/flags.tf\">flags</a><br><a target=\"_blank\" href=\"https://github.com/Nino-cunei/oldbabylonian/blob/master/docs/transcription.md\" title=\"~/github/Nino-cunei/oldbabylonian/tf/1.0.5/fraction.tf\">fraction</a><br><a target=\"_blank\" href=\"https://github.com/Nino-cunei/oldbabylonian/blob/master/docs/transcription.md\" title=\"~/github/Nino-cunei/oldbabylonian/tf/1.0.5/genre.tf\">genre</a><br><a target=\"_blank\" href=\"https://github.com/Nino-cunei/oldbabylonian/blob/master/docs/transcription.md\" title=\"~/github/Nino-cunei/oldbabylonian/tf/1.0.5/grapheme.tf\">grapheme</a><br><a target=\"_blank\" href=\"https://github.com/Nino-cunei/oldbabylonian/blob/master/docs/transcription.md\" title=\"~/github/Nino-cunei/oldbabylonian/tf/1.0.5/graphemer.tf\">graphemer</a><br><a target=\"_blank\" href=\"https://github.com/Nino-cunei/oldbabylonian/blob/master/docs/transcription.md\" title=\"~/github/Nino-cunei/oldbabylonian/tf/1.0.5/graphemeu.tf\">graphemeu</a><br><a target=\"_blank\" href=\"https://github.com/Nino-cunei/oldbabylonian/blob/master/docs/transcription.md\" title=\"~/github/Nino-cunei/oldbabylonian/tf/1.0.5/lang.tf\">lang</a><br><a target=\"_blank\" href=\"https://github.com/Nino-cunei/oldbabylonian/blob/master/docs/transcription.md\" title=\"~/github/Nino-cunei/oldbabylonian/tf/1.0.5/langalt.tf\">langalt</a><br><a target=\"_blank\" href=\"https://github.com/Nino-cunei/oldbabylonian/blob/master/docs/transcription.md\" title=\"~/github/Nino-cunei/oldbabylonian/tf/1.0.5/ln.tf\">ln</a><br><a target=\"_blank\" href=\"https://github.com/Nino-cunei/oldbabylonian/blob/master/docs/transcription.md\" title=\"~/github/Nino-cunei/oldbabylonian/tf/1.0.5/lnc.tf\">lnc</a><br><a target=\"_blank\" href=\"https://github.com/Nino-cunei/oldbabylonian/blob/master/docs/transcription.md\" title=\"~/github/Nino-cunei/oldbabylonian/tf/1.0.5/lnno.tf\">lnno</a><br><a target=\"_blank\" href=\"https://github.com/Nino-cunei/oldbabylonian/blob/master/docs/transcription.md\" title=\"~/github/Nino-cunei/oldbabylonian/tf/1.0.5/material.tf\">material</a><br><a target=\"_blank\" href=\"https://github.com/Nino-cunei/oldbabylonian/blob/master/docs/transcription.md\" title=\"~/github/Nino-cunei/oldbabylonian/tf/1.0.5/missing.tf\">missing</a><br><a target=\"_blank\" href=\"https://github.com/Nino-cunei/oldbabylonian/blob/master/docs/transcription.md\" title=\"~/github/Nino-cunei/oldbabylonian/tf/1.0.5/museumcode.tf\">museumcode</a><br><a target=\"_blank\" href=\"https://github.com/Nino-cunei/oldbabylonian/blob/master/docs/transcription.md\" title=\"~/github/Nino-cunei/oldbabylonian/tf/1.0.5/museumname.tf\">museumname</a><br><a target=\"_blank\" href=\"https://github.com/Nino-cunei/oldbabylonian/blob/master/docs/transcription.md\" title=\"~/github/Nino-cunei/oldbabylonian/tf/1.0.5/object.tf\">object</a><br><a target=\"_blank\" href=\"https://github.com/Nino-cunei/oldbabylonian/blob/master/docs/transcription.md\" title=\"~/github/Nino-cunei/oldbabylonian/tf/1.0.5/operator.tf\">operator</a><br><a target=\"_blank\" href=\"https://github.com/Nino-cunei/oldbabylonian/blob/master/docs/transcription.md\" title=\"~/github/Nino-cunei/oldbabylonian/tf/1.0.5/operatorr.tf\">operatorr</a><br><a target=\"_blank\" href=\"https://github.com/Nino-cunei/oldbabylonian/blob/master/docs/transcription.md\" title=\"~/github/Nino-cunei/oldbabylonian/tf/1.0.5/operatoru.tf\">operatoru</a><br><a target=\"_blank\" href=\"https://github.com/Nino-cunei/oldbabylonian/blob/master/docs/transcription.md\" title=\"~/github/Nino-cunei/oldbabylonian/tf/1.0.5/otype.tf\">otype</a><br><a target=\"_blank\" href=\"https://github.com/Nino-cunei/oldbabylonian/blob/master/docs/transcription.md\" title=\"~/github/Nino-cunei/oldbabylonian/tf/1.0.5/period.tf\">period</a><br><a target=\"_blank\" href=\"https://github.com/Nino-cunei/oldbabylonian/blob/master/docs/transcription.md\" title=\"~/github/Nino-cunei/oldbabylonian/tf/1.0.5/pnumber.tf\">pnumber</a><br><a target=\"_blank\" href=\"https://github.com/Nino-cunei/oldbabylonian/blob/master/docs/transcription.md\" title=\"~/github/Nino-cunei/oldbabylonian/tf/1.0.5/primecol.tf\">primecol</a><br><a target=\"_blank\" href=\"https://github.com/Nino-cunei/oldbabylonian/blob/master/docs/transcription.md\" title=\"~/github/Nino-cunei/oldbabylonian/tf/1.0.5/primeln.tf\">primeln</a><br><a target=\"_blank\" href=\"https://github.com/Nino-cunei/oldbabylonian/blob/master/docs/transcription.md\" title=\"~/github/Nino-cunei/oldbabylonian/tf/1.0.5/pubdate.tf\">pubdate</a><br><a target=\"_blank\" href=\"https://github.com/Nino-cunei/oldbabylonian/blob/master/docs/transcription.md\" title=\"~/github/Nino-cunei/oldbabylonian/tf/1.0.5/question.tf\">question</a><br><a target=\"_blank\" href=\"https://github.com/Nino-cunei/oldbabylonian/blob/master/docs/transcription.md\" title=\"~/github/Nino-cunei/oldbabylonian/tf/1.0.5/reading.tf\">reading</a><br><a target=\"_blank\" href=\"https://github.com/Nino-cunei/oldbabylonian/blob/master/docs/transcription.md\" title=\"~/github/Nino-cunei/oldbabylonian/tf/1.0.5/readingr.tf\">readingr</a><br><a target=\"_blank\" href=\"https://github.com/Nino-cunei/oldbabylonian/blob/master/docs/transcription.md\" title=\"~/github/Nino-cunei/oldbabylonian/tf/1.0.5/readingu.tf\">readingu</a><br><a target=\"_blank\" href=\"https://github.com/Nino-cunei/oldbabylonian/blob/master/docs/transcription.md\" title=\"~/github/Nino-cunei/oldbabylonian/tf/1.0.5/remarkable.tf\">remarkable</a><br><a target=\"_blank\" href=\"https://github.com/Nino-cunei/oldbabylonian/blob/master/docs/transcription.md\" title=\"~/github/Nino-cunei/oldbabylonian/tf/1.0.5/remarks.tf\">remarks</a><br><a target=\"_blank\" href=\"https://github.com/Nino-cunei/oldbabylonian/blob/master/docs/transcription.md\" title=\"~/github/Nino-cunei/oldbabylonian/tf/1.0.5/repeat.tf\">repeat</a><br><a target=\"_blank\" href=\"https://github.com/Nino-cunei/oldbabylonian/blob/master/docs/transcription.md\" title=\"~/github/Nino-cunei/oldbabylonian/tf/1.0.5/srcLn.tf\">srcLn</a><br><a target=\"_blank\" href=\"https://github.com/Nino-cunei/oldbabylonian/blob/master/docs/transcription.md\" title=\"~/github/Nino-cunei/oldbabylonian/tf/1.0.5/srcLnNum.tf\">srcLnNum</a><br><a target=\"_blank\" href=\"https://github.com/Nino-cunei/oldbabylonian/blob/master/docs/transcription.md\" title=\"~/github/Nino-cunei/oldbabylonian/tf/1.0.5/srcfile.tf\">srcfile</a><br><a target=\"_blank\" href=\"https://github.com/Nino-cunei/oldbabylonian/blob/master/docs/transcription.md\" title=\"~/github/Nino-cunei/oldbabylonian/tf/1.0.5/subgenre.tf\">subgenre</a><br><a target=\"_blank\" href=\"https://github.com/Nino-cunei/oldbabylonian/blob/master/docs/transcription.md\" title=\"~/github/Nino-cunei/oldbabylonian/tf/1.0.5/supplied.tf\">supplied</a><br><a target=\"_blank\" href=\"https://github.com/Nino-cunei/oldbabylonian/blob/master/docs/transcription.md\" title=\"~/github/Nino-cunei/oldbabylonian/tf/1.0.5/sym.tf\">sym</a><br><a target=\"_blank\" href=\"https://github.com/Nino-cunei/oldbabylonian/blob/master/docs/transcription.md\" title=\"~/github/Nino-cunei/oldbabylonian/tf/1.0.5/symr.tf\">symr</a><br><a target=\"_blank\" href=\"https://github.com/Nino-cunei/oldbabylonian/blob/master/docs/transcription.md\" title=\"~/github/Nino-cunei/oldbabylonian/tf/1.0.5/symu.tf\">symu</a><br><a target=\"_blank\" href=\"https://github.com/Nino-cunei/oldbabylonian/blob/master/docs/transcription.md\" title=\"~/github/Nino-cunei/oldbabylonian/tf/1.0.5/trans.tf\">trans</a><br><a target=\"_blank\" href=\"https://github.com/Nino-cunei/oldbabylonian/blob/master/docs/transcription.md\" title=\"~/github/Nino-cunei/oldbabylonian/tf/1.0.5/transcriber.tf\">transcriber</a><br><a target=\"_blank\" href=\"https://github.com/Nino-cunei/oldbabylonian/blob/master/docs/transcription.md\" title=\"~/github/Nino-cunei/oldbabylonian/tf/1.0.5/translation@en.tf\">translation@ll</a><br><a target=\"_blank\" href=\"https://github.com/Nino-cunei/oldbabylonian/blob/master/docs/transcription.md\" title=\"~/github/Nino-cunei/oldbabylonian/tf/1.0.5/type.tf\">type</a><br><a target=\"_blank\" href=\"https://github.com/Nino-cunei/oldbabylonian/blob/master/docs/transcription.md\" title=\"~/github/Nino-cunei/oldbabylonian/tf/1.0.5/uncertain.tf\">uncertain</a><br><a target=\"_blank\" href=\"https://github.com/Nino-cunei/oldbabylonian/blob/master/docs/transcription.md\" title=\"~/github/Nino-cunei/oldbabylonian/tf/1.0.5/volume.tf\">volume</a><br><b><i><a target=\"_blank\" href=\"https://github.com/Nino-cunei/oldbabylonian/blob/master/docs/transcription.md\" title=\"~/github/Nino-cunei/oldbabylonian/tf/1.0.5/oslots.tf\">oslots</a></i></b><br></details>"
      ],
      "text/plain": [
       "<IPython.core.display.HTML object>"
      ]
     },
     "metadata": {},
     "output_type": "display_data"
    },
    {
     "data": {
      "text/html": [
       "<style>tr.tf.ltr, td.tf.ltr, th.tf.ltr { text-align: left ! important;}\n",
       "tr.tf.rtl, td.tf.rtl, th.tf.rtl { text-align: right ! important;}\n",
       "@font-face {\n",
       "  font-family: \"Ezra SIL\";\n",
       "  src: local('Ezra SIL'), local('EzraSIL'),\n",
       "    url('/server/static/fonts/SILEOT.woff') format('woff'),\n",
       "    url('https://github.com/annotation/text-fabric/blob/master/tf/server/static/fonts/SILEOT.woff?raw=true') format('woff');\n",
       "}\n",
       "\n",
       "@font-face {\n",
       "  font-family: \"SBL Hebrew\";\n",
       "  src: local('SBL Hebrew'), local('SBLHebrew'),\n",
       "    url('/server/static/fonts/SBL_Hbrw.woff') format('woff'),\n",
       "    url('https://github.com/annotation/text-fabric/blob/master/tf/server/static/fonts/SBL_Hbrw.woff?raw=true') format('woff');\n",
       "}\n",
       "\n",
       "@font-face {\n",
       "  font-family: \"Estrangelo Edessa\";\n",
       "  src: local('Estrangelo Edessa'), local('EstrangeloEdessa');\n",
       "    url('/server/static/fonts/SyrCOMEdessa.woff') format('woff'),\n",
       "    url('https://github.com/annotation/text-fabric/blob/master/tf/server/static/fonts/SyrCOMEdessa.woff?raw=true') format('woff');\n",
       "}\n",
       "\n",
       "@font-face {\n",
       "  font-family: AmiriQuran;\n",
       "  font-style: normal;\n",
       "  font-weight: 400;\n",
       "  src: local('Amiri Quran'), local('AmiriQuran'),\n",
       "    url('/server/static/fonts/AmiriQuran.woff') format('woff'),\n",
       "    url('https://github.com/annotation/text-fabric/blob/master/tf/server/static/fonts/AmiriQuran.woff?raw=true') format('woff');\n",
       "}\n",
       "\n",
       "@font-face {\n",
       "  font-family: AmiriQuranColored;\n",
       "  font-style: normal;\n",
       "  font-weight: 400;\n",
       "  src: local('Amiri Quran Colored'), local('AmiriQuranColored'),\n",
       "    url('/server/static/fonts/AmiriQuranColored.woff') format('woff'),\n",
       "    url('https://github.com/annotation/text-fabric/blob/master/tf/server/static/fonts/AmiriQuranColored.woff?raw=true') format('woff');\n",
       "}\n",
       "\n",
       "@font-face {\n",
       "  font-family: \"Santakku\";\n",
       "  src: local('Santakku'),\n",
       "    url('/server/static/fonts/Santakku.woff') format('woff'),\n",
       "    url('https://github.com/annotation/text-fabric/blob/master/tf/server/static/fonts/Santakku.woff?raw=true') format('woff');\n",
       "}\n",
       "\n",
       "@font-face {\n",
       "  font-family: \"SantakkuM\";\n",
       "  src: local('SantakkuM'),\n",
       "    url('/server/static/fonts/SantakkuM.woff') format('woff'),\n",
       "    url('https://github.com/annotation/text-fabric/blob/master/tf/server/static/fonts/SantakkuM.woff?raw=true') format('woff');\n",
       "}\n",
       "/* bypassing some classical notebook settings */\n",
       "div#notebook {\n",
       "  line-height: unset;\n",
       "}\n",
       "/* neutral text */\n",
       ".txtn,.txtn a:visited,.txtn a:link {\n",
       "    font-family: sans-serif;\n",
       "    font-size: medium;\n",
       "    direction: ltr;\n",
       "    text-decoration: none;\n",
       "    color: var(--text-color);\n",
       "}\n",
       "/* transcription text */\n",
       ".txtt,.txtt a:visited,.txtt a:link {\n",
       "    font-family: monospace;\n",
       "    font-size: medium;\n",
       "    direction: ltr;\n",
       "    text-decoration: none;\n",
       "    color: var(--text-color);\n",
       "}\n",
       "/* source text */\n",
       ".txto,.txto a:visited,.txto a:link {\n",
       "    font-family: serif;\n",
       "    font-size: medium;\n",
       "    direction: ltr;\n",
       "    text-decoration: none;\n",
       "    color: var(--text-color);\n",
       "}\n",
       "/* phonetic text */\n",
       ".txtp,.txtp a:visited,.txtp a:link {\n",
       "    font-family: Gentium, sans-serif;\n",
       "    font-size: medium;\n",
       "    direction: ltr;\n",
       "    text-decoration: none;\n",
       "    color: var(--text-color);\n",
       "}\n",
       "/* original script text */\n",
       ".txtu,.txtu a:visited,.txtu a:link {\n",
       "    font-family: Gentium, sans-serif;\n",
       "    font-size: medium;\n",
       "    text-decoration: none;\n",
       "    color: var(--text-color);\n",
       "}\n",
       "/* hebrew */\n",
       ".txtu.hbo,.lex.hbo {\n",
       "    font-family: \"Ezra SIL\", \"SBL Hebrew\", sans-serif;\n",
       "    font-size: large;\n",
       "    direction: rtl ! important;\n",
       "    unicode-bidi: embed;\n",
       "}\n",
       "/* syriac */\n",
       ".txtu.syc,.lex.syc {\n",
       "    font-family: \"Estrangelo Edessa\", sans-serif;\n",
       "    font-size: medium;\n",
       "    direction: rtl ! important;\n",
       "    unicode-bidi: embed;\n",
       "}\n",
       "/* neo aramaic */\n",
       ".txtu.cld,.lex.cld {\n",
       "    font-family: \"CharisSIL-R\", sans-serif;\n",
       "    font-size: medium;\n",
       "    direction: ltr ! important;\n",
       "    unicode-bidi: embed;\n",
       "}\n",
       "/* standard arabic */\n",
       ".txtu.ara,.lex.ara {\n",
       "    font-family: \"AmiriQuran\", sans-serif;\n",
       "    font-size: large;\n",
       "    direction: rtl ! important;\n",
       "    unicode-bidi: embed;\n",
       "}\n",
       "/* cuneiform */\n",
       ".txtu.akk,.lex.akk {\n",
       "    font-family: Santakku, sans-serif;\n",
       "    font-size: large;\n",
       "    direction: ltr ! important;\n",
       "    unicode-bidi: embed;\n",
       "}\n",
       "/* greek */\n",
       ".txtu.grc,.lex.grc a:link {\n",
       "    font-family: Gentium, sans-serif;\n",
       "    font-size: medium;\n",
       "    direction: ltr ! important;\n",
       "    unicode-bidi: embed;\n",
       "}\n",
       "a:hover {\n",
       "    text-decoration: underline | important;\n",
       "    color: #0000ff | important;\n",
       "}\n",
       ".ltr {\n",
       "    direction: ltr ! important;\n",
       "}\n",
       ".rtl {\n",
       "    direction: rtl ! important;\n",
       "}\n",
       ".features {\n",
       "    font-family: monospace;\n",
       "    font-size: medium;\n",
       "    font-weight: bold;\n",
       "    color: var(--features);\n",
       "    display: flex;\n",
       "    flex-flow: column nowrap;\n",
       "    justify-content: flex-start;\n",
       "    align-items: flex-start;\n",
       "    align-content: flex-start;\n",
       "    padding: 0.1rem;\n",
       "    margin: 0.1rem;\n",
       "    direction: ltr;\n",
       "    border: var(--meta-width) solid var(--meta-color);\n",
       "    border-radius: var(--meta-width);\n",
       "}\n",
       ".features div,.features span {\n",
       "    padding: 0;\n",
       "    margin: -0.1rem 0;\n",
       "}\n",
       ".features .f {\n",
       "    font-family: sans-serif;\n",
       "    font-size: small;\n",
       "    font-weight: normal;\n",
       "    color: #5555bb;\n",
       "}\n",
       ".features .xft {\n",
       "  color: #000000;\n",
       "  background-color: #eeeeee;\n",
       "  font-size: medium;\n",
       "  margin: 0.1rem 0rem;\n",
       "}\n",
       ".features .xft .f {\n",
       "  color: #000000;\n",
       "  background-color: #eeeeee;\n",
       "  font-size: small;\n",
       "  font-weight: normal;\n",
       "}\n",
       ".section {\n",
       "    font-family: sans-serif;\n",
       "    font-size: small;\n",
       "    font-weight: bold;\n",
       "    color: var(--section);\n",
       "    unicode-bidi: embed;\n",
       "    text-align: start;\n",
       "}\n",
       ".structure {\n",
       "    font-family: sans-serif;\n",
       "    font-size: small;\n",
       "    font-weight: bold;\n",
       "    color: var(--structure);\n",
       "    unicode-bidi: embed;\n",
       "    text-align: start;\n",
       "}\n",
       ".comments {\n",
       "    display: flex;\n",
       "    justify-content: flex-start;\n",
       "    align-items: flex-start;\n",
       "    align-content: flex-start;\n",
       "    flex-flow: column nowrap;\n",
       "}\n",
       ".nd, a:link.nd {\n",
       "    font-family: sans-serif;\n",
       "    font-size: small;\n",
       "    color: var(--node);\n",
       "    vertical-align: super;\n",
       "    direction: ltr ! important;\n",
       "    unicode-bidi: embed;\n",
       "}\n",
       ".lex {\n",
       "  color: var(--lex-color);;\n",
       "}\n",
       ".children,.children.ltr {\n",
       "    display: flex;\n",
       "    border: 0;\n",
       "    background-color: #ffffff;\n",
       "    justify-content: flex-start;\n",
       "    align-items: flex-start;\n",
       "    align-content: flex-start;\n",
       "}\n",
       ".children.stretch {\n",
       "    align-items: stretch;\n",
       "}\n",
       ".children.hor {\n",
       "    flex-flow: row nowrap;\n",
       "}\n",
       ".children.hor.wrap {\n",
       "    flex-flow: row wrap;\n",
       "}\n",
       ".children.ver {\n",
       "    flex-flow: column nowrap;\n",
       "}\n",
       ".children.ver.wrap {\n",
       "    flex-flow: column wrap;\n",
       "}\n",
       ".contnr {\n",
       "    width: fit-content;\n",
       "    display: flex;\n",
       "    justify-content: flex-start;\n",
       "    align-items: flex-start;\n",
       "    align-content: flex-start;\n",
       "    flex-flow: column nowrap;\n",
       "    background: #ffffff none repeat scroll 0 0;\n",
       "    padding:  0.5rem 0.1rem 0.1rem 0.1rem;\n",
       "    margin: 0.8rem 0.1rem 0.1rem 0.1rem;\n",
       "    border-style: solid;\n",
       "    font-size: small;\n",
       "}\n",
       ".contnr.trm {\n",
       "    background-attachment: local;\n",
       "}\n",
       ".contnr.cnul {\n",
       "    padding:  0;\n",
       "    margin: 0;\n",
       "    border-style: solid;\n",
       "    font-size: xx-small;\n",
       "}\n",
       ".contnr.cnul,.lbl.cnul {\n",
       "    border-color: var(--border-color-nul);\n",
       "    border-width: var(--border-width-nul);\n",
       "    border-radius: var(--border-width-nul);\n",
       "}\n",
       ".contnr.c0,.lbl.c0 {\n",
       "    border-color: var(--border-color0);\n",
       "    border-width: var(--border-width0);\n",
       "    border-radius: var(--border-width0);\n",
       "}\n",
       ".contnr.c1,.lbl.c1 {\n",
       "    border-color: var(--border-color1);\n",
       "    border-width: var(--border-width1);\n",
       "    border-radius: var(--border-width1);\n",
       "}\n",
       ".contnr.c2,.lbl.c2 {\n",
       "    border-color: var(--border-color2);\n",
       "    border-width: var(--border-width2);\n",
       "    border-radius: var(--border-width2);\n",
       "}\n",
       ".contnr.c3,.lbl.c3 {\n",
       "    border-color: var(--border-color3);\n",
       "    border-width: var(--border-width3);\n",
       "    border-radius: var(--border-width3);\n",
       "}\n",
       ".contnr.c4,.lbl.c4 {\n",
       "    border-color: var(--border-color4);\n",
       "    border-width: var(--border-width4);\n",
       "    border-radius: var(--border-width4);\n",
       "}\n",
       "span.plain {\n",
       "    display: inline-block;\n",
       "    white-space: pre-wrap;\n",
       "}\n",
       ".plain {\n",
       "    background-color: #ffffff;\n",
       "}\n",
       ".plain.l,.contnr.l,.contnr.l>.lbl {\n",
       "    border-left-style: dotted\n",
       "}\n",
       ".plain.r,.contnr.r,.contnr.r>.lbl {\n",
       "    border-right-style: dotted\n",
       "}\n",
       ".plain.lno,.contnr.lno,.contnr.lno>.lbl {\n",
       "    border-left-style: none\n",
       "}\n",
       ".plain.rno,.contnr.rno,.contnr.rno>.lbl {\n",
       "    border-right-style: none\n",
       "}\n",
       ".plain.l {\n",
       "    padding-left: 0.2rem;\n",
       "    margin-left: 0.1rem;\n",
       "    border-width: var(--border-width-plain);\n",
       "}\n",
       ".plain.r {\n",
       "    padding-right: 0.2rem;\n",
       "    margin-right: 0.1rem;\n",
       "    border-width: var(--border-width-plain);\n",
       "}\n",
       ".lbl {\n",
       "    font-family: monospace;\n",
       "    margin-top: -1.2rem;\n",
       "    margin-left: 1rem;\n",
       "    background: #ffffff none repeat scroll 0 0;\n",
       "    padding: 0 0.3rem;\n",
       "    border-style: solid;\n",
       "    display: block;\n",
       "    color: var(--label)\n",
       "}\n",
       ".lbl.trm {\n",
       "    background-attachment: local;\n",
       "    margin-top: 0.1rem;\n",
       "    margin-left: 0.1rem;\n",
       "    padding: 0.1rem 0.1rem;\n",
       "    border-style: none;\n",
       "}\n",
       ".lbl.cnul {\n",
       "    font-size: xx-small;\n",
       "}\n",
       ".lbl.c0 {\n",
       "    font-size: small;\n",
       "}\n",
       ".lbl.c1 {\n",
       "    font-size: small;\n",
       "}\n",
       ".lbl.c2 {\n",
       "    font-size: medium;\n",
       "}\n",
       ".lbl.c3 {\n",
       "    font-size: medium;\n",
       "}\n",
       ".lbl.c4 {\n",
       "    font-size: large;\n",
       "}\n",
       ".occs, a:link.occs {\n",
       "    font-size: small;\n",
       "}\n",
       "\n",
       "/* PROVENANCE */\n",
       "\n",
       "div.prov {\n",
       "\tmargin: 2rem;\n",
       "\tpadding: 1rem;\n",
       "\tborder: 0.1rem solid var(--fog-rim);\n",
       "}\n",
       "div.pline {\n",
       "\tdisplay: flex;\n",
       "\tflex-flow: row nowrap;\n",
       "\tjustify-content: stretch;\n",
       "\talign-items: baseline;\n",
       "}\n",
       "div.p2line {\n",
       "\tmargin-left: 2em;\n",
       "\tdisplay: flex;\n",
       "\tflex-flow: row nowrap;\n",
       "\tjustify-content: stretch;\n",
       "\talign-items: baseline;\n",
       "}\n",
       "div.psline {\n",
       "\tdisplay: flex;\n",
       "\tflex-flow: row nowrap;\n",
       "\tjustify-content: stretch;\n",
       "\talign-items: baseline;\n",
       "\tbackground-color: var(--gold-mist-back);\n",
       "}\n",
       "div.pname {\n",
       "\tflex: 0 0 5rem;\n",
       "\tfont-weight: bold;\n",
       "}\n",
       "div.pval {\n",
       "    flex: 1 1 auto;\n",
       "}\n",
       "\n",
       ":root {\n",
       "\t--node:               hsla(120, 100%,  20%, 1.0  );\n",
       "\t--label:              hsla(  0, 100%,  20%, 1.0  );\n",
       "\t--section:            hsla(  0, 100%,  25%, 1.0  );\n",
       "\t--structure:          hsla(120, 100%,  25%, 1.0  );\n",
       "\t--features:           hsla(  0,   0%,  30%, 1.0  );\n",
       "  --text-color:         hsla( 60,  80%,  10%, 1.0  );\n",
       "  --lex-color:          hsla(220,  90%,  60%, 1.0  );\n",
       "  --meta-color:         hsla(  0,   0%,  90%, 0.7  );\n",
       "  --meta-width:         0.15rem;\n",
       "  --border-color-nul:   hsla(  0,   0%,  90%, 0.5  );\n",
       "  --border-color0:      hsla(  0,   0%,  90%, 0.9  );\n",
       "  --border-color1:      hsla(  0,   0%,  80%, 0.9  );\n",
       "  --border-color2:      hsla(  0,   0%,  70%, 0.9  );\n",
       "  --border-color3:      hsla(  0,   0%,  80%, 0.8  );\n",
       "  --border-color4:      hsla(  0,   0%,  60%, 0.9  );\n",
       "  --border-width-nul:   0.1rem;\n",
       "  --border-width0:      0.1rem;\n",
       "  --border-width1:      0.15rem;\n",
       "  --border-width2:      0.2rem;\n",
       "  --border-width3:      0.3rem;\n",
       "  --border-width4:      0.25rem;\n",
       "  --border-width-plain: 0.1rem;\n",
       "}\n",
       ".hl {\n",
       "  background-color: var(--hl-strong);\n",
       "}\n",
       "span.hl {\n",
       "\tbackground-color: var(--hl-strong);\n",
       "\tborder-width: 0;\n",
       "\tborder-radius: 0.1rem;\n",
       "\tborder-style: solid;\n",
       "}\n",
       "div.contnr.hl,div.lbl.hl {\n",
       "  background-color: var(--hl-strong);\n",
       "}\n",
       "div.contnr.hl {\n",
       "  border-color: var(--hl-rim) ! important;\n",
       "\tborder-width: 0.2rem ! important;\n",
       "}\n",
       "\n",
       "span.hlbx {\n",
       "\tborder-color: var(--hl-rim);\n",
       "\tborder-width: 0.2rem ! important;\n",
       "\tborder-style: solid;\n",
       "\tborder-radius: 0.3rem;\n",
       "  padding: 0.2rem;\n",
       "  margin: 0.2rem;\n",
       "}\n",
       "\n",
       "span.plain {\n",
       "  display: inline-block;\n",
       "  white-space: pre-wrap;\n",
       "}\n",
       "\n",
       ":root {\n",
       "\t--hl-strong:        hsla( 60, 100%,  70%, 0.9  );\n",
       "\t--hl-rim:           hsla( 55,  80%,  50%, 1.0  );\n",
       "}\n",
       ".pnum {\n",
       "    font-family: sans-serif;\n",
       "    font-size: small;\n",
       "    font-weight: bold;\n",
       "    color: #444444;\n",
       "}\n",
       ".op {\n",
       "    padding:  0.5em 0.1em 0.1em 0.1em;\n",
       "    margin: 0.8em 0.1em 0.1em 0.1em;\n",
       "    font-family: monospace;\n",
       "    font-size: x-large;\n",
       "    font-weight: bold;\n",
       "}\n",
       ".period {\n",
       "    font-family: monospace;\n",
       "    font-size: medium;\n",
       "    font-weight: bold;\n",
       "    color: #0000bb;\n",
       "}\n",
       ".comment {\n",
       "    color: #7777dd;\n",
       "    font-family: monospace;\n",
       "    font-size: small;\n",
       "}\n",
       ".operator {\n",
       "    color: #ff77ff;\n",
       "    font-size: large;\n",
       "}\n",
       "/* LANGUAGE: superscript and subscript */\n",
       "\n",
       "/* cluster */\n",
       ".det {\n",
       "    vertical-align: super;\n",
       "}\n",
       "/* cluster */\n",
       ".langalt {\n",
       "    vertical-align: sub;\n",
       "}\n",
       "/* REDACTIONAL: line over or under  */\n",
       "\n",
       "/* flag */\n",
       ".collated {\n",
       "    font-weight: bold;\n",
       "    text-decoration: underline;\n",
       "}\n",
       "/* cluster */\n",
       ".excised {\n",
       "    color: #dd0000;\n",
       "    text-decoration: line-through;\n",
       "}\n",
       "/* cluster */\n",
       ".supplied {\n",
       "    color: #0000ff;\n",
       "    text-decoration: overline;\n",
       "}\n",
       "/* flag */\n",
       ".remarkable {\n",
       "    font-weight: bold;\n",
       "    text-decoration: overline;\n",
       "}\n",
       "\n",
       "/* UNSURE: italic*/\n",
       "\n",
       "/* cluster */\n",
       ".uncertain {\n",
       "    font-style: italic\n",
       "}\n",
       "/* flag */\n",
       ".question {\n",
       "    font-weight: bold;\n",
       "    font-style: italic\n",
       "}\n",
       "\n",
       "/* BROKEN: text-shadow */\n",
       "\n",
       "/* cluster */\n",
       ".missing {\n",
       "    color: #999999;\n",
       "    text-shadow: #bbbbbb 1px 1px;\n",
       "}\n",
       "/* flag */\n",
       ".damage {\n",
       "    font-weight: bold;\n",
       "    color: #999999;\n",
       "    text-shadow: #bbbbbb 1px 1px;\n",
       "}\n",
       ".empty {\n",
       "  color: #ff0000;\n",
       "}\n",
       "\n",
       "</style>"
      ],
      "text/plain": [
       "<IPython.core.display.HTML object>"
      ]
     },
     "metadata": {},
     "output_type": "display_data"
    },
    {
     "data": {
      "text/html": [
       "<div><b>Text-Fabric API:</b> names <a target=\"_blank\" href=\"https://annotation.github.io/text-fabric/cheatsheet.html\" title=\"doc\">N F E L T S C TF</a> directly usable</div><hr>"
      ],
      "text/plain": [
       "<IPython.core.display.HTML object>"
      ]
     },
     "metadata": {},
     "output_type": "display_data"
    }
   ],
   "source": [
    "A = use(\"oldbabylonian:clone\", checkout=\"clone\", hoist=globals())\n",
    "# A = use('oldbabylonian', hoist=globals())"
   ]
  },
  {
   "cell_type": "markdown",
   "metadata": {},
   "source": [
    "# i-na + ...-?im\n",
    "\n",
    "We look for word pairs, of which the first is `i-na` and the second ends in a sign whose reading ends in `im`."
   ]
  },
  {
   "cell_type": "code",
   "execution_count": 3,
   "metadata": {},
   "outputs": [],
   "source": [
    "query = \"\"\"\n",
    "line\n",
    "  word\n",
    "    =: sign reading=i\n",
    "    <: sign reading=na\n",
    "    :=\n",
    "  <: word\n",
    "    := sign reading~im$\n",
    "\"\"\""
   ]
  },
  {
   "cell_type": "markdown",
   "metadata": {},
   "source": [
    "Explanation of the expression in the last line `reading~im$`.\n",
    "\n",
    "We do not say:\n",
    "> `reading` equals `im`\n",
    "\n",
    "but\n",
    "\n",
    "> `reading` **matches** `im$`\n",
    "\n",
    "Matching means that the reading is matched against a pattern, also known as a *regular expression*.\n",
    "\n",
    "This regular expression means: it should contain the substring `im` at the end. The `$` matches the end of the string.\n",
    "\n",
    "You can use any legal regular expression that Python recognizes.\n",
    "\n",
    "For a reference, consult the\n",
    "[Python documentation](https://docs.python.org/3/library/re.html#module-re)\n",
    "of regular expressions."
   ]
  },
  {
   "cell_type": "code",
   "execution_count": 4,
   "metadata": {},
   "outputs": [
    {
     "name": "stdout",
     "output_type": "stream",
     "text": [
      "  0.72s 307 results\n"
     ]
    }
   ],
   "source": [
    "results = A.search(query)"
   ]
  },
  {
   "cell_type": "code",
   "execution_count": 5,
   "metadata": {},
   "outputs": [
    {
     "data": {
      "text/html": [
       "<table><tr class=\"tf ltr\"><th class=\"tf ltr\">n</th><th class=\"tf ltr\">p</th><th class=\"tf ltr\">line</th><th class=\"tf\">word</th><th class=\"tf\">sign</th><th class=\"tf\">sign</th><th class=\"tf\">word</th><th class=\"tf\">sign</th></tr>\n",
       "<tr class=\"tf ltr\"><td class=\"tf ltr\">1</td><td class=\"tf ltr\"><span class=\"section ltr\"><a target=\"_blank\" href=\"https://cdli.ucla.edu/search/search_results.php?SearchMode=Text&amp;ObjectID=P509375\" title=\"Show this document on CDLI\" sec=\"P509375 reverse:9\">P509375 reverse:9</a></span></td><td class=\"tf ltr\"><div class=\"\"><span class=\"plain   hlbx\" ><span class=\"plain   hl\" ><span class=\"txto\">i-</span></span><span class=\"plain   hl\" ><span class=\"txto\">na </span></span></span><span class=\"plain   hlbx\" ><span class=\"txto\">la-</span><span class=\"txto\">hi-</span><span class=\"txto\">a-</span><span class=\"plain   hl\" ><span class=\"txto\">nim</span></span></span></div></td><td class=\"tf ltr\"><div class=\"\"><span class=\"plain   hlbx\" ><span class=\"plain   hl\" ><span class=\"txto\">i-</span></span><span class=\"plain   hl\" ><span class=\"txto\">na </span></span></span></div></td><td class=\"tf ltr\"><div class=\"\"><span class=\"plain   hl\" ><span class=\"txto\">i-</span></span></div></td><td class=\"tf ltr\"><div class=\"\"><span class=\"plain   hl\" ><span class=\"txto\">na </span></span></div></td><td class=\"tf ltr\"><div class=\"\"><span class=\"plain   hlbx\" ><span class=\"txto\">la-</span><span class=\"txto\">hi-</span><span class=\"txto\">a-</span><span class=\"plain   hl\" ><span class=\"txto\">nim</span></span></span></div></td><td class=\"tf ltr\"><div class=\"\"><span class=\"plain   hl\" ><span class=\"txto\">nim</span></span></div></td></tr>\n",
       "<tr class=\"tf ltr\"><td class=\"tf ltr\">2</td><td class=\"tf ltr\"><span class=\"section ltr\"><a target=\"_blank\" href=\"https://cdli.ucla.edu/search/search_results.php?SearchMode=Text&amp;ObjectID=P510527\" title=\"Show this document on CDLI\" sec=\"P510527 obverse:6\">P510527 obverse:6</a></span></td><td class=\"tf ltr\"><div class=\"\"><span class=\"txto\">{disz}</span><span class=\"txto\">ip-</span><span class=\"txto\">qu2-</span><span class=\"txto\">i3-</span><span class=\"txto\">li2-</span><span class=\"txto\">szu </span><span class=\"txto\">_di-</span><span class=\"txto\">ku5_ </span><span class=\"plain   hlbx\" ><span class=\"plain   hl\" ><span class=\"txto\">i-</span></span><span class=\"plain   hl\" ><span class=\"txto\">na </span></span></span><span class=\"plain   hlbx\" ><span class=\"txto\">pu-</span><span class=\"txto\">uh2-</span><span class=\"txto\">ri-</span><span class=\"plain   hl\" ><span class=\"txto\">im</span></span></span></div></td><td class=\"tf ltr\"><div class=\"\"><span class=\"plain   hlbx\" ><span class=\"plain   hl\" ><span class=\"txto\">i-</span></span><span class=\"plain   hl\" ><span class=\"txto\">na </span></span></span></div></td><td class=\"tf ltr\"><div class=\"\"><span class=\"plain   hl\" ><span class=\"txto\">i-</span></span></div></td><td class=\"tf ltr\"><div class=\"\"><span class=\"plain   hl\" ><span class=\"txto\">na </span></span></div></td><td class=\"tf ltr\"><div class=\"\"><span class=\"plain   hlbx\" ><span class=\"txto\">pu-</span><span class=\"txto\">uh2-</span><span class=\"txto\">ri-</span><span class=\"plain   hl\" ><span class=\"txto\">im</span></span></span></div></td><td class=\"tf ltr\"><div class=\"\"><span class=\"plain   hl\" ><span class=\"txto\">im</span></span></div></td></tr>\n",
       "<tr class=\"tf ltr\"><td class=\"tf ltr\">3</td><td class=\"tf ltr\"><span class=\"section ltr\"><a target=\"_blank\" href=\"https://cdli.ucla.edu/search/search_results.php?SearchMode=Text&amp;ObjectID=P510527\" title=\"Show this document on CDLI\" sec=\"P510527 obverse:15\">P510527 obverse:15</a></span></td><td class=\"tf ltr\"><div class=\"\"><span class=\"plain   hlbx\" ><span class=\"plain   hl\" ><span class=\"txto\">i-</span></span><span class=\"plain   hl\" ><span class=\"txto\">na </span></span></span><span class=\"plain   hlbx\" ><span class=\"txto\">pu-</span><span class=\"txto\">uh2-</span><span class=\"txto\">ri-</span><span class=\"plain   hl\" ><span class=\"txto\">im </span></span></span><span class=\"txto\">i-</span><span class=\"txto\">na </span><span class=\"txto\">da-</span><span class=\"txto\">ba-</span><span class=\"txto\">bi-</span><span class=\"txto\">im</span></div></td><td class=\"tf ltr\"><div class=\"\"><span class=\"plain   hlbx\" ><span class=\"plain   hl\" ><span class=\"txto\">i-</span></span><span class=\"plain   hl\" ><span class=\"txto\">na </span></span></span></div></td><td class=\"tf ltr\"><div class=\"\"><span class=\"plain   hl\" ><span class=\"txto\">i-</span></span></div></td><td class=\"tf ltr\"><div class=\"\"><span class=\"plain   hl\" ><span class=\"txto\">na </span></span></div></td><td class=\"tf ltr\"><div class=\"\"><span class=\"plain   hlbx\" ><span class=\"txto\">pu-</span><span class=\"txto\">uh2-</span><span class=\"txto\">ri-</span><span class=\"plain   hl\" ><span class=\"txto\">im </span></span></span></div></td><td class=\"tf ltr\"><div class=\"\"><span class=\"plain   hl\" ><span class=\"txto\">im </span></span></div></td></tr>\n",
       "<tr class=\"tf ltr\"><td class=\"tf ltr\">4</td><td class=\"tf ltr\"><span class=\"section ltr\"><a target=\"_blank\" href=\"https://cdli.ucla.edu/search/search_results.php?SearchMode=Text&amp;ObjectID=P510527\" title=\"Show this document on CDLI\" sec=\"P510527 obverse:15\">P510527 obverse:15</a></span></td><td class=\"tf ltr\"><div class=\"\"><span class=\"txto\">i-</span><span class=\"txto\">na </span><span class=\"txto\">pu-</span><span class=\"txto\">uh2-</span><span class=\"txto\">ri-</span><span class=\"txto\">im </span><span class=\"plain   hlbx\" ><span class=\"plain   hl\" ><span class=\"txto\">i-</span></span><span class=\"plain   hl\" ><span class=\"txto\">na </span></span></span><span class=\"plain   hlbx\" ><span class=\"txto\">da-</span><span class=\"txto\">ba-</span><span class=\"txto\">bi-</span><span class=\"plain   hl\" ><span class=\"txto\">im</span></span></span></div></td><td class=\"tf ltr\"><div class=\"\"><span class=\"plain   hlbx\" ><span class=\"plain   hl\" ><span class=\"txto\">i-</span></span><span class=\"plain   hl\" ><span class=\"txto\">na </span></span></span></div></td><td class=\"tf ltr\"><div class=\"\"><span class=\"plain   hl\" ><span class=\"txto\">i-</span></span></div></td><td class=\"tf ltr\"><div class=\"\"><span class=\"plain   hl\" ><span class=\"txto\">na </span></span></div></td><td class=\"tf ltr\"><div class=\"\"><span class=\"plain   hlbx\" ><span class=\"txto\">da-</span><span class=\"txto\">ba-</span><span class=\"txto\">bi-</span><span class=\"plain   hl\" ><span class=\"txto\">im</span></span></span></div></td><td class=\"tf ltr\"><div class=\"\"><span class=\"plain   hl\" ><span class=\"txto\">im</span></span></div></td></tr>\n",
       "<tr class=\"tf ltr\"><td class=\"tf ltr\">5</td><td class=\"tf ltr\"><span class=\"section ltr\"><a target=\"_blank\" href=\"https://cdli.ucla.edu/search/search_results.php?SearchMode=Text&amp;ObjectID=P510538\" title=\"Show this document on CDLI\" sec=\"P510538 obverse:10\">P510538 obverse:10</a></span></td><td class=\"tf ltr\"><div class=\"\"><span class=\"plain   hlbx\" ><span class=\"plain   hl\" ><span class=\"txto\">i-</span></span><span class=\"plain   hl\" ><span class=\"txto\">na </span></span></span><span class=\"plain   hlbx\" ><span class=\"txto\">tam-</span><span class=\"txto\">li-</span><span class=\"plain   hl\" ><span class=\"txto\">tim</span></span></span></div></td><td class=\"tf ltr\"><div class=\"\"><span class=\"plain   hlbx\" ><span class=\"plain   hl\" ><span class=\"txto\">i-</span></span><span class=\"plain   hl\" ><span class=\"txto\">na </span></span></span></div></td><td class=\"tf ltr\"><div class=\"\"><span class=\"plain   hl\" ><span class=\"txto\">i-</span></span></div></td><td class=\"tf ltr\"><div class=\"\"><span class=\"plain   hl\" ><span class=\"txto\">na </span></span></div></td><td class=\"tf ltr\"><div class=\"\"><span class=\"plain   hlbx\" ><span class=\"txto\">tam-</span><span class=\"txto\">li-</span><span class=\"plain   hl\" ><span class=\"txto\">tim</span></span></span></div></td><td class=\"tf ltr\"><div class=\"\"><span class=\"plain   hl\" ><span class=\"txto\">tim</span></span></div></td></tr>\n",
       "<tr class=\"tf ltr\"><td class=\"tf ltr\">6</td><td class=\"tf ltr\"><span class=\"section ltr\"><a target=\"_blank\" href=\"https://cdli.ucla.edu/search/search_results.php?SearchMode=Text&amp;ObjectID=P510562\" title=\"Show this document on CDLI\" sec=\"P510562 obverse:7\">P510562 obverse:7</a></span></td><td class=\"tf ltr\"><div class=\"\"><span class=\"plain   hlbx\" ><span class=\"plain   hl\" ><span class=\"txto\">i-</span></span><span class=\"plain   hl\" ><span class=\"txto\">na# </span></span></span><span class=\"plain   hlbx\" ><span class=\"txto\">pa-</span><span class=\"txto\">ni-</span><span class=\"plain   hl\" ><span class=\"txto\">tim </span></span></span><span class=\"txto\">a-</span><span class=\"txto\">na </span><span class=\"txto\">a-</span><span class=\"txto\">&lt;ma?>-</span><span class=\"txto\">az</span><span class=\"txto\">{ki} </span><span class=\"txto\">ta-</span><span class=\"txto\">al-</span><span class=\"txto\">li-</span><span class=\"txto\">ik-</span><span class=\"txto\">ma#</span></div></td><td class=\"tf ltr\"><div class=\"\"><span class=\"plain   hlbx\" ><span class=\"plain   hl\" ><span class=\"txto\">i-</span></span><span class=\"plain   hl\" ><span class=\"txto\">na# </span></span></span></div></td><td class=\"tf ltr\"><div class=\"\"><span class=\"plain   hl\" ><span class=\"txto\">i-</span></span></div></td><td class=\"tf ltr\"><div class=\"\"><span class=\"plain   hl\" ><span class=\"txto\">na# </span></span></div></td><td class=\"tf ltr\"><div class=\"\"><span class=\"plain   hlbx\" ><span class=\"txto\">pa-</span><span class=\"txto\">ni-</span><span class=\"plain   hl\" ><span class=\"txto\">tim </span></span></span></div></td><td class=\"tf ltr\"><div class=\"\"><span class=\"plain   hl\" ><span class=\"txto\">tim </span></span></div></td></tr>\n",
       "<tr class=\"tf ltr\"><td class=\"tf ltr\">7</td><td class=\"tf ltr\"><span class=\"section ltr\"><a target=\"_blank\" href=\"https://cdli.ucla.edu/search/search_results.php?SearchMode=Text&amp;ObjectID=P510567\" title=\"Show this document on CDLI\" sec=\"P510567 reverse:7\">P510567 reverse:7</a></span></td><td class=\"tf ltr\"><div class=\"\"><span class=\"plain   hlbx\" ><span class=\"plain   hl\" ><span class=\"txto\">[i-</span></span><span class=\"plain   hl\" ><span class=\"txto\">na] </span></span></span><span class=\"plain   hlbx\" ><span class=\"txto\">e-</span><span class=\"txto\">bu-</span><span class=\"txto\">ri-</span><span class=\"plain   hl\" ><span class=\"txto\">im</span></span></span></div></td><td class=\"tf ltr\"><div class=\"\"><span class=\"plain   hlbx\" ><span class=\"plain   hl\" ><span class=\"txto\">[i-</span></span><span class=\"plain   hl\" ><span class=\"txto\">na] </span></span></span></div></td><td class=\"tf ltr\"><div class=\"\"><span class=\"plain   hl\" ><span class=\"txto\">[i-</span></span></div></td><td class=\"tf ltr\"><div class=\"\"><span class=\"plain   hl\" ><span class=\"txto\">na] </span></span></div></td><td class=\"tf ltr\"><div class=\"\"><span class=\"plain   hlbx\" ><span class=\"txto\">e-</span><span class=\"txto\">bu-</span><span class=\"txto\">ri-</span><span class=\"plain   hl\" ><span class=\"txto\">im</span></span></span></div></td><td class=\"tf ltr\"><div class=\"\"><span class=\"plain   hl\" ><span class=\"txto\">im</span></span></div></td></tr>\n",
       "<tr class=\"tf ltr\"><td class=\"tf ltr\">8</td><td class=\"tf ltr\"><span class=\"section ltr\"><a target=\"_blank\" href=\"https://cdli.ucla.edu/search/search_results.php?SearchMode=Text&amp;ObjectID=P510571\" title=\"Show this document on CDLI\" sec=\"P510571 reverse:13\">P510571 reverse:13</a></span></td><td class=\"tf ltr\"><div class=\"\"><span class=\"plain   hlbx\" ><span class=\"plain   hl\" ><span class=\"txto\">i-</span></span><span class=\"plain   hl\" ><span class=\"txto\">na </span></span></span><span class=\"plain   hlbx\" ><span class=\"txto\">an-</span><span class=\"txto\">ni-</span><span class=\"plain   hl\" ><span class=\"txto\">tim </span></span></span><span class=\"txto\">at-</span><span class=\"txto\">hu-</span><span class=\"txto\">&lt;ut>-</span><span class=\"txto\">ka#</span></div></td><td class=\"tf ltr\"><div class=\"\"><span class=\"plain   hlbx\" ><span class=\"plain   hl\" ><span class=\"txto\">i-</span></span><span class=\"plain   hl\" ><span class=\"txto\">na </span></span></span></div></td><td class=\"tf ltr\"><div class=\"\"><span class=\"plain   hl\" ><span class=\"txto\">i-</span></span></div></td><td class=\"tf ltr\"><div class=\"\"><span class=\"plain   hl\" ><span class=\"txto\">na </span></span></div></td><td class=\"tf ltr\"><div class=\"\"><span class=\"plain   hlbx\" ><span class=\"txto\">an-</span><span class=\"txto\">ni-</span><span class=\"plain   hl\" ><span class=\"txto\">tim </span></span></span></div></td><td class=\"tf ltr\"><div class=\"\"><span class=\"plain   hl\" ><span class=\"txto\">tim </span></span></div></td></tr>\n",
       "<tr class=\"tf ltr\"><td class=\"tf ltr\">9</td><td class=\"tf ltr\"><span class=\"section ltr\"><a target=\"_blank\" href=\"https://cdli.ucla.edu/search/search_results.php?SearchMode=Text&amp;ObjectID=P510574\" title=\"Show this document on CDLI\" sec=\"P510574 obverse:8\">P510574 obverse:8</a></span></td><td class=\"tf ltr\"><div class=\"\"><span class=\"txto\">tup-</span><span class=\"txto\">pi2 </span><span class=\"plain   hlbx\" ><span class=\"plain   hl\" ><span class=\"txto\">i-</span></span><span class=\"plain   hl\" ><span class=\"txto\">na </span></span></span><span class=\"plain   hlbx\" ><span class=\"txto\">a-</span><span class=\"txto\">ma-</span><span class=\"txto\">ri-</span><span class=\"plain   hl\" ><span class=\"txto\">im</span></span></span></div></td><td class=\"tf ltr\"><div class=\"\"><span class=\"plain   hlbx\" ><span class=\"plain   hl\" ><span class=\"txto\">i-</span></span><span class=\"plain   hl\" ><span class=\"txto\">na </span></span></span></div></td><td class=\"tf ltr\"><div class=\"\"><span class=\"plain   hl\" ><span class=\"txto\">i-</span></span></div></td><td class=\"tf ltr\"><div class=\"\"><span class=\"plain   hl\" ><span class=\"txto\">na </span></span></div></td><td class=\"tf ltr\"><div class=\"\"><span class=\"plain   hlbx\" ><span class=\"txto\">a-</span><span class=\"txto\">ma-</span><span class=\"txto\">ri-</span><span class=\"plain   hl\" ><span class=\"txto\">im</span></span></span></div></td><td class=\"tf ltr\"><div class=\"\"><span class=\"plain   hl\" ><span class=\"txto\">im</span></span></div></td></tr>\n",
       "<tr class=\"tf ltr\"><td class=\"tf ltr\">10</td><td class=\"tf ltr\"><span class=\"section ltr\"><a target=\"_blank\" href=\"https://cdli.ucla.edu/search/search_results.php?SearchMode=Text&amp;ObjectID=P510575\" title=\"Show this document on CDLI\" sec=\"P510575 obverse:11\">P510575 obverse:11</a></span></td><td class=\"tf ltr\"><div class=\"\"><span class=\"plain   hlbx\" ><span class=\"plain   hl\" ><span class=\"txto\">[i]-</span></span><span class=\"plain   hl\" ><span class=\"txto\">na# </span></span></span><span class=\"plain   hlbx\" ><span class=\"txto\">qa-</span><span class=\"plain   hl\" ><span class=\"txto\">tim </span></span></span><span class=\"txto\">ta-</span><span class=\"txto\">ki-</span><span class=\"txto\">il-</span><span class=\"txto\">tim</span></div></td><td class=\"tf ltr\"><div class=\"\"><span class=\"plain   hlbx\" ><span class=\"plain   hl\" ><span class=\"txto\">[i]-</span></span><span class=\"plain   hl\" ><span class=\"txto\">na# </span></span></span></div></td><td class=\"tf ltr\"><div class=\"\"><span class=\"plain   hl\" ><span class=\"txto\">[i]-</span></span></div></td><td class=\"tf ltr\"><div class=\"\"><span class=\"plain   hl\" ><span class=\"txto\">na# </span></span></div></td><td class=\"tf ltr\"><div class=\"\"><span class=\"plain   hlbx\" ><span class=\"txto\">qa-</span><span class=\"plain   hl\" ><span class=\"txto\">tim </span></span></span></div></td><td class=\"tf ltr\"><div class=\"\"><span class=\"plain   hl\" ><span class=\"txto\">tim </span></span></div></td></tr></table>"
      ],
      "text/plain": [
       "<IPython.core.display.HTML object>"
      ]
     },
     "metadata": {},
     "output_type": "display_data"
    }
   ],
   "source": [
    "A.table(results, end=10)"
   ]
  },
  {
   "cell_type": "markdown",
   "metadata": {},
   "source": [
    "Let's vary a bit on this theme. Suppose we want to tighten the criterion that the last sign of the last word\n",
    "ends in `im`. Suppose we want it to be `tim` or `nim`. We can express that as follows:"
   ]
  },
  {
   "cell_type": "code",
   "execution_count": 6,
   "metadata": {},
   "outputs": [],
   "source": [
    "query = \"\"\"\n",
    "line\n",
    "  word\n",
    "    =: sign reading=i\n",
    "    <: sign reading=na\n",
    "    :=\n",
    "  <: word\n",
    "    := sign reading~^[nt]im$\n",
    "\"\"\""
   ]
  },
  {
   "cell_type": "markdown",
   "metadata": {},
   "source": [
    "Explanation: `^` matches the start of the reading. So the pattern `[nt]im` must cover the whole reading.\n",
    "`[nt]` means: either `n` or `t`. In general, `[` *characters* `]` is a choice between the *characters*.\n",
    "You can also say things like `[A-Z0-9]`, which matches any upper case latin letter or a digit."
   ]
  },
  {
   "cell_type": "code",
   "execution_count": 7,
   "metadata": {},
   "outputs": [
    {
     "name": "stdout",
     "output_type": "stream",
     "text": [
      "  0.75s 120 results\n"
     ]
    }
   ],
   "source": [
    "results = A.search(query)"
   ]
  },
  {
   "cell_type": "code",
   "execution_count": 8,
   "metadata": {},
   "outputs": [
    {
     "data": {
      "text/html": [
       "<table><tr class=\"tf ltr\"><th class=\"tf ltr\">n</th><th class=\"tf ltr\">p</th><th class=\"tf ltr\">line</th><th class=\"tf\">word</th><th class=\"tf\">sign</th><th class=\"tf\">sign</th><th class=\"tf\">word</th><th class=\"tf\">sign</th></tr>\n",
       "<tr class=\"tf ltr\"><td class=\"tf ltr\">1</td><td class=\"tf ltr\"><span class=\"section ltr\"><a target=\"_blank\" href=\"https://cdli.ucla.edu/search/search_results.php?SearchMode=Text&amp;ObjectID=P509375\" title=\"Show this document on CDLI\" sec=\"P509375 reverse:9\">P509375 reverse:9</a></span></td><td class=\"tf ltr\"><div class=\"\"><span class=\"plain   hlbx\" ><span class=\"plain   hl\" ><span class=\"txto\">i-</span></span><span class=\"plain   hl\" ><span class=\"txto\">na </span></span></span><span class=\"plain   hlbx\" ><span class=\"txto\">la-</span><span class=\"txto\">hi-</span><span class=\"txto\">a-</span><span class=\"plain   hl\" ><span class=\"txto\">nim</span></span></span></div></td><td class=\"tf ltr\"><div class=\"\"><span class=\"plain   hlbx\" ><span class=\"plain   hl\" ><span class=\"txto\">i-</span></span><span class=\"plain   hl\" ><span class=\"txto\">na </span></span></span></div></td><td class=\"tf ltr\"><div class=\"\"><span class=\"plain   hl\" ><span class=\"txto\">i-</span></span></div></td><td class=\"tf ltr\"><div class=\"\"><span class=\"plain   hl\" ><span class=\"txto\">na </span></span></div></td><td class=\"tf ltr\"><div class=\"\"><span class=\"plain   hlbx\" ><span class=\"txto\">la-</span><span class=\"txto\">hi-</span><span class=\"txto\">a-</span><span class=\"plain   hl\" ><span class=\"txto\">nim</span></span></span></div></td><td class=\"tf ltr\"><div class=\"\"><span class=\"plain   hl\" ><span class=\"txto\">nim</span></span></div></td></tr>\n",
       "<tr class=\"tf ltr\"><td class=\"tf ltr\">2</td><td class=\"tf ltr\"><span class=\"section ltr\"><a target=\"_blank\" href=\"https://cdli.ucla.edu/search/search_results.php?SearchMode=Text&amp;ObjectID=P510538\" title=\"Show this document on CDLI\" sec=\"P510538 obverse:10\">P510538 obverse:10</a></span></td><td class=\"tf ltr\"><div class=\"\"><span class=\"plain   hlbx\" ><span class=\"plain   hl\" ><span class=\"txto\">i-</span></span><span class=\"plain   hl\" ><span class=\"txto\">na </span></span></span><span class=\"plain   hlbx\" ><span class=\"txto\">tam-</span><span class=\"txto\">li-</span><span class=\"plain   hl\" ><span class=\"txto\">tim</span></span></span></div></td><td class=\"tf ltr\"><div class=\"\"><span class=\"plain   hlbx\" ><span class=\"plain   hl\" ><span class=\"txto\">i-</span></span><span class=\"plain   hl\" ><span class=\"txto\">na </span></span></span></div></td><td class=\"tf ltr\"><div class=\"\"><span class=\"plain   hl\" ><span class=\"txto\">i-</span></span></div></td><td class=\"tf ltr\"><div class=\"\"><span class=\"plain   hl\" ><span class=\"txto\">na </span></span></div></td><td class=\"tf ltr\"><div class=\"\"><span class=\"plain   hlbx\" ><span class=\"txto\">tam-</span><span class=\"txto\">li-</span><span class=\"plain   hl\" ><span class=\"txto\">tim</span></span></span></div></td><td class=\"tf ltr\"><div class=\"\"><span class=\"plain   hl\" ><span class=\"txto\">tim</span></span></div></td></tr>\n",
       "<tr class=\"tf ltr\"><td class=\"tf ltr\">3</td><td class=\"tf ltr\"><span class=\"section ltr\"><a target=\"_blank\" href=\"https://cdli.ucla.edu/search/search_results.php?SearchMode=Text&amp;ObjectID=P510562\" title=\"Show this document on CDLI\" sec=\"P510562 obverse:7\">P510562 obverse:7</a></span></td><td class=\"tf ltr\"><div class=\"\"><span class=\"plain   hlbx\" ><span class=\"plain   hl\" ><span class=\"txto\">i-</span></span><span class=\"plain   hl\" ><span class=\"txto\">na# </span></span></span><span class=\"plain   hlbx\" ><span class=\"txto\">pa-</span><span class=\"txto\">ni-</span><span class=\"plain   hl\" ><span class=\"txto\">tim </span></span></span><span class=\"txto\">a-</span><span class=\"txto\">na </span><span class=\"txto\">a-</span><span class=\"txto\">&lt;ma?>-</span><span class=\"txto\">az</span><span class=\"txto\">{ki} </span><span class=\"txto\">ta-</span><span class=\"txto\">al-</span><span class=\"txto\">li-</span><span class=\"txto\">ik-</span><span class=\"txto\">ma#</span></div></td><td class=\"tf ltr\"><div class=\"\"><span class=\"plain   hlbx\" ><span class=\"plain   hl\" ><span class=\"txto\">i-</span></span><span class=\"plain   hl\" ><span class=\"txto\">na# </span></span></span></div></td><td class=\"tf ltr\"><div class=\"\"><span class=\"plain   hl\" ><span class=\"txto\">i-</span></span></div></td><td class=\"tf ltr\"><div class=\"\"><span class=\"plain   hl\" ><span class=\"txto\">na# </span></span></div></td><td class=\"tf ltr\"><div class=\"\"><span class=\"plain   hlbx\" ><span class=\"txto\">pa-</span><span class=\"txto\">ni-</span><span class=\"plain   hl\" ><span class=\"txto\">tim </span></span></span></div></td><td class=\"tf ltr\"><div class=\"\"><span class=\"plain   hl\" ><span class=\"txto\">tim </span></span></div></td></tr>\n",
       "<tr class=\"tf ltr\"><td class=\"tf ltr\">4</td><td class=\"tf ltr\"><span class=\"section ltr\"><a target=\"_blank\" href=\"https://cdli.ucla.edu/search/search_results.php?SearchMode=Text&amp;ObjectID=P510571\" title=\"Show this document on CDLI\" sec=\"P510571 reverse:13\">P510571 reverse:13</a></span></td><td class=\"tf ltr\"><div class=\"\"><span class=\"plain   hlbx\" ><span class=\"plain   hl\" ><span class=\"txto\">i-</span></span><span class=\"plain   hl\" ><span class=\"txto\">na </span></span></span><span class=\"plain   hlbx\" ><span class=\"txto\">an-</span><span class=\"txto\">ni-</span><span class=\"plain   hl\" ><span class=\"txto\">tim </span></span></span><span class=\"txto\">at-</span><span class=\"txto\">hu-</span><span class=\"txto\">&lt;ut>-</span><span class=\"txto\">ka#</span></div></td><td class=\"tf ltr\"><div class=\"\"><span class=\"plain   hlbx\" ><span class=\"plain   hl\" ><span class=\"txto\">i-</span></span><span class=\"plain   hl\" ><span class=\"txto\">na </span></span></span></div></td><td class=\"tf ltr\"><div class=\"\"><span class=\"plain   hl\" ><span class=\"txto\">i-</span></span></div></td><td class=\"tf ltr\"><div class=\"\"><span class=\"plain   hl\" ><span class=\"txto\">na </span></span></div></td><td class=\"tf ltr\"><div class=\"\"><span class=\"plain   hlbx\" ><span class=\"txto\">an-</span><span class=\"txto\">ni-</span><span class=\"plain   hl\" ><span class=\"txto\">tim </span></span></span></div></td><td class=\"tf ltr\"><div class=\"\"><span class=\"plain   hl\" ><span class=\"txto\">tim </span></span></div></td></tr>\n",
       "<tr class=\"tf ltr\"><td class=\"tf ltr\">5</td><td class=\"tf ltr\"><span class=\"section ltr\"><a target=\"_blank\" href=\"https://cdli.ucla.edu/search/search_results.php?SearchMode=Text&amp;ObjectID=P510575\" title=\"Show this document on CDLI\" sec=\"P510575 obverse:11\">P510575 obverse:11</a></span></td><td class=\"tf ltr\"><div class=\"\"><span class=\"plain   hlbx\" ><span class=\"plain   hl\" ><span class=\"txto\">[i]-</span></span><span class=\"plain   hl\" ><span class=\"txto\">na# </span></span></span><span class=\"plain   hlbx\" ><span class=\"txto\">qa-</span><span class=\"plain   hl\" ><span class=\"txto\">tim </span></span></span><span class=\"txto\">ta-</span><span class=\"txto\">ki-</span><span class=\"txto\">il-</span><span class=\"txto\">tim</span></div></td><td class=\"tf ltr\"><div class=\"\"><span class=\"plain   hlbx\" ><span class=\"plain   hl\" ><span class=\"txto\">[i]-</span></span><span class=\"plain   hl\" ><span class=\"txto\">na# </span></span></span></div></td><td class=\"tf ltr\"><div class=\"\"><span class=\"plain   hl\" ><span class=\"txto\">[i]-</span></span></div></td><td class=\"tf ltr\"><div class=\"\"><span class=\"plain   hl\" ><span class=\"txto\">na# </span></span></div></td><td class=\"tf ltr\"><div class=\"\"><span class=\"plain   hlbx\" ><span class=\"txto\">qa-</span><span class=\"plain   hl\" ><span class=\"txto\">tim </span></span></span></div></td><td class=\"tf ltr\"><div class=\"\"><span class=\"plain   hl\" ><span class=\"txto\">tim </span></span></div></td></tr>\n",
       "<tr class=\"tf ltr\"><td class=\"tf ltr\">6</td><td class=\"tf ltr\"><span class=\"section ltr\"><a target=\"_blank\" href=\"https://cdli.ucla.edu/search/search_results.php?SearchMode=Text&amp;ObjectID=P510593\" title=\"Show this document on CDLI\" sec=\"P510593 obverse:8\">P510593 obverse:8</a></span></td><td class=\"tf ltr\"><div class=\"\"><span class=\"plain   hlbx\" ><span class=\"plain   hl\" ><span class=\"txto\">i-</span></span><span class=\"plain   hl\" ><span class=\"txto\">na </span></span></span><span class=\"plain   hlbx\" ><span class=\"txto\">pa-</span><span class=\"txto\">ni-</span><span class=\"plain   hl\" ><span class=\"txto\">tim </span></span></span><span class=\"txto\">i-</span><span class=\"txto\">nu-</span><span class=\"txto\">ma </span><span class=\"txto\">a-</span><span class=\"txto\">na </span><span class=\"txto\">tam-</span><span class=\"txto\">li-</span><span class=\"txto\">tim </span><span class=\"txto\">a-</span><span class=\"txto\">na </span><span class=\"txto\">e2-</span><span class=\"txto\">duru5-</span><span class=\"txto\">bi2-</span><span class=\"txto\">sa3</span><span class=\"txto\">{ki#}</span></div></td><td class=\"tf ltr\"><div class=\"\"><span class=\"plain   hlbx\" ><span class=\"plain   hl\" ><span class=\"txto\">i-</span></span><span class=\"plain   hl\" ><span class=\"txto\">na </span></span></span></div></td><td class=\"tf ltr\"><div class=\"\"><span class=\"plain   hl\" ><span class=\"txto\">i-</span></span></div></td><td class=\"tf ltr\"><div class=\"\"><span class=\"plain   hl\" ><span class=\"txto\">na </span></span></div></td><td class=\"tf ltr\"><div class=\"\"><span class=\"plain   hlbx\" ><span class=\"txto\">pa-</span><span class=\"txto\">ni-</span><span class=\"plain   hl\" ><span class=\"txto\">tim </span></span></span></div></td><td class=\"tf ltr\"><div class=\"\"><span class=\"plain   hl\" ><span class=\"txto\">tim </span></span></div></td></tr>\n",
       "<tr class=\"tf ltr\"><td class=\"tf ltr\">7</td><td class=\"tf ltr\"><span class=\"section ltr\"><a target=\"_blank\" href=\"https://cdli.ucla.edu/search/search_results.php?SearchMode=Text&amp;ObjectID=P510643\" title=\"Show this document on CDLI\" sec=\"P510643 reverse:6\">P510643 reverse:6</a></span></td><td class=\"tf ltr\"><div class=\"\"><span class=\"plain   hlbx\" ><span class=\"plain   hl\" ><span class=\"txto\">i-</span></span><span class=\"plain   hl\" ><span class=\"txto\">na </span></span></span><span class=\"plain   hlbx\" ><span class=\"txto\">an-</span><span class=\"txto\">ni-</span><span class=\"plain   hl\" ><span class=\"txto\">tim </span></span></span><span class=\"txto\">ta-</span><span class=\"txto\">ka-</span><span class=\"txto\">li </span><span class=\"txto\">ta-</span><span class=\"txto\">ma-</span><span class=\"txto\">ar</span></div></td><td class=\"tf ltr\"><div class=\"\"><span class=\"plain   hlbx\" ><span class=\"plain   hl\" ><span class=\"txto\">i-</span></span><span class=\"plain   hl\" ><span class=\"txto\">na </span></span></span></div></td><td class=\"tf ltr\"><div class=\"\"><span class=\"plain   hl\" ><span class=\"txto\">i-</span></span></div></td><td class=\"tf ltr\"><div class=\"\"><span class=\"plain   hl\" ><span class=\"txto\">na </span></span></div></td><td class=\"tf ltr\"><div class=\"\"><span class=\"plain   hlbx\" ><span class=\"txto\">an-</span><span class=\"txto\">ni-</span><span class=\"plain   hl\" ><span class=\"txto\">tim </span></span></span></div></td><td class=\"tf ltr\"><div class=\"\"><span class=\"plain   hl\" ><span class=\"txto\">tim </span></span></div></td></tr>\n",
       "<tr class=\"tf ltr\"><td class=\"tf ltr\">8</td><td class=\"tf ltr\"><span class=\"section ltr\"><a target=\"_blank\" href=\"https://cdli.ucla.edu/search/search_results.php?SearchMode=Text&amp;ObjectID=P510659\" title=\"Show this document on CDLI\" sec=\"P510659 reverse:10'\">P510659 reverse:10'</a></span></td><td class=\"tf ltr\"><div class=\"\"><span class=\"plain   hlbx\" ><span class=\"plain   hl\" ><span class=\"txto\">i-</span></span><span class=\"plain   hl\" ><span class=\"txto\">na </span></span></span><span class=\"plain   hlbx\" ><span class=\"txto\">an-</span><span class=\"txto\">ni-</span><span class=\"plain   hl\" ><span class=\"txto\">tim </span></span></span><span class=\"txto\">at#-</span><span class=\"txto\">[hu-</span><span class=\"txto\">ut-</span><span class=\"txto\">ka]</span></div></td><td class=\"tf ltr\"><div class=\"\"><span class=\"plain   hlbx\" ><span class=\"plain   hl\" ><span class=\"txto\">i-</span></span><span class=\"plain   hl\" ><span class=\"txto\">na </span></span></span></div></td><td class=\"tf ltr\"><div class=\"\"><span class=\"plain   hl\" ><span class=\"txto\">i-</span></span></div></td><td class=\"tf ltr\"><div class=\"\"><span class=\"plain   hl\" ><span class=\"txto\">na </span></span></div></td><td class=\"tf ltr\"><div class=\"\"><span class=\"plain   hlbx\" ><span class=\"txto\">an-</span><span class=\"txto\">ni-</span><span class=\"plain   hl\" ><span class=\"txto\">tim </span></span></span></div></td><td class=\"tf ltr\"><div class=\"\"><span class=\"plain   hl\" ><span class=\"txto\">tim </span></span></div></td></tr>\n",
       "<tr class=\"tf ltr\"><td class=\"tf ltr\">9</td><td class=\"tf ltr\"><span class=\"section ltr\"><a target=\"_blank\" href=\"https://cdli.ucla.edu/search/search_results.php?SearchMode=Text&amp;ObjectID=P510698\" title=\"Show this document on CDLI\" sec=\"P510698 obverse:11\">P510698 obverse:11</a></span></td><td class=\"tf ltr\"><div class=\"\"><span class=\"txto\">szum-</span><span class=\"txto\">ma </span><span class=\"plain   hlbx\" ><span class=\"plain   hl\" ><span class=\"txto\">i-</span></span><span class=\"plain   hl\" ><span class=\"txto\">na </span></span></span><span class=\"plain   hlbx\" ><span class=\"txto\">ki-</span><span class=\"plain   hl\" ><span class=\"txto\">tim </span></span></span><span class=\"txto\">a-</span><span class=\"txto\">bi</span></div></td><td class=\"tf ltr\"><div class=\"\"><span class=\"plain   hlbx\" ><span class=\"plain   hl\" ><span class=\"txto\">i-</span></span><span class=\"plain   hl\" ><span class=\"txto\">na </span></span></span></div></td><td class=\"tf ltr\"><div class=\"\"><span class=\"plain   hl\" ><span class=\"txto\">i-</span></span></div></td><td class=\"tf ltr\"><div class=\"\"><span class=\"plain   hl\" ><span class=\"txto\">na </span></span></div></td><td class=\"tf ltr\"><div class=\"\"><span class=\"plain   hlbx\" ><span class=\"txto\">ki-</span><span class=\"plain   hl\" ><span class=\"txto\">tim </span></span></span></div></td><td class=\"tf ltr\"><div class=\"\"><span class=\"plain   hl\" ><span class=\"txto\">tim </span></span></div></td></tr>\n",
       "<tr class=\"tf ltr\"><td class=\"tf ltr\">10</td><td class=\"tf ltr\"><span class=\"section ltr\"><a target=\"_blank\" href=\"https://cdli.ucla.edu/search/search_results.php?SearchMode=Text&amp;ObjectID=P510698\" title=\"Show this document on CDLI\" sec=\"P510698 obverse:13\">P510698 obverse:13</a></span></td><td class=\"tf ltr\"><div class=\"\"><span class=\"plain   hlbx\" ><span class=\"plain   hl\" ><span class=\"txto\">i-</span></span><span class=\"plain   hl\" ><span class=\"txto\">na </span></span></span><span class=\"plain   hlbx\" ><span class=\"txto\">an-</span><span class=\"txto\">ni-</span><span class=\"plain   hl\" ><span class=\"txto\">tim </span></span></span><span class=\"txto\">et,-</span><span class=\"txto\">ra-</span><span class=\"txto\">an-</span><span class=\"txto\">ni-</span><span class=\"txto\">i-</span><span class=\"txto\">ma</span></div></td><td class=\"tf ltr\"><div class=\"\"><span class=\"plain   hlbx\" ><span class=\"plain   hl\" ><span class=\"txto\">i-</span></span><span class=\"plain   hl\" ><span class=\"txto\">na </span></span></span></div></td><td class=\"tf ltr\"><div class=\"\"><span class=\"plain   hl\" ><span class=\"txto\">i-</span></span></div></td><td class=\"tf ltr\"><div class=\"\"><span class=\"plain   hl\" ><span class=\"txto\">na </span></span></div></td><td class=\"tf ltr\"><div class=\"\"><span class=\"plain   hlbx\" ><span class=\"txto\">an-</span><span class=\"txto\">ni-</span><span class=\"plain   hl\" ><span class=\"txto\">tim </span></span></span></div></td><td class=\"tf ltr\"><div class=\"\"><span class=\"plain   hl\" ><span class=\"txto\">tim </span></span></div></td></tr></table>"
      ],
      "text/plain": [
       "<IPython.core.display.HTML object>"
      ]
     },
     "metadata": {},
     "output_type": "display_data"
    }
   ],
   "source": [
    "A.table(results, end=10)"
   ]
  },
  {
   "cell_type": "markdown",
   "metadata": {},
   "source": [
    "What if we wanted a reading that is `tim`, `nim` or `im`? We can say that as follows:"
   ]
  },
  {
   "cell_type": "code",
   "execution_count": 9,
   "metadata": {},
   "outputs": [],
   "source": [
    "query = \"\"\"\n",
    "line\n",
    "  word\n",
    "    =: sign reading=i\n",
    "    <: sign reading=na\n",
    "    :=\n",
    "  <: word\n",
    "    := sign reading~^[nt]?im$\n",
    "\"\"\""
   ]
  },
  {
   "cell_type": "markdown",
   "metadata": {},
   "source": [
    "Explanation: the `?` makes the preceding thing *optional*. The preceding thing here is `[nt]`."
   ]
  },
  {
   "cell_type": "code",
   "execution_count": 10,
   "metadata": {},
   "outputs": [
    {
     "name": "stdout",
     "output_type": "stream",
     "text": [
      "  0.74s 301 results\n"
     ]
    }
   ],
   "source": [
    "results = A.search(query)"
   ]
  },
  {
   "cell_type": "code",
   "execution_count": 11,
   "metadata": {},
   "outputs": [
    {
     "data": {
      "text/html": [
       "<table><tr class=\"tf ltr\"><th class=\"tf ltr\">n</th><th class=\"tf ltr\">p</th><th class=\"tf ltr\">line</th><th class=\"tf\">word</th><th class=\"tf\">sign</th><th class=\"tf\">sign</th><th class=\"tf\">word</th><th class=\"tf\">sign</th></tr>\n",
       "<tr class=\"tf ltr\"><td class=\"tf ltr\">1</td><td class=\"tf ltr\"><span class=\"section ltr\"><a target=\"_blank\" href=\"https://cdli.ucla.edu/search/search_results.php?SearchMode=Text&amp;ObjectID=P509375\" title=\"Show this document on CDLI\" sec=\"P509375 reverse:9\">P509375 reverse:9</a></span></td><td class=\"tf ltr\"><div class=\"\"><span class=\"plain   hlbx\" ><span class=\"plain   hl\" ><span class=\"txto\">i-</span></span><span class=\"plain   hl\" ><span class=\"txto\">na </span></span></span><span class=\"plain   hlbx\" ><span class=\"txto\">la-</span><span class=\"txto\">hi-</span><span class=\"txto\">a-</span><span class=\"plain   hl\" ><span class=\"txto\">nim</span></span></span></div></td><td class=\"tf ltr\"><div class=\"\"><span class=\"plain   hlbx\" ><span class=\"plain   hl\" ><span class=\"txto\">i-</span></span><span class=\"plain   hl\" ><span class=\"txto\">na </span></span></span></div></td><td class=\"tf ltr\"><div class=\"\"><span class=\"plain   hl\" ><span class=\"txto\">i-</span></span></div></td><td class=\"tf ltr\"><div class=\"\"><span class=\"plain   hl\" ><span class=\"txto\">na </span></span></div></td><td class=\"tf ltr\"><div class=\"\"><span class=\"plain   hlbx\" ><span class=\"txto\">la-</span><span class=\"txto\">hi-</span><span class=\"txto\">a-</span><span class=\"plain   hl\" ><span class=\"txto\">nim</span></span></span></div></td><td class=\"tf ltr\"><div class=\"\"><span class=\"plain   hl\" ><span class=\"txto\">nim</span></span></div></td></tr>\n",
       "<tr class=\"tf ltr\"><td class=\"tf ltr\">2</td><td class=\"tf ltr\"><span class=\"section ltr\"><a target=\"_blank\" href=\"https://cdli.ucla.edu/search/search_results.php?SearchMode=Text&amp;ObjectID=P510527\" title=\"Show this document on CDLI\" sec=\"P510527 obverse:6\">P510527 obverse:6</a></span></td><td class=\"tf ltr\"><div class=\"\"><span class=\"txto\">{disz}</span><span class=\"txto\">ip-</span><span class=\"txto\">qu2-</span><span class=\"txto\">i3-</span><span class=\"txto\">li2-</span><span class=\"txto\">szu </span><span class=\"txto\">_di-</span><span class=\"txto\">ku5_ </span><span class=\"plain   hlbx\" ><span class=\"plain   hl\" ><span class=\"txto\">i-</span></span><span class=\"plain   hl\" ><span class=\"txto\">na </span></span></span><span class=\"plain   hlbx\" ><span class=\"txto\">pu-</span><span class=\"txto\">uh2-</span><span class=\"txto\">ri-</span><span class=\"plain   hl\" ><span class=\"txto\">im</span></span></span></div></td><td class=\"tf ltr\"><div class=\"\"><span class=\"plain   hlbx\" ><span class=\"plain   hl\" ><span class=\"txto\">i-</span></span><span class=\"plain   hl\" ><span class=\"txto\">na </span></span></span></div></td><td class=\"tf ltr\"><div class=\"\"><span class=\"plain   hl\" ><span class=\"txto\">i-</span></span></div></td><td class=\"tf ltr\"><div class=\"\"><span class=\"plain   hl\" ><span class=\"txto\">na </span></span></div></td><td class=\"tf ltr\"><div class=\"\"><span class=\"plain   hlbx\" ><span class=\"txto\">pu-</span><span class=\"txto\">uh2-</span><span class=\"txto\">ri-</span><span class=\"plain   hl\" ><span class=\"txto\">im</span></span></span></div></td><td class=\"tf ltr\"><div class=\"\"><span class=\"plain   hl\" ><span class=\"txto\">im</span></span></div></td></tr>\n",
       "<tr class=\"tf ltr\"><td class=\"tf ltr\">3</td><td class=\"tf ltr\"><span class=\"section ltr\"><a target=\"_blank\" href=\"https://cdli.ucla.edu/search/search_results.php?SearchMode=Text&amp;ObjectID=P510527\" title=\"Show this document on CDLI\" sec=\"P510527 obverse:15\">P510527 obverse:15</a></span></td><td class=\"tf ltr\"><div class=\"\"><span class=\"plain   hlbx\" ><span class=\"plain   hl\" ><span class=\"txto\">i-</span></span><span class=\"plain   hl\" ><span class=\"txto\">na </span></span></span><span class=\"plain   hlbx\" ><span class=\"txto\">pu-</span><span class=\"txto\">uh2-</span><span class=\"txto\">ri-</span><span class=\"plain   hl\" ><span class=\"txto\">im </span></span></span><span class=\"txto\">i-</span><span class=\"txto\">na </span><span class=\"txto\">da-</span><span class=\"txto\">ba-</span><span class=\"txto\">bi-</span><span class=\"txto\">im</span></div></td><td class=\"tf ltr\"><div class=\"\"><span class=\"plain   hlbx\" ><span class=\"plain   hl\" ><span class=\"txto\">i-</span></span><span class=\"plain   hl\" ><span class=\"txto\">na </span></span></span></div></td><td class=\"tf ltr\"><div class=\"\"><span class=\"plain   hl\" ><span class=\"txto\">i-</span></span></div></td><td class=\"tf ltr\"><div class=\"\"><span class=\"plain   hl\" ><span class=\"txto\">na </span></span></div></td><td class=\"tf ltr\"><div class=\"\"><span class=\"plain   hlbx\" ><span class=\"txto\">pu-</span><span class=\"txto\">uh2-</span><span class=\"txto\">ri-</span><span class=\"plain   hl\" ><span class=\"txto\">im </span></span></span></div></td><td class=\"tf ltr\"><div class=\"\"><span class=\"plain   hl\" ><span class=\"txto\">im </span></span></div></td></tr>\n",
       "<tr class=\"tf ltr\"><td class=\"tf ltr\">4</td><td class=\"tf ltr\"><span class=\"section ltr\"><a target=\"_blank\" href=\"https://cdli.ucla.edu/search/search_results.php?SearchMode=Text&amp;ObjectID=P510527\" title=\"Show this document on CDLI\" sec=\"P510527 obverse:15\">P510527 obverse:15</a></span></td><td class=\"tf ltr\"><div class=\"\"><span class=\"txto\">i-</span><span class=\"txto\">na </span><span class=\"txto\">pu-</span><span class=\"txto\">uh2-</span><span class=\"txto\">ri-</span><span class=\"txto\">im </span><span class=\"plain   hlbx\" ><span class=\"plain   hl\" ><span class=\"txto\">i-</span></span><span class=\"plain   hl\" ><span class=\"txto\">na </span></span></span><span class=\"plain   hlbx\" ><span class=\"txto\">da-</span><span class=\"txto\">ba-</span><span class=\"txto\">bi-</span><span class=\"plain   hl\" ><span class=\"txto\">im</span></span></span></div></td><td class=\"tf ltr\"><div class=\"\"><span class=\"plain   hlbx\" ><span class=\"plain   hl\" ><span class=\"txto\">i-</span></span><span class=\"plain   hl\" ><span class=\"txto\">na </span></span></span></div></td><td class=\"tf ltr\"><div class=\"\"><span class=\"plain   hl\" ><span class=\"txto\">i-</span></span></div></td><td class=\"tf ltr\"><div class=\"\"><span class=\"plain   hl\" ><span class=\"txto\">na </span></span></div></td><td class=\"tf ltr\"><div class=\"\"><span class=\"plain   hlbx\" ><span class=\"txto\">da-</span><span class=\"txto\">ba-</span><span class=\"txto\">bi-</span><span class=\"plain   hl\" ><span class=\"txto\">im</span></span></span></div></td><td class=\"tf ltr\"><div class=\"\"><span class=\"plain   hl\" ><span class=\"txto\">im</span></span></div></td></tr>\n",
       "<tr class=\"tf ltr\"><td class=\"tf ltr\">5</td><td class=\"tf ltr\"><span class=\"section ltr\"><a target=\"_blank\" href=\"https://cdli.ucla.edu/search/search_results.php?SearchMode=Text&amp;ObjectID=P510538\" title=\"Show this document on CDLI\" sec=\"P510538 obverse:10\">P510538 obverse:10</a></span></td><td class=\"tf ltr\"><div class=\"\"><span class=\"plain   hlbx\" ><span class=\"plain   hl\" ><span class=\"txto\">i-</span></span><span class=\"plain   hl\" ><span class=\"txto\">na </span></span></span><span class=\"plain   hlbx\" ><span class=\"txto\">tam-</span><span class=\"txto\">li-</span><span class=\"plain   hl\" ><span class=\"txto\">tim</span></span></span></div></td><td class=\"tf ltr\"><div class=\"\"><span class=\"plain   hlbx\" ><span class=\"plain   hl\" ><span class=\"txto\">i-</span></span><span class=\"plain   hl\" ><span class=\"txto\">na </span></span></span></div></td><td class=\"tf ltr\"><div class=\"\"><span class=\"plain   hl\" ><span class=\"txto\">i-</span></span></div></td><td class=\"tf ltr\"><div class=\"\"><span class=\"plain   hl\" ><span class=\"txto\">na </span></span></div></td><td class=\"tf ltr\"><div class=\"\"><span class=\"plain   hlbx\" ><span class=\"txto\">tam-</span><span class=\"txto\">li-</span><span class=\"plain   hl\" ><span class=\"txto\">tim</span></span></span></div></td><td class=\"tf ltr\"><div class=\"\"><span class=\"plain   hl\" ><span class=\"txto\">tim</span></span></div></td></tr>\n",
       "<tr class=\"tf ltr\"><td class=\"tf ltr\">6</td><td class=\"tf ltr\"><span class=\"section ltr\"><a target=\"_blank\" href=\"https://cdli.ucla.edu/search/search_results.php?SearchMode=Text&amp;ObjectID=P510562\" title=\"Show this document on CDLI\" sec=\"P510562 obverse:7\">P510562 obverse:7</a></span></td><td class=\"tf ltr\"><div class=\"\"><span class=\"plain   hlbx\" ><span class=\"plain   hl\" ><span class=\"txto\">i-</span></span><span class=\"plain   hl\" ><span class=\"txto\">na# </span></span></span><span class=\"plain   hlbx\" ><span class=\"txto\">pa-</span><span class=\"txto\">ni-</span><span class=\"plain   hl\" ><span class=\"txto\">tim </span></span></span><span class=\"txto\">a-</span><span class=\"txto\">na </span><span class=\"txto\">a-</span><span class=\"txto\">&lt;ma?>-</span><span class=\"txto\">az</span><span class=\"txto\">{ki} </span><span class=\"txto\">ta-</span><span class=\"txto\">al-</span><span class=\"txto\">li-</span><span class=\"txto\">ik-</span><span class=\"txto\">ma#</span></div></td><td class=\"tf ltr\"><div class=\"\"><span class=\"plain   hlbx\" ><span class=\"plain   hl\" ><span class=\"txto\">i-</span></span><span class=\"plain   hl\" ><span class=\"txto\">na# </span></span></span></div></td><td class=\"tf ltr\"><div class=\"\"><span class=\"plain   hl\" ><span class=\"txto\">i-</span></span></div></td><td class=\"tf ltr\"><div class=\"\"><span class=\"plain   hl\" ><span class=\"txto\">na# </span></span></div></td><td class=\"tf ltr\"><div class=\"\"><span class=\"plain   hlbx\" ><span class=\"txto\">pa-</span><span class=\"txto\">ni-</span><span class=\"plain   hl\" ><span class=\"txto\">tim </span></span></span></div></td><td class=\"tf ltr\"><div class=\"\"><span class=\"plain   hl\" ><span class=\"txto\">tim </span></span></div></td></tr>\n",
       "<tr class=\"tf ltr\"><td class=\"tf ltr\">7</td><td class=\"tf ltr\"><span class=\"section ltr\"><a target=\"_blank\" href=\"https://cdli.ucla.edu/search/search_results.php?SearchMode=Text&amp;ObjectID=P510567\" title=\"Show this document on CDLI\" sec=\"P510567 reverse:7\">P510567 reverse:7</a></span></td><td class=\"tf ltr\"><div class=\"\"><span class=\"plain   hlbx\" ><span class=\"plain   hl\" ><span class=\"txto\">[i-</span></span><span class=\"plain   hl\" ><span class=\"txto\">na] </span></span></span><span class=\"plain   hlbx\" ><span class=\"txto\">e-</span><span class=\"txto\">bu-</span><span class=\"txto\">ri-</span><span class=\"plain   hl\" ><span class=\"txto\">im</span></span></span></div></td><td class=\"tf ltr\"><div class=\"\"><span class=\"plain   hlbx\" ><span class=\"plain   hl\" ><span class=\"txto\">[i-</span></span><span class=\"plain   hl\" ><span class=\"txto\">na] </span></span></span></div></td><td class=\"tf ltr\"><div class=\"\"><span class=\"plain   hl\" ><span class=\"txto\">[i-</span></span></div></td><td class=\"tf ltr\"><div class=\"\"><span class=\"plain   hl\" ><span class=\"txto\">na] </span></span></div></td><td class=\"tf ltr\"><div class=\"\"><span class=\"plain   hlbx\" ><span class=\"txto\">e-</span><span class=\"txto\">bu-</span><span class=\"txto\">ri-</span><span class=\"plain   hl\" ><span class=\"txto\">im</span></span></span></div></td><td class=\"tf ltr\"><div class=\"\"><span class=\"plain   hl\" ><span class=\"txto\">im</span></span></div></td></tr>\n",
       "<tr class=\"tf ltr\"><td class=\"tf ltr\">8</td><td class=\"tf ltr\"><span class=\"section ltr\"><a target=\"_blank\" href=\"https://cdli.ucla.edu/search/search_results.php?SearchMode=Text&amp;ObjectID=P510571\" title=\"Show this document on CDLI\" sec=\"P510571 reverse:13\">P510571 reverse:13</a></span></td><td class=\"tf ltr\"><div class=\"\"><span class=\"plain   hlbx\" ><span class=\"plain   hl\" ><span class=\"txto\">i-</span></span><span class=\"plain   hl\" ><span class=\"txto\">na </span></span></span><span class=\"plain   hlbx\" ><span class=\"txto\">an-</span><span class=\"txto\">ni-</span><span class=\"plain   hl\" ><span class=\"txto\">tim </span></span></span><span class=\"txto\">at-</span><span class=\"txto\">hu-</span><span class=\"txto\">&lt;ut>-</span><span class=\"txto\">ka#</span></div></td><td class=\"tf ltr\"><div class=\"\"><span class=\"plain   hlbx\" ><span class=\"plain   hl\" ><span class=\"txto\">i-</span></span><span class=\"plain   hl\" ><span class=\"txto\">na </span></span></span></div></td><td class=\"tf ltr\"><div class=\"\"><span class=\"plain   hl\" ><span class=\"txto\">i-</span></span></div></td><td class=\"tf ltr\"><div class=\"\"><span class=\"plain   hl\" ><span class=\"txto\">na </span></span></div></td><td class=\"tf ltr\"><div class=\"\"><span class=\"plain   hlbx\" ><span class=\"txto\">an-</span><span class=\"txto\">ni-</span><span class=\"plain   hl\" ><span class=\"txto\">tim </span></span></span></div></td><td class=\"tf ltr\"><div class=\"\"><span class=\"plain   hl\" ><span class=\"txto\">tim </span></span></div></td></tr>\n",
       "<tr class=\"tf ltr\"><td class=\"tf ltr\">9</td><td class=\"tf ltr\"><span class=\"section ltr\"><a target=\"_blank\" href=\"https://cdli.ucla.edu/search/search_results.php?SearchMode=Text&amp;ObjectID=P510574\" title=\"Show this document on CDLI\" sec=\"P510574 obverse:8\">P510574 obverse:8</a></span></td><td class=\"tf ltr\"><div class=\"\"><span class=\"txto\">tup-</span><span class=\"txto\">pi2 </span><span class=\"plain   hlbx\" ><span class=\"plain   hl\" ><span class=\"txto\">i-</span></span><span class=\"plain   hl\" ><span class=\"txto\">na </span></span></span><span class=\"plain   hlbx\" ><span class=\"txto\">a-</span><span class=\"txto\">ma-</span><span class=\"txto\">ri-</span><span class=\"plain   hl\" ><span class=\"txto\">im</span></span></span></div></td><td class=\"tf ltr\"><div class=\"\"><span class=\"plain   hlbx\" ><span class=\"plain   hl\" ><span class=\"txto\">i-</span></span><span class=\"plain   hl\" ><span class=\"txto\">na </span></span></span></div></td><td class=\"tf ltr\"><div class=\"\"><span class=\"plain   hl\" ><span class=\"txto\">i-</span></span></div></td><td class=\"tf ltr\"><div class=\"\"><span class=\"plain   hl\" ><span class=\"txto\">na </span></span></div></td><td class=\"tf ltr\"><div class=\"\"><span class=\"plain   hlbx\" ><span class=\"txto\">a-</span><span class=\"txto\">ma-</span><span class=\"txto\">ri-</span><span class=\"plain   hl\" ><span class=\"txto\">im</span></span></span></div></td><td class=\"tf ltr\"><div class=\"\"><span class=\"plain   hl\" ><span class=\"txto\">im</span></span></div></td></tr>\n",
       "<tr class=\"tf ltr\"><td class=\"tf ltr\">10</td><td class=\"tf ltr\"><span class=\"section ltr\"><a target=\"_blank\" href=\"https://cdli.ucla.edu/search/search_results.php?SearchMode=Text&amp;ObjectID=P510575\" title=\"Show this document on CDLI\" sec=\"P510575 obverse:11\">P510575 obverse:11</a></span></td><td class=\"tf ltr\"><div class=\"\"><span class=\"plain   hlbx\" ><span class=\"plain   hl\" ><span class=\"txto\">[i]-</span></span><span class=\"plain   hl\" ><span class=\"txto\">na# </span></span></span><span class=\"plain   hlbx\" ><span class=\"txto\">qa-</span><span class=\"plain   hl\" ><span class=\"txto\">tim </span></span></span><span class=\"txto\">ta-</span><span class=\"txto\">ki-</span><span class=\"txto\">il-</span><span class=\"txto\">tim</span></div></td><td class=\"tf ltr\"><div class=\"\"><span class=\"plain   hlbx\" ><span class=\"plain   hl\" ><span class=\"txto\">[i]-</span></span><span class=\"plain   hl\" ><span class=\"txto\">na# </span></span></span></div></td><td class=\"tf ltr\"><div class=\"\"><span class=\"plain   hl\" ><span class=\"txto\">[i]-</span></span></div></td><td class=\"tf ltr\"><div class=\"\"><span class=\"plain   hl\" ><span class=\"txto\">na# </span></span></div></td><td class=\"tf ltr\"><div class=\"\"><span class=\"plain   hlbx\" ><span class=\"txto\">qa-</span><span class=\"plain   hl\" ><span class=\"txto\">tim </span></span></span></div></td><td class=\"tf ltr\"><div class=\"\"><span class=\"plain   hl\" ><span class=\"txto\">tim </span></span></div></td></tr></table>"
      ],
      "text/plain": [
       "<IPython.core.display.HTML object>"
      ]
     },
     "metadata": {},
     "output_type": "display_data"
    }
   ],
   "source": [
    "A.table(results, end=10)"
   ]
  },
  {
   "cell_type": "markdown",
   "metadata": {},
   "source": [
    "If you have a few discrete options, you can also list the options and separate them with `|`.\n",
    "\n",
    "Let's obtain the same results with a different expression:"
   ]
  },
  {
   "cell_type": "code",
   "execution_count": 12,
   "metadata": {},
   "outputs": [],
   "source": [
    "query = \"\"\"\n",
    "line\n",
    "  word\n",
    "    =: sign reading=i\n",
    "    <: sign reading=na\n",
    "    :=\n",
    "  <: word\n",
    "    := sign reading~^(tim|nim|im)$\n",
    "\"\"\""
   ]
  },
  {
   "cell_type": "markdown",
   "metadata": {},
   "source": [
    "Caution: mind the brackets: we do not want\n",
    "\n",
    "> `^tim` or `nim` or `im$`\n",
    "\n",
    "but\n",
    "\n",
    "> `^`, then `tim` or `nim` or `im`, then `$`"
   ]
  },
  {
   "cell_type": "code",
   "execution_count": 13,
   "metadata": {},
   "outputs": [
    {
     "name": "stdout",
     "output_type": "stream",
     "text": [
      "  0.75s 301 results\n"
     ]
    }
   ],
   "source": [
    "results = A.search(query)"
   ]
  },
  {
   "cell_type": "code",
   "execution_count": 14,
   "metadata": {},
   "outputs": [
    {
     "data": {
      "text/html": [
       "<table><tr class=\"tf ltr\"><th class=\"tf ltr\">n</th><th class=\"tf ltr\">p</th><th class=\"tf ltr\">line</th><th class=\"tf\">word</th><th class=\"tf\">sign</th><th class=\"tf\">sign</th><th class=\"tf\">word</th><th class=\"tf\">sign</th></tr>\n",
       "<tr class=\"tf ltr\"><td class=\"tf ltr\">1</td><td class=\"tf ltr\"><span class=\"section ltr\"><a target=\"_blank\" href=\"https://cdli.ucla.edu/search/search_results.php?SearchMode=Text&amp;ObjectID=P509375\" title=\"Show this document on CDLI\" sec=\"P509375 reverse:9\">P509375 reverse:9</a></span></td><td class=\"tf ltr\"><div class=\"\"><span class=\"plain   hlbx\" ><span class=\"plain   hl\" ><span class=\"txto\">i-</span></span><span class=\"plain   hl\" ><span class=\"txto\">na </span></span></span><span class=\"plain   hlbx\" ><span class=\"txto\">la-</span><span class=\"txto\">hi-</span><span class=\"txto\">a-</span><span class=\"plain   hl\" ><span class=\"txto\">nim</span></span></span></div></td><td class=\"tf ltr\"><div class=\"\"><span class=\"plain   hlbx\" ><span class=\"plain   hl\" ><span class=\"txto\">i-</span></span><span class=\"plain   hl\" ><span class=\"txto\">na </span></span></span></div></td><td class=\"tf ltr\"><div class=\"\"><span class=\"plain   hl\" ><span class=\"txto\">i-</span></span></div></td><td class=\"tf ltr\"><div class=\"\"><span class=\"plain   hl\" ><span class=\"txto\">na </span></span></div></td><td class=\"tf ltr\"><div class=\"\"><span class=\"plain   hlbx\" ><span class=\"txto\">la-</span><span class=\"txto\">hi-</span><span class=\"txto\">a-</span><span class=\"plain   hl\" ><span class=\"txto\">nim</span></span></span></div></td><td class=\"tf ltr\"><div class=\"\"><span class=\"plain   hl\" ><span class=\"txto\">nim</span></span></div></td></tr>\n",
       "<tr class=\"tf ltr\"><td class=\"tf ltr\">2</td><td class=\"tf ltr\"><span class=\"section ltr\"><a target=\"_blank\" href=\"https://cdli.ucla.edu/search/search_results.php?SearchMode=Text&amp;ObjectID=P510527\" title=\"Show this document on CDLI\" sec=\"P510527 obverse:6\">P510527 obverse:6</a></span></td><td class=\"tf ltr\"><div class=\"\"><span class=\"txto\">{disz}</span><span class=\"txto\">ip-</span><span class=\"txto\">qu2-</span><span class=\"txto\">i3-</span><span class=\"txto\">li2-</span><span class=\"txto\">szu </span><span class=\"txto\">_di-</span><span class=\"txto\">ku5_ </span><span class=\"plain   hlbx\" ><span class=\"plain   hl\" ><span class=\"txto\">i-</span></span><span class=\"plain   hl\" ><span class=\"txto\">na </span></span></span><span class=\"plain   hlbx\" ><span class=\"txto\">pu-</span><span class=\"txto\">uh2-</span><span class=\"txto\">ri-</span><span class=\"plain   hl\" ><span class=\"txto\">im</span></span></span></div></td><td class=\"tf ltr\"><div class=\"\"><span class=\"plain   hlbx\" ><span class=\"plain   hl\" ><span class=\"txto\">i-</span></span><span class=\"plain   hl\" ><span class=\"txto\">na </span></span></span></div></td><td class=\"tf ltr\"><div class=\"\"><span class=\"plain   hl\" ><span class=\"txto\">i-</span></span></div></td><td class=\"tf ltr\"><div class=\"\"><span class=\"plain   hl\" ><span class=\"txto\">na </span></span></div></td><td class=\"tf ltr\"><div class=\"\"><span class=\"plain   hlbx\" ><span class=\"txto\">pu-</span><span class=\"txto\">uh2-</span><span class=\"txto\">ri-</span><span class=\"plain   hl\" ><span class=\"txto\">im</span></span></span></div></td><td class=\"tf ltr\"><div class=\"\"><span class=\"plain   hl\" ><span class=\"txto\">im</span></span></div></td></tr>\n",
       "<tr class=\"tf ltr\"><td class=\"tf ltr\">3</td><td class=\"tf ltr\"><span class=\"section ltr\"><a target=\"_blank\" href=\"https://cdli.ucla.edu/search/search_results.php?SearchMode=Text&amp;ObjectID=P510527\" title=\"Show this document on CDLI\" sec=\"P510527 obverse:15\">P510527 obverse:15</a></span></td><td class=\"tf ltr\"><div class=\"\"><span class=\"plain   hlbx\" ><span class=\"plain   hl\" ><span class=\"txto\">i-</span></span><span class=\"plain   hl\" ><span class=\"txto\">na </span></span></span><span class=\"plain   hlbx\" ><span class=\"txto\">pu-</span><span class=\"txto\">uh2-</span><span class=\"txto\">ri-</span><span class=\"plain   hl\" ><span class=\"txto\">im </span></span></span><span class=\"txto\">i-</span><span class=\"txto\">na </span><span class=\"txto\">da-</span><span class=\"txto\">ba-</span><span class=\"txto\">bi-</span><span class=\"txto\">im</span></div></td><td class=\"tf ltr\"><div class=\"\"><span class=\"plain   hlbx\" ><span class=\"plain   hl\" ><span class=\"txto\">i-</span></span><span class=\"plain   hl\" ><span class=\"txto\">na </span></span></span></div></td><td class=\"tf ltr\"><div class=\"\"><span class=\"plain   hl\" ><span class=\"txto\">i-</span></span></div></td><td class=\"tf ltr\"><div class=\"\"><span class=\"plain   hl\" ><span class=\"txto\">na </span></span></div></td><td class=\"tf ltr\"><div class=\"\"><span class=\"plain   hlbx\" ><span class=\"txto\">pu-</span><span class=\"txto\">uh2-</span><span class=\"txto\">ri-</span><span class=\"plain   hl\" ><span class=\"txto\">im </span></span></span></div></td><td class=\"tf ltr\"><div class=\"\"><span class=\"plain   hl\" ><span class=\"txto\">im </span></span></div></td></tr>\n",
       "<tr class=\"tf ltr\"><td class=\"tf ltr\">4</td><td class=\"tf ltr\"><span class=\"section ltr\"><a target=\"_blank\" href=\"https://cdli.ucla.edu/search/search_results.php?SearchMode=Text&amp;ObjectID=P510527\" title=\"Show this document on CDLI\" sec=\"P510527 obverse:15\">P510527 obverse:15</a></span></td><td class=\"tf ltr\"><div class=\"\"><span class=\"txto\">i-</span><span class=\"txto\">na </span><span class=\"txto\">pu-</span><span class=\"txto\">uh2-</span><span class=\"txto\">ri-</span><span class=\"txto\">im </span><span class=\"plain   hlbx\" ><span class=\"plain   hl\" ><span class=\"txto\">i-</span></span><span class=\"plain   hl\" ><span class=\"txto\">na </span></span></span><span class=\"plain   hlbx\" ><span class=\"txto\">da-</span><span class=\"txto\">ba-</span><span class=\"txto\">bi-</span><span class=\"plain   hl\" ><span class=\"txto\">im</span></span></span></div></td><td class=\"tf ltr\"><div class=\"\"><span class=\"plain   hlbx\" ><span class=\"plain   hl\" ><span class=\"txto\">i-</span></span><span class=\"plain   hl\" ><span class=\"txto\">na </span></span></span></div></td><td class=\"tf ltr\"><div class=\"\"><span class=\"plain   hl\" ><span class=\"txto\">i-</span></span></div></td><td class=\"tf ltr\"><div class=\"\"><span class=\"plain   hl\" ><span class=\"txto\">na </span></span></div></td><td class=\"tf ltr\"><div class=\"\"><span class=\"plain   hlbx\" ><span class=\"txto\">da-</span><span class=\"txto\">ba-</span><span class=\"txto\">bi-</span><span class=\"plain   hl\" ><span class=\"txto\">im</span></span></span></div></td><td class=\"tf ltr\"><div class=\"\"><span class=\"plain   hl\" ><span class=\"txto\">im</span></span></div></td></tr>\n",
       "<tr class=\"tf ltr\"><td class=\"tf ltr\">5</td><td class=\"tf ltr\"><span class=\"section ltr\"><a target=\"_blank\" href=\"https://cdli.ucla.edu/search/search_results.php?SearchMode=Text&amp;ObjectID=P510538\" title=\"Show this document on CDLI\" sec=\"P510538 obverse:10\">P510538 obverse:10</a></span></td><td class=\"tf ltr\"><div class=\"\"><span class=\"plain   hlbx\" ><span class=\"plain   hl\" ><span class=\"txto\">i-</span></span><span class=\"plain   hl\" ><span class=\"txto\">na </span></span></span><span class=\"plain   hlbx\" ><span class=\"txto\">tam-</span><span class=\"txto\">li-</span><span class=\"plain   hl\" ><span class=\"txto\">tim</span></span></span></div></td><td class=\"tf ltr\"><div class=\"\"><span class=\"plain   hlbx\" ><span class=\"plain   hl\" ><span class=\"txto\">i-</span></span><span class=\"plain   hl\" ><span class=\"txto\">na </span></span></span></div></td><td class=\"tf ltr\"><div class=\"\"><span class=\"plain   hl\" ><span class=\"txto\">i-</span></span></div></td><td class=\"tf ltr\"><div class=\"\"><span class=\"plain   hl\" ><span class=\"txto\">na </span></span></div></td><td class=\"tf ltr\"><div class=\"\"><span class=\"plain   hlbx\" ><span class=\"txto\">tam-</span><span class=\"txto\">li-</span><span class=\"plain   hl\" ><span class=\"txto\">tim</span></span></span></div></td><td class=\"tf ltr\"><div class=\"\"><span class=\"plain   hl\" ><span class=\"txto\">tim</span></span></div></td></tr>\n",
       "<tr class=\"tf ltr\"><td class=\"tf ltr\">6</td><td class=\"tf ltr\"><span class=\"section ltr\"><a target=\"_blank\" href=\"https://cdli.ucla.edu/search/search_results.php?SearchMode=Text&amp;ObjectID=P510562\" title=\"Show this document on CDLI\" sec=\"P510562 obverse:7\">P510562 obverse:7</a></span></td><td class=\"tf ltr\"><div class=\"\"><span class=\"plain   hlbx\" ><span class=\"plain   hl\" ><span class=\"txto\">i-</span></span><span class=\"plain   hl\" ><span class=\"txto\">na# </span></span></span><span class=\"plain   hlbx\" ><span class=\"txto\">pa-</span><span class=\"txto\">ni-</span><span class=\"plain   hl\" ><span class=\"txto\">tim </span></span></span><span class=\"txto\">a-</span><span class=\"txto\">na </span><span class=\"txto\">a-</span><span class=\"txto\">&lt;ma?>-</span><span class=\"txto\">az</span><span class=\"txto\">{ki} </span><span class=\"txto\">ta-</span><span class=\"txto\">al-</span><span class=\"txto\">li-</span><span class=\"txto\">ik-</span><span class=\"txto\">ma#</span></div></td><td class=\"tf ltr\"><div class=\"\"><span class=\"plain   hlbx\" ><span class=\"plain   hl\" ><span class=\"txto\">i-</span></span><span class=\"plain   hl\" ><span class=\"txto\">na# </span></span></span></div></td><td class=\"tf ltr\"><div class=\"\"><span class=\"plain   hl\" ><span class=\"txto\">i-</span></span></div></td><td class=\"tf ltr\"><div class=\"\"><span class=\"plain   hl\" ><span class=\"txto\">na# </span></span></div></td><td class=\"tf ltr\"><div class=\"\"><span class=\"plain   hlbx\" ><span class=\"txto\">pa-</span><span class=\"txto\">ni-</span><span class=\"plain   hl\" ><span class=\"txto\">tim </span></span></span></div></td><td class=\"tf ltr\"><div class=\"\"><span class=\"plain   hl\" ><span class=\"txto\">tim </span></span></div></td></tr>\n",
       "<tr class=\"tf ltr\"><td class=\"tf ltr\">7</td><td class=\"tf ltr\"><span class=\"section ltr\"><a target=\"_blank\" href=\"https://cdli.ucla.edu/search/search_results.php?SearchMode=Text&amp;ObjectID=P510567\" title=\"Show this document on CDLI\" sec=\"P510567 reverse:7\">P510567 reverse:7</a></span></td><td class=\"tf ltr\"><div class=\"\"><span class=\"plain   hlbx\" ><span class=\"plain   hl\" ><span class=\"txto\">[i-</span></span><span class=\"plain   hl\" ><span class=\"txto\">na] </span></span></span><span class=\"plain   hlbx\" ><span class=\"txto\">e-</span><span class=\"txto\">bu-</span><span class=\"txto\">ri-</span><span class=\"plain   hl\" ><span class=\"txto\">im</span></span></span></div></td><td class=\"tf ltr\"><div class=\"\"><span class=\"plain   hlbx\" ><span class=\"plain   hl\" ><span class=\"txto\">[i-</span></span><span class=\"plain   hl\" ><span class=\"txto\">na] </span></span></span></div></td><td class=\"tf ltr\"><div class=\"\"><span class=\"plain   hl\" ><span class=\"txto\">[i-</span></span></div></td><td class=\"tf ltr\"><div class=\"\"><span class=\"plain   hl\" ><span class=\"txto\">na] </span></span></div></td><td class=\"tf ltr\"><div class=\"\"><span class=\"plain   hlbx\" ><span class=\"txto\">e-</span><span class=\"txto\">bu-</span><span class=\"txto\">ri-</span><span class=\"plain   hl\" ><span class=\"txto\">im</span></span></span></div></td><td class=\"tf ltr\"><div class=\"\"><span class=\"plain   hl\" ><span class=\"txto\">im</span></span></div></td></tr>\n",
       "<tr class=\"tf ltr\"><td class=\"tf ltr\">8</td><td class=\"tf ltr\"><span class=\"section ltr\"><a target=\"_blank\" href=\"https://cdli.ucla.edu/search/search_results.php?SearchMode=Text&amp;ObjectID=P510571\" title=\"Show this document on CDLI\" sec=\"P510571 reverse:13\">P510571 reverse:13</a></span></td><td class=\"tf ltr\"><div class=\"\"><span class=\"plain   hlbx\" ><span class=\"plain   hl\" ><span class=\"txto\">i-</span></span><span class=\"plain   hl\" ><span class=\"txto\">na </span></span></span><span class=\"plain   hlbx\" ><span class=\"txto\">an-</span><span class=\"txto\">ni-</span><span class=\"plain   hl\" ><span class=\"txto\">tim </span></span></span><span class=\"txto\">at-</span><span class=\"txto\">hu-</span><span class=\"txto\">&lt;ut>-</span><span class=\"txto\">ka#</span></div></td><td class=\"tf ltr\"><div class=\"\"><span class=\"plain   hlbx\" ><span class=\"plain   hl\" ><span class=\"txto\">i-</span></span><span class=\"plain   hl\" ><span class=\"txto\">na </span></span></span></div></td><td class=\"tf ltr\"><div class=\"\"><span class=\"plain   hl\" ><span class=\"txto\">i-</span></span></div></td><td class=\"tf ltr\"><div class=\"\"><span class=\"plain   hl\" ><span class=\"txto\">na </span></span></div></td><td class=\"tf ltr\"><div class=\"\"><span class=\"plain   hlbx\" ><span class=\"txto\">an-</span><span class=\"txto\">ni-</span><span class=\"plain   hl\" ><span class=\"txto\">tim </span></span></span></div></td><td class=\"tf ltr\"><div class=\"\"><span class=\"plain   hl\" ><span class=\"txto\">tim </span></span></div></td></tr>\n",
       "<tr class=\"tf ltr\"><td class=\"tf ltr\">9</td><td class=\"tf ltr\"><span class=\"section ltr\"><a target=\"_blank\" href=\"https://cdli.ucla.edu/search/search_results.php?SearchMode=Text&amp;ObjectID=P510574\" title=\"Show this document on CDLI\" sec=\"P510574 obverse:8\">P510574 obverse:8</a></span></td><td class=\"tf ltr\"><div class=\"\"><span class=\"txto\">tup-</span><span class=\"txto\">pi2 </span><span class=\"plain   hlbx\" ><span class=\"plain   hl\" ><span class=\"txto\">i-</span></span><span class=\"plain   hl\" ><span class=\"txto\">na </span></span></span><span class=\"plain   hlbx\" ><span class=\"txto\">a-</span><span class=\"txto\">ma-</span><span class=\"txto\">ri-</span><span class=\"plain   hl\" ><span class=\"txto\">im</span></span></span></div></td><td class=\"tf ltr\"><div class=\"\"><span class=\"plain   hlbx\" ><span class=\"plain   hl\" ><span class=\"txto\">i-</span></span><span class=\"plain   hl\" ><span class=\"txto\">na </span></span></span></div></td><td class=\"tf ltr\"><div class=\"\"><span class=\"plain   hl\" ><span class=\"txto\">i-</span></span></div></td><td class=\"tf ltr\"><div class=\"\"><span class=\"plain   hl\" ><span class=\"txto\">na </span></span></div></td><td class=\"tf ltr\"><div class=\"\"><span class=\"plain   hlbx\" ><span class=\"txto\">a-</span><span class=\"txto\">ma-</span><span class=\"txto\">ri-</span><span class=\"plain   hl\" ><span class=\"txto\">im</span></span></span></div></td><td class=\"tf ltr\"><div class=\"\"><span class=\"plain   hl\" ><span class=\"txto\">im</span></span></div></td></tr>\n",
       "<tr class=\"tf ltr\"><td class=\"tf ltr\">10</td><td class=\"tf ltr\"><span class=\"section ltr\"><a target=\"_blank\" href=\"https://cdli.ucla.edu/search/search_results.php?SearchMode=Text&amp;ObjectID=P510575\" title=\"Show this document on CDLI\" sec=\"P510575 obverse:11\">P510575 obverse:11</a></span></td><td class=\"tf ltr\"><div class=\"\"><span class=\"plain   hlbx\" ><span class=\"plain   hl\" ><span class=\"txto\">[i]-</span></span><span class=\"plain   hl\" ><span class=\"txto\">na# </span></span></span><span class=\"plain   hlbx\" ><span class=\"txto\">qa-</span><span class=\"plain   hl\" ><span class=\"txto\">tim </span></span></span><span class=\"txto\">ta-</span><span class=\"txto\">ki-</span><span class=\"txto\">il-</span><span class=\"txto\">tim</span></div></td><td class=\"tf ltr\"><div class=\"\"><span class=\"plain   hlbx\" ><span class=\"plain   hl\" ><span class=\"txto\">[i]-</span></span><span class=\"plain   hl\" ><span class=\"txto\">na# </span></span></span></div></td><td class=\"tf ltr\"><div class=\"\"><span class=\"plain   hl\" ><span class=\"txto\">[i]-</span></span></div></td><td class=\"tf ltr\"><div class=\"\"><span class=\"plain   hl\" ><span class=\"txto\">na# </span></span></div></td><td class=\"tf ltr\"><div class=\"\"><span class=\"plain   hlbx\" ><span class=\"txto\">qa-</span><span class=\"plain   hl\" ><span class=\"txto\">tim </span></span></span></div></td><td class=\"tf ltr\"><div class=\"\"><span class=\"plain   hl\" ><span class=\"txto\">tim </span></span></div></td></tr></table>"
      ],
      "text/plain": [
       "<IPython.core.display.HTML object>"
      ]
     },
     "metadata": {},
     "output_type": "display_data"
    }
   ],
   "source": [
    "A.table(results, end=10)"
   ]
  },
  {
   "cell_type": "markdown",
   "metadata": {},
   "source": [
    "We have 6 results less than our original query.\n",
    "\n",
    "Can we find a template that searches exactly for the missing ones?"
   ]
  },
  {
   "cell_type": "code",
   "execution_count": 15,
   "metadata": {},
   "outputs": [],
   "source": [
    "query = \"\"\"\n",
    "line\n",
    "  word\n",
    "    =: sign reading=i\n",
    "    <: sign reading=na\n",
    "    :=\n",
    "  <: word\n",
    "    := sign reading~^[^nt]im$\n",
    "\"\"\""
   ]
  },
  {
   "cell_type": "markdown",
   "metadata": {},
   "source": [
    "Explanation: the `^` inside the square brackets means the negation of the characters listed.\n",
    "So here we say: we want anything **but** an `n` or a `t`.\n",
    "Note that we still want *anything*, so the case of a bare `im` will not match.\n",
    "\n",
    "So this yields precisely those cases that we found initially, minus the `nim`, `tim`, `im` cases."
   ]
  },
  {
   "cell_type": "code",
   "execution_count": 16,
   "metadata": {},
   "outputs": [
    {
     "name": "stdout",
     "output_type": "stream",
     "text": [
      "  0.71s 6 results\n"
     ]
    }
   ],
   "source": [
    "results = A.search(query)"
   ]
  },
  {
   "cell_type": "code",
   "execution_count": 17,
   "metadata": {},
   "outputs": [
    {
     "data": {
      "text/html": [
       "<table><tr class=\"tf ltr\"><th class=\"tf ltr\">n</th><th class=\"tf ltr\">p</th><th class=\"tf ltr\">line</th><th class=\"tf\">word</th><th class=\"tf\">sign</th><th class=\"tf\">sign</th><th class=\"tf\">word</th><th class=\"tf\">sign</th></tr>\n",
       "<tr class=\"tf ltr\"><td class=\"tf ltr\">1</td><td class=\"tf ltr\"><span class=\"section ltr\"><a target=\"_blank\" href=\"https://cdli.ucla.edu/search/search_results.php?SearchMode=Text&amp;ObjectID=P510596\" title=\"Show this document on CDLI\" sec=\"P510596 obverse:11\">P510596 obverse:11</a></span></td><td class=\"tf ltr\"><div class=\"\"><span class=\"txto\">ki#-</span><span class=\"txto\">ma </span><span class=\"txto\">ti-</span><span class=\"txto\">du-</span><span class=\"txto\">u2 </span><span class=\"plain   hlbx\" ><span class=\"plain   hl\" ><span class=\"txto\">i-</span></span><span class=\"plain   hl\" ><span class=\"txto\">na </span></span></span><span class=\"plain   hlbx\" ><span class=\"txto\">a-</span><span class=\"plain   hl\" ><span class=\"txto\">lim </span></span></span><span class=\"txto\">ma-</span><span class=\"txto\">ah-</span><span class=\"txto\">ri-</span><span class=\"txto\">ka</span></div></td><td class=\"tf ltr\"><div class=\"\"><span class=\"plain   hlbx\" ><span class=\"plain   hl\" ><span class=\"txto\">i-</span></span><span class=\"plain   hl\" ><span class=\"txto\">na </span></span></span></div></td><td class=\"tf ltr\"><div class=\"\"><span class=\"plain   hl\" ><span class=\"txto\">i-</span></span></div></td><td class=\"tf ltr\"><div class=\"\"><span class=\"plain   hl\" ><span class=\"txto\">na </span></span></div></td><td class=\"tf ltr\"><div class=\"\"><span class=\"plain   hlbx\" ><span class=\"txto\">a-</span><span class=\"plain   hl\" ><span class=\"txto\">lim </span></span></span></div></td><td class=\"tf ltr\"><div class=\"\"><span class=\"plain   hl\" ><span class=\"txto\">lim </span></span></div></td></tr>\n",
       "<tr class=\"tf ltr\"><td class=\"tf ltr\">2</td><td class=\"tf ltr\"><span class=\"section ltr\"><a target=\"_blank\" href=\"https://cdli.ucla.edu/search/search_results.php?SearchMode=Text&amp;ObjectID=P510608\" title=\"Show this document on CDLI\" sec=\"P510608 obverse:10\">P510608 obverse:10</a></span></td><td class=\"tf ltr\"><div class=\"\"><span class=\"txto\">u2-</span><span class=\"txto\">lu </span><span class=\"plain   hlbx\" ><span class=\"plain   hl\" ><span class=\"txto\">i-</span></span><span class=\"plain   hl\" ><span class=\"txto\">na </span></span></span><span class=\"plain   hlbx\" ><span class=\"txto\">a-</span><span class=\"plain   hl\" ><span class=\"txto\">lim </span></span></span><span class=\"txto\">e-</span><span class=\"txto\">ma </span><span class=\"txto\">i-</span><span class=\"txto\">ba-</span><span class=\"txto\">asz-</span><span class=\"txto\">szu#-</span><span class=\"txto\">u2</span></div></td><td class=\"tf ltr\"><div class=\"\"><span class=\"plain   hlbx\" ><span class=\"plain   hl\" ><span class=\"txto\">i-</span></span><span class=\"plain   hl\" ><span class=\"txto\">na </span></span></span></div></td><td class=\"tf ltr\"><div class=\"\"><span class=\"plain   hl\" ><span class=\"txto\">i-</span></span></div></td><td class=\"tf ltr\"><div class=\"\"><span class=\"plain   hl\" ><span class=\"txto\">na </span></span></div></td><td class=\"tf ltr\"><div class=\"\"><span class=\"plain   hlbx\" ><span class=\"txto\">a-</span><span class=\"plain   hl\" ><span class=\"txto\">lim </span></span></span></div></td><td class=\"tf ltr\"><div class=\"\"><span class=\"plain   hl\" ><span class=\"txto\">lim </span></span></div></td></tr>\n",
       "<tr class=\"tf ltr\"><td class=\"tf ltr\">3</td><td class=\"tf ltr\"><span class=\"section ltr\"><a target=\"_blank\" href=\"https://cdli.ucla.edu/search/search_results.php?SearchMode=Text&amp;ObjectID=P510784\" title=\"Show this document on CDLI\" sec=\"P510784 reverse:3\">P510784 reverse:3</a></span></td><td class=\"tf ltr\"><div class=\"\"><span class=\"txto\">ki-</span><span class=\"txto\">ma </span><span class=\"plain   hlbx\" ><span class=\"plain   hl\" ><span class=\"txto\">i-</span></span><span class=\"plain   hl\" ><span class=\"txto\">na </span></span></span><span class=\"plain   hlbx\" ><span class=\"txto\">a-</span><span class=\"plain   hl\" ><span class=\"txto\">lim </span></span></span><span class=\"txto\">te-</span><span class=\"txto\">&lt;esz>-</span><span class=\"txto\">te-</span><span class=\"txto\">ne2-</span><span class=\"txto\">em-</span><span class=\"txto\">mu</span></div></td><td class=\"tf ltr\"><div class=\"\"><span class=\"plain   hlbx\" ><span class=\"plain   hl\" ><span class=\"txto\">i-</span></span><span class=\"plain   hl\" ><span class=\"txto\">na </span></span></span></div></td><td class=\"tf ltr\"><div class=\"\"><span class=\"plain   hl\" ><span class=\"txto\">i-</span></span></div></td><td class=\"tf ltr\"><div class=\"\"><span class=\"plain   hl\" ><span class=\"txto\">na </span></span></div></td><td class=\"tf ltr\"><div class=\"\"><span class=\"plain   hlbx\" ><span class=\"txto\">a-</span><span class=\"plain   hl\" ><span class=\"txto\">lim </span></span></span></div></td><td class=\"tf ltr\"><div class=\"\"><span class=\"plain   hl\" ><span class=\"txto\">lim </span></span></div></td></tr>\n",
       "<tr class=\"tf ltr\"><td class=\"tf ltr\">4</td><td class=\"tf ltr\"><span class=\"section ltr\"><a target=\"_blank\" href=\"https://cdli.ucla.edu/search/search_results.php?SearchMode=Text&amp;ObjectID=P510837\" title=\"Show this document on CDLI\" sec=\"P510837 obverse:8\">P510837 obverse:8</a></span></td><td class=\"tf ltr\"><div class=\"\"><span class=\"txto\">{disz}</span><span class=\"txto\">{d}</span><span class=\"txto\">na-</span><span class=\"txto\">bi-</span><span class=\"txto\">um-</span><span class=\"txto\">ma-</span><span class=\"txto\">lik </span><span class=\"plain   hlbx\" ><span class=\"plain   hl\" ><span class=\"txto\">i-</span></span><span class=\"plain   hl\" ><span class=\"txto\">na# </span></span></span><span class=\"plain   hlbx\" ><span class=\"txto\">_a-</span><span class=\"txto\">sza3_-</span><span class=\"plain   hl\" ><span class=\"txto\">lim</span></span></span></div></td><td class=\"tf ltr\"><div class=\"\"><span class=\"plain   hlbx\" ><span class=\"plain   hl\" ><span class=\"txto\">i-</span></span><span class=\"plain   hl\" ><span class=\"txto\">na# </span></span></span></div></td><td class=\"tf ltr\"><div class=\"\"><span class=\"plain   hl\" ><span class=\"txto\">i-</span></span></div></td><td class=\"tf ltr\"><div class=\"\"><span class=\"plain   hl\" ><span class=\"txto\">na# </span></span></div></td><td class=\"tf ltr\"><div class=\"\"><span class=\"plain   hlbx\" ><span class=\"txto\">_a-</span><span class=\"txto\">sza3_-</span><span class=\"plain   hl\" ><span class=\"txto\">lim</span></span></span></div></td><td class=\"tf ltr\"><div class=\"\"><span class=\"plain   hl\" ><span class=\"txto\">lim</span></span></div></td></tr>\n",
       "<tr class=\"tf ltr\"><td class=\"tf ltr\">5</td><td class=\"tf ltr\"><span class=\"section ltr\"><a target=\"_blank\" href=\"https://cdli.ucla.edu/search/search_results.php?SearchMode=Text&amp;ObjectID=P313311\" title=\"Show this document on CDLI\" sec=\"P313311 reverse:10\">P313311 reverse:10</a></span></td><td class=\"tf ltr\"><div class=\"\"><span class=\"txto\">um-</span><span class=\"txto\">mi </span><span class=\"plain   hlbx\" ><span class=\"plain   hl\" ><span class=\"txto\">i-</span></span><span class=\"plain   hl\" ><span class=\"txto\">na </span></span></span><span class=\"plain   hlbx\" ><span class=\"txto\">a-</span><span class=\"plain   hl\" ><span class=\"txto\">lim </span></span></span><span class=\"txto\">is-</span><span class=\"txto\">su2-</span><span class=\"txto\">ha</span></div></td><td class=\"tf ltr\"><div class=\"\"><span class=\"plain   hlbx\" ><span class=\"plain   hl\" ><span class=\"txto\">i-</span></span><span class=\"plain   hl\" ><span class=\"txto\">na </span></span></span></div></td><td class=\"tf ltr\"><div class=\"\"><span class=\"plain   hl\" ><span class=\"txto\">i-</span></span></div></td><td class=\"tf ltr\"><div class=\"\"><span class=\"plain   hl\" ><span class=\"txto\">na </span></span></div></td><td class=\"tf ltr\"><div class=\"\"><span class=\"plain   hlbx\" ><span class=\"txto\">a-</span><span class=\"plain   hl\" ><span class=\"txto\">lim </span></span></span></div></td><td class=\"tf ltr\"><div class=\"\"><span class=\"plain   hl\" ><span class=\"txto\">lim </span></span></div></td></tr>\n",
       "<tr class=\"tf ltr\"><td class=\"tf ltr\">6</td><td class=\"tf ltr\"><span class=\"section ltr\"><a target=\"_blank\" href=\"https://cdli.ucla.edu/search/search_results.php?SearchMode=Text&amp;ObjectID=P275147\" title=\"Show this document on CDLI\" sec=\"P275147 obverse:6\">P275147 obverse:6</a></span></td><td class=\"tf ltr\"><div class=\"\"><span class=\"plain   hlbx\" ><span class=\"plain   hl\" ><span class=\"txto\">i-</span></span><span class=\"plain   hl\" ><span class=\"txto\">[na </span></span></span><span class=\"plain   hlbx\" ><span class=\"txto\">e-</span><span class=\"txto\">mu-</span><span class=\"txto\">ut]-</span><span class=\"txto\">ba-</span><span class=\"plain   hl\" ><span class=\"txto\">lim </span></span></span><span class=\"txto\">ka-</span><span class=\"txto\">li-</span><span class=\"txto\">a</span></div></td><td class=\"tf ltr\"><div class=\"\"><span class=\"plain   hlbx\" ><span class=\"plain   hl\" ><span class=\"txto\">i-</span></span><span class=\"plain   hl\" ><span class=\"txto\">[na </span></span></span></div></td><td class=\"tf ltr\"><div class=\"\"><span class=\"plain   hl\" ><span class=\"txto\">i-</span></span></div></td><td class=\"tf ltr\"><div class=\"\"><span class=\"plain   hl\" ><span class=\"txto\">[na </span></span></div></td><td class=\"tf ltr\"><div class=\"\"><span class=\"plain   hlbx\" ><span class=\"txto\">e-</span><span class=\"txto\">mu-</span><span class=\"txto\">ut]-</span><span class=\"txto\">ba-</span><span class=\"plain   hl\" ><span class=\"txto\">lim </span></span></span></div></td><td class=\"tf ltr\"><div class=\"\"><span class=\"plain   hl\" ><span class=\"txto\">lim </span></span></div></td></tr></table>"
      ],
      "text/plain": [
       "<IPython.core.display.HTML object>"
      ]
     },
     "metadata": {},
     "output_type": "display_data"
    }
   ],
   "source": [
    "A.table(results, end=10)"
   ]
  },
  {
   "cell_type": "markdown",
   "metadata": {},
   "source": [
    "There is an alternative way of matching words. Not by sign, but by using the feature `sym` on words."
   ]
  },
  {
   "cell_type": "code",
   "execution_count": 18,
   "metadata": {},
   "outputs": [],
   "source": [
    "query = \"\"\"\n",
    "line\n",
    "  word sym=i-na\n",
    "  <: word sym~im$\n",
    "\"\"\""
   ]
  },
  {
   "cell_type": "code",
   "execution_count": 19,
   "metadata": {},
   "outputs": [
    {
     "name": "stdout",
     "output_type": "stream",
     "text": [
      "  0.19s 306 results\n"
     ]
    }
   ],
   "source": [
    "results = A.search(query)"
   ]
  },
  {
   "cell_type": "code",
   "execution_count": 20,
   "metadata": {},
   "outputs": [
    {
     "data": {
      "text/html": [
       "<table><tr class=\"tf ltr\"><th class=\"tf ltr\">n</th><th class=\"tf ltr\">p</th><th class=\"tf ltr\">line</th><th class=\"tf\">word</th><th class=\"tf\">word</th></tr>\n",
       "<tr class=\"tf ltr\"><td class=\"tf ltr\">1</td><td class=\"tf ltr\"><span class=\"section ltr\"><a target=\"_blank\" href=\"https://cdli.ucla.edu/search/search_results.php?SearchMode=Text&amp;ObjectID=P509375\" title=\"Show this document on CDLI\" sec=\"P509375 reverse:9\">P509375 reverse:9</a></span></td><td class=\"tf ltr\"><div class=\"\"><span class=\"plain   hlbx\" ><span class=\"txto\">i-</span><span class=\"txto\">na </span></span><span class=\"plain   hlbx\" ><span class=\"txto\">la-</span><span class=\"txto\">hi-</span><span class=\"txto\">a-</span><span class=\"txto\">nim</span></span></div></td><td class=\"tf ltr\"><div class=\"\"><span class=\"plain   hlbx\" ><span class=\"txto\">i-</span><span class=\"txto\">na </span></span></div></td><td class=\"tf ltr\"><div class=\"\"><span class=\"plain   hlbx\" ><span class=\"txto\">la-</span><span class=\"txto\">hi-</span><span class=\"txto\">a-</span><span class=\"txto\">nim</span></span></div></td></tr>\n",
       "<tr class=\"tf ltr\"><td class=\"tf ltr\">2</td><td class=\"tf ltr\"><span class=\"section ltr\"><a target=\"_blank\" href=\"https://cdli.ucla.edu/search/search_results.php?SearchMode=Text&amp;ObjectID=P510527\" title=\"Show this document on CDLI\" sec=\"P510527 obverse:6\">P510527 obverse:6</a></span></td><td class=\"tf ltr\"><div class=\"\"><span class=\"txto\">{disz}</span><span class=\"txto\">ip-</span><span class=\"txto\">qu2-</span><span class=\"txto\">i3-</span><span class=\"txto\">li2-</span><span class=\"txto\">szu </span><span class=\"txto\">_di-</span><span class=\"txto\">ku5_ </span><span class=\"plain   hlbx\" ><span class=\"txto\">i-</span><span class=\"txto\">na </span></span><span class=\"plain   hlbx\" ><span class=\"txto\">pu-</span><span class=\"txto\">uh2-</span><span class=\"txto\">ri-</span><span class=\"txto\">im</span></span></div></td><td class=\"tf ltr\"><div class=\"\"><span class=\"plain   hlbx\" ><span class=\"txto\">i-</span><span class=\"txto\">na </span></span></div></td><td class=\"tf ltr\"><div class=\"\"><span class=\"plain   hlbx\" ><span class=\"txto\">pu-</span><span class=\"txto\">uh2-</span><span class=\"txto\">ri-</span><span class=\"txto\">im</span></span></div></td></tr>\n",
       "<tr class=\"tf ltr\"><td class=\"tf ltr\">3</td><td class=\"tf ltr\"><span class=\"section ltr\"><a target=\"_blank\" href=\"https://cdli.ucla.edu/search/search_results.php?SearchMode=Text&amp;ObjectID=P510527\" title=\"Show this document on CDLI\" sec=\"P510527 obverse:15\">P510527 obverse:15</a></span></td><td class=\"tf ltr\"><div class=\"\"><span class=\"plain   hlbx\" ><span class=\"txto\">i-</span><span class=\"txto\">na </span></span><span class=\"plain   hlbx\" ><span class=\"txto\">pu-</span><span class=\"txto\">uh2-</span><span class=\"txto\">ri-</span><span class=\"txto\">im </span></span><span class=\"txto\">i-</span><span class=\"txto\">na </span><span class=\"txto\">da-</span><span class=\"txto\">ba-</span><span class=\"txto\">bi-</span><span class=\"txto\">im</span></div></td><td class=\"tf ltr\"><div class=\"\"><span class=\"plain   hlbx\" ><span class=\"txto\">i-</span><span class=\"txto\">na </span></span></div></td><td class=\"tf ltr\"><div class=\"\"><span class=\"plain   hlbx\" ><span class=\"txto\">pu-</span><span class=\"txto\">uh2-</span><span class=\"txto\">ri-</span><span class=\"txto\">im </span></span></div></td></tr>\n",
       "<tr class=\"tf ltr\"><td class=\"tf ltr\">4</td><td class=\"tf ltr\"><span class=\"section ltr\"><a target=\"_blank\" href=\"https://cdli.ucla.edu/search/search_results.php?SearchMode=Text&amp;ObjectID=P510527\" title=\"Show this document on CDLI\" sec=\"P510527 obverse:15\">P510527 obverse:15</a></span></td><td class=\"tf ltr\"><div class=\"\"><span class=\"txto\">i-</span><span class=\"txto\">na </span><span class=\"txto\">pu-</span><span class=\"txto\">uh2-</span><span class=\"txto\">ri-</span><span class=\"txto\">im </span><span class=\"plain   hlbx\" ><span class=\"txto\">i-</span><span class=\"txto\">na </span></span><span class=\"plain   hlbx\" ><span class=\"txto\">da-</span><span class=\"txto\">ba-</span><span class=\"txto\">bi-</span><span class=\"txto\">im</span></span></div></td><td class=\"tf ltr\"><div class=\"\"><span class=\"plain   hlbx\" ><span class=\"txto\">i-</span><span class=\"txto\">na </span></span></div></td><td class=\"tf ltr\"><div class=\"\"><span class=\"plain   hlbx\" ><span class=\"txto\">da-</span><span class=\"txto\">ba-</span><span class=\"txto\">bi-</span><span class=\"txto\">im</span></span></div></td></tr>\n",
       "<tr class=\"tf ltr\"><td class=\"tf ltr\">5</td><td class=\"tf ltr\"><span class=\"section ltr\"><a target=\"_blank\" href=\"https://cdli.ucla.edu/search/search_results.php?SearchMode=Text&amp;ObjectID=P510538\" title=\"Show this document on CDLI\" sec=\"P510538 obverse:10\">P510538 obverse:10</a></span></td><td class=\"tf ltr\"><div class=\"\"><span class=\"plain   hlbx\" ><span class=\"txto\">i-</span><span class=\"txto\">na </span></span><span class=\"plain   hlbx\" ><span class=\"txto\">tam-</span><span class=\"txto\">li-</span><span class=\"txto\">tim</span></span></div></td><td class=\"tf ltr\"><div class=\"\"><span class=\"plain   hlbx\" ><span class=\"txto\">i-</span><span class=\"txto\">na </span></span></div></td><td class=\"tf ltr\"><div class=\"\"><span class=\"plain   hlbx\" ><span class=\"txto\">tam-</span><span class=\"txto\">li-</span><span class=\"txto\">tim</span></span></div></td></tr>\n",
       "<tr class=\"tf ltr\"><td class=\"tf ltr\">6</td><td class=\"tf ltr\"><span class=\"section ltr\"><a target=\"_blank\" href=\"https://cdli.ucla.edu/search/search_results.php?SearchMode=Text&amp;ObjectID=P510562\" title=\"Show this document on CDLI\" sec=\"P510562 obverse:7\">P510562 obverse:7</a></span></td><td class=\"tf ltr\"><div class=\"\"><span class=\"plain   hlbx\" ><span class=\"txto\">i-</span><span class=\"txto\">na# </span></span><span class=\"plain   hlbx\" ><span class=\"txto\">pa-</span><span class=\"txto\">ni-</span><span class=\"txto\">tim </span></span><span class=\"txto\">a-</span><span class=\"txto\">na </span><span class=\"txto\">a-</span><span class=\"txto\">&lt;ma?>-</span><span class=\"txto\">az</span><span class=\"txto\">{ki} </span><span class=\"txto\">ta-</span><span class=\"txto\">al-</span><span class=\"txto\">li-</span><span class=\"txto\">ik-</span><span class=\"txto\">ma#</span></div></td><td class=\"tf ltr\"><div class=\"\"><span class=\"plain   hlbx\" ><span class=\"txto\">i-</span><span class=\"txto\">na# </span></span></div></td><td class=\"tf ltr\"><div class=\"\"><span class=\"plain   hlbx\" ><span class=\"txto\">pa-</span><span class=\"txto\">ni-</span><span class=\"txto\">tim </span></span></div></td></tr>\n",
       "<tr class=\"tf ltr\"><td class=\"tf ltr\">7</td><td class=\"tf ltr\"><span class=\"section ltr\"><a target=\"_blank\" href=\"https://cdli.ucla.edu/search/search_results.php?SearchMode=Text&amp;ObjectID=P510567\" title=\"Show this document on CDLI\" sec=\"P510567 reverse:7\">P510567 reverse:7</a></span></td><td class=\"tf ltr\"><div class=\"\"><span class=\"plain   hlbx\" ><span class=\"txto\">[i-</span><span class=\"txto\">na] </span></span><span class=\"plain   hlbx\" ><span class=\"txto\">e-</span><span class=\"txto\">bu-</span><span class=\"txto\">ri-</span><span class=\"txto\">im</span></span></div></td><td class=\"tf ltr\"><div class=\"\"><span class=\"plain   hlbx\" ><span class=\"txto\">[i-</span><span class=\"txto\">na] </span></span></div></td><td class=\"tf ltr\"><div class=\"\"><span class=\"plain   hlbx\" ><span class=\"txto\">e-</span><span class=\"txto\">bu-</span><span class=\"txto\">ri-</span><span class=\"txto\">im</span></span></div></td></tr>\n",
       "<tr class=\"tf ltr\"><td class=\"tf ltr\">8</td><td class=\"tf ltr\"><span class=\"section ltr\"><a target=\"_blank\" href=\"https://cdli.ucla.edu/search/search_results.php?SearchMode=Text&amp;ObjectID=P510571\" title=\"Show this document on CDLI\" sec=\"P510571 reverse:13\">P510571 reverse:13</a></span></td><td class=\"tf ltr\"><div class=\"\"><span class=\"plain   hlbx\" ><span class=\"txto\">i-</span><span class=\"txto\">na </span></span><span class=\"plain   hlbx\" ><span class=\"txto\">an-</span><span class=\"txto\">ni-</span><span class=\"txto\">tim </span></span><span class=\"txto\">at-</span><span class=\"txto\">hu-</span><span class=\"txto\">&lt;ut>-</span><span class=\"txto\">ka#</span></div></td><td class=\"tf ltr\"><div class=\"\"><span class=\"plain   hlbx\" ><span class=\"txto\">i-</span><span class=\"txto\">na </span></span></div></td><td class=\"tf ltr\"><div class=\"\"><span class=\"plain   hlbx\" ><span class=\"txto\">an-</span><span class=\"txto\">ni-</span><span class=\"txto\">tim </span></span></div></td></tr>\n",
       "<tr class=\"tf ltr\"><td class=\"tf ltr\">9</td><td class=\"tf ltr\"><span class=\"section ltr\"><a target=\"_blank\" href=\"https://cdli.ucla.edu/search/search_results.php?SearchMode=Text&amp;ObjectID=P510574\" title=\"Show this document on CDLI\" sec=\"P510574 obverse:8\">P510574 obverse:8</a></span></td><td class=\"tf ltr\"><div class=\"\"><span class=\"txto\">tup-</span><span class=\"txto\">pi2 </span><span class=\"plain   hlbx\" ><span class=\"txto\">i-</span><span class=\"txto\">na </span></span><span class=\"plain   hlbx\" ><span class=\"txto\">a-</span><span class=\"txto\">ma-</span><span class=\"txto\">ri-</span><span class=\"txto\">im</span></span></div></td><td class=\"tf ltr\"><div class=\"\"><span class=\"plain   hlbx\" ><span class=\"txto\">i-</span><span class=\"txto\">na </span></span></div></td><td class=\"tf ltr\"><div class=\"\"><span class=\"plain   hlbx\" ><span class=\"txto\">a-</span><span class=\"txto\">ma-</span><span class=\"txto\">ri-</span><span class=\"txto\">im</span></span></div></td></tr>\n",
       "<tr class=\"tf ltr\"><td class=\"tf ltr\">10</td><td class=\"tf ltr\"><span class=\"section ltr\"><a target=\"_blank\" href=\"https://cdli.ucla.edu/search/search_results.php?SearchMode=Text&amp;ObjectID=P510575\" title=\"Show this document on CDLI\" sec=\"P510575 obverse:11\">P510575 obverse:11</a></span></td><td class=\"tf ltr\"><div class=\"\"><span class=\"plain   hlbx\" ><span class=\"txto\">[i]-</span><span class=\"txto\">na# </span></span><span class=\"plain   hlbx\" ><span class=\"txto\">qa-</span><span class=\"txto\">tim </span></span><span class=\"txto\">ta-</span><span class=\"txto\">ki-</span><span class=\"txto\">il-</span><span class=\"txto\">tim</span></div></td><td class=\"tf ltr\"><div class=\"\"><span class=\"plain   hlbx\" ><span class=\"txto\">[i]-</span><span class=\"txto\">na# </span></span></div></td><td class=\"tf ltr\"><div class=\"\"><span class=\"plain   hlbx\" ><span class=\"txto\">qa-</span><span class=\"txto\">tim </span></span></div></td></tr></table>"
      ],
      "text/plain": [
       "<IPython.core.display.HTML object>"
      ]
     },
     "metadata": {},
     "output_type": "display_data"
    }
   ],
   "source": [
    "A.table(results, end=10)"
   ]
  },
  {
   "cell_type": "markdown",
   "metadata": {},
   "source": [
    "It seems that we miss one result in this way. Let's find out which:"
   ]
  },
  {
   "cell_type": "code",
   "execution_count": 21,
   "metadata": {},
   "outputs": [],
   "source": [
    "query = \"\"\"\n",
    "line\n",
    "  word\n",
    "    =: sign reading=i\n",
    "    <: sign reading=na\n",
    "    :=\n",
    "  <: word sym~(?<!im)$\n",
    "    := sign reading~im$\n",
    "\"\"\""
   ]
  },
  {
   "cell_type": "markdown",
   "metadata": {},
   "source": [
    "Explanation: the piece `(?<!im)` is a negative look-behind assertion. It matches at a point that does not follow immediately on `im`.\n",
    "So we look for words whose sym feature does not end in `im`."
   ]
  },
  {
   "cell_type": "code",
   "execution_count": 22,
   "metadata": {},
   "outputs": [
    {
     "name": "stdout",
     "output_type": "stream",
     "text": [
      "  0.80s 1 result\n"
     ]
    }
   ],
   "source": [
    "results = A.search(query)"
   ]
  },
  {
   "cell_type": "markdown",
   "metadata": {},
   "source": [
    "That must be the culprit!"
   ]
  },
  {
   "cell_type": "code",
   "execution_count": 23,
   "metadata": {},
   "outputs": [
    {
     "data": {
      "text/html": [
       "<p><b>result</b> <i>1</i></p>"
      ],
      "text/plain": [
       "<IPython.core.display.HTML object>"
      ]
     },
     "metadata": {},
     "output_type": "display_data"
    },
    {
     "data": {
      "text/html": [
       "<div class=\"section \"><a target=\"_blank\" href=\"https://cdli.ucla.edu/search/search_results.php?SearchMode=Text&amp;ObjectID=P386474\" title=\"Show this document on CDLI\" sec=\"P386474 obverse:7\">P386474 obverse:7</a></div><div class=\" children\"><div class=\"contnr c3    \" ><div class=\"lbl c3  \" ><span class=\"nd\">line</span></div><div class=\"children hor wrap \"><div class=\"contnr c2 trm   \" ><div class=\"lbl c2 trm \" ><span class=\"nd\">word</span> <span class=\"txto\"><span class=\"plain   \" ><span class=\"txto\">tup-</span><span class=\"txto\">pi2 </span></span></span></div><div class='features'><span class=\"sym xft\" ><span class=\"f\">sym=</span>tup-pi2</span></div></div><div class=\"contnr c2 trm   hl\" ><div class=\"lbl c2 trm hl\" ><span class=\"nd\">word</span> <span class=\"txto\"><span class=\"plain   \" ><span class=\"plain   hl\" ><span class=\"txto\">i-</span></span><span class=\"plain   hl\" ><span class=\"txto\">na </span></span></span></span></div><div class='features'><span class=\"sym xft\" ><span class=\"f\">sym=</span>i-na</span></div></div><div class=\"contnr c2 trm   hl\" ><div class=\"lbl c2 trm hl\" ><span class=\"nd\">word</span> <span class=\"txto\"><span class=\"plain   \" ><span class=\"txto\">a-</span><span class=\"txto\">ma-</span><span class=\"txto\">ri-</span><span class=\"plain   hl\" ><span class=\"txto\">im!(SZI)</span></span></span></span></div><div class='features'><span class=\"sym xft\" ><span class=\"f\">sym=</span>a-ma-ri-im!SZI</span></div></div></div></div></div>"
      ],
      "text/plain": [
       "<IPython.core.display.HTML object>"
      ]
     },
     "metadata": {},
     "output_type": "display_data"
    }
   ],
   "source": [
    "A.show(results)"
   ]
  },
  {
   "cell_type": "markdown",
   "metadata": {},
   "source": [
    "Ah: the second word does end in `im` reading-wise, but not sym-wise, because the sym feature has `im!SZI`"
   ]
  },
  {
   "cell_type": "markdown",
   "metadata": {},
   "source": [
    "## Solution\n",
    "\n",
    "Let's quickly inspect all readings ending in `im`:"
   ]
  },
  {
   "cell_type": "code",
   "execution_count": 24,
   "metadata": {},
   "outputs": [
    {
     "data": {
      "text/plain": [
       "['dim',\n",
       " 'erim',\n",
       " 'gim',\n",
       " 'idim',\n",
       " 'im',\n",
       " 'inim',\n",
       " 'lim',\n",
       " 'maszkim',\n",
       " 'muhaldim',\n",
       " 'nim',\n",
       " 'silim',\n",
       " 'sim',\n",
       " 'szim',\n",
       " 'szitim',\n",
       " 'tim',\n",
       " 'zadim']"
      ]
     },
     "execution_count": 24,
     "metadata": {},
     "output_type": "execute_result"
    }
   ],
   "source": [
    "sorted(\n",
    "    {F.reading.v(s) for s in F.otype.s(\"sign\") if (F.reading.v(s) or \"\").endswith(\"im\")}\n",
    ")"
   ]
  },
  {
   "cell_type": "markdown",
   "metadata": {},
   "source": [
    "We do not want to consider readings like `maszkim` and `muhaldim`, just the ones with a single letter in front of the `im`.\n",
    "Alas, the `sz` also counts as a single letter.\n",
    "\n",
    "Lets turn to `symr` instead of `sym`."
   ]
  },
  {
   "cell_type": "code",
   "execution_count": 25,
   "metadata": {},
   "outputs": [
    {
     "data": {
      "text/plain": [
       "['dim',\n",
       " 'erim',\n",
       " 'gim',\n",
       " 'idim',\n",
       " 'im',\n",
       " 'inim',\n",
       " 'lim',\n",
       " 'maškim',\n",
       " 'muhaldim',\n",
       " 'nim',\n",
       " 'silim',\n",
       " 'sim',\n",
       " 'tim',\n",
       " 'zadim',\n",
       " 'šim',\n",
       " 'šitim']"
      ]
     },
     "execution_count": 25,
     "metadata": {},
     "output_type": "execute_result"
    }
   ],
   "source": [
    "sorted(\n",
    "    {\n",
    "        F.readingr.v(s)\n",
    "        for s in F.otype.s(\"sign\")\n",
    "        if (F.readingr.v(s) or \"\").endswith(\"im\")\n",
    "    }\n",
    ")"
   ]
  },
  {
   "cell_type": "markdown",
   "metadata": {},
   "source": [
    "Now we can state the condition: words where feature symr consists of either `im` or a single letter followed by `im`."
   ]
  },
  {
   "cell_type": "code",
   "execution_count": 26,
   "metadata": {},
   "outputs": [],
   "source": [
    "query = \"\"\"\n",
    "line\n",
    "  word sym=i-na\n",
    "  <: word symr~-.?im$\n",
    "\"\"\""
   ]
  },
  {
   "cell_type": "markdown",
   "metadata": {},
   "source": [
    "Explanation: the dot `.` stands for an arbitrary, single letter. Because of the `?` behind it, that letter is optional."
   ]
  },
  {
   "cell_type": "code",
   "execution_count": 27,
   "metadata": {},
   "outputs": [
    {
     "name": "stdout",
     "output_type": "stream",
     "text": [
      "  0.20s 306 results\n"
     ]
    }
   ],
   "source": [
    "results = A.search(query)"
   ]
  },
  {
   "cell_type": "code",
   "execution_count": 28,
   "metadata": {},
   "outputs": [
    {
     "data": {
      "text/html": [
       "<table><tr class=\"tf ltr\"><th class=\"tf ltr\">n</th><th class=\"tf ltr\">p</th><th class=\"tf ltr\">line</th><th class=\"tf\">word</th><th class=\"tf\">word</th></tr>\n",
       "<tr class=\"tf ltr\"><td class=\"tf ltr\">1</td><td class=\"tf ltr\"><span class=\"section ltr\"><a target=\"_blank\" href=\"https://cdli.ucla.edu/search/search_results.php?SearchMode=Text&amp;ObjectID=P509375\" title=\"Show this document on CDLI\" sec=\"P509375 reverse:9\">P509375 reverse:9</a></span></td><td class=\"tf ltr\"><div class=\"\"><span class=\"plain   hlbx\" ><span class=\"txto\">i-</span><span class=\"txto\">na </span></span><span class=\"plain   hlbx\" ><span class=\"txto\">la-</span><span class=\"txto\">hi-</span><span class=\"txto\">a-</span><span class=\"txto\">nim</span></span></div></td><td class=\"tf ltr\"><div class=\"\"><span class=\"plain   hlbx\" ><span class=\"txto\">i-</span><span class=\"txto\">na </span></span></div></td><td class=\"tf ltr\"><div class=\"\"><span class=\"plain   hlbx\" ><span class=\"txto\">la-</span><span class=\"txto\">hi-</span><span class=\"txto\">a-</span><span class=\"txto\">nim</span></span></div></td></tr>\n",
       "<tr class=\"tf ltr\"><td class=\"tf ltr\">2</td><td class=\"tf ltr\"><span class=\"section ltr\"><a target=\"_blank\" href=\"https://cdli.ucla.edu/search/search_results.php?SearchMode=Text&amp;ObjectID=P510527\" title=\"Show this document on CDLI\" sec=\"P510527 obverse:6\">P510527 obverse:6</a></span></td><td class=\"tf ltr\"><div class=\"\"><span class=\"txto\">{disz}</span><span class=\"txto\">ip-</span><span class=\"txto\">qu2-</span><span class=\"txto\">i3-</span><span class=\"txto\">li2-</span><span class=\"txto\">szu </span><span class=\"txto\">_di-</span><span class=\"txto\">ku5_ </span><span class=\"plain   hlbx\" ><span class=\"txto\">i-</span><span class=\"txto\">na </span></span><span class=\"plain   hlbx\" ><span class=\"txto\">pu-</span><span class=\"txto\">uh2-</span><span class=\"txto\">ri-</span><span class=\"txto\">im</span></span></div></td><td class=\"tf ltr\"><div class=\"\"><span class=\"plain   hlbx\" ><span class=\"txto\">i-</span><span class=\"txto\">na </span></span></div></td><td class=\"tf ltr\"><div class=\"\"><span class=\"plain   hlbx\" ><span class=\"txto\">pu-</span><span class=\"txto\">uh2-</span><span class=\"txto\">ri-</span><span class=\"txto\">im</span></span></div></td></tr>\n",
       "<tr class=\"tf ltr\"><td class=\"tf ltr\">3</td><td class=\"tf ltr\"><span class=\"section ltr\"><a target=\"_blank\" href=\"https://cdli.ucla.edu/search/search_results.php?SearchMode=Text&amp;ObjectID=P510527\" title=\"Show this document on CDLI\" sec=\"P510527 obverse:15\">P510527 obverse:15</a></span></td><td class=\"tf ltr\"><div class=\"\"><span class=\"plain   hlbx\" ><span class=\"txto\">i-</span><span class=\"txto\">na </span></span><span class=\"plain   hlbx\" ><span class=\"txto\">pu-</span><span class=\"txto\">uh2-</span><span class=\"txto\">ri-</span><span class=\"txto\">im </span></span><span class=\"txto\">i-</span><span class=\"txto\">na </span><span class=\"txto\">da-</span><span class=\"txto\">ba-</span><span class=\"txto\">bi-</span><span class=\"txto\">im</span></div></td><td class=\"tf ltr\"><div class=\"\"><span class=\"plain   hlbx\" ><span class=\"txto\">i-</span><span class=\"txto\">na </span></span></div></td><td class=\"tf ltr\"><div class=\"\"><span class=\"plain   hlbx\" ><span class=\"txto\">pu-</span><span class=\"txto\">uh2-</span><span class=\"txto\">ri-</span><span class=\"txto\">im </span></span></div></td></tr>\n",
       "<tr class=\"tf ltr\"><td class=\"tf ltr\">4</td><td class=\"tf ltr\"><span class=\"section ltr\"><a target=\"_blank\" href=\"https://cdli.ucla.edu/search/search_results.php?SearchMode=Text&amp;ObjectID=P510527\" title=\"Show this document on CDLI\" sec=\"P510527 obverse:15\">P510527 obverse:15</a></span></td><td class=\"tf ltr\"><div class=\"\"><span class=\"txto\">i-</span><span class=\"txto\">na </span><span class=\"txto\">pu-</span><span class=\"txto\">uh2-</span><span class=\"txto\">ri-</span><span class=\"txto\">im </span><span class=\"plain   hlbx\" ><span class=\"txto\">i-</span><span class=\"txto\">na </span></span><span class=\"plain   hlbx\" ><span class=\"txto\">da-</span><span class=\"txto\">ba-</span><span class=\"txto\">bi-</span><span class=\"txto\">im</span></span></div></td><td class=\"tf ltr\"><div class=\"\"><span class=\"plain   hlbx\" ><span class=\"txto\">i-</span><span class=\"txto\">na </span></span></div></td><td class=\"tf ltr\"><div class=\"\"><span class=\"plain   hlbx\" ><span class=\"txto\">da-</span><span class=\"txto\">ba-</span><span class=\"txto\">bi-</span><span class=\"txto\">im</span></span></div></td></tr>\n",
       "<tr class=\"tf ltr\"><td class=\"tf ltr\">5</td><td class=\"tf ltr\"><span class=\"section ltr\"><a target=\"_blank\" href=\"https://cdli.ucla.edu/search/search_results.php?SearchMode=Text&amp;ObjectID=P510538\" title=\"Show this document on CDLI\" sec=\"P510538 obverse:10\">P510538 obverse:10</a></span></td><td class=\"tf ltr\"><div class=\"\"><span class=\"plain   hlbx\" ><span class=\"txto\">i-</span><span class=\"txto\">na </span></span><span class=\"plain   hlbx\" ><span class=\"txto\">tam-</span><span class=\"txto\">li-</span><span class=\"txto\">tim</span></span></div></td><td class=\"tf ltr\"><div class=\"\"><span class=\"plain   hlbx\" ><span class=\"txto\">i-</span><span class=\"txto\">na </span></span></div></td><td class=\"tf ltr\"><div class=\"\"><span class=\"plain   hlbx\" ><span class=\"txto\">tam-</span><span class=\"txto\">li-</span><span class=\"txto\">tim</span></span></div></td></tr>\n",
       "<tr class=\"tf ltr\"><td class=\"tf ltr\">6</td><td class=\"tf ltr\"><span class=\"section ltr\"><a target=\"_blank\" href=\"https://cdli.ucla.edu/search/search_results.php?SearchMode=Text&amp;ObjectID=P510562\" title=\"Show this document on CDLI\" sec=\"P510562 obverse:7\">P510562 obverse:7</a></span></td><td class=\"tf ltr\"><div class=\"\"><span class=\"plain   hlbx\" ><span class=\"txto\">i-</span><span class=\"txto\">na# </span></span><span class=\"plain   hlbx\" ><span class=\"txto\">pa-</span><span class=\"txto\">ni-</span><span class=\"txto\">tim </span></span><span class=\"txto\">a-</span><span class=\"txto\">na </span><span class=\"txto\">a-</span><span class=\"txto\">&lt;ma?>-</span><span class=\"txto\">az</span><span class=\"txto\">{ki} </span><span class=\"txto\">ta-</span><span class=\"txto\">al-</span><span class=\"txto\">li-</span><span class=\"txto\">ik-</span><span class=\"txto\">ma#</span></div></td><td class=\"tf ltr\"><div class=\"\"><span class=\"plain   hlbx\" ><span class=\"txto\">i-</span><span class=\"txto\">na# </span></span></div></td><td class=\"tf ltr\"><div class=\"\"><span class=\"plain   hlbx\" ><span class=\"txto\">pa-</span><span class=\"txto\">ni-</span><span class=\"txto\">tim </span></span></div></td></tr>\n",
       "<tr class=\"tf ltr\"><td class=\"tf ltr\">7</td><td class=\"tf ltr\"><span class=\"section ltr\"><a target=\"_blank\" href=\"https://cdli.ucla.edu/search/search_results.php?SearchMode=Text&amp;ObjectID=P510567\" title=\"Show this document on CDLI\" sec=\"P510567 reverse:7\">P510567 reverse:7</a></span></td><td class=\"tf ltr\"><div class=\"\"><span class=\"plain   hlbx\" ><span class=\"txto\">[i-</span><span class=\"txto\">na] </span></span><span class=\"plain   hlbx\" ><span class=\"txto\">e-</span><span class=\"txto\">bu-</span><span class=\"txto\">ri-</span><span class=\"txto\">im</span></span></div></td><td class=\"tf ltr\"><div class=\"\"><span class=\"plain   hlbx\" ><span class=\"txto\">[i-</span><span class=\"txto\">na] </span></span></div></td><td class=\"tf ltr\"><div class=\"\"><span class=\"plain   hlbx\" ><span class=\"txto\">e-</span><span class=\"txto\">bu-</span><span class=\"txto\">ri-</span><span class=\"txto\">im</span></span></div></td></tr>\n",
       "<tr class=\"tf ltr\"><td class=\"tf ltr\">8</td><td class=\"tf ltr\"><span class=\"section ltr\"><a target=\"_blank\" href=\"https://cdli.ucla.edu/search/search_results.php?SearchMode=Text&amp;ObjectID=P510571\" title=\"Show this document on CDLI\" sec=\"P510571 reverse:13\">P510571 reverse:13</a></span></td><td class=\"tf ltr\"><div class=\"\"><span class=\"plain   hlbx\" ><span class=\"txto\">i-</span><span class=\"txto\">na </span></span><span class=\"plain   hlbx\" ><span class=\"txto\">an-</span><span class=\"txto\">ni-</span><span class=\"txto\">tim </span></span><span class=\"txto\">at-</span><span class=\"txto\">hu-</span><span class=\"txto\">&lt;ut>-</span><span class=\"txto\">ka#</span></div></td><td class=\"tf ltr\"><div class=\"\"><span class=\"plain   hlbx\" ><span class=\"txto\">i-</span><span class=\"txto\">na </span></span></div></td><td class=\"tf ltr\"><div class=\"\"><span class=\"plain   hlbx\" ><span class=\"txto\">an-</span><span class=\"txto\">ni-</span><span class=\"txto\">tim </span></span></div></td></tr>\n",
       "<tr class=\"tf ltr\"><td class=\"tf ltr\">9</td><td class=\"tf ltr\"><span class=\"section ltr\"><a target=\"_blank\" href=\"https://cdli.ucla.edu/search/search_results.php?SearchMode=Text&amp;ObjectID=P510574\" title=\"Show this document on CDLI\" sec=\"P510574 obverse:8\">P510574 obverse:8</a></span></td><td class=\"tf ltr\"><div class=\"\"><span class=\"txto\">tup-</span><span class=\"txto\">pi2 </span><span class=\"plain   hlbx\" ><span class=\"txto\">i-</span><span class=\"txto\">na </span></span><span class=\"plain   hlbx\" ><span class=\"txto\">a-</span><span class=\"txto\">ma-</span><span class=\"txto\">ri-</span><span class=\"txto\">im</span></span></div></td><td class=\"tf ltr\"><div class=\"\"><span class=\"plain   hlbx\" ><span class=\"txto\">i-</span><span class=\"txto\">na </span></span></div></td><td class=\"tf ltr\"><div class=\"\"><span class=\"plain   hlbx\" ><span class=\"txto\">a-</span><span class=\"txto\">ma-</span><span class=\"txto\">ri-</span><span class=\"txto\">im</span></span></div></td></tr>\n",
       "<tr class=\"tf ltr\"><td class=\"tf ltr\">10</td><td class=\"tf ltr\"><span class=\"section ltr\"><a target=\"_blank\" href=\"https://cdli.ucla.edu/search/search_results.php?SearchMode=Text&amp;ObjectID=P510575\" title=\"Show this document on CDLI\" sec=\"P510575 obverse:11\">P510575 obverse:11</a></span></td><td class=\"tf ltr\"><div class=\"\"><span class=\"plain   hlbx\" ><span class=\"txto\">[i]-</span><span class=\"txto\">na# </span></span><span class=\"plain   hlbx\" ><span class=\"txto\">qa-</span><span class=\"txto\">tim </span></span><span class=\"txto\">ta-</span><span class=\"txto\">ki-</span><span class=\"txto\">il-</span><span class=\"txto\">tim</span></div></td><td class=\"tf ltr\"><div class=\"\"><span class=\"plain   hlbx\" ><span class=\"txto\">[i]-</span><span class=\"txto\">na# </span></span></div></td><td class=\"tf ltr\"><div class=\"\"><span class=\"plain   hlbx\" ><span class=\"txto\">qa-</span><span class=\"txto\">tim </span></span></div></td></tr></table>"
      ],
      "text/plain": [
       "<IPython.core.display.HTML object>"
      ]
     },
     "metadata": {},
     "output_type": "display_data"
    }
   ],
   "source": [
    "A.table(results, end=10)"
   ]
  },
  {
   "cell_type": "markdown",
   "metadata": {},
   "source": [
    "# i-na + ...!im + ...-?im\n",
    "\n",
    "We look for word triples, of which the first is `i-na`, the second does not end in `im` and the third one ends in `im`.\n",
    "In the third word, there may be a single letter before the im of the last sign."
   ]
  },
  {
   "cell_type": "code",
   "execution_count": 29,
   "metadata": {},
   "outputs": [],
   "source": [
    "query = \"\"\"\n",
    "line\n",
    "  word sym=i-na\n",
    "  <: word symr~(?<!im)$\n",
    "  <: word symr~-.?im$\n",
    "\"\"\""
   ]
  },
  {
   "cell_type": "code",
   "execution_count": 30,
   "metadata": {},
   "outputs": [
    {
     "name": "stdout",
     "output_type": "stream",
     "text": [
      "  0.34s 67 results\n"
     ]
    }
   ],
   "source": [
    "results = A.search(query)"
   ]
  },
  {
   "cell_type": "code",
   "execution_count": 31,
   "metadata": {},
   "outputs": [
    {
     "data": {
      "text/html": [
       "<table><tr class=\"tf ltr\"><th class=\"tf ltr\">n</th><th class=\"tf ltr\">p</th><th class=\"tf ltr\">line</th><th class=\"tf\">word</th><th class=\"tf\">word</th><th class=\"tf\">word</th></tr>\n",
       "<tr class=\"tf ltr\"><td class=\"tf ltr\">1</td><td class=\"tf ltr\"><span class=\"section ltr\"><a target=\"_blank\" href=\"https://cdli.ucla.edu/search/search_results.php?SearchMode=Text&amp;ObjectID=P509373\" title=\"Show this document on CDLI\" sec=\"P509373 reverse:11'\">P509373 reverse:11'</a></span></td><td class=\"tf ltr\"><div class=\"\"><span class=\"txto\">a-</span><span class=\"txto\">na </span><span class=\"txto\">ki-</span><span class=\"txto\">ma </span><span class=\"plain   hlbx\" ><span class=\"txto\">i-</span><span class=\"txto\">[na] </span></span><span class=\"plain   hlbx\" ><span class=\"txto\">_dub </span></span><span class=\"plain   hlbx\" ><span class=\"txto\">e2-</span><span class=\"txto\">gal_-</span><span class=\"txto\">lim</span></span></div></td><td class=\"tf ltr\"><div class=\"\"><span class=\"plain   hlbx\" ><span class=\"txto\">i-</span><span class=\"txto\">[na] </span></span></div></td><td class=\"tf ltr\"><div class=\"\"><span class=\"plain   hlbx\" ><span class=\"txto\">_dub </span></span></div></td><td class=\"tf ltr\"><div class=\"\"><span class=\"plain   hlbx\" ><span class=\"txto\">e2-</span><span class=\"txto\">gal_-</span><span class=\"txto\">lim</span></span></div></td></tr>\n",
       "<tr class=\"tf ltr\"><td class=\"tf ltr\">2</td><td class=\"tf ltr\"><span class=\"section ltr\"><a target=\"_blank\" href=\"https://cdli.ucla.edu/search/search_results.php?SearchMode=Text&amp;ObjectID=P510573\" title=\"Show this document on CDLI\" sec=\"P510573 reverse:1\">P510573 reverse:1</a></span></td><td class=\"tf ltr\"><div class=\"\"><span class=\"plain   hlbx\" ><span class=\"txto\">i-</span><span class=\"txto\">na </span></span><span class=\"plain   hlbx\" ><span class=\"txto\">&lt;&lt;an-</span><span class=\"txto\">na>> </span></span><span class=\"plain   hlbx\" ><span class=\"txto\">an-</span><span class=\"txto\">ni-</span><span class=\"txto\">tim </span></span><span class=\"txto\">a-</span><span class=\"txto\">hu!-</span><span class=\"txto\">ut-</span><span class=\"txto\">ka</span></div></td><td class=\"tf ltr\"><div class=\"\"><span class=\"plain   hlbx\" ><span class=\"txto\">i-</span><span class=\"txto\">na </span></span></div></td><td class=\"tf ltr\"><div class=\"\"><span class=\"plain   hlbx\" ><span class=\"txto\">&lt;&lt;an-</span><span class=\"txto\">na>> </span></span></div></td><td class=\"tf ltr\"><div class=\"\"><span class=\"plain   hlbx\" ><span class=\"txto\">an-</span><span class=\"txto\">ni-</span><span class=\"txto\">tim </span></span></div></td></tr>\n",
       "<tr class=\"tf ltr\"><td class=\"tf ltr\">3</td><td class=\"tf ltr\"><span class=\"section ltr\"><a target=\"_blank\" href=\"https://cdli.ucla.edu/search/search_results.php?SearchMode=Text&amp;ObjectID=P510594\" title=\"Show this document on CDLI\" sec=\"P510594 obverse:5'\">P510594 obverse:5'</a></span></td><td class=\"tf ltr\"><div class=\"\"><span class=\"txto\">szum-</span><span class=\"txto\">ma </span><span class=\"plain   hlbx\" ><span class=\"txto\">i-</span><span class=\"txto\">na </span></span><span class=\"plain   hlbx\" ><span class=\"txto\">_{gesz}</span><span class=\"txto\">ban2_ </span></span><span class=\"plain   hlbx\" ><span class=\"txto\">{d}</span><span class=\"txto\">ki-</span><span class=\"txto\">it-</span><span class=\"txto\">tim</span></span></div></td><td class=\"tf ltr\"><div class=\"\"><span class=\"plain   hlbx\" ><span class=\"txto\">i-</span><span class=\"txto\">na </span></span></div></td><td class=\"tf ltr\"><div class=\"\"><span class=\"plain   hlbx\" ><span class=\"txto\">_{gesz}</span><span class=\"txto\">ban2_ </span></span></div></td><td class=\"tf ltr\"><div class=\"\"><span class=\"plain   hlbx\" ><span class=\"txto\">{d}</span><span class=\"txto\">ki-</span><span class=\"txto\">it-</span><span class=\"txto\">tim</span></span></div></td></tr>\n",
       "<tr class=\"tf ltr\"><td class=\"tf ltr\">4</td><td class=\"tf ltr\"><span class=\"section ltr\"><a target=\"_blank\" href=\"https://cdli.ucla.edu/search/search_results.php?SearchMode=Text&amp;ObjectID=P510594\" title=\"Show this document on CDLI\" sec=\"P510594 obverse:7'\">P510594 obverse:7'</a></span></td><td class=\"tf ltr\"><div class=\"\"><span class=\"plain   hlbx\" ><span class=\"txto\">i-</span><span class=\"txto\">na </span></span><span class=\"plain   hlbx\" ><span class=\"txto\">_{gesz}</span><span class=\"txto\">ban2_ </span></span><span class=\"plain   hlbx\" ><span class=\"txto\">{d}</span><span class=\"txto\">ki-</span><span class=\"txto\">it#-</span><span class=\"txto\">tim#</span></span></div></td><td class=\"tf ltr\"><div class=\"\"><span class=\"plain   hlbx\" ><span class=\"txto\">i-</span><span class=\"txto\">na </span></span></div></td><td class=\"tf ltr\"><div class=\"\"><span class=\"plain   hlbx\" ><span class=\"txto\">_{gesz}</span><span class=\"txto\">ban2_ </span></span></div></td><td class=\"tf ltr\"><div class=\"\"><span class=\"plain   hlbx\" ><span class=\"txto\">{d}</span><span class=\"txto\">ki-</span><span class=\"txto\">it#-</span><span class=\"txto\">tim#</span></span></div></td></tr>\n",
       "<tr class=\"tf ltr\"><td class=\"tf ltr\">5</td><td class=\"tf ltr\"><span class=\"section ltr\"><a target=\"_blank\" href=\"https://cdli.ucla.edu/search/search_results.php?SearchMode=Text&amp;ObjectID=P510594\" title=\"Show this document on CDLI\" sec=\"P510594 reverse:3\">P510594 reverse:3</a></span></td><td class=\"tf ltr\"><div class=\"\"><span class=\"txto\">szum-</span><span class=\"txto\">ma </span><span class=\"plain   hlbx\" ><span class=\"txto\">i-</span><span class=\"txto\">na </span></span><span class=\"plain   hlbx\" ><span class=\"txto\">_{gesz}</span><span class=\"txto\">ban2_ </span></span><span class=\"plain   hlbx\" ><span class=\"txto\">{d}</span><span class=\"txto\">ki-</span><span class=\"txto\">it-</span><span class=\"txto\">tim</span></span></div></td><td class=\"tf ltr\"><div class=\"\"><span class=\"plain   hlbx\" ><span class=\"txto\">i-</span><span class=\"txto\">na </span></span></div></td><td class=\"tf ltr\"><div class=\"\"><span class=\"plain   hlbx\" ><span class=\"txto\">_{gesz}</span><span class=\"txto\">ban2_ </span></span></div></td><td class=\"tf ltr\"><div class=\"\"><span class=\"plain   hlbx\" ><span class=\"txto\">{d}</span><span class=\"txto\">ki-</span><span class=\"txto\">it-</span><span class=\"txto\">tim</span></span></div></td></tr>\n",
       "<tr class=\"tf ltr\"><td class=\"tf ltr\">6</td><td class=\"tf ltr\"><span class=\"section ltr\"><a target=\"_blank\" href=\"https://cdli.ucla.edu/search/search_results.php?SearchMode=Text&amp;ObjectID=P510607\" title=\"Show this document on CDLI\" sec=\"P510607 obverse:10\">P510607 obverse:10</a></span></td><td class=\"tf ltr\"><div class=\"\"><span class=\"plain   hlbx\" ><span class=\"txto\">i-</span><span class=\"txto\">na </span></span><span class=\"plain   hlbx\" ><span class=\"txto\">pi2-</span><span class=\"txto\">ha-</span><span class=\"txto\">at </span></span><span class=\"plain   hlbx\" ><span class=\"txto\">a-</span><span class=\"txto\">lim</span></span></div></td><td class=\"tf ltr\"><div class=\"\"><span class=\"plain   hlbx\" ><span class=\"txto\">i-</span><span class=\"txto\">na </span></span></div></td><td class=\"tf ltr\"><div class=\"\"><span class=\"plain   hlbx\" ><span class=\"txto\">pi2-</span><span class=\"txto\">ha-</span><span class=\"txto\">at </span></span></div></td><td class=\"tf ltr\"><div class=\"\"><span class=\"plain   hlbx\" ><span class=\"txto\">a-</span><span class=\"txto\">lim</span></span></div></td></tr>\n",
       "<tr class=\"tf ltr\"><td class=\"tf ltr\">7</td><td class=\"tf ltr\"><span class=\"section ltr\"><a target=\"_blank\" href=\"https://cdli.ucla.edu/search/search_results.php?SearchMode=Text&amp;ObjectID=P510677\" title=\"Show this document on CDLI\" sec=\"P510677 obverse:2'\">P510677 obverse:2'</a></span></td><td class=\"tf ltr\"><div class=\"\"><span class=\"plain   hlbx\" ><span class=\"txto\">[i-</span><span class=\"txto\">na </span></span><span class=\"plain   hlbx\" ><span class=\"txto\">_e2_ </span></span><span class=\"plain   hlbx\" ><span class=\"txto\">a-</span><span class=\"txto\">ki-</span><span class=\"txto\">tim </span></span><span class=\"txto\">isz]-</span><span class=\"txto\">sza#-</span><span class=\"txto\">ak#-</span><span class=\"txto\">[ka-</span><span class=\"txto\">an]</span></div></td><td class=\"tf ltr\"><div class=\"\"><span class=\"plain   hlbx\" ><span class=\"txto\">[i-</span><span class=\"txto\">na </span></span></div></td><td class=\"tf ltr\"><div class=\"\"><span class=\"plain   hlbx\" ><span class=\"txto\">_e2_ </span></span></div></td><td class=\"tf ltr\"><div class=\"\"><span class=\"plain   hlbx\" ><span class=\"txto\">a-</span><span class=\"txto\">ki-</span><span class=\"txto\">tim </span></span></div></td></tr>\n",
       "<tr class=\"tf ltr\"><td class=\"tf ltr\">8</td><td class=\"tf ltr\"><span class=\"section ltr\"><a target=\"_blank\" href=\"https://cdli.ucla.edu/search/search_results.php?SearchMode=Text&amp;ObjectID=P510688\" title=\"Show this document on CDLI\" sec=\"P510688 obverse:10\">P510688 obverse:10</a></span></td><td class=\"tf ltr\"><div class=\"\"><span class=\"txto\">&lt;&lt;i>> </span><span class=\"txto\">el-</span><span class=\"txto\">qe2 </span><span class=\"plain   hlbx\" ><span class=\"txto\">i-</span><span class=\"txto\">na </span></span><span class=\"plain   hlbx\" ><span class=\"txto\">_a-</span><span class=\"txto\">sza3_ </span></span><span class=\"plain   hlbx\" ><span class=\"txto\">[x]-</span><span class=\"txto\">x-</span><span class=\"txto\">lim</span></span></div></td><td class=\"tf ltr\"><div class=\"\"><span class=\"plain   hlbx\" ><span class=\"txto\">i-</span><span class=\"txto\">na </span></span></div></td><td class=\"tf ltr\"><div class=\"\"><span class=\"plain   hlbx\" ><span class=\"txto\">_a-</span><span class=\"txto\">sza3_ </span></span></div></td><td class=\"tf ltr\"><div class=\"\"><span class=\"plain   hlbx\" ><span class=\"txto\">[x]-</span><span class=\"txto\">x-</span><span class=\"txto\">lim</span></span></div></td></tr>\n",
       "<tr class=\"tf ltr\"><td class=\"tf ltr\">9</td><td class=\"tf ltr\"><span class=\"section ltr\"><a target=\"_blank\" href=\"https://cdli.ucla.edu/search/search_results.php?SearchMode=Text&amp;ObjectID=P510712\" title=\"Show this document on CDLI\" sec=\"P510712 reverse:17'\">P510712 reverse:17'</a></span></td><td class=\"tf ltr\"><div class=\"\"><span class=\"plain   hlbx\" ><span class=\"txto\">[i]-</span><span class=\"txto\">na# </span></span><span class=\"plain   hlbx\" ><span class=\"txto\">re-</span><span class=\"txto\">esz </span></span><span class=\"plain   hlbx\" ><span class=\"txto\">ma-</span><span class=\"txto\">ak-</span><span class=\"txto\">ku-</span><span class=\"txto\">ri-</span><span class=\"txto\">im#</span></span></div></td><td class=\"tf ltr\"><div class=\"\"><span class=\"plain   hlbx\" ><span class=\"txto\">[i]-</span><span class=\"txto\">na# </span></span></div></td><td class=\"tf ltr\"><div class=\"\"><span class=\"plain   hlbx\" ><span class=\"txto\">re-</span><span class=\"txto\">esz </span></span></div></td><td class=\"tf ltr\"><div class=\"\"><span class=\"plain   hlbx\" ><span class=\"txto\">ma-</span><span class=\"txto\">ak-</span><span class=\"txto\">ku-</span><span class=\"txto\">ri-</span><span class=\"txto\">im#</span></span></div></td></tr>\n",
       "<tr class=\"tf ltr\"><td class=\"tf ltr\">10</td><td class=\"tf ltr\"><span class=\"section ltr\"><a target=\"_blank\" href=\"https://cdli.ucla.edu/search/search_results.php?SearchMode=Text&amp;ObjectID=P510722\" title=\"Show this document on CDLI\" sec=\"P510722 reverse:8\">P510722 reverse:8</a></span></td><td class=\"tf ltr\"><div class=\"\"><span class=\"plain   hlbx\" ><span class=\"txto\">i-</span><span class=\"txto\">na </span></span><span class=\"plain   hlbx\" ><span class=\"txto\">pi2-</span><span class=\"txto\">sza-</span><span class=\"txto\">an-</span><span class=\"txto\">ni </span></span><span class=\"plain   hlbx\" ><span class=\"txto\">ku-</span><span class=\"txto\">nu-</span><span class=\"txto\">ka-</span><span class=\"txto\">tim</span></span></div></td><td class=\"tf ltr\"><div class=\"\"><span class=\"plain   hlbx\" ><span class=\"txto\">i-</span><span class=\"txto\">na </span></span></div></td><td class=\"tf ltr\"><div class=\"\"><span class=\"plain   hlbx\" ><span class=\"txto\">pi2-</span><span class=\"txto\">sza-</span><span class=\"txto\">an-</span><span class=\"txto\">ni </span></span></div></td><td class=\"tf ltr\"><div class=\"\"><span class=\"plain   hlbx\" ><span class=\"txto\">ku-</span><span class=\"txto\">nu-</span><span class=\"txto\">ka-</span><span class=\"txto\">tim</span></span></div></td></tr></table>"
      ],
      "text/plain": [
       "<IPython.core.display.HTML object>"
      ]
     },
     "metadata": {},
     "output_type": "display_data"
    }
   ],
   "source": [
    "A.table(results, end=10)"
   ]
  },
  {
   "cell_type": "markdown",
   "metadata": {},
   "source": [
    "The question is: we do miss cases where the second word ends in e.g. `-maškim`. Is that bad?\n",
    "Let's find the missing cases:"
   ]
  },
  {
   "cell_type": "code",
   "execution_count": 32,
   "metadata": {},
   "outputs": [],
   "source": [
    "query = \"\"\"\n",
    "line\n",
    "  word sym=i-na\n",
    "  <: word symr~[^-][^-]im$\n",
    "  <: word symr~-.?im$\n",
    "\"\"\""
   ]
  },
  {
   "cell_type": "markdown",
   "metadata": {},
   "source": [
    "So we actively look for cases where the second word ends in a reading that ends in `im`, preceded by at least two characters\n",
    "that are not a hyphen."
   ]
  },
  {
   "cell_type": "code",
   "execution_count": 33,
   "metadata": {},
   "outputs": [
    {
     "name": "stdout",
     "output_type": "stream",
     "text": [
      "  0.29s 0 results\n"
     ]
    }
   ],
   "source": [
    "results = A.search(query)"
   ]
  },
  {
   "cell_type": "markdown",
   "metadata": {},
   "source": [
    "We do not find any, so we can stick to our initial query for triplet words."
   ]
  },
  {
   "cell_type": "markdown",
   "metadata": {},
   "source": [
    "Just in case you like the highlighting of signs, we rewrite this query in the more elaborate, sign based form:"
   ]
  },
  {
   "cell_type": "code",
   "execution_count": 34,
   "metadata": {},
   "outputs": [],
   "source": [
    "query = \"\"\"\n",
    "line\n",
    "  word\n",
    "    =: sign reading=i\n",
    "    <: sign reading=na\n",
    "    :=\n",
    "  <: word\n",
    "    := sign reading~(?<!im)$\n",
    "  <: word\n",
    "    := sign readingr~.?im$\n",
    "\"\"\""
   ]
  },
  {
   "cell_type": "markdown",
   "metadata": {},
   "source": [
    "Note that in the last line we use `readingr` instead of `reading`, because in `readingr` digraphs such as `sz` appear as\n",
    "a single letter."
   ]
  },
  {
   "cell_type": "code",
   "execution_count": 35,
   "metadata": {},
   "outputs": [
    {
     "name": "stdout",
     "output_type": "stream",
     "text": [
      "  1.13s 67 results\n"
     ]
    }
   ],
   "source": [
    "results = A.search(query)"
   ]
  },
  {
   "cell_type": "code",
   "execution_count": 36,
   "metadata": {},
   "outputs": [
    {
     "data": {
      "text/html": [
       "<table><tr class=\"tf ltr\"><th class=\"tf ltr\">n</th><th class=\"tf ltr\">p</th><th class=\"tf ltr\">line</th><th class=\"tf\">word</th><th class=\"tf\">sign</th><th class=\"tf\">sign</th><th class=\"tf\">word</th><th class=\"tf\">sign</th><th class=\"tf\">word</th><th class=\"tf\">sign</th></tr>\n",
       "<tr class=\"tf ltr\"><td class=\"tf ltr\">1</td><td class=\"tf ltr\"><span class=\"section ltr\"><a target=\"_blank\" href=\"https://cdli.ucla.edu/search/search_results.php?SearchMode=Text&amp;ObjectID=P509373\" title=\"Show this document on CDLI\" sec=\"P509373 reverse:11'\">P509373 reverse:11'</a></span></td><td class=\"tf ltr\"><div class=\"\"><span class=\"txto\">a-</span><span class=\"txto\">na </span><span class=\"txto\">ki-</span><span class=\"txto\">ma </span><span class=\"plain   hlbx\" ><span class=\"plain   hl\" ><span class=\"txto\">i-</span></span><span class=\"plain   hl\" ><span class=\"txto\">[na] </span></span></span><span class=\"plain   hlbx\" ><span class=\"plain   hl\" ><span class=\"txto\">_dub </span></span></span><span class=\"plain   hlbx\" ><span class=\"txto\">e2-</span><span class=\"txto\">gal_-</span><span class=\"plain   hl\" ><span class=\"txto\">lim</span></span></span></div></td><td class=\"tf ltr\"><div class=\"\"><span class=\"plain   hlbx\" ><span class=\"plain   hl\" ><span class=\"txto\">i-</span></span><span class=\"plain   hl\" ><span class=\"txto\">[na] </span></span></span></div></td><td class=\"tf ltr\"><div class=\"\"><span class=\"plain   hl\" ><span class=\"txto\">i-</span></span></div></td><td class=\"tf ltr\"><div class=\"\"><span class=\"plain   hl\" ><span class=\"txto\">[na] </span></span></div></td><td class=\"tf ltr\"><div class=\"\"><span class=\"plain   hlbx\" ><span class=\"plain   hl\" ><span class=\"txto\">_dub </span></span></span></div></td><td class=\"tf ltr\"><div class=\"\"><span class=\"plain   hl\" ><span class=\"txto\">_dub </span></span></div></td><td class=\"tf ltr\"><div class=\"\"><span class=\"plain   hlbx\" ><span class=\"txto\">e2-</span><span class=\"txto\">gal_-</span><span class=\"plain   hl\" ><span class=\"txto\">lim</span></span></span></div></td><td class=\"tf ltr\"><div class=\"\"><span class=\"plain   hl\" ><span class=\"txto\">lim</span></span></div></td></tr>\n",
       "<tr class=\"tf ltr\"><td class=\"tf ltr\">2</td><td class=\"tf ltr\"><span class=\"section ltr\"><a target=\"_blank\" href=\"https://cdli.ucla.edu/search/search_results.php?SearchMode=Text&amp;ObjectID=P510573\" title=\"Show this document on CDLI\" sec=\"P510573 reverse:1\">P510573 reverse:1</a></span></td><td class=\"tf ltr\"><div class=\"\"><span class=\"plain   hlbx\" ><span class=\"plain   hl\" ><span class=\"txto\">i-</span></span><span class=\"plain   hl\" ><span class=\"txto\">na </span></span></span><span class=\"plain   hlbx\" ><span class=\"txto\">&lt;&lt;an-</span><span class=\"plain   hl\" ><span class=\"txto\">na>> </span></span></span><span class=\"plain   hlbx\" ><span class=\"txto\">an-</span><span class=\"txto\">ni-</span><span class=\"plain   hl\" ><span class=\"txto\">tim </span></span></span><span class=\"txto\">a-</span><span class=\"txto\">hu!-</span><span class=\"txto\">ut-</span><span class=\"txto\">ka</span></div></td><td class=\"tf ltr\"><div class=\"\"><span class=\"plain   hlbx\" ><span class=\"plain   hl\" ><span class=\"txto\">i-</span></span><span class=\"plain   hl\" ><span class=\"txto\">na </span></span></span></div></td><td class=\"tf ltr\"><div class=\"\"><span class=\"plain   hl\" ><span class=\"txto\">i-</span></span></div></td><td class=\"tf ltr\"><div class=\"\"><span class=\"plain   hl\" ><span class=\"txto\">na </span></span></div></td><td class=\"tf ltr\"><div class=\"\"><span class=\"plain   hlbx\" ><span class=\"txto\">&lt;&lt;an-</span><span class=\"plain   hl\" ><span class=\"txto\">na>> </span></span></span></div></td><td class=\"tf ltr\"><div class=\"\"><span class=\"plain   hl\" ><span class=\"txto\">na>> </span></span></div></td><td class=\"tf ltr\"><div class=\"\"><span class=\"plain   hlbx\" ><span class=\"txto\">an-</span><span class=\"txto\">ni-</span><span class=\"plain   hl\" ><span class=\"txto\">tim </span></span></span></div></td><td class=\"tf ltr\"><div class=\"\"><span class=\"plain   hl\" ><span class=\"txto\">tim </span></span></div></td></tr>\n",
       "<tr class=\"tf ltr\"><td class=\"tf ltr\">3</td><td class=\"tf ltr\"><span class=\"section ltr\"><a target=\"_blank\" href=\"https://cdli.ucla.edu/search/search_results.php?SearchMode=Text&amp;ObjectID=P510594\" title=\"Show this document on CDLI\" sec=\"P510594 obverse:5'\">P510594 obverse:5'</a></span></td><td class=\"tf ltr\"><div class=\"\"><span class=\"txto\">szum-</span><span class=\"txto\">ma </span><span class=\"plain   hlbx\" ><span class=\"plain   hl\" ><span class=\"txto\">i-</span></span><span class=\"plain   hl\" ><span class=\"txto\">na </span></span></span><span class=\"plain   hlbx\" ><span class=\"txto\">_{gesz}</span><span class=\"plain   hl\" ><span class=\"txto\">ban2_ </span></span></span><span class=\"plain   hlbx\" ><span class=\"txto\">{d}</span><span class=\"txto\">ki-</span><span class=\"txto\">it-</span><span class=\"plain   hl\" ><span class=\"txto\">tim</span></span></span></div></td><td class=\"tf ltr\"><div class=\"\"><span class=\"plain   hlbx\" ><span class=\"plain   hl\" ><span class=\"txto\">i-</span></span><span class=\"plain   hl\" ><span class=\"txto\">na </span></span></span></div></td><td class=\"tf ltr\"><div class=\"\"><span class=\"plain   hl\" ><span class=\"txto\">i-</span></span></div></td><td class=\"tf ltr\"><div class=\"\"><span class=\"plain   hl\" ><span class=\"txto\">na </span></span></div></td><td class=\"tf ltr\"><div class=\"\"><span class=\"plain   hlbx\" ><span class=\"txto\">_{gesz}</span><span class=\"plain   hl\" ><span class=\"txto\">ban2_ </span></span></span></div></td><td class=\"tf ltr\"><div class=\"\"><span class=\"plain   hl\" ><span class=\"txto\">ban2_ </span></span></div></td><td class=\"tf ltr\"><div class=\"\"><span class=\"plain   hlbx\" ><span class=\"txto\">{d}</span><span class=\"txto\">ki-</span><span class=\"txto\">it-</span><span class=\"plain   hl\" ><span class=\"txto\">tim</span></span></span></div></td><td class=\"tf ltr\"><div class=\"\"><span class=\"plain   hl\" ><span class=\"txto\">tim</span></span></div></td></tr>\n",
       "<tr class=\"tf ltr\"><td class=\"tf ltr\">4</td><td class=\"tf ltr\"><span class=\"section ltr\"><a target=\"_blank\" href=\"https://cdli.ucla.edu/search/search_results.php?SearchMode=Text&amp;ObjectID=P510594\" title=\"Show this document on CDLI\" sec=\"P510594 obverse:7'\">P510594 obverse:7'</a></span></td><td class=\"tf ltr\"><div class=\"\"><span class=\"plain   hlbx\" ><span class=\"plain   hl\" ><span class=\"txto\">i-</span></span><span class=\"plain   hl\" ><span class=\"txto\">na </span></span></span><span class=\"plain   hlbx\" ><span class=\"txto\">_{gesz}</span><span class=\"plain   hl\" ><span class=\"txto\">ban2_ </span></span></span><span class=\"plain   hlbx\" ><span class=\"txto\">{d}</span><span class=\"txto\">ki-</span><span class=\"txto\">it#-</span><span class=\"plain   hl\" ><span class=\"txto\">tim#</span></span></span></div></td><td class=\"tf ltr\"><div class=\"\"><span class=\"plain   hlbx\" ><span class=\"plain   hl\" ><span class=\"txto\">i-</span></span><span class=\"plain   hl\" ><span class=\"txto\">na </span></span></span></div></td><td class=\"tf ltr\"><div class=\"\"><span class=\"plain   hl\" ><span class=\"txto\">i-</span></span></div></td><td class=\"tf ltr\"><div class=\"\"><span class=\"plain   hl\" ><span class=\"txto\">na </span></span></div></td><td class=\"tf ltr\"><div class=\"\"><span class=\"plain   hlbx\" ><span class=\"txto\">_{gesz}</span><span class=\"plain   hl\" ><span class=\"txto\">ban2_ </span></span></span></div></td><td class=\"tf ltr\"><div class=\"\"><span class=\"plain   hl\" ><span class=\"txto\">ban2_ </span></span></div></td><td class=\"tf ltr\"><div class=\"\"><span class=\"plain   hlbx\" ><span class=\"txto\">{d}</span><span class=\"txto\">ki-</span><span class=\"txto\">it#-</span><span class=\"plain   hl\" ><span class=\"txto\">tim#</span></span></span></div></td><td class=\"tf ltr\"><div class=\"\"><span class=\"plain   hl\" ><span class=\"txto\">tim#</span></span></div></td></tr>\n",
       "<tr class=\"tf ltr\"><td class=\"tf ltr\">5</td><td class=\"tf ltr\"><span class=\"section ltr\"><a target=\"_blank\" href=\"https://cdli.ucla.edu/search/search_results.php?SearchMode=Text&amp;ObjectID=P510594\" title=\"Show this document on CDLI\" sec=\"P510594 reverse:3\">P510594 reverse:3</a></span></td><td class=\"tf ltr\"><div class=\"\"><span class=\"txto\">szum-</span><span class=\"txto\">ma </span><span class=\"plain   hlbx\" ><span class=\"plain   hl\" ><span class=\"txto\">i-</span></span><span class=\"plain   hl\" ><span class=\"txto\">na </span></span></span><span class=\"plain   hlbx\" ><span class=\"txto\">_{gesz}</span><span class=\"plain   hl\" ><span class=\"txto\">ban2_ </span></span></span><span class=\"plain   hlbx\" ><span class=\"txto\">{d}</span><span class=\"txto\">ki-</span><span class=\"txto\">it-</span><span class=\"plain   hl\" ><span class=\"txto\">tim</span></span></span></div></td><td class=\"tf ltr\"><div class=\"\"><span class=\"plain   hlbx\" ><span class=\"plain   hl\" ><span class=\"txto\">i-</span></span><span class=\"plain   hl\" ><span class=\"txto\">na </span></span></span></div></td><td class=\"tf ltr\"><div class=\"\"><span class=\"plain   hl\" ><span class=\"txto\">i-</span></span></div></td><td class=\"tf ltr\"><div class=\"\"><span class=\"plain   hl\" ><span class=\"txto\">na </span></span></div></td><td class=\"tf ltr\"><div class=\"\"><span class=\"plain   hlbx\" ><span class=\"txto\">_{gesz}</span><span class=\"plain   hl\" ><span class=\"txto\">ban2_ </span></span></span></div></td><td class=\"tf ltr\"><div class=\"\"><span class=\"plain   hl\" ><span class=\"txto\">ban2_ </span></span></div></td><td class=\"tf ltr\"><div class=\"\"><span class=\"plain   hlbx\" ><span class=\"txto\">{d}</span><span class=\"txto\">ki-</span><span class=\"txto\">it-</span><span class=\"plain   hl\" ><span class=\"txto\">tim</span></span></span></div></td><td class=\"tf ltr\"><div class=\"\"><span class=\"plain   hl\" ><span class=\"txto\">tim</span></span></div></td></tr>\n",
       "<tr class=\"tf ltr\"><td class=\"tf ltr\">6</td><td class=\"tf ltr\"><span class=\"section ltr\"><a target=\"_blank\" href=\"https://cdli.ucla.edu/search/search_results.php?SearchMode=Text&amp;ObjectID=P510607\" title=\"Show this document on CDLI\" sec=\"P510607 obverse:10\">P510607 obverse:10</a></span></td><td class=\"tf ltr\"><div class=\"\"><span class=\"plain   hlbx\" ><span class=\"plain   hl\" ><span class=\"txto\">i-</span></span><span class=\"plain   hl\" ><span class=\"txto\">na </span></span></span><span class=\"plain   hlbx\" ><span class=\"txto\">pi2-</span><span class=\"txto\">ha-</span><span class=\"plain   hl\" ><span class=\"txto\">at </span></span></span><span class=\"plain   hlbx\" ><span class=\"txto\">a-</span><span class=\"plain   hl\" ><span class=\"txto\">lim</span></span></span></div></td><td class=\"tf ltr\"><div class=\"\"><span class=\"plain   hlbx\" ><span class=\"plain   hl\" ><span class=\"txto\">i-</span></span><span class=\"plain   hl\" ><span class=\"txto\">na </span></span></span></div></td><td class=\"tf ltr\"><div class=\"\"><span class=\"plain   hl\" ><span class=\"txto\">i-</span></span></div></td><td class=\"tf ltr\"><div class=\"\"><span class=\"plain   hl\" ><span class=\"txto\">na </span></span></div></td><td class=\"tf ltr\"><div class=\"\"><span class=\"plain   hlbx\" ><span class=\"txto\">pi2-</span><span class=\"txto\">ha-</span><span class=\"plain   hl\" ><span class=\"txto\">at </span></span></span></div></td><td class=\"tf ltr\"><div class=\"\"><span class=\"plain   hl\" ><span class=\"txto\">at </span></span></div></td><td class=\"tf ltr\"><div class=\"\"><span class=\"plain   hlbx\" ><span class=\"txto\">a-</span><span class=\"plain   hl\" ><span class=\"txto\">lim</span></span></span></div></td><td class=\"tf ltr\"><div class=\"\"><span class=\"plain   hl\" ><span class=\"txto\">lim</span></span></div></td></tr>\n",
       "<tr class=\"tf ltr\"><td class=\"tf ltr\">7</td><td class=\"tf ltr\"><span class=\"section ltr\"><a target=\"_blank\" href=\"https://cdli.ucla.edu/search/search_results.php?SearchMode=Text&amp;ObjectID=P510677\" title=\"Show this document on CDLI\" sec=\"P510677 obverse:2'\">P510677 obverse:2'</a></span></td><td class=\"tf ltr\"><div class=\"\"><span class=\"plain   hlbx\" ><span class=\"plain   hl\" ><span class=\"txto\">[i-</span></span><span class=\"plain   hl\" ><span class=\"txto\">na </span></span></span><span class=\"plain   hlbx\" ><span class=\"plain   hl\" ><span class=\"txto\">_e2_ </span></span></span><span class=\"plain   hlbx\" ><span class=\"txto\">a-</span><span class=\"txto\">ki-</span><span class=\"plain   hl\" ><span class=\"txto\">tim </span></span></span><span class=\"txto\">isz]-</span><span class=\"txto\">sza#-</span><span class=\"txto\">ak#-</span><span class=\"txto\">[ka-</span><span class=\"txto\">an]</span></div></td><td class=\"tf ltr\"><div class=\"\"><span class=\"plain   hlbx\" ><span class=\"plain   hl\" ><span class=\"txto\">[i-</span></span><span class=\"plain   hl\" ><span class=\"txto\">na </span></span></span></div></td><td class=\"tf ltr\"><div class=\"\"><span class=\"plain   hl\" ><span class=\"txto\">[i-</span></span></div></td><td class=\"tf ltr\"><div class=\"\"><span class=\"plain   hl\" ><span class=\"txto\">na </span></span></div></td><td class=\"tf ltr\"><div class=\"\"><span class=\"plain   hlbx\" ><span class=\"plain   hl\" ><span class=\"txto\">_e2_ </span></span></span></div></td><td class=\"tf ltr\"><div class=\"\"><span class=\"plain   hl\" ><span class=\"txto\">_e2_ </span></span></div></td><td class=\"tf ltr\"><div class=\"\"><span class=\"plain   hlbx\" ><span class=\"txto\">a-</span><span class=\"txto\">ki-</span><span class=\"plain   hl\" ><span class=\"txto\">tim </span></span></span></div></td><td class=\"tf ltr\"><div class=\"\"><span class=\"plain   hl\" ><span class=\"txto\">tim </span></span></div></td></tr>\n",
       "<tr class=\"tf ltr\"><td class=\"tf ltr\">8</td><td class=\"tf ltr\"><span class=\"section ltr\"><a target=\"_blank\" href=\"https://cdli.ucla.edu/search/search_results.php?SearchMode=Text&amp;ObjectID=P510688\" title=\"Show this document on CDLI\" sec=\"P510688 obverse:10\">P510688 obverse:10</a></span></td><td class=\"tf ltr\"><div class=\"\"><span class=\"txto\">&lt;&lt;i>> </span><span class=\"txto\">el-</span><span class=\"txto\">qe2 </span><span class=\"plain   hlbx\" ><span class=\"plain   hl\" ><span class=\"txto\">i-</span></span><span class=\"plain   hl\" ><span class=\"txto\">na </span></span></span><span class=\"plain   hlbx\" ><span class=\"txto\">_a-</span><span class=\"plain   hl\" ><span class=\"txto\">sza3_ </span></span></span><span class=\"plain   hlbx\" ><span class=\"txto\">[x]-</span><span class=\"txto\">x-</span><span class=\"plain   hl\" ><span class=\"txto\">lim</span></span></span></div></td><td class=\"tf ltr\"><div class=\"\"><span class=\"plain   hlbx\" ><span class=\"plain   hl\" ><span class=\"txto\">i-</span></span><span class=\"plain   hl\" ><span class=\"txto\">na </span></span></span></div></td><td class=\"tf ltr\"><div class=\"\"><span class=\"plain   hl\" ><span class=\"txto\">i-</span></span></div></td><td class=\"tf ltr\"><div class=\"\"><span class=\"plain   hl\" ><span class=\"txto\">na </span></span></div></td><td class=\"tf ltr\"><div class=\"\"><span class=\"plain   hlbx\" ><span class=\"txto\">_a-</span><span class=\"plain   hl\" ><span class=\"txto\">sza3_ </span></span></span></div></td><td class=\"tf ltr\"><div class=\"\"><span class=\"plain   hl\" ><span class=\"txto\">sza3_ </span></span></div></td><td class=\"tf ltr\"><div class=\"\"><span class=\"plain   hlbx\" ><span class=\"txto\">[x]-</span><span class=\"txto\">x-</span><span class=\"plain   hl\" ><span class=\"txto\">lim</span></span></span></div></td><td class=\"tf ltr\"><div class=\"\"><span class=\"plain   hl\" ><span class=\"txto\">lim</span></span></div></td></tr>\n",
       "<tr class=\"tf ltr\"><td class=\"tf ltr\">9</td><td class=\"tf ltr\"><span class=\"section ltr\"><a target=\"_blank\" href=\"https://cdli.ucla.edu/search/search_results.php?SearchMode=Text&amp;ObjectID=P510712\" title=\"Show this document on CDLI\" sec=\"P510712 reverse:17'\">P510712 reverse:17'</a></span></td><td class=\"tf ltr\"><div class=\"\"><span class=\"plain   hlbx\" ><span class=\"plain   hl\" ><span class=\"txto\">[i]-</span></span><span class=\"plain   hl\" ><span class=\"txto\">na# </span></span></span><span class=\"plain   hlbx\" ><span class=\"txto\">re-</span><span class=\"plain   hl\" ><span class=\"txto\">esz </span></span></span><span class=\"plain   hlbx\" ><span class=\"txto\">ma-</span><span class=\"txto\">ak-</span><span class=\"txto\">ku-</span><span class=\"txto\">ri-</span><span class=\"plain   hl\" ><span class=\"txto\">im#</span></span></span></div></td><td class=\"tf ltr\"><div class=\"\"><span class=\"plain   hlbx\" ><span class=\"plain   hl\" ><span class=\"txto\">[i]-</span></span><span class=\"plain   hl\" ><span class=\"txto\">na# </span></span></span></div></td><td class=\"tf ltr\"><div class=\"\"><span class=\"plain   hl\" ><span class=\"txto\">[i]-</span></span></div></td><td class=\"tf ltr\"><div class=\"\"><span class=\"plain   hl\" ><span class=\"txto\">na# </span></span></div></td><td class=\"tf ltr\"><div class=\"\"><span class=\"plain   hlbx\" ><span class=\"txto\">re-</span><span class=\"plain   hl\" ><span class=\"txto\">esz </span></span></span></div></td><td class=\"tf ltr\"><div class=\"\"><span class=\"plain   hl\" ><span class=\"txto\">esz </span></span></div></td><td class=\"tf ltr\"><div class=\"\"><span class=\"plain   hlbx\" ><span class=\"txto\">ma-</span><span class=\"txto\">ak-</span><span class=\"txto\">ku-</span><span class=\"txto\">ri-</span><span class=\"plain   hl\" ><span class=\"txto\">im#</span></span></span></div></td><td class=\"tf ltr\"><div class=\"\"><span class=\"plain   hl\" ><span class=\"txto\">im#</span></span></div></td></tr>\n",
       "<tr class=\"tf ltr\"><td class=\"tf ltr\">10</td><td class=\"tf ltr\"><span class=\"section ltr\"><a target=\"_blank\" href=\"https://cdli.ucla.edu/search/search_results.php?SearchMode=Text&amp;ObjectID=P510722\" title=\"Show this document on CDLI\" sec=\"P510722 reverse:8\">P510722 reverse:8</a></span></td><td class=\"tf ltr\"><div class=\"\"><span class=\"plain   hlbx\" ><span class=\"plain   hl\" ><span class=\"txto\">i-</span></span><span class=\"plain   hl\" ><span class=\"txto\">na </span></span></span><span class=\"plain   hlbx\" ><span class=\"txto\">pi2-</span><span class=\"txto\">sza-</span><span class=\"txto\">an-</span><span class=\"plain   hl\" ><span class=\"txto\">ni </span></span></span><span class=\"plain   hlbx\" ><span class=\"txto\">ku-</span><span class=\"txto\">nu-</span><span class=\"txto\">ka-</span><span class=\"plain   hl\" ><span class=\"txto\">tim</span></span></span></div></td><td class=\"tf ltr\"><div class=\"\"><span class=\"plain   hlbx\" ><span class=\"plain   hl\" ><span class=\"txto\">i-</span></span><span class=\"plain   hl\" ><span class=\"txto\">na </span></span></span></div></td><td class=\"tf ltr\"><div class=\"\"><span class=\"plain   hl\" ><span class=\"txto\">i-</span></span></div></td><td class=\"tf ltr\"><div class=\"\"><span class=\"plain   hl\" ><span class=\"txto\">na </span></span></div></td><td class=\"tf ltr\"><div class=\"\"><span class=\"plain   hlbx\" ><span class=\"txto\">pi2-</span><span class=\"txto\">sza-</span><span class=\"txto\">an-</span><span class=\"plain   hl\" ><span class=\"txto\">ni </span></span></span></div></td><td class=\"tf ltr\"><div class=\"\"><span class=\"plain   hl\" ><span class=\"txto\">ni </span></span></div></td><td class=\"tf ltr\"><div class=\"\"><span class=\"plain   hlbx\" ><span class=\"txto\">ku-</span><span class=\"txto\">nu-</span><span class=\"txto\">ka-</span><span class=\"plain   hl\" ><span class=\"txto\">tim</span></span></span></div></td><td class=\"tf ltr\"><div class=\"\"><span class=\"plain   hl\" ><span class=\"txto\">tim</span></span></div></td></tr></table>"
      ],
      "text/plain": [
       "<IPython.core.display.HTML object>"
      ]
     },
     "metadata": {},
     "output_type": "display_data"
    }
   ],
   "source": [
    "A.table(results, end=10)"
   ]
  }
 ],
 "metadata": {
  "jupytext": {
   "encoding": "# -*- coding: utf-8 -*-"
  },
  "kernelspec": {
   "display_name": "Python 3",
   "language": "python",
   "name": "python3"
  },
  "language_info": {
   "codemirror_mode": {
    "name": "ipython",
    "version": 3
   },
   "file_extension": ".py",
   "mimetype": "text/x-python",
   "name": "python",
   "nbconvert_exporter": "python",
   "pygments_lexer": "ipython3",
   "version": "3.7.7"
  }
 },
 "nbformat": 4,
 "nbformat_minor": 4
}
