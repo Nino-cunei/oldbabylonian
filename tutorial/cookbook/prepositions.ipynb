{
 "cells": [
  {
   "cell_type": "markdown",
   "metadata": {},
   "source": [
    "For the main tutorial go to [start](../start.ipynb)\n",
    "\n",
    "---"
   ]
  },
  {
   "cell_type": "markdown",
   "metadata": {},
   "source": [
    "# Prepositions\n",
    "\n",
    "Prepositions play a role in finding nouns.\n",
    "\n",
    "Here we do some basic exploration."
   ]
  },
  {
   "cell_type": "code",
   "execution_count": 1,
   "metadata": {
    "lines_to_next_cell": 2
   },
   "outputs": [],
   "source": [
    "from tf.app import use"
   ]
  },
  {
   "cell_type": "code",
   "execution_count": 2,
   "metadata": {},
   "outputs": [
    {
     "data": {
      "text/html": [
       "<b title=\"local github\">TF-app:</b> <span title=\"repo clone offline under ~/github\">~/github/annotation/app-oldbabylonian/code</span>"
      ],
      "text/plain": [
       "<IPython.core.display.HTML object>"
      ]
     },
     "metadata": {},
     "output_type": "display_data"
    },
    {
     "data": {
      "text/html": [
       "<b title=\"local github\">data:</b> <span title=\"repo clone offline under ~/github\">~/github/Nino-cunei/oldbabylonian/tf/1.0.5</span>"
      ],
      "text/plain": [
       "<IPython.core.display.HTML object>"
      ]
     },
     "metadata": {},
     "output_type": "display_data"
    },
    {
     "data": {
      "text/html": [
       "<b>Text-Fabric:</b> <a target=\"_blank\" href=\"https://annotation.github.io/text-fabric/cheatsheet.html\" title=\"text-fabric-api\">Text-Fabric API 8.3.0</a>, <a target=\"_blank\" href=\"https://github.com/annotation/app-oldbabylonian\" title=\"oldbabylonian TF-app\">app-oldbabylonian</a>, <a target=\"_blank\" href=\"https://annotation.github.io/text-fabric/about/searchusage.html\" title=\"Search Templates Introduction and Reference\">Search Reference</a><br><b>Data:</b> <a target=\"_blank\" href=\"https://github.com/Nino-cunei/oldbabylonian/blob/master/docs/about.md\" title=\"provenance of Old Babylonian Letters 1900-1600: Cuneiform tablets \">OLDBABYLONIAN</a>, <a target=\"_blank\" href=\"https://github.com/Nino-cunei/oldbabylonian/blob/master/docs/programs/mapReadings.ipynb\" title=\"mapping from readings to UNICODE\">Character table</a>, <a target=\"_blank\" href=\"https://github.com/Nino-cunei/oldbabylonian/blob/master/docs/transcription.md\" title=\"OLDBABYLONIAN feature documentation\">Feature docs</a><br><b>Features:</b><br><details><summary><b>Old Babylonian Letters 1900-1600: Cuneiform tablets </b></summary><a target=\"_blank\" href=\"https://github.com/Nino-cunei/oldbabylonian/blob/master/docs/transcription.md\" title=\"~/github/Nino-cunei/oldbabylonian/tf/1.0.5/ARK.tf\">ARK</a><br><a target=\"_blank\" href=\"https://github.com/Nino-cunei/oldbabylonian/blob/master/docs/transcription.md\" title=\"~/github/Nino-cunei/oldbabylonian/tf/1.0.5/after.tf\">after</a><br><a target=\"_blank\" href=\"https://github.com/Nino-cunei/oldbabylonian/blob/master/docs/transcription.md\" title=\"~/github/Nino-cunei/oldbabylonian/tf/1.0.5/afterr.tf\">afterr</a><br><a target=\"_blank\" href=\"https://github.com/Nino-cunei/oldbabylonian/blob/master/docs/transcription.md\" title=\"~/github/Nino-cunei/oldbabylonian/tf/1.0.5/afteru.tf\">afteru</a><br><a target=\"_blank\" href=\"https://github.com/Nino-cunei/oldbabylonian/blob/master/docs/transcription.md\" title=\"~/github/Nino-cunei/oldbabylonian/tf/1.0.5/atf.tf\">atf</a><br><a target=\"_blank\" href=\"https://github.com/Nino-cunei/oldbabylonian/blob/master/docs/transcription.md\" title=\"~/github/Nino-cunei/oldbabylonian/tf/1.0.5/atfpost.tf\">atfpost</a><br><a target=\"_blank\" href=\"https://github.com/Nino-cunei/oldbabylonian/blob/master/docs/transcription.md\" title=\"~/github/Nino-cunei/oldbabylonian/tf/1.0.5/atfpre.tf\">atfpre</a><br><a target=\"_blank\" href=\"https://github.com/Nino-cunei/oldbabylonian/blob/master/docs/transcription.md\" title=\"~/github/Nino-cunei/oldbabylonian/tf/1.0.5/author.tf\">author</a><br><a target=\"_blank\" href=\"https://github.com/Nino-cunei/oldbabylonian/blob/master/docs/transcription.md\" title=\"~/github/Nino-cunei/oldbabylonian/tf/1.0.5/col.tf\">col</a><br><a target=\"_blank\" href=\"https://github.com/Nino-cunei/oldbabylonian/blob/master/docs/transcription.md\" title=\"~/github/Nino-cunei/oldbabylonian/tf/1.0.5/collated.tf\">collated</a><br><a target=\"_blank\" href=\"https://github.com/Nino-cunei/oldbabylonian/blob/master/docs/transcription.md\" title=\"~/github/Nino-cunei/oldbabylonian/tf/1.0.5/collection.tf\">collection</a><br><a target=\"_blank\" href=\"https://github.com/Nino-cunei/oldbabylonian/blob/master/docs/transcription.md\" title=\"~/github/Nino-cunei/oldbabylonian/tf/1.0.5/comment.tf\">comment</a><br><a target=\"_blank\" href=\"https://github.com/Nino-cunei/oldbabylonian/blob/master/docs/transcription.md\" title=\"~/github/Nino-cunei/oldbabylonian/tf/1.0.5/damage.tf\">damage</a><br><a target=\"_blank\" href=\"https://github.com/Nino-cunei/oldbabylonian/blob/master/docs/transcription.md\" title=\"~/github/Nino-cunei/oldbabylonian/tf/1.0.5/det.tf\">det</a><br><a target=\"_blank\" href=\"https://github.com/Nino-cunei/oldbabylonian/blob/master/docs/transcription.md\" title=\"~/github/Nino-cunei/oldbabylonian/tf/1.0.5/docnote.tf\">docnote</a><br><a target=\"_blank\" href=\"https://github.com/Nino-cunei/oldbabylonian/blob/master/docs/transcription.md\" title=\"~/github/Nino-cunei/oldbabylonian/tf/1.0.5/docnumber.tf\">docnumber</a><br><a target=\"_blank\" href=\"https://github.com/Nino-cunei/oldbabylonian/blob/master/docs/transcription.md\" title=\"~/github/Nino-cunei/oldbabylonian/tf/1.0.5/excavation.tf\">excavation</a><br><a target=\"_blank\" href=\"https://github.com/Nino-cunei/oldbabylonian/blob/master/docs/transcription.md\" title=\"~/github/Nino-cunei/oldbabylonian/tf/1.0.5/excised.tf\">excised</a><br><a target=\"_blank\" href=\"https://github.com/Nino-cunei/oldbabylonian/blob/master/docs/transcription.md\" title=\"~/github/Nino-cunei/oldbabylonian/tf/1.0.5/face.tf\">face</a><br><a target=\"_blank\" href=\"https://github.com/Nino-cunei/oldbabylonian/blob/master/docs/transcription.md\" title=\"~/github/Nino-cunei/oldbabylonian/tf/1.0.5/flags.tf\">flags</a><br><a target=\"_blank\" href=\"https://github.com/Nino-cunei/oldbabylonian/blob/master/docs/transcription.md\" title=\"~/github/Nino-cunei/oldbabylonian/tf/1.0.5/fraction.tf\">fraction</a><br><a target=\"_blank\" href=\"https://github.com/Nino-cunei/oldbabylonian/blob/master/docs/transcription.md\" title=\"~/github/Nino-cunei/oldbabylonian/tf/1.0.5/genre.tf\">genre</a><br><a target=\"_blank\" href=\"https://github.com/Nino-cunei/oldbabylonian/blob/master/docs/transcription.md\" title=\"~/github/Nino-cunei/oldbabylonian/tf/1.0.5/grapheme.tf\">grapheme</a><br><a target=\"_blank\" href=\"https://github.com/Nino-cunei/oldbabylonian/blob/master/docs/transcription.md\" title=\"~/github/Nino-cunei/oldbabylonian/tf/1.0.5/graphemer.tf\">graphemer</a><br><a target=\"_blank\" href=\"https://github.com/Nino-cunei/oldbabylonian/blob/master/docs/transcription.md\" title=\"~/github/Nino-cunei/oldbabylonian/tf/1.0.5/graphemeu.tf\">graphemeu</a><br><a target=\"_blank\" href=\"https://github.com/Nino-cunei/oldbabylonian/blob/master/docs/transcription.md\" title=\"~/github/Nino-cunei/oldbabylonian/tf/1.0.5/lang.tf\">lang</a><br><a target=\"_blank\" href=\"https://github.com/Nino-cunei/oldbabylonian/blob/master/docs/transcription.md\" title=\"~/github/Nino-cunei/oldbabylonian/tf/1.0.5/langalt.tf\">langalt</a><br><a target=\"_blank\" href=\"https://github.com/Nino-cunei/oldbabylonian/blob/master/docs/transcription.md\" title=\"~/github/Nino-cunei/oldbabylonian/tf/1.0.5/ln.tf\">ln</a><br><a target=\"_blank\" href=\"https://github.com/Nino-cunei/oldbabylonian/blob/master/docs/transcription.md\" title=\"~/github/Nino-cunei/oldbabylonian/tf/1.0.5/lnc.tf\">lnc</a><br><a target=\"_blank\" href=\"https://github.com/Nino-cunei/oldbabylonian/blob/master/docs/transcription.md\" title=\"~/github/Nino-cunei/oldbabylonian/tf/1.0.5/lnno.tf\">lnno</a><br><a target=\"_blank\" href=\"https://github.com/Nino-cunei/oldbabylonian/blob/master/docs/transcription.md\" title=\"~/github/Nino-cunei/oldbabylonian/tf/1.0.5/material.tf\">material</a><br><a target=\"_blank\" href=\"https://github.com/Nino-cunei/oldbabylonian/blob/master/docs/transcription.md\" title=\"~/github/Nino-cunei/oldbabylonian/tf/1.0.5/missing.tf\">missing</a><br><a target=\"_blank\" href=\"https://github.com/Nino-cunei/oldbabylonian/blob/master/docs/transcription.md\" title=\"~/github/Nino-cunei/oldbabylonian/tf/1.0.5/museumcode.tf\">museumcode</a><br><a target=\"_blank\" href=\"https://github.com/Nino-cunei/oldbabylonian/blob/master/docs/transcription.md\" title=\"~/github/Nino-cunei/oldbabylonian/tf/1.0.5/museumname.tf\">museumname</a><br><a target=\"_blank\" href=\"https://github.com/Nino-cunei/oldbabylonian/blob/master/docs/transcription.md\" title=\"~/github/Nino-cunei/oldbabylonian/tf/1.0.5/object.tf\">object</a><br><a target=\"_blank\" href=\"https://github.com/Nino-cunei/oldbabylonian/blob/master/docs/transcription.md\" title=\"~/github/Nino-cunei/oldbabylonian/tf/1.0.5/operator.tf\">operator</a><br><a target=\"_blank\" href=\"https://github.com/Nino-cunei/oldbabylonian/blob/master/docs/transcription.md\" title=\"~/github/Nino-cunei/oldbabylonian/tf/1.0.5/operatorr.tf\">operatorr</a><br><a target=\"_blank\" href=\"https://github.com/Nino-cunei/oldbabylonian/blob/master/docs/transcription.md\" title=\"~/github/Nino-cunei/oldbabylonian/tf/1.0.5/operatoru.tf\">operatoru</a><br><a target=\"_blank\" href=\"https://github.com/Nino-cunei/oldbabylonian/blob/master/docs/transcription.md\" title=\"~/github/Nino-cunei/oldbabylonian/tf/1.0.5/otype.tf\">otype</a><br><a target=\"_blank\" href=\"https://github.com/Nino-cunei/oldbabylonian/blob/master/docs/transcription.md\" title=\"~/github/Nino-cunei/oldbabylonian/tf/1.0.5/period.tf\">period</a><br><a target=\"_blank\" href=\"https://github.com/Nino-cunei/oldbabylonian/blob/master/docs/transcription.md\" title=\"~/github/Nino-cunei/oldbabylonian/tf/1.0.5/pnumber.tf\">pnumber</a><br><a target=\"_blank\" href=\"https://github.com/Nino-cunei/oldbabylonian/blob/master/docs/transcription.md\" title=\"~/github/Nino-cunei/oldbabylonian/tf/1.0.5/primecol.tf\">primecol</a><br><a target=\"_blank\" href=\"https://github.com/Nino-cunei/oldbabylonian/blob/master/docs/transcription.md\" title=\"~/github/Nino-cunei/oldbabylonian/tf/1.0.5/primeln.tf\">primeln</a><br><a target=\"_blank\" href=\"https://github.com/Nino-cunei/oldbabylonian/blob/master/docs/transcription.md\" title=\"~/github/Nino-cunei/oldbabylonian/tf/1.0.5/pubdate.tf\">pubdate</a><br><a target=\"_blank\" href=\"https://github.com/Nino-cunei/oldbabylonian/blob/master/docs/transcription.md\" title=\"~/github/Nino-cunei/oldbabylonian/tf/1.0.5/question.tf\">question</a><br><a target=\"_blank\" href=\"https://github.com/Nino-cunei/oldbabylonian/blob/master/docs/transcription.md\" title=\"~/github/Nino-cunei/oldbabylonian/tf/1.0.5/reading.tf\">reading</a><br><a target=\"_blank\" href=\"https://github.com/Nino-cunei/oldbabylonian/blob/master/docs/transcription.md\" title=\"~/github/Nino-cunei/oldbabylonian/tf/1.0.5/readingr.tf\">readingr</a><br><a target=\"_blank\" href=\"https://github.com/Nino-cunei/oldbabylonian/blob/master/docs/transcription.md\" title=\"~/github/Nino-cunei/oldbabylonian/tf/1.0.5/readingu.tf\">readingu</a><br><a target=\"_blank\" href=\"https://github.com/Nino-cunei/oldbabylonian/blob/master/docs/transcription.md\" title=\"~/github/Nino-cunei/oldbabylonian/tf/1.0.5/remarkable.tf\">remarkable</a><br><a target=\"_blank\" href=\"https://github.com/Nino-cunei/oldbabylonian/blob/master/docs/transcription.md\" title=\"~/github/Nino-cunei/oldbabylonian/tf/1.0.5/remarks.tf\">remarks</a><br><a target=\"_blank\" href=\"https://github.com/Nino-cunei/oldbabylonian/blob/master/docs/transcription.md\" title=\"~/github/Nino-cunei/oldbabylonian/tf/1.0.5/repeat.tf\">repeat</a><br><a target=\"_blank\" href=\"https://github.com/Nino-cunei/oldbabylonian/blob/master/docs/transcription.md\" title=\"~/github/Nino-cunei/oldbabylonian/tf/1.0.5/srcLn.tf\">srcLn</a><br><a target=\"_blank\" href=\"https://github.com/Nino-cunei/oldbabylonian/blob/master/docs/transcription.md\" title=\"~/github/Nino-cunei/oldbabylonian/tf/1.0.5/srcLnNum.tf\">srcLnNum</a><br><a target=\"_blank\" href=\"https://github.com/Nino-cunei/oldbabylonian/blob/master/docs/transcription.md\" title=\"~/github/Nino-cunei/oldbabylonian/tf/1.0.5/srcfile.tf\">srcfile</a><br><a target=\"_blank\" href=\"https://github.com/Nino-cunei/oldbabylonian/blob/master/docs/transcription.md\" title=\"~/github/Nino-cunei/oldbabylonian/tf/1.0.5/subgenre.tf\">subgenre</a><br><a target=\"_blank\" href=\"https://github.com/Nino-cunei/oldbabylonian/blob/master/docs/transcription.md\" title=\"~/github/Nino-cunei/oldbabylonian/tf/1.0.5/supplied.tf\">supplied</a><br><a target=\"_blank\" href=\"https://github.com/Nino-cunei/oldbabylonian/blob/master/docs/transcription.md\" title=\"~/github/Nino-cunei/oldbabylonian/tf/1.0.5/sym.tf\">sym</a><br><a target=\"_blank\" href=\"https://github.com/Nino-cunei/oldbabylonian/blob/master/docs/transcription.md\" title=\"~/github/Nino-cunei/oldbabylonian/tf/1.0.5/symr.tf\">symr</a><br><a target=\"_blank\" href=\"https://github.com/Nino-cunei/oldbabylonian/blob/master/docs/transcription.md\" title=\"~/github/Nino-cunei/oldbabylonian/tf/1.0.5/symu.tf\">symu</a><br><a target=\"_blank\" href=\"https://github.com/Nino-cunei/oldbabylonian/blob/master/docs/transcription.md\" title=\"~/github/Nino-cunei/oldbabylonian/tf/1.0.5/trans.tf\">trans</a><br><a target=\"_blank\" href=\"https://github.com/Nino-cunei/oldbabylonian/blob/master/docs/transcription.md\" title=\"~/github/Nino-cunei/oldbabylonian/tf/1.0.5/transcriber.tf\">transcriber</a><br><a target=\"_blank\" href=\"https://github.com/Nino-cunei/oldbabylonian/blob/master/docs/transcription.md\" title=\"~/github/Nino-cunei/oldbabylonian/tf/1.0.5/translation@en.tf\">translation@ll</a><br><a target=\"_blank\" href=\"https://github.com/Nino-cunei/oldbabylonian/blob/master/docs/transcription.md\" title=\"~/github/Nino-cunei/oldbabylonian/tf/1.0.5/type.tf\">type</a><br><a target=\"_blank\" href=\"https://github.com/Nino-cunei/oldbabylonian/blob/master/docs/transcription.md\" title=\"~/github/Nino-cunei/oldbabylonian/tf/1.0.5/uncertain.tf\">uncertain</a><br><a target=\"_blank\" href=\"https://github.com/Nino-cunei/oldbabylonian/blob/master/docs/transcription.md\" title=\"~/github/Nino-cunei/oldbabylonian/tf/1.0.5/volume.tf\">volume</a><br><b><i><a target=\"_blank\" href=\"https://github.com/Nino-cunei/oldbabylonian/blob/master/docs/transcription.md\" title=\"~/github/Nino-cunei/oldbabylonian/tf/1.0.5/oslots.tf\">oslots</a></i></b><br></details>"
      ],
      "text/plain": [
       "<IPython.core.display.HTML object>"
      ]
     },
     "metadata": {},
     "output_type": "display_data"
    },
    {
     "data": {
      "text/html": [
       "<style>tr.tf.ltr, td.tf.ltr, th.tf.ltr { text-align: left ! important;}\n",
       "tr.tf.rtl, td.tf.rtl, th.tf.rtl { text-align: right ! important;}\n",
       "@font-face {\n",
       "  font-family: \"Ezra SIL\";\n",
       "  src: local('Ezra SIL'), local('EzraSIL'),\n",
       "    url('/server/static/fonts/SILEOT.woff') format('woff'),\n",
       "    url('https://github.com/annotation/text-fabric/blob/master/tf/server/static/fonts/SILEOT.woff?raw=true') format('woff');\n",
       "}\n",
       "\n",
       "@font-face {\n",
       "  font-family: \"SBL Hebrew\";\n",
       "  src: local('SBL Hebrew'), local('SBLHebrew'),\n",
       "    url('/server/static/fonts/SBL_Hbrw.woff') format('woff'),\n",
       "    url('https://github.com/annotation/text-fabric/blob/master/tf/server/static/fonts/SBL_Hbrw.woff?raw=true') format('woff');\n",
       "}\n",
       "\n",
       "@font-face {\n",
       "  font-family: \"Estrangelo Edessa\";\n",
       "  src: local('Estrangelo Edessa'), local('EstrangeloEdessa');\n",
       "    url('/server/static/fonts/SyrCOMEdessa.woff') format('woff'),\n",
       "    url('https://github.com/annotation/text-fabric/blob/master/tf/server/static/fonts/SyrCOMEdessa.woff?raw=true') format('woff');\n",
       "}\n",
       "\n",
       "@font-face {\n",
       "  font-family: AmiriQuran;\n",
       "  font-style: normal;\n",
       "  font-weight: 400;\n",
       "  src: local('Amiri Quran'), local('AmiriQuran'),\n",
       "    url('/server/static/fonts/AmiriQuran.woff') format('woff'),\n",
       "    url('https://github.com/annotation/text-fabric/blob/master/tf/server/static/fonts/AmiriQuran.woff?raw=true') format('woff');\n",
       "}\n",
       "\n",
       "@font-face {\n",
       "  font-family: AmiriQuranColored;\n",
       "  font-style: normal;\n",
       "  font-weight: 400;\n",
       "  src: local('Amiri Quran Colored'), local('AmiriQuranColored'),\n",
       "    url('/server/static/fonts/AmiriQuranColored.woff') format('woff'),\n",
       "    url('https://github.com/annotation/text-fabric/blob/master/tf/server/static/fonts/AmiriQuranColored.woff?raw=true') format('woff');\n",
       "}\n",
       "\n",
       "@font-face {\n",
       "  font-family: \"Santakku\";\n",
       "  src: local('Santakku'),\n",
       "    url('/server/static/fonts/Santakku.woff') format('woff'),\n",
       "    url('https://github.com/annotation/text-fabric/blob/master/tf/server/static/fonts/Santakku.woff?raw=true') format('woff');\n",
       "}\n",
       "\n",
       "@font-face {\n",
       "  font-family: \"SantakkuM\";\n",
       "  src: local('SantakkuM'),\n",
       "    url('/server/static/fonts/SantakkuM.woff') format('woff'),\n",
       "    url('https://github.com/annotation/text-fabric/blob/master/tf/server/static/fonts/SantakkuM.woff?raw=true') format('woff');\n",
       "}\n",
       "/* bypassing some classical notebook settings */\n",
       "div#notebook {\n",
       "  line-height: unset;\n",
       "}\n",
       "/* neutral text */\n",
       ".txtn,.txtn a:visited,.txtn a:link {\n",
       "    font-family: sans-serif;\n",
       "    font-size: medium;\n",
       "    direction: ltr;\n",
       "    text-decoration: none;\n",
       "    color: var(--text-color);\n",
       "}\n",
       "/* transcription text */\n",
       ".txtt,.txtt a:visited,.txtt a:link {\n",
       "    font-family: monospace;\n",
       "    font-size: medium;\n",
       "    direction: ltr;\n",
       "    text-decoration: none;\n",
       "    color: var(--text-color);\n",
       "}\n",
       "/* source text */\n",
       ".txto,.txto a:visited,.txto a:link {\n",
       "    font-family: serif;\n",
       "    font-size: medium;\n",
       "    direction: ltr;\n",
       "    text-decoration: none;\n",
       "    color: var(--text-color);\n",
       "}\n",
       "/* phonetic text */\n",
       ".txtp,.txtp a:visited,.txtp a:link {\n",
       "    font-family: Gentium, sans-serif;\n",
       "    font-size: medium;\n",
       "    direction: ltr;\n",
       "    text-decoration: none;\n",
       "    color: var(--text-color);\n",
       "}\n",
       "/* original script text */\n",
       ".txtu,.txtu a:visited,.txtu a:link {\n",
       "    font-family: Gentium, sans-serif;\n",
       "    font-size: medium;\n",
       "    text-decoration: none;\n",
       "    color: var(--text-color);\n",
       "}\n",
       "/* hebrew */\n",
       ".txtu.hbo,.lex.hbo {\n",
       "    font-family: \"Ezra SIL\", \"SBL Hebrew\", sans-serif;\n",
       "    font-size: large;\n",
       "    direction: rtl ! important;\n",
       "    unicode-bidi: embed;\n",
       "}\n",
       "/* syriac */\n",
       ".txtu.syc,.lex.syc {\n",
       "    font-family: \"Estrangelo Edessa\", sans-serif;\n",
       "    font-size: medium;\n",
       "    direction: rtl ! important;\n",
       "    unicode-bidi: embed;\n",
       "}\n",
       "/* neo aramaic */\n",
       ".txtu.cld,.lex.cld {\n",
       "    font-family: \"CharisSIL-R\", sans-serif;\n",
       "    font-size: medium;\n",
       "    direction: ltr ! important;\n",
       "    unicode-bidi: embed;\n",
       "}\n",
       "/* standard arabic */\n",
       ".txtu.ara,.lex.ara {\n",
       "    font-family: \"AmiriQuran\", sans-serif;\n",
       "    font-size: large;\n",
       "    direction: rtl ! important;\n",
       "    unicode-bidi: embed;\n",
       "}\n",
       "/* cuneiform */\n",
       ".txtu.akk,.lex.akk {\n",
       "    font-family: Santakku, sans-serif;\n",
       "    font-size: large;\n",
       "    direction: ltr ! important;\n",
       "    unicode-bidi: embed;\n",
       "}\n",
       "/* greek */\n",
       ".txtu.grc,.lex.grc a:link {\n",
       "    font-family: Gentium, sans-serif;\n",
       "    font-size: medium;\n",
       "    direction: ltr ! important;\n",
       "    unicode-bidi: embed;\n",
       "}\n",
       "a:hover {\n",
       "    text-decoration: underline | important;\n",
       "    color: #0000ff | important;\n",
       "}\n",
       ".ltr {\n",
       "    direction: ltr ! important;\n",
       "}\n",
       ".rtl {\n",
       "    direction: rtl ! important;\n",
       "}\n",
       ".features {\n",
       "    font-family: monospace;\n",
       "    font-size: medium;\n",
       "    font-weight: bold;\n",
       "    color: var(--features);\n",
       "    display: flex;\n",
       "    flex-flow: column nowrap;\n",
       "    justify-content: flex-start;\n",
       "    align-items: flex-start;\n",
       "    align-content: flex-start;\n",
       "    padding: 0.1rem;\n",
       "    margin: 0.1rem;\n",
       "    direction: ltr;\n",
       "    border: var(--meta-width) solid var(--meta-color);\n",
       "    border-radius: var(--meta-width);\n",
       "}\n",
       ".features div,.features span {\n",
       "    padding: 0;\n",
       "    margin: -0.1rem 0;\n",
       "}\n",
       ".features .f {\n",
       "    font-family: sans-serif;\n",
       "    font-size: small;\n",
       "    font-weight: normal;\n",
       "    color: #5555bb;\n",
       "}\n",
       ".features .xft {\n",
       "  color: #000000;\n",
       "  background-color: #eeeeee;\n",
       "  font-size: medium;\n",
       "  margin: 0.1rem 0rem;\n",
       "}\n",
       ".features .xft .f {\n",
       "  color: #000000;\n",
       "  background-color: #eeeeee;\n",
       "  font-size: small;\n",
       "  font-weight: normal;\n",
       "}\n",
       ".section {\n",
       "    font-family: sans-serif;\n",
       "    font-size: small;\n",
       "    font-weight: bold;\n",
       "    color: var(--section);\n",
       "    unicode-bidi: embed;\n",
       "    text-align: start;\n",
       "}\n",
       ".structure {\n",
       "    font-family: sans-serif;\n",
       "    font-size: small;\n",
       "    font-weight: bold;\n",
       "    color: var(--structure);\n",
       "    unicode-bidi: embed;\n",
       "    text-align: start;\n",
       "}\n",
       ".comments {\n",
       "    display: flex;\n",
       "    justify-content: flex-start;\n",
       "    align-items: flex-start;\n",
       "    align-content: flex-start;\n",
       "    flex-flow: column nowrap;\n",
       "}\n",
       ".nd, a:link.nd {\n",
       "    font-family: sans-serif;\n",
       "    font-size: small;\n",
       "    color: var(--node);\n",
       "    vertical-align: super;\n",
       "    direction: ltr ! important;\n",
       "    unicode-bidi: embed;\n",
       "}\n",
       ".lex {\n",
       "  color: var(--lex-color);;\n",
       "}\n",
       ".children,.children.ltr {\n",
       "    display: flex;\n",
       "    border: 0;\n",
       "    background-color: #ffffff;\n",
       "    justify-content: flex-start;\n",
       "    align-items: flex-start;\n",
       "    align-content: flex-start;\n",
       "}\n",
       ".children.stretch {\n",
       "    align-items: stretch;\n",
       "}\n",
       ".children.hor {\n",
       "    flex-flow: row nowrap;\n",
       "}\n",
       ".children.hor.wrap {\n",
       "    flex-flow: row wrap;\n",
       "}\n",
       ".children.ver {\n",
       "    flex-flow: column nowrap;\n",
       "}\n",
       ".children.ver.wrap {\n",
       "    flex-flow: column wrap;\n",
       "}\n",
       ".contnr {\n",
       "    width: fit-content;\n",
       "    display: flex;\n",
       "    justify-content: flex-start;\n",
       "    align-items: flex-start;\n",
       "    align-content: flex-start;\n",
       "    flex-flow: column nowrap;\n",
       "    background: #ffffff none repeat scroll 0 0;\n",
       "    padding:  0.5rem 0.1rem 0.1rem 0.1rem;\n",
       "    margin: 0.8rem 0.1rem 0.1rem 0.1rem;\n",
       "    border-style: solid;\n",
       "    font-size: small;\n",
       "}\n",
       ".contnr.trm {\n",
       "    background-attachment: local;\n",
       "}\n",
       ".contnr.cnul {\n",
       "    padding:  0;\n",
       "    margin: 0;\n",
       "    border-style: solid;\n",
       "    font-size: xx-small;\n",
       "}\n",
       ".contnr.cnul,.lbl.cnul {\n",
       "    border-color: var(--border-color-nul);\n",
       "    border-width: var(--border-width-nul);\n",
       "    border-radius: var(--border-width-nul);\n",
       "}\n",
       ".contnr.c0,.lbl.c0 {\n",
       "    border-color: var(--border-color0);\n",
       "    border-width: var(--border-width0);\n",
       "    border-radius: var(--border-width0);\n",
       "}\n",
       ".contnr.c1,.lbl.c1 {\n",
       "    border-color: var(--border-color1);\n",
       "    border-width: var(--border-width1);\n",
       "    border-radius: var(--border-width1);\n",
       "}\n",
       ".contnr.c2,.lbl.c2 {\n",
       "    border-color: var(--border-color2);\n",
       "    border-width: var(--border-width2);\n",
       "    border-radius: var(--border-width2);\n",
       "}\n",
       ".contnr.c3,.lbl.c3 {\n",
       "    border-color: var(--border-color3);\n",
       "    border-width: var(--border-width3);\n",
       "    border-radius: var(--border-width3);\n",
       "}\n",
       ".contnr.c4,.lbl.c4 {\n",
       "    border-color: var(--border-color4);\n",
       "    border-width: var(--border-width4);\n",
       "    border-radius: var(--border-width4);\n",
       "}\n",
       "span.plain {\n",
       "    display: inline-block;\n",
       "    white-space: pre-wrap;\n",
       "}\n",
       ".plain {\n",
       "    background-color: #ffffff;\n",
       "}\n",
       ".plain.l,.contnr.l,.contnr.l>.lbl {\n",
       "    border-left-style: dotted\n",
       "}\n",
       ".plain.r,.contnr.r,.contnr.r>.lbl {\n",
       "    border-right-style: dotted\n",
       "}\n",
       ".plain.lno,.contnr.lno,.contnr.lno>.lbl {\n",
       "    border-left-style: none\n",
       "}\n",
       ".plain.rno,.contnr.rno,.contnr.rno>.lbl {\n",
       "    border-right-style: none\n",
       "}\n",
       ".plain.l {\n",
       "    padding-left: 0.2rem;\n",
       "    margin-left: 0.1rem;\n",
       "    border-width: var(--border-width-plain);\n",
       "}\n",
       ".plain.r {\n",
       "    padding-right: 0.2rem;\n",
       "    margin-right: 0.1rem;\n",
       "    border-width: var(--border-width-plain);\n",
       "}\n",
       ".lbl {\n",
       "    font-family: monospace;\n",
       "    margin-top: -1.2rem;\n",
       "    margin-left: 1rem;\n",
       "    background: #ffffff none repeat scroll 0 0;\n",
       "    padding: 0 0.3rem;\n",
       "    border-style: solid;\n",
       "    display: block;\n",
       "    color: var(--label)\n",
       "}\n",
       ".lbl.trm {\n",
       "    background-attachment: local;\n",
       "    margin-top: 0.1rem;\n",
       "    margin-left: 0.1rem;\n",
       "    padding: 0.1rem 0.1rem;\n",
       "    border-style: none;\n",
       "}\n",
       ".lbl.cnul {\n",
       "    font-size: xx-small;\n",
       "}\n",
       ".lbl.c0 {\n",
       "    font-size: small;\n",
       "}\n",
       ".lbl.c1 {\n",
       "    font-size: small;\n",
       "}\n",
       ".lbl.c2 {\n",
       "    font-size: medium;\n",
       "}\n",
       ".lbl.c3 {\n",
       "    font-size: medium;\n",
       "}\n",
       ".lbl.c4 {\n",
       "    font-size: large;\n",
       "}\n",
       ".occs, a:link.occs {\n",
       "    font-size: small;\n",
       "}\n",
       "\n",
       "/* PROVENANCE */\n",
       "\n",
       "div.prov {\n",
       "\tmargin: 2rem;\n",
       "\tpadding: 1rem;\n",
       "\tborder: 0.1rem solid var(--fog-rim);\n",
       "}\n",
       "div.pline {\n",
       "\tdisplay: flex;\n",
       "\tflex-flow: row nowrap;\n",
       "\tjustify-content: stretch;\n",
       "\talign-items: baseline;\n",
       "}\n",
       "div.p2line {\n",
       "\tmargin-left: 2em;\n",
       "\tdisplay: flex;\n",
       "\tflex-flow: row nowrap;\n",
       "\tjustify-content: stretch;\n",
       "\talign-items: baseline;\n",
       "}\n",
       "div.psline {\n",
       "\tdisplay: flex;\n",
       "\tflex-flow: row nowrap;\n",
       "\tjustify-content: stretch;\n",
       "\talign-items: baseline;\n",
       "\tbackground-color: var(--gold-mist-back);\n",
       "}\n",
       "div.pname {\n",
       "\tflex: 0 0 5rem;\n",
       "\tfont-weight: bold;\n",
       "}\n",
       "div.pval {\n",
       "    flex: 1 1 auto;\n",
       "}\n",
       "\n",
       ":root {\n",
       "\t--node:               hsla(120, 100%,  20%, 1.0  );\n",
       "\t--label:              hsla(  0, 100%,  20%, 1.0  );\n",
       "\t--section:            hsla(  0, 100%,  25%, 1.0  );\n",
       "\t--structure:          hsla(120, 100%,  25%, 1.0  );\n",
       "\t--features:           hsla(  0,   0%,  30%, 1.0  );\n",
       "  --text-color:         hsla( 60,  80%,  10%, 1.0  );\n",
       "  --lex-color:          hsla(220,  90%,  60%, 1.0  );\n",
       "  --meta-color:         hsla(  0,   0%,  90%, 0.7  );\n",
       "  --meta-width:         0.15rem;\n",
       "  --border-color-nul:   hsla(  0,   0%,  90%, 0.5  );\n",
       "  --border-color0:      hsla(  0,   0%,  90%, 0.9  );\n",
       "  --border-color1:      hsla(  0,   0%,  80%, 0.9  );\n",
       "  --border-color2:      hsla(  0,   0%,  70%, 0.9  );\n",
       "  --border-color3:      hsla(  0,   0%,  80%, 0.8  );\n",
       "  --border-color4:      hsla(  0,   0%,  60%, 0.9  );\n",
       "  --border-width-nul:   0.1rem;\n",
       "  --border-width0:      0.1rem;\n",
       "  --border-width1:      0.15rem;\n",
       "  --border-width2:      0.2rem;\n",
       "  --border-width3:      0.3rem;\n",
       "  --border-width4:      0.25rem;\n",
       "  --border-width-plain: 0.1rem;\n",
       "}\n",
       ".hl {\n",
       "  background-color: var(--hl-strong);\n",
       "}\n",
       "span.hl {\n",
       "\tbackground-color: var(--hl-strong);\n",
       "\tborder-width: 0;\n",
       "\tborder-radius: 0.1rem;\n",
       "\tborder-style: solid;\n",
       "}\n",
       "div.contnr.hl,div.lbl.hl {\n",
       "  background-color: var(--hl-strong);\n",
       "}\n",
       "div.contnr.hl {\n",
       "  border-color: var(--hl-rim) ! important;\n",
       "\tborder-width: 0.2rem ! important;\n",
       "}\n",
       "\n",
       "span.hlbx {\n",
       "\tborder-color: var(--hl-rim);\n",
       "\tborder-width: 0.2rem ! important;\n",
       "\tborder-style: solid;\n",
       "\tborder-radius: 0.3rem;\n",
       "  padding: 0.2rem;\n",
       "  margin: 0.2rem;\n",
       "}\n",
       "\n",
       "span.plain {\n",
       "  display: inline-block;\n",
       "  white-space: pre-wrap;\n",
       "}\n",
       "\n",
       ":root {\n",
       "\t--hl-strong:        hsla( 60, 100%,  70%, 0.9  );\n",
       "\t--hl-rim:           hsla( 55,  80%,  50%, 1.0  );\n",
       "}\n",
       ".pnum {\n",
       "    font-family: sans-serif;\n",
       "    font-size: small;\n",
       "    font-weight: bold;\n",
       "    color: #444444;\n",
       "}\n",
       ".op {\n",
       "    padding:  0.5em 0.1em 0.1em 0.1em;\n",
       "    margin: 0.8em 0.1em 0.1em 0.1em;\n",
       "    font-family: monospace;\n",
       "    font-size: x-large;\n",
       "    font-weight: bold;\n",
       "}\n",
       ".period {\n",
       "    font-family: monospace;\n",
       "    font-size: medium;\n",
       "    font-weight: bold;\n",
       "    color: #0000bb;\n",
       "}\n",
       ".comment {\n",
       "    color: #7777dd;\n",
       "    font-family: monospace;\n",
       "    font-size: small;\n",
       "}\n",
       ".operator {\n",
       "    color: #ff77ff;\n",
       "    font-size: large;\n",
       "}\n",
       "/* LANGUAGE: superscript and subscript */\n",
       "\n",
       "/* cluster */\n",
       ".det {\n",
       "    vertical-align: super;\n",
       "}\n",
       "/* cluster */\n",
       ".langalt {\n",
       "    vertical-align: sub;\n",
       "}\n",
       "/* REDACTIONAL: line over or under  */\n",
       "\n",
       "/* flag */\n",
       ".collated {\n",
       "    font-weight: bold;\n",
       "    text-decoration: underline;\n",
       "}\n",
       "/* cluster */\n",
       ".excised {\n",
       "    color: #dd0000;\n",
       "    text-decoration: line-through;\n",
       "}\n",
       "/* cluster */\n",
       ".supplied {\n",
       "    color: #0000ff;\n",
       "    text-decoration: overline;\n",
       "}\n",
       "/* flag */\n",
       ".remarkable {\n",
       "    font-weight: bold;\n",
       "    text-decoration: overline;\n",
       "}\n",
       "\n",
       "/* UNSURE: italic*/\n",
       "\n",
       "/* cluster */\n",
       ".uncertain {\n",
       "    font-style: italic\n",
       "}\n",
       "/* flag */\n",
       ".question {\n",
       "    font-weight: bold;\n",
       "    font-style: italic\n",
       "}\n",
       "\n",
       "/* BROKEN: text-shadow */\n",
       "\n",
       "/* cluster */\n",
       ".missing {\n",
       "    color: #999999;\n",
       "    text-shadow: #bbbbbb 1px 1px;\n",
       "}\n",
       "/* flag */\n",
       ".damage {\n",
       "    font-weight: bold;\n",
       "    color: #999999;\n",
       "    text-shadow: #bbbbbb 1px 1px;\n",
       "}\n",
       ".empty {\n",
       "  color: #ff0000;\n",
       "}\n",
       "\n",
       "</style>"
      ],
      "text/plain": [
       "<IPython.core.display.HTML object>"
      ]
     },
     "metadata": {},
     "output_type": "display_data"
    },
    {
     "data": {
      "text/html": [
       "<div><b>Text-Fabric API:</b> names <a target=\"_blank\" href=\"https://annotation.github.io/text-fabric/cheatsheet.html\" title=\"doc\">N F E L T S C TF</a> directly usable</div><hr>"
      ],
      "text/plain": [
       "<IPython.core.display.HTML object>"
      ]
     },
     "metadata": {},
     "output_type": "display_data"
    }
   ],
   "source": [
    "A = use(\"oldbabylonian:clone\", checkout=\"clone\", hoist=globals())\n",
    "# A = use('oldbabylonian', hoist=globals())"
   ]
  },
  {
   "cell_type": "markdown",
   "metadata": {},
   "source": [
    "This is a list of prepositions:\n",
    "\n",
    "```\n",
    "i-na\n",
    "a-na\n",
    "e-li\n",
    "isz-tu\n",
    "it-ti\n",
    "```\n",
    "\n",
    "# Exploratory excursions\n",
    "\n",
    "Before we formulate a query to draw out the prepositions and their subsequent words,\n",
    "let's do some exploration.\n",
    "We'll need queries that are a bit more advanced as well, and we'll take a moment to explain\n",
    "what is going on.\n",
    "\n",
    "The first question is: do prepositions stand on their own as words, or are they part of words?\n",
    "Can they cross word boundaries?\n",
    "\n",
    "Let's check this out for the first preposition `i-na`:\n",
    "\n",
    "## i-na as complete word\n",
    "\n",
    "First we look for all complete words that are made up of two signs, with readings `i` and `na` respectively."
   ]
  },
  {
   "cell_type": "code",
   "execution_count": 3,
   "metadata": {},
   "outputs": [],
   "source": [
    "queryW = \"\"\"\n",
    "word\n",
    "  =: sign reading=i\n",
    "  <: sign reading=na\n",
    "  :=\n",
    "\"\"\""
   ]
  },
  {
   "cell_type": "markdown",
   "metadata": {},
   "source": [
    "Remember:\n",
    "\n",
    "* indentation in the template above means means that the indented objects\n",
    "  must be contained (embedded) in its less indented parent object:\n",
    "  the signs are embedded in the word;\n",
    "* `=:` connects the `words` with the first `sign`,\n",
    "  and the meaning is: both must *start* at the same slot;\n",
    "* `<:` connects the first sign with the second one,\n",
    "  and the meaning is that the first sign must immediately precede the second one;\n",
    "* `:=` connects the second sign with the word,\n",
    "  and the meaning is that both must *end* at the same slot.\n",
    "\n",
    "**Hint** Do you find it hard to remember what is what between `:=` and `=:`?\n",
    "Look at the position of the `=`:\n",
    "\n",
    "* in `:=` the `=` comes last, and the meaning is:\n",
    "  both *end* at the same slot.\n",
    "* in `=:` the `=` comes first, and the meaning is:\n",
    "  both *start* at the same slot."
   ]
  },
  {
   "cell_type": "code",
   "execution_count": 4,
   "metadata": {},
   "outputs": [
    {
     "name": "stdout",
     "output_type": "stream",
     "text": [
      "  0.46s 1440 results\n"
     ]
    }
   ],
   "source": [
    "resultsW = A.search(queryW)"
   ]
  },
  {
   "cell_type": "code",
   "execution_count": 5,
   "metadata": {},
   "outputs": [
    {
     "data": {
      "text/html": [
       "<table><tr class=\"tf ltr\"><th class=\"tf ltr\">n</th><th class=\"tf ltr\">p</th><th class=\"tf ltr\">word</th><th class=\"tf\">sign</th><th class=\"tf\">sign</th></tr>\n",
       "<tr class=\"tf ltr\"><td class=\"tf ltr\">1</td><td class=\"tf ltr\"><span class=\"section ltr\"><a target=\"_blank\" href=\"https://cdli.ucla.edu/search/search_results.php?SearchMode=Text&amp;ObjectID=P509373\" title=\"Show this document on CDLI\" sec=\"P509373 obverse:12\">P509373 obverse:12</a></span></td><td class=\"tf ltr\"><div class=\"\"><span class=\"plain   hlbx\" ><span class=\"plain   hl\" ><span class=\"txto\">i-</span></span><span class=\"plain   hl\" ><span class=\"txto\">na </span></span></span></div></td><td class=\"tf ltr\"><div class=\"\"><span class=\"plain   hl\" ><span class=\"txto\">i-</span></span></div></td><td class=\"tf ltr\"><div class=\"\"><span class=\"plain   hl\" ><span class=\"txto\">na </span></span></div></td></tr>\n",
       "<tr class=\"tf ltr\"><td class=\"tf ltr\">2</td><td class=\"tf ltr\"><span class=\"section ltr\"><a target=\"_blank\" href=\"https://cdli.ucla.edu/search/search_results.php?SearchMode=Text&amp;ObjectID=P509373\" title=\"Show this document on CDLI\" sec=\"P509373 reverse:11'\">P509373 reverse:11'</a></span></td><td class=\"tf ltr\"><div class=\"\"><span class=\"plain   hlbx\" ><span class=\"plain   hl\" ><span class=\"txto\">i-</span></span><span class=\"plain   hl\" ><span class=\"txto\">[na] </span></span></span></div></td><td class=\"tf ltr\"><div class=\"\"><span class=\"plain   hl\" ><span class=\"txto\">i-</span></span></div></td><td class=\"tf ltr\"><div class=\"\"><span class=\"plain   hl\" ><span class=\"txto\">[na] </span></span></div></td></tr>\n",
       "<tr class=\"tf ltr\"><td class=\"tf ltr\">3</td><td class=\"tf ltr\"><span class=\"section ltr\"><a target=\"_blank\" href=\"https://cdli.ucla.edu/search/search_results.php?SearchMode=Text&amp;ObjectID=P509374\" title=\"Show this document on CDLI\" sec=\"P509374 obverse:15\">P509374 obverse:15</a></span></td><td class=\"tf ltr\"><div class=\"\"><span class=\"plain   hlbx\" ><span class=\"plain   hl\" ><span class=\"txto\">i-</span></span><span class=\"plain   hl\" ><span class=\"txto\">na </span></span></span></div></td><td class=\"tf ltr\"><div class=\"\"><span class=\"plain   hl\" ><span class=\"txto\">i-</span></span></div></td><td class=\"tf ltr\"><div class=\"\"><span class=\"plain   hl\" ><span class=\"txto\">na </span></span></div></td></tr>\n",
       "<tr class=\"tf ltr\"><td class=\"tf ltr\">4</td><td class=\"tf ltr\"><span class=\"section ltr\"><a target=\"_blank\" href=\"https://cdli.ucla.edu/search/search_results.php?SearchMode=Text&amp;ObjectID=P509375\" title=\"Show this document on CDLI\" sec=\"P509375 reverse:9\">P509375 reverse:9</a></span></td><td class=\"tf ltr\"><div class=\"\"><span class=\"plain   hlbx\" ><span class=\"plain   hl\" ><span class=\"txto\">i-</span></span><span class=\"plain   hl\" ><span class=\"txto\">na </span></span></span></div></td><td class=\"tf ltr\"><div class=\"\"><span class=\"plain   hl\" ><span class=\"txto\">i-</span></span></div></td><td class=\"tf ltr\"><div class=\"\"><span class=\"plain   hl\" ><span class=\"txto\">na </span></span></div></td></tr>\n",
       "<tr class=\"tf ltr\"><td class=\"tf ltr\">5</td><td class=\"tf ltr\"><span class=\"section ltr\"><a target=\"_blank\" href=\"https://cdli.ucla.edu/search/search_results.php?SearchMode=Text&amp;ObjectID=P509376\" title=\"Show this document on CDLI\" sec=\"P509376 reverse:4\">P509376 reverse:4</a></span></td><td class=\"tf ltr\"><div class=\"\"><span class=\"plain   hlbx\" ><span class=\"plain   hl\" ><span class=\"txto\">i-</span></span><span class=\"plain   hl\" ><span class=\"txto\">na </span></span></span></div></td><td class=\"tf ltr\"><div class=\"\"><span class=\"plain   hl\" ><span class=\"txto\">i-</span></span></div></td><td class=\"tf ltr\"><div class=\"\"><span class=\"plain   hl\" ><span class=\"txto\">na </span></span></div></td></tr>\n",
       "<tr class=\"tf ltr\"><td class=\"tf ltr\">6</td><td class=\"tf ltr\"><span class=\"section ltr\"><a target=\"_blank\" href=\"https://cdli.ucla.edu/search/search_results.php?SearchMode=Text&amp;ObjectID=P509377\" title=\"Show this document on CDLI\" sec=\"P509377 obverse:1\">P509377 obverse:1</a></span></td><td class=\"tf ltr\"><div class=\"\"><span class=\"plain   hlbx\" ><span class=\"plain   hl\" ><span class=\"txto\">i-</span></span><span class=\"plain   hl\" ><span class=\"txto\">na </span></span></span></div></td><td class=\"tf ltr\"><div class=\"\"><span class=\"plain   hl\" ><span class=\"txto\">i-</span></span></div></td><td class=\"tf ltr\"><div class=\"\"><span class=\"plain   hl\" ><span class=\"txto\">na </span></span></div></td></tr>\n",
       "<tr class=\"tf ltr\"><td class=\"tf ltr\">7</td><td class=\"tf ltr\"><span class=\"section ltr\"><a target=\"_blank\" href=\"https://cdli.ucla.edu/search/search_results.php?SearchMode=Text&amp;ObjectID=P509377\" title=\"Show this document on CDLI\" sec=\"P509377 reverse:4\">P509377 reverse:4</a></span></td><td class=\"tf ltr\"><div class=\"\"><span class=\"plain   hlbx\" ><span class=\"plain   hl\" ><span class=\"txto\">i-</span></span><span class=\"plain   hl\" ><span class=\"txto\">na </span></span></span></div></td><td class=\"tf ltr\"><div class=\"\"><span class=\"plain   hl\" ><span class=\"txto\">i-</span></span></div></td><td class=\"tf ltr\"><div class=\"\"><span class=\"plain   hl\" ><span class=\"txto\">na </span></span></div></td></tr>\n",
       "<tr class=\"tf ltr\"><td class=\"tf ltr\">8</td><td class=\"tf ltr\"><span class=\"section ltr\"><a target=\"_blank\" href=\"https://cdli.ucla.edu/search/search_results.php?SearchMode=Text&amp;ObjectID=P509377\" title=\"Show this document on CDLI\" sec=\"P509377 reverse:5\">P509377 reverse:5</a></span></td><td class=\"tf ltr\"><div class=\"\"><span class=\"plain   hlbx\" ><span class=\"plain   hl\" ><span class=\"txto\">i-</span></span><span class=\"plain   hl\" ><span class=\"txto\">na </span></span></span></div></td><td class=\"tf ltr\"><div class=\"\"><span class=\"plain   hl\" ><span class=\"txto\">i-</span></span></div></td><td class=\"tf ltr\"><div class=\"\"><span class=\"plain   hl\" ><span class=\"txto\">na </span></span></div></td></tr>\n",
       "<tr class=\"tf ltr\"><td class=\"tf ltr\">9</td><td class=\"tf ltr\"><span class=\"section ltr\"><a target=\"_blank\" href=\"https://cdli.ucla.edu/search/search_results.php?SearchMode=Text&amp;ObjectID=P509377\" title=\"Show this document on CDLI\" sec=\"P509377 reverse:12\">P509377 reverse:12</a></span></td><td class=\"tf ltr\"><div class=\"\"><span class=\"plain   hlbx\" ><span class=\"plain   hl\" ><span class=\"txto\">i-</span></span><span class=\"plain   hl\" ><span class=\"txto\">na </span></span></span></div></td><td class=\"tf ltr\"><div class=\"\"><span class=\"plain   hl\" ><span class=\"txto\">i-</span></span></div></td><td class=\"tf ltr\"><div class=\"\"><span class=\"plain   hl\" ><span class=\"txto\">na </span></span></div></td></tr>\n",
       "<tr class=\"tf ltr\"><td class=\"tf ltr\">10</td><td class=\"tf ltr\"><span class=\"section ltr\"><a target=\"_blank\" href=\"https://cdli.ucla.edu/search/search_results.php?SearchMode=Text&amp;ObjectID=P481192\" title=\"Show this document on CDLI\" sec=\"P481192 reverse:1'\">P481192 reverse:1'</a></span></td><td class=\"tf ltr\"><div class=\"\"><span class=\"plain   hlbx\" ><span class=\"plain   hl\" ><span class=\"txto\">i-</span></span><span class=\"plain   hl\" ><span class=\"txto\">na </span></span></span></div></td><td class=\"tf ltr\"><div class=\"\"><span class=\"plain   hl\" ><span class=\"txto\">i-</span></span></div></td><td class=\"tf ltr\"><div class=\"\"><span class=\"plain   hl\" ><span class=\"txto\">na </span></span></div></td></tr></table>"
      ],
      "text/plain": [
       "<IPython.core.display.HTML object>"
      ]
     },
     "metadata": {},
     "output_type": "display_data"
    }
   ],
   "source": [
    "A.table(resultsW, end=10)"
   ]
  },
  {
   "cell_type": "markdown",
   "metadata": {},
   "source": [
    "In order to provide a bit more context, we add lines to the query:"
   ]
  },
  {
   "cell_type": "code",
   "execution_count": 6,
   "metadata": {},
   "outputs": [],
   "source": [
    "queryL = \"\"\"\n",
    "line\n",
    "  word\n",
    "    =: sign reading=i\n",
    "    <: sign reading=na\n",
    "    :=\n",
    "\"\"\""
   ]
  },
  {
   "cell_type": "code",
   "execution_count": 7,
   "metadata": {},
   "outputs": [
    {
     "name": "stdout",
     "output_type": "stream",
     "text": [
      "  0.47s 1440 results\n"
     ]
    }
   ],
   "source": [
    "resultsL = A.search(queryL)"
   ]
  },
  {
   "cell_type": "code",
   "execution_count": 8,
   "metadata": {},
   "outputs": [
    {
     "data": {
      "text/html": [
       "<table><tr class=\"tf ltr\"><th class=\"tf ltr\">n</th><th class=\"tf ltr\">p</th><th class=\"tf ltr\">line</th><th class=\"tf\">word</th><th class=\"tf\">sign</th><th class=\"tf\">sign</th></tr>\n",
       "<tr class=\"tf ltr\"><td class=\"tf ltr\">1</td><td class=\"tf ltr\"><span class=\"section ltr\"><a target=\"_blank\" href=\"https://cdli.ucla.edu/search/search_results.php?SearchMode=Text&amp;ObjectID=P509373\" title=\"Show this document on CDLI\" sec=\"P509373 obverse:12\">P509373 obverse:12</a></span></td><td class=\"tf ltr\"><div class=\"\"><span class=\"txto\">u3 </span><span class=\"plain   hlbx\" ><span class=\"plain   hl\" ><span class=\"txto\">i-</span></span><span class=\"plain   hl\" ><span class=\"txto\">na </span></span></span><span class=\"txto\">_uru_ </span><span class=\"txto\">x-</span><span class=\"txto\">szum</span><span class=\"txto\">{ki} </span><span class=\"txto\">sza-</span><span class=\"txto\">ak-</span><span class=\"txto\">nu </span><span class=\"txto\">id-</span><span class=\"txto\">di-</span><span class=\"txto\">a-</span><span class=\"txto\">am-</span><span class=\"txto\">ma</span></div></td><td class=\"tf ltr\"><div class=\"\"><span class=\"plain   hlbx\" ><span class=\"plain   hl\" ><span class=\"txto\">i-</span></span><span class=\"plain   hl\" ><span class=\"txto\">na </span></span></span></div></td><td class=\"tf ltr\"><div class=\"\"><span class=\"plain   hl\" ><span class=\"txto\">i-</span></span></div></td><td class=\"tf ltr\"><div class=\"\"><span class=\"plain   hl\" ><span class=\"txto\">na </span></span></div></td></tr>\n",
       "<tr class=\"tf ltr\"><td class=\"tf ltr\">2</td><td class=\"tf ltr\"><span class=\"section ltr\"><a target=\"_blank\" href=\"https://cdli.ucla.edu/search/search_results.php?SearchMode=Text&amp;ObjectID=P509373\" title=\"Show this document on CDLI\" sec=\"P509373 reverse:11'\">P509373 reverse:11'</a></span></td><td class=\"tf ltr\"><div class=\"\"><span class=\"txto\">a-</span><span class=\"txto\">na </span><span class=\"txto\">ki-</span><span class=\"txto\">ma </span><span class=\"plain   hlbx\" ><span class=\"plain   hl\" ><span class=\"txto\">i-</span></span><span class=\"plain   hl\" ><span class=\"txto\">[na] </span></span></span><span class=\"txto\">_dub </span><span class=\"txto\">e2-</span><span class=\"txto\">gal_-</span><span class=\"txto\">lim</span></div></td><td class=\"tf ltr\"><div class=\"\"><span class=\"plain   hlbx\" ><span class=\"plain   hl\" ><span class=\"txto\">i-</span></span><span class=\"plain   hl\" ><span class=\"txto\">[na] </span></span></span></div></td><td class=\"tf ltr\"><div class=\"\"><span class=\"plain   hl\" ><span class=\"txto\">i-</span></span></div></td><td class=\"tf ltr\"><div class=\"\"><span class=\"plain   hl\" ><span class=\"txto\">[na] </span></span></div></td></tr>\n",
       "<tr class=\"tf ltr\"><td class=\"tf ltr\">3</td><td class=\"tf ltr\"><span class=\"section ltr\"><a target=\"_blank\" href=\"https://cdli.ucla.edu/search/search_results.php?SearchMode=Text&amp;ObjectID=P509374\" title=\"Show this document on CDLI\" sec=\"P509374 obverse:15\">P509374 obverse:15</a></span></td><td class=\"tf ltr\"><div class=\"\"><span class=\"plain   hlbx\" ><span class=\"plain   hl\" ><span class=\"txto\">i-</span></span><span class=\"plain   hl\" ><span class=\"txto\">na </span></span></span><span class=\"txto\">_ka2 </span><span class=\"txto\">ki-</span><span class=\"txto\">lam_ </span><span class=\"txto\">sza-</span><span class=\"txto\">mi-</span><span class=\"txto\">im-</span><span class=\"txto\">ma</span></div></td><td class=\"tf ltr\"><div class=\"\"><span class=\"plain   hlbx\" ><span class=\"plain   hl\" ><span class=\"txto\">i-</span></span><span class=\"plain   hl\" ><span class=\"txto\">na </span></span></span></div></td><td class=\"tf ltr\"><div class=\"\"><span class=\"plain   hl\" ><span class=\"txto\">i-</span></span></div></td><td class=\"tf ltr\"><div class=\"\"><span class=\"plain   hl\" ><span class=\"txto\">na </span></span></div></td></tr>\n",
       "<tr class=\"tf ltr\"><td class=\"tf ltr\">4</td><td class=\"tf ltr\"><span class=\"section ltr\"><a target=\"_blank\" href=\"https://cdli.ucla.edu/search/search_results.php?SearchMode=Text&amp;ObjectID=P509375\" title=\"Show this document on CDLI\" sec=\"P509375 reverse:9\">P509375 reverse:9</a></span></td><td class=\"tf ltr\"><div class=\"\"><span class=\"plain   hlbx\" ><span class=\"plain   hl\" ><span class=\"txto\">i-</span></span><span class=\"plain   hl\" ><span class=\"txto\">na </span></span></span><span class=\"txto\">la-</span><span class=\"txto\">hi-</span><span class=\"txto\">a-</span><span class=\"txto\">nim</span></div></td><td class=\"tf ltr\"><div class=\"\"><span class=\"plain   hlbx\" ><span class=\"plain   hl\" ><span class=\"txto\">i-</span></span><span class=\"plain   hl\" ><span class=\"txto\">na </span></span></span></div></td><td class=\"tf ltr\"><div class=\"\"><span class=\"plain   hl\" ><span class=\"txto\">i-</span></span></div></td><td class=\"tf ltr\"><div class=\"\"><span class=\"plain   hl\" ><span class=\"txto\">na </span></span></div></td></tr>\n",
       "<tr class=\"tf ltr\"><td class=\"tf ltr\">5</td><td class=\"tf ltr\"><span class=\"section ltr\"><a target=\"_blank\" href=\"https://cdli.ucla.edu/search/search_results.php?SearchMode=Text&amp;ObjectID=P509376\" title=\"Show this document on CDLI\" sec=\"P509376 reverse:4\">P509376 reverse:4</a></span></td><td class=\"tf ltr\"><div class=\"\"><span class=\"plain   hlbx\" ><span class=\"plain   hl\" ><span class=\"txto\">i-</span></span><span class=\"plain   hl\" ><span class=\"txto\">na </span></span></span><span class=\"txto\">tup-</span><span class=\"txto\">pi2-</span><span class=\"txto\">ka </span><span class=\"txto\">pa-</span><span class=\"txto\">nam </span><span class=\"txto\">szu-</span><span class=\"txto\">ur2-</span><span class=\"txto\">szi-</span><span class=\"txto\">a-</span><span class=\"txto\">am-</span><span class=\"txto\">ma</span></div></td><td class=\"tf ltr\"><div class=\"\"><span class=\"plain   hlbx\" ><span class=\"plain   hl\" ><span class=\"txto\">i-</span></span><span class=\"plain   hl\" ><span class=\"txto\">na </span></span></span></div></td><td class=\"tf ltr\"><div class=\"\"><span class=\"plain   hl\" ><span class=\"txto\">i-</span></span></div></td><td class=\"tf ltr\"><div class=\"\"><span class=\"plain   hl\" ><span class=\"txto\">na </span></span></div></td></tr>\n",
       "<tr class=\"tf ltr\"><td class=\"tf ltr\">6</td><td class=\"tf ltr\"><span class=\"section ltr\"><a target=\"_blank\" href=\"https://cdli.ucla.edu/search/search_results.php?SearchMode=Text&amp;ObjectID=P509377\" title=\"Show this document on CDLI\" sec=\"P509377 obverse:1\">P509377 obverse:1</a></span></td><td class=\"tf ltr\"><div class=\"\"><span class=\"txto\">i-</span><span class=\"txto\">nu-</span><span class=\"txto\">ma </span><span class=\"plain   hlbx\" ><span class=\"plain   hl\" ><span class=\"txto\">i-</span></span><span class=\"plain   hl\" ><span class=\"txto\">na </span></span></span><span class=\"txto\">_e2_ </span><span class=\"txto\">da-</span><span class=\"txto\">[...]</span></div></td><td class=\"tf ltr\"><div class=\"\"><span class=\"plain   hlbx\" ><span class=\"plain   hl\" ><span class=\"txto\">i-</span></span><span class=\"plain   hl\" ><span class=\"txto\">na </span></span></span></div></td><td class=\"tf ltr\"><div class=\"\"><span class=\"plain   hl\" ><span class=\"txto\">i-</span></span></div></td><td class=\"tf ltr\"><div class=\"\"><span class=\"plain   hl\" ><span class=\"txto\">na </span></span></div></td></tr>\n",
       "<tr class=\"tf ltr\"><td class=\"tf ltr\">7</td><td class=\"tf ltr\"><span class=\"section ltr\"><a target=\"_blank\" href=\"https://cdli.ucla.edu/search/search_results.php?SearchMode=Text&amp;ObjectID=P509377\" title=\"Show this document on CDLI\" sec=\"P509377 reverse:4\">P509377 reverse:4</a></span></td><td class=\"tf ltr\"><div class=\"\"><span class=\"txto\">1(disz) </span><span class=\"txto\">_amar </span><span class=\"txto\">mu_ </span><span class=\"txto\">3(disz) </span><span class=\"plain   hlbx\" ><span class=\"plain   hl\" ><span class=\"txto\">i-</span></span><span class=\"plain   hl\" ><span class=\"txto\">na </span></span></span><span class=\"txto\">i-</span><span class=\"txto\">ni-</span><span class=\"txto\">ia </span><span class=\"txto\">ta#-</span><span class=\"txto\">[...]</span></div></td><td class=\"tf ltr\"><div class=\"\"><span class=\"plain   hlbx\" ><span class=\"plain   hl\" ><span class=\"txto\">i-</span></span><span class=\"plain   hl\" ><span class=\"txto\">na </span></span></span></div></td><td class=\"tf ltr\"><div class=\"\"><span class=\"plain   hl\" ><span class=\"txto\">i-</span></span></div></td><td class=\"tf ltr\"><div class=\"\"><span class=\"plain   hl\" ><span class=\"txto\">na </span></span></div></td></tr>\n",
       "<tr class=\"tf ltr\"><td class=\"tf ltr\">8</td><td class=\"tf ltr\"><span class=\"section ltr\"><a target=\"_blank\" href=\"https://cdli.ucla.edu/search/search_results.php?SearchMode=Text&amp;ObjectID=P509377\" title=\"Show this document on CDLI\" sec=\"P509377 reverse:5\">P509377 reverse:5</a></span></td><td class=\"tf ltr\"><div class=\"\"><span class=\"plain   hlbx\" ><span class=\"plain   hl\" ><span class=\"txto\">i-</span></span><span class=\"plain   hl\" ><span class=\"txto\">na </span></span></span><span class=\"txto\">_gu4-</span><span class=\"txto\">hi-</span><span class=\"txto\">a_-</span><span class=\"txto\">ia </span><span class=\"txto\">ta-</span><span class=\"txto\">as-</span><span class=\"txto\">su2-</span><span class=\"txto\">uq-</span><span class=\"txto\">ma </span><span class=\"txto\">a-</span><span class=\"txto\">na# </span><span class=\"txto\">[...]</span></div></td><td class=\"tf ltr\"><div class=\"\"><span class=\"plain   hlbx\" ><span class=\"plain   hl\" ><span class=\"txto\">i-</span></span><span class=\"plain   hl\" ><span class=\"txto\">na </span></span></span></div></td><td class=\"tf ltr\"><div class=\"\"><span class=\"plain   hl\" ><span class=\"txto\">i-</span></span></div></td><td class=\"tf ltr\"><div class=\"\"><span class=\"plain   hl\" ><span class=\"txto\">na </span></span></div></td></tr>\n",
       "<tr class=\"tf ltr\"><td class=\"tf ltr\">9</td><td class=\"tf ltr\"><span class=\"section ltr\"><a target=\"_blank\" href=\"https://cdli.ucla.edu/search/search_results.php?SearchMode=Text&amp;ObjectID=P509377\" title=\"Show this document on CDLI\" sec=\"P509377 reverse:12\">P509377 reverse:12</a></span></td><td class=\"tf ltr\"><div class=\"\"><span class=\"plain   hlbx\" ><span class=\"plain   hl\" ><span class=\"txto\">i-</span></span><span class=\"plain   hl\" ><span class=\"txto\">na </span></span></span><span class=\"txto\">la </span><span class=\"txto\">_sza3-</span><span class=\"txto\">gal_ </span><span class=\"txto\">la </span><span class=\"txto\">i-</span><span class=\"txto\">mu#-</span><span class=\"txto\">[tu]</span></div></td><td class=\"tf ltr\"><div class=\"\"><span class=\"plain   hlbx\" ><span class=\"plain   hl\" ><span class=\"txto\">i-</span></span><span class=\"plain   hl\" ><span class=\"txto\">na </span></span></span></div></td><td class=\"tf ltr\"><div class=\"\"><span class=\"plain   hl\" ><span class=\"txto\">i-</span></span></div></td><td class=\"tf ltr\"><div class=\"\"><span class=\"plain   hl\" ><span class=\"txto\">na </span></span></div></td></tr>\n",
       "<tr class=\"tf ltr\"><td class=\"tf ltr\">10</td><td class=\"tf ltr\"><span class=\"section ltr\"><a target=\"_blank\" href=\"https://cdli.ucla.edu/search/search_results.php?SearchMode=Text&amp;ObjectID=P481192\" title=\"Show this document on CDLI\" sec=\"P481192 reverse:1'\">P481192 reverse:1'</a></span></td><td class=\"tf ltr\"><div class=\"\"><span class=\"plain   hlbx\" ><span class=\"plain   hl\" ><span class=\"txto\">i-</span></span><span class=\"plain   hl\" ><span class=\"txto\">na </span></span></span><span class=\"txto\">pu#-</span><span class=\"txto\">uh2#-</span><span class=\"txto\">ri </span><span class=\"txto\">i-</span><span class=\"txto\">na </span><span class=\"txto\">ma-</span><span class=\"txto\">har# </span><span class=\"txto\">a-</span><span class=\"txto\">wi#-</span><span class=\"txto\">[le-</span><span class=\"txto\">e]</span></div></td><td class=\"tf ltr\"><div class=\"\"><span class=\"plain   hlbx\" ><span class=\"plain   hl\" ><span class=\"txto\">i-</span></span><span class=\"plain   hl\" ><span class=\"txto\">na </span></span></span></div></td><td class=\"tf ltr\"><div class=\"\"><span class=\"plain   hl\" ><span class=\"txto\">i-</span></span></div></td><td class=\"tf ltr\"><div class=\"\"><span class=\"plain   hl\" ><span class=\"txto\">na </span></span></div></td></tr></table>"
      ],
      "text/plain": [
       "<IPython.core.display.HTML object>"
      ]
     },
     "metadata": {},
     "output_type": "display_data"
    }
   ],
   "source": [
    "A.table(resultsL, condensed=False, end=10)"
   ]
  },
  {
   "cell_type": "markdown",
   "metadata": {},
   "source": [
    "Just in case you wonder whether a word can cross a line boundary, let us check that."
   ]
  },
  {
   "cell_type": "code",
   "execution_count": 9,
   "metadata": {},
   "outputs": [
    {
     "data": {
      "text/plain": [
       "0"
      ]
     },
     "execution_count": 9,
     "metadata": {},
     "output_type": "execute_result"
    }
   ],
   "source": [
    "suspect = []\n",
    "\n",
    "for w in F.otype.s(\"word\"):\n",
    "    signs = L.d(w, otype=\"sign\")\n",
    "    firstSign = signs[0]\n",
    "    lastSign = signs[-1]\n",
    "    firstLine = L.u(firstSign, otype=\"line\")[0]\n",
    "    lastLine = L.u(lastSign, otype=\"line\")[0]\n",
    "    if firstLine != lastLine:\n",
    "        suspect.append((w, firstLine, lastLine))\n",
    "\n",
    "len(suspect)"
   ]
  },
  {
   "cell_type": "markdown",
   "metadata": {},
   "source": [
    "Rest reassured: every word lies neatly in its own single line."
   ]
  },
  {
   "cell_type": "markdown",
   "metadata": {},
   "source": [
    "## `i` followed by `na` anywhere\n",
    "\n",
    "Now we look for adjacent pairs of signs of which the first has reading `i` and the second reading `na`.\n",
    "We do not care whether both signs are in the same word or even the same line, or face or document!"
   ]
  },
  {
   "cell_type": "code",
   "execution_count": 10,
   "metadata": {},
   "outputs": [],
   "source": [
    "query = \"\"\"\n",
    "sign reading=i\n",
    "<: sign reading=na\n",
    "\"\"\""
   ]
  },
  {
   "cell_type": "code",
   "execution_count": 11,
   "metadata": {},
   "outputs": [
    {
     "name": "stdout",
     "output_type": "stream",
     "text": [
      "  0.40s 1768 results\n"
     ]
    }
   ],
   "source": [
    "results = A.search(query)"
   ]
  },
  {
   "cell_type": "markdown",
   "metadata": {},
   "source": [
    "Definitely more results. We want to show the extra cases.\n",
    "\n",
    "There are two possibilities:\n",
    "\n",
    "* the signs lie within a bigger word\n",
    "* the signs lie in two distinct words\n",
    "\n",
    "Let's query for them separately and see whether the numbers add up."
   ]
  },
  {
   "cell_type": "code",
   "execution_count": 12,
   "metadata": {},
   "outputs": [],
   "source": [
    "queryB = \"\"\"\n",
    "word\n",
    "/with/\n",
    "  sign\n",
    "  <: sign\n",
    "  <: sign\n",
    "/-/\n",
    "  sign reading=i\n",
    "  <: sign reading=na\n",
    "\"\"\""
   ]
  },
  {
   "cell_type": "markdown",
   "metadata": {},
   "source": [
    "Explanation: in this query you see a new construct: a *quantifier*, namely `/with/` ... `/-/`.\n",
    "\n",
    "The *with* imposes a condition on the preceding atom: `word`.\n",
    "This particular condition states that the word must have at least three consecutive signs.\n",
    "These three signs will not be listed in the results.\n",
    "\n",
    "Words that satisfy this condition, will then be matched against the rest: that there are adjacent signs with `i` and `ma`.\n",
    "\n",
    "For more quantifiers, read the\n",
    "[docs](https://annotation.github.io/text-fabric/tf/about/searchusage.html#quantifiers)"
   ]
  },
  {
   "cell_type": "code",
   "execution_count": 13,
   "metadata": {},
   "outputs": [
    {
     "name": "stdout",
     "output_type": "stream",
     "text": [
      "  1.64s 325 results\n"
     ]
    }
   ],
   "source": [
    "resultsB = A.search(queryB)"
   ]
  },
  {
   "cell_type": "code",
   "execution_count": 14,
   "metadata": {},
   "outputs": [
    {
     "data": {
      "text/html": [
       "<table><tr class=\"tf ltr\"><th class=\"tf ltr\">n</th><th class=\"tf ltr\">p</th><th class=\"tf ltr\">word</th><th class=\"tf\">sign</th><th class=\"tf\">sign</th></tr>\n",
       "<tr class=\"tf ltr\"><td class=\"tf ltr\">1</td><td class=\"tf ltr\"><span class=\"section ltr\"><a target=\"_blank\" href=\"https://cdli.ucla.edu/search/search_results.php?SearchMode=Text&amp;ObjectID=P509376\" title=\"Show this document on CDLI\" sec=\"P509376 obverse:4\">P509376 obverse:4</a></span></td><td class=\"tf ltr\"><div class=\"\"><span class=\"plain   hlbx\" ><span class=\"plain   hl\" ><span class=\"txto\">i-</span></span><span class=\"plain   hl\" ><span class=\"txto\">na-</span></span><span class=\"txto\">an-</span><span class=\"txto\">na</span></span></div></td><td class=\"tf ltr\"><div class=\"\"><span class=\"plain   hl\" ><span class=\"txto\">i-</span></span></div></td><td class=\"tf ltr\"><div class=\"\"><span class=\"plain   hl\" ><span class=\"txto\">na-</span></span></div></td></tr>\n",
       "<tr class=\"tf ltr\"><td class=\"tf ltr\">2</td><td class=\"tf ltr\"><span class=\"section ltr\"><a target=\"_blank\" href=\"https://cdli.ucla.edu/search/search_results.php?SearchMode=Text&amp;ObjectID=P509376\" title=\"Show this document on CDLI\" sec=\"P509376 obverse:9\">P509376 obverse:9</a></span></td><td class=\"tf ltr\"><div class=\"\"><span class=\"plain   hlbx\" ><span class=\"plain   hl\" ><span class=\"txto\">i-</span></span><span class=\"plain   hl\" ><span class=\"txto\">na-</span></span><span class=\"txto\">an-</span><span class=\"txto\">na </span></span></div></td><td class=\"tf ltr\"><div class=\"\"><span class=\"plain   hl\" ><span class=\"txto\">i-</span></span></div></td><td class=\"tf ltr\"><div class=\"\"><span class=\"plain   hl\" ><span class=\"txto\">na-</span></span></div></td></tr>\n",
       "<tr class=\"tf ltr\"><td class=\"tf ltr\">3</td><td class=\"tf ltr\"><span class=\"section ltr\"><a target=\"_blank\" href=\"https://cdli.ucla.edu/search/search_results.php?SearchMode=Text&amp;ObjectID=P510530\" title=\"Show this document on CDLI\" sec=\"P510530 obverse:14\">P510530 obverse:14</a></span></td><td class=\"tf ltr\"><div class=\"\"><span class=\"plain   hlbx\" ><span class=\"plain   hl\" ><span class=\"txto\">i-</span></span><span class=\"plain   hl\" ><span class=\"txto\">na-</span></span><span class=\"txto\">an-</span><span class=\"txto\">na </span></span></div></td><td class=\"tf ltr\"><div class=\"\"><span class=\"plain   hl\" ><span class=\"txto\">i-</span></span></div></td><td class=\"tf ltr\"><div class=\"\"><span class=\"plain   hl\" ><span class=\"txto\">na-</span></span></div></td></tr>\n",
       "<tr class=\"tf ltr\"><td class=\"tf ltr\">4</td><td class=\"tf ltr\"><span class=\"section ltr\"><a target=\"_blank\" href=\"https://cdli.ucla.edu/search/search_results.php?SearchMode=Text&amp;ObjectID=P510534\" title=\"Show this document on CDLI\" sec=\"P510534 reverse:11'\">P510534 reverse:11'</a></span></td><td class=\"tf ltr\"><div class=\"\"><span class=\"plain   hlbx\" ><span class=\"plain   hl\" ><span class=\"txto\">i-</span></span><span class=\"plain   hl\" ><span class=\"txto\">na-</span></span><span class=\"txto\">an-</span><span class=\"txto\">na </span></span></div></td><td class=\"tf ltr\"><div class=\"\"><span class=\"plain   hl\" ><span class=\"txto\">i-</span></span></div></td><td class=\"tf ltr\"><div class=\"\"><span class=\"plain   hl\" ><span class=\"txto\">na-</span></span></div></td></tr>\n",
       "<tr class=\"tf ltr\"><td class=\"tf ltr\">5</td><td class=\"tf ltr\"><span class=\"section ltr\"><a target=\"_blank\" href=\"https://cdli.ucla.edu/search/search_results.php?SearchMode=Text&amp;ObjectID=P510535\" title=\"Show this document on CDLI\" sec=\"P510535 obverse:11\">P510535 obverse:11</a></span></td><td class=\"tf ltr\"><div class=\"\"><span class=\"plain   hlbx\" ><span class=\"plain   hl\" ><span class=\"txto\">i-</span></span><span class=\"plain   hl\" ><span class=\"txto\">na-</span></span><span class=\"txto\">an-</span><span class=\"txto\">na </span></span></div></td><td class=\"tf ltr\"><div class=\"\"><span class=\"plain   hl\" ><span class=\"txto\">i-</span></span></div></td><td class=\"tf ltr\"><div class=\"\"><span class=\"plain   hl\" ><span class=\"txto\">na-</span></span></div></td></tr>\n",
       "<tr class=\"tf ltr\"><td class=\"tf ltr\">6</td><td class=\"tf ltr\"><span class=\"section ltr\"><a target=\"_blank\" href=\"https://cdli.ucla.edu/search/search_results.php?SearchMode=Text&amp;ObjectID=P510535\" title=\"Show this document on CDLI\" sec=\"P510535 reverse:4\">P510535 reverse:4</a></span></td><td class=\"tf ltr\"><div class=\"\"><span class=\"plain   hlbx\" ><span class=\"plain   hl\" ><span class=\"txto\">i-</span></span><span class=\"plain   hl\" ><span class=\"txto\">na-</span></span><span class=\"txto\">ad-</span><span class=\"txto\">di-</span><span class=\"txto\">na-</span><span class=\"txto\">ak-</span><span class=\"txto\">kum</span></span></div></td><td class=\"tf ltr\"><div class=\"\"><span class=\"plain   hl\" ><span class=\"txto\">i-</span></span></div></td><td class=\"tf ltr\"><div class=\"\"><span class=\"plain   hl\" ><span class=\"txto\">na-</span></span></div></td></tr>\n",
       "<tr class=\"tf ltr\"><td class=\"tf ltr\">7</td><td class=\"tf ltr\"><span class=\"section ltr\"><a target=\"_blank\" href=\"https://cdli.ucla.edu/search/search_results.php?SearchMode=Text&amp;ObjectID=P510536\" title=\"Show this document on CDLI\" sec=\"P510536 reverse:1\">P510536 reverse:1</a></span></td><td class=\"tf ltr\"><div class=\"\"><span class=\"plain   hlbx\" ><span class=\"plain   hl\" ><span class=\"txto\">i-</span></span><span class=\"plain   hl\" ><span class=\"txto\">na-</span></span><span class=\"txto\">an-</span><span class=\"txto\">na</span></span></div></td><td class=\"tf ltr\"><div class=\"\"><span class=\"plain   hl\" ><span class=\"txto\">i-</span></span></div></td><td class=\"tf ltr\"><div class=\"\"><span class=\"plain   hl\" ><span class=\"txto\">na-</span></span></div></td></tr>\n",
       "<tr class=\"tf ltr\"><td class=\"tf ltr\">8</td><td class=\"tf ltr\"><span class=\"section ltr\"><a target=\"_blank\" href=\"https://cdli.ucla.edu/search/search_results.php?SearchMode=Text&amp;ObjectID=P510541\" title=\"Show this document on CDLI\" sec=\"P510541 reverse:7\">P510541 reverse:7</a></span></td><td class=\"tf ltr\"><div class=\"\"><span class=\"plain   hlbx\" ><span class=\"plain   hl\" ><span class=\"txto\">i-</span></span><span class=\"plain   hl\" ><span class=\"txto\">na#-</span></span><span class=\"txto\">an#-</span><span class=\"txto\">na# </span></span></div></td><td class=\"tf ltr\"><div class=\"\"><span class=\"plain   hl\" ><span class=\"txto\">i-</span></span></div></td><td class=\"tf ltr\"><div class=\"\"><span class=\"plain   hl\" ><span class=\"txto\">na#-</span></span></div></td></tr>\n",
       "<tr class=\"tf ltr\"><td class=\"tf ltr\">9</td><td class=\"tf ltr\"><span class=\"section ltr\"><a target=\"_blank\" href=\"https://cdli.ucla.edu/search/search_results.php?SearchMode=Text&amp;ObjectID=P510544\" title=\"Show this document on CDLI\" sec=\"P510544 reverse:1\">P510544 reverse:1</a></span></td><td class=\"tf ltr\"><div class=\"\"><span class=\"plain   hlbx\" ><span class=\"plain   hl\" ><span class=\"txto\">i-</span></span><span class=\"plain   hl\" ><span class=\"txto\">na#-</span></span><span class=\"txto\">an#-</span><span class=\"txto\">na# </span></span></div></td><td class=\"tf ltr\"><div class=\"\"><span class=\"plain   hl\" ><span class=\"txto\">i-</span></span></div></td><td class=\"tf ltr\"><div class=\"\"><span class=\"plain   hl\" ><span class=\"txto\">na#-</span></span></div></td></tr>\n",
       "<tr class=\"tf ltr\"><td class=\"tf ltr\">10</td><td class=\"tf ltr\"><span class=\"section ltr\"><a target=\"_blank\" href=\"https://cdli.ucla.edu/search/search_results.php?SearchMode=Text&amp;ObjectID=P510546\" title=\"Show this document on CDLI\" sec=\"P510546 obverse:11\">P510546 obverse:11</a></span></td><td class=\"tf ltr\"><div class=\"\"><span class=\"plain   hlbx\" ><span class=\"plain   hl\" ><span class=\"txto\">i-</span></span><span class=\"plain   hl\" ><span class=\"txto\">na-</span></span><span class=\"txto\">ad-</span><span class=\"txto\">di-</span><span class=\"txto\">na-</span><span class=\"txto\">ak#-</span><span class=\"txto\">[kum]</span></span></div></td><td class=\"tf ltr\"><div class=\"\"><span class=\"plain   hl\" ><span class=\"txto\">i-</span></span></div></td><td class=\"tf ltr\"><div class=\"\"><span class=\"plain   hl\" ><span class=\"txto\">na-</span></span></div></td></tr></table>"
      ],
      "text/plain": [
       "<IPython.core.display.HTML object>"
      ]
     },
     "metadata": {},
     "output_type": "display_data"
    }
   ],
   "source": [
    "A.table(resultsB, end=10)"
   ]
  },
  {
   "cell_type": "markdown",
   "metadata": {},
   "source": [
    "It seems that these words happen to start with `i-na`. Is that the case for all of these?\n",
    "\n",
    "Let's filter out the ones that do not start with `i`."
   ]
  },
  {
   "cell_type": "code",
   "execution_count": 15,
   "metadata": {},
   "outputs": [
    {
     "data": {
      "text/plain": [
       "0"
      ]
     },
     "execution_count": 15,
     "metadata": {},
     "output_type": "execute_result"
    }
   ],
   "source": [
    "nonIstart = [(w, s1, s2) for (w, s1, s2) in resultsB if F.reading.v(s1) != \"i\"]\n",
    "len(nonIstart)"
   ]
  },
  {
   "cell_type": "markdown",
   "metadata": {},
   "source": [
    "So, indeed, all these cases are words that start with `i-na`, so we can consider these as words with the preposition `i-na` prefixed."
   ]
  },
  {
   "cell_type": "markdown",
   "metadata": {},
   "source": [
    "Well, 1440 + 325 = 1765, so we expect 3 cases where the `i` and `na` split a word."
   ]
  },
  {
   "cell_type": "code",
   "execution_count": 16,
   "metadata": {},
   "outputs": [],
   "source": [
    "queryS = \"\"\"\n",
    "w1:word\n",
    "  s1:sign reading=i\n",
    "\n",
    "w2:word\n",
    "  s2:sign reading=na\n",
    "\n",
    "w1 < w2\n",
    "s1 <: s2\n",
    "\"\"\""
   ]
  },
  {
   "cell_type": "markdown",
   "metadata": {},
   "source": [
    "Explanation. Again something new: we can give *names* to the objects in our query and use those names\n",
    "to state relational constraints later on.\n",
    "\n",
    "So here we look for two words, one containing a sign `i` and the other containing a sign `na`.\n",
    "\n",
    "The extra conditions are that `w1` and `w2` are not equal (in fact, we state that `w1` comes before `w2`.\n",
    "\n",
    "And the two signs must be adjacent: `s1 <: s2`."
   ]
  },
  {
   "cell_type": "code",
   "execution_count": 17,
   "metadata": {},
   "outputs": [
    {
     "name": "stdout",
     "output_type": "stream",
     "text": [
      "  0.43s 3 results\n"
     ]
    }
   ],
   "source": [
    "resultsS = A.search(queryS)"
   ]
  },
  {
   "cell_type": "code",
   "execution_count": 18,
   "metadata": {},
   "outputs": [
    {
     "data": {
      "text/html": [
       "<table><tr class=\"tf ltr\"><th class=\"tf ltr\">n</th><th class=\"tf ltr\">p</th><th class=\"tf ltr\">word</th><th class=\"tf\">sign</th><th class=\"tf\">word</th><th class=\"tf\">sign</th></tr>\n",
       "<tr class=\"tf ltr\"><td class=\"tf ltr\">1</td><td class=\"tf ltr\"><span class=\"section ltr\"><a target=\"_blank\" href=\"https://cdli.ucla.edu/search/search_results.php?SearchMode=Text&amp;ObjectID=P313316\" title=\"Show this document on CDLI\" sec=\"P313316 obverse:9\">P313316 obverse:9</a></span></td><td class=\"tf ltr\"><div class=\"\"><span class=\"plain   hlbx\" ><span class=\"txto\">ni-</span><span class=\"txto\">qi2-</span><span class=\"plain   hl\" ><span class=\"txto\">i </span></span></span></div></td><td class=\"tf ltr\"><div class=\"\"><span class=\"plain   hl\" ><span class=\"txto\">i </span></span></div></td><td class=\"tf ltr\"><div class=\"\"><span class=\"plain   hlbx\" ><span class=\"plain   hl\" ><span class=\"txto\">na-</span></span><span class=\"txto\">mu-</span><span class=\"txto\">[x </span></span></div></td><td class=\"tf ltr\"><div class=\"\"><span class=\"plain   hl\" ><span class=\"txto\">na-</span></span></div></td></tr>\n",
       "<tr class=\"tf ltr\"><td class=\"tf ltr\">2</td><td class=\"tf ltr\"><span class=\"section ltr\"><a target=\"_blank\" href=\"https://cdli.ucla.edu/search/search_results.php?SearchMode=Text&amp;ObjectID=P313347\" title=\"Show this document on CDLI\" sec=\"P313347 obverse:10\">P313347 obverse:10</a></span></td><td class=\"tf ltr\"><div class=\"\"><span class=\"plain   hlbx\" ><span class=\"plain   hl\" ><span class=\"txto\">i </span></span></span></div></td><td class=\"tf ltr\"><div class=\"\"><span class=\"plain   hl\" ><span class=\"txto\">i </span></span></div></td><td class=\"tf ltr\"><div class=\"\"><span class=\"plain   hlbx\" ><span class=\"plain   hl\" ><span class=\"txto\">na </span></span></span></div></td><td class=\"tf ltr\"><div class=\"\"><span class=\"plain   hl\" ><span class=\"txto\">na </span></span></div></td></tr>\n",
       "<tr class=\"tf ltr\"><td class=\"tf ltr\">3</td><td class=\"tf ltr\"><span class=\"section ltr\"><a target=\"_blank\" href=\"https://cdli.ucla.edu/search/search_results.php?SearchMode=Text&amp;ObjectID=P387297\" title=\"Show this document on CDLI\" sec=\"P387297 obverse:6\">P387297 obverse:6</a></span></td><td class=\"tf ltr\"><div class=\"\"><span class=\"plain   hlbx\" ><span class=\"txto\">pi-</span><span class=\"plain   hl\" ><span class=\"txto\">i </span></span></span></div></td><td class=\"tf ltr\"><div class=\"\"><span class=\"plain   hl\" ><span class=\"txto\">i </span></span></div></td><td class=\"tf ltr\"><div class=\"\"><span class=\"plain   hlbx\" ><span class=\"plain   hl\" ><span class=\"txto\">na-</span></span><span class=\"txto\">ri-</span><span class=\"txto\">i-</span><span class=\"txto\">im</span></span></div></td><td class=\"tf ltr\"><div class=\"\"><span class=\"plain   hl\" ><span class=\"txto\">na-</span></span></div></td></tr></table>"
      ],
      "text/plain": [
       "<IPython.core.display.HTML object>"
      ]
     },
     "metadata": {},
     "output_type": "display_data"
    }
   ],
   "source": [
    "A.table(resultsS)"
   ]
  },
  {
   "cell_type": "markdown",
   "metadata": {},
   "source": [
    "For context, we query them in their lines:"
   ]
  },
  {
   "cell_type": "code",
   "execution_count": 19,
   "metadata": {},
   "outputs": [],
   "source": [
    "queryS = \"\"\"\n",
    "line\n",
    "  w1:word\n",
    "    s1:sign reading=i\n",
    "\n",
    "  w2:word\n",
    "    s2:sign reading=na\n",
    "\n",
    "w1 < w2\n",
    "s1 <: s2\n",
    "\"\"\""
   ]
  },
  {
   "cell_type": "code",
   "execution_count": 20,
   "metadata": {},
   "outputs": [
    {
     "name": "stdout",
     "output_type": "stream",
     "text": [
      "  0.49s 3 results\n"
     ]
    }
   ],
   "source": [
    "resultsS = A.search(queryS)"
   ]
  },
  {
   "cell_type": "code",
   "execution_count": 21,
   "metadata": {},
   "outputs": [
    {
     "data": {
      "text/html": [
       "<table><tr class=\"tf ltr\"><th class=\"tf ltr\">n</th><th class=\"tf ltr\">p</th><th class=\"tf ltr\">line</th><th class=\"tf\">word</th><th class=\"tf\">sign</th><th class=\"tf\">word</th><th class=\"tf\">sign</th></tr>\n",
       "<tr class=\"tf ltr\"><td class=\"tf ltr\">1</td><td class=\"tf ltr\"><span class=\"section ltr\"><a target=\"_blank\" href=\"https://cdli.ucla.edu/search/search_results.php?SearchMode=Text&amp;ObjectID=P313316\" title=\"Show this document on CDLI\" sec=\"P313316 obverse:9\">P313316 obverse:9</a></span></td><td class=\"tf ltr\"><div class=\"\"><span class=\"txto\">i-</span><span class=\"txto\">na </span><span class=\"plain   hlbx\" ><span class=\"txto\">ni-</span><span class=\"txto\">qi2-</span><span class=\"plain   hl\" ><span class=\"txto\">i </span></span></span><span class=\"plain   hlbx\" ><span class=\"plain   hl\" ><span class=\"txto\">na-</span></span><span class=\"txto\">mu-</span><span class=\"txto\">[x </span></span><span class=\"txto\">x] </span><span class=\"txto\">im</span></div></td><td class=\"tf ltr\"><div class=\"\"><span class=\"plain   hlbx\" ><span class=\"txto\">ni-</span><span class=\"txto\">qi2-</span><span class=\"plain   hl\" ><span class=\"txto\">i </span></span></span></div></td><td class=\"tf ltr\"><div class=\"\"><span class=\"plain   hl\" ><span class=\"txto\">i </span></span></div></td><td class=\"tf ltr\"><div class=\"\"><span class=\"plain   hlbx\" ><span class=\"plain   hl\" ><span class=\"txto\">na-</span></span><span class=\"txto\">mu-</span><span class=\"txto\">[x </span></span></div></td><td class=\"tf ltr\"><div class=\"\"><span class=\"plain   hl\" ><span class=\"txto\">na-</span></span></div></td></tr>\n",
       "<tr class=\"tf ltr\"><td class=\"tf ltr\">2</td><td class=\"tf ltr\"><span class=\"section ltr\"><a target=\"_blank\" href=\"https://cdli.ucla.edu/search/search_results.php?SearchMode=Text&amp;ObjectID=P313347\" title=\"Show this document on CDLI\" sec=\"P313347 obverse:10\">P313347 obverse:10</a></span></td><td class=\"tf ltr\"><div class=\"\"><span class=\"txto\">u3 </span><span class=\"txto\">a-</span><span class=\"txto\">di </span><span class=\"plain   hlbx\" ><span class=\"plain   hl\" ><span class=\"txto\">i </span></span></span><span class=\"plain   hlbx\" ><span class=\"plain   hl\" ><span class=\"txto\">na </span></span></span><span class=\"txto\">x </span><span class=\"txto\">x </span><span class=\"txto\">gu-</span><span class=\"txto\">na-</span><span class=\"txto\">ak-</span><span class=\"txto\">kum</span></div></td><td class=\"tf ltr\"><div class=\"\"><span class=\"plain   hlbx\" ><span class=\"plain   hl\" ><span class=\"txto\">i </span></span></span></div></td><td class=\"tf ltr\"><div class=\"\"><span class=\"plain   hl\" ><span class=\"txto\">i </span></span></div></td><td class=\"tf ltr\"><div class=\"\"><span class=\"plain   hlbx\" ><span class=\"plain   hl\" ><span class=\"txto\">na </span></span></span></div></td><td class=\"tf ltr\"><div class=\"\"><span class=\"plain   hl\" ><span class=\"txto\">na </span></span></div></td></tr>\n",
       "<tr class=\"tf ltr\"><td class=\"tf ltr\">3</td><td class=\"tf ltr\"><span class=\"section ltr\"><a target=\"_blank\" href=\"https://cdli.ucla.edu/search/search_results.php?SearchMode=Text&amp;ObjectID=P387297\" title=\"Show this document on CDLI\" sec=\"P387297 obverse:6\">P387297 obverse:6</a></span></td><td class=\"tf ltr\"><div class=\"\"><span class=\"txto\">_5(gesz2) </span><span class=\"txto\">gur_ </span><span class=\"txto\">a-</span><span class=\"txto\">na </span><span class=\"plain   hlbx\" ><span class=\"txto\">pi-</span><span class=\"plain   hl\" ><span class=\"txto\">i </span></span></span><span class=\"plain   hlbx\" ><span class=\"plain   hl\" ><span class=\"txto\">na-</span></span><span class=\"txto\">ri-</span><span class=\"txto\">i-</span><span class=\"txto\">im</span></span></div></td><td class=\"tf ltr\"><div class=\"\"><span class=\"plain   hlbx\" ><span class=\"txto\">pi-</span><span class=\"plain   hl\" ><span class=\"txto\">i </span></span></span></div></td><td class=\"tf ltr\"><div class=\"\"><span class=\"plain   hl\" ><span class=\"txto\">i </span></span></div></td><td class=\"tf ltr\"><div class=\"\"><span class=\"plain   hlbx\" ><span class=\"plain   hl\" ><span class=\"txto\">na-</span></span><span class=\"txto\">ri-</span><span class=\"txto\">i-</span><span class=\"txto\">im</span></span></div></td><td class=\"tf ltr\"><div class=\"\"><span class=\"plain   hl\" ><span class=\"txto\">na-</span></span></div></td></tr></table>"
      ],
      "text/plain": [
       "<IPython.core.display.HTML object>"
      ]
     },
     "metadata": {},
     "output_type": "display_data"
    }
   ],
   "source": [
    "A.table(resultsS)"
   ]
  },
  {
   "cell_type": "markdown",
   "metadata": {},
   "source": [
    "Finally, we come up with a query that looks for all `i-na` that are at the start of a word, including the cases where\n",
    "`i-na` is the whole word. In that case, we also want the next word included in our query.\n",
    "\n",
    "We cannot easily express this kind of if statement within our query, so we just ask for the words starting with `i-na`\n",
    "and we'll process the results to get the following word, if needed.\n",
    "\n",
    "If there is an `i-na` at the end of a line, we are not interested in it."
   ]
  },
  {
   "cell_type": "code",
   "execution_count": 22,
   "metadata": {},
   "outputs": [],
   "source": [
    "query = \"\"\"\n",
    "line\n",
    "  word\n",
    "    =: sign reading=i\n",
    "    <: sign reading=na\n",
    "\"\"\""
   ]
  },
  {
   "cell_type": "code",
   "execution_count": 23,
   "metadata": {},
   "outputs": [
    {
     "name": "stdout",
     "output_type": "stream",
     "text": [
      "  0.47s 1760 results\n"
     ]
    }
   ],
   "source": [
    "results = A.search(query)"
   ]
  },
  {
   "cell_type": "code",
   "execution_count": 24,
   "metadata": {},
   "outputs": [
    {
     "data": {
      "text/html": [
       "<table><tr class=\"tf ltr\"><th class=\"tf ltr\">n</th><th class=\"tf ltr\">p</th><th class=\"tf ltr\">line</th><th class=\"tf\">word</th><th class=\"tf\">sign</th><th class=\"tf\">sign</th></tr>\n",
       "<tr class=\"tf ltr\"><td class=\"tf ltr\">1</td><td class=\"tf ltr\"><span class=\"section ltr\"><a target=\"_blank\" href=\"https://cdli.ucla.edu/search/search_results.php?SearchMode=Text&amp;ObjectID=P509373\" title=\"Show this document on CDLI\" sec=\"P509373 obverse:12\">P509373 obverse:12</a></span></td><td class=\"tf ltr\"><div class=\"\"><span class=\"txto\">u3 </span><span class=\"plain   hlbx\" ><span class=\"plain   hl\" ><span class=\"txto\">i-</span></span><span class=\"plain   hl\" ><span class=\"txto\">na </span></span></span><span class=\"txto\">_uru_ </span><span class=\"txto\">x-</span><span class=\"txto\">szum</span><span class=\"txto\">{ki} </span><span class=\"txto\">sza-</span><span class=\"txto\">ak-</span><span class=\"txto\">nu </span><span class=\"txto\">id-</span><span class=\"txto\">di-</span><span class=\"txto\">a-</span><span class=\"txto\">am-</span><span class=\"txto\">ma</span></div></td><td class=\"tf ltr\"><div class=\"\"><span class=\"plain   hlbx\" ><span class=\"plain   hl\" ><span class=\"txto\">i-</span></span><span class=\"plain   hl\" ><span class=\"txto\">na </span></span></span></div></td><td class=\"tf ltr\"><div class=\"\"><span class=\"plain   hl\" ><span class=\"txto\">i-</span></span></div></td><td class=\"tf ltr\"><div class=\"\"><span class=\"plain   hl\" ><span class=\"txto\">na </span></span></div></td></tr>\n",
       "<tr class=\"tf ltr\"><td class=\"tf ltr\">2</td><td class=\"tf ltr\"><span class=\"section ltr\"><a target=\"_blank\" href=\"https://cdli.ucla.edu/search/search_results.php?SearchMode=Text&amp;ObjectID=P509373\" title=\"Show this document on CDLI\" sec=\"P509373 reverse:11'\">P509373 reverse:11'</a></span></td><td class=\"tf ltr\"><div class=\"\"><span class=\"txto\">a-</span><span class=\"txto\">na </span><span class=\"txto\">ki-</span><span class=\"txto\">ma </span><span class=\"plain   hlbx\" ><span class=\"plain   hl\" ><span class=\"txto\">i-</span></span><span class=\"plain   hl\" ><span class=\"txto\">[na] </span></span></span><span class=\"txto\">_dub </span><span class=\"txto\">e2-</span><span class=\"txto\">gal_-</span><span class=\"txto\">lim</span></div></td><td class=\"tf ltr\"><div class=\"\"><span class=\"plain   hlbx\" ><span class=\"plain   hl\" ><span class=\"txto\">i-</span></span><span class=\"plain   hl\" ><span class=\"txto\">[na] </span></span></span></div></td><td class=\"tf ltr\"><div class=\"\"><span class=\"plain   hl\" ><span class=\"txto\">i-</span></span></div></td><td class=\"tf ltr\"><div class=\"\"><span class=\"plain   hl\" ><span class=\"txto\">[na] </span></span></div></td></tr>\n",
       "<tr class=\"tf ltr\"><td class=\"tf ltr\">3</td><td class=\"tf ltr\"><span class=\"section ltr\"><a target=\"_blank\" href=\"https://cdli.ucla.edu/search/search_results.php?SearchMode=Text&amp;ObjectID=P509374\" title=\"Show this document on CDLI\" sec=\"P509374 obverse:15\">P509374 obverse:15</a></span></td><td class=\"tf ltr\"><div class=\"\"><span class=\"plain   hlbx\" ><span class=\"plain   hl\" ><span class=\"txto\">i-</span></span><span class=\"plain   hl\" ><span class=\"txto\">na </span></span></span><span class=\"txto\">_ka2 </span><span class=\"txto\">ki-</span><span class=\"txto\">lam_ </span><span class=\"txto\">sza-</span><span class=\"txto\">mi-</span><span class=\"txto\">im-</span><span class=\"txto\">ma</span></div></td><td class=\"tf ltr\"><div class=\"\"><span class=\"plain   hlbx\" ><span class=\"plain   hl\" ><span class=\"txto\">i-</span></span><span class=\"plain   hl\" ><span class=\"txto\">na </span></span></span></div></td><td class=\"tf ltr\"><div class=\"\"><span class=\"plain   hl\" ><span class=\"txto\">i-</span></span></div></td><td class=\"tf ltr\"><div class=\"\"><span class=\"plain   hl\" ><span class=\"txto\">na </span></span></div></td></tr>\n",
       "<tr class=\"tf ltr\"><td class=\"tf ltr\">4</td><td class=\"tf ltr\"><span class=\"section ltr\"><a target=\"_blank\" href=\"https://cdli.ucla.edu/search/search_results.php?SearchMode=Text&amp;ObjectID=P509375\" title=\"Show this document on CDLI\" sec=\"P509375 reverse:9\">P509375 reverse:9</a></span></td><td class=\"tf ltr\"><div class=\"\"><span class=\"plain   hlbx\" ><span class=\"plain   hl\" ><span class=\"txto\">i-</span></span><span class=\"plain   hl\" ><span class=\"txto\">na </span></span></span><span class=\"txto\">la-</span><span class=\"txto\">hi-</span><span class=\"txto\">a-</span><span class=\"txto\">nim</span></div></td><td class=\"tf ltr\"><div class=\"\"><span class=\"plain   hlbx\" ><span class=\"plain   hl\" ><span class=\"txto\">i-</span></span><span class=\"plain   hl\" ><span class=\"txto\">na </span></span></span></div></td><td class=\"tf ltr\"><div class=\"\"><span class=\"plain   hl\" ><span class=\"txto\">i-</span></span></div></td><td class=\"tf ltr\"><div class=\"\"><span class=\"plain   hl\" ><span class=\"txto\">na </span></span></div></td></tr>\n",
       "<tr class=\"tf ltr\"><td class=\"tf ltr\">5</td><td class=\"tf ltr\"><span class=\"section ltr\"><a target=\"_blank\" href=\"https://cdli.ucla.edu/search/search_results.php?SearchMode=Text&amp;ObjectID=P509376\" title=\"Show this document on CDLI\" sec=\"P509376 obverse:4\">P509376 obverse:4</a></span></td><td class=\"tf ltr\"><div class=\"\"><span class=\"txto\">_u4 </span><span class=\"txto\">4(disz)-</span><span class=\"txto\">kam_ </span><span class=\"txto\">a-</span><span class=\"txto\">di </span><span class=\"plain   hlbx\" ><span class=\"plain   hl\" ><span class=\"txto\">i-</span></span><span class=\"plain   hl\" ><span class=\"txto\">na-</span></span><span class=\"txto\">an-</span><span class=\"txto\">na</span></span></div></td><td class=\"tf ltr\"><div class=\"\"><span class=\"plain   hlbx\" ><span class=\"plain   hl\" ><span class=\"txto\">i-</span></span><span class=\"plain   hl\" ><span class=\"txto\">na-</span></span><span class=\"txto\">an-</span><span class=\"txto\">na</span></span></div></td><td class=\"tf ltr\"><div class=\"\"><span class=\"plain   hl\" ><span class=\"txto\">i-</span></span></div></td><td class=\"tf ltr\"><div class=\"\"><span class=\"plain   hl\" ><span class=\"txto\">na-</span></span></div></td></tr>\n",
       "<tr class=\"tf ltr\"><td class=\"tf ltr\">6</td><td class=\"tf ltr\"><span class=\"section ltr\"><a target=\"_blank\" href=\"https://cdli.ucla.edu/search/search_results.php?SearchMode=Text&amp;ObjectID=P509376\" title=\"Show this document on CDLI\" sec=\"P509376 obverse:9\">P509376 obverse:9</a></span></td><td class=\"tf ltr\"><div class=\"\"><span class=\"plain   hlbx\" ><span class=\"plain   hl\" ><span class=\"txto\">i-</span></span><span class=\"plain   hl\" ><span class=\"txto\">na-</span></span><span class=\"txto\">an-</span><span class=\"txto\">na </span></span><span class=\"txto\">na-</span><span class=\"txto\">bi-</span><span class=\"txto\">{d}</span><span class=\"txto\">suen</span></div></td><td class=\"tf ltr\"><div class=\"\"><span class=\"plain   hlbx\" ><span class=\"plain   hl\" ><span class=\"txto\">i-</span></span><span class=\"plain   hl\" ><span class=\"txto\">na-</span></span><span class=\"txto\">an-</span><span class=\"txto\">na </span></span></div></td><td class=\"tf ltr\"><div class=\"\"><span class=\"plain   hl\" ><span class=\"txto\">i-</span></span></div></td><td class=\"tf ltr\"><div class=\"\"><span class=\"plain   hl\" ><span class=\"txto\">na-</span></span></div></td></tr>\n",
       "<tr class=\"tf ltr\"><td class=\"tf ltr\">7</td><td class=\"tf ltr\"><span class=\"section ltr\"><a target=\"_blank\" href=\"https://cdli.ucla.edu/search/search_results.php?SearchMode=Text&amp;ObjectID=P509376\" title=\"Show this document on CDLI\" sec=\"P509376 reverse:4\">P509376 reverse:4</a></span></td><td class=\"tf ltr\"><div class=\"\"><span class=\"plain   hlbx\" ><span class=\"plain   hl\" ><span class=\"txto\">i-</span></span><span class=\"plain   hl\" ><span class=\"txto\">na </span></span></span><span class=\"txto\">tup-</span><span class=\"txto\">pi2-</span><span class=\"txto\">ka </span><span class=\"txto\">pa-</span><span class=\"txto\">nam </span><span class=\"txto\">szu-</span><span class=\"txto\">ur2-</span><span class=\"txto\">szi-</span><span class=\"txto\">a-</span><span class=\"txto\">am-</span><span class=\"txto\">ma</span></div></td><td class=\"tf ltr\"><div class=\"\"><span class=\"plain   hlbx\" ><span class=\"plain   hl\" ><span class=\"txto\">i-</span></span><span class=\"plain   hl\" ><span class=\"txto\">na </span></span></span></div></td><td class=\"tf ltr\"><div class=\"\"><span class=\"plain   hl\" ><span class=\"txto\">i-</span></span></div></td><td class=\"tf ltr\"><div class=\"\"><span class=\"plain   hl\" ><span class=\"txto\">na </span></span></div></td></tr>\n",
       "<tr class=\"tf ltr\"><td class=\"tf ltr\">8</td><td class=\"tf ltr\"><span class=\"section ltr\"><a target=\"_blank\" href=\"https://cdli.ucla.edu/search/search_results.php?SearchMode=Text&amp;ObjectID=P509377\" title=\"Show this document on CDLI\" sec=\"P509377 obverse:1\">P509377 obverse:1</a></span></td><td class=\"tf ltr\"><div class=\"\"><span class=\"txto\">i-</span><span class=\"txto\">nu-</span><span class=\"txto\">ma </span><span class=\"plain   hlbx\" ><span class=\"plain   hl\" ><span class=\"txto\">i-</span></span><span class=\"plain   hl\" ><span class=\"txto\">na </span></span></span><span class=\"txto\">_e2_ </span><span class=\"txto\">da-</span><span class=\"txto\">[...]</span></div></td><td class=\"tf ltr\"><div class=\"\"><span class=\"plain   hlbx\" ><span class=\"plain   hl\" ><span class=\"txto\">i-</span></span><span class=\"plain   hl\" ><span class=\"txto\">na </span></span></span></div></td><td class=\"tf ltr\"><div class=\"\"><span class=\"plain   hl\" ><span class=\"txto\">i-</span></span></div></td><td class=\"tf ltr\"><div class=\"\"><span class=\"plain   hl\" ><span class=\"txto\">na </span></span></div></td></tr>\n",
       "<tr class=\"tf ltr\"><td class=\"tf ltr\">9</td><td class=\"tf ltr\"><span class=\"section ltr\"><a target=\"_blank\" href=\"https://cdli.ucla.edu/search/search_results.php?SearchMode=Text&amp;ObjectID=P509377\" title=\"Show this document on CDLI\" sec=\"P509377 reverse:4\">P509377 reverse:4</a></span></td><td class=\"tf ltr\"><div class=\"\"><span class=\"txto\">1(disz) </span><span class=\"txto\">_amar </span><span class=\"txto\">mu_ </span><span class=\"txto\">3(disz) </span><span class=\"plain   hlbx\" ><span class=\"plain   hl\" ><span class=\"txto\">i-</span></span><span class=\"plain   hl\" ><span class=\"txto\">na </span></span></span><span class=\"txto\">i-</span><span class=\"txto\">ni-</span><span class=\"txto\">ia </span><span class=\"txto\">ta#-</span><span class=\"txto\">[...]</span></div></td><td class=\"tf ltr\"><div class=\"\"><span class=\"plain   hlbx\" ><span class=\"plain   hl\" ><span class=\"txto\">i-</span></span><span class=\"plain   hl\" ><span class=\"txto\">na </span></span></span></div></td><td class=\"tf ltr\"><div class=\"\"><span class=\"plain   hl\" ><span class=\"txto\">i-</span></span></div></td><td class=\"tf ltr\"><div class=\"\"><span class=\"plain   hl\" ><span class=\"txto\">na </span></span></div></td></tr>\n",
       "<tr class=\"tf ltr\"><td class=\"tf ltr\">10</td><td class=\"tf ltr\"><span class=\"section ltr\"><a target=\"_blank\" href=\"https://cdli.ucla.edu/search/search_results.php?SearchMode=Text&amp;ObjectID=P509377\" title=\"Show this document on CDLI\" sec=\"P509377 reverse:5\">P509377 reverse:5</a></span></td><td class=\"tf ltr\"><div class=\"\"><span class=\"plain   hlbx\" ><span class=\"plain   hl\" ><span class=\"txto\">i-</span></span><span class=\"plain   hl\" ><span class=\"txto\">na </span></span></span><span class=\"txto\">_gu4-</span><span class=\"txto\">hi-</span><span class=\"txto\">a_-</span><span class=\"txto\">ia </span><span class=\"txto\">ta-</span><span class=\"txto\">as-</span><span class=\"txto\">su2-</span><span class=\"txto\">uq-</span><span class=\"txto\">ma </span><span class=\"txto\">a-</span><span class=\"txto\">na# </span><span class=\"txto\">[...]</span></div></td><td class=\"tf ltr\"><div class=\"\"><span class=\"plain   hlbx\" ><span class=\"plain   hl\" ><span class=\"txto\">i-</span></span><span class=\"plain   hl\" ><span class=\"txto\">na </span></span></span></div></td><td class=\"tf ltr\"><div class=\"\"><span class=\"plain   hl\" ><span class=\"txto\">i-</span></span></div></td><td class=\"tf ltr\"><div class=\"\"><span class=\"plain   hl\" ><span class=\"txto\">na </span></span></div></td></tr></table>"
      ],
      "text/plain": [
       "<IPython.core.display.HTML object>"
      ]
     },
     "metadata": {},
     "output_type": "display_data"
    }
   ],
   "source": [
    "A.table(results, end=10)"
   ]
  },
  {
   "cell_type": "markdown",
   "metadata": {},
   "source": [
    "# All prepositions\n",
    "\n",
    "Now let's query for all words that start with a preposition."
   ]
  },
  {
   "cell_type": "code",
   "execution_count": 25,
   "metadata": {},
   "outputs": [],
   "source": [
    "query = \"\"\"\n",
    "word\n",
    "/with/\n",
    "  =: sign reading=i\n",
    "  <: sign reading=na\n",
    "/or/\n",
    "  =: sign reading=a\n",
    "  <: sign reading=na\n",
    "/or/\n",
    "  =: sign reading=e\n",
    "  <: sign reading=li\n",
    "/or/\n",
    "  =: sign reading=isz\n",
    "  <: sign reading=tu\n",
    "/or/\n",
    "  =: sign reading=it\n",
    "  <: sign reading=ti\n",
    "/-/\n",
    "\"\"\""
   ]
  },
  {
   "cell_type": "markdown",
   "metadata": {},
   "source": [
    "Explanation: we have already encountered the `/with/` quantifiers. Now we see it in its full form: as a list of alternatives.\n",
    "\n",
    "Again: none of the sign nodes that attest the alternatives, end up in the results.\n",
    "\n",
    "That does not matter, we only want the words.\n",
    "\n",
    "With the list of words in hand, we are going to make a hand-coded tuple of all cases with nice highlighting."
   ]
  },
  {
   "cell_type": "code",
   "execution_count": 26,
   "metadata": {},
   "outputs": [
    {
     "name": "stdout",
     "output_type": "stream",
     "text": [
      "  0.40s 6840 results\n"
     ]
    }
   ],
   "source": [
    "rawResults = A.search(query)"
   ]
  },
  {
   "cell_type": "code",
   "execution_count": 27,
   "metadata": {},
   "outputs": [
    {
     "data": {
      "text/plain": [
       "[(258163,),\n",
       " (258171,),\n",
       " (258199,),\n",
       " (258205,),\n",
       " (258261,),\n",
       " (258274,),\n",
       " (258276,),\n",
       " (258314,),\n",
       " (258336,),\n",
       " (258362,)]"
      ]
     },
     "execution_count": 27,
     "metadata": {},
     "output_type": "execute_result"
    }
   ],
   "source": [
    "rawResults[0:10]"
   ]
  },
  {
   "cell_type": "markdown",
   "metadata": {},
   "source": [
    "`rawResults` is a tuple of singleton tuples, each containing just a word node.\n",
    "\n",
    "In the following code, we walk through all the results, and\n",
    "\n",
    "* retrieve the containing line\n",
    "* highlight the preposition within the word\n",
    "* highlight the remaining material in the word in a different color\n",
    "* if there is no remaining material in the word, draw in the next word and highlight that."
   ]
  },
  {
   "cell_type": "code",
   "execution_count": 28,
   "metadata": {},
   "outputs": [],
   "source": [
    "results = []\n",
    "highlights = {}\n",
    "\n",
    "for (w,) in rawResults:\n",
    "    line = L.u(w, otype=\"line\")[0]\n",
    "    signs = L.d(w, otype=\"sign\")\n",
    "    highlights[signs[0]] = \"orange\"\n",
    "    highlights[signs[1]] = \"orange\"\n",
    "    if len(signs) > 2:\n",
    "        noun = signs[2:]\n",
    "    else:\n",
    "        nextWord = L.n(w, otype=\"word\")[0]\n",
    "        noun = L.d(nextWord, otype=\"sign\")\n",
    "    for s in noun:\n",
    "        highlights[s] = \"aquamarine\"\n",
    "    results.append((line, w, nextWord))"
   ]
  },
  {
   "cell_type": "code",
   "execution_count": 29,
   "metadata": {},
   "outputs": [
    {
     "data": {
      "text/html": [
       "<table><tr class=\"tf ltr\"><th class=\"tf ltr\">n</th><th class=\"tf ltr\">p</th><th class=\"tf ltr\">line</th><th class=\"tf\">word</th><th class=\"tf\">word</th></tr>\n",
       "<tr class=\"tf ltr\"><td class=\"tf ltr\">1</td><td class=\"tf ltr\"><span class=\"section ltr\"><a target=\"_blank\" href=\"https://cdli.ucla.edu/search/search_results.php?SearchMode=Text&amp;ObjectID=P509373\" title=\"Show this document on CDLI\" sec=\"P509373 obverse:1\">P509373 obverse:1</a></span></td><td class=\"tf ltr\"><div class=\"\"><span class=\"plain   hlbx\" ><span class=\"plain   hl\"  style=\"background-color: orange;\" ><span class=\"txto\">[a-</span></span><span class=\"plain   hl\"  style=\"background-color: orange;\" ><span class=\"txto\">na] </span></span></span><span class=\"plain   hlbx\" ><span class=\"plain   hl\"  style=\"background-color: aquamarine;\" ><span class=\"txto\">_{d}</span></span><span class=\"plain   hl\"  style=\"background-color: aquamarine;\" ><span class=\"txto\">suen_-</span></span><span class=\"plain   hl\"  style=\"background-color: aquamarine;\" ><span class=\"txto\">i-</span></span><span class=\"plain   hl\"  style=\"background-color: aquamarine;\" ><span class=\"txto\">[din-</span></span><span class=\"plain   hl\"  style=\"background-color: aquamarine;\" ><span class=\"txto\">nam]</span></span></span></div></td><td class=\"tf ltr\"><div class=\"\"><span class=\"plain   hlbx\" ><span class=\"plain   hl\"  style=\"background-color: orange;\" ><span class=\"txto\">[a-</span></span><span class=\"plain   hl\"  style=\"background-color: orange;\" ><span class=\"txto\">na] </span></span></span></div></td><td class=\"tf ltr\"><div class=\"\"><span class=\"plain   hlbx\" ><span class=\"plain   hl\"  style=\"background-color: aquamarine;\" ><span class=\"txto\">_{d}</span></span><span class=\"plain   hl\"  style=\"background-color: aquamarine;\" ><span class=\"txto\">suen_-</span></span><span class=\"plain   hl\"  style=\"background-color: aquamarine;\" ><span class=\"txto\">i-</span></span><span class=\"plain   hl\"  style=\"background-color: aquamarine;\" ><span class=\"txto\">[din-</span></span><span class=\"plain   hl\"  style=\"background-color: aquamarine;\" ><span class=\"txto\">nam]</span></span></span></div></td></tr>\n",
       "<tr class=\"tf ltr\"><td class=\"tf ltr\">2</td><td class=\"tf ltr\"><span class=\"section ltr\"><a target=\"_blank\" href=\"https://cdli.ucla.edu/search/search_results.php?SearchMode=Text&amp;ObjectID=P509373\" title=\"Show this document on CDLI\" sec=\"P509373 obverse:4\">P509373 obverse:4</a></span></td><td class=\"tf ltr\"><div class=\"\"><span class=\"txto\">_{d}</span><span class=\"txto\">utu_ </span><span class=\"txto\">u3 </span><span class=\"txto\">_{d}</span><span class=\"txto\">[marduk]_ </span><span class=\"plain   hlbx\" ><span class=\"plain   hl\"  style=\"background-color: orange;\" ><span class=\"txto\">a-</span></span><span class=\"plain   hl\"  style=\"background-color: orange;\" ><span class=\"txto\">na </span></span></span><span class=\"plain   hlbx\" ><span class=\"plain   hl\"  style=\"background-color: aquamarine;\" ><span class=\"txto\">da-</span></span><span class=\"plain   hl\"  style=\"background-color: aquamarine;\" ><span class=\"txto\">ri-</span></span><span class=\"plain   hl\"  style=\"background-color: aquamarine;\" ><span class=\"txto\">a-</span></span><span class=\"plain   hl\"  style=\"background-color: aquamarine;\" ><span class=\"txto\">[tim]</span></span></span></div></td><td class=\"tf ltr\"><div class=\"\"><span class=\"plain   hlbx\" ><span class=\"plain   hl\"  style=\"background-color: orange;\" ><span class=\"txto\">a-</span></span><span class=\"plain   hl\"  style=\"background-color: orange;\" ><span class=\"txto\">na </span></span></span></div></td><td class=\"tf ltr\"><div class=\"\"><span class=\"plain   hlbx\" ><span class=\"plain   hl\"  style=\"background-color: aquamarine;\" ><span class=\"txto\">da-</span></span><span class=\"plain   hl\"  style=\"background-color: aquamarine;\" ><span class=\"txto\">ri-</span></span><span class=\"plain   hl\"  style=\"background-color: aquamarine;\" ><span class=\"txto\">a-</span></span><span class=\"plain   hl\"  style=\"background-color: aquamarine;\" ><span class=\"txto\">[tim]</span></span></span></div></td></tr>\n",
       "<tr class=\"tf ltr\"><td class=\"tf ltr\">3</td><td class=\"tf ltr\"><span class=\"section ltr\"><a target=\"_blank\" href=\"https://cdli.ucla.edu/search/search_results.php?SearchMode=Text&amp;ObjectID=P509373\" title=\"Show this document on CDLI\" sec=\"P509373 obverse:11\">P509373 obverse:11</a></span></td><td class=\"tf ltr\"><div class=\"\"><span class=\"txto\">sza </span><span class=\"txto\">_{d}</span><span class=\"txto\">utu_-</span><span class=\"txto\">ha-</span><span class=\"txto\">zi-</span><span class=\"txto\">[ir] </span><span class=\"plain   hlbx\" ><span class=\"plain   hl\"  style=\"background-color: orange;\" ><span class=\"txto\">isz-</span></span><span class=\"plain   hl\"  style=\"background-color: orange;\" ><span class=\"txto\">tu </span></span></span><span class=\"plain   hlbx\" ><span class=\"plain   hl\"  style=\"background-color: aquamarine;\" ><span class=\"txto\">_mu </span></span></span><span class=\"txto\">7(disz) </span><span class=\"txto\">kam_ </span><span class=\"txto\">id-</span><span class=\"txto\">di-</span><span class=\"txto\">nu-</span><span class=\"txto\">szum</span></div></td><td class=\"tf ltr\"><div class=\"\"><span class=\"plain   hlbx\" ><span class=\"plain   hl\"  style=\"background-color: orange;\" ><span class=\"txto\">isz-</span></span><span class=\"plain   hl\"  style=\"background-color: orange;\" ><span class=\"txto\">tu </span></span></span></div></td><td class=\"tf ltr\"><div class=\"\"><span class=\"plain   hlbx\" ><span class=\"plain   hl\"  style=\"background-color: aquamarine;\" ><span class=\"txto\">_mu </span></span></span></div></td></tr>\n",
       "<tr class=\"tf ltr\"><td class=\"tf ltr\">4</td><td class=\"tf ltr\"><span class=\"section ltr\"><a target=\"_blank\" href=\"https://cdli.ucla.edu/search/search_results.php?SearchMode=Text&amp;ObjectID=P509373\" title=\"Show this document on CDLI\" sec=\"P509373 obverse:12\">P509373 obverse:12</a></span></td><td class=\"tf ltr\"><div class=\"\"><span class=\"txto\">u3 </span><span class=\"plain   hlbx\" ><span class=\"plain   hl\"  style=\"background-color: orange;\" ><span class=\"txto\">i-</span></span><span class=\"plain   hl\"  style=\"background-color: orange;\" ><span class=\"txto\">na </span></span></span><span class=\"plain   hlbx\" ><span class=\"plain   hl\"  style=\"background-color: aquamarine;\" ><span class=\"txto\">_uru_ </span></span></span><span class=\"txto\">x-</span><span class=\"txto\">szum</span><span class=\"txto\">{ki} </span><span class=\"txto\">sza-</span><span class=\"txto\">ak-</span><span class=\"txto\">nu </span><span class=\"txto\">id-</span><span class=\"txto\">di-</span><span class=\"txto\">a-</span><span class=\"txto\">am-</span><span class=\"txto\">ma</span></div></td><td class=\"tf ltr\"><div class=\"\"><span class=\"plain   hlbx\" ><span class=\"plain   hl\"  style=\"background-color: orange;\" ><span class=\"txto\">i-</span></span><span class=\"plain   hl\"  style=\"background-color: orange;\" ><span class=\"txto\">na </span></span></span></div></td><td class=\"tf ltr\"><div class=\"\"><span class=\"plain   hlbx\" ><span class=\"plain   hl\"  style=\"background-color: aquamarine;\" ><span class=\"txto\">_uru_ </span></span></span></div></td></tr>\n",
       "<tr class=\"tf ltr\"><td class=\"tf ltr\">5</td><td class=\"tf ltr\"><span class=\"section ltr\"><a target=\"_blank\" href=\"https://cdli.ucla.edu/search/search_results.php?SearchMode=Text&amp;ObjectID=P509373\" title=\"Show this document on CDLI\" sec=\"P509373 reverse:8'\">P509373 reverse:8'</a></span></td><td class=\"tf ltr\"><div class=\"\"><span class=\"plain   hlbx\" ><span class=\"plain   hl\"  style=\"background-color: orange;\" ><span class=\"txto\">a-</span></span><span class=\"plain   hl\"  style=\"background-color: orange;\" ><span class=\"txto\">[na] </span></span></span><span class=\"plain   hlbx\" ><span class=\"plain   hl\"  style=\"background-color: aquamarine;\" ><span class=\"txto\">sa-</span></span><span class=\"plain   hl\"  style=\"background-color: aquamarine;\" ><span class=\"txto\">[am-</span></span><span class=\"plain   hl\"  style=\"background-color: aquamarine;\" ><span class=\"txto\">su]-</span></span><span class=\"plain   hl\"  style=\"background-color: aquamarine;\" ><span class=\"txto\">ba-</span></span><span class=\"plain   hl\"  style=\"background-color: aquamarine;\" ><span class=\"txto\">ah-</span></span><span class=\"plain   hl\"  style=\"background-color: aquamarine;\" ><span class=\"txto\">[la] </span></span></span><span class=\"txto\">x </span><span class=\"txto\">x </span><span class=\"txto\">li </span><span class=\"txto\">ig </span><span class=\"txto\">bu</span></div></td><td class=\"tf ltr\"><div class=\"\"><span class=\"plain   hlbx\" ><span class=\"plain   hl\"  style=\"background-color: orange;\" ><span class=\"txto\">a-</span></span><span class=\"plain   hl\"  style=\"background-color: orange;\" ><span class=\"txto\">[na] </span></span></span></div></td><td class=\"tf ltr\"><div class=\"\"><span class=\"plain   hlbx\" ><span class=\"plain   hl\"  style=\"background-color: aquamarine;\" ><span class=\"txto\">sa-</span></span><span class=\"plain   hl\"  style=\"background-color: aquamarine;\" ><span class=\"txto\">[am-</span></span><span class=\"plain   hl\"  style=\"background-color: aquamarine;\" ><span class=\"txto\">su]-</span></span><span class=\"plain   hl\"  style=\"background-color: aquamarine;\" ><span class=\"txto\">ba-</span></span><span class=\"plain   hl\"  style=\"background-color: aquamarine;\" ><span class=\"txto\">ah-</span></span><span class=\"plain   hl\"  style=\"background-color: aquamarine;\" ><span class=\"txto\">[la] </span></span></span></div></td></tr>\n",
       "<tr class=\"tf ltr\"><td class=\"tf ltr\">6</td><td class=\"tf ltr\"><span class=\"section ltr\"><a target=\"_blank\" href=\"https://cdli.ucla.edu/search/search_results.php?SearchMode=Text&amp;ObjectID=P509373\" title=\"Show this document on CDLI\" sec=\"P509373 reverse:11'\">P509373 reverse:11'</a></span></td><td class=\"tf ltr\"><div class=\"\"><span class=\"plain   hlbx\" ><span class=\"plain   hl\"  style=\"background-color: orange;\" ><span class=\"txto\">a-</span></span><span class=\"plain   hl\"  style=\"background-color: orange;\" ><span class=\"txto\">na </span></span></span><span class=\"plain   hlbx\" ><span class=\"plain   hl\"  style=\"background-color: aquamarine;\" ><span class=\"txto\">ki-</span></span><span class=\"plain   hl\"  style=\"background-color: aquamarine;\" ><span class=\"txto\">ma </span></span></span><span class=\"plain   hl\"  style=\"background-color: orange;\" ><span class=\"txto\">i-</span></span><span class=\"plain   hl\"  style=\"background-color: orange;\" ><span class=\"txto\">[na] </span></span><span class=\"plain   hl\"  style=\"background-color: aquamarine;\" ><span class=\"txto\">_dub </span></span><span class=\"txto\">e2-</span><span class=\"txto\">gal_-</span><span class=\"txto\">lim</span></div></td><td class=\"tf ltr\"><div class=\"\"><span class=\"plain   hlbx\" ><span class=\"plain   hl\"  style=\"background-color: orange;\" ><span class=\"txto\">a-</span></span><span class=\"plain   hl\"  style=\"background-color: orange;\" ><span class=\"txto\">na </span></span></span></div></td><td class=\"tf ltr\"><div class=\"\"><span class=\"plain   hlbx\" ><span class=\"plain   hl\"  style=\"background-color: aquamarine;\" ><span class=\"txto\">ki-</span></span><span class=\"plain   hl\"  style=\"background-color: aquamarine;\" ><span class=\"txto\">ma </span></span></span></div></td></tr>\n",
       "<tr class=\"tf ltr\"><td class=\"tf ltr\">7</td><td class=\"tf ltr\"><span class=\"section ltr\"><a target=\"_blank\" href=\"https://cdli.ucla.edu/search/search_results.php?SearchMode=Text&amp;ObjectID=P509373\" title=\"Show this document on CDLI\" sec=\"P509373 reverse:11'\">P509373 reverse:11'</a></span></td><td class=\"tf ltr\"><div class=\"\"><span class=\"plain   hl\"  style=\"background-color: orange;\" ><span class=\"txto\">a-</span></span><span class=\"plain   hl\"  style=\"background-color: orange;\" ><span class=\"txto\">na </span></span><span class=\"plain   hl\"  style=\"background-color: aquamarine;\" ><span class=\"txto\">ki-</span></span><span class=\"plain   hl\"  style=\"background-color: aquamarine;\" ><span class=\"txto\">ma </span></span><span class=\"plain   hlbx\" ><span class=\"plain   hl\"  style=\"background-color: orange;\" ><span class=\"txto\">i-</span></span><span class=\"plain   hl\"  style=\"background-color: orange;\" ><span class=\"txto\">[na] </span></span></span><span class=\"plain   hlbx\" ><span class=\"plain   hl\"  style=\"background-color: aquamarine;\" ><span class=\"txto\">_dub </span></span></span><span class=\"txto\">e2-</span><span class=\"txto\">gal_-</span><span class=\"txto\">lim</span></div></td><td class=\"tf ltr\"><div class=\"\"><span class=\"plain   hlbx\" ><span class=\"plain   hl\"  style=\"background-color: orange;\" ><span class=\"txto\">i-</span></span><span class=\"plain   hl\"  style=\"background-color: orange;\" ><span class=\"txto\">[na] </span></span></span></div></td><td class=\"tf ltr\"><div class=\"\"><span class=\"plain   hlbx\" ><span class=\"plain   hl\"  style=\"background-color: aquamarine;\" ><span class=\"txto\">_dub </span></span></span></div></td></tr>\n",
       "<tr class=\"tf ltr\"><td class=\"tf ltr\">8</td><td class=\"tf ltr\"><span class=\"section ltr\"><a target=\"_blank\" href=\"https://cdli.ucla.edu/search/search_results.php?SearchMode=Text&amp;ObjectID=P509374\" title=\"Show this document on CDLI\" sec=\"P509374 obverse:1\">P509374 obverse:1</a></span></td><td class=\"tf ltr\"><div class=\"\"><span class=\"plain   hlbx\" ><span class=\"plain   hl\"  style=\"background-color: orange;\" ><span class=\"txto\">a-</span></span><span class=\"plain   hl\"  style=\"background-color: orange;\" ><span class=\"txto\">[na] </span></span></span><span class=\"plain   hlbx\" ><span class=\"plain   hl\"  style=\"background-color: aquamarine;\" ><span class=\"txto\">i3-</span></span><span class=\"plain   hl\"  style=\"background-color: aquamarine;\" ><span class=\"txto\">li2-</span></span><span class=\"plain   hl\"  style=\"background-color: aquamarine;\" ><span class=\"txto\">i-</span></span><span class=\"plain   hl\"  style=\"background-color: aquamarine;\" ><span class=\"txto\">qi2-</span></span><span class=\"plain   hl\"  style=\"background-color: aquamarine;\" ><span class=\"txto\">sza-</span></span><span class=\"plain   hl\"  style=\"background-color: aquamarine;\" ><span class=\"txto\">am</span></span></span></div></td><td class=\"tf ltr\"><div class=\"\"><span class=\"plain   hlbx\" ><span class=\"plain   hl\"  style=\"background-color: orange;\" ><span class=\"txto\">a-</span></span><span class=\"plain   hl\"  style=\"background-color: orange;\" ><span class=\"txto\">[na] </span></span></span></div></td><td class=\"tf ltr\"><div class=\"\"><span class=\"plain   hlbx\" ><span class=\"plain   hl\"  style=\"background-color: aquamarine;\" ><span class=\"txto\">i3-</span></span><span class=\"plain   hl\"  style=\"background-color: aquamarine;\" ><span class=\"txto\">li2-</span></span><span class=\"plain   hl\"  style=\"background-color: aquamarine;\" ><span class=\"txto\">i-</span></span><span class=\"plain   hl\"  style=\"background-color: aquamarine;\" ><span class=\"txto\">qi2-</span></span><span class=\"plain   hl\"  style=\"background-color: aquamarine;\" ><span class=\"txto\">sza-</span></span><span class=\"plain   hl\"  style=\"background-color: aquamarine;\" ><span class=\"txto\">am</span></span></span></div></td></tr>\n",
       "<tr class=\"tf ltr\"><td class=\"tf ltr\">9</td><td class=\"tf ltr\"><span class=\"section ltr\"><a target=\"_blank\" href=\"https://cdli.ucla.edu/search/search_results.php?SearchMode=Text&amp;ObjectID=P509374\" title=\"Show this document on CDLI\" sec=\"P509374 obverse:7\">P509374 obverse:7</a></span></td><td class=\"tf ltr\"><div class=\"\"><span class=\"txto\">_dub_-</span><span class=\"txto\">pi2 </span><span class=\"plain   hlbx\" ><span class=\"plain   hl\"  style=\"background-color: orange;\" ><span class=\"txto\">a-</span></span><span class=\"plain   hl\"  style=\"background-color: orange;\" ><span class=\"txto\">na </span></span></span><span class=\"plain   hlbx\" ><span class=\"plain   hl\"  style=\"background-color: aquamarine;\" ><span class=\"txto\">nu-</span></span><span class=\"plain   hl\"  style=\"background-color: aquamarine;\" ><span class=\"txto\">un-</span></span><span class=\"plain   hl\"  style=\"background-color: aquamarine;\" ><span class=\"txto\">na-</span></span><span class=\"plain   hl\"  style=\"background-color: aquamarine;\" ><span class=\"txto\">tum</span></span></span></div></td><td class=\"tf ltr\"><div class=\"\"><span class=\"plain   hlbx\" ><span class=\"plain   hl\"  style=\"background-color: orange;\" ><span class=\"txto\">a-</span></span><span class=\"plain   hl\"  style=\"background-color: orange;\" ><span class=\"txto\">na </span></span></span></div></td><td class=\"tf ltr\"><div class=\"\"><span class=\"plain   hlbx\" ><span class=\"plain   hl\"  style=\"background-color: aquamarine;\" ><span class=\"txto\">nu-</span></span><span class=\"plain   hl\"  style=\"background-color: aquamarine;\" ><span class=\"txto\">un-</span></span><span class=\"plain   hl\"  style=\"background-color: aquamarine;\" ><span class=\"txto\">na-</span></span><span class=\"plain   hl\"  style=\"background-color: aquamarine;\" ><span class=\"txto\">tum</span></span></span></div></td></tr>\n",
       "<tr class=\"tf ltr\"><td class=\"tf ltr\">10</td><td class=\"tf ltr\"><span class=\"section ltr\"><a target=\"_blank\" href=\"https://cdli.ucla.edu/search/search_results.php?SearchMode=Text&amp;ObjectID=P509374\" title=\"Show this document on CDLI\" sec=\"P509374 obverse:15\">P509374 obverse:15</a></span></td><td class=\"tf ltr\"><div class=\"\"><span class=\"plain   hlbx\" ><span class=\"plain   hl\"  style=\"background-color: orange;\" ><span class=\"txto\">i-</span></span><span class=\"plain   hl\"  style=\"background-color: orange;\" ><span class=\"txto\">na </span></span></span><span class=\"plain   hlbx\" ><span class=\"plain   hl\"  style=\"background-color: aquamarine;\" ><span class=\"txto\">_ka2 </span></span></span><span class=\"txto\">ki-</span><span class=\"txto\">lam_ </span><span class=\"txto\">sza-</span><span class=\"txto\">mi-</span><span class=\"txto\">im-</span><span class=\"txto\">ma</span></div></td><td class=\"tf ltr\"><div class=\"\"><span class=\"plain   hlbx\" ><span class=\"plain   hl\"  style=\"background-color: orange;\" ><span class=\"txto\">i-</span></span><span class=\"plain   hl\"  style=\"background-color: orange;\" ><span class=\"txto\">na </span></span></span></div></td><td class=\"tf ltr\"><div class=\"\"><span class=\"plain   hlbx\" ><span class=\"plain   hl\"  style=\"background-color: aquamarine;\" ><span class=\"txto\">_ka2 </span></span></span></div></td></tr></table>"
      ],
      "text/plain": [
       "<IPython.core.display.HTML object>"
      ]
     },
     "metadata": {},
     "output_type": "display_data"
    }
   ],
   "source": [
    "A.table(results, end=10, highlights=highlights)"
   ]
  },
  {
   "cell_type": "code",
   "execution_count": 30,
   "metadata": {},
   "outputs": [
    {
     "data": {
      "text/html": [
       "<table><tr class=\"tf ltr\"><th class=\"tf ltr\">n</th><th class=\"tf ltr\">p</th><th class=\"tf ltr\">line</th><th class=\"tf\">word</th><th class=\"tf\">word</th></tr>\n",
       "<tr class=\"tf ltr\"><td class=\"tf ltr\">1000</td><td class=\"tf ltr\"><span class=\"section ltr\"><a target=\"_blank\" href=\"https://cdli.ucla.edu/search/search_results.php?SearchMode=Text&amp;ObjectID=P510698\" title=\"Show this document on CDLI\" sec=\"P510698 obverse:11\">P510698 obverse:11</a></span></td><td class=\"tf ltr\"><div class=\"\"><span class=\"txto\">szum-</span><span class=\"txto\">ma </span><span class=\"plain   hlbx\" ><span class=\"plain   hl\"  style=\"background-color: orange;\" ><span class=\"txto\">i-</span></span><span class=\"plain   hl\"  style=\"background-color: orange;\" ><span class=\"txto\">na </span></span></span><span class=\"plain   hlbx\" ><span class=\"plain   hl\"  style=\"background-color: aquamarine;\" ><span class=\"txto\">ki-</span></span><span class=\"plain   hl\"  style=\"background-color: aquamarine;\" ><span class=\"txto\">tim </span></span></span><span class=\"txto\">a-</span><span class=\"txto\">bi</span></div></td><td class=\"tf ltr\"><div class=\"\"><span class=\"plain   hlbx\" ><span class=\"plain   hl\"  style=\"background-color: orange;\" ><span class=\"txto\">i-</span></span><span class=\"plain   hl\"  style=\"background-color: orange;\" ><span class=\"txto\">na </span></span></span></div></td><td class=\"tf ltr\"><div class=\"\"><span class=\"plain   hlbx\" ><span class=\"plain   hl\"  style=\"background-color: aquamarine;\" ><span class=\"txto\">ki-</span></span><span class=\"plain   hl\"  style=\"background-color: aquamarine;\" ><span class=\"txto\">tim </span></span></span></div></td></tr>\n",
       "<tr class=\"tf ltr\"><td class=\"tf ltr\">1001</td><td class=\"tf ltr\"><span class=\"section ltr\"><a target=\"_blank\" href=\"https://cdli.ucla.edu/search/search_results.php?SearchMode=Text&amp;ObjectID=P510698\" title=\"Show this document on CDLI\" sec=\"P510698 obverse:13\">P510698 obverse:13</a></span></td><td class=\"tf ltr\"><div class=\"\"><span class=\"plain   hlbx\" ><span class=\"plain   hl\"  style=\"background-color: orange;\" ><span class=\"txto\">i-</span></span><span class=\"plain   hl\"  style=\"background-color: orange;\" ><span class=\"txto\">na </span></span></span><span class=\"plain   hlbx\" ><span class=\"plain   hl\"  style=\"background-color: aquamarine;\" ><span class=\"txto\">an-</span></span><span class=\"plain   hl\"  style=\"background-color: aquamarine;\" ><span class=\"txto\">ni-</span></span><span class=\"plain   hl\"  style=\"background-color: aquamarine;\" ><span class=\"txto\">tim </span></span></span><span class=\"txto\">et,-</span><span class=\"txto\">ra-</span><span class=\"txto\">an-</span><span class=\"txto\">ni-</span><span class=\"txto\">i-</span><span class=\"txto\">ma</span></div></td><td class=\"tf ltr\"><div class=\"\"><span class=\"plain   hlbx\" ><span class=\"plain   hl\"  style=\"background-color: orange;\" ><span class=\"txto\">i-</span></span><span class=\"plain   hl\"  style=\"background-color: orange;\" ><span class=\"txto\">na </span></span></span></div></td><td class=\"tf ltr\"><div class=\"\"><span class=\"plain   hlbx\" ><span class=\"plain   hl\"  style=\"background-color: aquamarine;\" ><span class=\"txto\">an-</span></span><span class=\"plain   hl\"  style=\"background-color: aquamarine;\" ><span class=\"txto\">ni-</span></span><span class=\"plain   hl\"  style=\"background-color: aquamarine;\" ><span class=\"txto\">tim </span></span></span></div></td></tr>\n",
       "<tr class=\"tf ltr\"><td class=\"tf ltr\">1002</td><td class=\"tf ltr\"><span class=\"section ltr\"><a target=\"_blank\" href=\"https://cdli.ucla.edu/search/search_results.php?SearchMode=Text&amp;ObjectID=P510698\" title=\"Show this document on CDLI\" sec=\"P510698 obverse:14\">P510698 obverse:14</a></span></td><td class=\"tf ltr\"><div class=\"\"><span class=\"txto\">lu </span><span class=\"txto\">wa-</span><span class=\"txto\">ra-</span><span class=\"txto\">ad-</span><span class=\"txto\">ka </span><span class=\"txto\">sza </span><span class=\"txto\">da-</span><span class=\"txto\">ri#-</span><span class=\"txto\">a-</span><span class=\"txto\">tim </span><span class=\"plain   hlbx\" ><span class=\"plain   hl\"  style=\"background-color: orange;\" ><span class=\"txto\">a-</span></span><span class=\"plain   hl\"  style=\"background-color: orange;\" ><span class=\"txto\">na#-</span></span><span class=\"plain   hl\"  style=\"background-color: aquamarine;\" ><span class=\"txto\">ku#</span></span></span></div></td><td class=\"tf ltr\"><div class=\"\"><span class=\"plain   hlbx\" ><span class=\"plain   hl\"  style=\"background-color: orange;\" ><span class=\"txto\">a-</span></span><span class=\"plain   hl\"  style=\"background-color: orange;\" ><span class=\"txto\">na#-</span></span><span class=\"plain   hl\"  style=\"background-color: aquamarine;\" ><span class=\"txto\">ku#</span></span></span></div></td><td class=\"tf ltr\"><div class=\"\"><span class=\"plain   hlbx\" ><span class=\"plain   hl\"  style=\"background-color: aquamarine;\" ><span class=\"txto\">an-</span></span><span class=\"plain   hl\"  style=\"background-color: aquamarine;\" ><span class=\"txto\">ni-</span></span><span class=\"plain   hl\"  style=\"background-color: aquamarine;\" ><span class=\"txto\">tim </span></span></span></div></td></tr>\n",
       "<tr class=\"tf ltr\"><td class=\"tf ltr\">1003</td><td class=\"tf ltr\"><span class=\"section ltr\"><a target=\"_blank\" href=\"https://cdli.ucla.edu/search/search_results.php?SearchMode=Text&amp;ObjectID=P510699\" title=\"Show this document on CDLI\" sec=\"P510699 obverse:1\">P510699 obverse:1</a></span></td><td class=\"tf ltr\"><div class=\"\"><span class=\"plain   hlbx\" ><span class=\"plain   hl\"  style=\"background-color: orange;\" ><span class=\"txto\">a-</span></span><span class=\"plain   hl\"  style=\"background-color: orange;\" ><span class=\"txto\">na </span></span></span><span class=\"plain   hlbx\" ><span class=\"plain   hl\"  style=\"background-color: aquamarine;\" ><span class=\"txto\">i3-</span></span><span class=\"plain   hl\"  style=\"background-color: aquamarine;\" ><span class=\"txto\">li2-</span></span><span class=\"plain   hl\"  style=\"background-color: aquamarine;\" ><span class=\"txto\">x-</span></span><span class=\"plain   hl\"  style=\"background-color: aquamarine;\" ><span class=\"txto\">x-</span></span><span class=\"plain   hl\"  style=\"background-color: aquamarine;\" ><span class=\"txto\">AD</span></span></span></div></td><td class=\"tf ltr\"><div class=\"\"><span class=\"plain   hlbx\" ><span class=\"plain   hl\"  style=\"background-color: orange;\" ><span class=\"txto\">a-</span></span><span class=\"plain   hl\"  style=\"background-color: orange;\" ><span class=\"txto\">na </span></span></span></div></td><td class=\"tf ltr\"><div class=\"\"><span class=\"plain   hlbx\" ><span class=\"plain   hl\"  style=\"background-color: aquamarine;\" ><span class=\"txto\">i3-</span></span><span class=\"plain   hl\"  style=\"background-color: aquamarine;\" ><span class=\"txto\">li2-</span></span><span class=\"plain   hl\"  style=\"background-color: aquamarine;\" ><span class=\"txto\">x-</span></span><span class=\"plain   hl\"  style=\"background-color: aquamarine;\" ><span class=\"txto\">x-</span></span><span class=\"plain   hl\"  style=\"background-color: aquamarine;\" ><span class=\"txto\">AD</span></span></span></div></td></tr>\n",
       "<tr class=\"tf ltr\"><td class=\"tf ltr\">1004</td><td class=\"tf ltr\"><span class=\"section ltr\"><a target=\"_blank\" href=\"https://cdli.ucla.edu/search/search_results.php?SearchMode=Text&amp;ObjectID=P510699\" title=\"Show this document on CDLI\" sec=\"P510699 obverse:4\">P510699 obverse:4</a></span></td><td class=\"tf ltr\"><div class=\"\"><span class=\"plain   hlbx\" ><span class=\"plain   hl\"  style=\"background-color: orange;\" ><span class=\"txto\">a-</span></span><span class=\"plain   hl\"  style=\"background-color: orange;\" ><span class=\"txto\">na </span></span></span><span class=\"plain   hlbx\" ><span class=\"plain   hl\"  style=\"background-color: aquamarine;\" ><span class=\"txto\">mi-</span></span><span class=\"plain   hl\"  style=\"background-color: aquamarine;\" ><span class=\"txto\">ni-</span></span><span class=\"plain   hl\"  style=\"background-color: aquamarine;\" ><span class=\"txto\">im</span></span></span></div></td><td class=\"tf ltr\"><div class=\"\"><span class=\"plain   hlbx\" ><span class=\"plain   hl\"  style=\"background-color: orange;\" ><span class=\"txto\">a-</span></span><span class=\"plain   hl\"  style=\"background-color: orange;\" ><span class=\"txto\">na </span></span></span></div></td><td class=\"tf ltr\"><div class=\"\"><span class=\"plain   hlbx\" ><span class=\"plain   hl\"  style=\"background-color: aquamarine;\" ><span class=\"txto\">mi-</span></span><span class=\"plain   hl\"  style=\"background-color: aquamarine;\" ><span class=\"txto\">ni-</span></span><span class=\"plain   hl\"  style=\"background-color: aquamarine;\" ><span class=\"txto\">im</span></span></span></div></td></tr>\n",
       "<tr class=\"tf ltr\"><td class=\"tf ltr\">1005</td><td class=\"tf ltr\"><span class=\"section ltr\"><a target=\"_blank\" href=\"https://cdli.ucla.edu/search/search_results.php?SearchMode=Text&amp;ObjectID=P510699\" title=\"Show this document on CDLI\" sec=\"P510699 obverse:5\">P510699 obverse:5</a></span></td><td class=\"tf ltr\"><div class=\"\"><span class=\"plain   hlbx\" ><span class=\"plain   hl\"  style=\"background-color: orange;\" ><span class=\"txto\">a-</span></span><span class=\"plain   hl\"  style=\"background-color: orange;\" ><span class=\"txto\">na </span></span></span><span class=\"plain   hlbx\" ><span class=\"plain   hl\"  style=\"background-color: aquamarine;\" ><span class=\"txto\">tu-</span></span><span class=\"plain   hl\"  style=\"background-color: aquamarine;\" ><span class=\"txto\">uk-</span></span><span class=\"plain   hl\"  style=\"background-color: aquamarine;\" ><span class=\"txto\">la-</span></span><span class=\"plain   hl\"  style=\"background-color: aquamarine;\" ><span class=\"txto\">ti</span></span></span></div></td><td class=\"tf ltr\"><div class=\"\"><span class=\"plain   hlbx\" ><span class=\"plain   hl\"  style=\"background-color: orange;\" ><span class=\"txto\">a-</span></span><span class=\"plain   hl\"  style=\"background-color: orange;\" ><span class=\"txto\">na </span></span></span></div></td><td class=\"tf ltr\"><div class=\"\"><span class=\"plain   hlbx\" ><span class=\"plain   hl\"  style=\"background-color: aquamarine;\" ><span class=\"txto\">tu-</span></span><span class=\"plain   hl\"  style=\"background-color: aquamarine;\" ><span class=\"txto\">uk-</span></span><span class=\"plain   hl\"  style=\"background-color: aquamarine;\" ><span class=\"txto\">la-</span></span><span class=\"plain   hl\"  style=\"background-color: aquamarine;\" ><span class=\"txto\">ti</span></span></span></div></td></tr>\n",
       "<tr class=\"tf ltr\"><td class=\"tf ltr\">1006</td><td class=\"tf ltr\"><span class=\"section ltr\"><a target=\"_blank\" href=\"https://cdli.ucla.edu/search/search_results.php?SearchMode=Text&amp;ObjectID=P510699\" title=\"Show this document on CDLI\" sec=\"P510699 reverse:5\">P510699 reverse:5</a></span></td><td class=\"tf ltr\"><div class=\"\"><span class=\"plain   hlbx\" ><span class=\"plain   hl\"  style=\"background-color: orange;\" ><span class=\"txto\">a-</span></span><span class=\"plain   hl\"  style=\"background-color: orange;\" ><span class=\"txto\">na </span></span></span><span class=\"plain   hlbx\" ><span class=\"plain   hl\"  style=\"background-color: aquamarine;\" ><span class=\"txto\">szu-</span></span><span class=\"plain   hl\"  style=\"background-color: aquamarine;\" ><span class=\"txto\">mi-</span></span><span class=\"plain   hl\"  style=\"background-color: aquamarine;\" ><span class=\"txto\">a-</span></span><span class=\"plain   hl\"  style=\"background-color: aquamarine;\" ><span class=\"txto\">hi-</span></span><span class=\"plain   hl\"  style=\"background-color: aquamarine;\" ><span class=\"txto\">ia</span></span></span></div></td><td class=\"tf ltr\"><div class=\"\"><span class=\"plain   hlbx\" ><span class=\"plain   hl\"  style=\"background-color: orange;\" ><span class=\"txto\">a-</span></span><span class=\"plain   hl\"  style=\"background-color: orange;\" ><span class=\"txto\">na </span></span></span></div></td><td class=\"tf ltr\"><div class=\"\"><span class=\"plain   hlbx\" ><span class=\"plain   hl\"  style=\"background-color: aquamarine;\" ><span class=\"txto\">szu-</span></span><span class=\"plain   hl\"  style=\"background-color: aquamarine;\" ><span class=\"txto\">mi-</span></span><span class=\"plain   hl\"  style=\"background-color: aquamarine;\" ><span class=\"txto\">a-</span></span><span class=\"plain   hl\"  style=\"background-color: aquamarine;\" ><span class=\"txto\">hi-</span></span><span class=\"plain   hl\"  style=\"background-color: aquamarine;\" ><span class=\"txto\">ia</span></span></span></div></td></tr>\n",
       "<tr class=\"tf ltr\"><td class=\"tf ltr\">1007</td><td class=\"tf ltr\"><span class=\"section ltr\"><a target=\"_blank\" href=\"https://cdli.ucla.edu/search/search_results.php?SearchMode=Text&amp;ObjectID=P510699\" title=\"Show this document on CDLI\" sec=\"P510699 reverse:8\">P510699 reverse:8</a></span></td><td class=\"tf ltr\"><div class=\"\"><span class=\"plain   hlbx\" ><span class=\"plain   hl\"  style=\"background-color: orange;\" ><span class=\"txto\">a-</span></span><span class=\"plain   hl\"  style=\"background-color: orange;\" ><span class=\"txto\">na-</span></span><span class=\"plain   hl\"  style=\"background-color: aquamarine;\" ><span class=\"txto\">ku </span></span></span><span class=\"txto\">_ku3-</span><span class=\"txto\">babbar_</span></div></td><td class=\"tf ltr\"><div class=\"\"><span class=\"plain   hlbx\" ><span class=\"plain   hl\"  style=\"background-color: orange;\" ><span class=\"txto\">a-</span></span><span class=\"plain   hl\"  style=\"background-color: orange;\" ><span class=\"txto\">na-</span></span><span class=\"plain   hl\"  style=\"background-color: aquamarine;\" ><span class=\"txto\">ku </span></span></span></div></td><td class=\"tf ltr\"><div class=\"\"><span class=\"plain   hlbx\" ><span class=\"plain   hl\"  style=\"background-color: aquamarine;\" ><span class=\"txto\">szu-</span></span><span class=\"plain   hl\"  style=\"background-color: aquamarine;\" ><span class=\"txto\">mi-</span></span><span class=\"plain   hl\"  style=\"background-color: aquamarine;\" ><span class=\"txto\">a-</span></span><span class=\"plain   hl\"  style=\"background-color: aquamarine;\" ><span class=\"txto\">hi-</span></span><span class=\"plain   hl\"  style=\"background-color: aquamarine;\" ><span class=\"txto\">ia</span></span></span></div></td></tr>\n",
       "<tr class=\"tf ltr\"><td class=\"tf ltr\">1008</td><td class=\"tf ltr\"><span class=\"section ltr\"><a target=\"_blank\" href=\"https://cdli.ucla.edu/search/search_results.php?SearchMode=Text&amp;ObjectID=P510700\" title=\"Show this document on CDLI\" sec=\"P510700 obverse:1\">P510700 obverse:1</a></span></td><td class=\"tf ltr\"><div class=\"\"><span class=\"plain   hlbx\" ><span class=\"plain   hl\"  style=\"background-color: orange;\" ><span class=\"txto\">a-</span></span><span class=\"plain   hl\"  style=\"background-color: orange;\" ><span class=\"txto\">na </span></span></span><span class=\"plain   hlbx\" ><span class=\"plain   hl\"  style=\"background-color: aquamarine;\" ><span class=\"txto\">sza-</span></span><span class=\"plain   hl\"  style=\"background-color: aquamarine;\" ><span class=\"txto\">pi2-</span></span><span class=\"plain   hl\"  style=\"background-color: aquamarine;\" ><span class=\"txto\">ri-</span></span><span class=\"plain   hl\"  style=\"background-color: aquamarine;\" ><span class=\"txto\">ia!(I) </span></span></span><span class=\"txto\">qi2-</span><span class=\"txto\">bi2-</span><span class=\"txto\">ma</span></div></td><td class=\"tf ltr\"><div class=\"\"><span class=\"plain   hlbx\" ><span class=\"plain   hl\"  style=\"background-color: orange;\" ><span class=\"txto\">a-</span></span><span class=\"plain   hl\"  style=\"background-color: orange;\" ><span class=\"txto\">na </span></span></span></div></td><td class=\"tf ltr\"><div class=\"\"><span class=\"plain   hlbx\" ><span class=\"plain   hl\"  style=\"background-color: aquamarine;\" ><span class=\"txto\">sza-</span></span><span class=\"plain   hl\"  style=\"background-color: aquamarine;\" ><span class=\"txto\">pi2-</span></span><span class=\"plain   hl\"  style=\"background-color: aquamarine;\" ><span class=\"txto\">ri-</span></span><span class=\"plain   hl\"  style=\"background-color: aquamarine;\" ><span class=\"txto\">ia!(I) </span></span></span></div></td></tr>\n",
       "<tr class=\"tf ltr\"><td class=\"tf ltr\">1009</td><td class=\"tf ltr\"><span class=\"section ltr\"><a target=\"_blank\" href=\"https://cdli.ucla.edu/search/search_results.php?SearchMode=Text&amp;ObjectID=P510700\" title=\"Show this document on CDLI\" sec=\"P510700 obverse:5\">P510700 obverse:5</a></span></td><td class=\"tf ltr\"><div class=\"\"><span class=\"plain   hlbx\" ><span class=\"plain   hl\"  style=\"background-color: orange;\" ><span class=\"txto\">i-</span></span><span class=\"plain   hl\"  style=\"background-color: orange;\" ><span class=\"txto\">na </span></span></span><span class=\"plain   hlbx\" ><span class=\"plain   hl\"  style=\"background-color: aquamarine;\" ><span class=\"txto\">{iri}</span></span><span class=\"plain   hl\"  style=\"background-color: aquamarine;\" ><span class=\"txto\">dag-</span></span><span class=\"plain   hl\"  style=\"background-color: aquamarine;\" ><span class=\"txto\">la-</span></span><span class=\"plain   hl\"  style=\"background-color: aquamarine;\" ><span class=\"txto\">a </span></span></span><span class=\"txto\">_gu4 </span><span class=\"txto\">hi-</span><span class=\"txto\">a_-</span><span class=\"txto\">ni </span><span class=\"txto\">ka-</span><span class=\"txto\">su2-</span><span class=\"txto\">ma</span></div></td><td class=\"tf ltr\"><div class=\"\"><span class=\"plain   hlbx\" ><span class=\"plain   hl\"  style=\"background-color: orange;\" ><span class=\"txto\">i-</span></span><span class=\"plain   hl\"  style=\"background-color: orange;\" ><span class=\"txto\">na </span></span></span></div></td><td class=\"tf ltr\"><div class=\"\"><span class=\"plain   hlbx\" ><span class=\"plain   hl\"  style=\"background-color: aquamarine;\" ><span class=\"txto\">{iri}</span></span><span class=\"plain   hl\"  style=\"background-color: aquamarine;\" ><span class=\"txto\">dag-</span></span><span class=\"plain   hl\"  style=\"background-color: aquamarine;\" ><span class=\"txto\">la-</span></span><span class=\"plain   hl\"  style=\"background-color: aquamarine;\" ><span class=\"txto\">a </span></span></span></div></td></tr>\n",
       "<tr class=\"tf ltr\"><td class=\"tf ltr\">1010</td><td class=\"tf ltr\"><span class=\"section ltr\"><a target=\"_blank\" href=\"https://cdli.ucla.edu/search/search_results.php?SearchMode=Text&amp;ObjectID=P510700\" title=\"Show this document on CDLI\" sec=\"P510700 obverse:6\">P510700 obverse:6</a></span></td><td class=\"tf ltr\"><div class=\"\"><span class=\"txto\">_gu4_ </span><span class=\"plain   hlbx\" ><span class=\"plain   hl\"  style=\"background-color: orange;\" ><span class=\"txto\">isz-</span></span><span class=\"plain   hl\"  style=\"background-color: orange;\" ><span class=\"txto\">tu </span></span></span><span class=\"plain   hlbx\" ><span class=\"plain   hl\"  style=\"background-color: aquamarine;\" ><span class=\"txto\">szi-</span></span><span class=\"plain   hl\"  style=\"background-color: aquamarine;\" ><span class=\"txto\">ip-</span></span><span class=\"plain   hl\"  style=\"background-color: aquamarine;\" ><span class=\"txto\">ri </span></span></span><span class=\"txto\">ki-</span><span class=\"txto\">ma </span><span class=\"txto\">pa-</span><span class=\"txto\">t,a-</span><span class=\"txto\">ri-</span><span class=\"txto\">szu-</span><span class=\"txto\">nu</span></div></td><td class=\"tf ltr\"><div class=\"\"><span class=\"plain   hlbx\" ><span class=\"plain   hl\"  style=\"background-color: orange;\" ><span class=\"txto\">isz-</span></span><span class=\"plain   hl\"  style=\"background-color: orange;\" ><span class=\"txto\">tu </span></span></span></div></td><td class=\"tf ltr\"><div class=\"\"><span class=\"plain   hlbx\" ><span class=\"plain   hl\"  style=\"background-color: aquamarine;\" ><span class=\"txto\">szi-</span></span><span class=\"plain   hl\"  style=\"background-color: aquamarine;\" ><span class=\"txto\">ip-</span></span><span class=\"plain   hl\"  style=\"background-color: aquamarine;\" ><span class=\"txto\">ri </span></span></span></div></td></tr></table>"
      ],
      "text/plain": [
       "<IPython.core.display.HTML object>"
      ]
     },
     "metadata": {},
     "output_type": "display_data"
    }
   ],
   "source": [
    "A.table(results, start=1000, end=1010, highlights=highlights)"
   ]
  },
  {
   "cell_type": "code",
   "execution_count": 31,
   "metadata": {},
   "outputs": [
    {
     "data": {
      "text/html": [
       "<table><tr class=\"tf ltr\"><th class=\"tf ltr\">n</th><th class=\"tf ltr\">p</th><th class=\"tf ltr\">line</th><th class=\"tf\">word</th><th class=\"tf\">word</th></tr>\n",
       "<tr class=\"tf ltr\"><td class=\"tf ltr\">6000</td><td class=\"tf ltr\"><span class=\"section ltr\"><a target=\"_blank\" href=\"https://cdli.ucla.edu/search/search_results.php?SearchMode=Text&amp;ObjectID=P373015\" title=\"Show this document on CDLI\" sec=\"P373015 obverse:12\">P373015 obverse:12</a></span></td><td class=\"tf ltr\"><div class=\"\"><span class=\"txto\">ki-</span><span class=\"txto\">ma </span><span class=\"plain   hlbx\" ><span class=\"plain   hl\"  style=\"background-color: orange;\" ><span class=\"txto\">i-</span></span><span class=\"plain   hl\"  style=\"background-color: orange;\" ><span class=\"txto\">na </span></span></span><span class=\"plain   hlbx\" ><span class=\"plain   hl\"  style=\"background-color: aquamarine;\" ><span class=\"txto\">u2-</span></span><span class=\"plain   hl\"  style=\"background-color: aquamarine;\" ><span class=\"txto\">ri-</span></span><span class=\"plain   hl\"  style=\"background-color: aquamarine;\" ><span class=\"txto\">im-</span></span><span class=\"plain   hl\"  style=\"background-color: aquamarine;\" ><span class=\"txto\">ma</span></span></span></div></td><td class=\"tf ltr\"><div class=\"\"><span class=\"plain   hlbx\" ><span class=\"plain   hl\"  style=\"background-color: orange;\" ><span class=\"txto\">i-</span></span><span class=\"plain   hl\"  style=\"background-color: orange;\" ><span class=\"txto\">na </span></span></span></div></td><td class=\"tf ltr\"><div class=\"\"><span class=\"plain   hlbx\" ><span class=\"plain   hl\"  style=\"background-color: aquamarine;\" ><span class=\"txto\">u2-</span></span><span class=\"plain   hl\"  style=\"background-color: aquamarine;\" ><span class=\"txto\">ri-</span></span><span class=\"plain   hl\"  style=\"background-color: aquamarine;\" ><span class=\"txto\">im-</span></span><span class=\"plain   hl\"  style=\"background-color: aquamarine;\" ><span class=\"txto\">ma</span></span></span></div></td></tr>\n",
       "<tr class=\"tf ltr\"><td class=\"tf ltr\">6001</td><td class=\"tf ltr\"><span class=\"section ltr\"><a target=\"_blank\" href=\"https://cdli.ucla.edu/search/search_results.php?SearchMode=Text&amp;ObjectID=P373015\" title=\"Show this document on CDLI\" sec=\"P373015 left:1\">P373015 left:1</a></span></td><td class=\"tf ltr\"><div class=\"\"><span class=\"txto\">sza </span><span class=\"txto\">a-</span><span class=\"txto\">wa-</span><span class=\"txto\">ti-</span><span class=\"txto\">sza </span><span class=\"plain   hlbx\" ><span class=\"plain   hl\"  style=\"background-color: orange;\" ><span class=\"txto\">a-</span></span><span class=\"plain   hl\"  style=\"background-color: orange;\" ><span class=\"txto\">na </span></span></span><span class=\"plain   hlbx\" ><span class=\"plain   hl\"  style=\"background-color: aquamarine;\" ><span class=\"txto\">ga-</span></span><span class=\"plain   hl\"  style=\"background-color: aquamarine;\" ><span class=\"txto\">gi-</span></span><span class=\"plain   hl\"  style=\"background-color: aquamarine;\" ><span class=\"txto\">im </span></span></span><span class=\"txto\">ga-</span><span class=\"txto\">am-</span><span class=\"txto\">ra-</span><span class=\"txto\">ti#</span></div></td><td class=\"tf ltr\"><div class=\"\"><span class=\"plain   hlbx\" ><span class=\"plain   hl\"  style=\"background-color: orange;\" ><span class=\"txto\">a-</span></span><span class=\"plain   hl\"  style=\"background-color: orange;\" ><span class=\"txto\">na </span></span></span></div></td><td class=\"tf ltr\"><div class=\"\"><span class=\"plain   hlbx\" ><span class=\"plain   hl\"  style=\"background-color: aquamarine;\" ><span class=\"txto\">ga-</span></span><span class=\"plain   hl\"  style=\"background-color: aquamarine;\" ><span class=\"txto\">gi-</span></span><span class=\"plain   hl\"  style=\"background-color: aquamarine;\" ><span class=\"txto\">im </span></span></span></div></td></tr>\n",
       "<tr class=\"tf ltr\"><td class=\"tf ltr\">6002</td><td class=\"tf ltr\"><span class=\"section ltr\"><a target=\"_blank\" href=\"https://cdli.ucla.edu/search/search_results.php?SearchMode=Text&amp;ObjectID=P373016\" title=\"Show this document on CDLI\" sec=\"P373016 obverse:1\">P373016 obverse:1</a></span></td><td class=\"tf ltr\"><div class=\"\"><span class=\"plain   hlbx\" ><span class=\"plain   hl\"  style=\"background-color: orange;\" ><span class=\"txto\">a-</span></span><span class=\"plain   hl\"  style=\"background-color: orange;\" ><span class=\"txto\">[na </span></span></span><span class=\"plain   hlbx\" ><span class=\"plain   hl\"  style=\"background-color: aquamarine;\" ><span class=\"txto\">...]</span></span></span></div></td><td class=\"tf ltr\"><div class=\"\"><span class=\"plain   hlbx\" ><span class=\"plain   hl\"  style=\"background-color: orange;\" ><span class=\"txto\">a-</span></span><span class=\"plain   hl\"  style=\"background-color: orange;\" ><span class=\"txto\">[na </span></span></span></div></td><td class=\"tf ltr\"><div class=\"\"><span class=\"plain   hlbx\" ><span class=\"plain   hl\"  style=\"background-color: aquamarine;\" ><span class=\"txto\">...]</span></span></span></div></td></tr>\n",
       "<tr class=\"tf ltr\"><td class=\"tf ltr\">6003</td><td class=\"tf ltr\"><span class=\"section ltr\"><a target=\"_blank\" href=\"https://cdli.ucla.edu/search/search_results.php?SearchMode=Text&amp;ObjectID=P373016\" title=\"Show this document on CDLI\" sec=\"P373016 obverse:9\">P373016 obverse:9</a></span></td><td class=\"tf ltr\"><div class=\"\"><span class=\"plain   hlbx\" ><span class=\"plain   hl\"  style=\"background-color: orange;\" ><span class=\"txto\">isz#-</span></span><span class=\"plain   hl\"  style=\"background-color: orange;\" ><span class=\"txto\">tu </span></span></span><span class=\"plain   hlbx\" ><span class=\"plain   hl\"  style=\"background-color: aquamarine;\" ><span class=\"txto\">_&lt;iti> </span></span></span><span class=\"txto\">sze-</span><span class=\"txto\">sag11-</span><span class=\"txto\">ku5 </span><span class=\"txto\">u4 </span><span class=\"txto\">1(disz)-</span><span class=\"txto\">kam_</span></div></td><td class=\"tf ltr\"><div class=\"\"><span class=\"plain   hlbx\" ><span class=\"plain   hl\"  style=\"background-color: orange;\" ><span class=\"txto\">isz#-</span></span><span class=\"plain   hl\"  style=\"background-color: orange;\" ><span class=\"txto\">tu </span></span></span></div></td><td class=\"tf ltr\"><div class=\"\"><span class=\"plain   hlbx\" ><span class=\"plain   hl\"  style=\"background-color: aquamarine;\" ><span class=\"txto\">_&lt;iti> </span></span></span></div></td></tr>\n",
       "<tr class=\"tf ltr\"><td class=\"tf ltr\">6004</td><td class=\"tf ltr\"><span class=\"section ltr\"><a target=\"_blank\" href=\"https://cdli.ucla.edu/search/search_results.php?SearchMode=Text&amp;ObjectID=P373016\" title=\"Show this document on CDLI\" sec=\"P373016 reverse:1\">P373016 reverse:1</a></span></td><td class=\"tf ltr\"><div class=\"\"><span class=\"plain   hlbx\" ><span class=\"plain   hl\"  style=\"background-color: orange;\" ><span class=\"txto\">a-</span></span><span class=\"plain   hl\"  style=\"background-color: orange;\" ><span class=\"txto\">na </span></span></span><span class=\"plain   hlbx\" ><span class=\"plain   hl\"  style=\"background-color: aquamarine;\" ><span class=\"txto\">_iri_ </span></span></span><span class=\"txto\">kisz</span><span class=\"txto\">{ki}</span></div></td><td class=\"tf ltr\"><div class=\"\"><span class=\"plain   hlbx\" ><span class=\"plain   hl\"  style=\"background-color: orange;\" ><span class=\"txto\">a-</span></span><span class=\"plain   hl\"  style=\"background-color: orange;\" ><span class=\"txto\">na </span></span></span></div></td><td class=\"tf ltr\"><div class=\"\"><span class=\"plain   hlbx\" ><span class=\"plain   hl\"  style=\"background-color: aquamarine;\" ><span class=\"txto\">_iri_ </span></span></span></div></td></tr>\n",
       "<tr class=\"tf ltr\"><td class=\"tf ltr\">6005</td><td class=\"tf ltr\"><span class=\"section ltr\"><a target=\"_blank\" href=\"https://cdli.ucla.edu/search/search_results.php?SearchMode=Text&amp;ObjectID=P373016\" title=\"Show this document on CDLI\" sec=\"P373016 reverse:4\">P373016 reverse:4</a></span></td><td class=\"tf ltr\"><div class=\"\"><span class=\"plain   hlbx\" ><span class=\"plain   hl\"  style=\"background-color: orange;\" ><span class=\"txto\">a-</span></span><span class=\"plain   hl\"  style=\"background-color: orange;\" ><span class=\"txto\">na </span></span></span><span class=\"plain   hlbx\" ><span class=\"plain   hl\"  style=\"background-color: aquamarine;\" ><span class=\"txto\">babila2</span></span><span class=\"plain   hl\"  style=\"background-color: aquamarine;\" ><span class=\"txto\">{ki}</span></span></span></div></td><td class=\"tf ltr\"><div class=\"\"><span class=\"plain   hlbx\" ><span class=\"plain   hl\"  style=\"background-color: orange;\" ><span class=\"txto\">a-</span></span><span class=\"plain   hl\"  style=\"background-color: orange;\" ><span class=\"txto\">na </span></span></span></div></td><td class=\"tf ltr\"><div class=\"\"><span class=\"plain   hlbx\" ><span class=\"plain   hl\"  style=\"background-color: aquamarine;\" ><span class=\"txto\">babila2</span></span><span class=\"plain   hl\"  style=\"background-color: aquamarine;\" ><span class=\"txto\">{ki}</span></span></span></div></td></tr>\n",
       "<tr class=\"tf ltr\"><td class=\"tf ltr\">6006</td><td class=\"tf ltr\"><span class=\"section ltr\"><a target=\"_blank\" href=\"https://cdli.ucla.edu/search/search_results.php?SearchMode=Text&amp;ObjectID=P373016\" title=\"Show this document on CDLI\" sec=\"P373016 left:2\">P373016 left:2</a></span></td><td class=\"tf ltr\"><div class=\"\"><span class=\"txto\">[u3] </span><span class=\"txto\">ARAD2-</span><span class=\"txto\">{d}</span><span class=\"txto\">nin-</span><span class=\"txto\">szubur </span><span class=\"plain   hlbx\" ><span class=\"plain   hl\"  style=\"background-color: orange;\" ><span class=\"txto\">a-</span></span><span class=\"plain   hl\"  style=\"background-color: orange;\" ><span class=\"txto\">na </span></span></span><span class=\"plain   hlbx\" ><span class=\"plain   hl\"  style=\"background-color: aquamarine;\" ><span class=\"txto\">_u4 </span></span></span><span class=\"txto\">2(disz)-</span><span class=\"txto\">kam_ </span><span class=\"txto\">i-</span><span class=\"txto\">sa-</span><span class=\"txto\">ni-</span><span class=\"txto\">&lt;qa2>-</span><span class=\"txto\">ki</span></div></td><td class=\"tf ltr\"><div class=\"\"><span class=\"plain   hlbx\" ><span class=\"plain   hl\"  style=\"background-color: orange;\" ><span class=\"txto\">a-</span></span><span class=\"plain   hl\"  style=\"background-color: orange;\" ><span class=\"txto\">na </span></span></span></div></td><td class=\"tf ltr\"><div class=\"\"><span class=\"plain   hlbx\" ><span class=\"plain   hl\"  style=\"background-color: aquamarine;\" ><span class=\"txto\">_u4 </span></span></span></div></td></tr>\n",
       "<tr class=\"tf ltr\"><td class=\"tf ltr\">6007</td><td class=\"tf ltr\"><span class=\"section ltr\"><a target=\"_blank\" href=\"https://cdli.ucla.edu/search/search_results.php?SearchMode=Text&amp;ObjectID=P373017\" title=\"Show this document on CDLI\" sec=\"P373017 obverse:1\">P373017 obverse:1</a></span></td><td class=\"tf ltr\"><div class=\"\"><span class=\"plain   hlbx\" ><span class=\"plain   hl\"  style=\"background-color: orange;\" ><span class=\"txto\">a-</span></span><span class=\"plain   hl\"  style=\"background-color: orange;\" ><span class=\"txto\">na </span></span></span><span class=\"plain   hlbx\" ><span class=\"plain   hl\"  style=\"background-color: aquamarine;\" ><span class=\"txto\">{d}</span></span><span class=\"plain   hl\"  style=\"background-color: aquamarine;\" ><span class=\"txto\">suen-</span></span><span class=\"plain   hl\"  style=\"background-color: aquamarine;\" ><span class=\"txto\">ma-</span></span><span class=\"plain   hl\"  style=\"background-color: aquamarine;\" ><span class=\"txto\">[gir]</span></span></span></div></td><td class=\"tf ltr\"><div class=\"\"><span class=\"plain   hlbx\" ><span class=\"plain   hl\"  style=\"background-color: orange;\" ><span class=\"txto\">a-</span></span><span class=\"plain   hl\"  style=\"background-color: orange;\" ><span class=\"txto\">na </span></span></span></div></td><td class=\"tf ltr\"><div class=\"\"><span class=\"plain   hlbx\" ><span class=\"plain   hl\"  style=\"background-color: aquamarine;\" ><span class=\"txto\">{d}</span></span><span class=\"plain   hl\"  style=\"background-color: aquamarine;\" ><span class=\"txto\">suen-</span></span><span class=\"plain   hl\"  style=\"background-color: aquamarine;\" ><span class=\"txto\">ma-</span></span><span class=\"plain   hl\"  style=\"background-color: aquamarine;\" ><span class=\"txto\">[gir]</span></span></span></div></td></tr>\n",
       "<tr class=\"tf ltr\"><td class=\"tf ltr\">6008</td><td class=\"tf ltr\"><span class=\"section ltr\"><a target=\"_blank\" href=\"https://cdli.ucla.edu/search/search_results.php?SearchMode=Text&amp;ObjectID=P373017\" title=\"Show this document on CDLI\" sec=\"P373017 obverse:8\">P373017 obverse:8</a></span></td><td class=\"tf ltr\"><div class=\"\"><span class=\"plain   hlbx\" ><span class=\"plain   hl\"  style=\"background-color: orange;\" ><span class=\"txto\">a-</span></span><span class=\"plain   hl\"  style=\"background-color: orange;\" ><span class=\"txto\">na </span></span></span><span class=\"plain   hlbx\" ><span class=\"plain   hl\"  style=\"background-color: aquamarine;\" ><span class=\"txto\">_szuku </span></span></span><span class=\"txto\">erin2_ </span><span class=\"plain   hl\"  style=\"background-color: orange;\" ><span class=\"txto\">a-</span></span><span class=\"plain   hl\"  style=\"background-color: orange;\" ><span class=\"txto\">na </span></span><span class=\"plain   hl\"  style=\"background-color: aquamarine;\" ><span class=\"txto\">lu2-</span></span><span class=\"plain   hl\"  style=\"background-color: aquamarine;\" ><span class=\"txto\">{d}</span></span><span class=\"plain   hl\"  style=\"background-color: aquamarine;\" ><span class=\"txto\">asal-</span></span><span class=\"plain   hl\"  style=\"background-color: aquamarine;\" ><span class=\"txto\">lu2-</span></span><span class=\"plain   hl\"  style=\"background-color: aquamarine;\" ><span class=\"txto\">hi</span></span></div></td><td class=\"tf ltr\"><div class=\"\"><span class=\"plain   hlbx\" ><span class=\"plain   hl\"  style=\"background-color: orange;\" ><span class=\"txto\">a-</span></span><span class=\"plain   hl\"  style=\"background-color: orange;\" ><span class=\"txto\">na </span></span></span></div></td><td class=\"tf ltr\"><div class=\"\"><span class=\"plain   hlbx\" ><span class=\"plain   hl\"  style=\"background-color: aquamarine;\" ><span class=\"txto\">_szuku </span></span></span></div></td></tr>\n",
       "<tr class=\"tf ltr\"><td class=\"tf ltr\">6009</td><td class=\"tf ltr\"><span class=\"section ltr\"><a target=\"_blank\" href=\"https://cdli.ucla.edu/search/search_results.php?SearchMode=Text&amp;ObjectID=P373017\" title=\"Show this document on CDLI\" sec=\"P373017 obverse:8\">P373017 obverse:8</a></span></td><td class=\"tf ltr\"><div class=\"\"><span class=\"plain   hl\"  style=\"background-color: orange;\" ><span class=\"txto\">a-</span></span><span class=\"plain   hl\"  style=\"background-color: orange;\" ><span class=\"txto\">na </span></span><span class=\"plain   hl\"  style=\"background-color: aquamarine;\" ><span class=\"txto\">_szuku </span></span><span class=\"txto\">erin2_ </span><span class=\"plain   hlbx\" ><span class=\"plain   hl\"  style=\"background-color: orange;\" ><span class=\"txto\">a-</span></span><span class=\"plain   hl\"  style=\"background-color: orange;\" ><span class=\"txto\">na </span></span></span><span class=\"plain   hlbx\" ><span class=\"plain   hl\"  style=\"background-color: aquamarine;\" ><span class=\"txto\">lu2-</span></span><span class=\"plain   hl\"  style=\"background-color: aquamarine;\" ><span class=\"txto\">{d}</span></span><span class=\"plain   hl\"  style=\"background-color: aquamarine;\" ><span class=\"txto\">asal-</span></span><span class=\"plain   hl\"  style=\"background-color: aquamarine;\" ><span class=\"txto\">lu2-</span></span><span class=\"plain   hl\"  style=\"background-color: aquamarine;\" ><span class=\"txto\">hi</span></span></span></div></td><td class=\"tf ltr\"><div class=\"\"><span class=\"plain   hlbx\" ><span class=\"plain   hl\"  style=\"background-color: orange;\" ><span class=\"txto\">a-</span></span><span class=\"plain   hl\"  style=\"background-color: orange;\" ><span class=\"txto\">na </span></span></span></div></td><td class=\"tf ltr\"><div class=\"\"><span class=\"plain   hlbx\" ><span class=\"plain   hl\"  style=\"background-color: aquamarine;\" ><span class=\"txto\">lu2-</span></span><span class=\"plain   hl\"  style=\"background-color: aquamarine;\" ><span class=\"txto\">{d}</span></span><span class=\"plain   hl\"  style=\"background-color: aquamarine;\" ><span class=\"txto\">asal-</span></span><span class=\"plain   hl\"  style=\"background-color: aquamarine;\" ><span class=\"txto\">lu2-</span></span><span class=\"plain   hl\"  style=\"background-color: aquamarine;\" ><span class=\"txto\">hi</span></span></span></div></td></tr>\n",
       "<tr class=\"tf ltr\"><td class=\"tf ltr\">6010</td><td class=\"tf ltr\"><span class=\"section ltr\"><a target=\"_blank\" href=\"https://cdli.ucla.edu/search/search_results.php?SearchMode=Text&amp;ObjectID=P373018\" title=\"Show this document on CDLI\" sec=\"P373018 obverse:1\">P373018 obverse:1</a></span></td><td class=\"tf ltr\"><div class=\"\"><span class=\"plain   hlbx\" ><span class=\"plain   hl\"  style=\"background-color: orange;\" ><span class=\"txto\">a-</span></span><span class=\"plain   hl\"  style=\"background-color: orange;\" ><span class=\"txto\">na </span></span></span><span class=\"plain   hlbx\" ><span class=\"plain   hl\"  style=\"background-color: aquamarine;\" ><span class=\"txto\">{d}</span></span><span class=\"plain   hl\"  style=\"background-color: aquamarine;\" ><span class=\"txto\">suen-</span></span><span class=\"plain   hl\"  style=\"background-color: aquamarine;\" ><span class=\"txto\">ub-</span></span><span class=\"plain   hl\"  style=\"background-color: aquamarine;\" ><span class=\"txto\">lam</span></span></span></div></td><td class=\"tf ltr\"><div class=\"\"><span class=\"plain   hlbx\" ><span class=\"plain   hl\"  style=\"background-color: orange;\" ><span class=\"txto\">a-</span></span><span class=\"plain   hl\"  style=\"background-color: orange;\" ><span class=\"txto\">na </span></span></span></div></td><td class=\"tf ltr\"><div class=\"\"><span class=\"plain   hlbx\" ><span class=\"plain   hl\"  style=\"background-color: aquamarine;\" ><span class=\"txto\">{d}</span></span><span class=\"plain   hl\"  style=\"background-color: aquamarine;\" ><span class=\"txto\">suen-</span></span><span class=\"plain   hl\"  style=\"background-color: aquamarine;\" ><span class=\"txto\">ub-</span></span><span class=\"plain   hl\"  style=\"background-color: aquamarine;\" ><span class=\"txto\">lam</span></span></span></div></td></tr></table>"
      ],
      "text/plain": [
       "<IPython.core.display.HTML object>"
      ]
     },
     "metadata": {},
     "output_type": "display_data"
    }
   ],
   "source": [
    "A.table(results, start=6000, end=6010, highlights=highlights)"
   ]
  },
  {
   "cell_type": "markdown",
   "metadata": {},
   "source": [
    "Finally, lets export this table to Excel.\n",
    "\n",
    "We use the function [`A.export()`](https://annotation.github.io/text-fabric/tf/advanced/display.html#tf.advanced.display.export).\n",
    "\n",
    "If we pass it our results and nothing else, it will write them to `results.tsv`, a file you\n",
    "can open in Excel.\n",
    "\n",
    "We will not see the highlights there, though."
   ]
  },
  {
   "cell_type": "code",
   "execution_count": 32,
   "metadata": {},
   "outputs": [],
   "source": [
    "A.export(results)"
   ]
  },
  {
   "cell_type": "markdown",
   "metadata": {},
   "source": [
    "But we also like it in rich text and in unicode:"
   ]
  },
  {
   "cell_type": "code",
   "execution_count": 33,
   "metadata": {},
   "outputs": [],
   "source": [
    "A.export(results, toFile=\"resultsRich.tsv\", fmt=\"text-orig-rich\")\n",
    "A.export(results, toFile=\"resultsUnicode.tsv\", fmt=\"text-orig-unicode\")"
   ]
  },
  {
   "cell_type": "markdown",
   "metadata": {},
   "source": [
    "Here are a few screenshots:\n",
    "\n",
    "![resultsRich](images/prepExcelRich.png)\n",
    "\n",
    "In the next one we have manually set the font to Santakku in Excel for the relevant columns.\n",
    "\n",
    "![resultsUnicode](images/prepExcelUnicode.png)"
   ]
  },
  {
   "cell_type": "markdown",
   "metadata": {},
   "source": [
    "Note that these Excel files have nearly 7000 rows.\n",
    "\n",
    "You can filter as you like.\n",
    "\n",
    "It is also easy to include more columns with refined information on the basis of which you can group and sort in additional ways."
   ]
  }
 ],
 "metadata": {
  "kernelspec": {
   "display_name": "Python 3",
   "language": "python",
   "name": "python3"
  },
  "language_info": {
   "codemirror_mode": {
    "name": "ipython",
    "version": 3
   },
   "file_extension": ".py",
   "mimetype": "text/x-python",
   "name": "python",
   "nbconvert_exporter": "python",
   "pygments_lexer": "ipython3",
   "version": "3.7.7"
  }
 },
 "nbformat": 4,
 "nbformat_minor": 4
}
