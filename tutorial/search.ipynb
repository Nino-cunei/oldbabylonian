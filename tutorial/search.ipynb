{
 "cells": [
  {
   "cell_type": "markdown",
   "metadata": {},
   "source": [
    "<img align=\"right\" src=\"images/tf.png\" width=\"128\"/>\n",
    "<img align=\"right\" src=\"images/ninologo.png\" width=\"128\"/>\n",
    "<img align=\"right\" src=\"images/dans.png\" width=\"128\"/>\n",
    "\n",
    "---\n",
    "\n",
    "To get started: consult [start](start.ipynb)\n",
    "\n",
    "---\n",
    "\n",
    "# Search Introduction\n",
    "\n",
    "*Search* in Text-Fabric is a template based way of looking for structural patterns in your dataset.\n",
    "\n",
    "It is inspired by the idea of\n",
    "[topographic query](http://books.google.nl/books?id=9ggOBRz1dO4C).\n",
    "\n",
    "Within Text-Fabric we have the unique possibility to combine the ease of formulating search templates for\n",
    "complicated patterns with the power of programmatically processing the results.\n",
    "\n",
    "This notebook will show you how to get up and running.\n",
    "\n",
    "## Alternative for hand-coding\n",
    "\n",
    "Search is a powerful feature for a wide range of purposes.\n",
    "\n",
    "Quite a bit of the implementation work has been dedicated to optimize performance.\n",
    "Yet I do not pretend to have found optimal strategies for all\n",
    "possible search templates.\n",
    "Some search tasks may turn out to be somewhat costly or even very costly.\n",
    "\n",
    "That being said, I think search might turn out helpful in many cases,\n",
    "especially by reducing the amount of hand-coding needed to work with special subsets of your data.\n",
    "\n",
    "## Easy command\n",
    "\n",
    "Search is as simple as saying (just an example)\n",
    "\n",
    "```python\n",
    "results = A.search(template)\n",
    "A.show(results)\n",
    "```\n",
    "\n",
    "See all ins and outs in the\n",
    "[search template docs](https://annotation.github.io/text-fabric/tf/about/searchusage.html)."
   ]
  },
  {
   "cell_type": "code",
   "execution_count": 1,
   "metadata": {},
   "outputs": [],
   "source": [
    "%load_ext autoreload\n",
    "%autoreload 2"
   ]
  },
  {
   "cell_type": "code",
   "execution_count": 2,
   "metadata": {
    "ExecuteTime": {
     "end_time": "2018-05-24T10:06:39.818664Z",
     "start_time": "2018-05-24T10:06:39.796588Z"
    }
   },
   "outputs": [],
   "source": [
    "from tf.app import use"
   ]
  },
  {
   "cell_type": "code",
   "execution_count": 3,
   "metadata": {},
   "outputs": [
    {
     "data": {
      "text/html": [
       "<b title=\"local github\">TF-app:</b> <span title=\"repo clone offline under ~/github\">~/github/annotation/app-oldbabylonian/code</span>"
      ],
      "text/plain": [
       "<IPython.core.display.HTML object>"
      ]
     },
     "metadata": {},
     "output_type": "display_data"
    },
    {
     "data": {
      "text/html": [
       "<b title=\"local github\">data:</b> <span title=\"repo clone offline under ~/github\">~/github/Nino-cunei/oldbabylonian/tf/1.0.6</span>"
      ],
      "text/plain": [
       "<IPython.core.display.HTML object>"
      ]
     },
     "metadata": {},
     "output_type": "display_data"
    },
    {
     "data": {
      "text/html": [
       "<b>Text-Fabric:</b> <a target=\"_blank\" href=\"https://annotation.github.io/text-fabric/cheatsheet.html\" title=\"text-fabric-api\">Text-Fabric API 8.3.4</a>, <a target=\"_blank\" href=\"https://github.com/annotation/app-oldbabylonian\" title=\"oldbabylonian TF-app\">app-oldbabylonian</a>, <a target=\"_blank\" href=\"https://annotation.github.io/text-fabric/about/searchusage.html\" title=\"Search Templates Introduction and Reference\">Search Reference</a><br><b>Data:</b> <a target=\"_blank\" href=\"https://github.com/Nino-cunei/oldbabylonian/blob/master/docs/about.md\" title=\"provenance of Old Babylonian Letters 1900-1600: Cuneiform tablets\">OLDBABYLONIAN</a>, <a target=\"_blank\" href=\"https://github.com/Nino-cunei/oldbabylonian/blob/master/programs/mapReadings.ipynb\" title=\"mapping from readings to UNICODE\">Character table</a>, <a target=\"_blank\" href=\"https://github.com/Nino-cunei/tfFromAtf/blob/master/docs/transcription.md\" title=\"OLDBABYLONIAN feature documentation\">Feature docs</a><br><b>Features:</b><br><details><summary><b>Old Babylonian Letters 1900-1600: Cuneiform tablets</b></summary><a target=\"_blank\" href=\"https://github.com/Nino-cunei/tfFromAtf/blob/master/docs/transcription.md\" title=\"~/github/Nino-cunei/oldbabylonian/tf/1.0.6/ARK.tf\">ARK</a><br><a target=\"_blank\" href=\"https://github.com/Nino-cunei/tfFromAtf/blob/master/docs/transcription.md\" title=\"~/github/Nino-cunei/oldbabylonian/tf/1.0.6/after.tf\">after</a><br><a target=\"_blank\" href=\"https://github.com/Nino-cunei/tfFromAtf/blob/master/docs/transcription.md\" title=\"~/github/Nino-cunei/oldbabylonian/tf/1.0.6/afterr.tf\">afterr</a><br><a target=\"_blank\" href=\"https://github.com/Nino-cunei/tfFromAtf/blob/master/docs/transcription.md\" title=\"~/github/Nino-cunei/oldbabylonian/tf/1.0.6/afteru.tf\">afteru</a><br><a target=\"_blank\" href=\"https://github.com/Nino-cunei/tfFromAtf/blob/master/docs/transcription.md\" title=\"~/github/Nino-cunei/oldbabylonian/tf/1.0.6/atf.tf\">atf</a><br><a target=\"_blank\" href=\"https://github.com/Nino-cunei/tfFromAtf/blob/master/docs/transcription.md\" title=\"~/github/Nino-cunei/oldbabylonian/tf/1.0.6/atfpost.tf\">atfpost</a><br><a target=\"_blank\" href=\"https://github.com/Nino-cunei/tfFromAtf/blob/master/docs/transcription.md\" title=\"~/github/Nino-cunei/oldbabylonian/tf/1.0.6/atfpre.tf\">atfpre</a><br><a target=\"_blank\" href=\"https://github.com/Nino-cunei/tfFromAtf/blob/master/docs/transcription.md\" title=\"~/github/Nino-cunei/oldbabylonian/tf/1.0.6/author.tf\">author</a><br><a target=\"_blank\" href=\"https://github.com/Nino-cunei/tfFromAtf/blob/master/docs/transcription.md\" title=\"~/github/Nino-cunei/oldbabylonian/tf/1.0.6/col.tf\">col</a><br><a target=\"_blank\" href=\"https://github.com/Nino-cunei/tfFromAtf/blob/master/docs/transcription.md\" title=\"~/github/Nino-cunei/oldbabylonian/tf/1.0.6/collated.tf\">collated</a><br><a target=\"_blank\" href=\"https://github.com/Nino-cunei/tfFromAtf/blob/master/docs/transcription.md\" title=\"~/github/Nino-cunei/oldbabylonian/tf/1.0.6/collection.tf\">collection</a><br><a target=\"_blank\" href=\"https://github.com/Nino-cunei/tfFromAtf/blob/master/docs/transcription.md\" title=\"~/github/Nino-cunei/oldbabylonian/tf/1.0.6/comment.tf\">comment</a><br><a target=\"_blank\" href=\"https://github.com/Nino-cunei/tfFromAtf/blob/master/docs/transcription.md\" title=\"~/github/Nino-cunei/oldbabylonian/tf/1.0.6/damage.tf\">damage</a><br><a target=\"_blank\" href=\"https://github.com/Nino-cunei/tfFromAtf/blob/master/docs/transcription.md\" title=\"~/github/Nino-cunei/oldbabylonian/tf/1.0.6/det.tf\">det</a><br><a target=\"_blank\" href=\"https://github.com/Nino-cunei/tfFromAtf/blob/master/docs/transcription.md\" title=\"~/github/Nino-cunei/oldbabylonian/tf/1.0.6/docnote.tf\">docnote</a><br><a target=\"_blank\" href=\"https://github.com/Nino-cunei/tfFromAtf/blob/master/docs/transcription.md\" title=\"~/github/Nino-cunei/oldbabylonian/tf/1.0.6/docnumber.tf\">docnumber</a><br><a target=\"_blank\" href=\"https://github.com/Nino-cunei/tfFromAtf/blob/master/docs/transcription.md\" title=\"~/github/Nino-cunei/oldbabylonian/tf/1.0.6/excavation.tf\">excavation</a><br><a target=\"_blank\" href=\"https://github.com/Nino-cunei/tfFromAtf/blob/master/docs/transcription.md\" title=\"~/github/Nino-cunei/oldbabylonian/tf/1.0.6/excised.tf\">excised</a><br><a target=\"_blank\" href=\"https://github.com/Nino-cunei/tfFromAtf/blob/master/docs/transcription.md\" title=\"~/github/Nino-cunei/oldbabylonian/tf/1.0.6/face.tf\">face</a><br><a target=\"_blank\" href=\"https://github.com/Nino-cunei/tfFromAtf/blob/master/docs/transcription.md\" title=\"~/github/Nino-cunei/oldbabylonian/tf/1.0.6/flags.tf\">flags</a><br><a target=\"_blank\" href=\"https://github.com/Nino-cunei/tfFromAtf/blob/master/docs/transcription.md\" title=\"~/github/Nino-cunei/oldbabylonian/tf/1.0.6/fraction.tf\">fraction</a><br><a target=\"_blank\" href=\"https://github.com/Nino-cunei/tfFromAtf/blob/master/docs/transcription.md\" title=\"~/github/Nino-cunei/oldbabylonian/tf/1.0.6/genre.tf\">genre</a><br><a target=\"_blank\" href=\"https://github.com/Nino-cunei/tfFromAtf/blob/master/docs/transcription.md\" title=\"~/github/Nino-cunei/oldbabylonian/tf/1.0.6/grapheme.tf\">grapheme</a><br><a target=\"_blank\" href=\"https://github.com/Nino-cunei/tfFromAtf/blob/master/docs/transcription.md\" title=\"~/github/Nino-cunei/oldbabylonian/tf/1.0.6/graphemer.tf\">graphemer</a><br><a target=\"_blank\" href=\"https://github.com/Nino-cunei/tfFromAtf/blob/master/docs/transcription.md\" title=\"~/github/Nino-cunei/oldbabylonian/tf/1.0.6/graphemeu.tf\">graphemeu</a><br><a target=\"_blank\" href=\"https://github.com/Nino-cunei/tfFromAtf/blob/master/docs/transcription.md\" title=\"~/github/Nino-cunei/oldbabylonian/tf/1.0.6/lang.tf\">lang</a><br><a target=\"_blank\" href=\"https://github.com/Nino-cunei/tfFromAtf/blob/master/docs/transcription.md\" title=\"~/github/Nino-cunei/oldbabylonian/tf/1.0.6/langalt.tf\">langalt</a><br><a target=\"_blank\" href=\"https://github.com/Nino-cunei/tfFromAtf/blob/master/docs/transcription.md\" title=\"~/github/Nino-cunei/oldbabylonian/tf/1.0.6/ln.tf\">ln</a><br><a target=\"_blank\" href=\"https://github.com/Nino-cunei/tfFromAtf/blob/master/docs/transcription.md\" title=\"~/github/Nino-cunei/oldbabylonian/tf/1.0.6/lnc.tf\">lnc</a><br><a target=\"_blank\" href=\"https://github.com/Nino-cunei/tfFromAtf/blob/master/docs/transcription.md\" title=\"~/github/Nino-cunei/oldbabylonian/tf/1.0.6/lnno.tf\">lnno</a><br><a target=\"_blank\" href=\"https://github.com/Nino-cunei/tfFromAtf/blob/master/docs/transcription.md\" title=\"~/github/Nino-cunei/oldbabylonian/tf/1.0.6/material.tf\">material</a><br><a target=\"_blank\" href=\"https://github.com/Nino-cunei/tfFromAtf/blob/master/docs/transcription.md\" title=\"~/github/Nino-cunei/oldbabylonian/tf/1.0.6/missing.tf\">missing</a><br><a target=\"_blank\" href=\"https://github.com/Nino-cunei/tfFromAtf/blob/master/docs/transcription.md\" title=\"~/github/Nino-cunei/oldbabylonian/tf/1.0.6/museumcode.tf\">museumcode</a><br><a target=\"_blank\" href=\"https://github.com/Nino-cunei/tfFromAtf/blob/master/docs/transcription.md\" title=\"~/github/Nino-cunei/oldbabylonian/tf/1.0.6/museumname.tf\">museumname</a><br><a target=\"_blank\" href=\"https://github.com/Nino-cunei/tfFromAtf/blob/master/docs/transcription.md\" title=\"~/github/Nino-cunei/oldbabylonian/tf/1.0.6/object.tf\">object</a><br><a target=\"_blank\" href=\"https://github.com/Nino-cunei/tfFromAtf/blob/master/docs/transcription.md\" title=\"~/github/Nino-cunei/oldbabylonian/tf/1.0.6/operator.tf\">operator</a><br><a target=\"_blank\" href=\"https://github.com/Nino-cunei/tfFromAtf/blob/master/docs/transcription.md\" title=\"~/github/Nino-cunei/oldbabylonian/tf/1.0.6/operatorr.tf\">operatorr</a><br><a target=\"_blank\" href=\"https://github.com/Nino-cunei/tfFromAtf/blob/master/docs/transcription.md\" title=\"~/github/Nino-cunei/oldbabylonian/tf/1.0.6/operatoru.tf\">operatoru</a><br><a target=\"_blank\" href=\"https://github.com/Nino-cunei/tfFromAtf/blob/master/docs/transcription.md\" title=\"~/github/Nino-cunei/oldbabylonian/tf/1.0.6/otype.tf\">otype</a><br><a target=\"_blank\" href=\"https://github.com/Nino-cunei/tfFromAtf/blob/master/docs/transcription.md\" title=\"~/github/Nino-cunei/oldbabylonian/tf/1.0.6/period.tf\">period</a><br><a target=\"_blank\" href=\"https://github.com/Nino-cunei/tfFromAtf/blob/master/docs/transcription.md\" title=\"~/github/Nino-cunei/oldbabylonian/tf/1.0.6/pnumber.tf\">pnumber</a><br><a target=\"_blank\" href=\"https://github.com/Nino-cunei/tfFromAtf/blob/master/docs/transcription.md\" title=\"~/github/Nino-cunei/oldbabylonian/tf/1.0.6/primecol.tf\">primecol</a><br><a target=\"_blank\" href=\"https://github.com/Nino-cunei/tfFromAtf/blob/master/docs/transcription.md\" title=\"~/github/Nino-cunei/oldbabylonian/tf/1.0.6/primeln.tf\">primeln</a><br><a target=\"_blank\" href=\"https://github.com/Nino-cunei/tfFromAtf/blob/master/docs/transcription.md\" title=\"~/github/Nino-cunei/oldbabylonian/tf/1.0.6/pubdate.tf\">pubdate</a><br><a target=\"_blank\" href=\"https://github.com/Nino-cunei/tfFromAtf/blob/master/docs/transcription.md\" title=\"~/github/Nino-cunei/oldbabylonian/tf/1.0.6/question.tf\">question</a><br><a target=\"_blank\" href=\"https://github.com/Nino-cunei/tfFromAtf/blob/master/docs/transcription.md\" title=\"~/github/Nino-cunei/oldbabylonian/tf/1.0.6/reading.tf\">reading</a><br><a target=\"_blank\" href=\"https://github.com/Nino-cunei/tfFromAtf/blob/master/docs/transcription.md\" title=\"~/github/Nino-cunei/oldbabylonian/tf/1.0.6/readingr.tf\">readingr</a><br><a target=\"_blank\" href=\"https://github.com/Nino-cunei/tfFromAtf/blob/master/docs/transcription.md\" title=\"~/github/Nino-cunei/oldbabylonian/tf/1.0.6/readingu.tf\">readingu</a><br><a target=\"_blank\" href=\"https://github.com/Nino-cunei/tfFromAtf/blob/master/docs/transcription.md\" title=\"~/github/Nino-cunei/oldbabylonian/tf/1.0.6/remarkable.tf\">remarkable</a><br><a target=\"_blank\" href=\"https://github.com/Nino-cunei/tfFromAtf/blob/master/docs/transcription.md\" title=\"~/github/Nino-cunei/oldbabylonian/tf/1.0.6/remarks.tf\">remarks</a><br><a target=\"_blank\" href=\"https://github.com/Nino-cunei/tfFromAtf/blob/master/docs/transcription.md\" title=\"~/github/Nino-cunei/oldbabylonian/tf/1.0.6/repeat.tf\">repeat</a><br><a target=\"_blank\" href=\"https://github.com/Nino-cunei/tfFromAtf/blob/master/docs/transcription.md\" title=\"~/github/Nino-cunei/oldbabylonian/tf/1.0.6/srcLn.tf\">srcLn</a><br><a target=\"_blank\" href=\"https://github.com/Nino-cunei/tfFromAtf/blob/master/docs/transcription.md\" title=\"~/github/Nino-cunei/oldbabylonian/tf/1.0.6/srcLnNum.tf\">srcLnNum</a><br><a target=\"_blank\" href=\"https://github.com/Nino-cunei/tfFromAtf/blob/master/docs/transcription.md\" title=\"~/github/Nino-cunei/oldbabylonian/tf/1.0.6/srcfile.tf\">srcfile</a><br><a target=\"_blank\" href=\"https://github.com/Nino-cunei/tfFromAtf/blob/master/docs/transcription.md\" title=\"~/github/Nino-cunei/oldbabylonian/tf/1.0.6/subgenre.tf\">subgenre</a><br><a target=\"_blank\" href=\"https://github.com/Nino-cunei/tfFromAtf/blob/master/docs/transcription.md\" title=\"~/github/Nino-cunei/oldbabylonian/tf/1.0.6/supplied.tf\">supplied</a><br><a target=\"_blank\" href=\"https://github.com/Nino-cunei/tfFromAtf/blob/master/docs/transcription.md\" title=\"~/github/Nino-cunei/oldbabylonian/tf/1.0.6/sym.tf\">sym</a><br><a target=\"_blank\" href=\"https://github.com/Nino-cunei/tfFromAtf/blob/master/docs/transcription.md\" title=\"~/github/Nino-cunei/oldbabylonian/tf/1.0.6/symr.tf\">symr</a><br><a target=\"_blank\" href=\"https://github.com/Nino-cunei/tfFromAtf/blob/master/docs/transcription.md\" title=\"~/github/Nino-cunei/oldbabylonian/tf/1.0.6/symu.tf\">symu</a><br><a target=\"_blank\" href=\"https://github.com/Nino-cunei/tfFromAtf/blob/master/docs/transcription.md\" title=\"~/github/Nino-cunei/oldbabylonian/tf/1.0.6/trans.tf\">trans</a><br><a target=\"_blank\" href=\"https://github.com/Nino-cunei/tfFromAtf/blob/master/docs/transcription.md\" title=\"~/github/Nino-cunei/oldbabylonian/tf/1.0.6/transcriber.tf\">transcriber</a><br><a target=\"_blank\" href=\"https://github.com/Nino-cunei/tfFromAtf/blob/master/docs/transcription.md\" title=\"~/github/Nino-cunei/oldbabylonian/tf/1.0.6/translation@en.tf\">translation@ll</a><br><a target=\"_blank\" href=\"https://github.com/Nino-cunei/tfFromAtf/blob/master/docs/transcription.md\" title=\"~/github/Nino-cunei/oldbabylonian/tf/1.0.6/type.tf\">type</a><br><a target=\"_blank\" href=\"https://github.com/Nino-cunei/tfFromAtf/blob/master/docs/transcription.md\" title=\"~/github/Nino-cunei/oldbabylonian/tf/1.0.6/uncertain.tf\">uncertain</a><br><a target=\"_blank\" href=\"https://github.com/Nino-cunei/tfFromAtf/blob/master/docs/transcription.md\" title=\"~/github/Nino-cunei/oldbabylonian/tf/1.0.6/volume.tf\">volume</a><br><b><i><a target=\"_blank\" href=\"https://github.com/Nino-cunei/tfFromAtf/blob/master/docs/transcription.md\" title=\"~/github/Nino-cunei/oldbabylonian/tf/1.0.6/oslots.tf\">oslots</a></i></b><br></details>"
      ],
      "text/plain": [
       "<IPython.core.display.HTML object>"
      ]
     },
     "metadata": {},
     "output_type": "display_data"
    },
    {
     "data": {
      "text/html": [
       "<style>tr.tf.ltr, td.tf.ltr, th.tf.ltr { text-align: left ! important;}\n",
       "tr.tf.rtl, td.tf.rtl, th.tf.rtl { text-align: right ! important;}\n",
       "@font-face {\n",
       "  font-family: \"Gentium Plus\";\n",
       "  src: local('Gentium Plus'), local('GentiumPlus'),\n",
       "    url('/server/static/fonts/GentiumPlus-R.woff') format('woff'),\n",
       "    url('https://github.com/annotation/text-fabric/blob/master/tf/server/static/fonts/GentiumPlus-R.woff?raw=true') format('woff');\n",
       "}\n",
       "\n",
       "@font-face {\n",
       "  font-family: \"Ezra SIL\";\n",
       "  src: local('Ezra SIL'), local('EzraSIL'),\n",
       "    url('/server/static/fonts/SILEOT.woff') format('woff'),\n",
       "    url('https://github.com/annotation/text-fabric/blob/master/tf/server/static/fonts/SILEOT.woff?raw=true') format('woff');\n",
       "}\n",
       "\n",
       "@font-face {\n",
       "  font-family: \"SBL Hebrew\";\n",
       "  src: local('SBL Hebrew'), local('SBLHebrew'),\n",
       "    url('/server/static/fonts/SBL_Hbrw.woff') format('woff'),\n",
       "    url('https://github.com/annotation/text-fabric/blob/master/tf/server/static/fonts/SBL_Hbrw.woff?raw=true') format('woff');\n",
       "}\n",
       "\n",
       "@font-face {\n",
       "  font-family: \"Estrangelo Edessa\";\n",
       "  src: local('Estrangelo Edessa'), local('EstrangeloEdessa');\n",
       "    url('/server/static/fonts/SyrCOMEdessa.woff') format('woff'),\n",
       "    url('https://github.com/annotation/text-fabric/blob/master/tf/server/static/fonts/SyrCOMEdessa.woff?raw=true') format('woff');\n",
       "}\n",
       "\n",
       "@font-face {\n",
       "  font-family: AmiriQuran;\n",
       "  font-style: normal;\n",
       "  font-weight: 400;\n",
       "  src: local('Amiri Quran'), local('AmiriQuran'),\n",
       "    url('/server/static/fonts/AmiriQuran.woff') format('woff'),\n",
       "    url('https://github.com/annotation/text-fabric/blob/master/tf/server/static/fonts/AmiriQuran.woff?raw=true') format('woff');\n",
       "}\n",
       "\n",
       "@font-face {\n",
       "  font-family: AmiriQuranColored;\n",
       "  font-style: normal;\n",
       "  font-weight: 400;\n",
       "  src: local('Amiri Quran Colored'), local('AmiriQuranColored'),\n",
       "    url('/server/static/fonts/AmiriQuranColored.woff') format('woff'),\n",
       "    url('https://github.com/annotation/text-fabric/blob/master/tf/server/static/fonts/AmiriQuranColored.woff?raw=true') format('woff');\n",
       "}\n",
       "\n",
       "@font-face {\n",
       "  font-family: \"Santakku\";\n",
       "  src: local('Santakku'),\n",
       "    url('/server/static/fonts/Santakku.woff') format('woff'),\n",
       "    url('https://github.com/annotation/text-fabric/blob/master/tf/server/static/fonts/Santakku.woff?raw=true') format('woff');\n",
       "}\n",
       "\n",
       "@font-face {\n",
       "  font-family: \"SantakkuM\";\n",
       "  src: local('SantakkuM'),\n",
       "    url('/server/static/fonts/SantakkuM.woff') format('woff'),\n",
       "    url('https://github.com/annotation/text-fabric/blob/master/tf/server/static/fonts/SantakkuM.woff?raw=true') format('woff');\n",
       "}\n",
       "/* bypassing some classical notebook settings */\n",
       "div#notebook {\n",
       "  line-height: unset;\n",
       "}\n",
       "/* neutral text */\n",
       ".txtn,.txtn a:visited,.txtn a:link {\n",
       "    font-family: sans-serif;\n",
       "    font-size: medium;\n",
       "    direction: ltr;\n",
       "    text-decoration: none;\n",
       "    color: var(--text-color);\n",
       "}\n",
       "/* transcription text */\n",
       ".txtt,.txtt a:visited,.txtt a:link {\n",
       "    font-family: monospace;\n",
       "    font-size: medium;\n",
       "    direction: ltr;\n",
       "    text-decoration: none;\n",
       "    color: var(--text-color);\n",
       "}\n",
       "/* source text */\n",
       ".txto,.txto a:visited,.txto a:link {\n",
       "    font-family: serif;\n",
       "    font-size: medium;\n",
       "    direction: ltr;\n",
       "    text-decoration: none;\n",
       "    color: var(--text-color);\n",
       "}\n",
       "/* phonetic text */\n",
       ".txtp,.txtp a:visited,.txtp a:link {\n",
       "    font-family: Gentium, sans-serif;\n",
       "    font-size: medium;\n",
       "    direction: ltr;\n",
       "    text-decoration: none;\n",
       "    color: var(--text-color);\n",
       "}\n",
       "/* original script text */\n",
       ".txtu,.txtu a:visited,.txtu a:link {\n",
       "    font-family: Gentium, sans-serif;\n",
       "    font-size: medium;\n",
       "    text-decoration: none;\n",
       "    color: var(--text-color);\n",
       "}\n",
       "/* hebrew */\n",
       ".txtu.hbo,.lex.hbo {\n",
       "    font-family: \"Ezra SIL\", \"SBL Hebrew\", sans-serif;\n",
       "    font-size: large;\n",
       "    direction: rtl ! important;\n",
       "    unicode-bidi: embed;\n",
       "}\n",
       "/* syriac */\n",
       ".txtu.syc,.lex.syc {\n",
       "    font-family: \"Estrangelo Edessa\", sans-serif;\n",
       "    font-size: medium;\n",
       "    direction: rtl ! important;\n",
       "    unicode-bidi: embed;\n",
       "}\n",
       "/* neo aramaic */\n",
       ".txtu.cld,.lex.cld {\n",
       "    font-family: \"CharisSIL-R\", sans-serif;\n",
       "    font-size: medium;\n",
       "    direction: ltr ! important;\n",
       "    unicode-bidi: embed;\n",
       "}\n",
       "/* standard arabic */\n",
       ".txtu.ara,.lex.ara {\n",
       "    font-family: \"AmiriQuran\", sans-serif;\n",
       "    font-size: large;\n",
       "    direction: rtl ! important;\n",
       "    unicode-bidi: embed;\n",
       "}\n",
       "/* cuneiform */\n",
       ".txtu.akk,.lex.akk {\n",
       "    font-family: Santakku, sans-serif;\n",
       "    font-size: large;\n",
       "    direction: ltr ! important;\n",
       "    unicode-bidi: embed;\n",
       "}\n",
       "/* greek */\n",
       ".txtu.grc,.lex.grc a:link {\n",
       "    font-family: Gentium, sans-serif;\n",
       "    font-size: medium;\n",
       "    direction: ltr ! important;\n",
       "    unicode-bidi: embed;\n",
       "}\n",
       "a:hover {\n",
       "    text-decoration: underline | important;\n",
       "    color: #0000ff | important;\n",
       "}\n",
       ".ltr {\n",
       "    direction: ltr ! important;\n",
       "}\n",
       ".rtl {\n",
       "    direction: rtl ! important;\n",
       "}\n",
       ".features {\n",
       "    font-family: monospace;\n",
       "    font-size: medium;\n",
       "    font-weight: bold;\n",
       "    color: var(--features);\n",
       "    display: flex;\n",
       "    flex-flow: column nowrap;\n",
       "    justify-content: flex-start;\n",
       "    align-items: flex-start;\n",
       "    align-content: flex-start;\n",
       "    padding: 0.1rem;\n",
       "    margin: 0.1rem;\n",
       "    direction: ltr;\n",
       "    border: var(--meta-width) solid var(--meta-color);\n",
       "    border-radius: var(--meta-width);\n",
       "}\n",
       ".features div,.features span {\n",
       "    padding: 0;\n",
       "    margin: -0.1rem 0;\n",
       "}\n",
       ".features .f {\n",
       "    font-family: sans-serif;\n",
       "    font-size: small;\n",
       "    font-weight: normal;\n",
       "    color: #5555bb;\n",
       "}\n",
       ".features .xft {\n",
       "  color: #000000;\n",
       "  background-color: #eeeeee;\n",
       "  font-size: medium;\n",
       "  margin: 0.1rem 0rem;\n",
       "}\n",
       ".features .xft .f {\n",
       "  color: #000000;\n",
       "  background-color: #eeeeee;\n",
       "  font-size: small;\n",
       "  font-weight: normal;\n",
       "}\n",
       ".section {\n",
       "    font-family: sans-serif;\n",
       "    font-size: small;\n",
       "    font-weight: bold;\n",
       "    color: var(--section);\n",
       "    unicode-bidi: embed;\n",
       "    text-align: start;\n",
       "}\n",
       ".structure {\n",
       "    font-family: sans-serif;\n",
       "    font-size: small;\n",
       "    font-weight: bold;\n",
       "    color: var(--structure);\n",
       "    unicode-bidi: embed;\n",
       "    text-align: start;\n",
       "}\n",
       ".comments {\n",
       "    display: flex;\n",
       "    justify-content: flex-start;\n",
       "    align-items: flex-start;\n",
       "    align-content: flex-start;\n",
       "    flex-flow: column nowrap;\n",
       "}\n",
       ".nd, a:link.nd {\n",
       "    font-family: sans-serif;\n",
       "    font-size: small;\n",
       "    color: var(--node);\n",
       "    vertical-align: super;\n",
       "    direction: ltr ! important;\n",
       "    unicode-bidi: embed;\n",
       "}\n",
       ".lex {\n",
       "  color: var(--lex-color);;\n",
       "}\n",
       ".children,.children.ltr {\n",
       "    display: flex;\n",
       "    border: 0;\n",
       "    background-color: #ffffff;\n",
       "    justify-content: flex-start;\n",
       "    align-items: flex-start;\n",
       "    align-content: flex-start;\n",
       "}\n",
       ".children.stretch {\n",
       "    align-items: stretch;\n",
       "}\n",
       ".children.hor {\n",
       "    flex-flow: row nowrap;\n",
       "}\n",
       ".children.hor.wrap {\n",
       "    flex-flow: row wrap;\n",
       "}\n",
       ".children.ver {\n",
       "    flex-flow: column nowrap;\n",
       "}\n",
       ".children.ver.wrap {\n",
       "    flex-flow: column wrap;\n",
       "}\n",
       ".contnr {\n",
       "    width: fit-content;\n",
       "    display: flex;\n",
       "    justify-content: flex-start;\n",
       "    align-items: flex-start;\n",
       "    align-content: flex-start;\n",
       "    flex-flow: column nowrap;\n",
       "    background: #ffffff none repeat scroll 0 0;\n",
       "    padding:  0.5rem 0.1rem 0.1rem 0.1rem;\n",
       "    margin: 0.8rem 0.1rem 0.1rem 0.1rem;\n",
       "    border-style: solid;\n",
       "    font-size: small;\n",
       "}\n",
       ".contnr.trm {\n",
       "    background-attachment: local;\n",
       "}\n",
       ".contnr.cnul {\n",
       "    padding:  0;\n",
       "    margin: 0;\n",
       "    border-style: solid;\n",
       "    font-size: xx-small;\n",
       "}\n",
       ".contnr.cnul,.lbl.cnul {\n",
       "    border-color: var(--border-color-nul);\n",
       "    border-width: var(--border-width-nul);\n",
       "    border-radius: var(--border-width-nul);\n",
       "}\n",
       ".contnr.c0,.lbl.c0 {\n",
       "    border-color: var(--border-color0);\n",
       "    border-width: var(--border-width0);\n",
       "    border-radius: var(--border-width0);\n",
       "}\n",
       ".contnr.c1,.lbl.c1 {\n",
       "    border-color: var(--border-color1);\n",
       "    border-width: var(--border-width1);\n",
       "    border-radius: var(--border-width1);\n",
       "}\n",
       ".contnr.c2,.lbl.c2 {\n",
       "    border-color: var(--border-color2);\n",
       "    border-width: var(--border-width2);\n",
       "    border-radius: var(--border-width2);\n",
       "}\n",
       ".contnr.c3,.lbl.c3 {\n",
       "    border-color: var(--border-color3);\n",
       "    border-width: var(--border-width3);\n",
       "    border-radius: var(--border-width3);\n",
       "}\n",
       ".contnr.c4,.lbl.c4 {\n",
       "    border-color: var(--border-color4);\n",
       "    border-width: var(--border-width4);\n",
       "    border-radius: var(--border-width4);\n",
       "}\n",
       "span.plain {\n",
       "    display: inline-block;\n",
       "    white-space: pre-wrap;\n",
       "}\n",
       ".plain {\n",
       "    background-color: #ffffff;\n",
       "}\n",
       ".plain.l,.contnr.l,.contnr.l>.lbl {\n",
       "    border-left-style: dotted\n",
       "}\n",
       ".plain.r,.contnr.r,.contnr.r>.lbl {\n",
       "    border-right-style: dotted\n",
       "}\n",
       ".plain.lno,.contnr.lno,.contnr.lno>.lbl {\n",
       "    border-left-style: none\n",
       "}\n",
       ".plain.rno,.contnr.rno,.contnr.rno>.lbl {\n",
       "    border-right-style: none\n",
       "}\n",
       ".plain.l {\n",
       "    padding-left: 0.2rem;\n",
       "    margin-left: 0.1rem;\n",
       "    border-width: var(--border-width-plain);\n",
       "}\n",
       ".plain.r {\n",
       "    padding-right: 0.2rem;\n",
       "    margin-right: 0.1rem;\n",
       "    border-width: var(--border-width-plain);\n",
       "}\n",
       ".lbl {\n",
       "    font-family: monospace;\n",
       "    margin-top: -1.2rem;\n",
       "    margin-left: 1rem;\n",
       "    background: #ffffff none repeat scroll 0 0;\n",
       "    padding: 0 0.3rem;\n",
       "    border-style: solid;\n",
       "    display: block;\n",
       "    color: var(--label)\n",
       "}\n",
       ".lbl.trm {\n",
       "    background-attachment: local;\n",
       "    margin-top: 0.1rem;\n",
       "    margin-left: 0.1rem;\n",
       "    padding: 0.1rem 0.1rem;\n",
       "    border-style: none;\n",
       "}\n",
       ".lbl.cnul {\n",
       "    font-size: xx-small;\n",
       "}\n",
       ".lbl.c0 {\n",
       "    font-size: small;\n",
       "}\n",
       ".lbl.c1 {\n",
       "    font-size: small;\n",
       "}\n",
       ".lbl.c2 {\n",
       "    font-size: medium;\n",
       "}\n",
       ".lbl.c3 {\n",
       "    font-size: medium;\n",
       "}\n",
       ".lbl.c4 {\n",
       "    font-size: large;\n",
       "}\n",
       ".occs, a:link.occs {\n",
       "    font-size: small;\n",
       "}\n",
       "\n",
       "/* PROVENANCE */\n",
       "\n",
       "div.prov {\n",
       "\tmargin: 2rem;\n",
       "\tpadding: 1rem;\n",
       "\tborder: 0.1rem solid var(--fog-rim);\n",
       "}\n",
       "div.pline {\n",
       "\tdisplay: flex;\n",
       "\tflex-flow: row nowrap;\n",
       "\tjustify-content: stretch;\n",
       "\talign-items: baseline;\n",
       "}\n",
       "div.p2line {\n",
       "\tmargin-left: 2em;\n",
       "\tdisplay: flex;\n",
       "\tflex-flow: row nowrap;\n",
       "\tjustify-content: stretch;\n",
       "\talign-items: baseline;\n",
       "}\n",
       "div.psline {\n",
       "\tdisplay: flex;\n",
       "\tflex-flow: row nowrap;\n",
       "\tjustify-content: stretch;\n",
       "\talign-items: baseline;\n",
       "\tbackground-color: var(--gold-mist-back);\n",
       "}\n",
       "div.pname {\n",
       "\tflex: 0 0 5rem;\n",
       "\tfont-weight: bold;\n",
       "}\n",
       "div.pval {\n",
       "    flex: 1 1 auto;\n",
       "}\n",
       "\n",
       ":root {\n",
       "\t--node:               hsla(120, 100%,  20%, 1.0  );\n",
       "\t--label:              hsla(  0, 100%,  20%, 1.0  );\n",
       "\t--section:            hsla(  0, 100%,  25%, 1.0  );\n",
       "\t--structure:          hsla(120, 100%,  25%, 1.0  );\n",
       "\t--features:           hsla(  0,   0%,  30%, 1.0  );\n",
       "  --text-color:         hsla( 60,  80%,  10%, 1.0  );\n",
       "  --lex-color:          hsla(220,  90%,  60%, 1.0  );\n",
       "  --meta-color:         hsla(  0,   0%,  90%, 0.7  );\n",
       "  --meta-width:         0.15rem;\n",
       "  --border-color-nul:   hsla(  0,   0%,  90%, 0.5  );\n",
       "  --border-color0:      hsla(  0,   0%,  90%, 0.9  );\n",
       "  --border-color1:      hsla(  0,   0%,  80%, 0.9  );\n",
       "  --border-color2:      hsla(  0,   0%,  70%, 0.9  );\n",
       "  --border-color3:      hsla(  0,   0%,  80%, 0.8  );\n",
       "  --border-color4:      hsla(  0,   0%,  60%, 0.9  );\n",
       "  --border-width-nul:   0.1rem;\n",
       "  --border-width0:      0.1rem;\n",
       "  --border-width1:      0.15rem;\n",
       "  --border-width2:      0.2rem;\n",
       "  --border-width3:      0.3rem;\n",
       "  --border-width4:      0.25rem;\n",
       "  --border-width-plain: 0.1rem;\n",
       "}\n",
       ".hl {\n",
       "  background-color: var(--hl-strong);\n",
       "}\n",
       "span.hl {\n",
       "\tbackground-color: var(--hl-strong);\n",
       "\tborder-width: 0;\n",
       "\tborder-radius: 0.1rem;\n",
       "\tborder-style: solid;\n",
       "}\n",
       "div.contnr.hl,div.lbl.hl {\n",
       "  background-color: var(--hl-strong);\n",
       "}\n",
       "div.contnr.hl {\n",
       "  border-color: var(--hl-rim) ! important;\n",
       "\tborder-width: 0.2rem ! important;\n",
       "}\n",
       "\n",
       "span.hlbx {\n",
       "\tborder-color: var(--hl-rim);\n",
       "\tborder-width: 0.2rem ! important;\n",
       "\tborder-style: solid;\n",
       "\tborder-radius: 0.3rem;\n",
       "  padding: 0.2rem;\n",
       "  margin: 0.2rem;\n",
       "}\n",
       "\n",
       "span.plain {\n",
       "  display: inline-block;\n",
       "  white-space: pre-wrap;\n",
       "}\n",
       "\n",
       ":root {\n",
       "\t--hl-strong:        hsla( 60, 100%,  70%, 0.9  );\n",
       "\t--hl-rim:           hsla( 55,  80%,  50%, 1.0  );\n",
       "}\n",
       ".pnum {\n",
       "    font-family: sans-serif;\n",
       "    font-size: small;\n",
       "    font-weight: bold;\n",
       "    color: #444444;\n",
       "}\n",
       ".op {\n",
       "    padding:  0.5em 0.1em 0.1em 0.1em;\n",
       "    margin: 0.8em 0.1em 0.1em 0.1em;\n",
       "    font-family: monospace;\n",
       "    font-size: x-large;\n",
       "    font-weight: bold;\n",
       "}\n",
       ".period {\n",
       "    font-family: monospace;\n",
       "    font-size: medium;\n",
       "    font-weight: bold;\n",
       "    color: #0000bb;\n",
       "}\n",
       ".comment {\n",
       "    color: #7777dd;\n",
       "    font-family: monospace;\n",
       "    font-size: small;\n",
       "}\n",
       ".operator {\n",
       "    color: #ff77ff;\n",
       "    font-size: large;\n",
       "}\n",
       "/* LANGUAGE: superscript and subscript */\n",
       "\n",
       "/* cluster */\n",
       ".det {\n",
       "    vertical-align: super;\n",
       "}\n",
       "/* cluster */\n",
       ".langalt {\n",
       "    vertical-align: sub;\n",
       "}\n",
       "/* REDACTIONAL: line over or under  */\n",
       "\n",
       "/* flag */\n",
       ".collated {\n",
       "    font-weight: bold;\n",
       "    text-decoration: underline;\n",
       "}\n",
       "/* cluster */\n",
       ".excised {\n",
       "    color: #dd0000;\n",
       "    text-decoration: line-through;\n",
       "}\n",
       "/* cluster */\n",
       ".supplied {\n",
       "    color: #0000ff;\n",
       "    text-decoration: overline;\n",
       "}\n",
       "/* flag */\n",
       ".remarkable {\n",
       "    font-weight: bold;\n",
       "    text-decoration: overline;\n",
       "}\n",
       "\n",
       "/* UNSURE: italic*/\n",
       "\n",
       "/* cluster */\n",
       ".uncertain {\n",
       "    font-style: italic\n",
       "}\n",
       "/* flag */\n",
       ".question {\n",
       "    font-weight: bold;\n",
       "    font-style: italic\n",
       "}\n",
       "\n",
       "/* BROKEN: text-shadow */\n",
       "\n",
       "/* cluster */\n",
       ".missing {\n",
       "    color: #999999;\n",
       "    text-shadow: #bbbbbb 1px 1px;\n",
       "}\n",
       "/* flag */\n",
       ".damage {\n",
       "    font-weight: bold;\n",
       "    color: #999999;\n",
       "    text-shadow: #bbbbbb 1px 1px;\n",
       "}\n",
       ".empty {\n",
       "  color: #ff0000;\n",
       "}\n",
       "\n",
       "</style>"
      ],
      "text/plain": [
       "<IPython.core.display.HTML object>"
      ]
     },
     "metadata": {},
     "output_type": "display_data"
    },
    {
     "data": {
      "text/html": [
       "<div><b>Text-Fabric API:</b> names <a target=\"_blank\" href=\"https://annotation.github.io/text-fabric/cheatsheet.html\" title=\"doc\">N F E L T S C TF</a> directly usable</div><hr>"
      ],
      "text/plain": [
       "<IPython.core.display.HTML object>"
      ]
     },
     "metadata": {},
     "output_type": "display_data"
    }
   ],
   "source": [
    "A = use(\"oldbabylonian:clone\", checkout=\"clone\", hoist=globals())\n",
    "# A = use('oldbabylonian', hoist=globals())"
   ]
  },
  {
   "cell_type": "markdown",
   "metadata": {},
   "source": [
    "# Basic search command\n",
    "\n",
    "We start with the most simple form of issuing a query.\n",
    "Let's look for the numerals with a repeat greater than 3.\n",
    "We also want to show the words in which they occur.\n",
    "\n",
    "All work involved in searching takes place under the hood."
   ]
  },
  {
   "cell_type": "code",
   "execution_count": 4,
   "metadata": {
    "ExecuteTime": {
     "end_time": "2018-05-24T07:46:55.998382Z",
     "start_time": "2018-05-24T07:46:55.137956Z"
    }
   },
   "outputs": [
    {
     "name": "stdout",
     "output_type": "stream",
     "text": [
      "  0.17s 546 results\n"
     ]
    }
   ],
   "source": [
    "query = \"\"\"\n",
    "word\n",
    "  sign type=numeral repeat>3\n",
    "\"\"\"\n",
    "results = A.search(query)"
   ]
  },
  {
   "cell_type": "code",
   "execution_count": 5,
   "metadata": {
    "ExecuteTime": {
     "end_time": "2018-05-24T07:46:55.998382Z",
     "start_time": "2018-05-24T07:46:55.137956Z"
    }
   },
   "outputs": [
    {
     "data": {
      "text/html": [
       "<table><tr class=\"tf ltr\"><th class=\"tf ltr\">n</th><th class=\"tf ltr\">p</th><th class=\"tf ltr\">word</th><th class=\"tf\">sign</th></tr>\n",
       "<tr class=\"tf ltr\"><td class=\"tf ltr\">1</td><td class=\"tf ltr\"><span class=\"section ltr\"><a target=\"_blank\" href=\"https://cdli.ucla.edu/search/search_results.php?SearchMode=Text&amp;ObjectID=P509373\" title=\"Show this document on CDLI\" sec=\"P509373 obverse:11\">P509373 obverse:11</a></span></td><td class=\"tf ltr\"><div class=\"\"><span class=\"plain   hlbx\" ><span class=\"plain   hl\" ><span class=\"txto\">7(disz) </span></span></span></div></td><td class=\"tf ltr\"><div class=\"\"><span class=\"plain   hl\" ><span class=\"txto\">7(disz) </span></span></div></td></tr>\n",
       "<tr class=\"tf ltr\"><td class=\"tf ltr\">2</td><td class=\"tf ltr\"><span class=\"section ltr\"><a target=\"_blank\" href=\"https://cdli.ucla.edu/search/search_results.php?SearchMode=Text&amp;ObjectID=P509376\" title=\"Show this document on CDLI\" sec=\"P509376 obverse:4\">P509376 obverse:4</a></span></td><td class=\"tf ltr\"><div class=\"\"><span class=\"plain   hlbx\" ><span class=\"plain   hl\" ><span class=\"txto\">4(disz)-</span></span><span class=\"txto\">kam_ </span></span></div></td><td class=\"tf ltr\"><div class=\"\"><span class=\"plain   hl\" ><span class=\"txto\">4(disz)-</span></span></div></td></tr>\n",
       "<tr class=\"tf ltr\"><td class=\"tf ltr\">3</td><td class=\"tf ltr\"><span class=\"section ltr\"><a target=\"_blank\" href=\"https://cdli.ucla.edu/search/search_results.php?SearchMode=Text&amp;ObjectID=P509377\" title=\"Show this document on CDLI\" sec=\"P509377 reverse:10\">P509377 reverse:10</a></span></td><td class=\"tf ltr\"><div class=\"\"><span class=\"plain   hlbx\" ><span class=\"plain   hl\" ><span class=\"txto\">6(disz) </span></span></span></div></td><td class=\"tf ltr\"><div class=\"\"><span class=\"plain   hl\" ><span class=\"txto\">6(disz) </span></span></div></td></tr>\n",
       "<tr class=\"tf ltr\"><td class=\"tf ltr\">4</td><td class=\"tf ltr\"><span class=\"section ltr\"><a target=\"_blank\" href=\"https://cdli.ucla.edu/search/search_results.php?SearchMode=Text&amp;ObjectID=P389958\" title=\"Show this document on CDLI\" sec=\"P389958 obverse:7'\">P389958 obverse:7'</a></span></td><td class=\"tf ltr\"><div class=\"\"><span class=\"plain   hlbx\" ><span class=\"plain   hl\" ><span class=\"txto\">_5(disz) </span></span></span></div></td><td class=\"tf ltr\"><div class=\"\"><span class=\"plain   hl\" ><span class=\"txto\">_5(disz) </span></span></div></td></tr>\n",
       "<tr class=\"tf ltr\"><td class=\"tf ltr\">5</td><td class=\"tf ltr\"><span class=\"section ltr\"><a target=\"_blank\" href=\"https://cdli.ucla.edu/search/search_results.php?SearchMode=Text&amp;ObjectID=P510527\" title=\"Show this document on CDLI\" sec=\"P510527 reverse:11\">P510527 reverse:11</a></span></td><td class=\"tf ltr\"><div class=\"\"><span class=\"plain   hlbx\" ><span class=\"txto\">_igi-</span><span class=\"plain   hl\" ><span class=\"txto\">6(disz)-</span></span><span class=\"txto\">gal2 </span></span></div></td><td class=\"tf ltr\"><div class=\"\"><span class=\"plain   hl\" ><span class=\"txto\">6(disz)-</span></span></div></td></tr>\n",
       "<tr class=\"tf ltr\"><td class=\"tf ltr\">6</td><td class=\"tf ltr\"><span class=\"section ltr\"><a target=\"_blank\" href=\"https://cdli.ucla.edu/search/search_results.php?SearchMode=Text&amp;ObjectID=P510530\" title=\"Show this document on CDLI\" sec=\"P510530 reverse:17\">P510530 reverse:17</a></span></td><td class=\"tf ltr\"><div class=\"\"><span class=\"plain   hlbx\" ><span class=\"plain   hl\" ><span class=\"txto\">4(disz)-</span></span><span class=\"txto\">kam_</span></span></div></td><td class=\"tf ltr\"><div class=\"\"><span class=\"plain   hl\" ><span class=\"txto\">4(disz)-</span></span></div></td></tr>\n",
       "<tr class=\"tf ltr\"><td class=\"tf ltr\">7</td><td class=\"tf ltr\"><span class=\"section ltr\"><a target=\"_blank\" href=\"https://cdli.ucla.edu/search/search_results.php?SearchMode=Text&amp;ObjectID=P510534\" title=\"Show this document on CDLI\" sec=\"P510534 reverse:5'\">P510534 reverse:5'</a></span></td><td class=\"tf ltr\"><div class=\"\"><span class=\"plain   hlbx\" ><span class=\"plain   hl\" ><span class=\"txto\">4(disz) </span></span></span></div></td><td class=\"tf ltr\"><div class=\"\"><span class=\"plain   hl\" ><span class=\"txto\">4(disz) </span></span></div></td></tr>\n",
       "<tr class=\"tf ltr\"><td class=\"tf ltr\">8</td><td class=\"tf ltr\"><span class=\"section ltr\"><a target=\"_blank\" href=\"https://cdli.ucla.edu/search/search_results.php?SearchMode=Text&amp;ObjectID=P510534\" title=\"Show this document on CDLI\" sec=\"P510534 reverse:10'\">P510534 reverse:10'</a></span></td><td class=\"tf ltr\"><div class=\"\"><span class=\"plain   hlbx\" ><span class=\"plain   hl\" ><span class=\"txto\">_5(disz)-</span></span><span class=\"txto\">ta-</span><span class=\"txto\">am3_ </span></span></div></td><td class=\"tf ltr\"><div class=\"\"><span class=\"plain   hl\" ><span class=\"txto\">_5(disz)-</span></span></div></td></tr>\n",
       "<tr class=\"tf ltr\"><td class=\"tf ltr\">9</td><td class=\"tf ltr\"><span class=\"section ltr\"><a target=\"_blank\" href=\"https://cdli.ucla.edu/search/search_results.php?SearchMode=Text&amp;ObjectID=P510536\" title=\"Show this document on CDLI\" sec=\"P510536 obverse:5\">P510536 obverse:5</a></span></td><td class=\"tf ltr\"><div class=\"\"><span class=\"plain   hlbx\" ><span class=\"plain   hl\" ><span class=\"txto\">6(disz) </span></span></span></div></td><td class=\"tf ltr\"><div class=\"\"><span class=\"plain   hl\" ><span class=\"txto\">6(disz) </span></span></div></td></tr>\n",
       "<tr class=\"tf ltr\"><td class=\"tf ltr\">10</td><td class=\"tf ltr\"><span class=\"section ltr\"><a target=\"_blank\" href=\"https://cdli.ucla.edu/search/search_results.php?SearchMode=Text&amp;ObjectID=P510539\" title=\"Show this document on CDLI\" sec=\"P510539 obverse:7\">P510539 obverse:7</a></span></td><td class=\"tf ltr\"><div class=\"\"><span class=\"plain   hlbx\" ><span class=\"plain   hl\" ><span class=\"txto\">4(disz) </span></span></span></div></td><td class=\"tf ltr\"><div class=\"\"><span class=\"plain   hl\" ><span class=\"txto\">4(disz) </span></span></div></td></tr></table>"
      ],
      "text/plain": [
       "<IPython.core.display.HTML object>"
      ]
     },
     "metadata": {},
     "output_type": "display_data"
    }
   ],
   "source": [
    "A.table(results, end=10)"
   ]
  },
  {
   "cell_type": "markdown",
   "metadata": {},
   "source": [
    "We can show them in unicode representation as well:"
   ]
  },
  {
   "cell_type": "code",
   "execution_count": 6,
   "metadata": {},
   "outputs": [
    {
     "data": {
      "text/html": [
       "<table><tr class=\"tf ltr\"><th class=\"tf ltr\">n</th><th class=\"tf ltr\">p</th><th class=\"tf ltr\">word</th><th class=\"tf\">sign</th></tr>\n",
       "<tr class=\"tf ltr\"><td class=\"tf ltr\">1</td><td class=\"tf ltr\"><span class=\"section ltr\"><a target=\"_blank\" href=\"https://cdli.ucla.edu/search/search_results.php?SearchMode=Text&amp;ObjectID=P509373\" title=\"Show this document on CDLI\" sec=\"P509373 obverse:11\">P509373 obverse:11</a></span></td><td class=\"tf ltr\"><div class=\"\"><span class=\"plain   hlbx\" ><span class=\"plain   hl\" ><span class=\"txtu akk\">𒐌 </span></span></span></div></td><td class=\"tf ltr\"><div class=\"\"><span class=\"plain   hl\" ><span class=\"txtu akk\">𒐌 </span></span></div></td></tr>\n",
       "<tr class=\"tf ltr\"><td class=\"tf ltr\">2</td><td class=\"tf ltr\"><span class=\"section ltr\"><a target=\"_blank\" href=\"https://cdli.ucla.edu/search/search_results.php?SearchMode=Text&amp;ObjectID=P509376\" title=\"Show this document on CDLI\" sec=\"P509376 obverse:4\">P509376 obverse:4</a></span></td><td class=\"tf ltr\"><div class=\"\"><span class=\"plain   hlbx\" ><span class=\"plain   hl\" ><span class=\"txtu akk\">𒐉</span></span><span class=\"txtu akk\">𒄭𒁁 </span></span></div></td><td class=\"tf ltr\"><div class=\"\"><span class=\"plain   hl\" ><span class=\"txtu akk\">𒐉</span></span></div></td></tr>\n",
       "<tr class=\"tf ltr\"><td class=\"tf ltr\">3</td><td class=\"tf ltr\"><span class=\"section ltr\"><a target=\"_blank\" href=\"https://cdli.ucla.edu/search/search_results.php?SearchMode=Text&amp;ObjectID=P509377\" title=\"Show this document on CDLI\" sec=\"P509377 reverse:10\">P509377 reverse:10</a></span></td><td class=\"tf ltr\"><div class=\"\"><span class=\"plain   hlbx\" ><span class=\"plain   hl\" ><span class=\"txtu akk\">𒐋 </span></span></span></div></td><td class=\"tf ltr\"><div class=\"\"><span class=\"plain   hl\" ><span class=\"txtu akk\">𒐋 </span></span></div></td></tr>\n",
       "<tr class=\"tf ltr\"><td class=\"tf ltr\">4</td><td class=\"tf ltr\"><span class=\"section ltr\"><a target=\"_blank\" href=\"https://cdli.ucla.edu/search/search_results.php?SearchMode=Text&amp;ObjectID=P389958\" title=\"Show this document on CDLI\" sec=\"P389958 obverse:7'\">P389958 obverse:7'</a></span></td><td class=\"tf ltr\"><div class=\"\"><span class=\"plain   hlbx\" ><span class=\"plain   hl\" ><span class=\"txtu akk\">𒐊 </span></span></span></div></td><td class=\"tf ltr\"><div class=\"\"><span class=\"plain   hl\" ><span class=\"txtu akk\">𒐊 </span></span></div></td></tr>\n",
       "<tr class=\"tf ltr\"><td class=\"tf ltr\">5</td><td class=\"tf ltr\"><span class=\"section ltr\"><a target=\"_blank\" href=\"https://cdli.ucla.edu/search/search_results.php?SearchMode=Text&amp;ObjectID=P510527\" title=\"Show this document on CDLI\" sec=\"P510527 reverse:11\">P510527 reverse:11</a></span></td><td class=\"tf ltr\"><div class=\"\"><span class=\"plain   hlbx\" ><span class=\"txtu akk\">𒅆</span><span class=\"plain   hl\" ><span class=\"txtu akk\">𒐋</span></span><span class=\"txtu akk\">𒅅 </span></span></div></td><td class=\"tf ltr\"><div class=\"\"><span class=\"plain   hl\" ><span class=\"txtu akk\">𒐋</span></span></div></td></tr>\n",
       "<tr class=\"tf ltr\"><td class=\"tf ltr\">6</td><td class=\"tf ltr\"><span class=\"section ltr\"><a target=\"_blank\" href=\"https://cdli.ucla.edu/search/search_results.php?SearchMode=Text&amp;ObjectID=P510530\" title=\"Show this document on CDLI\" sec=\"P510530 reverse:17\">P510530 reverse:17</a></span></td><td class=\"tf ltr\"><div class=\"\"><span class=\"plain   hlbx\" ><span class=\"plain   hl\" ><span class=\"txtu akk\">𒐉</span></span><span class=\"txtu akk\">𒄭𒁁</span></span></div></td><td class=\"tf ltr\"><div class=\"\"><span class=\"plain   hl\" ><span class=\"txtu akk\">𒐉</span></span></div></td></tr>\n",
       "<tr class=\"tf ltr\"><td class=\"tf ltr\">7</td><td class=\"tf ltr\"><span class=\"section ltr\"><a target=\"_blank\" href=\"https://cdli.ucla.edu/search/search_results.php?SearchMode=Text&amp;ObjectID=P510534\" title=\"Show this document on CDLI\" sec=\"P510534 reverse:5'\">P510534 reverse:5'</a></span></td><td class=\"tf ltr\"><div class=\"\"><span class=\"plain   hlbx\" ><span class=\"plain   hl\" ><span class=\"txtu akk\">𒐉 </span></span></span></div></td><td class=\"tf ltr\"><div class=\"\"><span class=\"plain   hl\" ><span class=\"txtu akk\">𒐉 </span></span></div></td></tr>\n",
       "<tr class=\"tf ltr\"><td class=\"tf ltr\">8</td><td class=\"tf ltr\"><span class=\"section ltr\"><a target=\"_blank\" href=\"https://cdli.ucla.edu/search/search_results.php?SearchMode=Text&amp;ObjectID=P510534\" title=\"Show this document on CDLI\" sec=\"P510534 reverse:10'\">P510534 reverse:10'</a></span></td><td class=\"tf ltr\"><div class=\"\"><span class=\"plain   hlbx\" ><span class=\"plain   hl\" ><span class=\"txtu akk\">𒐊</span></span><span class=\"txtu akk\">𒋫</span><span class=\"txtu akk\">𒀀𒀭 </span></span></div></td><td class=\"tf ltr\"><div class=\"\"><span class=\"plain   hl\" ><span class=\"txtu akk\">𒐊</span></span></div></td></tr>\n",
       "<tr class=\"tf ltr\"><td class=\"tf ltr\">9</td><td class=\"tf ltr\"><span class=\"section ltr\"><a target=\"_blank\" href=\"https://cdli.ucla.edu/search/search_results.php?SearchMode=Text&amp;ObjectID=P510536\" title=\"Show this document on CDLI\" sec=\"P510536 obverse:5\">P510536 obverse:5</a></span></td><td class=\"tf ltr\"><div class=\"\"><span class=\"plain   hlbx\" ><span class=\"plain   hl\" ><span class=\"txtu akk\">𒐋 </span></span></span></div></td><td class=\"tf ltr\"><div class=\"\"><span class=\"plain   hl\" ><span class=\"txtu akk\">𒐋 </span></span></div></td></tr>\n",
       "<tr class=\"tf ltr\"><td class=\"tf ltr\">10</td><td class=\"tf ltr\"><span class=\"section ltr\"><a target=\"_blank\" href=\"https://cdli.ucla.edu/search/search_results.php?SearchMode=Text&amp;ObjectID=P510539\" title=\"Show this document on CDLI\" sec=\"P510539 obverse:7\">P510539 obverse:7</a></span></td><td class=\"tf ltr\"><div class=\"\"><span class=\"plain   hlbx\" ><span class=\"plain   hl\" ><span class=\"txtu akk\">𒐉 </span></span></span></div></td><td class=\"tf ltr\"><div class=\"\"><span class=\"plain   hl\" ><span class=\"txtu akk\">𒐉 </span></span></div></td></tr></table>"
      ],
      "text/plain": [
       "<IPython.core.display.HTML object>"
      ]
     },
     "metadata": {},
     "output_type": "display_data"
    }
   ],
   "source": [
    "A.table(results, end=10, fmt=\"text-orig-unicode\")"
   ]
  },
  {
   "cell_type": "markdown",
   "metadata": {},
   "source": [
    "The hyperlinks take us all to the CDLI archival page of the document (tablet) in question.\n",
    "\n",
    "Note that we can choose start and/or end points in the results list."
   ]
  },
  {
   "cell_type": "code",
   "execution_count": 7,
   "metadata": {
    "ExecuteTime": {
     "end_time": "2018-05-24T07:47:03.299872Z",
     "start_time": "2018-05-24T07:47:03.261873Z"
    }
   },
   "outputs": [
    {
     "data": {
      "text/html": [
       "<table><tr class=\"tf ltr\"><th class=\"tf ltr\">n</th><th class=\"tf ltr\">p</th><th class=\"tf ltr\">word</th><th class=\"tf\">sign</th></tr>\n",
       "<tr class=\"tf ltr\"><td class=\"tf ltr\">500</td><td class=\"tf ltr\"><span class=\"section ltr\"><a target=\"_blank\" href=\"https://cdli.ucla.edu/search/search_results.php?SearchMode=Text&amp;ObjectID=P305753\" title=\"Show this document on CDLI\" sec=\"P305753 case - obverse:10\">P305753 case - obverse:10</a></span></td><td class=\"tf ltr\"><div class=\"\"><span class=\"plain   hlbx\" ><span class=\"plain   hl\" ><span class=\"txtt\">5(diš) </span></span></span></div></td><td class=\"tf ltr\"><div class=\"\"><span class=\"plain   hl\" ><span class=\"txtt\">5(diš) </span></span></div></td></tr>\n",
       "<tr class=\"tf ltr\"><td class=\"tf ltr\">501</td><td class=\"tf ltr\"><span class=\"section ltr\"><a target=\"_blank\" href=\"https://cdli.ucla.edu/search/search_results.php?SearchMode=Text&amp;ObjectID=P305753\" title=\"Show this document on CDLI\" sec=\"P305753 case - reverse:10\">P305753 case - reverse:10</a></span></td><td class=\"tf ltr\"><div class=\"\"><span class=\"plain   hlbx\" ><span class=\"plain   hl\" ><span class=\"txtt\">5(diš) </span></span></span></div></td><td class=\"tf ltr\"><div class=\"\"><span class=\"plain   hl\" ><span class=\"txtt\">5(diš) </span></span></div></td></tr>\n",
       "<tr class=\"tf ltr\"><td class=\"tf ltr\">502</td><td class=\"tf ltr\"><span class=\"section ltr\"><a target=\"_blank\" href=\"https://cdli.ucla.edu/search/search_results.php?SearchMode=Text&amp;ObjectID=P305753\" title=\"Show this document on CDLI\" sec=\"P305753 case - reverse:14\">P305753 case - reverse:14</a></span></td><td class=\"tf ltr\"><div class=\"\"><span class=\"plain   hlbx\" ><span class=\"plain   hl\" ><span class=\"txtt\">4(u) </span></span></span></div></td><td class=\"tf ltr\"><div class=\"\"><span class=\"plain   hl\" ><span class=\"txtt\">4(u) </span></span></div></td></tr>\n",
       "<tr class=\"tf ltr\"><td class=\"tf ltr\">503</td><td class=\"tf ltr\"><span class=\"section ltr\"><a target=\"_blank\" href=\"https://cdli.ucla.edu/search/search_results.php?SearchMode=Text&amp;ObjectID=P305753\" title=\"Show this document on CDLI\" sec=\"P305753 case - lower edge:1\">P305753 case - lower edge:1</a></span></td><td class=\"tf ltr\"><div class=\"\"><span class=\"plain   hlbx\" ><span class=\"txtt\">igi-</span><span class=\"plain   hl\" ><span class=\"txtt\">6(diš)-</span></span><span class=\"txtt\">gal₂ </span></span></div></td><td class=\"tf ltr\"><div class=\"\"><span class=\"plain   hl\" ><span class=\"txtt\">6(diš)-</span></span></div></td></tr></table>"
      ],
      "text/plain": [
       "<IPython.core.display.HTML object>"
      ]
     },
     "metadata": {},
     "output_type": "display_data"
    }
   ],
   "source": [
    "A.table(results, start=500, end=503, fmt=\"text-orig-rich\")"
   ]
  },
  {
   "cell_type": "markdown",
   "metadata": {},
   "source": [
    "We can show the results more fully with `show()`.\n",
    "\n",
    "That gives us pretty displays of tablet lines with the results highlighted."
   ]
  },
  {
   "cell_type": "code",
   "execution_count": 8,
   "metadata": {
    "ExecuteTime": {
     "end_time": "2018-05-24T07:47:06.875859Z",
     "start_time": "2018-05-24T07:47:06.757345Z"
    }
   },
   "outputs": [
    {
     "data": {
      "text/html": [
       "<p><b>result</b> <i>1</i></p>"
      ],
      "text/plain": [
       "<IPython.core.display.HTML object>"
      ]
     },
     "metadata": {},
     "output_type": "display_data"
    },
    {
     "data": {
      "text/html": [
       "<div class=\"section \"><a target=\"_blank\" href=\"https://cdli.ucla.edu/search/search_results.php?SearchMode=Text&amp;ObjectID=P509373\" title=\"Show this document on CDLI\" sec=\"P509373 obverse:11\">P509373 obverse:11</a></div><div class=\" children\"><div class=\"contnr c3    \" ><div class=\"lbl c3  \" ><span class=\"nd\">line</span></div><div class=\"children hor wrap \"><div class=\"contnr c2 trm   \" ><div class=\"lbl c2 trm \" ><span class=\"nd\">word</span> <span class=\"txto\"><span class=\"plain   \" ><span class=\"txto\">sza </span></span></span></div></div><div class=\"contnr c2 trm   \" ><div class=\"lbl c2 trm \" ><span class=\"nd\">word</span> <span class=\"txto\"><span class=\"plain   \" ><span class=\"txto\">_{d}</span><span class=\"txto\">utu_-</span><span class=\"txto\">ha-</span><span class=\"txto\">zi-</span><span class=\"txto\">[ir] </span></span></span></div></div><div class=\"contnr c2 trm   \" ><div class=\"lbl c2 trm \" ><span class=\"nd\">word</span> <span class=\"txto\"><span class=\"plain   \" ><span class=\"txto\">isz-</span><span class=\"txto\">tu </span></span></span></div></div><div class=\"contnr c2 trm   \" ><div class=\"lbl c2 trm \" ><span class=\"nd\">word</span> <span class=\"txto\"><span class=\"plain   \" ><span class=\"txto\">_mu </span></span></span></div></div><div class=\"contnr c2 trm   hl\" ><div class=\"lbl c2 trm hl\" ><span class=\"nd\">word</span> <span class=\"txto\"><span class=\"plain   \" ><span class=\"plain   hl\" ><span class=\"txto\">7(disz) </span></span></span></span></div></div><div class=\"contnr c2 trm   \" ><div class=\"lbl c2 trm \" ><span class=\"nd\">word</span> <span class=\"txto\"><span class=\"plain   \" ><span class=\"txto\">kam_ </span></span></span></div></div><div class=\"contnr c2 trm   \" ><div class=\"lbl c2 trm \" ><span class=\"nd\">word</span> <span class=\"txto\"><span class=\"plain   \" ><span class=\"txto\">id-</span><span class=\"txto\">di-</span><span class=\"txto\">nu-</span><span class=\"txto\">szum</span></span></span></div></div></div></div></div>"
      ],
      "text/plain": [
       "<IPython.core.display.HTML object>"
      ]
     },
     "metadata": {},
     "output_type": "display_data"
    },
    {
     "data": {
      "text/html": [
       "<p><b>result</b> <i>2</i></p>"
      ],
      "text/plain": [
       "<IPython.core.display.HTML object>"
      ]
     },
     "metadata": {},
     "output_type": "display_data"
    },
    {
     "data": {
      "text/html": [
       "<div class=\"section \"><a target=\"_blank\" href=\"https://cdli.ucla.edu/search/search_results.php?SearchMode=Text&amp;ObjectID=P509376\" title=\"Show this document on CDLI\" sec=\"P509376 obverse:4\">P509376 obverse:4</a></div><div class=\" children\"><div class=\"contnr c3    \" ><div class=\"lbl c3  \" ><span class=\"nd\">line</span></div><div class=\"children hor wrap \"><div class=\"contnr c2 trm   \" ><div class=\"lbl c2 trm \" ><span class=\"nd\">word</span> <span class=\"txto\"><span class=\"plain   \" ><span class=\"txto\">_u4 </span></span></span></div></div><div class=\"contnr c2 trm   hl\" ><div class=\"lbl c2 trm hl\" ><span class=\"nd\">word</span> <span class=\"txto\"><span class=\"plain   \" ><span class=\"plain   hl\" ><span class=\"txto\">4(disz)-</span></span><span class=\"txto\">kam_ </span></span></span></div></div><div class=\"contnr c2 trm   \" ><div class=\"lbl c2 trm \" ><span class=\"nd\">word</span> <span class=\"txto\"><span class=\"plain   \" ><span class=\"txto\">a-</span><span class=\"txto\">di </span></span></span></div></div><div class=\"contnr c2 trm   \" ><div class=\"lbl c2 trm \" ><span class=\"nd\">word</span> <span class=\"txto\"><span class=\"plain   \" ><span class=\"txto\">i-</span><span class=\"txto\">na-</span><span class=\"txto\">an-</span><span class=\"txto\">na</span></span></span></div></div></div></div></div>"
      ],
      "text/plain": [
       "<IPython.core.display.HTML object>"
      ]
     },
     "metadata": {},
     "output_type": "display_data"
    },
    {
     "data": {
      "text/html": [
       "<p><b>result</b> <i>3</i></p>"
      ],
      "text/plain": [
       "<IPython.core.display.HTML object>"
      ]
     },
     "metadata": {},
     "output_type": "display_data"
    },
    {
     "data": {
      "text/html": [
       "<div class=\"section \"><a target=\"_blank\" href=\"https://cdli.ucla.edu/search/search_results.php?SearchMode=Text&amp;ObjectID=P509377\" title=\"Show this document on CDLI\" sec=\"P509377 reverse:10\">P509377 reverse:10</a></div><div class=\" children\"><div class=\"contnr c3    \" ><div class=\"lbl c3  \" ><span class=\"nd\">line</span></div><div class=\"children hor wrap \"><div class=\"contnr c2 trm   \" ><div class=\"lbl c2 trm \" ><span class=\"nd\">word</span> <span class=\"txto\"><span class=\"plain   \" ><span class=\"txto\">szum-</span><span class=\"txto\">ma </span></span></span></div></div><div class=\"contnr c2 trm   hl\" ><div class=\"lbl c2 trm hl\" ><span class=\"nd\">word</span> <span class=\"txto\"><span class=\"plain   \" ><span class=\"plain   hl\" ><span class=\"txto\">6(disz) </span></span></span></span></div></div><div class=\"contnr c2 trm   \" ><div class=\"lbl c2 trm \" ><span class=\"nd\">word</span> <span class=\"txto\"><span class=\"plain   \" ><span class=\"txto\">_gin2 </span></span></span></div></div><div class=\"contnr c2 trm   \" ><div class=\"lbl c2 trm \" ><span class=\"nd\">word</span> <span class=\"txto\"><span class=\"plain   \" ><span class=\"txto\">ku3-</span><span class=\"txto\">babbar_ </span></span></span></div></div><div class=\"contnr c2 trm   \" ><div class=\"lbl c2 trm \" ><span class=\"nd\">word</span> <span class=\"txto\"><span class=\"plain   \" ><span class=\"txto\">i-</span><span class=\"txto\">di-</span><span class=\"txto\">in-</span><span class=\"txto\">szum</span></span></span></div></div></div></div></div>"
      ],
      "text/plain": [
       "<IPython.core.display.HTML object>"
      ]
     },
     "metadata": {},
     "output_type": "display_data"
    }
   ],
   "source": [
    "A.show(results, end=3)"
   ]
  },
  {
   "cell_type": "markdown",
   "metadata": {},
   "source": [
    "# Condense results\n",
    "\n",
    "There are two fundamentally different ways of presenting the results: condensed and uncondensed.\n",
    "\n",
    "In **uncondensed** view, all results are listed individually.\n",
    "You can keep track of which parts belong to which results.\n",
    "The display can become unwieldy.\n",
    "\n",
    "This is the default view, because it is the straightest, most logical, answer to your query.\n",
    "\n",
    "In **condensed** view all nodes of all results are grouped in containers first (e.g. verses), and then presented\n",
    "container by container.\n",
    "You loose the information of what parts belong to what result.\n",
    "\n",
    "As an example of is the difference, we look for all numerals."
   ]
  },
  {
   "cell_type": "code",
   "execution_count": 9,
   "metadata": {
    "ExecuteTime": {
     "end_time": "2018-05-24T07:47:14.547656Z",
     "start_time": "2018-05-24T07:47:14.544433Z"
    }
   },
   "outputs": [],
   "source": [
    "query = \"\"\"\n",
    "% we choose a tablet with several numerals\n",
    "document pnumber=P510556\n",
    "  sign type=numeral repeat>3\n",
    "\"\"\""
   ]
  },
  {
   "cell_type": "markdown",
   "metadata": {},
   "source": [
    "Note that you can have comments in a search template. Comment lines start with a `%`."
   ]
  },
  {
   "cell_type": "code",
   "execution_count": 10,
   "metadata": {
    "ExecuteTime": {
     "end_time": "2018-05-24T07:47:18.913432Z",
     "start_time": "2018-05-24T07:47:17.357992Z"
    }
   },
   "outputs": [
    {
     "name": "stdout",
     "output_type": "stream",
     "text": [
      "  0.17s 5 results\n"
     ]
    },
    {
     "data": {
      "text/html": [
       "<table><tr class=\"tf ltr\"><th class=\"tf ltr\">n</th><th class=\"tf ltr\">p</th><th class=\"tf ltr\">document</th><th class=\"tf\">sign</th></tr>\n",
       "<tr class=\"tf ltr\"><td class=\"tf ltr\">1</td><td class=\"tf ltr\"><span class=\"section ltr\"><a target=\"_blank\" href=\"https://cdli.ucla.edu/search/search_results.php?SearchMode=Text&amp;ObjectID=P510556\" title=\"Show this document on CDLI\" sec=\"P510556 obverse:6\">P510556 obverse:6</a></span></td><td class=\"tf ltr\"><div class=\"\"><span class=\"txto \"><span class=\"section\">P510556</span></span></div></td><td class=\"tf ltr\"><div class=\"\"><span class=\"plain   hl\" ><span class=\"txto\">4(disz)-</span></span></div></td></tr>\n",
       "<tr class=\"tf ltr\"><td class=\"tf ltr\">2</td><td class=\"tf ltr\"><span class=\"section ltr\"><a target=\"_blank\" href=\"https://cdli.ucla.edu/search/search_results.php?SearchMode=Text&amp;ObjectID=P510556\" title=\"Show this document on CDLI\" sec=\"P510556 obverse:12\">P510556 obverse:12</a></span></td><td class=\"tf ltr\"><div class=\"\"><span class=\"txto \"><span class=\"section\">P510556</span></span></div></td><td class=\"tf ltr\"><div class=\"\"><span class=\"plain   hl\" ><span class=\"txto\">5(disz) </span></span></div></td></tr>\n",
       "<tr class=\"tf ltr\"><td class=\"tf ltr\">3</td><td class=\"tf ltr\"><span class=\"section ltr\"><a target=\"_blank\" href=\"https://cdli.ucla.edu/search/search_results.php?SearchMode=Text&amp;ObjectID=P510556\" title=\"Show this document on CDLI\" sec=\"P510556 reverse:4\">P510556 reverse:4</a></span></td><td class=\"tf ltr\"><div class=\"\"><span class=\"txto \"><span class=\"section\">P510556</span></span></div></td><td class=\"tf ltr\"><div class=\"\"><span class=\"plain   hl\" ><span class=\"txto\">_5(gesz2) </span></span></div></td></tr>\n",
       "<tr class=\"tf ltr\"><td class=\"tf ltr\">4</td><td class=\"tf ltr\"><span class=\"section ltr\"><a target=\"_blank\" href=\"https://cdli.ucla.edu/search/search_results.php?SearchMode=Text&amp;ObjectID=P510556\" title=\"Show this document on CDLI\" sec=\"P510556 reverse:8\">P510556 reverse:8</a></span></td><td class=\"tf ltr\"><div class=\"\"><span class=\"txto \"><span class=\"section\">P510556</span></span></div></td><td class=\"tf ltr\"><div class=\"\"><span class=\"plain   hl\" ><span class=\"txto\">6(gesz2) </span></span></div></td></tr>\n",
       "<tr class=\"tf ltr\"><td class=\"tf ltr\">5</td><td class=\"tf ltr\"><span class=\"section ltr\"><a target=\"_blank\" href=\"https://cdli.ucla.edu/search/search_results.php?SearchMode=Text&amp;ObjectID=P510556\" title=\"Show this document on CDLI\" sec=\"P510556 reverse:8\">P510556 reverse:8</a></span></td><td class=\"tf ltr\"><div class=\"\"><span class=\"txto \"><span class=\"section\">P510556</span></span></div></td><td class=\"tf ltr\"><div class=\"\"><span class=\"plain   hl\" ><span class=\"txto\">5(ban2) </span></span></div></td></tr></table>"
      ],
      "text/plain": [
       "<IPython.core.display.HTML object>"
      ]
     },
     "metadata": {},
     "output_type": "display_data"
    }
   ],
   "source": [
    "results = A.search(query)\n",
    "A.table(results, end=10)"
   ]
  },
  {
   "cell_type": "markdown",
   "metadata": {},
   "source": [
    "Let's expand the results display:"
   ]
  },
  {
   "cell_type": "code",
   "execution_count": 11,
   "metadata": {
    "ExecuteTime": {
     "end_time": "2018-05-24T07:47:21.573937Z",
     "start_time": "2018-05-24T07:47:21.561079Z"
    }
   },
   "outputs": [
    {
     "data": {
      "text/html": [
       "<p><b>result</b> <i>1</i></p>"
      ],
      "text/plain": [
       "<IPython.core.display.HTML object>"
      ]
     },
     "metadata": {},
     "output_type": "display_data"
    },
    {
     "data": {
      "text/html": [
       "<div class=\"section \"><a target=\"_blank\" href=\"https://cdli.ucla.edu/search/search_results.php?SearchMode=Text&amp;ObjectID=P510556\" title=\"Show this document on CDLI\" sec=\"P510556 obverse:6\">P510556 obverse:6</a></div><div class=\" children\"><div class=\"contnr c3    \" ><div class=\"lbl c3  \" ><span class=\"nd\">line</span></div><div class=\"children hor wrap \"><div class=\"contnr c2 trm   \" ><div class=\"lbl c2 trm \" ><span class=\"nd\">word</span> <span class=\"txto\"><span class=\"plain   \" ><span class=\"txto\">i-</span><span class=\"txto\">na </span></span></span></div></div><div class=\"contnr c2 trm   \" ><div class=\"lbl c2 trm \" ><span class=\"nd\">word</span> <span class=\"txto\"><span class=\"plain   \" ><span class=\"txto\">_u4 </span></span></span></div></div><div class=\"contnr c2 trm   \" ><div class=\"lbl c2 trm \" ><span class=\"nd\">word</span> <span class=\"txto\"><span class=\"plain   \" ><span class=\"txto\">1(u) </span></span></span></div></div><div class=\"contnr c2 trm   \" ><div class=\"lbl c2 trm \" ><span class=\"nd\">word</span> <span class=\"txto\"><span class=\"plain   \" ><span class=\"plain   hl\" ><span class=\"txto\">4(disz)-</span></span><span class=\"txto\">kam_ </span></span></span></div></div><div class=\"contnr c2 trm   \" ><div class=\"lbl c2 trm \" ><span class=\"nd\">word</span> <span class=\"txto\"><span class=\"plain   \" ><span class=\"txto\">sza </span></span></span></div></div><div class=\"contnr c2 trm   \" ><div class=\"lbl c2 trm \" ><span class=\"nd\">word</span> <span class=\"txto\"><span class=\"plain   \" ><span class=\"txto\">_iti </span></span></span></div></div><div class=\"contnr c2 trm   \" ><div class=\"lbl c2 trm \" ><span class=\"nd\">word</span> <span class=\"txto\"><span class=\"plain   \" ><span class=\"txto\">NE-</span><span class=\"txto\">NE-</span><span class=\"txto\">gar_ </span></span></span></div></div><div class=\"contnr c2 trm   \" ><div class=\"lbl c2 trm \" ><span class=\"nd\">word</span> <span class=\"txto\"><span class=\"plain   \" ><span class=\"txto\">a-</span><span class=\"txto\">na </span></span></span></div></div><div class=\"contnr c2 trm   \" ><div class=\"lbl c2 trm \" ><span class=\"nd\">word</span> <span class=\"txto\"><span class=\"plain   \" ><span class=\"txto\">sze-</span><span class=\"txto\">e </span></span></span></div></div><div class=\"contnr c2 trm   \" ><div class=\"lbl c2 trm \" ><span class=\"nd\">word</span> <span class=\"txto\"><span class=\"plain   \" ><span class=\"txto\">szu-</span><span class=\"txto\">ut-</span><span class=\"txto\">_sipa-</span><span class=\"txto\">mesz_</span><span class=\"txto\">{ki}</span></span></span></div></div></div></div></div>"
      ],
      "text/plain": [
       "<IPython.core.display.HTML object>"
      ]
     },
     "metadata": {},
     "output_type": "display_data"
    },
    {
     "data": {
      "text/html": [
       "<p><b>result</b> <i>2</i></p>"
      ],
      "text/plain": [
       "<IPython.core.display.HTML object>"
      ]
     },
     "metadata": {},
     "output_type": "display_data"
    },
    {
     "data": {
      "text/html": [
       "<div class=\"section \"><a target=\"_blank\" href=\"https://cdli.ucla.edu/search/search_results.php?SearchMode=Text&amp;ObjectID=P510556\" title=\"Show this document on CDLI\" sec=\"P510556 obverse:12\">P510556 obverse:12</a></div><div class=\" children\"><div class=\"contnr c3    \" ><div class=\"lbl c3  \" ><span class=\"nd\">line</span></div><div class=\"children hor wrap \"><div class=\"contnr c2 trm   \" ><div class=\"lbl c2 trm \" ><span class=\"nd\">word</span> <span class=\"txto\"><span class=\"plain   \" ><span class=\"txto\">_dumu_ </span></span></span></div></div><div class=\"contnr c2 trm   \" ><div class=\"lbl c2 trm \" ><span class=\"nd\">word</span> <span class=\"txto\"><span class=\"plain   \" ><span class=\"txto\">hi-</span><span class=\"txto\">IZ-</span><span class=\"txto\">BI-</span><span class=\"txto\">SZI </span></span></span></div></div><div class=\"contnr c2 trm   \" ><div class=\"lbl c2 trm \" ><span class=\"nd\">word</span> <span class=\"txto\"><span class=\"plain   \" ><span class=\"plain   hl\" ><span class=\"txto\">5(disz) </span></span></span></span></div></div><div class=\"contnr c2 trm   \" ><div class=\"lbl c2 trm \" ><span class=\"nd\">word</span> <span class=\"txto\"><span class=\"plain   \" ><span class=\"txto\">szu-</span><span class=\"txto\">szi </span></span></span></div></div><div class=\"contnr c2 trm   \" ><div class=\"lbl c2 trm \" ><span class=\"nd\">word</span> <span class=\"txto\"><span class=\"plain   \" ><span class=\"txto\">_sze </span></span></span></div></div><div class=\"contnr c2 trm   \" ><div class=\"lbl c2 trm \" ><span class=\"nd\">word</span> <span class=\"txto\"><span class=\"plain   \" ><span class=\"txto\">gur_ </span></span></span></div></div><div class=\"contnr c2 trm   \" ><div class=\"lbl c2 trm \" ><span class=\"nd\">word</span> <span class=\"txto\"><span class=\"plain   \" ><span class=\"txto\">sza# </span></span></span></div></div><div class=\"contnr c2 trm   \" ><div class=\"lbl c2 trm \" ><span class=\"nd\">word</span> <span class=\"txto\"><span class=\"plain   \" ><span class=\"txto\">a-</span><span class=\"txto\">na# </span></span></span></div></div><div class=\"contnr c2 trm   \" ><div class=\"lbl c2 trm \" ><span class=\"nd\">word</span> <span class=\"txto\"><span class=\"plain   \" ><span class=\"txto\">x </span></span></span></div></div><div class=\"contnr c2 trm   \" ><div class=\"lbl c2 trm \" ><span class=\"nd\">word</span> <span class=\"txto\"><span class=\"plain   \" ><span class=\"txto\">[x </span></span></span></div></div><div class=\"contnr c2 trm   \" ><div class=\"lbl c2 trm \" ><span class=\"nd\">word</span> <span class=\"txto\"><span class=\"plain   \" ><span class=\"txto\">(x)]</span></span></span></div></div></div></div></div>"
      ],
      "text/plain": [
       "<IPython.core.display.HTML object>"
      ]
     },
     "metadata": {},
     "output_type": "display_data"
    }
   ],
   "source": [
    "A.show(results, end=2, skipCols=\"1\")"
   ]
  },
  {
   "cell_type": "markdown",
   "metadata": {},
   "source": [
    "As you see, the results are listed per result tuple, even if they occur all in the same verse.\n",
    "This way you can keep track of what exactly belongs to each result.\n",
    "\n",
    "Now in condensed mode:"
   ]
  },
  {
   "cell_type": "code",
   "execution_count": 12,
   "metadata": {
    "ExecuteTime": {
     "end_time": "2018-05-24T07:47:21.573937Z",
     "start_time": "2018-05-24T07:47:21.561079Z"
    }
   },
   "outputs": [
    {
     "data": {
      "text/html": [
       "<p><b>line</b> <i>1</i></p>"
      ],
      "text/plain": [
       "<IPython.core.display.HTML object>"
      ]
     },
     "metadata": {},
     "output_type": "display_data"
    },
    {
     "data": {
      "text/html": [
       "<div class=\"section \"><a target=\"_blank\" href=\"https://cdli.ucla.edu/search/search_results.php?SearchMode=Text&amp;ObjectID=P510556\" title=\"Show this document on CDLI\" sec=\"P510556 obverse:6\">P510556 obverse:6</a></div><div class=\" children\"><div class=\"contnr c3    \" ><div class=\"lbl c3  \" ><span class=\"nd\">line:231627</span></div><div class=\"children hor wrap \"><div class=\"contnr c2 trm   \" ><div class=\"lbl c2 trm \" ><span class=\"nd\">word:260688</span> <span class=\"txto\"><span class=\"plain   \" ><span class=\"txto\">i-</span><span class=\"txto\">na </span></span></span></div></div><div class=\"contnr c2 trm   \" ><div class=\"lbl c2 trm \" ><span class=\"nd\">word:260689</span> <span class=\"txto\"><span class=\"plain   \" ><span class=\"txto\">_u4 </span></span></span></div></div><div class=\"contnr c2 trm   \" ><div class=\"lbl c2 trm \" ><span class=\"nd\">word:260690</span> <span class=\"txto\"><span class=\"plain   \" ><span class=\"txto\">1(u) </span></span></span></div></div><div class=\"contnr c2 trm   \" ><div class=\"lbl c2 trm \" ><span class=\"nd\">word:260691</span> <span class=\"txto\"><span class=\"plain   \" ><span class=\"plain   hl\" ><span class=\"nd\">6756</span><span class=\"txto\">4(disz)-</span></span><span class=\"txto\">kam_ </span></span></span></div></div><div class=\"contnr c2 trm   \" ><div class=\"lbl c2 trm \" ><span class=\"nd\">word:260692</span> <span class=\"txto\"><span class=\"plain   \" ><span class=\"txto\">sza </span></span></span></div></div><div class=\"contnr c2 trm   \" ><div class=\"lbl c2 trm \" ><span class=\"nd\">word:260693</span> <span class=\"txto\"><span class=\"plain   \" ><span class=\"txto\">_iti </span></span></span></div></div><div class=\"contnr c2 trm   \" ><div class=\"lbl c2 trm \" ><span class=\"nd\">word:260694</span> <span class=\"txto\"><span class=\"plain   \" ><span class=\"txto\">NE-</span><span class=\"txto\">NE-</span><span class=\"txto\">gar_ </span></span></span></div></div><div class=\"contnr c2 trm   \" ><div class=\"lbl c2 trm \" ><span class=\"nd\">word:260695</span> <span class=\"txto\"><span class=\"plain   \" ><span class=\"txto\">a-</span><span class=\"txto\">na </span></span></span></div></div><div class=\"contnr c2 trm   \" ><div class=\"lbl c2 trm \" ><span class=\"nd\">word:260696</span> <span class=\"txto\"><span class=\"plain   \" ><span class=\"txto\">sze-</span><span class=\"txto\">e </span></span></span></div></div><div class=\"contnr c2 trm   \" ><div class=\"lbl c2 trm \" ><span class=\"nd\">word:260697</span> <span class=\"txto\"><span class=\"plain   \" ><span class=\"txto\">szu-</span><span class=\"txto\">ut-</span><span class=\"txto\">_sipa-</span><span class=\"txto\">mesz_</span><span class=\"txto\">{ki}</span></span></span></div></div></div></div></div>"
      ],
      "text/plain": [
       "<IPython.core.display.HTML object>"
      ]
     },
     "metadata": {},
     "output_type": "display_data"
    },
    {
     "data": {
      "text/html": [
       "<p><b>line</b> <i>2</i></p>"
      ],
      "text/plain": [
       "<IPython.core.display.HTML object>"
      ]
     },
     "metadata": {},
     "output_type": "display_data"
    },
    {
     "data": {
      "text/html": [
       "<div class=\"section \"><a target=\"_blank\" href=\"https://cdli.ucla.edu/search/search_results.php?SearchMode=Text&amp;ObjectID=P510556\" title=\"Show this document on CDLI\" sec=\"P510556 obverse:12\">P510556 obverse:12</a></div><div class=\" children\"><div class=\"contnr c3    \" ><div class=\"lbl c3  \" ><span class=\"nd\">line:231633</span></div><div class=\"children hor wrap \"><div class=\"contnr c2 trm   \" ><div class=\"lbl c2 trm \" ><span class=\"nd\">word:260721</span> <span class=\"txto\"><span class=\"plain   \" ><span class=\"txto\">_dumu_ </span></span></span></div></div><div class=\"contnr c2 trm   \" ><div class=\"lbl c2 trm \" ><span class=\"nd\">word:260722</span> <span class=\"txto\"><span class=\"plain   \" ><span class=\"txto\">hi-</span><span class=\"txto\">IZ-</span><span class=\"txto\">BI-</span><span class=\"txto\">SZI </span></span></span></div></div><div class=\"contnr c2 trm   \" ><div class=\"lbl c2 trm \" ><span class=\"nd\">word:260723</span> <span class=\"txto\"><span class=\"plain   \" ><span class=\"plain   hl\" ><span class=\"nd\">6846</span><span class=\"txto\">5(disz) </span></span></span></span></div></div><div class=\"contnr c2 trm   \" ><div class=\"lbl c2 trm \" ><span class=\"nd\">word:260724</span> <span class=\"txto\"><span class=\"plain   \" ><span class=\"txto\">szu-</span><span class=\"txto\">szi </span></span></span></div></div><div class=\"contnr c2 trm   \" ><div class=\"lbl c2 trm \" ><span class=\"nd\">word:260725</span> <span class=\"txto\"><span class=\"plain   \" ><span class=\"txto\">_sze </span></span></span></div></div><div class=\"contnr c2 trm   \" ><div class=\"lbl c2 trm \" ><span class=\"nd\">word:260726</span> <span class=\"txto\"><span class=\"plain   \" ><span class=\"txto\">gur_ </span></span></span></div></div><div class=\"contnr c2 trm   \" ><div class=\"lbl c2 trm \" ><span class=\"nd\">word:260727</span> <span class=\"txto\"><span class=\"plain   \" ><span class=\"txto\">sza# </span></span></span></div></div><div class=\"contnr c2 trm   \" ><div class=\"lbl c2 trm \" ><span class=\"nd\">word:260728</span> <span class=\"txto\"><span class=\"plain   \" ><span class=\"txto\">a-</span><span class=\"txto\">na# </span></span></span></div></div><div class=\"contnr c2 trm   \" ><div class=\"lbl c2 trm \" ><span class=\"nd\">word:260729</span> <span class=\"txto\"><span class=\"plain   \" ><span class=\"txto\">x </span></span></span></div></div><div class=\"contnr c2 trm   \" ><div class=\"lbl c2 trm \" ><span class=\"nd\">word:260730</span> <span class=\"txto\"><span class=\"plain   \" ><span class=\"txto\">[x </span></span></span></div></div><div class=\"contnr c2 trm   \" ><div class=\"lbl c2 trm \" ><span class=\"nd\">word:260731</span> <span class=\"txto\"><span class=\"plain   \" ><span class=\"txto\">(x)]</span></span></span></div></div></div></div></div>"
      ],
      "text/plain": [
       "<IPython.core.display.HTML object>"
      ]
     },
     "metadata": {},
     "output_type": "display_data"
    },
    {
     "data": {
      "text/html": [
       "<p><b>line</b> <i>3</i></p>"
      ],
      "text/plain": [
       "<IPython.core.display.HTML object>"
      ]
     },
     "metadata": {},
     "output_type": "display_data"
    },
    {
     "data": {
      "text/html": [
       "<div class=\"section \"><a target=\"_blank\" href=\"https://cdli.ucla.edu/search/search_results.php?SearchMode=Text&amp;ObjectID=P510556\" title=\"Show this document on CDLI\" sec=\"P510556 reverse:4\">P510556 reverse:4</a></div><div class=\" children\"><div class=\"contnr c3    \" ><div class=\"lbl c3  \" ><span class=\"nd\">line:231646</span></div><div class=\"children hor wrap \"><div class=\"contnr c2 trm   \" ><div class=\"lbl c2 trm \" ><span class=\"nd\">word:260798</span> <span class=\"txto\"><span class=\"plain   \" ><span class=\"txto\">ib-</span><span class=\"txto\">ba-</span><span class=\"txto\">szu-</span><span class=\"txto\">u2 </span></span></span></div></div><div class=\"contnr c2 trm   \" ><div class=\"lbl c2 trm \" ><span class=\"nd\">word:260799</span> <span class=\"txto\"><span class=\"plain   \" ><span class=\"plain   hl\" ><span class=\"nd\">7000</span><span class=\"txto\">_5(gesz2) </span></span></span></span></div></div><div class=\"contnr c2 trm   \" ><div class=\"lbl c2 trm \" ><span class=\"nd\">word:260800</span> <span class=\"txto\"><span class=\"plain   \" ><span class=\"txto\">3(u) </span></span></span></div></div><div class=\"contnr c2 trm   \" ><div class=\"lbl c2 trm \" ><span class=\"nd\">word:260801</span> <span class=\"txto\"><span class=\"plain   \" ><span class=\"txto\">sze </span></span></span></div></div><div class=\"contnr c2 trm   \" ><div class=\"lbl c2 trm \" ><span class=\"nd\">word:260802</span> <span class=\"txto\"><span class=\"plain   \" ><span class=\"txto\">gur </span></span></span></div></div><div class=\"contnr c2 trm   \" ><div class=\"lbl c2 trm \" ><span class=\"nd\">word:260803</span> <span class=\"txto\"><span class=\"plain   \" ><span class=\"txto\">{gesz#}</span><span class=\"txto\">ban2#_ </span></span></span></div></div><div class=\"contnr c2 trm   \" ><div class=\"lbl c2 trm \" ><span class=\"nd\">word:260804</span> <span class=\"txto\"><span class=\"plain   \" ><span class=\"txto\">{gesz#}</span><span class=\"txto\">me-</span><span class=\"txto\">sze-</span><span class=\"txto\">qum#</span></span></span></div></div></div></div></div>"
      ],
      "text/plain": [
       "<IPython.core.display.HTML object>"
      ]
     },
     "metadata": {},
     "output_type": "display_data"
    },
    {
     "data": {
      "text/html": [
       "<p><b>line</b> <i>4</i></p>"
      ],
      "text/plain": [
       "<IPython.core.display.HTML object>"
      ]
     },
     "metadata": {},
     "output_type": "display_data"
    },
    {
     "data": {
      "text/html": [
       "<div class=\"section \"><a target=\"_blank\" href=\"https://cdli.ucla.edu/search/search_results.php?SearchMode=Text&amp;ObjectID=P510556\" title=\"Show this document on CDLI\" sec=\"P510556 reverse:8\">P510556 reverse:8</a></div><div class=\" children\"><div class=\"contnr c3    \" ><div class=\"lbl c3  \" ><span class=\"nd\">line:231650</span></div><div class=\"children hor wrap \"><div class=\"contnr c2 trm   \" ><div class=\"lbl c2 trm \" ><span class=\"nd\">word:260817</span> <span class=\"txto\"><span class=\"plain   \" ><span class=\"txto\">_szunigin </span></span></span></div></div><div class=\"contnr c2 trm   \" ><div class=\"lbl c2 trm \" ><span class=\"nd\">word:260818</span> <span class=\"txto\"><span class=\"plain   \" ><span class=\"plain   hl\" ><span class=\"nd\">7037</span><span class=\"txto\">6(gesz2) </span></span></span></span></div></div><div class=\"contnr c2 trm   \" ><div class=\"lbl c2 trm \" ><span class=\"nd\">word:260819</span> <span class=\"txto\"><span class=\"plain   \" ><span class=\"txto\">2(u) </span></span></span></div></div><div class=\"contnr c2 trm   \" ><div class=\"lbl c2 trm \" ><span class=\"nd\">word:260820</span> <span class=\"txto\"><span class=\"plain   \" ><span class=\"txto\">1(asz) </span></span></span></div></div><div class=\"contnr c2 trm   \" ><div class=\"lbl c2 trm \" ><span class=\"nd\">word:260821</span> <span class=\"txto\"><span class=\"plain   \" ><span class=\"plain   hl\" ><span class=\"nd\">7040</span><span class=\"txto\">5(ban2) </span></span></span></span></div></div><div class=\"contnr c2 trm   \" ><div class=\"lbl c2 trm \" ><span class=\"nd\">word:260822</span> <span class=\"txto\"><span class=\"plain   \" ><span class=\"txto\">sze </span></span></span></div></div><div class=\"contnr c2 trm   \" ><div class=\"lbl c2 trm \" ><span class=\"nd\">word:260823</span> <span class=\"txto\"><span class=\"plain   \" ><span class=\"txto\">gur </span></span></span></div></div><div class=\"contnr c2 trm   \" ><div class=\"lbl c2 trm \" ><span class=\"nd\">word:260824</span> <span class=\"txto\"><span class=\"plain   \" ><span class=\"txto\">{gesz}</span><span class=\"txto\">ban2#_ </span></span></span></div></div><div class=\"contnr c2 trm   \" ><div class=\"lbl c2 trm \" ><span class=\"nd\">word:260825</span> <span class=\"txto\"><span class=\"plain   \" ><span class=\"txto\">[{gesz}</span><span class=\"txto\">me]-</span><span class=\"txto\">sze#-</span><span class=\"txto\">qum</span></span></span></div></div></div></div></div>"
      ],
      "text/plain": [
       "<IPython.core.display.HTML object>"
      ]
     },
     "metadata": {},
     "output_type": "display_data"
    }
   ],
   "source": [
    "A.show(results, condensed=True, withNodes=True)"
   ]
  },
  {
   "cell_type": "markdown",
   "metadata": {},
   "source": [
    "The last line has two results, and both results are highlighted in the same line display.\n",
    "\n",
    "We can modify the container in which we see our results.\n",
    "\n",
    "By default, it is `line`, but we can make it `face` as well:"
   ]
  },
  {
   "cell_type": "code",
   "execution_count": 13,
   "metadata": {
    "ExecuteTime": {
     "end_time": "2018-05-24T07:47:21.573937Z",
     "start_time": "2018-05-24T07:47:21.561079Z"
    }
   },
   "outputs": [
    {
     "data": {
      "text/html": [
       "<p><b>face</b> <i>1</i></p>"
      ],
      "text/plain": [
       "<IPython.core.display.HTML object>"
      ]
     },
     "metadata": {},
     "output_type": "display_data"
    },
    {
     "data": {
      "text/html": [
       "<div class=\"section \"><a target=\"_blank\" href=\"https://cdli.ucla.edu/search/search_results.php?SearchMode=Text&amp;ObjectID=P510556\" title=\"Show this document on CDLI\" sec=\"P510556 obverse\">P510556 obverse</a></div><div class=\" children\"><div class=\"contnr c4    \" ><div class=\"lbl c4  \" ><span class=\"nd\">face</span> <span class=\"txto\"><span class=\"section\">P510556 obverse</span></span></div><div class=\"children hor wrap \"><div class=\"contnr c3    \" ><div class=\"lbl c3  \" ><span class=\"nd\">line</span></div><div class=\"children hor wrap \"><div class=\"contnr c2 trm   \" ><div class=\"lbl c2 trm \" ><span class=\"nd\">word</span> <span class=\"txto\"><span class=\"plain   \" ><span class=\"txto\">a-</span><span class=\"txto\">na </span></span></span></div></div><div class=\"contnr c2 trm   \" ><div class=\"lbl c2 trm \" ><span class=\"nd\">word</span> <span class=\"txto\"><span class=\"plain   \" ><span class=\"txto\">be-</span><span class=\"txto\">li2-</span><span class=\"txto\">ia </span></span></span></div></div><div class=\"contnr c2 trm   \" ><div class=\"lbl c2 trm \" ><span class=\"nd\">word</span> <span class=\"txto\"><span class=\"plain   \" ><span class=\"txto\">qi2-</span><span class=\"txto\">bi2-</span><span class=\"txto\">ma</span></span></span></div></div></div></div><div class=\"contnr c3    \" ><div class=\"lbl c3  \" ><span class=\"nd\">line</span></div><div class=\"children hor wrap \"><div class=\"contnr c2 trm   \" ><div class=\"lbl c2 trm \" ><span class=\"nd\">word</span> <span class=\"txto\"><span class=\"plain   \" ><span class=\"txto\">um-</span><span class=\"txto\">ma </span></span></span></div></div><div class=\"contnr c2 trm   \" ><div class=\"lbl c2 trm \" ><span class=\"nd\">word</span> <span class=\"txto\"><span class=\"plain   \" ><span class=\"txto\">{d}</span><span class=\"txto\">na-</span><span class=\"txto\">bi-</span><span class=\"txto\">um-</span><span class=\"txto\">at-</span><span class=\"txto\">pa-</span><span class=\"txto\">lam </span></span></span></div></div><div class=\"contnr c2 trm   \" ><div class=\"lbl c2 trm \" ><span class=\"nd\">word</span> <span class=\"txto\"><span class=\"plain   \" ><span class=\"txto\">ARAD-</span><span class=\"txto\">ka-</span><span class=\"txto\">ma</span></span></span></div></div></div></div><div class=\"contnr c3    \" ><div class=\"lbl c3  \" ><span class=\"nd\">line</span></div><div class=\"children hor wrap \"><div class=\"contnr c2 trm   \" ><div class=\"lbl c2 trm \" ><span class=\"nd\">word</span> <span class=\"txto\"><span class=\"plain   \" ><span class=\"txto\">asz-</span><span class=\"txto\">szum </span></span></span></div></div><div class=\"contnr c2 trm   \" ><div class=\"lbl c2 trm \" ><span class=\"nd\">word</span> <span class=\"txto\"><span class=\"plain   \" ><span class=\"txto\">sze-</span><span class=\"txto\">e </span></span></span></div></div><div class=\"contnr c2 trm   \" ><div class=\"lbl c2 trm \" ><span class=\"nd\">word</span> <span class=\"txto\"><span class=\"plain   \" ><span class=\"txto\">ar-</span><span class=\"txto\">hi-</span><span class=\"txto\">isz </span></span></span></div></div><div class=\"contnr c2 trm   \" ><div class=\"lbl c2 trm \" ><span class=\"nd\">word</span> <span class=\"txto\"><span class=\"plain   \" ><span class=\"txto\">la </span></span></span></div></div><div class=\"contnr c2 trm   \" ><div class=\"lbl c2 trm \" ><span class=\"nd\">word</span> <span class=\"txto\"><span class=\"plain   \" ><span class=\"txto\">ka-</span><span class=\"txto\">ma-</span><span class=\"txto\">si-</span><span class=\"txto\">im </span></span></span></div></div><div class=\"contnr c2 trm   \" ><div class=\"lbl c2 trm \" ><span class=\"nd\">word</span> <span class=\"txto\"><span class=\"plain   \" ><span class=\"txto\">sza </span></span></span></div></div><div class=\"contnr c2 trm   \" ><div class=\"lbl c2 trm \" ><span class=\"nd\">word</span> <span class=\"txto\"><span class=\"plain   \" ><span class=\"txto\">be-</span><span class=\"txto\">li2 </span></span></span></div></div><div class=\"contnr c2 trm   \" ><div class=\"lbl c2 trm \" ><span class=\"nd\">word</span> <span class=\"txto\"><span class=\"plain   \" ><span class=\"txto\">isz-</span><span class=\"txto\">pur-</span><span class=\"txto\">am</span></span></span></div></div></div></div><div class=\"contnr c3    \" ><div class=\"lbl c3  \" ><span class=\"nd\">line</span></div><div class=\"children hor wrap \"><div class=\"contnr c2 trm   \" ><div class=\"lbl c2 trm \" ><span class=\"nd\">word</span> <span class=\"txto\"><span class=\"plain   \" ><span class=\"txto\">sze-</span><span class=\"txto\">e </span></span></span></div></div><div class=\"contnr c2 trm   \" ><div class=\"lbl c2 trm \" ><span class=\"nd\">word</span> <span class=\"txto\"><span class=\"plain   \" ><span class=\"txto\">szu-</span><span class=\"txto\">ut-</span><span class=\"txto\">_sipa-</span><span class=\"txto\">mesz_</span><span class=\"txto\">{ki} </span></span></span></div></div><div class=\"contnr c2 trm   \" ><div class=\"lbl c2 trm \" ><span class=\"nd\">word</span> <span class=\"txto\"><span class=\"plain   \" ><span class=\"txto\">i-</span><span class=\"txto\">na# </span></span></span></div></div><div class=\"contnr c2 trm   \" ><div class=\"lbl c2 trm \" ><span class=\"nd\">word</span> <span class=\"txto\"><span class=\"plain   \" ><span class=\"txto\">za#-</span><span class=\"txto\">re-</span><span class=\"txto\">e-</span><span class=\"txto\">em </span></span></span></div></div><div class=\"contnr c2 trm   \" ><div class=\"lbl c2 trm \" ><span class=\"nd\">word</span> <span class=\"txto\"><span class=\"plain   \" ><span class=\"txto\">ka-</span><span class=\"txto\">mi-</span><span class=\"txto\">is</span></span></span></div></div></div></div><div class=\"contnr c3    \" ><div class=\"lbl c3  \" ><span class=\"nd\">line</span></div><div class=\"children hor wrap \"><div class=\"contnr c2 trm   \" ><div class=\"lbl c2 trm \" ><span class=\"nd\">word</span> <span class=\"txto\"><span class=\"plain   \" ><span class=\"txto\">sze-</span><span class=\"txto\">e </span></span></span></div></div><div class=\"contnr c2 trm   \" ><div class=\"lbl c2 trm \" ><span class=\"nd\">word</span> <span class=\"txto\"><span class=\"plain   \" ><span class=\"txto\">iri-</span><span class=\"txto\">{d}</span><span class=\"txto\">gu-</span><span class=\"txto\">la</span><span class=\"txto\">{ki} </span></span></span></div></div><div class=\"contnr c2 trm   \" ><div class=\"lbl c2 trm \" ><span class=\"nd\">word</span> <span class=\"txto\"><span class=\"plain   \" ><span class=\"txto\">a-</span><span class=\"txto\">na </span></span></span></div></div><div class=\"contnr c2 trm   \" ><div class=\"lbl c2 trm \" ><span class=\"nd\">word</span> <span class=\"txto\"><span class=\"plain   \" ><span class=\"txto\">zimbir</span><span class=\"txto\">{ki} </span></span></span></div></div><div class=\"contnr c2 trm   \" ><div class=\"lbl c2 trm \" ><span class=\"nd\">word</span> <span class=\"txto\"><span class=\"plain   \" ><span class=\"txto\">at-</span><span class=\"txto\">ba-</span><span class=\"txto\">lam</span></span></span></div></div></div></div><div class=\"contnr c3    \" ><div class=\"lbl c3  \" ><span class=\"nd\">line</span></div><div class=\"children hor wrap \"><div class=\"contnr c2 trm   \" ><div class=\"lbl c2 trm \" ><span class=\"nd\">word</span> <span class=\"txto\"><span class=\"plain   \" ><span class=\"txto\">i-</span><span class=\"txto\">na </span></span></span></div></div><div class=\"contnr c2 trm   \" ><div class=\"lbl c2 trm \" ><span class=\"nd\">word</span> <span class=\"txto\"><span class=\"plain   \" ><span class=\"txto\">_u4 </span></span></span></div></div><div class=\"contnr c2 trm   \" ><div class=\"lbl c2 trm \" ><span class=\"nd\">word</span> <span class=\"txto\"><span class=\"plain   \" ><span class=\"txto\">1(u) </span></span></span></div></div><div class=\"contnr c2 trm   \" ><div class=\"lbl c2 trm \" ><span class=\"nd\">word</span> <span class=\"txto\"><span class=\"plain   \" ><span class=\"plain   hl\" ><span class=\"txto\">4(disz)-</span></span><span class=\"txto\">kam_ </span></span></span></div></div><div class=\"contnr c2 trm   \" ><div class=\"lbl c2 trm \" ><span class=\"nd\">word</span> <span class=\"txto\"><span class=\"plain   \" ><span class=\"txto\">sza </span></span></span></div></div><div class=\"contnr c2 trm   \" ><div class=\"lbl c2 trm \" ><span class=\"nd\">word</span> <span class=\"txto\"><span class=\"plain   \" ><span class=\"txto\">_iti </span></span></span></div></div><div class=\"contnr c2 trm   \" ><div class=\"lbl c2 trm \" ><span class=\"nd\">word</span> <span class=\"txto\"><span class=\"plain   \" ><span class=\"txto\">NE-</span><span class=\"txto\">NE-</span><span class=\"txto\">gar_ </span></span></span></div></div><div class=\"contnr c2 trm   \" ><div class=\"lbl c2 trm \" ><span class=\"nd\">word</span> <span class=\"txto\"><span class=\"plain   \" ><span class=\"txto\">a-</span><span class=\"txto\">na </span></span></span></div></div><div class=\"contnr c2 trm   \" ><div class=\"lbl c2 trm \" ><span class=\"nd\">word</span> <span class=\"txto\"><span class=\"plain   \" ><span class=\"txto\">sze-</span><span class=\"txto\">e </span></span></span></div></div><div class=\"contnr c2 trm   \" ><div class=\"lbl c2 trm \" ><span class=\"nd\">word</span> <span class=\"txto\"><span class=\"plain   \" ><span class=\"txto\">szu-</span><span class=\"txto\">ut-</span><span class=\"txto\">_sipa-</span><span class=\"txto\">mesz_</span><span class=\"txto\">{ki}</span></span></span></div></div></div></div><div class=\"contnr c3    \" ><div class=\"lbl c3  \" ><span class=\"nd\">line</span></div><div class=\"children hor wrap \"><div class=\"contnr c2 trm   \" ><div class=\"lbl c2 trm \" ><span class=\"nd\">word</span> <span class=\"txto\"><span class=\"plain   \" ><span class=\"txto\">pa-</span><span class=\"txto\">sza-</span><span class=\"txto\">ri-</span><span class=\"txto\">im </span></span></span></div></div><div class=\"contnr c2 trm   \" ><div class=\"lbl c2 trm \" ><span class=\"nd\">word</span> <span class=\"txto\"><span class=\"plain   \" ><span class=\"txto\">qa2-</span><span class=\"txto\">ti </span></span></span></div></div><div class=\"contnr c2 trm   \" ><div class=\"lbl c2 trm \" ><span class=\"nd\">word</span> <span class=\"txto\"><span class=\"plain   \" ><span class=\"txto\">a-</span><span class=\"txto\">sza-</span><span class=\"txto\">ak-</span><span class=\"txto\">ka-</span><span class=\"txto\">an</span></span></span></div></div></div></div><div class=\"contnr c3    \" ><div class=\"lbl c3  \" ><span class=\"nd\">line</span></div><div class=\"children hor wrap \"><div class=\"contnr c2 trm   \" ><div class=\"lbl c2 trm \" ><span class=\"nd\">word</span> <span class=\"txto\"><span class=\"plain   \" ><span class=\"txto\">asz#-</span><span class=\"txto\">szum </span></span></span></div></div><div class=\"contnr c2 trm   \" ><div class=\"lbl c2 trm \" ><span class=\"nd\">word</span> <span class=\"txto\"><span class=\"plain   \" ><span class=\"txto\">sza </span></span></span></div></div><div class=\"contnr c2 trm   \" ><div class=\"lbl c2 trm \" ><span class=\"nd\">word</span> <span class=\"txto\"><span class=\"plain   \" ><span class=\"txto\">um-</span><span class=\"txto\">ma </span></span></span></div></div><div class=\"contnr c2 trm   \" ><div class=\"lbl c2 trm \" ><span class=\"nd\">word</span> <span class=\"txto\"><span class=\"plain   \" ><span class=\"txto\">be-</span><span class=\"txto\">li2-</span><span class=\"txto\">ma </span></span></span></div></div><div class=\"contnr c2 trm   \" ><div class=\"lbl c2 trm \" ><span class=\"nd\">word</span> <span class=\"txto\"><span class=\"plain   \" ><span class=\"txto\">sza </span></span></span></div></div><div class=\"contnr c2 trm   \" ><div class=\"lbl c2 trm \" ><span class=\"nd\">word</span> <span class=\"txto\"><span class=\"plain   \" ><span class=\"txto\">isz-</span><span class=\"txto\">ku-</span><span class=\"txto\">un-</span><span class=\"txto\">{d}</span><span class=\"txto\">en-</span><span class=\"txto\">lil2</span><span class=\"txto\">{ki}</span></span></span></div></div></div></div><div class=\"contnr c3    \" ><div class=\"lbl c3  \" ><span class=\"nd\">line</span></div><div class=\"children hor wrap \"><div class=\"contnr c2 trm   \" ><div class=\"lbl c2 trm \" ><span class=\"nd\">word</span> <span class=\"txto\"><span class=\"plain   \" ><span class=\"txto\">i-</span><span class=\"txto\">na </span></span></span></div></div><div class=\"contnr c2 trm   \" ><div class=\"lbl c2 trm \" ><span class=\"nd\">word</span> <span class=\"txto\"><span class=\"plain   \" ><span class=\"txto\">pa-</span><span class=\"txto\">ni-</span><span class=\"txto\">ka </span></span></span></div></div><div class=\"contnr c2 trm   \" ><div class=\"lbl c2 trm \" ><span class=\"nd\">word</span> <span class=\"txto\"><span class=\"plain   \" ><span class=\"txto\">sze-</span><span class=\"txto\">am </span></span></span></div></div><div class=\"contnr c2 trm   \" ><div class=\"lbl c2 trm \" ><span class=\"nd\">word</span> <span class=\"txto\"><span class=\"plain   \" ><span class=\"txto\">am-</span><span class=\"txto\">mi-</span><span class=\"txto\">ni </span></span></span></div></div><div class=\"contnr c2 trm   \" ><div class=\"lbl c2 trm \" ><span class=\"nd\">word</span> <span class=\"txto\"><span class=\"plain   \" ><span class=\"txto\">ik-</span><span class=\"txto\">mi-</span><span class=\"txto\">su-</span><span class=\"txto\">nim</span></span></span></div></div></div></div><div class=\"contnr c3    \" ><div class=\"lbl c3  \" ><span class=\"nd\">line</span></div><div class=\"children hor wrap \"><div class=\"contnr c2 trm   \" ><div class=\"lbl c2 trm \" ><span class=\"nd\">word</span> <span class=\"txto\"><span class=\"plain   \" ><span class=\"txto\">isz-</span><span class=\"txto\">tu </span></span></span></div></div><div class=\"contnr c2 trm   \" ><div class=\"lbl c2 trm \" ><span class=\"nd\">word</span> <span class=\"txto\"><span class=\"plain   \" ><span class=\"txto\">du#-</span><span class=\"txto\">ri-</span><span class=\"txto\">im </span></span></span></div></div><div class=\"contnr c2 trm   \" ><div class=\"lbl c2 trm \" ><span class=\"nd\">word</span> <span class=\"txto\"><span class=\"plain   \" ><span class=\"txto\">ma-</span><span class=\"txto\">ti-</span><span class=\"txto\">ma </span></span></span></div></div><div class=\"contnr c2 trm   \" ><div class=\"lbl c2 trm \" ><span class=\"nd\">word</span> <span class=\"txto\"><span class=\"plain   \" ><span class=\"txto\">sze-</span><span class=\"txto\">am# </span></span></span></div></div><div class=\"contnr c2 trm   \" ><div class=\"lbl c2 trm \" ><span class=\"nd\">word</span> <span class=\"txto\"><span class=\"plain   \" ><span class=\"txto\">i-</span><span class=\"txto\">na </span></span></span></div></div><div class=\"contnr c2 trm   \" ><div class=\"lbl c2 trm \" ><span class=\"nd\">word</span> <span class=\"txto\"><span class=\"plain   \" ><span class=\"txto\">pa-</span><span class=\"txto\">ni-</span><span class=\"txto\">ia#</span></span></span></div></div></div></div><div class=\"contnr c3    \" ><div class=\"lbl c3  \" ><span class=\"nd\">line</span></div><div class=\"children hor wrap \"><div class=\"contnr c2 trm   \" ><div class=\"lbl c2 trm \" ><span class=\"nd\">word</span> <span class=\"txto\"><span class=\"plain   \" ><span class=\"txto\">u2-</span><span class=\"txto\">ul </span></span></span></div></div><div class=\"contnr c2 trm   \" ><div class=\"lbl c2 trm \" ><span class=\"nd\">word</span> <span class=\"txto\"><span class=\"plain   \" ><span class=\"txto\">ik-</span><span class=\"txto\">mi-</span><span class=\"txto\">su-</span><span class=\"txto\">nim </span></span></span></div></div><div class=\"contnr c2 trm   \" ><div class=\"lbl c2 trm \" ><span class=\"nd\">word</span> <span class=\"txto\"><span class=\"plain   \" ><span class=\"txto\">{disz}</span><span class=\"txto\">a-</span><span class=\"txto\">pil2-</span><span class=\"txto\">{d}</span><span class=\"txto\">ki-</span><span class=\"txto\">it-</span><span class=\"txto\">tum#</span></span></span></div></div></div></div><div class=\"contnr c3    \" ><div class=\"lbl c3  \" ><span class=\"nd\">line</span></div><div class=\"children hor wrap \"><div class=\"contnr c2 trm   \" ><div class=\"lbl c2 trm \" ><span class=\"nd\">word</span> <span class=\"txto\"><span class=\"plain   \" ><span class=\"txto\">_dumu_ </span></span></span></div></div><div class=\"contnr c2 trm   \" ><div class=\"lbl c2 trm \" ><span class=\"nd\">word</span> <span class=\"txto\"><span class=\"plain   \" ><span class=\"txto\">hi-</span><span class=\"txto\">IZ-</span><span class=\"txto\">BI-</span><span class=\"txto\">SZI </span></span></span></div></div><div class=\"contnr c2 trm   \" ><div class=\"lbl c2 trm \" ><span class=\"nd\">word</span> <span class=\"txto\"><span class=\"plain   \" ><span class=\"plain   hl\" ><span class=\"txto\">5(disz) </span></span></span></span></div></div><div class=\"contnr c2 trm   \" ><div class=\"lbl c2 trm \" ><span class=\"nd\">word</span> <span class=\"txto\"><span class=\"plain   \" ><span class=\"txto\">szu-</span><span class=\"txto\">szi </span></span></span></div></div><div class=\"contnr c2 trm   \" ><div class=\"lbl c2 trm \" ><span class=\"nd\">word</span> <span class=\"txto\"><span class=\"plain   \" ><span class=\"txto\">_sze </span></span></span></div></div><div class=\"contnr c2 trm   \" ><div class=\"lbl c2 trm \" ><span class=\"nd\">word</span> <span class=\"txto\"><span class=\"plain   \" ><span class=\"txto\">gur_ </span></span></span></div></div><div class=\"contnr c2 trm   \" ><div class=\"lbl c2 trm \" ><span class=\"nd\">word</span> <span class=\"txto\"><span class=\"plain   \" ><span class=\"txto\">sza# </span></span></span></div></div><div class=\"contnr c2 trm   \" ><div class=\"lbl c2 trm \" ><span class=\"nd\">word</span> <span class=\"txto\"><span class=\"plain   \" ><span class=\"txto\">a-</span><span class=\"txto\">na# </span></span></span></div></div><div class=\"contnr c2 trm   \" ><div class=\"lbl c2 trm \" ><span class=\"nd\">word</span> <span class=\"txto\"><span class=\"plain   \" ><span class=\"txto\">x </span></span></span></div></div><div class=\"contnr c2 trm   \" ><div class=\"lbl c2 trm \" ><span class=\"nd\">word</span> <span class=\"txto\"><span class=\"plain   \" ><span class=\"txto\">[x </span></span></span></div></div><div class=\"contnr c2 trm   \" ><div class=\"lbl c2 trm \" ><span class=\"nd\">word</span> <span class=\"txto\"><span class=\"plain   \" ><span class=\"txto\">(x)]</span></span></span></div></div></div></div><div class=\"contnr c3    \" ><div class=\"lbl c3  \" ><span class=\"nd\">line</span></div><div class=\"children hor wrap \"><div class=\"contnr c2 trm   \" ><div class=\"lbl c2 trm \" ><span class=\"nd\">word</span> <span class=\"txto\"><span class=\"plain   \" ><span class=\"txto\">u3 </span></span></span></div></div><div class=\"contnr c2 trm   \" ><div class=\"lbl c2 trm \" ><span class=\"nd\">word</span> <span class=\"txto\"><span class=\"plain   \" ><span class=\"txto\">i-</span><span class=\"txto\">na </span></span></span></div></div><div class=\"contnr c2 trm   \" ><div class=\"lbl c2 trm \" ><span class=\"nd\">word</span> <span class=\"txto\"><span class=\"plain   \" ><span class=\"txto\">zu-</span><span class=\"txto\">mur </span></span></span></div></div><div class=\"contnr c2 trm   \" ><div class=\"lbl c2 trm \" ><span class=\"nd\">word</span> <span class=\"txto\"><span class=\"plain   \" ><span class=\"txto\">_iri</span><span class=\"txto\">{ki}_ </span></span></span></div></div><div class=\"contnr c2 trm   \" ><div class=\"lbl c2 trm \" ><span class=\"nd\">word</span> <span class=\"txto\"><span class=\"plain   \" ><span class=\"txto\">2(disz) </span></span></span></div></div><div class=\"contnr c2 trm   \" ><div class=\"lbl c2 trm \" ><span class=\"nd\">word</span> <span class=\"txto\"><span class=\"plain   \" ><span class=\"txto\">szu-</span><span class=\"txto\">szi </span></span></span></div></div><div class=\"contnr c2 trm   \" ><div class=\"lbl c2 trm \" ><span class=\"nd\">word</span> <span class=\"txto\"><span class=\"plain   \" ><span class=\"txto\">x </span></span></span></div></div><div class=\"contnr c2 trm   \" ><div class=\"lbl c2 trm \" ><span class=\"nd\">word</span> <span class=\"txto\"><span class=\"plain   \" ><span class=\"txto\">[...]</span></span></span></div></div></div></div><div class=\"contnr c3    \" ><div class=\"lbl c3  \" ><span class=\"nd\">line</span></div><div class=\"children hor wrap \"><div class=\"contnr c2 trm   \" ><div class=\"lbl c2 trm \" ><span class=\"nd\">word</span> <span class=\"txto\"><span class=\"plain   \" ><span class=\"txto\">_iri</span><span class=\"txto\">{ki}_ </span></span></span></div></div><div class=\"contnr c2 trm   \" ><div class=\"lbl c2 trm \" ><span class=\"nd\">word</span> <span class=\"txto\"><span class=\"plain   \" ><span class=\"txto\">ka-</span><span class=\"txto\">lu-</span><span class=\"txto\">szu </span></span></span></div></div><div class=\"contnr c2 trm   \" ><div class=\"lbl c2 trm \" ><span class=\"nd\">word</span> <span class=\"txto\"><span class=\"plain   \" ><span class=\"txto\">a-</span><span class=\"txto\">na </span></span></span></div></div><div class=\"contnr c2 trm   \" ><div class=\"lbl c2 trm \" ><span class=\"nd\">word</span> <span class=\"txto\"><span class=\"plain   \" ><span class=\"txto\">szu-</span><span class=\"txto\">nu-</span><span class=\"txto\">szi-</span><span class=\"txto\">im-</span><span class=\"txto\">ma </span></span></span></div></div><div class=\"contnr c2 trm   \" ><div class=\"lbl c2 trm \" ><span class=\"nd\">word</span> <span class=\"txto\"><span class=\"plain   \" ><span class=\"txto\">x </span></span></span></div></div><div class=\"contnr c2 trm   \" ><div class=\"lbl c2 trm \" ><span class=\"nd\">word</span> <span class=\"txto\"><span class=\"plain   \" ><span class=\"txto\">[...]</span></span></span></div></div></div></div><div class=\"contnr c3    \" ><div class=\"lbl c3  \" ><span class=\"nd\">line</span></div><div class=\"children hor wrap \"><div class=\"contnr c2 trm   \" ><div class=\"lbl c2 trm \" ><span class=\"nd\">word</span> <span class=\"txto\"><span class=\"plain   \" ><span class=\"txto\">isz-</span><span class=\"txto\">tu </span></span></span></div></div><div class=\"contnr c2 trm   \" ><div class=\"lbl c2 trm \" ><span class=\"nd\">word</span> <span class=\"txto\"><span class=\"plain   \" ><span class=\"txto\">sze-</span><span class=\"txto\">um </span></span></span></div></div><div class=\"contnr c2 trm   \" ><div class=\"lbl c2 trm \" ><span class=\"nd\">word</span> <span class=\"txto\"><span class=\"plain   \" ><span class=\"txto\">a-</span><span class=\"txto\">na </span></span></span></div></div><div class=\"contnr c2 trm   \" ><div class=\"lbl c2 trm \" ><span class=\"nd\">word</span> <span class=\"txto\"><span class=\"plain   \" ><span class=\"txto\">ma-</span><span class=\"txto\">asz-</span><span class=\"txto\">ka-</span><span class=\"txto\">nim </span></span></span></div></div><div class=\"contnr c2 trm   \" ><div class=\"lbl c2 trm \" ><span class=\"nd\">word</span> <span class=\"txto\"><span class=\"plain   \" ><span class=\"txto\">i-</span><span class=\"txto\">lu-</span><span class=\"txto\">u2</span></span></span></div></div></div></div><div class=\"contnr c3    \" ><div class=\"lbl c3  \" ><span class=\"nd\">line</span></div><div class=\"children hor wrap \"><div class=\"contnr c2 trm   \" ><div class=\"lbl c2 trm \" ><span class=\"nd\">word</span> <span class=\"txto\"><span class=\"plain   \" ><span class=\"txto\">_3(u) </span></span></span></div></div><div class=\"contnr c2 trm   \" ><div class=\"lbl c2 trm \" ><span class=\"nd\">word</span> <span class=\"txto\"><span class=\"plain   \" ><span class=\"txto\">aga-</span><span class=\"txto\">us2-</span><span class=\"txto\">ta-</span><span class=\"txto\">am3_ </span></span></span></div></div><div class=\"contnr c2 trm   \" ><div class=\"lbl c2 trm \" ><span class=\"nd\">word</span> <span class=\"txto\"><span class=\"plain   \" ><span class=\"txto\">i-</span><span class=\"txto\">na </span></span></span></div></div><div class=\"contnr c2 trm   \" ><div class=\"lbl c2 trm \" ><span class=\"nd\">word</span> <span class=\"txto\"><span class=\"plain   \" ><span class=\"txto\">ma-</span><span class=\"txto\">ah-</span><span class=\"txto\">ri-</span><span class=\"txto\">szu-</span><span class=\"txto\">nu#</span></span></span></div></div></div></div><div class=\"contnr c3    \" ><div class=\"lbl c3  \" ><span class=\"nd\">line</span></div><div class=\"children hor wrap \"><div class=\"contnr c2 trm   \" ><div class=\"lbl c2 trm \" ><span class=\"nd\">word</span> <span class=\"txto\"><span class=\"plain   \" ><span class=\"txto\">u2-</span><span class=\"txto\">ul </span></span></span></div></div><div class=\"contnr c2 trm   \" ><div class=\"lbl c2 trm \" ><span class=\"nd\">word</span> <span class=\"txto\"><span class=\"plain   \" ><span class=\"txto\">ip-</span><span class=\"txto\">pa-</span><span class=\"txto\">at,-</span><span class=\"txto\">t,a-</span><span class=\"txto\">ru </span></span></span></div></div><div class=\"contnr c2 trm   \" ><div class=\"lbl c2 trm \" ><span class=\"nd\">word</span> <span class=\"txto\"><span class=\"plain   \" ><span class=\"txto\">a-</span><span class=\"txto\">na-</span><span class=\"txto\">ku </span></span></span></div></div><div class=\"contnr c2 trm   \" ><div class=\"lbl c2 trm \" ><span class=\"nd\">word</span> <span class=\"txto\"><span class=\"plain   \" ><span class=\"txto\">i-</span><span class=\"txto\">na# </span></span></span></div></div><div class=\"contnr c2 trm   \" ><div class=\"lbl c2 trm \" ><span class=\"nd\">word</span> <span class=\"txto\"><span class=\"plain   \" ><span class=\"txto\">_lu2# </span></span></span></div></div><div class=\"contnr c2 trm   \" ><div class=\"lbl c2 trm \" ><span class=\"nd\">word</span> <span class=\"txto\"><span class=\"plain   \" ><span class=\"txto\">hun-</span><span class=\"txto\">ga2-</span><span class=\"txto\">mesz#_-</span><span class=\"txto\">ma</span></span></span></div></div></div></div><div class=\"contnr c3    \" ><div class=\"lbl c3  \" ><span class=\"nd\">line</span></div><div class=\"children hor wrap \"><div class=\"contnr c2 trm   \" ><div class=\"lbl c2 trm \" ><span class=\"nd\">word</span> <span class=\"txto\"><span class=\"plain   \" ><span class=\"txto\">am-</span><span class=\"txto\">ta-</span><span class=\"txto\">ah-</span><span class=\"txto\">ha-</span><span class=\"txto\">as, </span></span></span></div></div><div class=\"contnr c2 trm   \" ><div class=\"lbl c2 trm \" ><span class=\"nd\">word</span> <span class=\"txto\"><span class=\"plain   \" ><span class=\"txto\">i-</span><span class=\"txto\">na </span></span></span></div></div><div class=\"contnr c2 trm   \" ><div class=\"lbl c2 trm \" ><span class=\"nd\">word</span> <span class=\"txto\"><span class=\"plain   \" ><span class=\"txto\">pa-</span><span class=\"txto\">ni-</span><span class=\"txto\">ia </span></span></span></div></div><div class=\"contnr c2 trm   \" ><div class=\"lbl c2 trm \" ><span class=\"nd\">word</span> <span class=\"txto\"><span class=\"plain   \" ><span class=\"txto\">ki-</span><span class=\"txto\">i#-</span><span class=\"txto\">[x]-</span><span class=\"txto\">x-</span><span class=\"txto\">ka-</span><span class=\"txto\">am</span></span></span></div></div></div></div><div class=\"contnr c3    \" ><div class=\"lbl c3  \" ><span class=\"nd\">line</span></div><div class=\"children hor wrap \"><div class=\"contnr c2 trm   \" ><div class=\"lbl c2 trm \" ><span class=\"nd\">word</span> <span class=\"txto\"><span class=\"plain   \" ><span class=\"txto\">asz-</span><span class=\"txto\">szum </span></span></span></div></div><div class=\"contnr c2 trm   \" ><div class=\"lbl c2 trm \" ><span class=\"nd\">word</span> <span class=\"txto\"><span class=\"plain   \" ><span class=\"txto\">sze-</span><span class=\"txto\">e </span></span></span></div></div><div class=\"contnr c2 trm   \" ><div class=\"lbl c2 trm \" ><span class=\"nd\">word</span> <span class=\"txto\"><span class=\"plain   \" ><span class=\"txto\">hal-</span><span class=\"txto\">hal-</span><span class=\"txto\">la</span><span class=\"txto\">{ki} </span></span></span></div></div><div class=\"contnr c2 trm   \" ><div class=\"lbl c2 trm \" ><span class=\"nd\">word</span> <span class=\"txto\"><span class=\"plain   \" ><span class=\"txto\">sza </span></span></span></div></div><div class=\"contnr c2 trm   \" ><div class=\"lbl c2 trm \" ><span class=\"nd\">word</span> <span class=\"txto\"><span class=\"plain   \" ><span class=\"txto\">[x </span></span></span></div></div><div class=\"contnr c2 trm   \" ><div class=\"lbl c2 trm \" ><span class=\"nd\">word</span> <span class=\"txto\"><span class=\"plain   \" ><span class=\"txto\">x </span></span></span></div></div><div class=\"contnr c2 trm   \" ><div class=\"lbl c2 trm \" ><span class=\"nd\">word</span> <span class=\"txto\"><span class=\"plain   \" ><span class=\"txto\">(x)] </span></span></span></div></div><div class=\"contnr c2 trm   \" ><div class=\"lbl c2 trm \" ><span class=\"nd\">word</span> <span class=\"txto\"><span class=\"plain   \" ><span class=\"txto\">x </span></span></span></div></div><div class=\"contnr c2 trm   \" ><div class=\"lbl c2 trm \" ><span class=\"nd\">word</span> <span class=\"txto\"><span class=\"plain   \" ><span class=\"txto\">x </span></span></span></div></div><div class=\"contnr c2 trm   \" ><div class=\"lbl c2 trm \" ><span class=\"nd\">word</span> <span class=\"txto\"><span class=\"plain   \" ><span class=\"txto\">[...]</span></span></span></div></div></div></div><div class=\"contnr c3    \" ><div class=\"lbl c3  \" ><span class=\"nd\">line</span></div><div class=\"children hor wrap \"><div class=\"contnr c2 trm   \" ><div class=\"lbl c2 trm \" ><span class=\"nd\">word</span> <span class=\"txto\"><span class=\"plain   \" ><span class=\"txto\">x </span></span></span></div></div><div class=\"contnr c2 trm   \" ><div class=\"lbl c2 trm \" ><span class=\"nd\">word</span> <span class=\"txto\"><span class=\"plain   \" ><span class=\"txto\">[x </span></span></span></div></div><div class=\"contnr c2 trm   \" ><div class=\"lbl c2 trm \" ><span class=\"nd\">word</span> <span class=\"txto\"><span class=\"plain   \" ><span class=\"txto\">x </span></span></span></div></div><div class=\"contnr c2 trm   \" ><div class=\"lbl c2 trm \" ><span class=\"nd\">word</span> <span class=\"txto\"><span class=\"plain   \" ><span class=\"txto\">x </span></span></span></div></div><div class=\"contnr c2 trm   \" ><div class=\"lbl c2 trm \" ><span class=\"nd\">word</span> <span class=\"txto\"><span class=\"plain   \" ><span class=\"txto\">x </span></span></span></div></div><div class=\"contnr c2 trm   \" ><div class=\"lbl c2 trm \" ><span class=\"nd\">word</span> <span class=\"txto\"><span class=\"plain   \" ><span class=\"txto\">x </span></span></span></div></div><div class=\"contnr c2 trm   \" ><div class=\"lbl c2 trm \" ><span class=\"nd\">word</span> <span class=\"txto\"><span class=\"plain   \" ><span class=\"txto\">(x)] </span></span></span></div></div><div class=\"contnr c2 trm   \" ><div class=\"lbl c2 trm \" ><span class=\"nd\">word</span> <span class=\"txto\"><span class=\"plain   \" ><span class=\"txto\">x-</span><span class=\"txto\">ni#-</span><span class=\"txto\">isz </span></span></span></div></div><div class=\"contnr c2 trm   \" ><div class=\"lbl c2 trm \" ><span class=\"nd\">word</span> <span class=\"txto\"><span class=\"plain   \" ><span class=\"txto\">[...]</span></span></span></div></div></div></div><div class=\"contnr c3    \" ><div class=\"lbl c3  \" ><span class=\"nd\">line</span></div><div class=\"children hor wrap \"><div class=\"contnr c0 trm   \" ><div class=\"lbl c0 trm \" ><span class=\"txto\"><span>$</span> rest broken</span></div><div class='features'><span class=\"type xft\" ><span class=\"f\">type=</span>commentline</span></div></div></div></div></div></div></div>"
      ],
      "text/plain": [
       "<IPython.core.display.HTML object>"
      ]
     },
     "metadata": {},
     "output_type": "display_data"
    },
    {
     "data": {
      "text/html": [
       "<p><b>face</b> <i>2</i></p>"
      ],
      "text/plain": [
       "<IPython.core.display.HTML object>"
      ]
     },
     "metadata": {},
     "output_type": "display_data"
    },
    {
     "data": {
      "text/html": [
       "<div class=\"section \"><a target=\"_blank\" href=\"https://cdli.ucla.edu/search/search_results.php?SearchMode=Text&amp;ObjectID=P510556\" title=\"Show this document on CDLI\" sec=\"P510556 reverse\">P510556 reverse</a></div><div class=\" children\"><div class=\"contnr c4    \" ><div class=\"lbl c4  \" ><span class=\"nd\">face</span> <span class=\"txto\"><span class=\"section\">P510556 reverse</span></span></div><div class=\"children hor wrap \"><div class=\"contnr c3    \" ><div class=\"lbl c3  \" ><span class=\"nd\">line</span></div><div class=\"children hor wrap \"><div class=\"contnr c2 trm   \" ><div class=\"lbl c2 trm \" ><span class=\"nd\">word</span> <span class=\"txto\"><span class=\"plain   \" ><span class=\"txto\">a-</span><span class=\"txto\">di# </span></span></span></div></div><div class=\"contnr c2 trm   \" ><div class=\"lbl c2 trm \" ><span class=\"nd\">word</span> <span class=\"txto\"><span class=\"plain   \" ><span class=\"txto\">i-</span><span class=\"txto\">na#-</span><span class=\"txto\">an#-</span><span class=\"txto\">na# </span></span></span></div></div><div class=\"contnr c2 trm   \" ><div class=\"lbl c2 trm \" ><span class=\"nd\">word</span> <span class=\"txto\"><span class=\"plain   \" ><span class=\"txto\">x </span></span></span></div></div><div class=\"contnr c2 trm   \" ><div class=\"lbl c2 trm \" ><span class=\"nd\">word</span> <span class=\"txto\"><span class=\"plain   \" ><span class=\"txto\">[...]</span></span></span></div></div></div></div><div class=\"contnr c3    \" ><div class=\"lbl c3  \" ><span class=\"nd\">line</span></div><div class=\"children hor wrap \"><div class=\"contnr c2 trm   \" ><div class=\"lbl c2 trm \" ><span class=\"nd\">word</span> <span class=\"txto\"><span class=\"plain   \" ><span class=\"txto\">sze-</span><span class=\"txto\">e </span></span></span></div></div><div class=\"contnr c2 trm   \" ><div class=\"lbl c2 trm \" ><span class=\"nd\">word</span> <span class=\"txto\"><span class=\"plain   \" ><span class=\"txto\">be-</span><span class=\"txto\">li2-</span><span class=\"txto\">ia </span></span></span></div></div><div class=\"contnr c2 trm   \" ><div class=\"lbl c2 trm \" ><span class=\"nd\">word</span> <span class=\"txto\"><span class=\"plain   \" ><span class=\"txto\">ki-</span><span class=\"txto\">ma </span></span></span></div></div><div class=\"contnr c2 trm   \" ><div class=\"lbl c2 trm \" ><span class=\"nd\">word</span> <span class=\"txto\"><span class=\"plain   \" ><span class=\"txto\">x </span></span></span></div></div><div class=\"contnr c2 trm   \" ><div class=\"lbl c2 trm \" ><span class=\"nd\">word</span> <span class=\"txto\"><span class=\"plain   \" ><span class=\"txto\">[...]</span></span></span></div></div></div></div><div class=\"contnr c3    \" ><div class=\"lbl c3  \" ><span class=\"nd\">line</span></div><div class=\"children hor wrap \"><div class=\"contnr c2 trm   \" ><div class=\"lbl c2 trm \" ><span class=\"nd\">word</span> <span class=\"txto\"><span class=\"plain   \" ><span class=\"txto\">sze-</span><span class=\"txto\">um </span></span></span></div></div><div class=\"contnr c2 trm   \" ><div class=\"lbl c2 trm \" ><span class=\"nd\">word</span> <span class=\"txto\"><span class=\"plain   \" ><span class=\"txto\">sza </span></span></span></div></div><div class=\"contnr c2 trm   \" ><div class=\"lbl c2 trm \" ><span class=\"nd\">word</span> <span class=\"txto\"><span class=\"plain   \" ><span class=\"txto\">i-</span><span class=\"txto\">na </span></span></span></div></div><div class=\"contnr c2 trm   \" ><div class=\"lbl c2 trm \" ><span class=\"nd\">word</span> <span class=\"txto\"><span class=\"plain   \" ><span class=\"txto\">iri-</span><span class=\"txto\">{d}</span><span class=\"txto\">gu-</span><span class=\"txto\">la#</span><span class=\"txto\">[{ki} </span></span></span></div></div><div class=\"contnr c2 trm   \" ><div class=\"lbl c2 trm \" ><span class=\"nd\">word</span> <span class=\"txto\"><span class=\"plain   \" ><span class=\"txto\">...]</span></span></span></div></div></div></div><div class=\"contnr c3    \" ><div class=\"lbl c3  \" ><span class=\"nd\">line</span></div><div class=\"children hor wrap \"><div class=\"contnr c2 trm   \" ><div class=\"lbl c2 trm \" ><span class=\"nd\">word</span> <span class=\"txto\"><span class=\"plain   \" ><span class=\"txto\">ib-</span><span class=\"txto\">ba-</span><span class=\"txto\">szu-</span><span class=\"txto\">u2 </span></span></span></div></div><div class=\"contnr c2 trm   \" ><div class=\"lbl c2 trm \" ><span class=\"nd\">word</span> <span class=\"txto\"><span class=\"plain   \" ><span class=\"plain   hl\" ><span class=\"txto\">_5(gesz2) </span></span></span></span></div></div><div class=\"contnr c2 trm   \" ><div class=\"lbl c2 trm \" ><span class=\"nd\">word</span> <span class=\"txto\"><span class=\"plain   \" ><span class=\"txto\">3(u) </span></span></span></div></div><div class=\"contnr c2 trm   \" ><div class=\"lbl c2 trm \" ><span class=\"nd\">word</span> <span class=\"txto\"><span class=\"plain   \" ><span class=\"txto\">sze </span></span></span></div></div><div class=\"contnr c2 trm   \" ><div class=\"lbl c2 trm \" ><span class=\"nd\">word</span> <span class=\"txto\"><span class=\"plain   \" ><span class=\"txto\">gur </span></span></span></div></div><div class=\"contnr c2 trm   \" ><div class=\"lbl c2 trm \" ><span class=\"nd\">word</span> <span class=\"txto\"><span class=\"plain   \" ><span class=\"txto\">{gesz#}</span><span class=\"txto\">ban2#_ </span></span></span></div></div><div class=\"contnr c2 trm   \" ><div class=\"lbl c2 trm \" ><span class=\"nd\">word</span> <span class=\"txto\"><span class=\"plain   \" ><span class=\"txto\">{gesz#}</span><span class=\"txto\">me-</span><span class=\"txto\">sze-</span><span class=\"txto\">qum#</span></span></span></div></div></div></div><div class=\"contnr c3    \" ><div class=\"lbl c3  \" ><span class=\"nd\">line</span></div><div class=\"children hor wrap \"><div class=\"contnr c2 trm   \" ><div class=\"lbl c2 trm \" ><span class=\"nd\">word</span> <span class=\"txto\"><span class=\"plain   \" ><span class=\"txto\">sza </span></span></span></div></div><div class=\"contnr c2 trm   \" ><div class=\"lbl c2 trm \" ><span class=\"nd\">word</span> <span class=\"txto\"><span class=\"plain   \" ><span class=\"txto\">a-</span><span class=\"txto\">na </span></span></span></div></div><div class=\"contnr c2 trm   \" ><div class=\"lbl c2 trm \" ><span class=\"nd\">word</span> <span class=\"txto\"><span class=\"plain   \" ><span class=\"txto\">zimbir</span><span class=\"txto\">{ki} </span></span></span></div></div><div class=\"contnr c2 trm   \" ><div class=\"lbl c2 trm \" ><span class=\"nd\">word</span> <span class=\"txto\"><span class=\"plain   \" ><span class=\"txto\">il-</span><span class=\"txto\">li-</span><span class=\"txto\">kam</span></span></span></div></div></div></div><div class=\"contnr c3    \" ><div class=\"lbl c3  \" ><span class=\"nd\">line</span></div><div class=\"children hor wrap \"><div class=\"contnr c2 trm   \" ><div class=\"lbl c2 trm \" ><span class=\"nd\">word</span> <span class=\"txto\"><span class=\"plain   \" ><span class=\"txto\">_1(gesz2) </span></span></span></div></div><div class=\"contnr c2 trm   \" ><div class=\"lbl c2 trm \" ><span class=\"nd\">word</span> <span class=\"txto\"><span class=\"plain   \" ><span class=\"txto\">sze </span></span></span></div></div><div class=\"contnr c2 trm   \" ><div class=\"lbl c2 trm \" ><span class=\"nd\">word</span> <span class=\"txto\"><span class=\"plain   \" ><span class=\"txto\">gur </span></span></span></div></div><div class=\"contnr c2 trm   \" ><div class=\"lbl c2 trm \" ><span class=\"nd\">word</span> <span class=\"txto\"><span class=\"plain   \" ><span class=\"txto\">{gesz}</span><span class=\"txto\">ban2_ </span></span></span></div></div><div class=\"contnr c2 trm   \" ><div class=\"lbl c2 trm \" ><span class=\"nd\">word</span> <span class=\"txto\"><span class=\"plain   \" ><span class=\"txto\">{gesz}</span><span class=\"txto\">me-</span><span class=\"txto\">sze-</span><span class=\"txto\">qum </span></span></span></div></div><div class=\"contnr c2 trm   \" ><div class=\"lbl c2 trm \" ><span class=\"nd\">word</span> <span class=\"txto\"><span class=\"plain   \" ><span class=\"txto\">a-</span><span class=\"txto\">na </span></span></span></div></div><div class=\"contnr c2 trm   \" ><div class=\"lbl c2 trm \" ><span class=\"nd\">word</span> <span class=\"txto\"><span class=\"plain   \" ><span class=\"txto\">_al-</span><span class=\"txto\">du3_</span></span></span></div></div></div></div><div class=\"contnr c3    \" ><div class=\"lbl c3  \" ><span class=\"nd\">line</span></div><div class=\"children hor wrap \"><div class=\"contnr c2 trm   \" ><div class=\"lbl c2 trm \" ><span class=\"nd\">word</span> <span class=\"txto\"><span class=\"plain   \" ><span class=\"txto\">in-</span><span class=\"txto\">ne-</span><span class=\"txto\">ez-</span><span class=\"txto\">ba-</span><span class=\"txto\">am</span></span></span></div></div></div></div><div class=\"contnr c3    \" ><div class=\"lbl c3  \" ><span class=\"nd\">line</span></div><div class=\"children hor wrap \"><div class=\"contnr c2 trm   \" ><div class=\"lbl c2 trm \" ><span class=\"nd\">word</span> <span class=\"txto\"><span class=\"plain   \" ><span class=\"txto\">_szunigin </span></span></span></div></div><div class=\"contnr c2 trm   \" ><div class=\"lbl c2 trm \" ><span class=\"nd\">word</span> <span class=\"txto\"><span class=\"plain   \" ><span class=\"plain   hl\" ><span class=\"txto\">6(gesz2) </span></span></span></span></div></div><div class=\"contnr c2 trm   \" ><div class=\"lbl c2 trm \" ><span class=\"nd\">word</span> <span class=\"txto\"><span class=\"plain   \" ><span class=\"txto\">2(u) </span></span></span></div></div><div class=\"contnr c2 trm   \" ><div class=\"lbl c2 trm \" ><span class=\"nd\">word</span> <span class=\"txto\"><span class=\"plain   \" ><span class=\"txto\">1(asz) </span></span></span></div></div><div class=\"contnr c2 trm   \" ><div class=\"lbl c2 trm \" ><span class=\"nd\">word</span> <span class=\"txto\"><span class=\"plain   \" ><span class=\"plain   hl\" ><span class=\"txto\">5(ban2) </span></span></span></span></div></div><div class=\"contnr c2 trm   \" ><div class=\"lbl c2 trm \" ><span class=\"nd\">word</span> <span class=\"txto\"><span class=\"plain   \" ><span class=\"txto\">sze </span></span></span></div></div><div class=\"contnr c2 trm   \" ><div class=\"lbl c2 trm \" ><span class=\"nd\">word</span> <span class=\"txto\"><span class=\"plain   \" ><span class=\"txto\">gur </span></span></span></div></div><div class=\"contnr c2 trm   \" ><div class=\"lbl c2 trm \" ><span class=\"nd\">word</span> <span class=\"txto\"><span class=\"plain   \" ><span class=\"txto\">{gesz}</span><span class=\"txto\">ban2#_ </span></span></span></div></div><div class=\"contnr c2 trm   \" ><div class=\"lbl c2 trm \" ><span class=\"nd\">word</span> <span class=\"txto\"><span class=\"plain   \" ><span class=\"txto\">[{gesz}</span><span class=\"txto\">me]-</span><span class=\"txto\">sze#-</span><span class=\"txto\">qum</span></span></span></div></div></div></div><div class=\"contnr c3    \" ><div class=\"lbl c3  \" ><span class=\"nd\">line</span></div><div class=\"children hor wrap \"><div class=\"contnr c2 trm   \" ><div class=\"lbl c2 trm \" ><span class=\"nd\">word</span> <span class=\"txto\"><span class=\"plain   \" ><span class=\"txto\">sza </span></span></span></div></div><div class=\"contnr c2 trm   \" ><div class=\"lbl c2 trm \" ><span class=\"nd\">word</span> <span class=\"txto\"><span class=\"plain   \" ><span class=\"txto\">i-</span><span class=\"txto\">na </span></span></span></div></div><div class=\"contnr c2 trm   \" ><div class=\"lbl c2 trm \" ><span class=\"nd\">word</span> <span class=\"txto\"><span class=\"plain   \" ><span class=\"txto\">iri-</span><span class=\"txto\">{d}</span><span class=\"txto\">gu-</span><span class=\"txto\">la</span><span class=\"txto\">{ki} </span></span></span></div></div><div class=\"contnr c2 trm   \" ><div class=\"lbl c2 trm \" ><span class=\"nd\">word</span> <span class=\"txto\"><span class=\"plain   \" ><span class=\"txto\">ib-</span><span class=\"txto\">ba-</span><span class=\"txto\">szu-</span><span class=\"txto\">[u2 </span></span></span></div></div><div class=\"contnr c2 trm   \" ><div class=\"lbl c2 trm \" ><span class=\"nd\">word</span> <span class=\"txto\"><span class=\"plain   \" ><span class=\"txto\">...]</span></span></span></div></div></div></div><div class=\"contnr c3    \" ><div class=\"lbl c3  \" ><span class=\"nd\">line</span></div><div class=\"children hor wrap \"><div class=\"contnr c2 trm   \" ><div class=\"lbl c2 trm \" ><span class=\"nd\">word</span> <span class=\"txto\"><span class=\"plain   \" ><span class=\"txto\">asz-</span><span class=\"txto\">szum </span></span></span></div></div><div class=\"contnr c2 trm   \" ><div class=\"lbl c2 trm \" ><span class=\"nd\">word</span> <span class=\"txto\"><span class=\"plain   \" ><span class=\"txto\">tup-</span><span class=\"txto\">pi2 </span></span></span></div></div><div class=\"contnr c2 trm   \" ><div class=\"lbl c2 trm \" ><span class=\"nd\">word</span> <span class=\"txto\"><span class=\"plain   \" ><span class=\"txto\">sza </span></span></span></div></div><div class=\"contnr c2 trm   \" ><div class=\"lbl c2 trm \" ><span class=\"nd\">word</span> <span class=\"txto\"><span class=\"plain   \" ><span class=\"txto\">a-</span><span class=\"txto\">na </span></span></span></div></div><div class=\"contnr c2 trm   \" ><div class=\"lbl c2 trm \" ><span class=\"nd\">word</span> <span class=\"txto\"><span class=\"plain   \" ><span class=\"txto\">ig-</span><span class=\"txto\">mil-</span><span class=\"txto\">{d}</span><span class=\"txto\">suen# </span></span></span></div></div><div class=\"contnr c2 trm   \" ><div class=\"lbl c2 trm \" ><span class=\"nd\">word</span> <span class=\"txto\"><span class=\"plain   \" ><span class=\"txto\">[...]</span></span></span></div></div></div></div><div class=\"contnr c3    \" ><div class=\"lbl c3  \" ><span class=\"nd\">line</span></div><div class=\"children hor wrap \"><div class=\"contnr c2 trm   \" ><div class=\"lbl c2 trm \" ><span class=\"nd\">word</span> <span class=\"txto\"><span class=\"plain   \" ><span class=\"txto\">szu-</span><span class=\"txto\">bu-</span><span class=\"txto\">lim </span></span></span></div></div><div class=\"contnr c2 trm   \" ><div class=\"lbl c2 trm \" ><span class=\"nd\">word</span> <span class=\"txto\"><span class=\"plain   \" ><span class=\"txto\">sza </span></span></span></div></div><div class=\"contnr c2 trm   \" ><div class=\"lbl c2 trm \" ><span class=\"nd\">word</span> <span class=\"txto\"><span class=\"plain   \" ><span class=\"txto\">a-</span><span class=\"txto\">na </span></span></span></div></div><div class=\"contnr c2 trm   \" ><div class=\"lbl c2 trm \" ><span class=\"nd\">word</span> <span class=\"txto\"><span class=\"plain   \" ><span class=\"txto\">be#-</span><span class=\"txto\">li2#-</span><span class=\"txto\">ia# </span></span></span></div></div><div class=\"contnr c2 trm   \" ><div class=\"lbl c2 trm \" ><span class=\"nd\">word</span> <span class=\"txto\"><span class=\"plain   \" ><span class=\"txto\">[x </span></span></span></div></div><div class=\"contnr c2 trm   \" ><div class=\"lbl c2 trm \" ><span class=\"nd\">word</span> <span class=\"txto\"><span class=\"plain   \" ><span class=\"txto\">x </span></span></span></div></div><div class=\"contnr c2 trm   \" ><div class=\"lbl c2 trm \" ><span class=\"nd\">word</span> <span class=\"txto\"><span class=\"plain   \" ><span class=\"txto\">(x) </span></span></span></div></div><div class=\"contnr c2 trm   \" ><div class=\"lbl c2 trm \" ><span class=\"nd\">word</span> <span class=\"txto\"><span class=\"plain   \" ><span class=\"txto\">(x)]</span></span></span></div></div></div></div><div class=\"contnr c3    \" ><div class=\"lbl c3  \" ><span class=\"nd\">line</span></div><div class=\"children hor wrap \"><div class=\"contnr c2 trm   \" ><div class=\"lbl c2 trm \" ><span class=\"nd\">word</span> <span class=\"txto\"><span class=\"plain   \" ><span class=\"txto\">asz-</span><span class=\"txto\">pur-</span><span class=\"txto\">am-</span><span class=\"txto\">ma </span></span></span></div></div><div class=\"contnr c2 trm   \" ><div class=\"lbl c2 trm \" ><span class=\"nd\">word</span> <span class=\"txto\"><span class=\"plain   \" ><span class=\"txto\">um#-</span><span class=\"txto\">[ma </span></span></span></div></div><div class=\"contnr c2 trm   \" ><div class=\"lbl c2 trm \" ><span class=\"nd\">word</span> <span class=\"txto\"><span class=\"plain   \" ><span class=\"txto\">be-</span><span class=\"txto\">li2-</span><span class=\"txto\">ma]</span></span></span></div></div></div></div><div class=\"contnr c3    \" ><div class=\"lbl c3  \" ><span class=\"nd\">line</span></div><div class=\"children hor wrap \"><div class=\"contnr c2 trm   \" ><div class=\"lbl c2 trm \" ><span class=\"nd\">word</span> <span class=\"txto\"><span class=\"plain   \" ><span class=\"txto\">tup-</span><span class=\"txto\">pa-</span><span class=\"txto\">am </span></span></span></div></div><div class=\"contnr c2 trm   \" ><div class=\"lbl c2 trm \" ><span class=\"nd\">word</span> <span class=\"txto\"><span class=\"plain   \" ><span class=\"txto\">a-</span><span class=\"txto\">na </span></span></span></div></div><div class=\"contnr c2 trm   \" ><div class=\"lbl c2 trm \" ><span class=\"nd\">word</span> <span class=\"txto\"><span class=\"plain   \" ><span class=\"txto\">ig-</span><span class=\"txto\">mil-</span><span class=\"txto\">{d}</span><span class=\"txto\">suen# </span></span></span></div></div><div class=\"contnr c2 trm   \" ><div class=\"lbl c2 trm \" ><span class=\"nd\">word</span> <span class=\"txto\"><span class=\"plain   \" ><span class=\"txto\">[...]</span></span></span></div></div></div></div><div class=\"contnr c3    \" ><div class=\"lbl c3  \" ><span class=\"nd\">line</span></div><div class=\"children hor wrap \"><div class=\"contnr c2 trm   \" ><div class=\"lbl c2 trm \" ><span class=\"nd\">word</span> <span class=\"txto\"><span class=\"plain   \" ><span class=\"txto\">usz-</span><span class=\"txto\">ta-</span><span class=\"txto\">bi-</span><span class=\"txto\">lam </span></span></span></div></div><div class=\"contnr c2 trm   \" ><div class=\"lbl c2 trm \" ><span class=\"nd\">word</span> <span class=\"txto\"><span class=\"plain   \" ><span class=\"txto\">tup-</span><span class=\"txto\">pi2 </span></span></span></div></div><div class=\"contnr c2 trm   \" ><div class=\"lbl c2 trm \" ><span class=\"nd\">word</span> <span class=\"txto\"><span class=\"plain   \" ><span class=\"txto\">be-</span><span class=\"txto\">li2-</span><span class=\"txto\">ia </span></span></span></div></div><div class=\"contnr c2 trm   \" ><div class=\"lbl c2 trm \" ><span class=\"nd\">word</span> <span class=\"txto\"><span class=\"plain   \" ><span class=\"txto\">mi-</span><span class=\"txto\">im#-</span><span class=\"txto\">ma#</span></span></span></div></div></div></div><div class=\"contnr c3    \" ><div class=\"lbl c3  \" ><span class=\"nd\">line</span></div><div class=\"children hor wrap \"><div class=\"contnr c2 trm   \" ><div class=\"lbl c2 trm \" ><span class=\"nd\">word</span> <span class=\"txto\"><span class=\"plain   \" ><span class=\"txto\">a-</span><span class=\"txto\">na </span></span></span></div></div><div class=\"contnr c2 trm   \" ><div class=\"lbl c2 trm \" ><span class=\"nd\">word</span> <span class=\"txto\"><span class=\"plain   \" ><span class=\"txto\">ig-</span><span class=\"txto\">mil-</span><span class=\"txto\">{d}</span><span class=\"txto\">suen </span></span></span></div></div><div class=\"contnr c2 trm   \" ><div class=\"lbl c2 trm \" ><span class=\"nd\">word</span> <span class=\"txto\"><span class=\"plain   \" ><span class=\"txto\">u2-</span><span class=\"txto\">ul </span></span></span></div></div><div class=\"contnr c2 trm   \" ><div class=\"lbl c2 trm \" ><span class=\"nd\">word</span> <span class=\"txto\"><span class=\"plain   \" ><span class=\"txto\">il-</span><span class=\"txto\">li-</span><span class=\"txto\">kam</span></span></span></div></div></div></div><div class=\"contnr c3    \" ><div class=\"lbl c3  \" ><span class=\"nd\">line</span></div><div class=\"children hor wrap \"><div class=\"contnr c2 trm   \" ><div class=\"lbl c2 trm \" ><span class=\"nd\">word</span> <span class=\"txto\"><span class=\"plain   \" ><span class=\"txto\">tup-</span><span class=\"txto\">pi2 </span></span></span></div></div><div class=\"contnr c2 trm   \" ><div class=\"lbl c2 trm \" ><span class=\"nd\">word</span> <span class=\"txto\"><span class=\"plain   \" ><span class=\"txto\">be-</span><span class=\"txto\">li2-</span><span class=\"txto\">ia </span></span></span></div></div><div class=\"contnr c2 trm   \" ><div class=\"lbl c2 trm \" ><span class=\"nd\">word</span> <span class=\"txto\"><span class=\"plain   \" ><span class=\"txto\">a-</span><span class=\"txto\">na </span></span></span></div></div><div class=\"contnr c2 trm   \" ><div class=\"lbl c2 trm \" ><span class=\"nd\">word</span> <span class=\"txto\"><span class=\"plain   \" ><span class=\"txto\">ig-</span><span class=\"txto\">mil-</span><span class=\"txto\">{d}</span><span class=\"txto\">suen</span></span></span></div></div></div></div><div class=\"contnr c3    \" ><div class=\"lbl c3  \" ><span class=\"nd\">line</span></div><div class=\"children hor wrap \"><div class=\"contnr c2 trm   \" ><div class=\"lbl c2 trm \" ><span class=\"nd\">word</span> <span class=\"txto\"><span class=\"plain   \" ><span class=\"txto\">ar-</span><span class=\"txto\">hi-</span><span class=\"txto\">isz </span></span></span></div></div><div class=\"contnr c2 trm   \" ><div class=\"lbl c2 trm \" ><span class=\"nd\">word</span> <span class=\"txto\"><span class=\"plain   \" ><span class=\"txto\">li-</span><span class=\"txto\">il-</span><span class=\"txto\">li-</span><span class=\"txto\">kam-</span><span class=\"txto\">ma</span></span></span></div></div></div></div><div class=\"contnr c3    \" ><div class=\"lbl c3  \" ><span class=\"nd\">line</span></div><div class=\"children hor wrap \"><div class=\"contnr c2 trm   \" ><div class=\"lbl c2 trm \" ><span class=\"nd\">word</span> <span class=\"txto\"><span class=\"plain   \" ><span class=\"txto\">sze-</span><span class=\"txto\">am </span></span></span></div></div><div class=\"contnr c2 trm   \" ><div class=\"lbl c2 trm \" ><span class=\"nd\">word</span> <span class=\"txto\"><span class=\"plain   \" ><span class=\"txto\">lu-</span><span class=\"txto\">ut-</span><span class=\"txto\">ba-</span><span class=\"txto\">lam</span></span></span></div></div></div></div></div></div></div>"
      ],
      "text/plain": [
       "<IPython.core.display.HTML object>"
      ]
     },
     "metadata": {},
     "output_type": "display_data"
    }
   ],
   "source": [
    "A.show(results, end=2, condensed=True, condenseType=\"face\")"
   ]
  },
  {
   "cell_type": "markdown",
   "metadata": {},
   "source": [
    "We now see the the displays of two faces, one with two numerals in it and one with three."
   ]
  },
  {
   "cell_type": "markdown",
   "metadata": {},
   "source": [
    "# Custom highlighting\n",
    "\n",
    "Let us make a new search where we look for two different things in the same line.\n",
    "\n",
    "We can apply different highlight colors to different parts of the result.\n",
    "The signs in the pair are member 0 and 1 of the result tuples.\n",
    "The members that we do not map, will not be highlighted.\n",
    "The members that we map to the empty string will be highlighted with the default color.\n",
    "\n",
    "**NB:** Choose your colors from the\n",
    "[CSS specification](https://developer.mozilla.org/en-US/docs/Web/CSS/color_value)."
   ]
  },
  {
   "cell_type": "code",
   "execution_count": 14,
   "metadata": {
    "ExecuteTime": {
     "end_time": "2018-05-24T07:47:14.547656Z",
     "start_time": "2018-05-24T07:47:14.544433Z"
    }
   },
   "outputs": [],
   "source": [
    "query = \"\"\"\n",
    "line\n",
    "  sign missing=1\n",
    "  sign question=1\n",
    "  sign damage=1\n",
    "\"\"\""
   ]
  },
  {
   "cell_type": "code",
   "execution_count": 15,
   "metadata": {
    "ExecuteTime": {
     "end_time": "2018-05-24T07:47:18.913432Z",
     "start_time": "2018-05-24T07:47:17.357992Z"
    }
   },
   "outputs": [
    {
     "name": "stdout",
     "output_type": "stream",
     "text": [
      "  0.61s 776 results\n"
     ]
    },
    {
     "data": {
      "text/html": [
       "<table><tr class=\"tf ltr\"><th class=\"tf ltr\">n</th><th class=\"tf ltr\">p</th><th class=\"tf ltr\">line</th><th class=\"tf\">sign</th><th class=\"tf\">sign</th><th class=\"tf\">sign</th></tr>\n",
       "<tr class=\"tf ltr\"><td class=\"tf ltr\">1</td><td class=\"tf ltr\"><span class=\"section ltr\"><a target=\"_blank\" href=\"https://cdli.ucla.edu/search/search_results.php?SearchMode=Text&amp;ObjectID=P510530\" title=\"Show this document on CDLI\" sec=\"P510530 obverse:5\">P510530 obverse:5</a></span></td><td class=\"tf ltr\"><div class=\"\"><span class=\"txto\">{disz}</span><span class=\"plain   hl\" ><span class=\"txto\">[{d}</span></span><span class=\"txto\">x]-</span><span class=\"plain   hl\" ><span class=\"txto\">ra#?-</span></span><span class=\"txto\">bi </span><span class=\"txto\">il-</span><span class=\"txto\">qe2-</span><span class=\"txto\">a-</span><span class=\"txto\">am-</span><span class=\"txto\">ma</span></div></td><td class=\"tf ltr\"><div class=\"\"><span class=\"plain   hl\" ><span class=\"txto\">[{d}</span></span></div></td><td class=\"tf ltr\"><div class=\"\"><span class=\"plain   hl\" ><span class=\"txto\">ra#?-</span></span></div></td><td class=\"tf ltr\"><div class=\"\"><span class=\"plain   hl\" ><span class=\"txto\">ra#?-</span></span></div></td></tr>\n",
       "<tr class=\"tf ltr\"><td class=\"tf ltr\">2</td><td class=\"tf ltr\"><span class=\"section ltr\"><a target=\"_blank\" href=\"https://cdli.ucla.edu/search/search_results.php?SearchMode=Text&amp;ObjectID=P510530\" title=\"Show this document on CDLI\" sec=\"P510530 obverse:5\">P510530 obverse:5</a></span></td><td class=\"tf ltr\"><div class=\"\"><span class=\"txto\">{disz}</span><span class=\"txto\">[{d}</span><span class=\"plain   hl\" ><span class=\"txto\">x]-</span></span><span class=\"plain   hl\" ><span class=\"txto\">ra#?-</span></span><span class=\"txto\">bi </span><span class=\"txto\">il-</span><span class=\"txto\">qe2-</span><span class=\"txto\">a-</span><span class=\"txto\">am-</span><span class=\"txto\">ma</span></div></td><td class=\"tf ltr\"><div class=\"\"><span class=\"plain   hl\" ><span class=\"txto\">x]-</span></span></div></td><td class=\"tf ltr\"><div class=\"\"><span class=\"plain   hl\" ><span class=\"txto\">ra#?-</span></span></div></td><td class=\"tf ltr\"><div class=\"\"><span class=\"plain   hl\" ><span class=\"txto\">ra#?-</span></span></div></td></tr>\n",
       "<tr class=\"tf ltr\"><td class=\"tf ltr\">3</td><td class=\"tf ltr\"><span class=\"section ltr\"><a target=\"_blank\" href=\"https://cdli.ucla.edu/search/search_results.php?SearchMode=Text&amp;ObjectID=P510530\" title=\"Show this document on CDLI\" sec=\"P510530 reverse:11\">P510530 reverse:11</a></span></td><td class=\"tf ltr\"><div class=\"\"><span class=\"plain   hl\" ><span class=\"txto\">[szu-</span></span><span class=\"txto\">bu-</span><span class=\"plain   hl\" ><span class=\"txto\">lim?] </span></span><span class=\"plain   hl\" ><span class=\"txto\">sza# </span></span><span class=\"txto\">ta-</span><span class=\"txto\">asz-</span><span class=\"txto\">pu-</span><span class=\"txto\">ra-</span><span class=\"txto\">am</span></div></td><td class=\"tf ltr\"><div class=\"\"><span class=\"plain   hl\" ><span class=\"txto\">[szu-</span></span></div></td><td class=\"tf ltr\"><div class=\"\"><span class=\"plain   hl\" ><span class=\"txto\">lim?] </span></span></div></td><td class=\"tf ltr\"><div class=\"\"><span class=\"plain   hl\" ><span class=\"txto\">sza# </span></span></div></td></tr>\n",
       "<tr class=\"tf ltr\"><td class=\"tf ltr\">4</td><td class=\"tf ltr\"><span class=\"section ltr\"><a target=\"_blank\" href=\"https://cdli.ucla.edu/search/search_results.php?SearchMode=Text&amp;ObjectID=P510530\" title=\"Show this document on CDLI\" sec=\"P510530 reverse:11\">P510530 reverse:11</a></span></td><td class=\"tf ltr\"><div class=\"\"><span class=\"txto\">[szu-</span><span class=\"plain   hl\" ><span class=\"txto\">bu-</span></span><span class=\"plain   hl\" ><span class=\"txto\">lim?] </span></span><span class=\"plain   hl\" ><span class=\"txto\">sza# </span></span><span class=\"txto\">ta-</span><span class=\"txto\">asz-</span><span class=\"txto\">pu-</span><span class=\"txto\">ra-</span><span class=\"txto\">am</span></div></td><td class=\"tf ltr\"><div class=\"\"><span class=\"plain   hl\" ><span class=\"txto\">bu-</span></span></div></td><td class=\"tf ltr\"><div class=\"\"><span class=\"plain   hl\" ><span class=\"txto\">lim?] </span></span></div></td><td class=\"tf ltr\"><div class=\"\"><span class=\"plain   hl\" ><span class=\"txto\">sza# </span></span></div></td></tr>\n",
       "<tr class=\"tf ltr\"><td class=\"tf ltr\">5</td><td class=\"tf ltr\"><span class=\"section ltr\"><a target=\"_blank\" href=\"https://cdli.ucla.edu/search/search_results.php?SearchMode=Text&amp;ObjectID=P510530\" title=\"Show this document on CDLI\" sec=\"P510530 reverse:11\">P510530 reverse:11</a></span></td><td class=\"tf ltr\"><div class=\"\"><span class=\"txto\">[szu-</span><span class=\"txto\">bu-</span><span class=\"plain   hl\" ><span class=\"txto\">lim?] </span></span><span class=\"plain   hl\" ><span class=\"txto\">sza# </span></span><span class=\"txto\">ta-</span><span class=\"txto\">asz-</span><span class=\"txto\">pu-</span><span class=\"txto\">ra-</span><span class=\"txto\">am</span></div></td><td class=\"tf ltr\"><div class=\"\"><span class=\"plain   hl\" ><span class=\"txto\">lim?] </span></span></div></td><td class=\"tf ltr\"><div class=\"\"><span class=\"plain   hl\" ><span class=\"txto\">lim?] </span></span></div></td><td class=\"tf ltr\"><div class=\"\"><span class=\"plain   hl\" ><span class=\"txto\">sza# </span></span></div></td></tr>\n",
       "<tr class=\"tf ltr\"><td class=\"tf ltr\">6</td><td class=\"tf ltr\"><span class=\"section ltr\"><a target=\"_blank\" href=\"https://cdli.ucla.edu/search/search_results.php?SearchMode=Text&amp;ObjectID=P510534\" title=\"Show this document on CDLI\" sec=\"P510534 reverse:15'\">P510534 reverse:15'</a></span></td><td class=\"tf ltr\"><div class=\"\"><span class=\"plain   hl\" ><span class=\"txto\">li#-</span></span><span class=\"txto\">iq#-</span><span class=\"txto\">bi-</span><span class=\"txto\">ma </span><span class=\"txto\">da-</span><span class=\"txto\">ba-</span><span class=\"txto\">ab#-</span><span class=\"txto\">szu </span><span class=\"plain   hl\" ><span class=\"txto\">li#?-</span></span><span class=\"txto\">in-</span><span class=\"txto\">na-</span><span class=\"txto\">me-</span><span class=\"plain   hl\" ><span class=\"txto\">[er]</span></span></div></td><td class=\"tf ltr\"><div class=\"\"><span class=\"plain   hl\" ><span class=\"txto\">[er]</span></span></div></td><td class=\"tf ltr\"><div class=\"\"><span class=\"plain   hl\" ><span class=\"txto\">li#?-</span></span></div></td><td class=\"tf ltr\"><div class=\"\"><span class=\"plain   hl\" ><span class=\"txto\">li#-</span></span></div></td></tr>\n",
       "<tr class=\"tf ltr\"><td class=\"tf ltr\">7</td><td class=\"tf ltr\"><span class=\"section ltr\"><a target=\"_blank\" href=\"https://cdli.ucla.edu/search/search_results.php?SearchMode=Text&amp;ObjectID=P510534\" title=\"Show this document on CDLI\" sec=\"P510534 reverse:15'\">P510534 reverse:15'</a></span></td><td class=\"tf ltr\"><div class=\"\"><span class=\"txto\">li#-</span><span class=\"plain   hl\" ><span class=\"txto\">iq#-</span></span><span class=\"txto\">bi-</span><span class=\"txto\">ma </span><span class=\"txto\">da-</span><span class=\"txto\">ba-</span><span class=\"txto\">ab#-</span><span class=\"txto\">szu </span><span class=\"plain   hl\" ><span class=\"txto\">li#?-</span></span><span class=\"txto\">in-</span><span class=\"txto\">na-</span><span class=\"txto\">me-</span><span class=\"plain   hl\" ><span class=\"txto\">[er]</span></span></div></td><td class=\"tf ltr\"><div class=\"\"><span class=\"plain   hl\" ><span class=\"txto\">[er]</span></span></div></td><td class=\"tf ltr\"><div class=\"\"><span class=\"plain   hl\" ><span class=\"txto\">li#?-</span></span></div></td><td class=\"tf ltr\"><div class=\"\"><span class=\"plain   hl\" ><span class=\"txto\">iq#-</span></span></div></td></tr>\n",
       "<tr class=\"tf ltr\"><td class=\"tf ltr\">8</td><td class=\"tf ltr\"><span class=\"section ltr\"><a target=\"_blank\" href=\"https://cdli.ucla.edu/search/search_results.php?SearchMode=Text&amp;ObjectID=P510534\" title=\"Show this document on CDLI\" sec=\"P510534 reverse:15'\">P510534 reverse:15'</a></span></td><td class=\"tf ltr\"><div class=\"\"><span class=\"txto\">li#-</span><span class=\"txto\">iq#-</span><span class=\"txto\">bi-</span><span class=\"txto\">ma </span><span class=\"txto\">da-</span><span class=\"txto\">ba-</span><span class=\"plain   hl\" ><span class=\"txto\">ab#-</span></span><span class=\"txto\">szu </span><span class=\"plain   hl\" ><span class=\"txto\">li#?-</span></span><span class=\"txto\">in-</span><span class=\"txto\">na-</span><span class=\"txto\">me-</span><span class=\"plain   hl\" ><span class=\"txto\">[er]</span></span></div></td><td class=\"tf ltr\"><div class=\"\"><span class=\"plain   hl\" ><span class=\"txto\">[er]</span></span></div></td><td class=\"tf ltr\"><div class=\"\"><span class=\"plain   hl\" ><span class=\"txto\">li#?-</span></span></div></td><td class=\"tf ltr\"><div class=\"\"><span class=\"plain   hl\" ><span class=\"txto\">ab#-</span></span></div></td></tr>\n",
       "<tr class=\"tf ltr\"><td class=\"tf ltr\">9</td><td class=\"tf ltr\"><span class=\"section ltr\"><a target=\"_blank\" href=\"https://cdli.ucla.edu/search/search_results.php?SearchMode=Text&amp;ObjectID=P510534\" title=\"Show this document on CDLI\" sec=\"P510534 reverse:15'\">P510534 reverse:15'</a></span></td><td class=\"tf ltr\"><div class=\"\"><span class=\"txto\">li#-</span><span class=\"txto\">iq#-</span><span class=\"txto\">bi-</span><span class=\"txto\">ma </span><span class=\"txto\">da-</span><span class=\"txto\">ba-</span><span class=\"txto\">ab#-</span><span class=\"txto\">szu </span><span class=\"plain   hl\" ><span class=\"txto\">li#?-</span></span><span class=\"txto\">in-</span><span class=\"txto\">na-</span><span class=\"txto\">me-</span><span class=\"plain   hl\" ><span class=\"txto\">[er]</span></span></div></td><td class=\"tf ltr\"><div class=\"\"><span class=\"plain   hl\" ><span class=\"txto\">[er]</span></span></div></td><td class=\"tf ltr\"><div class=\"\"><span class=\"plain   hl\" ><span class=\"txto\">li#?-</span></span></div></td><td class=\"tf ltr\"><div class=\"\"><span class=\"plain   hl\" ><span class=\"txto\">li#?-</span></span></div></td></tr>\n",
       "<tr class=\"tf ltr\"><td class=\"tf ltr\">10</td><td class=\"tf ltr\"><span class=\"section ltr\"><a target=\"_blank\" href=\"https://cdli.ucla.edu/search/search_results.php?SearchMode=Text&amp;ObjectID=P510534\" title=\"Show this document on CDLI\" sec=\"P510534 reverse:20'\">P510534 reverse:20'</a></span></td><td class=\"tf ltr\"><div class=\"\"><span class=\"plain   hl\" ><span class=\"txto\">li#-</span></span><span class=\"txto\">il#-</span><span class=\"plain   hl\" ><span class=\"txto\">qe2#?-</span></span><span class=\"plain   hl\" ><span class=\"txto\">[szu-</span></span><span class=\"txto\">ma?]</span></div></td><td class=\"tf ltr\"><div class=\"\"><span class=\"plain   hl\" ><span class=\"txto\">[szu-</span></span></div></td><td class=\"tf ltr\"><div class=\"\"><span class=\"plain   hl\" ><span class=\"txto\">qe2#?-</span></span></div></td><td class=\"tf ltr\"><div class=\"\"><span class=\"plain   hl\" ><span class=\"txto\">li#-</span></span></div></td></tr></table>"
      ],
      "text/plain": [
       "<IPython.core.display.HTML object>"
      ]
     },
     "metadata": {},
     "output_type": "display_data"
    }
   ],
   "source": [
    "results = A.search(query)\n",
    "A.table(results, end=10, baseTypes=\"sign\")"
   ]
  },
  {
   "cell_type": "code",
   "execution_count": 16,
   "metadata": {},
   "outputs": [
    {
     "data": {
      "text/html": [
       "<table><tr class=\"tf ltr\"><th class=\"tf ltr\">n</th><th class=\"tf ltr\">p</th><th class=\"tf ltr\">line</th><th class=\"tf\">sign</th><th class=\"tf\">sign</th><th class=\"tf\">sign</th></tr>\n",
       "<tr class=\"tf ltr\"><td class=\"tf ltr\">1</td><td class=\"tf ltr\"><span class=\"section ltr\"><a target=\"_blank\" href=\"https://cdli.ucla.edu/search/search_results.php?SearchMode=Text&amp;ObjectID=P510530\" title=\"Show this document on CDLI\" sec=\"P510530 obverse:5\">P510530 obverse:5</a></span></td><td class=\"tf ltr\"><div class=\"\"><span class=\"txto\">{disz}</span><span class=\"plain   hl\"  style=\"background-color: cyan;\" ><span class=\"txto\">[{d}</span></span><span class=\"txto\">x]-</span><span class=\"plain   hl\"  style=\"background-color: magenta;\" ><span class=\"txto\">ra#?-</span></span><span class=\"txto\">bi </span><span class=\"txto\">il-</span><span class=\"txto\">qe2-</span><span class=\"txto\">a-</span><span class=\"txto\">am-</span><span class=\"txto\">ma</span></div></td><td class=\"tf ltr\"><div class=\"\"><span class=\"plain   hl\"  style=\"background-color: cyan;\" ><span class=\"txto\">[{d}</span></span></div></td><td class=\"tf ltr\"><div class=\"\"><span class=\"plain   hl\"  style=\"background-color: magenta;\" ><span class=\"txto\">ra#?-</span></span></div></td><td class=\"tf ltr\"><div class=\"\"><span class=\"plain   hl\"  style=\"background-color: magenta;\" ><span class=\"txto\">ra#?-</span></span></div></td></tr>\n",
       "<tr class=\"tf ltr\"><td class=\"tf ltr\">2</td><td class=\"tf ltr\"><span class=\"section ltr\"><a target=\"_blank\" href=\"https://cdli.ucla.edu/search/search_results.php?SearchMode=Text&amp;ObjectID=P510530\" title=\"Show this document on CDLI\" sec=\"P510530 obverse:5\">P510530 obverse:5</a></span></td><td class=\"tf ltr\"><div class=\"\"><span class=\"txto\">{disz}</span><span class=\"txto\">[{d}</span><span class=\"plain   hl\"  style=\"background-color: cyan;\" ><span class=\"txto\">x]-</span></span><span class=\"plain   hl\"  style=\"background-color: magenta;\" ><span class=\"txto\">ra#?-</span></span><span class=\"txto\">bi </span><span class=\"txto\">il-</span><span class=\"txto\">qe2-</span><span class=\"txto\">a-</span><span class=\"txto\">am-</span><span class=\"txto\">ma</span></div></td><td class=\"tf ltr\"><div class=\"\"><span class=\"plain   hl\"  style=\"background-color: cyan;\" ><span class=\"txto\">x]-</span></span></div></td><td class=\"tf ltr\"><div class=\"\"><span class=\"plain   hl\"  style=\"background-color: magenta;\" ><span class=\"txto\">ra#?-</span></span></div></td><td class=\"tf ltr\"><div class=\"\"><span class=\"plain   hl\"  style=\"background-color: magenta;\" ><span class=\"txto\">ra#?-</span></span></div></td></tr>\n",
       "<tr class=\"tf ltr\"><td class=\"tf ltr\">3</td><td class=\"tf ltr\"><span class=\"section ltr\"><a target=\"_blank\" href=\"https://cdli.ucla.edu/search/search_results.php?SearchMode=Text&amp;ObjectID=P510530\" title=\"Show this document on CDLI\" sec=\"P510530 reverse:11\">P510530 reverse:11</a></span></td><td class=\"tf ltr\"><div class=\"\"><span class=\"plain   hl\"  style=\"background-color: cyan;\" ><span class=\"txto\">[szu-</span></span><span class=\"txto\">bu-</span><span class=\"plain   hl\"  style=\"background-color: magenta;\" ><span class=\"txto\">lim?] </span></span><span class=\"plain   hl\"  style=\"background-color: lightsalmon;\" ><span class=\"txto\">sza# </span></span><span class=\"txto\">ta-</span><span class=\"txto\">asz-</span><span class=\"txto\">pu-</span><span class=\"txto\">ra-</span><span class=\"txto\">am</span></div></td><td class=\"tf ltr\"><div class=\"\"><span class=\"plain   hl\"  style=\"background-color: cyan;\" ><span class=\"txto\">[szu-</span></span></div></td><td class=\"tf ltr\"><div class=\"\"><span class=\"plain   hl\"  style=\"background-color: magenta;\" ><span class=\"txto\">lim?] </span></span></div></td><td class=\"tf ltr\"><div class=\"\"><span class=\"plain   hl\"  style=\"background-color: lightsalmon;\" ><span class=\"txto\">sza# </span></span></div></td></tr>\n",
       "<tr class=\"tf ltr\"><td class=\"tf ltr\">4</td><td class=\"tf ltr\"><span class=\"section ltr\"><a target=\"_blank\" href=\"https://cdli.ucla.edu/search/search_results.php?SearchMode=Text&amp;ObjectID=P510530\" title=\"Show this document on CDLI\" sec=\"P510530 reverse:11\">P510530 reverse:11</a></span></td><td class=\"tf ltr\"><div class=\"\"><span class=\"txto\">[szu-</span><span class=\"plain   hl\"  style=\"background-color: cyan;\" ><span class=\"txto\">bu-</span></span><span class=\"plain   hl\"  style=\"background-color: magenta;\" ><span class=\"txto\">lim?] </span></span><span class=\"plain   hl\"  style=\"background-color: lightsalmon;\" ><span class=\"txto\">sza# </span></span><span class=\"txto\">ta-</span><span class=\"txto\">asz-</span><span class=\"txto\">pu-</span><span class=\"txto\">ra-</span><span class=\"txto\">am</span></div></td><td class=\"tf ltr\"><div class=\"\"><span class=\"plain   hl\"  style=\"background-color: cyan;\" ><span class=\"txto\">bu-</span></span></div></td><td class=\"tf ltr\"><div class=\"\"><span class=\"plain   hl\"  style=\"background-color: magenta;\" ><span class=\"txto\">lim?] </span></span></div></td><td class=\"tf ltr\"><div class=\"\"><span class=\"plain   hl\"  style=\"background-color: lightsalmon;\" ><span class=\"txto\">sza# </span></span></div></td></tr>\n",
       "<tr class=\"tf ltr\"><td class=\"tf ltr\">5</td><td class=\"tf ltr\"><span class=\"section ltr\"><a target=\"_blank\" href=\"https://cdli.ucla.edu/search/search_results.php?SearchMode=Text&amp;ObjectID=P510530\" title=\"Show this document on CDLI\" sec=\"P510530 reverse:11\">P510530 reverse:11</a></span></td><td class=\"tf ltr\"><div class=\"\"><span class=\"txto\">[szu-</span><span class=\"txto\">bu-</span><span class=\"plain   hl\"  style=\"background-color: cyan;\" ><span class=\"txto\">lim?] </span></span><span class=\"plain   hl\"  style=\"background-color: lightsalmon;\" ><span class=\"txto\">sza# </span></span><span class=\"txto\">ta-</span><span class=\"txto\">asz-</span><span class=\"txto\">pu-</span><span class=\"txto\">ra-</span><span class=\"txto\">am</span></div></td><td class=\"tf ltr\"><div class=\"\"><span class=\"plain   hl\"  style=\"background-color: cyan;\" ><span class=\"txto\">lim?] </span></span></div></td><td class=\"tf ltr\"><div class=\"\"><span class=\"plain   hl\"  style=\"background-color: cyan;\" ><span class=\"txto\">lim?] </span></span></div></td><td class=\"tf ltr\"><div class=\"\"><span class=\"plain   hl\"  style=\"background-color: lightsalmon;\" ><span class=\"txto\">sza# </span></span></div></td></tr>\n",
       "<tr class=\"tf ltr\"><td class=\"tf ltr\">6</td><td class=\"tf ltr\"><span class=\"section ltr\"><a target=\"_blank\" href=\"https://cdli.ucla.edu/search/search_results.php?SearchMode=Text&amp;ObjectID=P510534\" title=\"Show this document on CDLI\" sec=\"P510534 reverse:15'\">P510534 reverse:15'</a></span></td><td class=\"tf ltr\"><div class=\"\"><span class=\"plain   hl\"  style=\"background-color: lightsalmon;\" ><span class=\"txto\">li#-</span></span><span class=\"txto\">iq#-</span><span class=\"txto\">bi-</span><span class=\"txto\">ma </span><span class=\"txto\">da-</span><span class=\"txto\">ba-</span><span class=\"txto\">ab#-</span><span class=\"txto\">szu </span><span class=\"plain   hl\"  style=\"background-color: magenta;\" ><span class=\"txto\">li#?-</span></span><span class=\"txto\">in-</span><span class=\"txto\">na-</span><span class=\"txto\">me-</span><span class=\"plain   hl\"  style=\"background-color: cyan;\" ><span class=\"txto\">[er]</span></span></div></td><td class=\"tf ltr\"><div class=\"\"><span class=\"plain   hl\"  style=\"background-color: cyan;\" ><span class=\"txto\">[er]</span></span></div></td><td class=\"tf ltr\"><div class=\"\"><span class=\"plain   hl\"  style=\"background-color: magenta;\" ><span class=\"txto\">li#?-</span></span></div></td><td class=\"tf ltr\"><div class=\"\"><span class=\"plain   hl\"  style=\"background-color: lightsalmon;\" ><span class=\"txto\">li#-</span></span></div></td></tr>\n",
       "<tr class=\"tf ltr\"><td class=\"tf ltr\">7</td><td class=\"tf ltr\"><span class=\"section ltr\"><a target=\"_blank\" href=\"https://cdli.ucla.edu/search/search_results.php?SearchMode=Text&amp;ObjectID=P510534\" title=\"Show this document on CDLI\" sec=\"P510534 reverse:15'\">P510534 reverse:15'</a></span></td><td class=\"tf ltr\"><div class=\"\"><span class=\"txto\">li#-</span><span class=\"plain   hl\"  style=\"background-color: lightsalmon;\" ><span class=\"txto\">iq#-</span></span><span class=\"txto\">bi-</span><span class=\"txto\">ma </span><span class=\"txto\">da-</span><span class=\"txto\">ba-</span><span class=\"txto\">ab#-</span><span class=\"txto\">szu </span><span class=\"plain   hl\"  style=\"background-color: magenta;\" ><span class=\"txto\">li#?-</span></span><span class=\"txto\">in-</span><span class=\"txto\">na-</span><span class=\"txto\">me-</span><span class=\"plain   hl\"  style=\"background-color: cyan;\" ><span class=\"txto\">[er]</span></span></div></td><td class=\"tf ltr\"><div class=\"\"><span class=\"plain   hl\"  style=\"background-color: cyan;\" ><span class=\"txto\">[er]</span></span></div></td><td class=\"tf ltr\"><div class=\"\"><span class=\"plain   hl\"  style=\"background-color: magenta;\" ><span class=\"txto\">li#?-</span></span></div></td><td class=\"tf ltr\"><div class=\"\"><span class=\"plain   hl\"  style=\"background-color: lightsalmon;\" ><span class=\"txto\">iq#-</span></span></div></td></tr>\n",
       "<tr class=\"tf ltr\"><td class=\"tf ltr\">8</td><td class=\"tf ltr\"><span class=\"section ltr\"><a target=\"_blank\" href=\"https://cdli.ucla.edu/search/search_results.php?SearchMode=Text&amp;ObjectID=P510534\" title=\"Show this document on CDLI\" sec=\"P510534 reverse:15'\">P510534 reverse:15'</a></span></td><td class=\"tf ltr\"><div class=\"\"><span class=\"txto\">li#-</span><span class=\"txto\">iq#-</span><span class=\"txto\">bi-</span><span class=\"txto\">ma </span><span class=\"txto\">da-</span><span class=\"txto\">ba-</span><span class=\"plain   hl\"  style=\"background-color: lightsalmon;\" ><span class=\"txto\">ab#-</span></span><span class=\"txto\">szu </span><span class=\"plain   hl\"  style=\"background-color: magenta;\" ><span class=\"txto\">li#?-</span></span><span class=\"txto\">in-</span><span class=\"txto\">na-</span><span class=\"txto\">me-</span><span class=\"plain   hl\"  style=\"background-color: cyan;\" ><span class=\"txto\">[er]</span></span></div></td><td class=\"tf ltr\"><div class=\"\"><span class=\"plain   hl\"  style=\"background-color: cyan;\" ><span class=\"txto\">[er]</span></span></div></td><td class=\"tf ltr\"><div class=\"\"><span class=\"plain   hl\"  style=\"background-color: magenta;\" ><span class=\"txto\">li#?-</span></span></div></td><td class=\"tf ltr\"><div class=\"\"><span class=\"plain   hl\"  style=\"background-color: lightsalmon;\" ><span class=\"txto\">ab#-</span></span></div></td></tr>\n",
       "<tr class=\"tf ltr\"><td class=\"tf ltr\">9</td><td class=\"tf ltr\"><span class=\"section ltr\"><a target=\"_blank\" href=\"https://cdli.ucla.edu/search/search_results.php?SearchMode=Text&amp;ObjectID=P510534\" title=\"Show this document on CDLI\" sec=\"P510534 reverse:15'\">P510534 reverse:15'</a></span></td><td class=\"tf ltr\"><div class=\"\"><span class=\"txto\">li#-</span><span class=\"txto\">iq#-</span><span class=\"txto\">bi-</span><span class=\"txto\">ma </span><span class=\"txto\">da-</span><span class=\"txto\">ba-</span><span class=\"txto\">ab#-</span><span class=\"txto\">szu </span><span class=\"plain   hl\"  style=\"background-color: magenta;\" ><span class=\"txto\">li#?-</span></span><span class=\"txto\">in-</span><span class=\"txto\">na-</span><span class=\"txto\">me-</span><span class=\"plain   hl\"  style=\"background-color: cyan;\" ><span class=\"txto\">[er]</span></span></div></td><td class=\"tf ltr\"><div class=\"\"><span class=\"plain   hl\"  style=\"background-color: cyan;\" ><span class=\"txto\">[er]</span></span></div></td><td class=\"tf ltr\"><div class=\"\"><span class=\"plain   hl\"  style=\"background-color: magenta;\" ><span class=\"txto\">li#?-</span></span></div></td><td class=\"tf ltr\"><div class=\"\"><span class=\"plain   hl\"  style=\"background-color: magenta;\" ><span class=\"txto\">li#?-</span></span></div></td></tr>\n",
       "<tr class=\"tf ltr\"><td class=\"tf ltr\">10</td><td class=\"tf ltr\"><span class=\"section ltr\"><a target=\"_blank\" href=\"https://cdli.ucla.edu/search/search_results.php?SearchMode=Text&amp;ObjectID=P510534\" title=\"Show this document on CDLI\" sec=\"P510534 reverse:20'\">P510534 reverse:20'</a></span></td><td class=\"tf ltr\"><div class=\"\"><span class=\"plain   hl\"  style=\"background-color: lightsalmon;\" ><span class=\"txto\">li#-</span></span><span class=\"txto\">il#-</span><span class=\"plain   hl\"  style=\"background-color: magenta;\" ><span class=\"txto\">qe2#?-</span></span><span class=\"plain   hl\"  style=\"background-color: cyan;\" ><span class=\"txto\">[szu-</span></span><span class=\"txto\">ma?]</span></div></td><td class=\"tf ltr\"><div class=\"\"><span class=\"plain   hl\"  style=\"background-color: cyan;\" ><span class=\"txto\">[szu-</span></span></div></td><td class=\"tf ltr\"><div class=\"\"><span class=\"plain   hl\"  style=\"background-color: magenta;\" ><span class=\"txto\">qe2#?-</span></span></div></td><td class=\"tf ltr\"><div class=\"\"><span class=\"plain   hl\"  style=\"background-color: lightsalmon;\" ><span class=\"txto\">li#-</span></span></div></td></tr></table>"
      ],
      "text/plain": [
       "<IPython.core.display.HTML object>"
      ]
     },
     "metadata": {},
     "output_type": "display_data"
    }
   ],
   "source": [
    "A.table(\n",
    "    results,\n",
    "    end=10,\n",
    "    baseTypes=\"sign\",\n",
    "    colorMap={0: \"\", 2: \"cyan\", 3: \"magenta\", 4: \"lightsalmon\"},\n",
    ")"
   ]
  },
  {
   "cell_type": "code",
   "execution_count": 17,
   "metadata": {
    "ExecuteTime": {
     "end_time": "2018-05-24T07:47:25.094797Z",
     "start_time": "2018-05-24T07:47:25.048277Z"
    }
   },
   "outputs": [
    {
     "data": {
      "text/html": [
       "<p><b>result</b> <i>1</i></p>"
      ],
      "text/plain": [
       "<IPython.core.display.HTML object>"
      ]
     },
     "metadata": {},
     "output_type": "display_data"
    },
    {
     "data": {
      "text/html": [
       "<div class=\"section \"><a target=\"_blank\" href=\"https://cdli.ucla.edu/search/search_results.php?SearchMode=Text&amp;ObjectID=P510530\" title=\"Show this document on CDLI\" sec=\"P510530 obverse:5\">P510530 obverse:5</a></div><div class=\" children\"><div class=\"contnr c3    \" ><div class=\"lbl c3  \" ><span class=\"nd\">line</span></div><div class=\"children hor wrap \"><div class=\"contnr c2 trm   \" ><div class=\"lbl c2 trm \" ><span class=\"nd\">word</span> <span class=\"txto\"><span class=\"plain   \" ><span class=\"txto\">{disz}</span><span class=\"plain   hl\"  style=\"background-color: cyan;\" ><span class=\"txto\">[{d}</span></span><span class=\"txto\">x]-</span><span class=\"plain   hl\"  style=\"background-color: magenta;\" ><span class=\"txto\">ra#?-</span></span><span class=\"txto\">bi </span></span></span></div></div><div class=\"contnr c2 trm   \" ><div class=\"lbl c2 trm \" ><span class=\"nd\">word</span> <span class=\"txto\"><span class=\"plain   \" ><span class=\"txto\">il-</span><span class=\"txto\">qe2-</span><span class=\"txto\">a-</span><span class=\"txto\">am-</span><span class=\"txto\">ma</span></span></span></div></div></div></div></div>"
      ],
      "text/plain": [
       "<IPython.core.display.HTML object>"
      ]
     },
     "metadata": {},
     "output_type": "display_data"
    },
    {
     "data": {
      "text/html": [
       "<p><b>result</b> <i>2</i></p>"
      ],
      "text/plain": [
       "<IPython.core.display.HTML object>"
      ]
     },
     "metadata": {},
     "output_type": "display_data"
    },
    {
     "data": {
      "text/html": [
       "<div class=\"section \"><a target=\"_blank\" href=\"https://cdli.ucla.edu/search/search_results.php?SearchMode=Text&amp;ObjectID=P510530\" title=\"Show this document on CDLI\" sec=\"P510530 obverse:5\">P510530 obverse:5</a></div><div class=\" children\"><div class=\"contnr c3    \" ><div class=\"lbl c3  \" ><span class=\"nd\">line</span></div><div class=\"children hor wrap \"><div class=\"contnr c2 trm   \" ><div class=\"lbl c2 trm \" ><span class=\"nd\">word</span> <span class=\"txto\"><span class=\"plain   \" ><span class=\"txto\">{disz}</span><span class=\"txto\">[{d}</span><span class=\"plain   hl\"  style=\"background-color: cyan;\" ><span class=\"txto\">x]-</span></span><span class=\"plain   hl\"  style=\"background-color: magenta;\" ><span class=\"txto\">ra#?-</span></span><span class=\"txto\">bi </span></span></span></div></div><div class=\"contnr c2 trm   \" ><div class=\"lbl c2 trm \" ><span class=\"nd\">word</span> <span class=\"txto\"><span class=\"plain   \" ><span class=\"txto\">il-</span><span class=\"txto\">qe2-</span><span class=\"txto\">a-</span><span class=\"txto\">am-</span><span class=\"txto\">ma</span></span></span></div></div></div></div></div>"
      ],
      "text/plain": [
       "<IPython.core.display.HTML object>"
      ]
     },
     "metadata": {},
     "output_type": "display_data"
    },
    {
     "data": {
      "text/html": [
       "<p><b>result</b> <i>3</i></p>"
      ],
      "text/plain": [
       "<IPython.core.display.HTML object>"
      ]
     },
     "metadata": {},
     "output_type": "display_data"
    },
    {
     "data": {
      "text/html": [
       "<div class=\"section \"><a target=\"_blank\" href=\"https://cdli.ucla.edu/search/search_results.php?SearchMode=Text&amp;ObjectID=P510530\" title=\"Show this document on CDLI\" sec=\"P510530 reverse:11\">P510530 reverse:11</a></div><div class=\" children\"><div class=\"contnr c3    \" ><div class=\"lbl c3  \" ><span class=\"nd\">line</span></div><div class=\"children hor wrap \"><div class=\"contnr c2 trm   \" ><div class=\"lbl c2 trm \" ><span class=\"nd\">word</span> <span class=\"txto\"><span class=\"plain   \" ><span class=\"plain   hl\"  style=\"background-color: cyan;\" ><span class=\"txto\">[szu-</span></span><span class=\"txto\">bu-</span><span class=\"plain   hl\"  style=\"background-color: magenta;\" ><span class=\"txto\">lim?] </span></span></span></span></div></div><div class=\"contnr c2 trm   \" ><div class=\"lbl c2 trm \" ><span class=\"nd\">word</span> <span class=\"txto\"><span class=\"plain   \" ><span class=\"plain   hl\"  style=\"background-color: lightsalmon;\" ><span class=\"txto\">sza# </span></span></span></span></div></div><div class=\"contnr c2 trm   \" ><div class=\"lbl c2 trm \" ><span class=\"nd\">word</span> <span class=\"txto\"><span class=\"plain   \" ><span class=\"txto\">ta-</span><span class=\"txto\">asz-</span><span class=\"txto\">pu-</span><span class=\"txto\">ra-</span><span class=\"txto\">am</span></span></span></div></div></div></div></div>"
      ],
      "text/plain": [
       "<IPython.core.display.HTML object>"
      ]
     },
     "metadata": {},
     "output_type": "display_data"
    },
    {
     "data": {
      "text/html": [
       "<p><b>result</b> <i>4</i></p>"
      ],
      "text/plain": [
       "<IPython.core.display.HTML object>"
      ]
     },
     "metadata": {},
     "output_type": "display_data"
    },
    {
     "data": {
      "text/html": [
       "<div class=\"section \"><a target=\"_blank\" href=\"https://cdli.ucla.edu/search/search_results.php?SearchMode=Text&amp;ObjectID=P510530\" title=\"Show this document on CDLI\" sec=\"P510530 reverse:11\">P510530 reverse:11</a></div><div class=\" children\"><div class=\"contnr c3    \" ><div class=\"lbl c3  \" ><span class=\"nd\">line</span></div><div class=\"children hor wrap \"><div class=\"contnr c2 trm   \" ><div class=\"lbl c2 trm \" ><span class=\"nd\">word</span> <span class=\"txto\"><span class=\"plain   \" ><span class=\"txto\">[szu-</span><span class=\"plain   hl\"  style=\"background-color: cyan;\" ><span class=\"txto\">bu-</span></span><span class=\"plain   hl\"  style=\"background-color: magenta;\" ><span class=\"txto\">lim?] </span></span></span></span></div></div><div class=\"contnr c2 trm   \" ><div class=\"lbl c2 trm \" ><span class=\"nd\">word</span> <span class=\"txto\"><span class=\"plain   \" ><span class=\"plain   hl\"  style=\"background-color: lightsalmon;\" ><span class=\"txto\">sza# </span></span></span></span></div></div><div class=\"contnr c2 trm   \" ><div class=\"lbl c2 trm \" ><span class=\"nd\">word</span> <span class=\"txto\"><span class=\"plain   \" ><span class=\"txto\">ta-</span><span class=\"txto\">asz-</span><span class=\"txto\">pu-</span><span class=\"txto\">ra-</span><span class=\"txto\">am</span></span></span></div></div></div></div></div>"
      ],
      "text/plain": [
       "<IPython.core.display.HTML object>"
      ]
     },
     "metadata": {},
     "output_type": "display_data"
    },
    {
     "data": {
      "text/html": [
       "<p><b>result</b> <i>5</i></p>"
      ],
      "text/plain": [
       "<IPython.core.display.HTML object>"
      ]
     },
     "metadata": {},
     "output_type": "display_data"
    },
    {
     "data": {
      "text/html": [
       "<div class=\"section \"><a target=\"_blank\" href=\"https://cdli.ucla.edu/search/search_results.php?SearchMode=Text&amp;ObjectID=P510530\" title=\"Show this document on CDLI\" sec=\"P510530 reverse:11\">P510530 reverse:11</a></div><div class=\" children\"><div class=\"contnr c3    \" ><div class=\"lbl c3  \" ><span class=\"nd\">line</span></div><div class=\"children hor wrap \"><div class=\"contnr c2 trm   \" ><div class=\"lbl c2 trm \" ><span class=\"nd\">word</span> <span class=\"txto\"><span class=\"plain   \" ><span class=\"txto\">[szu-</span><span class=\"txto\">bu-</span><span class=\"plain   hl\"  style=\"background-color: cyan;\" ><span class=\"txto\">lim?] </span></span></span></span></div></div><div class=\"contnr c2 trm   \" ><div class=\"lbl c2 trm \" ><span class=\"nd\">word</span> <span class=\"txto\"><span class=\"plain   \" ><span class=\"plain   hl\"  style=\"background-color: lightsalmon;\" ><span class=\"txto\">sza# </span></span></span></span></div></div><div class=\"contnr c2 trm   \" ><div class=\"lbl c2 trm \" ><span class=\"nd\">word</span> <span class=\"txto\"><span class=\"plain   \" ><span class=\"txto\">ta-</span><span class=\"txto\">asz-</span><span class=\"txto\">pu-</span><span class=\"txto\">ra-</span><span class=\"txto\">am</span></span></span></div></div></div></div></div>"
      ],
      "text/plain": [
       "<IPython.core.display.HTML object>"
      ]
     },
     "metadata": {},
     "output_type": "display_data"
    }
   ],
   "source": [
    "A.show(results, end=5, colorMap={0: \"\", 2: \"cyan\", 3: \"magenta\", 4: \"lightsalmon\"})"
   ]
  },
  {
   "cell_type": "markdown",
   "metadata": {},
   "source": [
    "Color mapping works best for uncondensed results. If you condense results, some nodes may occupy\n",
    "different positions in different results. It is unpredictable which color will be used\n",
    "for such nodes:"
   ]
  },
  {
   "cell_type": "code",
   "execution_count": 18,
   "metadata": {
    "ExecuteTime": {
     "end_time": "2018-05-24T07:47:25.094797Z",
     "start_time": "2018-05-24T07:47:25.048277Z"
    }
   },
   "outputs": [
    {
     "data": {
      "text/html": [
       "<p><b>line</b> <i>1</i></p>"
      ],
      "text/plain": [
       "<IPython.core.display.HTML object>"
      ]
     },
     "metadata": {},
     "output_type": "display_data"
    },
    {
     "data": {
      "text/html": [
       "<div class=\"section \"><a target=\"_blank\" href=\"https://cdli.ucla.edu/search/search_results.php?SearchMode=Text&amp;ObjectID=P510530\" title=\"Show this document on CDLI\" sec=\"P510530 obverse:5\">P510530 obverse:5</a></div><div class=\" children\"><div class=\"contnr c3    \" ><div class=\"lbl c3  \" ><span class=\"nd\">line</span></div><div class=\"children hor wrap \"><div class=\"contnr c2 trm   \" ><div class=\"lbl c2 trm \" ><span class=\"nd\">word</span> <span class=\"txto\"><span class=\"plain   \" ><span class=\"txto\">{disz}</span><span class=\"plain   hl\"  style=\"background-color: cyan;\" ><span class=\"txto\">[{d}</span></span><span class=\"plain   hl\"  style=\"background-color: magenta;\" ><span class=\"txto\">x]-</span></span><span class=\"plain   hl\"  style=\"background-color: lightsalmon;\" ><span class=\"txto\">ra#?-</span></span><span class=\"txto\">bi </span></span></span></div></div><div class=\"contnr c2 trm   \" ><div class=\"lbl c2 trm \" ><span class=\"nd\">word</span> <span class=\"txto\"><span class=\"plain   \" ><span class=\"txto\">il-</span><span class=\"txto\">qe2-</span><span class=\"txto\">a-</span><span class=\"txto\">am-</span><span class=\"txto\">ma</span></span></span></div></div></div></div></div>"
      ],
      "text/plain": [
       "<IPython.core.display.HTML object>"
      ]
     },
     "metadata": {},
     "output_type": "display_data"
    },
    {
     "data": {
      "text/html": [
       "<p><b>line</b> <i>2</i></p>"
      ],
      "text/plain": [
       "<IPython.core.display.HTML object>"
      ]
     },
     "metadata": {},
     "output_type": "display_data"
    },
    {
     "data": {
      "text/html": [
       "<div class=\"section \"><a target=\"_blank\" href=\"https://cdli.ucla.edu/search/search_results.php?SearchMode=Text&amp;ObjectID=P510530\" title=\"Show this document on CDLI\" sec=\"P510530 reverse:11\">P510530 reverse:11</a></div><div class=\" children\"><div class=\"contnr c3    \" ><div class=\"lbl c3  \" ><span class=\"nd\">line</span></div><div class=\"children hor wrap \"><div class=\"contnr c2 trm   \" ><div class=\"lbl c2 trm \" ><span class=\"nd\">word</span> <span class=\"txto\"><span class=\"plain   \" ><span class=\"plain   hl\"  style=\"background-color: cyan;\" ><span class=\"txto\">[szu-</span></span><span class=\"plain   hl\"  style=\"background-color: magenta;\" ><span class=\"txto\">bu-</span></span><span class=\"plain   hl\"  style=\"background-color: lightsalmon;\" ><span class=\"txto\">lim?] </span></span></span></span></div></div><div class=\"contnr c2 trm   \" ><div class=\"lbl c2 trm \" ><span class=\"nd\">word</span> <span class=\"txto\"><span class=\"plain   \" ><span class=\"plain   hl\" ><span class=\"txto\">sza# </span></span></span></span></div></div><div class=\"contnr c2 trm   \" ><div class=\"lbl c2 trm \" ><span class=\"nd\">word</span> <span class=\"txto\"><span class=\"plain   \" ><span class=\"txto\">ta-</span><span class=\"txto\">asz-</span><span class=\"txto\">pu-</span><span class=\"txto\">ra-</span><span class=\"txto\">am</span></span></span></div></div></div></div></div>"
      ],
      "text/plain": [
       "<IPython.core.display.HTML object>"
      ]
     },
     "metadata": {},
     "output_type": "display_data"
    },
    {
     "data": {
      "text/html": [
       "<p><b>line</b> <i>3</i></p>"
      ],
      "text/plain": [
       "<IPython.core.display.HTML object>"
      ]
     },
     "metadata": {},
     "output_type": "display_data"
    },
    {
     "data": {
      "text/html": [
       "<div class=\"section \"><a target=\"_blank\" href=\"https://cdli.ucla.edu/search/search_results.php?SearchMode=Text&amp;ObjectID=P510534\" title=\"Show this document on CDLI\" sec=\"P510534 reverse:15'\">P510534 reverse:15'</a></div><div class=\" children\"><div class=\"contnr c3    \" ><div class=\"lbl c3  \" ><span class=\"nd\">line</span></div><div class=\"children hor wrap \"><div class=\"contnr c2 trm   \" ><div class=\"lbl c2 trm \" ><span class=\"nd\">word</span> <span class=\"txto\"><span class=\"plain   \" ><span class=\"plain   hl\"  style=\"background-color: magenta;\" ><span class=\"txto\">li#-</span></span><span class=\"plain   hl\"  style=\"background-color: lightsalmon;\" ><span class=\"txto\">iq#-</span></span><span class=\"txto\">bi-</span><span class=\"txto\">ma </span></span></span></div></div><div class=\"contnr c2 trm   \" ><div class=\"lbl c2 trm \" ><span class=\"nd\">word</span> <span class=\"txto\"><span class=\"plain   \" ><span class=\"txto\">da-</span><span class=\"txto\">ba-</span><span class=\"plain   hl\" ><span class=\"txto\">ab#-</span></span><span class=\"txto\">szu </span></span></span></div></div><div class=\"contnr c2 trm   \" ><div class=\"lbl c2 trm \" ><span class=\"nd\">word</span> <span class=\"txto\"><span class=\"plain   \" ><span class=\"plain   hl\" ><span class=\"txto\">li#?-</span></span><span class=\"txto\">in-</span><span class=\"txto\">na-</span><span class=\"txto\">me-</span><span class=\"plain   hl\"  style=\"background-color: cyan;\" ><span class=\"txto\">[er]</span></span></span></span></div></div></div></div></div>"
      ],
      "text/plain": [
       "<IPython.core.display.HTML object>"
      ]
     },
     "metadata": {},
     "output_type": "display_data"
    },
    {
     "data": {
      "text/html": [
       "<p><b>line</b> <i>4</i></p>"
      ],
      "text/plain": [
       "<IPython.core.display.HTML object>"
      ]
     },
     "metadata": {},
     "output_type": "display_data"
    },
    {
     "data": {
      "text/html": [
       "<div class=\"section \"><a target=\"_blank\" href=\"https://cdli.ucla.edu/search/search_results.php?SearchMode=Text&amp;ObjectID=P510534\" title=\"Show this document on CDLI\" sec=\"P510534 reverse:20'\">P510534 reverse:20'</a></div><div class=\" children\"><div class=\"contnr c3    \" ><div class=\"lbl c3  \" ><span class=\"nd\">line</span></div><div class=\"children hor wrap \"><div class=\"contnr c2 trm   \" ><div class=\"lbl c2 trm \" ><span class=\"nd\">word</span> <span class=\"txto\"><span class=\"plain   \" ><span class=\"plain   hl\"  style=\"background-color: cyan;\" ><span class=\"txto\">li#-</span></span><span class=\"plain   hl\"  style=\"background-color: magenta;\" ><span class=\"txto\">il#-</span></span><span class=\"plain   hl\"  style=\"background-color: lightsalmon;\" ><span class=\"txto\">qe2#?-</span></span><span class=\"plain   hl\" ><span class=\"txto\">[szu-</span></span><span class=\"plain   hl\" ><span class=\"txto\">ma?]</span></span></span></span></div></div></div></div></div>"
      ],
      "text/plain": [
       "<IPython.core.display.HTML object>"
      ]
     },
     "metadata": {},
     "output_type": "display_data"
    },
    {
     "data": {
      "text/html": [
       "<p><b>line</b> <i>5</i></p>"
      ],
      "text/plain": [
       "<IPython.core.display.HTML object>"
      ]
     },
     "metadata": {},
     "output_type": "display_data"
    },
    {
     "data": {
      "text/html": [
       "<div class=\"section \"><a target=\"_blank\" href=\"https://cdli.ucla.edu/search/search_results.php?SearchMode=Text&amp;ObjectID=P510546\" title=\"Show this document on CDLI\" sec=\"P510546 obverse:1\">P510546 obverse:1</a></div><div class=\" children\"><div class=\"contnr c3    \" ><div class=\"lbl c3  \" ><span class=\"nd\">line</span></div><div class=\"children hor wrap \"><div class=\"contnr c2 trm   \" ><div class=\"lbl c2 trm \" ><span class=\"nd\">word</span> <span class=\"txto\"><span class=\"plain   \" ><span class=\"txto\">a-</span><span class=\"txto\">na </span></span></span></div></div><div class=\"contnr c2 trm   \" ><div class=\"lbl c2 trm \" ><span class=\"nd\">word</span> <span class=\"txto\"><span class=\"plain   \" ><span class=\"txto\">{d}</span><span class=\"plain   hl\"  style=\"background-color: cyan;\" ><span class=\"txto\">na#-</span></span><span class=\"plain   hl\"  style=\"background-color: magenta;\" ><span class=\"txto\">[bi-</span></span><span class=\"plain   hl\"  style=\"background-color: lightsalmon;\" ><span class=\"txto\">um-</span></span><span class=\"plain   hl\" ><span class=\"txto\">at-</span></span><span class=\"plain   hl\" ><span class=\"txto\">pa-</span></span><span class=\"plain   hl\" ><span class=\"txto\">lam?]</span></span></span></span></div></div></div></div></div>"
      ],
      "text/plain": [
       "<IPython.core.display.HTML object>"
      ]
     },
     "metadata": {},
     "output_type": "display_data"
    }
   ],
   "source": [
    "A.show(\n",
    "    results,\n",
    "    condensed=True,\n",
    "    end=5,\n",
    "    colorMap={0: \"\", 2: \"cyan\", 3: \"magenta\", 4: \"lightsalmon\"},\n",
    ")"
   ]
  },
  {
   "cell_type": "markdown",
   "metadata": {},
   "source": [
    "You can specify to what container you want to condense. By default, everything is condensed to lines.\n",
    "\n",
    "Let's change that to faces.\n",
    "Note that the `end` parameter counts the number of faces now."
   ]
  },
  {
   "cell_type": "code",
   "execution_count": 19,
   "metadata": {},
   "outputs": [
    {
     "data": {
      "text/html": [
       "<p><b>face</b> <i>1</i></p>"
      ],
      "text/plain": [
       "<IPython.core.display.HTML object>"
      ]
     },
     "metadata": {},
     "output_type": "display_data"
    },
    {
     "data": {
      "text/html": [
       "<div class=\"section \"><a target=\"_blank\" href=\"https://cdli.ucla.edu/search/search_results.php?SearchMode=Text&amp;ObjectID=P510530\" title=\"Show this document on CDLI\" sec=\"P510530 obverse\">P510530 obverse</a></div><div class=\" children\"><div class=\"contnr c4    \" ><div class=\"lbl c4  \" ><span class=\"nd\">face</span> <span class=\"txto\"><span class=\"section\">P510530 obverse</span></span></div><div class=\"children hor wrap \"><div class=\"contnr c3    \" ><div class=\"lbl c3  \" ><span class=\"nd\">line</span></div><div class=\"children hor wrap \"><div class=\"contnr c2 trm   \" ><div class=\"lbl c2 trm \" ><span class=\"nd\">word</span> <span class=\"txto\"><span class=\"plain   \" ><span class=\"txto\">[a-</span><span class=\"txto\">na] </span></span></span></div></div><div class=\"contnr c2 trm   \" ><div class=\"lbl c2 trm \" ><span class=\"nd\">word</span> <span class=\"txto\"><span class=\"plain   \" ><span class=\"txto\">dingir-</span><span class=\"txto\">szu-</span><span class=\"txto\">ib-</span><span class=\"txto\">ni</span></span></span></div></div></div></div><div class=\"contnr c3    \" ><div class=\"lbl c3  \" ><span class=\"nd\">line</span></div><div class=\"children hor wrap \"><div class=\"contnr c2 trm   \" ><div class=\"lbl c2 trm \" ><span class=\"nd\">word</span> <span class=\"txto\"><span class=\"plain   \" ><span class=\"txto\">[qi2]-</span><span class=\"txto\">bi2#-</span><span class=\"txto\">ma</span></span></span></div></div></div></div><div class=\"contnr c3    \" ><div class=\"lbl c3  \" ><span class=\"nd\">line</span></div><div class=\"children hor wrap \"><div class=\"contnr c2 trm   \" ><div class=\"lbl c2 trm \" ><span class=\"nd\">word</span> <span class=\"txto\"><span class=\"plain   \" ><span class=\"txto\">[um-</span><span class=\"txto\">ma </span></span></span></div></div><div class=\"contnr c2 trm   \" ><div class=\"lbl c2 trm \" ><span class=\"nd\">word</span> <span class=\"txto\"><span class=\"plain   \" ><span class=\"txto\">{d}</span><span class=\"txto\">na-</span><span class=\"txto\">bi]-</span><span class=\"txto\">um#-</span><span class=\"txto\">na-</span><span class=\"txto\">s,i-</span><span class=\"txto\">ir-</span><span class=\"txto\">ma</span></span></span></div></div></div></div><div class=\"contnr c3    \" ><div class=\"lbl c3  \" ><span class=\"nd\">line</span></div><div class=\"children hor wrap \"><div class=\"contnr c2 trm   \" ><div class=\"lbl c2 trm \" ><span class=\"nd\">word</span> <span class=\"txto\"><span class=\"plain   \" ><span class=\"txto\">[sze-</span><span class=\"txto\">a-</span><span class=\"txto\">am] </span></span></span></div></div><div class=\"contnr c2 trm   \" ><div class=\"lbl c2 trm \" ><span class=\"nd\">word</span> <span class=\"txto\"><span class=\"plain   \" ><span class=\"txto\">a-</span><span class=\"txto\">na </span></span></span></div></div><div class=\"contnr c2 trm   \" ><div class=\"lbl c2 trm \" ><span class=\"nd\">word</span> <span class=\"txto\"><span class=\"plain   \" ><span class=\"txto\">_al-</span><span class=\"txto\">du3_-</span><span class=\"txto\">e-</span><span class=\"txto\">ka</span></span></span></div></div></div></div><div class=\"contnr c3    hl\"  style=\"background-color: cyan;\" ><div class=\"lbl c3  hl\"  style=\"background-color: cyan;\" ><span class=\"nd\">line</span></div><div class=\"children hor wrap \"><div class=\"contnr c2 trm   \" ><div class=\"lbl c2 trm \" ><span class=\"nd\">word</span> <span class=\"txto\"><span class=\"plain   \" ><span class=\"txto\">{disz}</span><span class=\"plain   hl\"  style=\"background-color: magenta;\" ><span class=\"txto\">[{d}</span></span><span class=\"plain   hl\"  style=\"background-color: lightsalmon;\" ><span class=\"txto\">x]-</span></span><span class=\"plain   hl\" ><span class=\"txto\">ra#?-</span></span><span class=\"txto\">bi </span></span></span></div></div><div class=\"contnr c2 trm   \" ><div class=\"lbl c2 trm \" ><span class=\"nd\">word</span> <span class=\"txto\"><span class=\"plain   \" ><span class=\"txto\">il-</span><span class=\"txto\">qe2-</span><span class=\"txto\">a-</span><span class=\"txto\">am-</span><span class=\"txto\">ma</span></span></span></div></div></div></div><div class=\"contnr c3    \" ><div class=\"lbl c3  \" ><span class=\"nd\">line</span></div><div class=\"children hor wrap \"><div class=\"contnr c2 trm   \" ><div class=\"lbl c2 trm \" ><span class=\"nd\">word</span> <span class=\"txto\"><span class=\"plain   \" ><span class=\"txto\">a-</span><span class=\"txto\">na </span></span></span></div></div><div class=\"contnr c2 trm   \" ><div class=\"lbl c2 trm \" ><span class=\"nd\">word</span> <span class=\"txto\"><span class=\"plain   \" ><span class=\"txto\">ma#-</span><span class=\"txto\">ah-</span><span class=\"txto\">ri-</span><span class=\"txto\">ka </span></span></span></div></div><div class=\"contnr c2 trm   \" ><div class=\"lbl c2 trm \" ><span class=\"nd\">word</span> <span class=\"txto\"><span class=\"plain   \" ><span class=\"txto\">it-</span><span class=\"txto\">ta-</span><span class=\"txto\">al-</span><span class=\"txto\">kam</span></span></span></div></div></div></div><div class=\"contnr c3    \" ><div class=\"lbl c3  \" ><span class=\"nd\">line</span></div><div class=\"children hor wrap \"><div class=\"contnr c2 trm   \" ><div class=\"lbl c2 trm \" ><span class=\"nd\">word</span> <span class=\"txto\"><span class=\"plain   \" ><span class=\"txto\">_a-</span><span class=\"txto\">sza3_ </span></span></span></div></div><div class=\"contnr c2 trm   \" ><div class=\"lbl c2 trm \" ><span class=\"nd\">word</span> <span class=\"txto\"><span class=\"plain   \" ><span class=\"txto\">pi2-</span><span class=\"txto\">ha-</span><span class=\"txto\">ti-</span><span class=\"txto\">ka </span></span></span></div></div><div class=\"contnr c2 trm   \" ><div class=\"lbl c2 trm \" ><span class=\"nd\">word</span> <span class=\"txto\"><span class=\"plain   \" ><span class=\"txto\">szu-</span><span class=\"txto\">ta-</span><span class=\"txto\">ak-</span><span class=\"txto\">szi-</span><span class=\"txto\">id-</span><span class=\"txto\">ma</span></span></span></div></div></div></div><div class=\"contnr c3    \" ><div class=\"lbl c3  \" ><span class=\"nd\">line</span></div><div class=\"children hor wrap \"><div class=\"contnr c2 trm   \" ><div class=\"lbl c2 trm \" ><span class=\"nd\">word</span> <span class=\"txto\"><span class=\"plain   \" ><span class=\"txto\">ne-</span><span class=\"txto\">me-</span><span class=\"txto\">et-</span><span class=\"txto\">tam </span></span></span></div></div><div class=\"contnr c2 trm   \" ><div class=\"lbl c2 trm \" ><span class=\"nd\">word</span> <span class=\"txto\"><span class=\"plain   \" ><span class=\"txto\">la </span></span></span></div></div><div class=\"contnr c2 trm   \" ><div class=\"lbl c2 trm \" ><span class=\"nd\">word</span> <span class=\"txto\"><span class=\"plain   \" ><span class=\"txto\">ta-</span><span class=\"txto\">ra-</span><span class=\"txto\">asz-</span><span class=\"txto\">szi</span></span></span></div></div></div></div><div class=\"contnr c3    \" ><div class=\"lbl c3  \" ><span class=\"nd\">line</span></div><div class=\"children hor wrap \"><div class=\"contnr c2 trm   \" ><div class=\"lbl c2 trm \" ><span class=\"nd\">word</span> <span class=\"txto\"><span class=\"plain   \" ><span class=\"txto\">asz-</span><span class=\"txto\">szum </span></span></span></div></div><div class=\"contnr c2 trm   \" ><div class=\"lbl c2 trm \" ><span class=\"nd\">word</span> <span class=\"txto\"><span class=\"plain   \" ><span class=\"txto\">dingir-</span><span class=\"txto\">szu-</span><span class=\"txto\">ib-</span><span class=\"txto\">ni </span></span></span></div></div><div class=\"contnr c2 trm   \" ><div class=\"lbl c2 trm \" ><span class=\"nd\">word</span> <span class=\"txto\"><span class=\"plain   \" ><span class=\"txto\">sza-</span><span class=\"txto\">pir </span></span></span></div></div><div class=\"contnr c2 trm   \" ><div class=\"lbl c2 trm \" ><span class=\"nd\">word</span> <span class=\"txto\"><span class=\"plain   \" ><span class=\"txto\">zimbir</span><span class=\"txto\">{ki}</span></span></span></div></div></div></div><div class=\"contnr c3    \" ><div class=\"lbl c3  \" ><span class=\"nd\">line</span></div><div class=\"children hor wrap \"><div class=\"contnr c2 trm   \" ><div class=\"lbl c2 trm \" ><span class=\"nd\">word</span> <span class=\"txto\"><span class=\"plain   \" ><span class=\"txto\">sza </span></span></span></div></div><div class=\"contnr c2 trm   \" ><div class=\"lbl c2 trm \" ><span class=\"nd\">word</span> <span class=\"txto\"><span class=\"plain   \" ><span class=\"txto\">ki-</span><span class=\"txto\">a-</span><span class=\"txto\">am </span></span></span></div></div><div class=\"contnr c2 trm   \" ><div class=\"lbl c2 trm \" ><span class=\"nd\">word</span> <span class=\"txto\"><span class=\"plain   \" ><span class=\"txto\">ta-</span><span class=\"txto\">asz-</span><span class=\"txto\">pu-</span><span class=\"txto\">ra-</span><span class=\"txto\">am </span></span></span></div></div><div class=\"contnr c2 trm   \" ><div class=\"lbl c2 trm \" ><span class=\"nd\">word</span> <span class=\"txto\"><span class=\"plain   \" ><span class=\"txto\">um-</span><span class=\"txto\">ma </span></span></span></div></div><div class=\"contnr c2 trm   \" ><div class=\"lbl c2 trm \" ><span class=\"nd\">word</span> <span class=\"txto\"><span class=\"plain   \" ><span class=\"txto\">at-</span><span class=\"txto\">ta-</span><span class=\"txto\">ma#</span></span></span></div></div></div></div><div class=\"contnr c3    \" ><div class=\"lbl c3  \" ><span class=\"nd\">line</span></div><div class=\"children hor wrap \"><div class=\"contnr c2 trm   \" ><div class=\"lbl c2 trm \" ><span class=\"nd\">word</span> <span class=\"txto\"><span class=\"plain   \" ><span class=\"txto\">_1(disz) </span></span></span></div></div><div class=\"contnr c2 trm   \" ><div class=\"lbl c2 trm \" ><span class=\"nd\">word</span> <span class=\"txto\"><span class=\"plain   \" ><span class=\"txto\">gu4_ </span></span></span></div></div><div class=\"contnr c2 trm   \" ><div class=\"lbl c2 trm \" ><span class=\"nd\">word</span> <span class=\"txto\"><span class=\"plain   \" ><span class=\"txto\">ar-</span><span class=\"txto\">ki-</span><span class=\"txto\">a </span></span></span></div></div><div class=\"contnr c2 trm   \" ><div class=\"lbl c2 trm \" ><span class=\"nd\">word</span> <span class=\"txto\"><span class=\"plain   \" ><span class=\"txto\">a-</span><span class=\"txto\">na </span></span></span></div></div><div class=\"contnr c2 trm   \" ><div class=\"lbl c2 trm \" ><span class=\"nd\">word</span> <span class=\"txto\"><span class=\"plain   \" ><span class=\"txto\">_gu4_ </span></span></span></div></div><div class=\"contnr c2 trm   \" ><div class=\"lbl c2 trm \" ><span class=\"nd\">word</span> <span class=\"txto\"><span class=\"plain   \" ><span class=\"txto\">ki-</span><span class=\"txto\">ma </span></span></span></div></div><div class=\"contnr c2 trm   \" ><div class=\"lbl c2 trm \" ><span class=\"nd\">word</span> <span class=\"txto\"><span class=\"plain   \" ><span class=\"txto\">_gu4_ </span></span></span></div></div><div class=\"contnr c2 trm   \" ><div class=\"lbl c2 trm \" ><span class=\"nd\">word</span> <span class=\"txto\"><span class=\"plain   \" ><span class=\"txto\">pu-</span><span class=\"txto\">uh2-</span><span class=\"txto\">hi</span></span></span></div></div></div></div><div class=\"contnr c3    \" ><div class=\"lbl c3  \" ><span class=\"nd\">line</span></div><div class=\"children hor wrap \"><div class=\"contnr c2 trm   \" ><div class=\"lbl c2 trm \" ><span class=\"nd\">word</span> <span class=\"txto\"><span class=\"plain   \" ><span class=\"txto\">ad-</span><span class=\"txto\">di-</span><span class=\"txto\">in-</span><span class=\"txto\">szum-</span><span class=\"txto\">ma </span></span></span></div></div><div class=\"contnr c2 trm   \" ><div class=\"lbl c2 trm \" ><span class=\"nd\">word</span> <span class=\"txto\"><span class=\"plain   \" ><span class=\"txto\">_1(disz) </span></span></span></div></div><div class=\"contnr c2 trm   \" ><div class=\"lbl c2 trm \" ><span class=\"nd\">word</span> <span class=\"txto\"><span class=\"plain   \" ><span class=\"txto\">gu4 </span></span></span></div></div><div class=\"contnr c2 trm   \" ><div class=\"lbl c2 trm \" ><span class=\"nd\">word</span> <span class=\"txto\"><span class=\"plain   \" ><span class=\"txto\">mu </span></span></span></div></div><div class=\"contnr c2 trm   \" ><div class=\"lbl c2 trm \" ><span class=\"nd\">word</span> <span class=\"txto\"><span class=\"plain   \" ><span class=\"txto\">2(disz)_ </span></span></span></div></div><div class=\"contnr c2 trm   \" ><div class=\"lbl c2 trm \" ><span class=\"nd\">word</span> <span class=\"txto\"><span class=\"plain   \" ><span class=\"txto\">id-</span><span class=\"txto\">di-</span><span class=\"txto\">nam#</span></span></span></div></div></div></div><div class=\"contnr c3    \" ><div class=\"lbl c3  \" ><span class=\"nd\">line</span></div><div class=\"children hor wrap \"><div class=\"contnr c2 trm   \" ><div class=\"lbl c2 trm \" ><span class=\"nd\">word</span> <span class=\"txto\"><span class=\"plain   \" ><span class=\"txto\">ka-</span><span class=\"txto\">ni-</span><span class=\"txto\">ik </span></span></span></div></div><div class=\"contnr c2 trm   \" ><div class=\"lbl c2 trm \" ><span class=\"nd\">word</span> <span class=\"txto\"><span class=\"plain   \" ><span class=\"txto\">szi-</span><span class=\"txto\">ma-</span><span class=\"txto\">tim </span></span></span></div></div><div class=\"contnr c2 trm   \" ><div class=\"lbl c2 trm \" ><span class=\"nd\">word</span> <span class=\"txto\"><span class=\"plain   \" ><span class=\"txto\">nu-</span><span class=\"txto\">usz-</span><span class=\"txto\">te-</span><span class=\"txto\">zi-</span><span class=\"txto\">ib# </span></span></span></div></div><div class=\"contnr c2 trm   \" ><div class=\"lbl c2 trm \" ><span class=\"nd\">word</span> <span class=\"txto\"><span class=\"plain   \" ><span class=\"txto\">[(x)]</span></span></span></div></div></div></div><div class=\"contnr c3    \" ><div class=\"lbl c3  \" ><span class=\"nd\">line</span></div><div class=\"children hor wrap \"><div class=\"contnr c2 trm   \" ><div class=\"lbl c2 trm \" ><span class=\"nd\">word</span> <span class=\"txto\"><span class=\"plain   \" ><span class=\"txto\">i-</span><span class=\"txto\">na-</span><span class=\"txto\">an-</span><span class=\"txto\">na </span></span></span></div></div><div class=\"contnr c2 trm   \" ><div class=\"lbl c2 trm \" ><span class=\"nd\">word</span> <span class=\"txto\"><span class=\"plain   \" ><span class=\"txto\">dingir-</span><span class=\"txto\">szu-</span><span class=\"txto\">ib-</span><span class=\"txto\">ni </span></span></span></div></div><div class=\"contnr c2 trm   \" ><div class=\"lbl c2 trm \" ><span class=\"nd\">word</span> <span class=\"txto\"><span class=\"plain   \" ><span class=\"txto\">sza-</span><span class=\"txto\">pir </span></span></span></div></div><div class=\"contnr c2 trm   \" ><div class=\"lbl c2 trm \" ><span class=\"nd\">word</span> <span class=\"txto\"><span class=\"plain   \" ><span class=\"txto\">zimbir#</span><span class=\"txto\">[{ki}]</span></span></span></div></div></div></div><div class=\"contnr c3    \" ><div class=\"lbl c3  \" ><span class=\"nd\">line</span></div><div class=\"children hor wrap \"><div class=\"contnr c2 trm   \" ><div class=\"lbl c2 trm \" ><span class=\"nd\">word</span> <span class=\"txto\"><span class=\"plain   \" ><span class=\"txto\">um-</span><span class=\"txto\">ma </span></span></span></div></div><div class=\"contnr c2 trm   \" ><div class=\"lbl c2 trm \" ><span class=\"nd\">word</span> <span class=\"txto\"><span class=\"plain   \" ><span class=\"txto\">szu-</span><span class=\"txto\">ma </span></span></span></div></div><div class=\"contnr c2 trm   \" ><div class=\"lbl c2 trm \" ><span class=\"nd\">word</span> <span class=\"txto\"><span class=\"plain   \" ><span class=\"txto\">_gu4_-</span><span class=\"txto\">ka </span></span></span></div></div><div class=\"contnr c2 trm   \" ><div class=\"lbl c2 trm \" ><span class=\"nd\">word</span> <span class=\"txto\"><span class=\"plain   \" ><span class=\"txto\">u2-</span><span class=\"txto\">ta-</span><span class=\"txto\">ar-</span><span class=\"txto\">ra-</span><span class=\"txto\">ak-</span><span class=\"txto\">ku#</span></span></span></div></div></div></div><div class=\"contnr c3    \" ><div class=\"lbl c3  \" ><span class=\"nd\">line</span></div><div class=\"children hor wrap \"><div class=\"contnr c2 trm   \" ><div class=\"lbl c2 trm \" ><span class=\"nd\">word</span> <span class=\"txto\"><span class=\"plain   \" ><span class=\"txto\">sza </span></span></span></div></div><div class=\"contnr c2 trm   \" ><div class=\"lbl c2 trm \" ><span class=\"nd\">word</span> <span class=\"txto\"><span class=\"plain   \" ><span class=\"txto\">ta-</span><span class=\"txto\">asz-</span><span class=\"txto\">pu-</span><span class=\"txto\">ra-</span><span class=\"txto\">am</span></span></span></div></div></div></div><div class=\"contnr c3    \" ><div class=\"lbl c3  \" ><span class=\"nd\">line</span></div><div class=\"children hor wrap \"><div class=\"contnr c2 trm   \" ><div class=\"lbl c2 trm \" ><span class=\"nd\">word</span> <span class=\"txto\"><span class=\"plain   \" ><span class=\"txto\">{disz}</span><span class=\"txto\">dingir-</span><span class=\"txto\">szu-</span><span class=\"txto\">ib#-</span><span class=\"txto\">ni# </span></span></span></div></div><div class=\"contnr c2 trm   \" ><div class=\"lbl c2 trm \" ><span class=\"nd\">word</span> <span class=\"txto\"><span class=\"plain   \" ><span class=\"txto\">szu-</span><span class=\"txto\">a-</span><span class=\"txto\">ti </span></span></span></div></div><div class=\"contnr c2 trm   \" ><div class=\"lbl c2 trm \" ><span class=\"nd\">word</span> <span class=\"txto\"><span class=\"plain   \" ><span class=\"txto\">u2-</span><span class=\"txto\">qe2-</span><span class=\"txto\">er-</span><span class=\"txto\">ri#-</span><span class=\"txto\">bu#-</span><span class=\"txto\">nim-</span><span class=\"txto\">ma</span></span></span></div></div></div></div><div class=\"contnr c3    \" ><div class=\"lbl c3  \" ><span class=\"nd\">line</span></div><div class=\"children hor wrap \"><div class=\"contnr c2 trm   \" ><div class=\"lbl c2 trm \" ><span class=\"nd\">word</span> <span class=\"txto\"><span class=\"plain   \" ><span class=\"txto\">ki-</span><span class=\"txto\">a-</span><span class=\"txto\">am </span></span></span></div></div><div class=\"contnr c2 trm   \" ><div class=\"lbl c2 trm \" ><span class=\"nd\">word</span> <span class=\"txto\"><span class=\"plain   \" ><span class=\"txto\">aq-</span><span class=\"txto\">bi-</span><span class=\"txto\">szum </span></span></span></div></div><div class=\"contnr c2 trm   \" ><div class=\"lbl c2 trm \" ><span class=\"nd\">word</span> <span class=\"txto\"><span class=\"plain   \" ><span class=\"txto\">i-</span><span class=\"txto\">qa2-</span><span class=\"txto\">ab-</span><span class=\"txto\">bu-</span><span class=\"txto\">ma#</span></span></span></div></div></div></div><div class=\"contnr c3    \" ><div class=\"lbl c3  \" ><span class=\"nd\">line</span></div><div class=\"children hor wrap \"><div class=\"contnr c2 trm   \" ><div class=\"lbl c2 trm \" ><span class=\"nd\">word</span> <span class=\"txto\"><span class=\"plain   \" ><span class=\"txto\">_gu4_ </span></span></span></div></div><div class=\"contnr c2 trm   \" ><div class=\"lbl c2 trm \" ><span class=\"nd\">word</span> <span class=\"txto\"><span class=\"plain   \" ><span class=\"txto\">ar-</span><span class=\"txto\">ki-</span><span class=\"txto\">a </span></span></span></div></div><div class=\"contnr c2 trm   \" ><div class=\"lbl c2 trm \" ><span class=\"nd\">word</span> <span class=\"txto\"><span class=\"plain   \" ><span class=\"txto\">a-</span><span class=\"txto\">na </span></span></span></div></div><div class=\"contnr c2 trm   \" ><div class=\"lbl c2 trm \" ><span class=\"nd\">word</span> <span class=\"txto\"><span class=\"plain   \" ><span class=\"txto\">_1(u) </span></span></span></div></div><div class=\"contnr c2 trm   \" ><div class=\"lbl c2 trm \" ><span class=\"nd\">word</span> <span class=\"txto\"><span class=\"plain   \" ><span class=\"txto\">gin2 </span></span></span></div></div><div class=\"contnr c2 trm   \" ><div class=\"lbl c2 trm \" ><span class=\"nd\">word</span> <span class=\"txto\"><span class=\"plain   \" ><span class=\"txto\">ku3-</span><span class=\"txto\">babbar_</span></span></span></div></div></div></div><div class=\"contnr c3    \" ><div class=\"lbl c3  \" ><span class=\"nd\">line</span></div><div class=\"children hor wrap \"><div class=\"contnr c2 trm   \" ><div class=\"lbl c2 trm \" ><span class=\"nd\">word</span> <span class=\"txto\"><span class=\"plain   \" ><span class=\"txto\">id-</span><span class=\"txto\">di-</span><span class=\"txto\">nu-</span><span class=\"txto\">ni-</span><span class=\"txto\">ik-</span><span class=\"txto\">ku</span></span></span></div></div></div></div></div></div></div>"
      ],
      "text/plain": [
       "<IPython.core.display.HTML object>"
      ]
     },
     "metadata": {},
     "output_type": "display_data"
    },
    {
     "data": {
      "text/html": [
       "<p><b>face</b> <i>2</i></p>"
      ],
      "text/plain": [
       "<IPython.core.display.HTML object>"
      ]
     },
     "metadata": {},
     "output_type": "display_data"
    },
    {
     "data": {
      "text/html": [
       "<div class=\"section \"><a target=\"_blank\" href=\"https://cdli.ucla.edu/search/search_results.php?SearchMode=Text&amp;ObjectID=P510530\" title=\"Show this document on CDLI\" sec=\"P510530 reverse\">P510530 reverse</a></div><div class=\" children\"><div class=\"contnr c4    \" ><div class=\"lbl c4  \" ><span class=\"nd\">face</span> <span class=\"txto\"><span class=\"section\">P510530 reverse</span></span></div><div class=\"children hor wrap \"><div class=\"contnr c3    \" ><div class=\"lbl c3  \" ><span class=\"nd\">line</span></div><div class=\"children hor wrap \"><div class=\"contnr c2 trm   \" ><div class=\"lbl c2 trm \" ><span class=\"nd\">word</span> <span class=\"txto\"><span class=\"plain   \" ><span class=\"txto\">u3 </span></span></span></div></div><div class=\"contnr c2 trm   \" ><div class=\"lbl c2 trm \" ><span class=\"nd\">word</span> <span class=\"txto\"><span class=\"plain   \" ><span class=\"txto\">ka-</span><span class=\"txto\">ni-</span><span class=\"txto\">ik </span></span></span></div></div><div class=\"contnr c2 trm   \" ><div class=\"lbl c2 trm \" ><span class=\"nd\">word</span> <span class=\"txto\"><span class=\"plain   \" ><span class=\"txto\">szi-</span><span class=\"txto\">ma-</span><span class=\"txto\">tim </span></span></span></div></div><div class=\"contnr c2 trm   \" ><div class=\"lbl c2 trm \" ><span class=\"nd\">word</span> <span class=\"txto\"><span class=\"plain   \" ><span class=\"txto\">ta-</span><span class=\"txto\">ad-</span><span class=\"txto\">di-</span><span class=\"txto\">in</span></span></span></div></div></div></div><div class=\"contnr c3    \" ><div class=\"lbl c3  \" ><span class=\"nd\">line</span></div><div class=\"children hor wrap \"><div class=\"contnr c2 trm   \" ><div class=\"lbl c2 trm \" ><span class=\"nd\">word</span> <span class=\"txto\"><span class=\"plain   \" ><span class=\"txto\">mi-</span><span class=\"txto\">nu-</span><span class=\"txto\">u2 </span></span></span></div></div><div class=\"contnr c2 trm   \" ><div class=\"lbl c2 trm \" ><span class=\"nd\">word</span> <span class=\"txto\"><span class=\"plain   \" ><span class=\"txto\">a-</span><span class=\"txto\">wa-</span><span class=\"txto\">tum-</span><span class=\"txto\">ma </span></span></span></div></div><div class=\"contnr c2 trm   \" ><div class=\"lbl c2 trm \" ><span class=\"nd\">word</span> <span class=\"txto\"><span class=\"plain   \" ><span class=\"txto\">da-</span><span class=\"txto\">ba-</span><span class=\"txto\">ba-</span><span class=\"txto\">am </span></span></span></div></div><div class=\"contnr c2 trm   \" ><div class=\"lbl c2 trm \" ><span class=\"nd\">word</span> <span class=\"txto\"><span class=\"plain   \" ><span class=\"txto\">tu-</span><span class=\"txto\">sze-</span><span class=\"txto\">er-</span><span class=\"txto\">szi</span></span></span></div></div></div></div><div class=\"contnr c3    \" ><div class=\"lbl c3  \" ><span class=\"nd\">line</span></div><div class=\"children hor wrap \"><div class=\"contnr c2 trm   \" ><div class=\"lbl c2 trm \" ><span class=\"nd\">word</span> <span class=\"txto\"><span class=\"plain   \" ><span class=\"txto\">{disz}</span><span class=\"txto\">dingir-</span><span class=\"txto\">szu-</span><span class=\"txto\">ib-</span><span class=\"txto\">ni </span></span></span></div></div><div class=\"contnr c2 trm   \" ><div class=\"lbl c2 trm \" ><span class=\"nd\">word</span> <span class=\"txto\"><span class=\"plain   \" ><span class=\"txto\">sza-</span><span class=\"txto\">pir </span></span></span></div></div><div class=\"contnr c2 trm   \" ><div class=\"lbl c2 trm \" ><span class=\"nd\">word</span> <span class=\"txto\"><span class=\"plain   \" ><span class=\"txto\">zimbir</span><span class=\"txto\">{ki}</span></span></span></div></div></div></div><div class=\"contnr c3    \" ><div class=\"lbl c3  \" ><span class=\"nd\">line</span></div><div class=\"children hor wrap \"><div class=\"contnr c2 trm   \" ><div class=\"lbl c2 trm \" ><span class=\"nd\">word</span> <span class=\"txto\"><span class=\"plain   \" ><span class=\"txto\">um-</span><span class=\"txto\">ma </span></span></span></div></div><div class=\"contnr c2 trm   \" ><div class=\"lbl c2 trm \" ><span class=\"nd\">word</span> <span class=\"txto\"><span class=\"plain   \" ><span class=\"txto\">szu-</span><span class=\"txto\">ma </span></span></span></div></div><div class=\"contnr c2 trm   \" ><div class=\"lbl c2 trm \" ><span class=\"nd\">word</span> <span class=\"txto\"><span class=\"plain   \" ><span class=\"txto\">a-</span><span class=\"txto\">na-</span><span class=\"txto\">ku </span></span></span></div></div><div class=\"contnr c2 trm   \" ><div class=\"lbl c2 trm \" ><span class=\"nd\">word</span> <span class=\"txto\"><span class=\"plain   \" ><span class=\"txto\">u3 </span></span></span></div></div><div class=\"contnr c2 trm   \" ><div class=\"lbl c2 trm \" ><span class=\"nd\">word</span> <span class=\"txto\"><span class=\"plain   \" ><span class=\"txto\">dingir-</span><span class=\"txto\">szu-</span><span class=\"txto\">ib-</span><span class=\"txto\">ni </span></span></span></div></div><div class=\"contnr c2 trm   \" ><div class=\"lbl c2 trm \" ><span class=\"nd\">word</span> <span class=\"txto\"><span class=\"plain   \" ><span class=\"txto\">ARAD-</span><span class=\"txto\">ka</span></span></span></div></div></div></div><div class=\"contnr c3    \" ><div class=\"lbl c3  \" ><span class=\"nd\">line</span></div><div class=\"children hor wrap \"><div class=\"contnr c2 trm   \" ><div class=\"lbl c2 trm \" ><span class=\"nd\">word</span> <span class=\"txto\"><span class=\"plain   \" ><span class=\"txto\">_gu4_ </span></span></span></div></div><div class=\"contnr c2 trm   \" ><div class=\"lbl c2 trm \" ><span class=\"nd\">word</span> <span class=\"txto\"><span class=\"plain   \" ><span class=\"txto\">ki-</span><span class=\"txto\">ma </span></span></span></div></div><div class=\"contnr c2 trm   \" ><div class=\"lbl c2 trm \" ><span class=\"nd\">word</span> <span class=\"txto\"><span class=\"plain   \" ><span class=\"txto\">_gu4_ </span></span></span></div></div><div class=\"contnr c2 trm   \" ><div class=\"lbl c2 trm \" ><span class=\"nd\">word</span> <span class=\"txto\"><span class=\"plain   \" ><span class=\"txto\">nu-</span><span class=\"txto\">up-</span><span class=\"txto\">te-</span><span class=\"txto\">eh-</span><span class=\"txto\">ma</span></span></span></div></div></div></div><div class=\"contnr c3    \" ><div class=\"lbl c3  \" ><span class=\"nd\">line</span></div><div class=\"children hor wrap \"><div class=\"contnr c2 trm   \" ><div class=\"lbl c2 trm \" ><span class=\"nd\">word</span> <span class=\"txto\"><span class=\"plain   \" ><span class=\"txto\">ka-</span><span class=\"txto\">ni-</span><span class=\"txto\">ik </span></span></span></div></div><div class=\"contnr c2 trm   \" ><div class=\"lbl c2 trm \" ><span class=\"nd\">word</span> <span class=\"txto\"><span class=\"plain   \" ><span class=\"txto\">szi-</span><span class=\"txto\">ma-</span><span class=\"txto\">tim </span></span></span></div></div><div class=\"contnr c2 trm   \" ><div class=\"lbl c2 trm \" ><span class=\"nd\">word</span> <span class=\"txto\"><span class=\"plain   \" ><span class=\"txto\">nu-</span><span class=\"txto\">usz-</span><span class=\"txto\">te-</span><span class=\"txto\">&lt;&lt;TE>>-</span><span class=\"txto\">zi-</span><span class=\"txto\">ib</span></span></span></div></div></div></div><div class=\"contnr c3    \" ><div class=\"lbl c3  \" ><span class=\"nd\">line</span></div><div class=\"children hor wrap \"><div class=\"contnr c2 trm   \" ><div class=\"lbl c2 trm \" ><span class=\"nd\">word</span> <span class=\"txto\"><span class=\"plain   \" ><span class=\"txto\">_gu4_ </span></span></span></div></div><div class=\"contnr c2 trm   \" ><div class=\"lbl c2 trm \" ><span class=\"nd\">word</span> <span class=\"txto\"><span class=\"plain   \" ><span class=\"txto\">sza </span></span></span></div></div><div class=\"contnr c2 trm   \" ><div class=\"lbl c2 trm \" ><span class=\"nd\">word</span> <span class=\"txto\"><span class=\"plain   \" ><span class=\"txto\">el-</span><span class=\"txto\">qu2-</span><span class=\"txto\">u2 </span></span></span></div></div><div class=\"contnr c2 trm   \" ><div class=\"lbl c2 trm \" ><span class=\"nd\">word</span> <span class=\"txto\"><span class=\"plain   \" ><span class=\"txto\">_iti </span></span></span></div></div><div class=\"contnr c2 trm   \" ><div class=\"lbl c2 trm \" ><span class=\"nd\">word</span> <span class=\"txto\"><span class=\"plain   \" ><span class=\"txto\">1(disz)-</span><span class=\"txto\">kam_ </span></span></span></div></div><div class=\"contnr c2 trm   \" ><div class=\"lbl c2 trm \" ><span class=\"nd\">word</span> <span class=\"txto\"><span class=\"plain   \" ><span class=\"txto\">ma-</span><span class=\"txto\">ah-</span><span class=\"txto\">ri-</span><span class=\"txto\">ia </span></span></span></div></div><div class=\"contnr c2 trm   \" ><div class=\"lbl c2 trm \" ><span class=\"nd\">word</span> <span class=\"txto\"><span class=\"plain   \" ><span class=\"txto\">isz-</span><span class=\"txto\">sza#-</span><span class=\"txto\">[ak]-</span><span class=\"txto\">na#</span></span></span></div></div></div></div><div class=\"contnr c3    \" ><div class=\"lbl c3  \" ><span class=\"nd\">line</span></div><div class=\"children hor wrap \"><div class=\"contnr c2 trm   \" ><div class=\"lbl c2 trm \" ><span class=\"nd\">word</span> <span class=\"txto\"><span class=\"plain   \" ><span class=\"txto\">ri-</span><span class=\"txto\">ik-</span><span class=\"txto\">sa-</span><span class=\"txto\">ti-</span><span class=\"txto\">ia </span></span></span></div></div><div class=\"contnr c2 trm   \" ><div class=\"lbl c2 trm \" ><span class=\"nd\">word</span> <span class=\"txto\"><span class=\"plain   \" ><span class=\"txto\">u2-</span><span class=\"txto\">ul </span></span></span></div></div><div class=\"contnr c2 trm   \" ><div class=\"lbl c2 trm \" ><span class=\"nd\">word</span> <span class=\"txto\"><span class=\"plain   \" ><span class=\"txto\">e-</span><span class=\"txto\">en-</span><span class=\"txto\">ni </span></span></span></div></div><div class=\"contnr c2 trm   \" ><div class=\"lbl c2 trm \" ><span class=\"nd\">word</span> <span class=\"txto\"><span class=\"plain   \" ><span class=\"txto\">an-</span><span class=\"txto\">ni-</span><span class=\"txto\">tam </span></span></span></div></div><div class=\"contnr c2 trm   \" ><div class=\"lbl c2 trm \" ><span class=\"nd\">word</span> <span class=\"txto\"><span class=\"plain   \" ><span class=\"txto\">iq-</span><span class=\"txto\">bi#</span></span></span></div></div></div></div><div class=\"contnr c3    \" ><div class=\"lbl c3  \" ><span class=\"nd\">line</span></div><div class=\"children hor wrap \"><div class=\"contnr c2 trm   \" ><div class=\"lbl c2 trm \" ><span class=\"nd\">word</span> <span class=\"txto\"><span class=\"plain   \" ><span class=\"txto\">asz-</span><span class=\"txto\">szum# </span></span></span></div></div><div class=\"contnr c2 trm   \" ><div class=\"lbl c2 trm \" ><span class=\"nd\">word</span> <span class=\"txto\"><span class=\"plain   \" ><span class=\"txto\">_2(disz)# </span></span></span></div></div><div class=\"contnr c2 trm   \" ><div class=\"lbl c2 trm \" ><span class=\"nd\">word</span> <span class=\"txto\"><span class=\"plain   \" ><span class=\"txto\">gin2 </span></span></span></div></div><div class=\"contnr c2 trm   \" ><div class=\"lbl c2 trm \" ><span class=\"nd\">word</span> <span class=\"txto\"><span class=\"plain   \" ><span class=\"txto\">ku3-</span><span class=\"txto\">babbar_ </span></span></span></div></div><div class=\"contnr c2 trm   \" ><div class=\"lbl c2 trm \" ><span class=\"nd\">word</span> <span class=\"txto\"><span class=\"plain   \" ><span class=\"txto\">sza </span></span></span></div></div><div class=\"contnr c2 trm   \" ><div class=\"lbl c2 trm \" ><span class=\"nd\">word</span> <span class=\"txto\"><span class=\"plain   \" ><span class=\"txto\">a-</span><span class=\"txto\">na </span></span></span></div></div><div class=\"contnr c2 trm   \" ><div class=\"lbl c2 trm \" ><span class=\"nd\">word</span> <span class=\"txto\"><span class=\"plain   \" ><span class=\"txto\">be-</span><span class=\"txto\">el-</span><span class=\"txto\">szu-</span><span class=\"txto\">nu </span></span></span></div></div><div class=\"contnr c2 trm   \" ><div class=\"lbl c2 trm \" ><span class=\"nd\">word</span> <span class=\"txto\"><span class=\"plain   \" ><span class=\"txto\">_dumu_ </span></span></span></div></div><div class=\"contnr c2 trm   \" ><div class=\"lbl c2 trm \" ><span class=\"nd\">word</span> <span class=\"txto\"><span class=\"plain   \" ><span class=\"txto\">dingir-</span><span class=\"txto\">da-</span><span class=\"txto\">mi-</span><span class=\"txto\">iq</span></span></span></div></div></div></div><div class=\"contnr c3    \" ><div class=\"lbl c3  \" ><span class=\"nd\">line</span></div><div class=\"children hor wrap \"><div class=\"contnr c2 trm   \" ><div class=\"lbl c2 trm \" ><span class=\"nd\">word</span> <span class=\"txto\"><span class=\"plain   \" ><span class=\"txto\">_n </span></span></span></div></div><div class=\"contnr c2 trm   \" ><div class=\"lbl c2 trm \" ><span class=\"nd\">word</span> <span class=\"txto\"><span class=\"plain   \" ><span class=\"txto\">[n] </span></span></span></div></div><div class=\"contnr c2 trm   \" ><div class=\"lbl c2 trm \" ><span class=\"nd\">word</span> <span class=\"txto\"><span class=\"plain   \" ><span class=\"txto\">GAN2 </span></span></span></div></div><div class=\"contnr c2 trm   \" ><div class=\"lbl c2 trm \" ><span class=\"nd\">word</span> <span class=\"txto\"><span class=\"plain   \" ><span class=\"txto\">a-</span><span class=\"txto\">sza3_ </span></span></span></div></div><div class=\"contnr c2 trm   \" ><div class=\"lbl c2 trm \" ><span class=\"nd\">word</span> <span class=\"txto\"><span class=\"plain   \" ><span class=\"txto\">la </span></span></span></div></div><div class=\"contnr c2 trm   \" ><div class=\"lbl c2 trm \" ><span class=\"nd\">word</span> <span class=\"txto\"><span class=\"plain   \" ><span class=\"txto\">te-</span><span class=\"txto\">pu-</span><span class=\"txto\">szu </span></span></span></div></div><div class=\"contnr c2 trm   \" ><div class=\"lbl c2 trm \" ><span class=\"nd\">word</span> <span class=\"txto\"><span class=\"plain   \" ><span class=\"txto\">_ku3-</span><span class=\"txto\">babbar_ </span></span></span></div></div><div class=\"contnr c2 trm   \" ><div class=\"lbl c2 trm \" ><span class=\"nd\">word</span> <span class=\"txto\"><span class=\"plain   \" ><span class=\"txto\">e-</span><span class=\"txto\">se-</span><span class=\"txto\">ri-</span><span class=\"txto\">im-</span><span class=\"txto\">ma</span></span></span></div></div></div></div><div class=\"contnr c3    hl\"  style=\"background-color: lightsalmon;\" ><div class=\"lbl c3  hl\"  style=\"background-color: lightsalmon;\" ><span class=\"nd\">line</span></div><div class=\"children hor wrap \"><div class=\"contnr c2 trm   \" ><div class=\"lbl c2 trm \" ><span class=\"nd\">word</span> <span class=\"txto\"><span class=\"plain   \" ><span class=\"plain   hl\"  style=\"background-color: cyan;\" ><span class=\"txto\">[szu-</span></span><span class=\"plain   hl\"  style=\"background-color: magenta;\" ><span class=\"txto\">bu-</span></span><span class=\"plain   hl\" ><span class=\"txto\">lim?] </span></span></span></span></div></div><div class=\"contnr c2 trm   \" ><div class=\"lbl c2 trm \" ><span class=\"nd\">word</span> <span class=\"txto\"><span class=\"plain   \" ><span class=\"plain   hl\" ><span class=\"txto\">sza# </span></span></span></span></div></div><div class=\"contnr c2 trm   \" ><div class=\"lbl c2 trm \" ><span class=\"nd\">word</span> <span class=\"txto\"><span class=\"plain   \" ><span class=\"txto\">ta-</span><span class=\"txto\">asz-</span><span class=\"txto\">pu-</span><span class=\"txto\">ra-</span><span class=\"txto\">am</span></span></span></div></div></div></div><div class=\"contnr c3    \" ><div class=\"lbl c3  \" ><span class=\"nd\">line</span></div><div class=\"children hor wrap \"><div class=\"contnr c2 trm   \" ><div class=\"lbl c2 trm \" ><span class=\"nd\">word</span> <span class=\"txto\"><span class=\"plain   \" ><span class=\"txto\">[x </span></span></span></div></div><div class=\"contnr c2 trm   \" ><div class=\"lbl c2 trm \" ><span class=\"nd\">word</span> <span class=\"txto\"><span class=\"plain   \" ><span class=\"txto\">x </span></span></span></div></div><div class=\"contnr c2 trm   \" ><div class=\"lbl c2 trm \" ><span class=\"nd\">word</span> <span class=\"txto\"><span class=\"plain   \" ><span class=\"txto\">x </span></span></span></div></div><div class=\"contnr c2 trm   \" ><div class=\"lbl c2 trm \" ><span class=\"nd\">word</span> <span class=\"txto\"><span class=\"plain   \" ><span class=\"txto\">x] </span></span></span></div></div><div class=\"contnr c2 trm   \" ><div class=\"lbl c2 trm \" ><span class=\"nd\">word</span> <span class=\"txto\"><span class=\"plain   \" ><span class=\"txto\">_dumu </span></span></span></div></div><div class=\"contnr c2 trm   \" ><div class=\"lbl c2 trm \" ><span class=\"nd\">word</span> <span class=\"txto\"><span class=\"plain   \" ><span class=\"txto\">e2-</span><span class=\"txto\">dub-</span><span class=\"txto\">ba-</span><span class=\"txto\">a_ </span></span></span></div></div><div class=\"contnr c2 trm   \" ><div class=\"lbl c2 trm \" ><span class=\"nd\">word</span> <span class=\"txto\"><span class=\"plain   \" ><span class=\"txto\">a-</span><span class=\"txto\">na </span></span></span></div></div><div class=\"contnr c2 trm   \" ><div class=\"lbl c2 trm \" ><span class=\"nd\">word</span> <span class=\"txto\"><span class=\"plain   \" ><span class=\"txto\">_ku3-</span><span class=\"txto\">babbar_ </span></span></span></div></div><div class=\"contnr c2 trm   \" ><div class=\"lbl c2 trm \" ><span class=\"nd\">word</span> <span class=\"txto\"><span class=\"plain   \" ><span class=\"txto\">szu-</span><span class=\"txto\">a-</span><span class=\"txto\">ti</span></span></span></div></div></div></div><div class=\"contnr c3    \" ><div class=\"lbl c3  \" ><span class=\"nd\">line</span></div><div class=\"children hor wrap \"><div class=\"contnr c2 trm   \" ><div class=\"lbl c2 trm \" ><span class=\"nd\">word</span> <span class=\"txto\"><span class=\"plain   \" ><span class=\"txto\">[x </span></span></span></div></div><div class=\"contnr c2 trm   \" ><div class=\"lbl c2 trm \" ><span class=\"nd\">word</span> <span class=\"txto\"><span class=\"plain   \" ><span class=\"txto\">x </span></span></span></div></div><div class=\"contnr c2 trm   \" ><div class=\"lbl c2 trm \" ><span class=\"nd\">word</span> <span class=\"txto\"><span class=\"plain   \" ><span class=\"txto\">x </span></span></span></div></div><div class=\"contnr c2 trm   \" ><div class=\"lbl c2 trm \" ><span class=\"nd\">word</span> <span class=\"txto\"><span class=\"plain   \" ><span class=\"txto\">x] </span></span></span></div></div><div class=\"contnr c2 trm   \" ><div class=\"lbl c2 trm \" ><span class=\"nd\">word</span> <span class=\"txto\"><span class=\"plain   \" ><span class=\"txto\">szu#-</span><span class=\"txto\">ud#-</span><span class=\"txto\">du-</span><span class=\"txto\">nim </span></span></span></div></div><div class=\"contnr c2 trm   \" ><div class=\"lbl c2 trm \" ><span class=\"nd\">word</span> <span class=\"txto\"><span class=\"plain   \" ><span class=\"txto\">a-</span><span class=\"txto\">wa-</span><span class=\"txto\">tam </span></span></span></div></div><div class=\"contnr c2 trm   \" ><div class=\"lbl c2 trm \" ><span class=\"nd\">word</span> <span class=\"txto\"><span class=\"plain   \" ><span class=\"txto\">ap-</span><span class=\"txto\">ta-</span><span class=\"txto\">qi2-</span><span class=\"txto\">id</span></span></span></div></div></div></div><div class=\"contnr c3    \" ><div class=\"lbl c3  \" ><span class=\"nd\">line</span></div><div class=\"children hor wrap \"><div class=\"contnr c2 trm   \" ><div class=\"lbl c2 trm \" ><span class=\"nd\">word</span> <span class=\"txto\"><span class=\"plain   \" ><span class=\"txto\">[...] </span></span></span></div></div><div class=\"contnr c2 trm   \" ><div class=\"lbl c2 trm \" ><span class=\"nd\">word</span> <span class=\"txto\"><span class=\"plain   \" ><span class=\"txto\">x-</span><span class=\"txto\">ti#-</span><span class=\"txto\">ka#</span></span></span></div></div></div></div><div class=\"contnr c3    \" ><div class=\"lbl c3  \" ><span class=\"nd\">line</span></div><div class=\"children hor wrap \"><div class=\"contnr c2 trm   \" ><div class=\"lbl c2 trm \" ><span class=\"nd\">word</span> <span class=\"txto\"><span class=\"plain   \" ><span class=\"txto\">[...] </span></span></span></div></div><div class=\"contnr c2 trm   \" ><div class=\"lbl c2 trm \" ><span class=\"nd\">word</span> <span class=\"txto\"><span class=\"plain   \" ><span class=\"txto\">ARAD#-</span><span class=\"txto\">{d}</span><span class=\"txto\">ul-</span><span class=\"txto\">masz-</span><span class=\"txto\">szi-</span><span class=\"txto\">tum </span></span></span></div></div><div class=\"contnr c2 trm   \" ><div class=\"lbl c2 trm \" ><span class=\"nd\">word</span> <span class=\"txto\"><span class=\"plain   \" ><span class=\"txto\">_ugula </span></span></span></div></div><div class=\"contnr c2 trm   \" ><div class=\"lbl c2 trm \" ><span class=\"nd\">word</span> <span class=\"txto\"><span class=\"plain   \" ><span class=\"txto\">gidri_</span></span></span></div></div></div></div><div class=\"contnr c3    \" ><div class=\"lbl c3  \" ><span class=\"nd\">line</span></div><div class=\"children hor wrap \"><div class=\"contnr c2 trm   \" ><div class=\"lbl c2 trm \" ><span class=\"nd\">word</span> <span class=\"txto\"><span class=\"plain   \" ><span class=\"txto\">[x] </span></span></span></div></div><div class=\"contnr c2 trm   \" ><div class=\"lbl c2 trm \" ><span class=\"nd\">word</span> <span class=\"txto\"><span class=\"plain   \" ><span class=\"txto\">x </span></span></span></div></div><div class=\"contnr c2 trm   \" ><div class=\"lbl c2 trm \" ><span class=\"nd\">word</span> <span class=\"txto\"><span class=\"plain   \" ><span class=\"txto\">_a-</span><span class=\"txto\">sza3_ </span></span></span></div></div><div class=\"contnr c2 trm   \" ><div class=\"lbl c2 trm \" ><span class=\"nd\">word</span> <span class=\"txto\"><span class=\"plain   \" ><span class=\"txto\">x </span></span></span></div></div><div class=\"contnr c2 trm   \" ><div class=\"lbl c2 trm \" ><span class=\"nd\">word</span> <span class=\"txto\"><span class=\"plain   \" ><span class=\"txto\">[x </span></span></span></div></div><div class=\"contnr c2 trm   \" ><div class=\"lbl c2 trm \" ><span class=\"nd\">word</span> <span class=\"txto\"><span class=\"plain   \" ><span class=\"txto\">x </span></span></span></div></div><div class=\"contnr c2 trm   \" ><div class=\"lbl c2 trm \" ><span class=\"nd\">word</span> <span class=\"txto\"><span class=\"plain   \" ><span class=\"txto\">x </span></span></span></div></div><div class=\"contnr c2 trm   \" ><div class=\"lbl c2 trm \" ><span class=\"nd\">word</span> <span class=\"txto\"><span class=\"plain   \" ><span class=\"txto\">(x)] </span></span></span></div></div><div class=\"contnr c2 trm   \" ><div class=\"lbl c2 trm \" ><span class=\"nd\">word</span> <span class=\"txto\"><span class=\"plain   \" ><span class=\"txto\">u2-</span><span class=\"txto\">da-</span><span class=\"txto\">an-</span><span class=\"txto\">ni-</span><span class=\"txto\">na-</span><span class=\"txto\">am-</span><span class=\"txto\">ma</span></span></span></div></div></div></div><div class=\"contnr c3    \" ><div class=\"lbl c3  \" ><span class=\"nd\">line</span></div><div class=\"children hor wrap \"><div class=\"contnr c2 trm   \" ><div class=\"lbl c2 trm \" ><span class=\"nd\">word</span> <span class=\"txto\"><span class=\"plain   \" ><span class=\"txto\">usz#-</span><span class=\"txto\">ta-</span><span class=\"txto\">bi-</span><span class=\"txto\">lam </span></span></span></div></div><div class=\"contnr c2 trm   \" ><div class=\"lbl c2 trm \" ><span class=\"nd\">word</span> <span class=\"txto\"><span class=\"plain   \" ><span class=\"txto\">asz-</span><span class=\"txto\">szum </span></span></span></div></div><div class=\"contnr c2 trm   \" ><div class=\"lbl c2 trm \" ><span class=\"nd\">word</span> <span class=\"txto\"><span class=\"plain   \" ><span class=\"txto\">sze-</span><span class=\"txto\">e </span></span></span></div></div><div class=\"contnr c2 trm   \" ><div class=\"lbl c2 trm \" ><span class=\"nd\">word</span> <span class=\"txto\"><span class=\"plain   \" ><span class=\"txto\">_szuku#_-</span><span class=\"txto\">ka </span></span></span></div></div><div class=\"contnr c2 trm   \" ><div class=\"lbl c2 trm \" ><span class=\"nd\">word</span> <span class=\"txto\"><span class=\"plain   \" ><span class=\"txto\">sza </span></span></span></div></div><div class=\"contnr c2 trm   \" ><div class=\"lbl c2 trm \" ><span class=\"nd\">word</span> <span class=\"txto\"><span class=\"plain   \" ><span class=\"txto\">_mu </span></span></span></div></div><div class=\"contnr c2 trm   \" ><div class=\"lbl c2 trm \" ><span class=\"nd\">word</span> <span class=\"txto\"><span class=\"plain   \" ><span class=\"txto\">4(disz)-</span><span class=\"txto\">kam_</span></span></span></div></div></div></div><div class=\"contnr c3    \" ><div class=\"lbl c3  \" ><span class=\"nd\">line</span></div><div class=\"children hor wrap \"><div class=\"contnr c2 trm   \" ><div class=\"lbl c2 trm \" ><span class=\"nd\">word</span> <span class=\"txto\"><span class=\"plain   \" ><span class=\"txto\">sza </span></span></span></div></div><div class=\"contnr c2 trm   \" ><div class=\"lbl c2 trm \" ><span class=\"nd\">word</span> <span class=\"txto\"><span class=\"plain   \" ><span class=\"txto\">i-</span><span class=\"txto\">na </span></span></span></div></div><div class=\"contnr c2 trm   \" ><div class=\"lbl c2 trm \" ><span class=\"nd\">word</span> <span class=\"txto\"><span class=\"plain   \" ><span class=\"txto\">qa2-</span><span class=\"txto\">ti </span></span></span></div></div><div class=\"contnr c2 trm   \" ><div class=\"lbl c2 trm \" ><span class=\"nd\">word</span> <span class=\"txto\"><span class=\"plain   \" ><span class=\"txto\">ARAD-</span><span class=\"txto\">{d}</span><span class=\"txto\">ul-</span><span class=\"txto\">masz-</span><span class=\"txto\">szi-</span><span class=\"txto\">tum </span></span></span></div></div><div class=\"contnr c2 trm   \" ><div class=\"lbl c2 trm \" ><span class=\"nd\">word</span> <span class=\"txto\"><span class=\"plain   \" ><span class=\"txto\">_ugula </span></span></span></div></div><div class=\"contnr c2 trm   \" ><div class=\"lbl c2 trm \" ><span class=\"nd\">word</span> <span class=\"txto\"><span class=\"plain   \" ><span class=\"txto\">gidri_ </span></span></span></div></div><div class=\"contnr c2 trm   \" ><div class=\"lbl c2 trm \" ><span class=\"nd\">word</span> <span class=\"txto\"><span class=\"plain   \" ><span class=\"txto\">szu-</span><span class=\"txto\">ud-</span><span class=\"txto\">du-</span><span class=\"txto\">nim</span></span></span></div></div></div></div><div class=\"contnr c3    \" ><div class=\"lbl c3  \" ><span class=\"nd\">line</span></div><div class=\"children hor wrap \"><div class=\"contnr c2 trm   \" ><div class=\"lbl c2 trm \" ><span class=\"nd\">word</span> <span class=\"txto\"><span class=\"plain   \" ><span class=\"txto\">sza </span></span></span></div></div><div class=\"contnr c2 trm   \" ><div class=\"lbl c2 trm \" ><span class=\"nd\">word</span> <span class=\"txto\"><span class=\"plain   \" ><span class=\"txto\">ta-</span><span class=\"txto\">asz-</span><span class=\"txto\">pu-</span><span class=\"txto\">ra-</span><span class=\"txto\">am </span></span></span></div></div><div class=\"contnr c2 trm   \" ><div class=\"lbl c2 trm \" ><span class=\"nd\">word</span> <span class=\"txto\"><span class=\"plain   \" ><span class=\"txto\">i-</span><span class=\"txto\">nu-</span><span class=\"txto\">ma </span></span></span></div></div><div class=\"contnr c2 trm   \" ><div class=\"lbl c2 trm \" ><span class=\"nd\">word</span> <span class=\"txto\"><span class=\"plain   \" ><span class=\"txto\">ARAD-</span><span class=\"txto\">{d}</span><span class=\"txto\">ul-</span><span class=\"txto\">masz-</span><span class=\"txto\">szi-</span><span class=\"txto\">tum </span></span></span></div></div><div class=\"contnr c2 trm   \" ><div class=\"lbl c2 trm \" ><span class=\"nd\">word</span> <span class=\"txto\"><span class=\"plain   \" ><span class=\"txto\">szu-</span><span class=\"txto\">u2</span></span></span></div></div></div></div><div class=\"contnr c3    \" ><div class=\"lbl c3  \" ><span class=\"nd\">line</span></div><div class=\"children hor wrap \"><div class=\"contnr c2 trm   \" ><div class=\"lbl c2 trm \" ><span class=\"nd\">word</span> <span class=\"txto\"><span class=\"plain   \" ><span class=\"txto\">a-</span><span class=\"txto\">na </span></span></span></div></div><div class=\"contnr c2 trm   \" ><div class=\"lbl c2 trm \" ><span class=\"nd\">word</span> <span class=\"txto\"><span class=\"plain   \" ><span class=\"txto\">babila2</span><span class=\"txto\">{ki} </span></span></span></div></div><div class=\"contnr c2 trm   \" ><div class=\"lbl c2 trm \" ><span class=\"nd\">word</span> <span class=\"txto\"><span class=\"plain   \" ><span class=\"txto\">i-</span><span class=\"txto\">il-</span><span class=\"txto\">la-</span><span class=\"txto\">kam</span></span></span></div></div></div></div><div class=\"contnr c3    \" ><div class=\"lbl c3  \" ><span class=\"nd\">line</span></div><div class=\"children hor wrap \"><div class=\"contnr c2 trm   \" ><div class=\"lbl c2 trm \" ><span class=\"nd\">word</span> <span class=\"txto\"><span class=\"plain   \" ><span class=\"txto\">tup-</span><span class=\"txto\">pa-</span><span class=\"txto\">ka </span></span></span></div></div><div class=\"contnr c2 trm   \" ><div class=\"lbl c2 trm \" ><span class=\"nd\">word</span> <span class=\"txto\"><span class=\"plain   \" ><span class=\"txto\">szu-</span><span class=\"txto\">bi-</span><span class=\"txto\">lam </span></span></span></div></div><div class=\"contnr c2 trm   \" ><div class=\"lbl c2 trm \" ><span class=\"nd\">word</span> <span class=\"txto\"><span class=\"plain   \" ><span class=\"txto\">_ugula </span></span></span></div></div><div class=\"contnr c2 trm   \" ><div class=\"lbl c2 trm \" ><span class=\"nd\">word</span> <span class=\"txto\"><span class=\"plain   \" ><span class=\"txto\">gidri_ </span></span></span></div></div><div class=\"contnr c2 trm   \" ><div class=\"lbl c2 trm \" ><span class=\"nd\">word</span> <span class=\"txto\"><span class=\"plain   \" ><span class=\"txto\">szu-</span><span class=\"txto\">a-</span><span class=\"txto\">ti </span></span></span></div></div><div class=\"contnr c2 trm   \" ><div class=\"lbl c2 trm \" ><span class=\"nd\">word</span> <span class=\"txto\"><span class=\"plain   \" ><span class=\"txto\">li-</span><span class=\"txto\">x </span></span></span></div></div><div class=\"contnr c2 trm   \" ><div class=\"lbl c2 trm \" ><span class=\"nd\">word</span> <span class=\"txto\"><span class=\"plain   \" ><span class=\"txto\">x </span></span></span></div></div><div class=\"contnr c2 trm   \" ><div class=\"lbl c2 trm \" ><span class=\"nd\">word</span> <span class=\"txto\"><span class=\"plain   \" ><span class=\"txto\">x</span></span></span></div></div></div></div><div class=\"contnr c3    \" ><div class=\"lbl c3  \" ><span class=\"nd\">line</span></div><div class=\"children hor wrap \"><div class=\"contnr c2 trm   \" ><div class=\"lbl c2 trm \" ><span class=\"nd\">word</span> <span class=\"txto\"><span class=\"plain   \" ><span class=\"txto\">[sze-</span><span class=\"txto\">e] </span></span></span></div></div><div class=\"contnr c2 trm   \" ><div class=\"lbl c2 trm \" ><span class=\"nd\">word</span> <span class=\"txto\"><span class=\"plain   \" ><span class=\"txto\">_szuku_-</span><span class=\"txto\">ka </span></span></span></div></div><div class=\"contnr c2 trm   \" ><div class=\"lbl c2 trm \" ><span class=\"nd\">word</span> <span class=\"txto\"><span class=\"plain   \" ><span class=\"txto\">li-</span><span class=\"txto\">sza-</span><span class=\"txto\">li-</span><span class=\"txto\">mu-</span><span class=\"txto\">ka</span></span></span></div></div></div></div></div></div></div>"
      ],
      "text/plain": [
       "<IPython.core.display.HTML object>"
      ]
     },
     "metadata": {},
     "output_type": "display_data"
    }
   ],
   "source": [
    "A.show(\n",
    "    results,\n",
    "    end=2,\n",
    "    condensed=True,\n",
    "    condenseType=\"face\",\n",
    "    colorMap={0: \"\", 2: \"cyan\", 3: \"magenta\", 4: \"lightsalmon\"},\n",
    ")"
   ]
  },
  {
   "cell_type": "markdown",
   "metadata": {},
   "source": [
    "# Constraining order\n",
    "You can stipulate an order on the things in your template.\n",
    "You only have to put a relational operator between them.\n",
    "Say we want only results where the damage follows the missing."
   ]
  },
  {
   "cell_type": "code",
   "execution_count": 20,
   "metadata": {
    "ExecuteTime": {
     "end_time": "2018-05-24T07:47:14.547656Z",
     "start_time": "2018-05-24T07:47:14.544433Z"
    }
   },
   "outputs": [],
   "source": [
    "query = \"\"\"\n",
    "line\n",
    "  sign question=1\n",
    "  sign missing=1\n",
    "  < sign damage=1\n",
    "\"\"\""
   ]
  },
  {
   "cell_type": "code",
   "execution_count": 21,
   "metadata": {
    "ExecuteTime": {
     "end_time": "2018-05-24T07:48:04.746084Z",
     "start_time": "2018-05-24T07:48:03.223548Z"
    }
   },
   "outputs": [
    {
     "name": "stdout",
     "output_type": "stream",
     "text": [
      "  0.61s 372 results\n"
     ]
    },
    {
     "data": {
      "text/html": [
       "<table><tr class=\"tf ltr\"><th class=\"tf ltr\">n</th><th class=\"tf ltr\">p</th><th class=\"tf ltr\">line</th><th class=\"tf\">sign</th><th class=\"tf\">sign</th><th class=\"tf\">sign</th></tr>\n",
       "<tr class=\"tf ltr\"><td class=\"tf ltr\">1</td><td class=\"tf ltr\"><span class=\"section ltr\"><a target=\"_blank\" href=\"https://cdli.ucla.edu/search/search_results.php?SearchMode=Text&amp;ObjectID=P510530\" title=\"Show this document on CDLI\" sec=\"P510530 obverse:5\">P510530 obverse:5</a></span></td><td class=\"tf ltr\"><div class=\"\"><span class=\"txto\">{disz}</span><span class=\"plain   hl\" ><span class=\"txto\">[{d}</span></span><span class=\"txto\">x]-</span><span class=\"plain   hl\" ><span class=\"txto\">ra#?-</span></span><span class=\"txto\">bi </span><span class=\"txto\">il-</span><span class=\"txto\">qe2-</span><span class=\"txto\">a-</span><span class=\"txto\">am-</span><span class=\"txto\">ma</span></div></td><td class=\"tf ltr\"><div class=\"\"><span class=\"plain   hl\" ><span class=\"txto\">ra#?-</span></span></div></td><td class=\"tf ltr\"><div class=\"\"><span class=\"plain   hl\" ><span class=\"txto\">[{d}</span></span></div></td><td class=\"tf ltr\"><div class=\"\"><span class=\"plain   hl\" ><span class=\"txto\">ra#?-</span></span></div></td></tr>\n",
       "<tr class=\"tf ltr\"><td class=\"tf ltr\">2</td><td class=\"tf ltr\"><span class=\"section ltr\"><a target=\"_blank\" href=\"https://cdli.ucla.edu/search/search_results.php?SearchMode=Text&amp;ObjectID=P510530\" title=\"Show this document on CDLI\" sec=\"P510530 obverse:5\">P510530 obverse:5</a></span></td><td class=\"tf ltr\"><div class=\"\"><span class=\"txto\">{disz}</span><span class=\"txto\">[{d}</span><span class=\"plain   hl\" ><span class=\"txto\">x]-</span></span><span class=\"plain   hl\" ><span class=\"txto\">ra#?-</span></span><span class=\"txto\">bi </span><span class=\"txto\">il-</span><span class=\"txto\">qe2-</span><span class=\"txto\">a-</span><span class=\"txto\">am-</span><span class=\"txto\">ma</span></div></td><td class=\"tf ltr\"><div class=\"\"><span class=\"plain   hl\" ><span class=\"txto\">ra#?-</span></span></div></td><td class=\"tf ltr\"><div class=\"\"><span class=\"plain   hl\" ><span class=\"txto\">x]-</span></span></div></td><td class=\"tf ltr\"><div class=\"\"><span class=\"plain   hl\" ><span class=\"txto\">ra#?-</span></span></div></td></tr>\n",
       "<tr class=\"tf ltr\"><td class=\"tf ltr\">3</td><td class=\"tf ltr\"><span class=\"section ltr\"><a target=\"_blank\" href=\"https://cdli.ucla.edu/search/search_results.php?SearchMode=Text&amp;ObjectID=P510530\" title=\"Show this document on CDLI\" sec=\"P510530 reverse:11\">P510530 reverse:11</a></span></td><td class=\"tf ltr\"><div class=\"\"><span class=\"plain   hl\" ><span class=\"txto\">[szu-</span></span><span class=\"txto\">bu-</span><span class=\"plain   hl\" ><span class=\"txto\">lim?] </span></span><span class=\"plain   hl\" ><span class=\"txto\">sza# </span></span><span class=\"txto\">ta-</span><span class=\"txto\">asz-</span><span class=\"txto\">pu-</span><span class=\"txto\">ra-</span><span class=\"txto\">am</span></div></td><td class=\"tf ltr\"><div class=\"\"><span class=\"plain   hl\" ><span class=\"txto\">lim?] </span></span></div></td><td class=\"tf ltr\"><div class=\"\"><span class=\"plain   hl\" ><span class=\"txto\">[szu-</span></span></div></td><td class=\"tf ltr\"><div class=\"\"><span class=\"plain   hl\" ><span class=\"txto\">sza# </span></span></div></td></tr>\n",
       "<tr class=\"tf ltr\"><td class=\"tf ltr\">4</td><td class=\"tf ltr\"><span class=\"section ltr\"><a target=\"_blank\" href=\"https://cdli.ucla.edu/search/search_results.php?SearchMode=Text&amp;ObjectID=P510530\" title=\"Show this document on CDLI\" sec=\"P510530 reverse:11\">P510530 reverse:11</a></span></td><td class=\"tf ltr\"><div class=\"\"><span class=\"txto\">[szu-</span><span class=\"plain   hl\" ><span class=\"txto\">bu-</span></span><span class=\"plain   hl\" ><span class=\"txto\">lim?] </span></span><span class=\"plain   hl\" ><span class=\"txto\">sza# </span></span><span class=\"txto\">ta-</span><span class=\"txto\">asz-</span><span class=\"txto\">pu-</span><span class=\"txto\">ra-</span><span class=\"txto\">am</span></div></td><td class=\"tf ltr\"><div class=\"\"><span class=\"plain   hl\" ><span class=\"txto\">lim?] </span></span></div></td><td class=\"tf ltr\"><div class=\"\"><span class=\"plain   hl\" ><span class=\"txto\">bu-</span></span></div></td><td class=\"tf ltr\"><div class=\"\"><span class=\"plain   hl\" ><span class=\"txto\">sza# </span></span></div></td></tr>\n",
       "<tr class=\"tf ltr\"><td class=\"tf ltr\">5</td><td class=\"tf ltr\"><span class=\"section ltr\"><a target=\"_blank\" href=\"https://cdli.ucla.edu/search/search_results.php?SearchMode=Text&amp;ObjectID=P510530\" title=\"Show this document on CDLI\" sec=\"P510530 reverse:11\">P510530 reverse:11</a></span></td><td class=\"tf ltr\"><div class=\"\"><span class=\"txto\">[szu-</span><span class=\"txto\">bu-</span><span class=\"plain   hl\" ><span class=\"txto\">lim?] </span></span><span class=\"plain   hl\" ><span class=\"txto\">sza# </span></span><span class=\"txto\">ta-</span><span class=\"txto\">asz-</span><span class=\"txto\">pu-</span><span class=\"txto\">ra-</span><span class=\"txto\">am</span></div></td><td class=\"tf ltr\"><div class=\"\"><span class=\"plain   hl\" ><span class=\"txto\">lim?] </span></span></div></td><td class=\"tf ltr\"><div class=\"\"><span class=\"plain   hl\" ><span class=\"txto\">lim?] </span></span></div></td><td class=\"tf ltr\"><div class=\"\"><span class=\"plain   hl\" ><span class=\"txto\">sza# </span></span></div></td></tr>\n",
       "<tr class=\"tf ltr\"><td class=\"tf ltr\">6</td><td class=\"tf ltr\"><span class=\"section ltr\"><a target=\"_blank\" href=\"https://cdli.ucla.edu/search/search_results.php?SearchMode=Text&amp;ObjectID=P510550\" title=\"Show this document on CDLI\" sec=\"P510550 obverse:9\">P510550 obverse:9</a></span></td><td class=\"tf ltr\"><div class=\"\"><span class=\"txto\">_ha-</span><span class=\"txto\">za-</span><span class=\"txto\">nu-</span><span class=\"txto\">um</span><span class=\"txto\">{sar}_ </span><span class=\"txto\">i-</span><span class=\"txto\">ka-</span><span class=\"plain   hl\" ><span class=\"txto\">am#? </span></span><span class=\"plain   hl\" ><span class=\"txto\">[x] </span></span><span class=\"txto\">x-</span><span class=\"plain   hl\" ><span class=\"txto\">al#-</span></span><span class=\"txto\">la-</span><span class=\"txto\">x-</span><span class=\"txto\">ma</span></div></td><td class=\"tf ltr\"><div class=\"\"><span class=\"plain   hl\" ><span class=\"txto\">am#? </span></span></div></td><td class=\"tf ltr\"><div class=\"\"><span class=\"plain   hl\" ><span class=\"txto\">[x] </span></span></div></td><td class=\"tf ltr\"><div class=\"\"><span class=\"plain   hl\" ><span class=\"txto\">al#-</span></span></div></td></tr>\n",
       "<tr class=\"tf ltr\"><td class=\"tf ltr\">7</td><td class=\"tf ltr\"><span class=\"section ltr\"><a target=\"_blank\" href=\"https://cdli.ucla.edu/search/search_results.php?SearchMode=Text&amp;ObjectID=P510565\" title=\"Show this document on CDLI\" sec=\"P510565 reverse:4\">P510565 reverse:4</a></span></td><td class=\"tf ltr\"><div class=\"\"><span class=\"plain   hl\" ><span class=\"txto\">[a-</span></span><span class=\"plain   hl\" ><span class=\"txto\">na?] </span></span><span class=\"txto\">_e2_ </span><span class=\"txto\">{d}</span><span class=\"txto\">utu </span><span class=\"txto\">szu-</span><span class=\"txto\">ri-</span><span class=\"txto\">ba-</span><span class=\"plain   hl\" ><span class=\"txto\">am#</span></span></div></td><td class=\"tf ltr\"><div class=\"\"><span class=\"plain   hl\" ><span class=\"txto\">na?] </span></span></div></td><td class=\"tf ltr\"><div class=\"\"><span class=\"plain   hl\" ><span class=\"txto\">[a-</span></span></div></td><td class=\"tf ltr\"><div class=\"\"><span class=\"plain   hl\" ><span class=\"txto\">am#</span></span></div></td></tr>\n",
       "<tr class=\"tf ltr\"><td class=\"tf ltr\">8</td><td class=\"tf ltr\"><span class=\"section ltr\"><a target=\"_blank\" href=\"https://cdli.ucla.edu/search/search_results.php?SearchMode=Text&amp;ObjectID=P510565\" title=\"Show this document on CDLI\" sec=\"P510565 reverse:4\">P510565 reverse:4</a></span></td><td class=\"tf ltr\"><div class=\"\"><span class=\"txto\">[a-</span><span class=\"plain   hl\" ><span class=\"txto\">na?] </span></span><span class=\"txto\">_e2_ </span><span class=\"txto\">{d}</span><span class=\"txto\">utu </span><span class=\"txto\">szu-</span><span class=\"txto\">ri-</span><span class=\"txto\">ba-</span><span class=\"plain   hl\" ><span class=\"txto\">am#</span></span></div></td><td class=\"tf ltr\"><div class=\"\"><span class=\"plain   hl\" ><span class=\"txto\">na?] </span></span></div></td><td class=\"tf ltr\"><div class=\"\"><span class=\"plain   hl\" ><span class=\"txto\">na?] </span></span></div></td><td class=\"tf ltr\"><div class=\"\"><span class=\"plain   hl\" ><span class=\"txto\">am#</span></span></div></td></tr>\n",
       "<tr class=\"tf ltr\"><td class=\"tf ltr\">9</td><td class=\"tf ltr\"><span class=\"section ltr\"><a target=\"_blank\" href=\"https://cdli.ucla.edu/search/search_results.php?SearchMode=Text&amp;ObjectID=P510567\" title=\"Show this document on CDLI\" sec=\"P510567 reverse:2\">P510567 reverse:2</a></span></td><td class=\"tf ltr\"><div class=\"\"><span class=\"plain   hl\" ><span class=\"txto\">[...] </span></span><span class=\"plain   hl\" ><span class=\"txto\">ia#? </span></span><span class=\"txto\">_sag-</span><span class=\"txto\">us2_</span></div></td><td class=\"tf ltr\"><div class=\"\"><span class=\"plain   hl\" ><span class=\"txto\">ia#? </span></span></div></td><td class=\"tf ltr\"><div class=\"\"><span class=\"plain   hl\" ><span class=\"txto\">[...] </span></span></div></td><td class=\"tf ltr\"><div class=\"\"><span class=\"plain   hl\" ><span class=\"txto\">ia#? </span></span></div></td></tr>\n",
       "<tr class=\"tf ltr\"><td class=\"tf ltr\">10</td><td class=\"tf ltr\"><span class=\"section ltr\"><a target=\"_blank\" href=\"https://cdli.ucla.edu/search/search_results.php?SearchMode=Text&amp;ObjectID=P510586\" title=\"Show this document on CDLI\" sec=\"P510586 obverse:11\">P510586 obverse:11</a></span></td><td class=\"tf ltr\"><div class=\"\"><span class=\"plain   hl\" ><span class=\"txto\">[{disz}]</span></span><span class=\"txto\">i-</span><span class=\"txto\">na-</span><span class=\"txto\">e2-</span><span class=\"txto\">ul-</span><span class=\"txto\">masz-</span><span class=\"plain   hl\" ><span class=\"txto\">numun# </span></span><span class=\"txto\">a-</span><span class=\"plain   hl\" ><span class=\"txto\">na#? </span></span><span class=\"txto\">[ma-</span><span class=\"txto\">ah-</span><span class=\"txto\">ri-</span><span class=\"txto\">ka?]</span></div></td><td class=\"tf ltr\"><div class=\"\"><span class=\"plain   hl\" ><span class=\"txto\">na#? </span></span></div></td><td class=\"tf ltr\"><div class=\"\"><span class=\"plain   hl\" ><span class=\"txto\">[{disz}]</span></span></div></td><td class=\"tf ltr\"><div class=\"\"><span class=\"plain   hl\" ><span class=\"txto\">numun# </span></span></div></td></tr></table>"
      ],
      "text/plain": [
       "<IPython.core.display.HTML object>"
      ]
     },
     "metadata": {},
     "output_type": "display_data"
    }
   ],
   "source": [
    "results = A.search(query)\n",
    "A.table(results, end=10, baseTypes=\"sign\")"
   ]
  },
  {
   "cell_type": "markdown",
   "metadata": {},
   "source": [
    "We can also require the things to be adjacent."
   ]
  },
  {
   "cell_type": "code",
   "execution_count": 22,
   "metadata": {
    "ExecuteTime": {
     "end_time": "2018-05-24T07:47:14.547656Z",
     "start_time": "2018-05-24T07:47:14.544433Z"
    }
   },
   "outputs": [],
   "source": [
    "query = \"\"\"\n",
    "line\n",
    "  sign question=1\n",
    "  sign missing=1\n",
    "  <: sign damage=1\n",
    "\"\"\""
   ]
  },
  {
   "cell_type": "code",
   "execution_count": 23,
   "metadata": {
    "ExecuteTime": {
     "end_time": "2018-05-24T07:48:04.746084Z",
     "start_time": "2018-05-24T07:48:03.223548Z"
    }
   },
   "outputs": [
    {
     "name": "stdout",
     "output_type": "stream",
     "text": [
      "  0.60s 84 results\n"
     ]
    },
    {
     "data": {
      "text/html": [
       "<table><tr class=\"tf ltr\"><th class=\"tf ltr\">n</th><th class=\"tf ltr\">p</th><th class=\"tf ltr\">line</th><th class=\"tf\">sign</th><th class=\"tf\">sign</th><th class=\"tf\">sign</th></tr>\n",
       "<tr class=\"tf ltr\"><td class=\"tf ltr\">1</td><td class=\"tf ltr\"><span class=\"section ltr\"><a target=\"_blank\" href=\"https://cdli.ucla.edu/search/search_results.php?SearchMode=Text&amp;ObjectID=P510530\" title=\"Show this document on CDLI\" sec=\"P510530 obverse:5\">P510530 obverse:5</a></span></td><td class=\"tf ltr\"><div class=\"\"><span class=\"txto\">{disz}</span><span class=\"txto\">[{d}</span><span class=\"plain   hl\" ><span class=\"txto\">x]-</span></span><span class=\"plain   hl\" ><span class=\"txto\">ra#?-</span></span><span class=\"txto\">bi </span><span class=\"txto\">il-</span><span class=\"txto\">qe2-</span><span class=\"txto\">a-</span><span class=\"txto\">am-</span><span class=\"txto\">ma</span></div></td><td class=\"tf ltr\"><div class=\"\"><span class=\"plain   hl\" ><span class=\"txto\">ra#?-</span></span></div></td><td class=\"tf ltr\"><div class=\"\"><span class=\"plain   hl\" ><span class=\"txto\">x]-</span></span></div></td><td class=\"tf ltr\"><div class=\"\"><span class=\"plain   hl\" ><span class=\"txto\">ra#?-</span></span></div></td></tr>\n",
       "<tr class=\"tf ltr\"><td class=\"tf ltr\">2</td><td class=\"tf ltr\"><span class=\"section ltr\"><a target=\"_blank\" href=\"https://cdli.ucla.edu/search/search_results.php?SearchMode=Text&amp;ObjectID=P510530\" title=\"Show this document on CDLI\" sec=\"P510530 reverse:11\">P510530 reverse:11</a></span></td><td class=\"tf ltr\"><div class=\"\"><span class=\"txto\">[szu-</span><span class=\"txto\">bu-</span><span class=\"plain   hl\" ><span class=\"txto\">lim?] </span></span><span class=\"plain   hl\" ><span class=\"txto\">sza# </span></span><span class=\"txto\">ta-</span><span class=\"txto\">asz-</span><span class=\"txto\">pu-</span><span class=\"txto\">ra-</span><span class=\"txto\">am</span></div></td><td class=\"tf ltr\"><div class=\"\"><span class=\"plain   hl\" ><span class=\"txto\">lim?] </span></span></div></td><td class=\"tf ltr\"><div class=\"\"><span class=\"plain   hl\" ><span class=\"txto\">lim?] </span></span></div></td><td class=\"tf ltr\"><div class=\"\"><span class=\"plain   hl\" ><span class=\"txto\">sza# </span></span></div></td></tr>\n",
       "<tr class=\"tf ltr\"><td class=\"tf ltr\">3</td><td class=\"tf ltr\"><span class=\"section ltr\"><a target=\"_blank\" href=\"https://cdli.ucla.edu/search/search_results.php?SearchMode=Text&amp;ObjectID=P510567\" title=\"Show this document on CDLI\" sec=\"P510567 reverse:2\">P510567 reverse:2</a></span></td><td class=\"tf ltr\"><div class=\"\"><span class=\"plain   hl\" ><span class=\"txto\">[...] </span></span><span class=\"plain   hl\" ><span class=\"txto\">ia#? </span></span><span class=\"txto\">_sag-</span><span class=\"txto\">us2_</span></div></td><td class=\"tf ltr\"><div class=\"\"><span class=\"plain   hl\" ><span class=\"txto\">ia#? </span></span></div></td><td class=\"tf ltr\"><div class=\"\"><span class=\"plain   hl\" ><span class=\"txto\">[...] </span></span></div></td><td class=\"tf ltr\"><div class=\"\"><span class=\"plain   hl\" ><span class=\"txto\">ia#? </span></span></div></td></tr>\n",
       "<tr class=\"tf ltr\"><td class=\"tf ltr\">4</td><td class=\"tf ltr\"><span class=\"section ltr\"><a target=\"_blank\" href=\"https://cdli.ucla.edu/search/search_results.php?SearchMode=Text&amp;ObjectID=P510586\" title=\"Show this document on CDLI\" sec=\"P510586 obverse:27\">P510586 obverse:27</a></span></td><td class=\"tf ltr\"><div class=\"\"><span class=\"txto\">[asz-</span><span class=\"txto\">szum </span><span class=\"plain   hl\" ><span class=\"txto\">ha]-</span></span><span class=\"plain   hl\" ><span class=\"txto\">bil2#?-</span></span><span class=\"txto\">we?-</span><span class=\"txto\">du-</span><span class=\"txto\">um </span><span class=\"txto\">sza </span><span class=\"txto\">asz-</span><span class=\"txto\">pu-</span><span class=\"txto\">ra#-</span><span class=\"txto\">[ak-</span><span class=\"txto\">kum]</span></div></td><td class=\"tf ltr\"><div class=\"\"><span class=\"plain   hl\" ><span class=\"txto\">bil2#?-</span></span></div></td><td class=\"tf ltr\"><div class=\"\"><span class=\"plain   hl\" ><span class=\"txto\">ha]-</span></span></div></td><td class=\"tf ltr\"><div class=\"\"><span class=\"plain   hl\" ><span class=\"txto\">bil2#?-</span></span></div></td></tr>\n",
       "<tr class=\"tf ltr\"><td class=\"tf ltr\">5</td><td class=\"tf ltr\"><span class=\"section ltr\"><a target=\"_blank\" href=\"https://cdli.ucla.edu/search/search_results.php?SearchMode=Text&amp;ObjectID=P510586\" title=\"Show this document on CDLI\" sec=\"P510586 obverse:27\">P510586 obverse:27</a></span></td><td class=\"tf ltr\"><div class=\"\"><span class=\"txto\">[asz-</span><span class=\"txto\">szum </span><span class=\"plain   hl\" ><span class=\"txto\">ha]-</span></span><span class=\"plain   hl\" ><span class=\"txto\">bil2#?-</span></span><span class=\"plain   hl\" ><span class=\"txto\">we?-</span></span><span class=\"txto\">du-</span><span class=\"txto\">um </span><span class=\"txto\">sza </span><span class=\"txto\">asz-</span><span class=\"txto\">pu-</span><span class=\"txto\">ra#-</span><span class=\"txto\">[ak-</span><span class=\"txto\">kum]</span></div></td><td class=\"tf ltr\"><div class=\"\"><span class=\"plain   hl\" ><span class=\"txto\">we?-</span></span></div></td><td class=\"tf ltr\"><div class=\"\"><span class=\"plain   hl\" ><span class=\"txto\">ha]-</span></span></div></td><td class=\"tf ltr\"><div class=\"\"><span class=\"plain   hl\" ><span class=\"txto\">bil2#?-</span></span></div></td></tr>\n",
       "<tr class=\"tf ltr\"><td class=\"tf ltr\">6</td><td class=\"tf ltr\"><span class=\"section ltr\"><a target=\"_blank\" href=\"https://cdli.ucla.edu/search/search_results.php?SearchMode=Text&amp;ObjectID=P510588\" title=\"Show this document on CDLI\" sec=\"P510588 left:1':2\">P510588 left:1':2</a></span></td><td class=\"tf ltr\"><div class=\"\"><span class=\"plain   hl\" ><span class=\"txto\">[i?]-</span></span><span class=\"plain   hl\" ><span class=\"txto\">na# </span></span><span class=\"txto\">zimbir</span><span class=\"txto\">{ki#}</span></div></td><td class=\"tf ltr\"><div class=\"\"><span class=\"plain   hl\" ><span class=\"txto\">[i?]-</span></span></div></td><td class=\"tf ltr\"><div class=\"\"><span class=\"plain   hl\" ><span class=\"txto\">[i?]-</span></span></div></td><td class=\"tf ltr\"><div class=\"\"><span class=\"plain   hl\" ><span class=\"txto\">na# </span></span></div></td></tr>\n",
       "<tr class=\"tf ltr\"><td class=\"tf ltr\">7</td><td class=\"tf ltr\"><span class=\"section ltr\"><a target=\"_blank\" href=\"https://cdli.ucla.edu/search/search_results.php?SearchMode=Text&amp;ObjectID=P510597\" title=\"Show this document on CDLI\" sec=\"P510597 obverse:12\">P510597 obverse:12</a></span></td><td class=\"tf ltr\"><div class=\"\"><span class=\"plain   hl\" ><span class=\"txto\">[a?-</span></span><span class=\"plain   hl\" ><span class=\"txto\">na] </span></span><span class=\"plain   hl\" ><span class=\"txto\">babila2#</span></span><span class=\"txto\">[{ki}]</span></div></td><td class=\"tf ltr\"><div class=\"\"><span class=\"plain   hl\" ><span class=\"txto\">[a?-</span></span></div></td><td class=\"tf ltr\"><div class=\"\"><span class=\"plain   hl\" ><span class=\"txto\">na] </span></span></div></td><td class=\"tf ltr\"><div class=\"\"><span class=\"plain   hl\" ><span class=\"txto\">babila2#</span></span></div></td></tr>\n",
       "<tr class=\"tf ltr\"><td class=\"tf ltr\">8</td><td class=\"tf ltr\"><span class=\"section ltr\"><a target=\"_blank\" href=\"https://cdli.ucla.edu/search/search_results.php?SearchMode=Text&amp;ObjectID=P510657\" title=\"Show this document on CDLI\" sec=\"P510657 envelope - obverse:1\">P510657 envelope - obverse:1</a></span></td><td class=\"tf ltr\"><div class=\"\"><span class=\"plain   hl\" ><span class=\"txto\">[tup]-</span></span><span class=\"plain   hl\" ><span class=\"txto\">pi#? </span></span><span class=\"txto\">a-</span><span class=\"txto\">hi-</span><span class=\"txto\">i3-</span><span class=\"txto\">li2-</span><span class=\"txto\">ia</span></div></td><td class=\"tf ltr\"><div class=\"\"><span class=\"plain   hl\" ><span class=\"txto\">pi#? </span></span></div></td><td class=\"tf ltr\"><div class=\"\"><span class=\"plain   hl\" ><span class=\"txto\">[tup]-</span></span></div></td><td class=\"tf ltr\"><div class=\"\"><span class=\"plain   hl\" ><span class=\"txto\">pi#? </span></span></div></td></tr>\n",
       "<tr class=\"tf ltr\"><td class=\"tf ltr\">9</td><td class=\"tf ltr\"><span class=\"section ltr\"><a target=\"_blank\" href=\"https://cdli.ucla.edu/search/search_results.php?SearchMode=Text&amp;ObjectID=P510660\" title=\"Show this document on CDLI\" sec=\"P510660 reverse:7\">P510660 reverse:7</a></span></td><td class=\"tf ltr\"><div class=\"\"><span class=\"plain   hl\" ><span class=\"txto\">[t,e4?]-</span></span><span class=\"plain   hl\" ><span class=\"txto\">em# </span></span><span class=\"txto\">_a-</span><span class=\"txto\">sza3_ </span><span class=\"txto\">ma-</span><span class=\"txto\">la </span><span class=\"txto\">a-</span><span class=\"txto\">di </span><span class=\"txto\">i-</span><span class=\"txto\">na-</span><span class=\"txto\">an-</span><span class=\"txto\">na</span></div></td><td class=\"tf ltr\"><div class=\"\"><span class=\"plain   hl\" ><span class=\"txto\">[t,e4?]-</span></span></div></td><td class=\"tf ltr\"><div class=\"\"><span class=\"plain   hl\" ><span class=\"txto\">[t,e4?]-</span></span></div></td><td class=\"tf ltr\"><div class=\"\"><span class=\"plain   hl\" ><span class=\"txto\">em# </span></span></div></td></tr>\n",
       "<tr class=\"tf ltr\"><td class=\"tf ltr\">10</td><td class=\"tf ltr\"><span class=\"section ltr\"><a target=\"_blank\" href=\"https://cdli.ucla.edu/search/search_results.php?SearchMode=Text&amp;ObjectID=P510662\" title=\"Show this document on CDLI\" sec=\"P510662 reverse:1\">P510662 reverse:1</a></span></td><td class=\"tf ltr\"><div class=\"\"><span class=\"plain   hl\" ><span class=\"txto\">[1(disz)?] </span></span><span class=\"plain   hl\" ><span class=\"txto\">_tug2#?_ </span></span><span class=\"txto\">a-</span><span class=\"txto\">la-</span><span class=\"txto\">qe2-</span><span class=\"txto\">am</span></div></td><td class=\"tf ltr\"><div class=\"\"><span class=\"plain   hl\" ><span class=\"txto\">[1(disz)?] </span></span></div></td><td class=\"tf ltr\"><div class=\"\"><span class=\"plain   hl\" ><span class=\"txto\">[1(disz)?] </span></span></div></td><td class=\"tf ltr\"><div class=\"\"><span class=\"plain   hl\" ><span class=\"txto\">_tug2#?_ </span></span></div></td></tr></table>"
      ],
      "text/plain": [
       "<IPython.core.display.HTML object>"
      ]
     },
     "metadata": {},
     "output_type": "display_data"
    },
    {
     "data": {
      "text/html": [
       "<p><b>result</b> <i>1</i></p>"
      ],
      "text/plain": [
       "<IPython.core.display.HTML object>"
      ]
     },
     "metadata": {},
     "output_type": "display_data"
    },
    {
     "data": {
      "text/html": [
       "<div class=\"section \"><a target=\"_blank\" href=\"https://cdli.ucla.edu/search/search_results.php?SearchMode=Text&amp;ObjectID=P510530\" title=\"Show this document on CDLI\" sec=\"P510530 obverse:5\">P510530 obverse:5</a></div><div class=\" children\"><div class=\"contnr c3    \" ><div class=\"lbl c3  \" ><span class=\"nd\">line</span></div><div class=\"children hor wrap \"><div class=\"contnr c2    \" ><div class=\"lbl c2  \" ><span class=\"nd\">word</span> <span class=\"txto\">{disz}[{d}x]-ra#?-bi </span></div><div class=\"children hor  \"><div class=\"contnr c1    \" ><div class=\"lbl c1  \" ><span class=\"nd\">cluster</span></div><div class=\"children hor wrap \"><div class=\"contnr c0 trm   \" ><div class=\"lbl c0 trm \" ><span class=\"txto\">{disz}</span></div></div></div></div><div class=\"contnr c1    \" ><div class=\"lbl c1  \" ><span class=\"nd\">cluster</span></div><div class=\"children hor wrap \"><div class=\"contnr c1    \" ><div class=\"lbl c1  \" ><span class=\"nd\">cluster</span></div><div class=\"children hor wrap \"><div class=\"contnr c0 trm   \" ><div class=\"lbl c0 trm \" ><span class=\"txto\">[{d}</span></div><div class='features'><span class=\"missing xft\" ><span class=\"f\">missing=</span>1</span></div></div></div></div><div class=\"contnr c0 trm   hl\"  style=\"background-color: magenta;\" ><div class=\"lbl c0 trm hl\"  style=\"background-color: magenta;\" ><span class=\"txto\">x]-</span></div><div class='features'><span class=\"missing xft\" ><span class=\"f\">missing=</span>1</span></div></div></div></div><div class=\"contnr c0 trm   hl\"  style=\"background-color: cyan;\" ><div class=\"lbl c0 trm hl\"  style=\"background-color: cyan;\" ><span class=\"txto\">ra#?-</span></div><div class='features'><span class=\"damage xft\" ><span class=\"f\">damage=</span>1</span><span class=\"question xft\" ><span class=\"f\">question=</span>1</span></div></div><div class=\"contnr c0 trm   \" ><div class=\"lbl c0 trm \" ><span class=\"txto\">bi </span></div></div></div></div><div class=\"contnr c2    \" ><div class=\"lbl c2  \" ><span class=\"nd\">word</span> <span class=\"txto\">il-qe2-a-am-ma</span></div><div class=\"children hor  \"><div class=\"contnr c0 trm   \" ><div class=\"lbl c0 trm \" ><span class=\"txto\">il-</span></div></div><div class=\"contnr c0 trm   \" ><div class=\"lbl c0 trm \" ><span class=\"txto\">qe2-</span></div></div><div class=\"contnr c0 trm   \" ><div class=\"lbl c0 trm \" ><span class=\"txto\">a-</span></div></div><div class=\"contnr c0 trm   \" ><div class=\"lbl c0 trm \" ><span class=\"txto\">am-</span></div></div><div class=\"contnr c0 trm   \" ><div class=\"lbl c0 trm \" ><span class=\"txto\">ma</span></div></div></div></div></div></div></div>"
      ],
      "text/plain": [
       "<IPython.core.display.HTML object>"
      ]
     },
     "metadata": {},
     "output_type": "display_data"
    },
    {
     "data": {
      "text/html": [
       "<p><b>result</b> <i>2</i></p>"
      ],
      "text/plain": [
       "<IPython.core.display.HTML object>"
      ]
     },
     "metadata": {},
     "output_type": "display_data"
    },
    {
     "data": {
      "text/html": [
       "<div class=\"section \"><a target=\"_blank\" href=\"https://cdli.ucla.edu/search/search_results.php?SearchMode=Text&amp;ObjectID=P510530\" title=\"Show this document on CDLI\" sec=\"P510530 reverse:11\">P510530 reverse:11</a></div><div class=\" children\"><div class=\"contnr c3    \" ><div class=\"lbl c3  \" ><span class=\"nd\">line</span></div><div class=\"children hor wrap \"><div class=\"contnr c2    \" ><div class=\"lbl c2  \" ><span class=\"nd\">word</span> <span class=\"txto\">[szu-bu-lim?] </span></div><div class=\"children hor  \"><div class=\"contnr c1    \" ><div class=\"lbl c1  \" ><span class=\"nd\">cluster</span></div><div class=\"children hor wrap \"><div class=\"contnr c0 trm   \" ><div class=\"lbl c0 trm \" ><span class=\"txto\">[szu-</span></div><div class='features'><span class=\"missing xft\" ><span class=\"f\">missing=</span>1</span></div></div><div class=\"contnr c0 trm   \" ><div class=\"lbl c0 trm \" ><span class=\"txto\">bu-</span></div><div class='features'><span class=\"missing xft\" ><span class=\"f\">missing=</span>1</span></div></div><div class=\"contnr c0 trm   hl\"  style=\"background-color: cyan;\" ><div class=\"lbl c0 trm hl\"  style=\"background-color: cyan;\" ><span class=\"txto\">lim?] </span></div><div class='features'><span class=\"missing xft\" ><span class=\"f\">missing=</span>1</span><span class=\"question xft\" ><span class=\"f\">question=</span>1</span></div></div></div></div></div></div><div class=\"contnr c2    \" ><div class=\"lbl c2  \" ><span class=\"nd\">word</span> <span class=\"txto\">sza# </span></div><div class=\"children hor  \"><div class=\"contnr c0 trm   hl\"  style=\"background-color: lightsalmon;\" ><div class=\"lbl c0 trm hl\"  style=\"background-color: lightsalmon;\" ><span class=\"txto\">sza# </span></div><div class='features'><span class=\"damage xft\" ><span class=\"f\">damage=</span>1</span></div></div></div></div><div class=\"contnr c2    \" ><div class=\"lbl c2  \" ><span class=\"nd\">word</span> <span class=\"txto\">ta-asz-pu-ra-am</span></div><div class=\"children hor  \"><div class=\"contnr c0 trm   \" ><div class=\"lbl c0 trm \" ><span class=\"txto\">ta-</span></div></div><div class=\"contnr c0 trm   \" ><div class=\"lbl c0 trm \" ><span class=\"txto\">asz-</span></div></div><div class=\"contnr c0 trm   \" ><div class=\"lbl c0 trm \" ><span class=\"txto\">pu-</span></div></div><div class=\"contnr c0 trm   \" ><div class=\"lbl c0 trm \" ><span class=\"txto\">ra-</span></div></div><div class=\"contnr c0 trm   \" ><div class=\"lbl c0 trm \" ><span class=\"txto\">am</span></div></div></div></div></div></div></div>"
      ],
      "text/plain": [
       "<IPython.core.display.HTML object>"
      ]
     },
     "metadata": {},
     "output_type": "display_data"
    },
    {
     "data": {
      "text/html": [
       "<p><b>result</b> <i>3</i></p>"
      ],
      "text/plain": [
       "<IPython.core.display.HTML object>"
      ]
     },
     "metadata": {},
     "output_type": "display_data"
    },
    {
     "data": {
      "text/html": [
       "<div class=\"section \"><a target=\"_blank\" href=\"https://cdli.ucla.edu/search/search_results.php?SearchMode=Text&amp;ObjectID=P510567\" title=\"Show this document on CDLI\" sec=\"P510567 reverse:2\">P510567 reverse:2</a></div><div class=\" children\"><div class=\"contnr c3    \" ><div class=\"lbl c3  \" ><span class=\"nd\">line</span></div><div class=\"children hor wrap \"><div class=\"contnr c2    \" ><div class=\"lbl c2  \" ><span class=\"nd\">word</span> <span class=\"txto\">[...] </span></div><div class=\"children hor  \"><div class=\"contnr c1    \" ><div class=\"lbl c1  \" ><span class=\"nd\">cluster</span></div><div class=\"children hor wrap \"><div class=\"contnr c0 trm   hl\"  style=\"background-color: magenta;\" ><div class=\"lbl c0 trm hl\"  style=\"background-color: magenta;\" ><span class=\"txto\">[...] </span></div><div class='features'><span class=\"missing xft\" ><span class=\"f\">missing=</span>1</span></div></div></div></div></div></div><div class=\"contnr c2    \" ><div class=\"lbl c2  \" ><span class=\"nd\">word</span> <span class=\"txto\">ia#? </span></div><div class=\"children hor  \"><div class=\"contnr c0 trm   hl\"  style=\"background-color: cyan;\" ><div class=\"lbl c0 trm hl\"  style=\"background-color: cyan;\" ><span class=\"txto\">ia#? </span></div><div class='features'><span class=\"damage xft\" ><span class=\"f\">damage=</span>1</span><span class=\"question xft\" ><span class=\"f\">question=</span>1</span></div></div></div></div><div class=\"contnr c2    \" ><div class=\"lbl c2  \" ><span class=\"nd\">word</span> <span class=\"txto\">_sag-us2_</span></div><div class=\"children hor  \"><div class=\"contnr c1    \" ><div class=\"lbl c1  \" ><span class=\"nd\">cluster</span></div><div class=\"children hor wrap \"><div class=\"contnr c0 trm   \" ><div class=\"lbl c0 trm \" ><span class=\"txto\">_sag-</span></div></div><div class=\"contnr c0 trm   \" ><div class=\"lbl c0 trm \" ><span class=\"txto\">us2_</span></div></div></div></div></div></div></div></div></div>"
      ],
      "text/plain": [
       "<IPython.core.display.HTML object>"
      ]
     },
     "metadata": {},
     "output_type": "display_data"
    },
    {
     "data": {
      "text/html": [
       "<p><b>result</b> <i>4</i></p>"
      ],
      "text/plain": [
       "<IPython.core.display.HTML object>"
      ]
     },
     "metadata": {},
     "output_type": "display_data"
    },
    {
     "data": {
      "text/html": [
       "<div class=\"section \"><a target=\"_blank\" href=\"https://cdli.ucla.edu/search/search_results.php?SearchMode=Text&amp;ObjectID=P510586\" title=\"Show this document on CDLI\" sec=\"P510586 obverse:27\">P510586 obverse:27</a></div><div class=\" children\"><div class=\"contnr c3    \" ><div class=\"lbl c3  \" ><span class=\"nd\">line</span></div><div class=\"children hor wrap \"><div class=\"contnr c2    \" ><div class=\"lbl c2  \" ><span class=\"nd\">word</span> <span class=\"txto\">[asz-szum </span></div><div class=\"children hor  \"><div class=\"contnr c1   rno \" ><div class=\"lbl c1  \" ><span class=\"nd\">cluster</span></div><div class=\"children hor wrap \"><div class=\"contnr c0 trm   \" ><div class=\"lbl c0 trm \" ><span class=\"txto\">[asz-</span></div><div class='features'><span class=\"missing xft\" ><span class=\"f\">missing=</span>1</span></div></div><div class=\"contnr c0 trm   \" ><div class=\"lbl c0 trm \" ><span class=\"txto\">szum </span></div><div class='features'><span class=\"missing xft\" ><span class=\"f\">missing=</span>1</span></div></div></div></div></div></div><div class=\"contnr c2    \" ><div class=\"lbl c2  \" ><span class=\"nd\">word</span> <span class=\"txto\">ha]-bil2#?-we?-du-um </span></div><div class=\"children hor  \"><div class=\"contnr c1   lno \" ><div class=\"lbl c1  \" ><span class=\"nd\">cluster</span></div><div class=\"children hor wrap \"><div class=\"contnr c0 trm   hl\"  style=\"background-color: magenta;\" ><div class=\"lbl c0 trm hl\"  style=\"background-color: magenta;\" ><span class=\"txto\">ha]-</span></div><div class='features'><span class=\"missing xft\" ><span class=\"f\">missing=</span>1</span></div></div></div></div><div class=\"contnr c0 trm   hl\"  style=\"background-color: cyan;\" ><div class=\"lbl c0 trm hl\"  style=\"background-color: cyan;\" ><span class=\"txto\">bil2#?-</span></div><div class='features'><span class=\"damage xft\" ><span class=\"f\">damage=</span>1</span><span class=\"question xft\" ><span class=\"f\">question=</span>1</span></div></div><div class=\"contnr c0 trm   \" ><div class=\"lbl c0 trm \" ><span class=\"txto\">we?-</span></div><div class='features'><span class=\"question xft\" ><span class=\"f\">question=</span>1</span></div></div><div class=\"contnr c0 trm   \" ><div class=\"lbl c0 trm \" ><span class=\"txto\">du-</span></div></div><div class=\"contnr c0 trm   \" ><div class=\"lbl c0 trm \" ><span class=\"txto\">um </span></div></div></div></div><div class=\"contnr c2    \" ><div class=\"lbl c2  \" ><span class=\"nd\">word</span> <span class=\"txto\">sza </span></div><div class=\"children hor  \"><div class=\"contnr c0 trm   \" ><div class=\"lbl c0 trm \" ><span class=\"txto\">sza </span></div></div></div></div><div class=\"contnr c2    \" ><div class=\"lbl c2  \" ><span class=\"nd\">word</span> <span class=\"txto\">asz-pu-ra#-[ak-kum]</span></div><div class=\"children hor  \"><div class=\"contnr c0 trm   \" ><div class=\"lbl c0 trm \" ><span class=\"txto\">asz-</span></div></div><div class=\"contnr c0 trm   \" ><div class=\"lbl c0 trm \" ><span class=\"txto\">pu-</span></div></div><div class=\"contnr c0 trm   \" ><div class=\"lbl c0 trm \" ><span class=\"txto\">ra#-</span></div><div class='features'><span class=\"damage xft\" ><span class=\"f\">damage=</span>1</span></div></div><div class=\"contnr c1    \" ><div class=\"lbl c1  \" ><span class=\"nd\">cluster</span></div><div class=\"children hor wrap \"><div class=\"contnr c0 trm   \" ><div class=\"lbl c0 trm \" ><span class=\"txto\">[ak-</span></div><div class='features'><span class=\"missing xft\" ><span class=\"f\">missing=</span>1</span></div></div><div class=\"contnr c0 trm   \" ><div class=\"lbl c0 trm \" ><span class=\"txto\">kum]</span></div><div class='features'><span class=\"missing xft\" ><span class=\"f\">missing=</span>1</span></div></div></div></div></div></div></div></div></div>"
      ],
      "text/plain": [
       "<IPython.core.display.HTML object>"
      ]
     },
     "metadata": {},
     "output_type": "display_data"
    },
    {
     "data": {
      "text/html": [
       "<p><b>result</b> <i>5</i></p>"
      ],
      "text/plain": [
       "<IPython.core.display.HTML object>"
      ]
     },
     "metadata": {},
     "output_type": "display_data"
    },
    {
     "data": {
      "text/html": [
       "<div class=\"section \"><a target=\"_blank\" href=\"https://cdli.ucla.edu/search/search_results.php?SearchMode=Text&amp;ObjectID=P510586\" title=\"Show this document on CDLI\" sec=\"P510586 obverse:27\">P510586 obverse:27</a></div><div class=\" children\"><div class=\"contnr c3    \" ><div class=\"lbl c3  \" ><span class=\"nd\">line</span></div><div class=\"children hor wrap \"><div class=\"contnr c2    \" ><div class=\"lbl c2  \" ><span class=\"nd\">word</span> <span class=\"txto\">[asz-szum </span></div><div class=\"children hor  \"><div class=\"contnr c1   rno \" ><div class=\"lbl c1  \" ><span class=\"nd\">cluster</span></div><div class=\"children hor wrap \"><div class=\"contnr c0 trm   \" ><div class=\"lbl c0 trm \" ><span class=\"txto\">[asz-</span></div><div class='features'><span class=\"missing xft\" ><span class=\"f\">missing=</span>1</span></div></div><div class=\"contnr c0 trm   \" ><div class=\"lbl c0 trm \" ><span class=\"txto\">szum </span></div><div class='features'><span class=\"missing xft\" ><span class=\"f\">missing=</span>1</span></div></div></div></div></div></div><div class=\"contnr c2    \" ><div class=\"lbl c2  \" ><span class=\"nd\">word</span> <span class=\"txto\">ha]-bil2#?-we?-du-um </span></div><div class=\"children hor  \"><div class=\"contnr c1   lno \" ><div class=\"lbl c1  \" ><span class=\"nd\">cluster</span></div><div class=\"children hor wrap \"><div class=\"contnr c0 trm   hl\"  style=\"background-color: magenta;\" ><div class=\"lbl c0 trm hl\"  style=\"background-color: magenta;\" ><span class=\"txto\">ha]-</span></div><div class='features'><span class=\"missing xft\" ><span class=\"f\">missing=</span>1</span></div></div></div></div><div class=\"contnr c0 trm   hl\"  style=\"background-color: lightsalmon;\" ><div class=\"lbl c0 trm hl\"  style=\"background-color: lightsalmon;\" ><span class=\"txto\">bil2#?-</span></div><div class='features'><span class=\"damage xft\" ><span class=\"f\">damage=</span>1</span><span class=\"question xft\" ><span class=\"f\">question=</span>1</span></div></div><div class=\"contnr c0 trm   hl\"  style=\"background-color: cyan;\" ><div class=\"lbl c0 trm hl\"  style=\"background-color: cyan;\" ><span class=\"txto\">we?-</span></div><div class='features'><span class=\"question xft\" ><span class=\"f\">question=</span>1</span></div></div><div class=\"contnr c0 trm   \" ><div class=\"lbl c0 trm \" ><span class=\"txto\">du-</span></div></div><div class=\"contnr c0 trm   \" ><div class=\"lbl c0 trm \" ><span class=\"txto\">um </span></div></div></div></div><div class=\"contnr c2    \" ><div class=\"lbl c2  \" ><span class=\"nd\">word</span> <span class=\"txto\">sza </span></div><div class=\"children hor  \"><div class=\"contnr c0 trm   \" ><div class=\"lbl c0 trm \" ><span class=\"txto\">sza </span></div></div></div></div><div class=\"contnr c2    \" ><div class=\"lbl c2  \" ><span class=\"nd\">word</span> <span class=\"txto\">asz-pu-ra#-[ak-kum]</span></div><div class=\"children hor  \"><div class=\"contnr c0 trm   \" ><div class=\"lbl c0 trm \" ><span class=\"txto\">asz-</span></div></div><div class=\"contnr c0 trm   \" ><div class=\"lbl c0 trm \" ><span class=\"txto\">pu-</span></div></div><div class=\"contnr c0 trm   \" ><div class=\"lbl c0 trm \" ><span class=\"txto\">ra#-</span></div><div class='features'><span class=\"damage xft\" ><span class=\"f\">damage=</span>1</span></div></div><div class=\"contnr c1    \" ><div class=\"lbl c1  \" ><span class=\"nd\">cluster</span></div><div class=\"children hor wrap \"><div class=\"contnr c0 trm   \" ><div class=\"lbl c0 trm \" ><span class=\"txto\">[ak-</span></div><div class='features'><span class=\"missing xft\" ><span class=\"f\">missing=</span>1</span></div></div><div class=\"contnr c0 trm   \" ><div class=\"lbl c0 trm \" ><span class=\"txto\">kum]</span></div><div class='features'><span class=\"missing xft\" ><span class=\"f\">missing=</span>1</span></div></div></div></div></div></div></div></div></div>"
      ],
      "text/plain": [
       "<IPython.core.display.HTML object>"
      ]
     },
     "metadata": {},
     "output_type": "display_data"
    },
    {
     "data": {
      "text/html": [
       "<p><b>result</b> <i>6</i></p>"
      ],
      "text/plain": [
       "<IPython.core.display.HTML object>"
      ]
     },
     "metadata": {},
     "output_type": "display_data"
    },
    {
     "data": {
      "text/html": [
       "<div class=\"section \"><a target=\"_blank\" href=\"https://cdli.ucla.edu/search/search_results.php?SearchMode=Text&amp;ObjectID=P510588\" title=\"Show this document on CDLI\" sec=\"P510588 left:1':2\">P510588 left:1':2</a></div><div class=\" children\"><div class=\"contnr c3    \" ><div class=\"lbl c3  \" ><span class=\"nd\">line</span></div><div class=\"children hor wrap \"><div class=\"contnr c2    \" ><div class=\"lbl c2  \" ><span class=\"nd\">word</span> <span class=\"txto\">[i?]-na# </span></div><div class=\"children hor  \"><div class=\"contnr c1    \" ><div class=\"lbl c1  \" ><span class=\"nd\">cluster</span></div><div class=\"children hor wrap \"><div class=\"contnr c0 trm   hl\"  style=\"background-color: cyan;\" ><div class=\"lbl c0 trm hl\"  style=\"background-color: cyan;\" ><span class=\"txto\">[i?]-</span></div><div class='features'><span class=\"missing xft\" ><span class=\"f\">missing=</span>1</span><span class=\"question xft\" ><span class=\"f\">question=</span>1</span></div></div></div></div><div class=\"contnr c0 trm   hl\"  style=\"background-color: lightsalmon;\" ><div class=\"lbl c0 trm hl\"  style=\"background-color: lightsalmon;\" ><span class=\"txto\">na# </span></div><div class='features'><span class=\"damage xft\" ><span class=\"f\">damage=</span>1</span></div></div></div></div><div class=\"contnr c2    \" ><div class=\"lbl c2  \" ><span class=\"nd\">word</span> <span class=\"txto\">zimbir{ki#}</span></div><div class=\"children hor  \"><div class=\"contnr c0 trm   \" ><div class=\"lbl c0 trm \" ><span class=\"txto\">zimbir</span></div></div><div class=\"contnr c1    \" ><div class=\"lbl c1  \" ><span class=\"nd\">cluster</span></div><div class=\"children hor wrap \"><div class=\"contnr c0 trm   \" ><div class=\"lbl c0 trm \" ><span class=\"txto\">{ki#}</span></div><div class='features'><span class=\"damage xft\" ><span class=\"f\">damage=</span>1</span></div></div></div></div></div></div></div></div></div>"
      ],
      "text/plain": [
       "<IPython.core.display.HTML object>"
      ]
     },
     "metadata": {},
     "output_type": "display_data"
    },
    {
     "data": {
      "text/html": [
       "<p><b>result</b> <i>7</i></p>"
      ],
      "text/plain": [
       "<IPython.core.display.HTML object>"
      ]
     },
     "metadata": {},
     "output_type": "display_data"
    },
    {
     "data": {
      "text/html": [
       "<div class=\"section \"><a target=\"_blank\" href=\"https://cdli.ucla.edu/search/search_results.php?SearchMode=Text&amp;ObjectID=P510597\" title=\"Show this document on CDLI\" sec=\"P510597 obverse:12\">P510597 obverse:12</a></div><div class=\" children\"><div class=\"contnr c3    \" ><div class=\"lbl c3  \" ><span class=\"nd\">line</span></div><div class=\"children hor wrap \"><div class=\"contnr c2    \" ><div class=\"lbl c2  \" ><span class=\"nd\">word</span> <span class=\"txto\">[a?-na] </span></div><div class=\"children hor  \"><div class=\"contnr c1    \" ><div class=\"lbl c1  \" ><span class=\"nd\">cluster</span></div><div class=\"children hor wrap \"><div class=\"contnr c0 trm   hl\"  style=\"background-color: cyan;\" ><div class=\"lbl c0 trm hl\"  style=\"background-color: cyan;\" ><span class=\"txto\">[a?-</span></div><div class='features'><span class=\"missing xft\" ><span class=\"f\">missing=</span>1</span><span class=\"question xft\" ><span class=\"f\">question=</span>1</span></div></div><div class=\"contnr c0 trm   hl\"  style=\"background-color: magenta;\" ><div class=\"lbl c0 trm hl\"  style=\"background-color: magenta;\" ><span class=\"txto\">na] </span></div><div class='features'><span class=\"missing xft\" ><span class=\"f\">missing=</span>1</span></div></div></div></div></div></div><div class=\"contnr c2    \" ><div class=\"lbl c2  \" ><span class=\"nd\">word</span> <span class=\"txto\">babila2#[{ki}]</span></div><div class=\"children hor  \"><div class=\"contnr c0 trm   hl\"  style=\"background-color: lightsalmon;\" ><div class=\"lbl c0 trm hl\"  style=\"background-color: lightsalmon;\" ><span class=\"txto\">babila2#</span></div><div class='features'><span class=\"damage xft\" ><span class=\"f\">damage=</span>1</span></div></div><div class=\"contnr c1    \" ><div class=\"lbl c1  \" ><span class=\"nd\">cluster</span></div><div class=\"children hor wrap \"><div class=\"contnr c1    \" ><div class=\"lbl c1  \" ><span class=\"nd\">cluster</span></div><div class=\"children hor wrap \"><div class=\"contnr c0 trm   \" ><div class=\"lbl c0 trm \" ><span class=\"txto\">[{ki}]</span></div><div class='features'><span class=\"missing xft\" ><span class=\"f\">missing=</span>1</span></div></div></div></div></div></div></div></div></div></div></div>"
      ],
      "text/plain": [
       "<IPython.core.display.HTML object>"
      ]
     },
     "metadata": {},
     "output_type": "display_data"
    },
    {
     "data": {
      "text/html": [
       "<p><b>result</b> <i>8</i></p>"
      ],
      "text/plain": [
       "<IPython.core.display.HTML object>"
      ]
     },
     "metadata": {},
     "output_type": "display_data"
    },
    {
     "data": {
      "text/html": [
       "<div class=\"section \"><a target=\"_blank\" href=\"https://cdli.ucla.edu/search/search_results.php?SearchMode=Text&amp;ObjectID=P510657\" title=\"Show this document on CDLI\" sec=\"P510657 envelope - obverse:1\">P510657 envelope - obverse:1</a></div><div class=\" children\"><div class=\"contnr c3    \" ><div class=\"lbl c3  \" ><span class=\"nd\">line</span></div><div class=\"children hor wrap \"><div class=\"contnr c2    \" ><div class=\"lbl c2  \" ><span class=\"nd\">word</span> <span class=\"txto\">[tup]-pi#? </span></div><div class=\"children hor  \"><div class=\"contnr c1    \" ><div class=\"lbl c1  \" ><span class=\"nd\">cluster</span></div><div class=\"children hor wrap \"><div class=\"contnr c0 trm   hl\"  style=\"background-color: magenta;\" ><div class=\"lbl c0 trm hl\"  style=\"background-color: magenta;\" ><span class=\"txto\">[tup]-</span></div><div class='features'><span class=\"missing xft\" ><span class=\"f\">missing=</span>1</span></div></div></div></div><div class=\"contnr c0 trm   hl\"  style=\"background-color: cyan;\" ><div class=\"lbl c0 trm hl\"  style=\"background-color: cyan;\" ><span class=\"txto\">pi#? </span></div><div class='features'><span class=\"damage xft\" ><span class=\"f\">damage=</span>1</span><span class=\"question xft\" ><span class=\"f\">question=</span>1</span></div></div></div></div><div class=\"contnr c2    \" ><div class=\"lbl c2  \" ><span class=\"nd\">word</span> <span class=\"txto\">a-hi-i3-li2-ia</span></div><div class=\"children hor  \"><div class=\"contnr c0 trm   \" ><div class=\"lbl c0 trm \" ><span class=\"txto\">a-</span></div></div><div class=\"contnr c0 trm   \" ><div class=\"lbl c0 trm \" ><span class=\"txto\">hi-</span></div></div><div class=\"contnr c0 trm   \" ><div class=\"lbl c0 trm \" ><span class=\"txto\">i3-</span></div></div><div class=\"contnr c0 trm   \" ><div class=\"lbl c0 trm \" ><span class=\"txto\">li2-</span></div></div><div class=\"contnr c0 trm   \" ><div class=\"lbl c0 trm \" ><span class=\"txto\">ia</span></div></div></div></div></div></div></div>"
      ],
      "text/plain": [
       "<IPython.core.display.HTML object>"
      ]
     },
     "metadata": {},
     "output_type": "display_data"
    },
    {
     "data": {
      "text/html": [
       "<p><b>result</b> <i>9</i></p>"
      ],
      "text/plain": [
       "<IPython.core.display.HTML object>"
      ]
     },
     "metadata": {},
     "output_type": "display_data"
    },
    {
     "data": {
      "text/html": [
       "<div class=\"section \"><a target=\"_blank\" href=\"https://cdli.ucla.edu/search/search_results.php?SearchMode=Text&amp;ObjectID=P510660\" title=\"Show this document on CDLI\" sec=\"P510660 reverse:7\">P510660 reverse:7</a></div><div class=\" children\"><div class=\"contnr c3    \" ><div class=\"lbl c3  \" ><span class=\"nd\">line</span></div><div class=\"children hor wrap \"><div class=\"contnr c2    \" ><div class=\"lbl c2  \" ><span class=\"nd\">word</span> <span class=\"txto\">[t,e4?]-em# </span></div><div class=\"children hor  \"><div class=\"contnr c1    \" ><div class=\"lbl c1  \" ><span class=\"nd\">cluster</span></div><div class=\"children hor wrap \"><div class=\"contnr c0 trm   hl\"  style=\"background-color: cyan;\" ><div class=\"lbl c0 trm hl\"  style=\"background-color: cyan;\" ><span class=\"txto\">[t,e4?]-</span></div><div class='features'><span class=\"missing xft\" ><span class=\"f\">missing=</span>1</span><span class=\"question xft\" ><span class=\"f\">question=</span>1</span></div></div></div></div><div class=\"contnr c0 trm   hl\"  style=\"background-color: lightsalmon;\" ><div class=\"lbl c0 trm hl\"  style=\"background-color: lightsalmon;\" ><span class=\"txto\">em# </span></div><div class='features'><span class=\"damage xft\" ><span class=\"f\">damage=</span>1</span></div></div></div></div><div class=\"contnr c2    \" ><div class=\"lbl c2  \" ><span class=\"nd\">word</span> <span class=\"txto\">_a-sza3_ </span></div><div class=\"children hor  \"><div class=\"contnr c1    \" ><div class=\"lbl c1  \" ><span class=\"nd\">cluster</span></div><div class=\"children hor wrap \"><div class=\"contnr c0 trm   \" ><div class=\"lbl c0 trm \" ><span class=\"txto\">_a-</span></div></div><div class=\"contnr c0 trm   \" ><div class=\"lbl c0 trm \" ><span class=\"txto\">sza3_ </span></div></div></div></div></div></div><div class=\"contnr c2    \" ><div class=\"lbl c2  \" ><span class=\"nd\">word</span> <span class=\"txto\">ma-la </span></div><div class=\"children hor  \"><div class=\"contnr c0 trm   \" ><div class=\"lbl c0 trm \" ><span class=\"txto\">ma-</span></div></div><div class=\"contnr c0 trm   \" ><div class=\"lbl c0 trm \" ><span class=\"txto\">la </span></div></div></div></div><div class=\"contnr c2    \" ><div class=\"lbl c2  \" ><span class=\"nd\">word</span> <span class=\"txto\">a-di </span></div><div class=\"children hor  \"><div class=\"contnr c0 trm   \" ><div class=\"lbl c0 trm \" ><span class=\"txto\">a-</span></div></div><div class=\"contnr c0 trm   \" ><div class=\"lbl c0 trm \" ><span class=\"txto\">di </span></div></div></div></div><div class=\"contnr c2    \" ><div class=\"lbl c2  \" ><span class=\"nd\">word</span> <span class=\"txto\">i-na-an-na</span></div><div class=\"children hor  \"><div class=\"contnr c0 trm   \" ><div class=\"lbl c0 trm \" ><span class=\"txto\">i-</span></div></div><div class=\"contnr c0 trm   \" ><div class=\"lbl c0 trm \" ><span class=\"txto\">na-</span></div></div><div class=\"contnr c0 trm   \" ><div class=\"lbl c0 trm \" ><span class=\"txto\">an-</span></div></div><div class=\"contnr c0 trm   \" ><div class=\"lbl c0 trm \" ><span class=\"txto\">na</span></div></div></div></div></div></div></div>"
      ],
      "text/plain": [
       "<IPython.core.display.HTML object>"
      ]
     },
     "metadata": {},
     "output_type": "display_data"
    },
    {
     "data": {
      "text/html": [
       "<p><b>result</b> <i>10</i></p>"
      ],
      "text/plain": [
       "<IPython.core.display.HTML object>"
      ]
     },
     "metadata": {},
     "output_type": "display_data"
    },
    {
     "data": {
      "text/html": [
       "<div class=\"section \"><a target=\"_blank\" href=\"https://cdli.ucla.edu/search/search_results.php?SearchMode=Text&amp;ObjectID=P510662\" title=\"Show this document on CDLI\" sec=\"P510662 reverse:1\">P510662 reverse:1</a></div><div class=\" children\"><div class=\"contnr c3    \" ><div class=\"lbl c3  \" ><span class=\"nd\">line</span></div><div class=\"children hor wrap \"><div class=\"contnr c2    \" ><div class=\"lbl c2  \" ><span class=\"nd\">word</span> <span class=\"txto\">[1(disz)?] </span></div><div class=\"children hor  \"><div class=\"contnr c1    \" ><div class=\"lbl c1  \" ><span class=\"nd\">cluster</span></div><div class=\"children hor wrap \"><div class=\"contnr c0 trm   hl\"  style=\"background-color: cyan;\" ><div class=\"lbl c0 trm hl\"  style=\"background-color: cyan;\" ><span class=\"txto\">[1(disz)?] </span></div><div class='features'><span class=\"missing xft\" ><span class=\"f\">missing=</span>1</span><span class=\"question xft\" ><span class=\"f\">question=</span>1</span></div></div></div></div></div></div><div class=\"contnr c2    \" ><div class=\"lbl c2  \" ><span class=\"nd\">word</span> <span class=\"txto\">_tug2#?_ </span></div><div class=\"children hor  \"><div class=\"contnr c1    \" ><div class=\"lbl c1  \" ><span class=\"nd\">cluster</span></div><div class=\"children hor wrap \"><div class=\"contnr c0 trm   hl\"  style=\"background-color: lightsalmon;\" ><div class=\"lbl c0 trm hl\"  style=\"background-color: lightsalmon;\" ><span class=\"txto\">_tug2#?_ </span></div><div class='features'><span class=\"damage xft\" ><span class=\"f\">damage=</span>1</span><span class=\"question xft\" ><span class=\"f\">question=</span>1</span></div></div></div></div></div></div><div class=\"contnr c2    \" ><div class=\"lbl c2  \" ><span class=\"nd\">word</span> <span class=\"txto\">a-la-qe2-am</span></div><div class=\"children hor  \"><div class=\"contnr c0 trm   \" ><div class=\"lbl c0 trm \" ><span class=\"txto\">a-</span></div></div><div class=\"contnr c0 trm   \" ><div class=\"lbl c0 trm \" ><span class=\"txto\">la-</span></div></div><div class=\"contnr c0 trm   \" ><div class=\"lbl c0 trm \" ><span class=\"txto\">qe2-</span></div></div><div class=\"contnr c0 trm   \" ><div class=\"lbl c0 trm \" ><span class=\"txto\">am</span></div></div></div></div></div></div></div>"
      ],
      "text/plain": [
       "<IPython.core.display.HTML object>"
      ]
     },
     "metadata": {},
     "output_type": "display_data"
    }
   ],
   "source": [
    "results = A.search(query)\n",
    "A.table(results, end=10, baseTypes=\"sign\")\n",
    "A.show(\n",
    "    results,\n",
    "    end=10,\n",
    "    baseTypes=\"sign\",\n",
    "    colorMap={0: \"\", 2: \"cyan\", 3: \"magenta\", 4: \"lightsalmon\"},\n",
    ")"
   ]
  },
  {
   "cell_type": "markdown",
   "metadata": {},
   "source": [
    "Finally, we make the three things fully adjacent in fixed order:"
   ]
  },
  {
   "cell_type": "code",
   "execution_count": 24,
   "metadata": {
    "ExecuteTime": {
     "end_time": "2018-05-24T07:47:14.547656Z",
     "start_time": "2018-05-24T07:47:14.544433Z"
    }
   },
   "outputs": [],
   "source": [
    "query = \"\"\"\n",
    "line\n",
    "  sign question=1\n",
    "  <: sign missing=1\n",
    "  <: sign damage=1\n",
    "\"\"\""
   ]
  },
  {
   "cell_type": "code",
   "execution_count": 25,
   "metadata": {
    "ExecuteTime": {
     "end_time": "2018-05-24T07:48:04.746084Z",
     "start_time": "2018-05-24T07:48:03.223548Z"
    }
   },
   "outputs": [
    {
     "name": "stdout",
     "output_type": "stream",
     "text": [
      "  0.59s 7 results\n"
     ]
    },
    {
     "data": {
      "text/html": [
       "<table><tr class=\"tf ltr\"><th class=\"tf ltr\">n</th><th class=\"tf ltr\">p</th><th class=\"tf ltr\">line</th><th class=\"tf\">sign</th><th class=\"tf\">sign</th><th class=\"tf\">sign</th></tr>\n",
       "<tr class=\"tf ltr\"><td class=\"tf ltr\">1</td><td class=\"tf ltr\"><span class=\"section ltr\"><a target=\"_blank\" href=\"https://cdli.ucla.edu/search/search_results.php?SearchMode=Text&amp;ObjectID=P510597\" title=\"Show this document on CDLI\" sec=\"P510597 obverse:12\">P510597 obverse:12</a></span></td><td class=\"tf ltr\"><div class=\"\"><span class=\"plain   hl\" ><span class=\"txto\">[a?-</span></span><span class=\"plain   hl\" ><span class=\"txto\">na] </span></span><span class=\"plain   hl\" ><span class=\"txto\">babila2#</span></span><span class=\"txto\">[{ki}]</span></div></td><td class=\"tf ltr\"><div class=\"\"><span class=\"plain   hl\" ><span class=\"txto\">[a?-</span></span></div></td><td class=\"tf ltr\"><div class=\"\"><span class=\"plain   hl\" ><span class=\"txto\">na] </span></span></div></td><td class=\"tf ltr\"><div class=\"\"><span class=\"plain   hl\" ><span class=\"txto\">babila2#</span></span></div></td></tr>\n",
       "<tr class=\"tf ltr\"><td class=\"tf ltr\">2</td><td class=\"tf ltr\"><span class=\"section ltr\"><a target=\"_blank\" href=\"https://cdli.ucla.edu/search/search_results.php?SearchMode=Text&amp;ObjectID=P292756\" title=\"Show this document on CDLI\" sec=\"P292756 obverse:21\">P292756 obverse:21</a></span></td><td class=\"tf ltr\"><div class=\"\"><span class=\"plain   hl\" ><span class=\"txto\">[sza? </span></span><span class=\"plain   hl\" ><span class=\"txto\">(...)] </span></span><span class=\"plain   hl\" ><span class=\"txto\">it#-</span></span><span class=\"txto\">ti-</span><span class=\"txto\">ia </span><span class=\"txto\">u2-</span><span class=\"txto\">ul </span><span class=\"txto\">in-</span><span class=\"txto\">nam-</span><span class=\"txto\">ru-</span><span class=\"txto\">ma</span></div></td><td class=\"tf ltr\"><div class=\"\"><span class=\"plain   hl\" ><span class=\"txto\">[sza? </span></span></div></td><td class=\"tf ltr\"><div class=\"\"><span class=\"plain   hl\" ><span class=\"txto\">(...)] </span></span></div></td><td class=\"tf ltr\"><div class=\"\"><span class=\"plain   hl\" ><span class=\"txto\">it#-</span></span></div></td></tr>\n",
       "<tr class=\"tf ltr\"><td class=\"tf ltr\">3</td><td class=\"tf ltr\"><span class=\"section ltr\"><a target=\"_blank\" href=\"https://cdli.ucla.edu/search/search_results.php?SearchMode=Text&amp;ObjectID=P313393\" title=\"Show this document on CDLI\" sec=\"P313393 obverse:3\">P313393 obverse:3</a></span></td><td class=\"tf ltr\"><div class=\"\"><span class=\"txto\">um-</span><span class=\"txto\">ma </span><span class=\"plain   hl\" ><span class=\"txto\">ni?-</span></span><span class=\"plain   hl\" ><span class=\"txto\">[...]-</span></span><span class=\"plain   hl\" ><span class=\"txto\">ma#</span></span></div></td><td class=\"tf ltr\"><div class=\"\"><span class=\"plain   hl\" ><span class=\"txto\">ni?-</span></span></div></td><td class=\"tf ltr\"><div class=\"\"><span class=\"plain   hl\" ><span class=\"txto\">[...]-</span></span></div></td><td class=\"tf ltr\"><div class=\"\"><span class=\"plain   hl\" ><span class=\"txto\">ma#</span></span></div></td></tr>\n",
       "<tr class=\"tf ltr\"><td class=\"tf ltr\">4</td><td class=\"tf ltr\"><span class=\"section ltr\"><a target=\"_blank\" href=\"https://cdli.ucla.edu/search/search_results.php?SearchMode=Text&amp;ObjectID=P386470\" title=\"Show this document on CDLI\" sec=\"P386470 reverse:15'\">P386470 reverse:15'</a></span></td><td class=\"tf ltr\"><div class=\"\"><span class=\"plain   hl\" ><span class=\"txto\">[u2?-</span></span><span class=\"plain   hl\" ><span class=\"txto\">sze]-</span></span><span class=\"plain   hl\" ><span class=\"txto\">et#-</span></span><span class=\"txto\">bu-</span><span class=\"txto\">u2-</span><span class=\"txto\">[szu?]</span></div></td><td class=\"tf ltr\"><div class=\"\"><span class=\"plain   hl\" ><span class=\"txto\">[u2?-</span></span></div></td><td class=\"tf ltr\"><div class=\"\"><span class=\"plain   hl\" ><span class=\"txto\">sze]-</span></span></div></td><td class=\"tf ltr\"><div class=\"\"><span class=\"plain   hl\" ><span class=\"txto\">et#-</span></span></div></td></tr>\n",
       "<tr class=\"tf ltr\"><td class=\"tf ltr\">5</td><td class=\"tf ltr\"><span class=\"section ltr\"><a target=\"_blank\" href=\"https://cdli.ucla.edu/search/search_results.php?SearchMode=Text&amp;ObjectID=P305755\" title=\"Show this document on CDLI\" sec=\"P305755 reverse:3\">P305755 reverse:3</a></span></td><td class=\"tf ltr\"><div class=\"\"><span class=\"txto\">u3 </span><span class=\"plain   hl\" ><span class=\"txto\">KA#?-</span></span><span class=\"plain   hl\" ><span class=\"txto\">[x]-</span></span><span class=\"plain   hl\" ><span class=\"txto\">UM#? </span></span><span class=\"txto\">a-</span><span class=\"txto\">hu-</span><span class=\"txto\">u2-</span><span class=\"txto\">szu </span><span class=\"txto\">qa2-</span><span class=\"txto\">ta-</span><span class=\"txto\">ti-</span><span class=\"txto\">szu-</span><span class=\"txto\">ma</span></div></td><td class=\"tf ltr\"><div class=\"\"><span class=\"plain   hl\" ><span class=\"txto\">KA#?-</span></span></div></td><td class=\"tf ltr\"><div class=\"\"><span class=\"plain   hl\" ><span class=\"txto\">[x]-</span></span></div></td><td class=\"tf ltr\"><div class=\"\"><span class=\"plain   hl\" ><span class=\"txto\">UM#? </span></span></div></td></tr>\n",
       "<tr class=\"tf ltr\"><td class=\"tf ltr\">6</td><td class=\"tf ltr\"><span class=\"section ltr\"><a target=\"_blank\" href=\"https://cdli.ucla.edu/search/search_results.php?SearchMode=Text&amp;ObjectID=P307155\" title=\"Show this document on CDLI\" sec=\"P307155 obverse:11\">P307155 obverse:11</a></span></td><td class=\"tf ltr\"><div class=\"\"><span class=\"txto\">mi-</span><span class=\"txto\">im#-</span><span class=\"txto\">ma# </span><span class=\"txto\">sza </span><span class=\"txto\">ta#-</span><span class=\"plain   hl\" ><span class=\"txto\">GA?-</span></span><span class=\"plain   hl\" ><span class=\"txto\">[x]-</span></span><span class=\"plain   hl\" ><span class=\"txto\">BU#? </span></span><span class=\"txto\">[x]</span></div></td><td class=\"tf ltr\"><div class=\"\"><span class=\"plain   hl\" ><span class=\"txto\">GA?-</span></span></div></td><td class=\"tf ltr\"><div class=\"\"><span class=\"plain   hl\" ><span class=\"txto\">[x]-</span></span></div></td><td class=\"tf ltr\"><div class=\"\"><span class=\"plain   hl\" ><span class=\"txto\">BU#? </span></span></div></td></tr>\n",
       "<tr class=\"tf ltr\"><td class=\"tf ltr\">7</td><td class=\"tf ltr\"><span class=\"section ltr\"><a target=\"_blank\" href=\"https://cdli.ucla.edu/search/search_results.php?SearchMode=Text&amp;ObjectID=P308015\" title=\"Show this document on CDLI\" sec=\"P308015 reverse:2\">P308015 reverse:2</a></span></td><td class=\"tf ltr\"><div class=\"\"><span class=\"txto\">{disz}</span><span class=\"plain   hl\" ><span class=\"txto\">UD?-</span></span><span class=\"plain   hl\" ><span class=\"txto\">[x] </span></span><span class=\"plain   hl\" ><span class=\"txto\">{ki#}-</span></span><span class=\"txto\">li-</span><span class=\"txto\">ib-</span><span class=\"txto\">lu-</span><span class=\"txto\">ut,</span></div></td><td class=\"tf ltr\"><div class=\"\"><span class=\"plain   hl\" ><span class=\"txto\">UD?-</span></span></div></td><td class=\"tf ltr\"><div class=\"\"><span class=\"plain   hl\" ><span class=\"txto\">[x] </span></span></div></td><td class=\"tf ltr\"><div class=\"\"><span class=\"plain   hl\" ><span class=\"txto\">{ki#}-</span></span></div></td></tr></table>"
      ],
      "text/plain": [
       "<IPython.core.display.HTML object>"
      ]
     },
     "metadata": {},
     "output_type": "display_data"
    },
    {
     "data": {
      "text/html": [
       "<p><b>result</b> <i>1</i></p>"
      ],
      "text/plain": [
       "<IPython.core.display.HTML object>"
      ]
     },
     "metadata": {},
     "output_type": "display_data"
    },
    {
     "data": {
      "text/html": [
       "<div class=\"section \"><a target=\"_blank\" href=\"https://cdli.ucla.edu/search/search_results.php?SearchMode=Text&amp;ObjectID=P510597\" title=\"Show this document on CDLI\" sec=\"P510597 obverse:12\">P510597 obverse:12</a></div><div class=\" children\"><div class=\"contnr c3    \" ><div class=\"lbl c3  \" ><span class=\"nd\">line</span></div><div class=\"children hor wrap \"><div class=\"contnr c2 trm   \" ><div class=\"lbl c2 trm \" ><span class=\"nd\">word</span> <span class=\"txto\"><span class=\"plain   \" ><span class=\"plain   hl\"  style=\"background-color: cyan;\" ><span class=\"txto\">[a?-</span></span><span class=\"plain   hl\"  style=\"background-color: magenta;\" ><span class=\"txto\">na] </span></span></span></span></div></div><div class=\"contnr c2 trm   \" ><div class=\"lbl c2 trm \" ><span class=\"nd\">word</span> <span class=\"txto\"><span class=\"plain   \" ><span class=\"plain   hl\"  style=\"background-color: lightsalmon;\" ><span class=\"txto\">babila2#</span></span><span class=\"txto\">[{ki}]</span></span></span></div></div></div></div></div>"
      ],
      "text/plain": [
       "<IPython.core.display.HTML object>"
      ]
     },
     "metadata": {},
     "output_type": "display_data"
    },
    {
     "data": {
      "text/html": [
       "<p><b>result</b> <i>2</i></p>"
      ],
      "text/plain": [
       "<IPython.core.display.HTML object>"
      ]
     },
     "metadata": {},
     "output_type": "display_data"
    },
    {
     "data": {
      "text/html": [
       "<div class=\"section \"><a target=\"_blank\" href=\"https://cdli.ucla.edu/search/search_results.php?SearchMode=Text&amp;ObjectID=P292756\" title=\"Show this document on CDLI\" sec=\"P292756 obverse:21\">P292756 obverse:21</a></div><div class=\" children\"><div class=\"contnr c3    \" ><div class=\"lbl c3  \" ><span class=\"nd\">line</span></div><div class=\"children hor wrap \"><div class=\"contnr c2 trm   \" ><div class=\"lbl c2 trm \" ><span class=\"nd\">word</span> <span class=\"txto\"><span class=\"plain   \" ><span class=\"plain   hl\"  style=\"background-color: cyan;\" ><span class=\"txto\">[sza? </span></span></span></span></div></div><div class=\"contnr c2 trm   \" ><div class=\"lbl c2 trm \" ><span class=\"nd\">word</span> <span class=\"txto\"><span class=\"plain   \" ><span class=\"plain   hl\"  style=\"background-color: magenta;\" ><span class=\"txto\">(...)] </span></span></span></span></div></div><div class=\"contnr c2 trm   \" ><div class=\"lbl c2 trm \" ><span class=\"nd\">word</span> <span class=\"txto\"><span class=\"plain   \" ><span class=\"plain   hl\"  style=\"background-color: lightsalmon;\" ><span class=\"txto\">it#-</span></span><span class=\"txto\">ti-</span><span class=\"txto\">ia </span></span></span></div></div><div class=\"contnr c2 trm   \" ><div class=\"lbl c2 trm \" ><span class=\"nd\">word</span> <span class=\"txto\"><span class=\"plain   \" ><span class=\"txto\">u2-</span><span class=\"txto\">ul </span></span></span></div></div><div class=\"contnr c2 trm   \" ><div class=\"lbl c2 trm \" ><span class=\"nd\">word</span> <span class=\"txto\"><span class=\"plain   \" ><span class=\"txto\">in-</span><span class=\"txto\">nam-</span><span class=\"txto\">ru-</span><span class=\"txto\">ma</span></span></span></div></div></div></div></div>"
      ],
      "text/plain": [
       "<IPython.core.display.HTML object>"
      ]
     },
     "metadata": {},
     "output_type": "display_data"
    },
    {
     "data": {
      "text/html": [
       "<p><b>result</b> <i>3</i></p>"
      ],
      "text/plain": [
       "<IPython.core.display.HTML object>"
      ]
     },
     "metadata": {},
     "output_type": "display_data"
    },
    {
     "data": {
      "text/html": [
       "<div class=\"section \"><a target=\"_blank\" href=\"https://cdli.ucla.edu/search/search_results.php?SearchMode=Text&amp;ObjectID=P313393\" title=\"Show this document on CDLI\" sec=\"P313393 obverse:3\">P313393 obverse:3</a></div><div class=\" children\"><div class=\"contnr c3    \" ><div class=\"lbl c3  \" ><span class=\"nd\">line</span></div><div class=\"children hor wrap \"><div class=\"contnr c2 trm   \" ><div class=\"lbl c2 trm \" ><span class=\"nd\">word</span> <span class=\"txto\"><span class=\"plain   \" ><span class=\"txto\">um-</span><span class=\"txto\">ma </span></span></span></div></div><div class=\"contnr c2 trm   \" ><div class=\"lbl c2 trm \" ><span class=\"nd\">word</span> <span class=\"txto\"><span class=\"plain   \" ><span class=\"plain   hl\"  style=\"background-color: cyan;\" ><span class=\"txto\">ni?-</span></span><span class=\"plain   hl\"  style=\"background-color: magenta;\" ><span class=\"txto\">[...]-</span></span><span class=\"plain   hl\"  style=\"background-color: lightsalmon;\" ><span class=\"txto\">ma#</span></span></span></span></div></div></div></div></div>"
      ],
      "text/plain": [
       "<IPython.core.display.HTML object>"
      ]
     },
     "metadata": {},
     "output_type": "display_data"
    },
    {
     "data": {
      "text/html": [
       "<p><b>result</b> <i>4</i></p>"
      ],
      "text/plain": [
       "<IPython.core.display.HTML object>"
      ]
     },
     "metadata": {},
     "output_type": "display_data"
    },
    {
     "data": {
      "text/html": [
       "<div class=\"section \"><a target=\"_blank\" href=\"https://cdli.ucla.edu/search/search_results.php?SearchMode=Text&amp;ObjectID=P386470\" title=\"Show this document on CDLI\" sec=\"P386470 reverse:15'\">P386470 reverse:15'</a></div><div class=\" children\"><div class=\"contnr c3    \" ><div class=\"lbl c3  \" ><span class=\"nd\">line</span></div><div class=\"children hor wrap \"><div class=\"contnr c2 trm   \" ><div class=\"lbl c2 trm \" ><span class=\"nd\">word</span> <span class=\"txto\"><span class=\"plain   \" ><span class=\"plain   hl\"  style=\"background-color: cyan;\" ><span class=\"txto\">[u2?-</span></span><span class=\"plain   hl\"  style=\"background-color: magenta;\" ><span class=\"txto\">sze]-</span></span><span class=\"plain   hl\"  style=\"background-color: lightsalmon;\" ><span class=\"txto\">et#-</span></span><span class=\"txto\">bu-</span><span class=\"txto\">u2-</span><span class=\"txto\">[szu?]</span></span></span></div></div></div></div></div>"
      ],
      "text/plain": [
       "<IPython.core.display.HTML object>"
      ]
     },
     "metadata": {},
     "output_type": "display_data"
    },
    {
     "data": {
      "text/html": [
       "<p><b>result</b> <i>5</i></p>"
      ],
      "text/plain": [
       "<IPython.core.display.HTML object>"
      ]
     },
     "metadata": {},
     "output_type": "display_data"
    },
    {
     "data": {
      "text/html": [
       "<div class=\"section \"><a target=\"_blank\" href=\"https://cdli.ucla.edu/search/search_results.php?SearchMode=Text&amp;ObjectID=P305755\" title=\"Show this document on CDLI\" sec=\"P305755 reverse:3\">P305755 reverse:3</a></div><div class=\" children\"><div class=\"contnr c3    \" ><div class=\"lbl c3  \" ><span class=\"nd\">line</span></div><div class=\"children hor wrap \"><div class=\"contnr c2 trm   \" ><div class=\"lbl c2 trm \" ><span class=\"nd\">word</span> <span class=\"txto\"><span class=\"plain   \" ><span class=\"txto\">u3 </span></span></span></div></div><div class=\"contnr c2 trm   \" ><div class=\"lbl c2 trm \" ><span class=\"nd\">word</span> <span class=\"txto\"><span class=\"plain   \" ><span class=\"plain   hl\"  style=\"background-color: cyan;\" ><span class=\"txto\">KA#?-</span></span><span class=\"plain   hl\"  style=\"background-color: magenta;\" ><span class=\"txto\">[x]-</span></span><span class=\"plain   hl\"  style=\"background-color: lightsalmon;\" ><span class=\"txto\">UM#? </span></span></span></span></div></div><div class=\"contnr c2 trm   \" ><div class=\"lbl c2 trm \" ><span class=\"nd\">word</span> <span class=\"txto\"><span class=\"plain   \" ><span class=\"txto\">a-</span><span class=\"txto\">hu-</span><span class=\"txto\">u2-</span><span class=\"txto\">szu </span></span></span></div></div><div class=\"contnr c2 trm   \" ><div class=\"lbl c2 trm \" ><span class=\"nd\">word</span> <span class=\"txto\"><span class=\"plain   \" ><span class=\"txto\">qa2-</span><span class=\"txto\">ta-</span><span class=\"txto\">ti-</span><span class=\"txto\">szu-</span><span class=\"txto\">ma</span></span></span></div></div></div></div></div>"
      ],
      "text/plain": [
       "<IPython.core.display.HTML object>"
      ]
     },
     "metadata": {},
     "output_type": "display_data"
    },
    {
     "data": {
      "text/html": [
       "<p><b>result</b> <i>6</i></p>"
      ],
      "text/plain": [
       "<IPython.core.display.HTML object>"
      ]
     },
     "metadata": {},
     "output_type": "display_data"
    },
    {
     "data": {
      "text/html": [
       "<div class=\"section \"><a target=\"_blank\" href=\"https://cdli.ucla.edu/search/search_results.php?SearchMode=Text&amp;ObjectID=P307155\" title=\"Show this document on CDLI\" sec=\"P307155 obverse:11\">P307155 obverse:11</a></div><div class=\" children\"><div class=\"contnr c3    \" ><div class=\"lbl c3  \" ><span class=\"nd\">line</span></div><div class=\"children hor wrap \"><div class=\"contnr c2 trm   \" ><div class=\"lbl c2 trm \" ><span class=\"nd\">word</span> <span class=\"txto\"><span class=\"plain   \" ><span class=\"txto\">mi-</span><span class=\"txto\">im#-</span><span class=\"txto\">ma# </span></span></span></div></div><div class=\"contnr c2 trm   \" ><div class=\"lbl c2 trm \" ><span class=\"nd\">word</span> <span class=\"txto\"><span class=\"plain   \" ><span class=\"txto\">sza </span></span></span></div></div><div class=\"contnr c2 trm   \" ><div class=\"lbl c2 trm \" ><span class=\"nd\">word</span> <span class=\"txto\"><span class=\"plain   \" ><span class=\"txto\">ta#-</span><span class=\"plain   hl\"  style=\"background-color: cyan;\" ><span class=\"txto\">GA?-</span></span><span class=\"plain   hl\"  style=\"background-color: magenta;\" ><span class=\"txto\">[x]-</span></span><span class=\"plain   hl\"  style=\"background-color: lightsalmon;\" ><span class=\"txto\">BU#? </span></span></span></span></div></div><div class=\"contnr c2 trm   \" ><div class=\"lbl c2 trm \" ><span class=\"nd\">word</span> <span class=\"txto\"><span class=\"plain   \" ><span class=\"txto\">[x]</span></span></span></div></div></div></div></div>"
      ],
      "text/plain": [
       "<IPython.core.display.HTML object>"
      ]
     },
     "metadata": {},
     "output_type": "display_data"
    },
    {
     "data": {
      "text/html": [
       "<p><b>result</b> <i>7</i></p>"
      ],
      "text/plain": [
       "<IPython.core.display.HTML object>"
      ]
     },
     "metadata": {},
     "output_type": "display_data"
    },
    {
     "data": {
      "text/html": [
       "<div class=\"section \"><a target=\"_blank\" href=\"https://cdli.ucla.edu/search/search_results.php?SearchMode=Text&amp;ObjectID=P308015\" title=\"Show this document on CDLI\" sec=\"P308015 reverse:2\">P308015 reverse:2</a></div><div class=\" children\"><div class=\"contnr c3    \" ><div class=\"lbl c3  \" ><span class=\"nd\">line</span></div><div class=\"children hor wrap \"><div class=\"contnr c2 trm   \" ><div class=\"lbl c2 trm \" ><span class=\"nd\">word</span> <span class=\"txto\"><span class=\"plain   \" ><span class=\"txto\">{disz}</span><span class=\"plain   hl\"  style=\"background-color: cyan;\" ><span class=\"txto\">UD?-</span></span><span class=\"plain   hl\"  style=\"background-color: magenta;\" ><span class=\"txto\">[x] </span></span></span></span></div></div><div class=\"contnr c2 trm   \" ><div class=\"lbl c2 trm \" ><span class=\"nd\">word</span> <span class=\"txto\"><span class=\"plain   \" ><span class=\"plain   hl\"  style=\"background-color: lightsalmon;\" ><span class=\"txto\">{ki#}-</span></span><span class=\"txto\">li-</span><span class=\"txto\">ib-</span><span class=\"txto\">lu-</span><span class=\"txto\">ut,</span></span></span></div></div></div></div></div>"
      ],
      "text/plain": [
       "<IPython.core.display.HTML object>"
      ]
     },
     "metadata": {},
     "output_type": "display_data"
    }
   ],
   "source": [
    "results = A.search(query)\n",
    "A.table(results, end=10, baseTypes=\"sign\")\n",
    "A.show(results, end=10, colorMap={0: \"\", 2: \"cyan\", 3: \"magenta\", 4: \"lightsalmon\"})"
   ]
  },
  {
   "cell_type": "markdown",
   "metadata": {},
   "source": [
    "# Custom feature display\n",
    "\n",
    "We would like to see the original atf and the flags for signs.\n",
    "The way to do that, is to perform a `A.prettySetup(features)` first.\n",
    "\n",
    "We concentrate on one specific result."
   ]
  },
  {
   "cell_type": "code",
   "execution_count": 26,
   "metadata": {
    "ExecuteTime": {
     "end_time": "2018-05-24T07:49:51.867815Z",
     "start_time": "2018-05-24T07:49:51.864197Z"
    }
   },
   "outputs": [],
   "source": [
    "A.displaySetup(extraFeatures=\"atf flags\")"
   ]
  },
  {
   "cell_type": "code",
   "execution_count": 27,
   "metadata": {
    "ExecuteTime": {
     "end_time": "2018-05-24T07:49:53.189127Z",
     "start_time": "2018-05-24T07:49:53.176377Z"
    }
   },
   "outputs": [
    {
     "data": {
      "text/html": [
       "<p><b>result</b> <i>4</i></p>"
      ],
      "text/plain": [
       "<IPython.core.display.HTML object>"
      ]
     },
     "metadata": {},
     "output_type": "display_data"
    },
    {
     "data": {
      "text/html": [
       "<div class=\"section \"><a target=\"_blank\" href=\"https://cdli.ucla.edu/search/search_results.php?SearchMode=Text&amp;ObjectID=P386470\" title=\"Show this document on CDLI\" sec=\"P386470 reverse:15'\">P386470 reverse:15'</a></div><div class=\" children\"><div class=\"contnr c3    \" ><div class=\"lbl c3  \" ><span class=\"nd\">line</span></div><div class=\"children hor wrap \"><div class=\"contnr c2    \" ><div class=\"lbl c2  \" ><span class=\"nd\">word</span> <span class=\"txto\">[u2?-sze]-et#-bu-u2-[szu?]</span></div><div class='features'><span class=\"atf xft\" ><span class=\"f\">atf=</span>[u2?-sze]-et#-bu-u2-[szu?]</span></div><div class=\"children hor  \"><div class=\"contnr c1    \" ><div class=\"lbl c1  \" ><span class=\"nd\">cluster</span></div><div class=\"children hor wrap \"><div class=\"contnr c0 trm   hl\"  style=\"background-color: cyan;\" ><div class=\"lbl c0 trm hl\"  style=\"background-color: cyan;\" ><span class=\"txto\">[u2?-</span></div><div class='features'><span class=\"atf xft\" ><span class=\"f\">atf=</span>u2?</span><span class=\"flags xft\" ><span class=\"f\">flags=</span>?</span><span class=\"missing xft\" ><span class=\"f\">missing=</span>1</span><span class=\"question xft\" ><span class=\"f\">question=</span>1</span></div></div><div class=\"contnr c0 trm   hl\"  style=\"background-color: magenta;\" ><div class=\"lbl c0 trm hl\"  style=\"background-color: magenta;\" ><span class=\"txto\">sze]-</span></div><div class='features'><span class=\"atf xft\" ><span class=\"f\">atf=</span>sze</span><span class=\"missing xft\" ><span class=\"f\">missing=</span>1</span></div></div></div></div><div class=\"contnr c0 trm   hl\"  style=\"background-color: lightsalmon;\" ><div class=\"lbl c0 trm hl\"  style=\"background-color: lightsalmon;\" ><span class=\"txto\">et#-</span></div><div class='features'><span class=\"atf xft\" ><span class=\"f\">atf=</span>et#</span><span class=\"damage xft\" ><span class=\"f\">damage=</span>1</span><span class=\"flags xft\" ><span class=\"f\">flags=</span>#</span></div></div><div class=\"contnr c0 trm   \" ><div class=\"lbl c0 trm \" ><span class=\"txto\">bu-</span></div><div class='features'><span class=\"atf xft\" ><span class=\"f\">atf=</span>bu</span></div></div><div class=\"contnr c0 trm   \" ><div class=\"lbl c0 trm \" ><span class=\"txto\">u2-</span></div><div class='features'><span class=\"atf xft\" ><span class=\"f\">atf=</span>u2</span></div></div><div class=\"contnr c1    \" ><div class=\"lbl c1  \" ><span class=\"nd\">cluster</span></div><div class=\"children hor wrap \"><div class=\"contnr c0 trm   \" ><div class=\"lbl c0 trm \" ><span class=\"txto\">[szu?]</span></div><div class='features'><span class=\"atf xft\" ><span class=\"f\">atf=</span>szu?</span><span class=\"flags xft\" ><span class=\"f\">flags=</span>?</span><span class=\"missing xft\" ><span class=\"f\">missing=</span>1</span><span class=\"question xft\" ><span class=\"f\">question=</span>1</span></div></div></div></div></div></div></div></div></div>"
      ],
      "text/plain": [
       "<IPython.core.display.HTML object>"
      ]
     },
     "metadata": {},
     "output_type": "display_data"
    }
   ],
   "source": [
    "A.show(\n",
    "    results,\n",
    "    start=4,\n",
    "    end=4,\n",
    "    baseTypes=\"sign\",\n",
    "    colorMap={0: \"\", 2: \"cyan\", 3: \"magenta\", 4: \"lightsalmon\"},\n",
    ")"
   ]
  },
  {
   "cell_type": "markdown",
   "metadata": {},
   "source": [
    "The features without meaningful values have been left out. We can also change that by passing a set of values\n",
    "we think are not meaningful. The default set is\n",
    "\n",
    "```python\n",
    "{None, 'NA', 'none', 'unknown'}\n",
    "```"
   ]
  },
  {
   "cell_type": "code",
   "execution_count": 28,
   "metadata": {
    "ExecuteTime": {
     "end_time": "2018-05-24T07:49:56.593302Z",
     "start_time": "2018-05-24T07:49:56.579038Z"
    }
   },
   "outputs": [
    {
     "data": {
      "text/html": [
       "<p><b>result</b> <i>4</i></p>"
      ],
      "text/plain": [
       "<IPython.core.display.HTML object>"
      ]
     },
     "metadata": {},
     "output_type": "display_data"
    },
    {
     "data": {
      "text/html": [
       "<div class=\"section \"><a target=\"_blank\" href=\"https://cdli.ucla.edu/search/search_results.php?SearchMode=Text&amp;ObjectID=P386470\" title=\"Show this document on CDLI\" sec=\"P386470 reverse:15'\">P386470 reverse:15'</a></div><div class=\" children\"><div class=\"contnr c3    \" ><div class=\"lbl c3  \" ><span class=\"nd\">line</span></div><div class='features'><span class=\"atf xft\" ><span class=\"f\">atf=</span></span><span class=\"damage xft\" ><span class=\"f\">damage=</span></span><span class=\"flags xft\" ><span class=\"f\">flags=</span></span><span class=\"missing xft\" ><span class=\"f\">missing=</span></span><span class=\"question xft\" ><span class=\"f\">question=</span></span></div><div class=\"children hor wrap \"><div class=\"contnr c2    \" ><div class=\"lbl c2  \" ><span class=\"nd\">word</span> <span class=\"txto\">[u2?-sze]-et#-bu-u2-[szu?]</span></div><div class='features'><span class=\"atf xft\" ><span class=\"f\">atf=</span>[u2?-sze]-et#-bu-u2-[szu?]</span><span class=\"damage xft\" ><span class=\"f\">damage=</span></span><span class=\"flags xft\" ><span class=\"f\">flags=</span></span><span class=\"missing xft\" ><span class=\"f\">missing=</span></span><span class=\"question xft\" ><span class=\"f\">question=</span></span></div><div class=\"children hor  \"><div class=\"contnr c1    \" ><div class=\"lbl c1  \" ><span class=\"nd\">cluster</span></div><div class='features'><span class=\"atf xft\" ><span class=\"f\">atf=</span></span><span class=\"damage xft\" ><span class=\"f\">damage=</span></span><span class=\"flags xft\" ><span class=\"f\">flags=</span></span><span class=\"missing xft\" ><span class=\"f\">missing=</span></span><span class=\"question xft\" ><span class=\"f\">question=</span></span></div><div class=\"children hor wrap \"><div class=\"contnr c0 trm   hl\"  style=\"background-color: cyan;\" ><div class=\"lbl c0 trm hl\"  style=\"background-color: cyan;\" ><span class=\"txto\">[u2?-</span></div><div class='features'><span class=\"atf xft\" ><span class=\"f\">atf=</span>u2?</span><span class=\"damage xft\" ><span class=\"f\">damage=</span></span><span class=\"flags xft\" ><span class=\"f\">flags=</span>?</span><span class=\"missing xft\" ><span class=\"f\">missing=</span>1</span><span class=\"question xft\" ><span class=\"f\">question=</span>1</span></div></div><div class=\"contnr c0 trm   hl\"  style=\"background-color: magenta;\" ><div class=\"lbl c0 trm hl\"  style=\"background-color: magenta;\" ><span class=\"txto\">sze]-</span></div><div class='features'><span class=\"atf xft\" ><span class=\"f\">atf=</span>sze</span><span class=\"damage xft\" ><span class=\"f\">damage=</span></span><span class=\"flags xft\" ><span class=\"f\">flags=</span></span><span class=\"missing xft\" ><span class=\"f\">missing=</span>1</span><span class=\"question xft\" ><span class=\"f\">question=</span></span></div></div></div></div><div class=\"contnr c0 trm   hl\"  style=\"background-color: lightsalmon;\" ><div class=\"lbl c0 trm hl\"  style=\"background-color: lightsalmon;\" ><span class=\"txto\">et#-</span></div><div class='features'><span class=\"atf xft\" ><span class=\"f\">atf=</span>et#</span><span class=\"damage xft\" ><span class=\"f\">damage=</span>1</span><span class=\"flags xft\" ><span class=\"f\">flags=</span>#</span><span class=\"missing xft\" ><span class=\"f\">missing=</span></span><span class=\"question xft\" ><span class=\"f\">question=</span></span></div></div><div class=\"contnr c0 trm   \" ><div class=\"lbl c0 trm \" ><span class=\"txto\">bu-</span></div><div class='features'><span class=\"atf xft\" ><span class=\"f\">atf=</span>bu</span><span class=\"damage xft\" ><span class=\"f\">damage=</span></span><span class=\"flags xft\" ><span class=\"f\">flags=</span></span><span class=\"missing xft\" ><span class=\"f\">missing=</span></span><span class=\"question xft\" ><span class=\"f\">question=</span></span></div></div><div class=\"contnr c0 trm   \" ><div class=\"lbl c0 trm \" ><span class=\"txto\">u2-</span></div><div class='features'><span class=\"atf xft\" ><span class=\"f\">atf=</span>u2</span><span class=\"damage xft\" ><span class=\"f\">damage=</span></span><span class=\"flags xft\" ><span class=\"f\">flags=</span></span><span class=\"missing xft\" ><span class=\"f\">missing=</span></span><span class=\"question xft\" ><span class=\"f\">question=</span></span></div></div><div class=\"contnr c1    \" ><div class=\"lbl c1  \" ><span class=\"nd\">cluster</span></div><div class='features'><span class=\"atf xft\" ><span class=\"f\">atf=</span></span><span class=\"damage xft\" ><span class=\"f\">damage=</span></span><span class=\"flags xft\" ><span class=\"f\">flags=</span></span><span class=\"missing xft\" ><span class=\"f\">missing=</span></span><span class=\"question xft\" ><span class=\"f\">question=</span></span></div><div class=\"children hor wrap \"><div class=\"contnr c0 trm   \" ><div class=\"lbl c0 trm \" ><span class=\"txto\">[szu?]</span></div><div class='features'><span class=\"atf xft\" ><span class=\"f\">atf=</span>szu?</span><span class=\"damage xft\" ><span class=\"f\">damage=</span></span><span class=\"flags xft\" ><span class=\"f\">flags=</span>?</span><span class=\"missing xft\" ><span class=\"f\">missing=</span>1</span><span class=\"question xft\" ><span class=\"f\">question=</span>1</span></div></div></div></div></div></div></div></div></div>"
      ],
      "text/plain": [
       "<IPython.core.display.HTML object>"
      ]
     },
     "metadata": {},
     "output_type": "display_data"
    }
   ],
   "source": [
    "A.displaySetup(noneValues=set())\n",
    "A.show(\n",
    "    results,\n",
    "    start=4,\n",
    "    end=4,\n",
    "    baseTypes=\"sign\",\n",
    "    colorMap={0: \"\", 2: \"cyan\", 3: \"magenta\", 4: \"lightsalmon\"},\n",
    ")"
   ]
  },
  {
   "cell_type": "markdown",
   "metadata": {},
   "source": [
    "This makes clear that it is convenient to keep `None` in the `noneValues`:"
   ]
  },
  {
   "cell_type": "code",
   "execution_count": 29,
   "metadata": {
    "ExecuteTime": {
     "end_time": "2018-05-24T07:50:03.094084Z",
     "start_time": "2018-05-24T07:50:03.080237Z"
    }
   },
   "outputs": [
    {
     "data": {
      "text/html": [
       "<p><b>result</b> <i>4</i></p>"
      ],
      "text/plain": [
       "<IPython.core.display.HTML object>"
      ]
     },
     "metadata": {},
     "output_type": "display_data"
    },
    {
     "data": {
      "text/html": [
       "<div class=\"section \"><a target=\"_blank\" href=\"https://cdli.ucla.edu/search/search_results.php?SearchMode=Text&amp;ObjectID=P386470\" title=\"Show this document on CDLI\" sec=\"P386470 reverse:15'\">P386470 reverse:15'</a></div><div class=\" children\"><div class=\"contnr c3    \" ><div class=\"lbl c3  \" ><span class=\"nd\">line</span></div><div class=\"children hor wrap \"><div class=\"contnr c2    \" ><div class=\"lbl c2  \" ><span class=\"nd\">word</span> <span class=\"txto\">[u2?-sze]-et#-bu-u2-[szu?]</span></div><div class='features'><span class=\"atf xft\" ><span class=\"f\">atf=</span>[u2?-sze]-et#-bu-u2-[szu?]</span></div><div class=\"children hor  \"><div class=\"contnr c1    \" ><div class=\"lbl c1  \" ><span class=\"nd\">cluster</span></div><div class=\"children hor wrap \"><div class=\"contnr c0 trm   hl\"  style=\"background-color: cyan;\" ><div class=\"lbl c0 trm hl\"  style=\"background-color: cyan;\" ><span class=\"txto\">[u2?-</span></div><div class='features'><span class=\"atf xft\" ><span class=\"f\">atf=</span>u2?</span><span class=\"flags xft\" ><span class=\"f\">flags=</span>?</span><span class=\"missing xft\" ><span class=\"f\">missing=</span>1</span><span class=\"question xft\" ><span class=\"f\">question=</span>1</span></div></div><div class=\"contnr c0 trm   hl\"  style=\"background-color: magenta;\" ><div class=\"lbl c0 trm hl\"  style=\"background-color: magenta;\" ><span class=\"txto\">sze]-</span></div><div class='features'><span class=\"atf xft\" ><span class=\"f\">atf=</span>sze</span><span class=\"missing xft\" ><span class=\"f\">missing=</span>1</span></div></div></div></div><div class=\"contnr c0 trm   hl\"  style=\"background-color: lightsalmon;\" ><div class=\"lbl c0 trm hl\"  style=\"background-color: lightsalmon;\" ><span class=\"txto\">et#-</span></div><div class='features'><span class=\"atf xft\" ><span class=\"f\">atf=</span>et#</span><span class=\"damage xft\" ><span class=\"f\">damage=</span>1</span><span class=\"flags xft\" ><span class=\"f\">flags=</span>#</span></div></div><div class=\"contnr c0 trm   \" ><div class=\"lbl c0 trm \" ><span class=\"txto\">bu-</span></div><div class='features'><span class=\"atf xft\" ><span class=\"f\">atf=</span>bu</span></div></div><div class=\"contnr c0 trm   \" ><div class=\"lbl c0 trm \" ><span class=\"txto\">u2-</span></div><div class='features'><span class=\"atf xft\" ><span class=\"f\">atf=</span>u2</span></div></div><div class=\"contnr c1    \" ><div class=\"lbl c1  \" ><span class=\"nd\">cluster</span></div><div class=\"children hor wrap \"><div class=\"contnr c0 trm   \" ><div class=\"lbl c0 trm \" ><span class=\"txto\">[szu?]</span></div><div class='features'><span class=\"atf xft\" ><span class=\"f\">atf=</span>szu?</span><span class=\"flags xft\" ><span class=\"f\">flags=</span>?</span><span class=\"missing xft\" ><span class=\"f\">missing=</span>1</span><span class=\"question xft\" ><span class=\"f\">question=</span>1</span></div></div></div></div></div></div></div></div></div>"
      ],
      "text/plain": [
       "<IPython.core.display.HTML object>"
      ]
     },
     "metadata": {},
     "output_type": "display_data"
    }
   ],
   "source": [
    "A.displaySetup(noneValues={None})\n",
    "A.show(\n",
    "    results,\n",
    "    start=4,\n",
    "    end=4,\n",
    "    baseTypes=\"sign\",\n",
    "    colorMap={0: \"\", 2: \"cyan\", 3: \"magenta\", 4: \"lightsalmon\"},\n",
    ")"
   ]
  },
  {
   "cell_type": "markdown",
   "metadata": {},
   "source": [
    "We can even choose to suppress other values, e.g. the value 1.\n",
    "\n",
    "That will remove all the features such as `question`, `missing`."
   ]
  },
  {
   "cell_type": "code",
   "execution_count": 30,
   "metadata": {
    "ExecuteTime": {
     "end_time": "2018-05-24T07:50:08.244221Z",
     "start_time": "2018-05-24T07:50:08.232311Z"
    }
   },
   "outputs": [
    {
     "data": {
      "text/html": [
       "<p><b>result</b> <i>4</i></p>"
      ],
      "text/plain": [
       "<IPython.core.display.HTML object>"
      ]
     },
     "metadata": {},
     "output_type": "display_data"
    },
    {
     "data": {
      "text/html": [
       "<div class=\"section \"><a target=\"_blank\" href=\"https://cdli.ucla.edu/search/search_results.php?SearchMode=Text&amp;ObjectID=P386470\" title=\"Show this document on CDLI\" sec=\"P386470 reverse:15'\">P386470 reverse:15'</a></div><div class=\" children\"><div class=\"contnr c3    \" ><div class=\"lbl c3  \" ><span class=\"nd\">line</span></div><div class=\"children hor wrap \"><div class=\"contnr c2    \" ><div class=\"lbl c2  \" ><span class=\"nd\">word</span> <span class=\"txto\">[u2?-sze]-et#-bu-u2-[szu?]</span></div><div class='features'><span class=\"atf xft\" ><span class=\"f\">atf=</span>[u2?-sze]-et#-bu-u2-[szu?]</span></div><div class=\"children hor  \"><div class=\"contnr c1    \" ><div class=\"lbl c1  \" ><span class=\"nd\">cluster</span></div><div class=\"children hor wrap \"><div class=\"contnr c0 trm   hl\"  style=\"background-color: cyan;\" ><div class=\"lbl c0 trm hl\"  style=\"background-color: cyan;\" ><span class=\"txto\">[u2?-</span></div><div class='features'><span class=\"atf xft\" ><span class=\"f\">atf=</span>u2?</span><span class=\"flags xft\" ><span class=\"f\">flags=</span>?</span></div></div><div class=\"contnr c0 trm   hl\"  style=\"background-color: magenta;\" ><div class=\"lbl c0 trm hl\"  style=\"background-color: magenta;\" ><span class=\"txto\">sze]-</span></div><div class='features'><span class=\"atf xft\" ><span class=\"f\">atf=</span>sze</span></div></div></div></div><div class=\"contnr c0 trm   hl\"  style=\"background-color: lightsalmon;\" ><div class=\"lbl c0 trm hl\"  style=\"background-color: lightsalmon;\" ><span class=\"txto\">et#-</span></div><div class='features'><span class=\"atf xft\" ><span class=\"f\">atf=</span>et#</span><span class=\"flags xft\" ><span class=\"f\">flags=</span>#</span></div></div><div class=\"contnr c0 trm   \" ><div class=\"lbl c0 trm \" ><span class=\"txto\">bu-</span></div><div class='features'><span class=\"atf xft\" ><span class=\"f\">atf=</span>bu</span></div></div><div class=\"contnr c0 trm   \" ><div class=\"lbl c0 trm \" ><span class=\"txto\">u2-</span></div><div class='features'><span class=\"atf xft\" ><span class=\"f\">atf=</span>u2</span></div></div><div class=\"contnr c1    \" ><div class=\"lbl c1  \" ><span class=\"nd\">cluster</span></div><div class=\"children hor wrap \"><div class=\"contnr c0 trm   \" ><div class=\"lbl c0 trm \" ><span class=\"txto\">[szu?]</span></div><div class='features'><span class=\"atf xft\" ><span class=\"f\">atf=</span>szu?</span><span class=\"flags xft\" ><span class=\"f\">flags=</span>?</span></div></div></div></div></div></div></div></div></div>"
      ],
      "text/plain": [
       "<IPython.core.display.HTML object>"
      ]
     },
     "metadata": {},
     "output_type": "display_data"
    }
   ],
   "source": [
    "A.displaySetup(noneValues={None, \"NA\", \"unknown\", 1})\n",
    "A.show(\n",
    "    results,\n",
    "    start=4,\n",
    "    end=4,\n",
    "    baseTypes=\"sign\",\n",
    "    colorMap={0: \"\", 2: \"cyan\", 3: \"magenta\", 4: \"lightsalmon\"},\n",
    ")"
   ]
  },
  {
   "cell_type": "markdown",
   "metadata": {},
   "source": [
    "In the rest of the notebook we stick to our normal setup, so we reset the extra features."
   ]
  },
  {
   "cell_type": "code",
   "execution_count": 31,
   "metadata": {
    "ExecuteTime": {
     "end_time": "2018-05-24T07:50:18.030145Z",
     "start_time": "2018-05-24T07:50:18.019245Z"
    }
   },
   "outputs": [
    {
     "data": {
      "text/html": [
       "<p><b>result</b> <i>4</i></p>"
      ],
      "text/plain": [
       "<IPython.core.display.HTML object>"
      ]
     },
     "metadata": {},
     "output_type": "display_data"
    },
    {
     "data": {
      "text/html": [
       "<div class=\"section \"><a target=\"_blank\" href=\"https://cdli.ucla.edu/search/search_results.php?SearchMode=Text&amp;ObjectID=P386470\" title=\"Show this document on CDLI\" sec=\"P386470 reverse:15'\">P386470 reverse:15'</a></div><div class=\" children\"><div class=\"contnr c3    \" ><div class=\"lbl c3  \" ><span class=\"nd\">line</span></div><div class=\"children hor wrap \"><div class=\"contnr c2    \" ><div class=\"lbl c2  \" ><span class=\"nd\">word</span> <span class=\"txto\">[u2?-sze]-et#-bu-u2-[szu?]</span></div><div class=\"children hor  \"><div class=\"contnr c1    \" ><div class=\"lbl c1  \" ><span class=\"nd\">cluster</span></div><div class=\"children hor wrap \"><div class=\"contnr c0 trm   hl\"  style=\"background-color: cyan;\" ><div class=\"lbl c0 trm hl\"  style=\"background-color: cyan;\" ><span class=\"txto\">[u2?-</span></div></div><div class=\"contnr c0 trm   hl\"  style=\"background-color: magenta;\" ><div class=\"lbl c0 trm hl\"  style=\"background-color: magenta;\" ><span class=\"txto\">sze]-</span></div></div></div></div><div class=\"contnr c0 trm   hl\"  style=\"background-color: lightsalmon;\" ><div class=\"lbl c0 trm hl\"  style=\"background-color: lightsalmon;\" ><span class=\"txto\">et#-</span></div></div><div class=\"contnr c0 trm   \" ><div class=\"lbl c0 trm \" ><span class=\"txto\">bu-</span></div></div><div class=\"contnr c0 trm   \" ><div class=\"lbl c0 trm \" ><span class=\"txto\">u2-</span></div></div><div class=\"contnr c1    \" ><div class=\"lbl c1  \" ><span class=\"nd\">cluster</span></div><div class=\"children hor wrap \"><div class=\"contnr c0 trm   \" ><div class=\"lbl c0 trm \" ><span class=\"txto\">[szu?]</span></div></div></div></div></div></div></div></div></div>"
      ],
      "text/plain": [
       "<IPython.core.display.HTML object>"
      ]
     },
     "metadata": {},
     "output_type": "display_data"
    }
   ],
   "source": [
    "A.displayReset()\n",
    "A.show(\n",
    "    results,\n",
    "    start=4,\n",
    "    end=4,\n",
    "    baseTypes=\"sign\",\n",
    "    colorMap={0: \"\", 2: \"cyan\", 3: \"magenta\", 4: \"lightsalmon\"},\n",
    ")"
   ]
  },
  {
   "cell_type": "markdown",
   "metadata": {},
   "source": [
    "# Features from queries\n",
    "\n",
    "In earlier displays we saw the *types* of signs, because the query mentioned it.\n",
    "\n",
    "Suppose we want to display the type also here, then we can modify the query by mentioning the feature `type`.\n",
    "\n",
    "But we do not want to impose extra limitations, so we say `type*`, meaning: no conditions on type whatsoever."
   ]
  },
  {
   "cell_type": "code",
   "execution_count": 32,
   "metadata": {
    "ExecuteTime": {
     "end_time": "2018-05-24T07:47:14.547656Z",
     "start_time": "2018-05-24T07:47:14.544433Z"
    }
   },
   "outputs": [],
   "source": [
    "query = \"\"\"\n",
    "line\n",
    "  sign question=1 type*\n",
    "  <: sign missing=1\n",
    "  <: sign damage=1\n",
    "\"\"\""
   ]
  },
  {
   "cell_type": "code",
   "execution_count": 33,
   "metadata": {
    "ExecuteTime": {
     "end_time": "2018-05-24T07:48:04.746084Z",
     "start_time": "2018-05-24T07:48:03.223548Z"
    }
   },
   "outputs": [
    {
     "name": "stdout",
     "output_type": "stream",
     "text": [
      "  0.60s 7 results\n"
     ]
    },
    {
     "data": {
      "text/html": [
       "<p><b>result</b> <i>4</i></p>"
      ],
      "text/plain": [
       "<IPython.core.display.HTML object>"
      ]
     },
     "metadata": {},
     "output_type": "display_data"
    },
    {
     "data": {
      "text/html": [
       "<div class=\"section \"><a target=\"_blank\" href=\"https://cdli.ucla.edu/search/search_results.php?SearchMode=Text&amp;ObjectID=P386470\" title=\"Show this document on CDLI\" sec=\"P386470 reverse:15'\">P386470 reverse:15'</a></div><div class=\" children\"><div class=\"contnr c3    \" ><div class=\"lbl c3  \" ><span class=\"nd\">line</span></div><div class=\"children hor wrap \"><div class=\"contnr c2 trm   \" ><div class=\"lbl c2 trm \" ><span class=\"nd\">word</span> <span class=\"txto\"><span class=\"plain   \" ><span class=\"plain   hl\"  style=\"background-color: cyan;\" ><span class=\"txto\">[u2?-</span></span><span class=\"plain   hl\"  style=\"background-color: magenta;\" ><span class=\"txto\">sze]-</span></span><span class=\"plain   hl\"  style=\"background-color: lightsalmon;\" ><span class=\"txto\">et#-</span></span><span class=\"txto\">bu-</span><span class=\"txto\">u2-</span><span class=\"txto\">[szu?]</span></span></span></div></div></div></div></div>"
      ],
      "text/plain": [
       "<IPython.core.display.HTML object>"
      ]
     },
     "metadata": {},
     "output_type": "display_data"
    }
   ],
   "source": [
    "results = A.search(query)\n",
    "A.show(\n",
    "    results, start=4, end=4, colorMap={0: \"\", 2: \"cyan\", 3: \"magenta\", 4: \"lightsalmon\"}\n",
    ")"
   ]
  },
  {
   "cell_type": "markdown",
   "metadata": {},
   "source": [
    "We do not see the features, because they are `sign` features, and our display stops at the `word` level.\n",
    "But we can improve on that:"
   ]
  },
  {
   "cell_type": "code",
   "execution_count": 34,
   "metadata": {},
   "outputs": [
    {
     "data": {
      "text/html": [
       "<p><b>result</b> <i>4</i></p>"
      ],
      "text/plain": [
       "<IPython.core.display.HTML object>"
      ]
     },
     "metadata": {},
     "output_type": "display_data"
    },
    {
     "data": {
      "text/html": [
       "<div class=\"section \"><a target=\"_blank\" href=\"https://cdli.ucla.edu/search/search_results.php?SearchMode=Text&amp;ObjectID=P386470\" title=\"Show this document on CDLI\" sec=\"P386470 reverse:15'\">P386470 reverse:15'</a></div><div class=\" children\"><div class=\"contnr c3    \" ><div class=\"lbl c3  \" ><span class=\"nd\">line</span></div><div class=\"children hor wrap \"><div class=\"contnr c2    \" ><div class=\"lbl c2  \" ><span class=\"nd\">word</span> <span class=\"txto\">[u2?-sze]-et#-bu-u2-[szu?]</span></div><div class=\"children hor  \"><div class=\"contnr c1    \" ><div class=\"lbl c1  \" ><span class=\"nd\">cluster</span></div><div class='features'><span class=\"type xft\" ><span class=\"f\">type=</span>missing</span></div><div class=\"children hor wrap \"><div class=\"contnr c0 trm   hl\"  style=\"background-color: cyan;\" ><div class=\"lbl c0 trm hl\"  style=\"background-color: cyan;\" ><span class=\"txto\">[u2?-</span></div><div class='features'><span class=\"missing xft\" ><span class=\"f\">missing=</span>1</span><span class=\"question xft\" ><span class=\"f\">question=</span>1</span><span class=\"type xft\" ><span class=\"f\">type=</span>reading</span></div></div><div class=\"contnr c0 trm   hl\"  style=\"background-color: magenta;\" ><div class=\"lbl c0 trm hl\"  style=\"background-color: magenta;\" ><span class=\"txto\">sze]-</span></div><div class='features'><span class=\"missing xft\" ><span class=\"f\">missing=</span>1</span><span class=\"type xft\" ><span class=\"f\">type=</span>reading</span></div></div></div></div><div class=\"contnr c0 trm   hl\"  style=\"background-color: lightsalmon;\" ><div class=\"lbl c0 trm hl\"  style=\"background-color: lightsalmon;\" ><span class=\"txto\">et#-</span></div><div class='features'><span class=\"damage xft\" ><span class=\"f\">damage=</span>1</span><span class=\"type xft\" ><span class=\"f\">type=</span>reading</span></div></div><div class=\"contnr c0 trm   \" ><div class=\"lbl c0 trm \" ><span class=\"txto\">bu-</span></div><div class='features'><span class=\"type xft\" ><span class=\"f\">type=</span>reading</span></div></div><div class=\"contnr c0 trm   \" ><div class=\"lbl c0 trm \" ><span class=\"txto\">u2-</span></div><div class='features'><span class=\"type xft\" ><span class=\"f\">type=</span>reading</span></div></div><div class=\"contnr c1    \" ><div class=\"lbl c1  \" ><span class=\"nd\">cluster</span></div><div class='features'><span class=\"type xft\" ><span class=\"f\">type=</span>missing</span></div><div class=\"children hor wrap \"><div class=\"contnr c0 trm   \" ><div class=\"lbl c0 trm \" ><span class=\"txto\">[szu?]</span></div><div class='features'><span class=\"missing xft\" ><span class=\"f\">missing=</span>1</span><span class=\"question xft\" ><span class=\"f\">question=</span>1</span><span class=\"type xft\" ><span class=\"f\">type=</span>reading</span></div></div></div></div></div></div></div></div></div>"
      ],
      "text/plain": [
       "<IPython.core.display.HTML object>"
      ]
     },
     "metadata": {},
     "output_type": "display_data"
    }
   ],
   "source": [
    "A.show(\n",
    "    results,\n",
    "    start=4,\n",
    "    end=4,\n",
    "    baseTypes=\"sign\",\n",
    "    colorMap={0: \"\", 2: \"cyan\", 3: \"magenta\", 4: \"lightsalmon\"},\n",
    ")"
   ]
  },
  {
   "cell_type": "markdown",
   "metadata": {},
   "source": [
    "# Show your own tuples\n",
    "\n",
    "So far we have `show()`n the results of searches.\n",
    "But you can also construct your own tuples and show them.\n",
    "\n",
    "Whereas you can use search to get a pretty good approximation of what you want, most of the times\n",
    "you do not arrive precisely at your destination.\n",
    "\n",
    "Here is an example where we use search to come close, and then work our way to produce the end result.\n",
    "\n",
    "## More missing than damaged\n",
    "\n",
    "We look for lines that have more missing signs than damaged signs.\n",
    "\n",
    "In our search templates we cannot formulate that a feature has different values on two nodes in the template.\n",
    "We could spell out all possible combinations of values and make a search template for each of them,\n",
    "but that is needlessly complex.\n",
    "\n",
    "Let's first use search to find all clauses containing missing and damaged signs."
   ]
  },
  {
   "cell_type": "code",
   "execution_count": 35,
   "metadata": {
    "ExecuteTime": {
     "end_time": "2018-05-24T07:51:05.187418Z",
     "start_time": "2018-05-24T07:51:02.450365Z"
    }
   },
   "outputs": [
    {
     "name": "stdout",
     "output_type": "stream",
     "text": [
      "  0.33s 9900 results\n"
     ]
    }
   ],
   "source": [
    "query = \"\"\"\n",
    "line\n",
    "  sign missing\n",
    "  sign damage\n",
    "\"\"\"\n",
    "results = A.search(query)"
   ]
  },
  {
   "cell_type": "markdown",
   "metadata": {},
   "source": [
    "Now the hand coding begins. We are going to extract the tuples we want."
   ]
  },
  {
   "cell_type": "code",
   "execution_count": 36,
   "metadata": {
    "ExecuteTime": {
     "end_time": "2018-05-24T07:51:06.901462Z",
     "start_time": "2018-05-24T07:51:06.878281Z"
    }
   },
   "outputs": [
    {
     "name": "stdout",
     "output_type": "stream",
     "text": [
      "3031 lines\n"
     ]
    }
   ],
   "source": [
    "lines = {}\n",
    "for (l, m, d) in results:\n",
    "    lines.setdefault(l, (set(), set()))\n",
    "    lines[l][0].add(m)\n",
    "    lines[l][1].add(d)\n",
    "print(f\"{len(lines)} lines\")"
   ]
  },
  {
   "cell_type": "markdown",
   "metadata": {},
   "source": [
    "Now we have all lines with both missing and damaged signs, without duplicates.\n",
    "\n",
    "For each line we have a set with its missing signs and one with its damaged signs.\n",
    "\n",
    "We filter in order to retain the lines with more missing than damaged signs.\n",
    "We put all missing signs in one big set and all damaged signs in one big set."
   ]
  },
  {
   "cell_type": "code",
   "execution_count": 37,
   "metadata": {},
   "outputs": [
    {
     "data": {
      "text/plain": [
       "1345"
      ]
     },
     "execution_count": 37,
     "metadata": {},
     "output_type": "execute_result"
    }
   ],
   "source": [
    "answer = []\n",
    "missing = set()\n",
    "damage = set()\n",
    "\n",
    "for (l, (m, d)) in lines.items():\n",
    "    if len(m) > len(d):\n",
    "        answer.append((l, *m, *d))\n",
    "        missing |= m\n",
    "        damage |= d\n",
    "len(answer)"
   ]
  },
  {
   "cell_type": "code",
   "execution_count": 38,
   "metadata": {},
   "outputs": [
    {
     "data": {
      "text/plain": [
       "(230894, 955, 956, 954)"
      ]
     },
     "execution_count": 38,
     "metadata": {},
     "output_type": "execute_result"
    }
   ],
   "source": [
    "answer[0]"
   ]
  },
  {
   "cell_type": "markdown",
   "metadata": {},
   "source": [
    "We are going to make a dictionary of highligts: one color for the missing signs and one for the damaged."
   ]
  },
  {
   "cell_type": "code",
   "execution_count": 39,
   "metadata": {},
   "outputs": [],
   "source": [
    "highlights = {}\n",
    "colorM = \"lightsalmon\"\n",
    "colorD = \"mediumaquamarine\"\n",
    "for s in missing:\n",
    "    highlights[s] = colorM\n",
    "for s in damage:\n",
    "    highlights[s] = colorD"
   ]
  },
  {
   "cell_type": "markdown",
   "metadata": {},
   "source": [
    "And now we can show them:"
   ]
  },
  {
   "cell_type": "code",
   "execution_count": 40,
   "metadata": {},
   "outputs": [
    {
     "data": {
      "text/html": [
       "<table><tr class=\"tf ltr\"><th class=\"tf ltr\">n</th><th class=\"tf ltr\">p</th><th class=\"tf ltr\">line</th><th class=\"tf\">sign</th><th class=\"tf\">sign</th><th class=\"tf\">sign</th></tr>\n",
       "<tr class=\"tf ltr\"><td class=\"tf ltr\">1</td><td class=\"tf ltr\"><span class=\"section ltr\"><a target=\"_blank\" href=\"https://cdli.ucla.edu/search/search_results.php?SearchMode=Text&amp;ObjectID=P509377\" title=\"Show this document on CDLI\" sec=\"P509377 reverse:2\">P509377 reverse:2</a></span></td><td class=\"tf ltr\"><div class=\"\"><span class=\"txto\">_sze_ </span><span class=\"txto\">u3 </span><span class=\"txto\">_ku3-</span><span class=\"txto\">babbar_ </span><span class=\"txto\">ad-</span><span class=\"txto\">di-</span><span class=\"txto\">na-</span><span class=\"plain   hl\"  style=\"background-color: mediumaquamarine;\" ><span class=\"txto\">ak#-</span></span><span class=\"plain   hl\"  style=\"background-color: lightsalmon;\" ><span class=\"txto\">[kum-</span></span><span class=\"plain   hl\"  style=\"background-color: lightsalmon;\" ><span class=\"txto\">ma]</span></span></div></td><td class=\"tf ltr\"><div class=\"\"><span class=\"plain   hl\"  style=\"background-color: lightsalmon;\" ><span class=\"txto\">[kum-</span></span></div></td><td class=\"tf ltr\"><div class=\"\"><span class=\"plain   hl\"  style=\"background-color: lightsalmon;\" ><span class=\"txto\">ma]</span></span></div></td><td class=\"tf ltr\"><div class=\"\"><span class=\"plain   hl\"  style=\"background-color: mediumaquamarine;\" ><span class=\"txto\">ak#-</span></span></div></td></tr>\n",
       "<tr class=\"tf ltr\"><td class=\"tf ltr\">2</td><td class=\"tf ltr\"><span class=\"section ltr\"><a target=\"_blank\" href=\"https://cdli.ucla.edu/search/search_results.php?SearchMode=Text&amp;ObjectID=P481192\" title=\"Show this document on CDLI\" sec=\"P481192 obverse:10'\">P481192 obverse:10'</a></span></td><td class=\"tf ltr\"><div class=\"\"><span class=\"txto\">_a-</span><span class=\"txto\">sza3_ </span><span class=\"txto\">u2-</span><span class=\"txto\">ul </span><span class=\"txto\">e-</span><span class=\"plain   hl\"  style=\"background-color: mediumaquamarine;\" ><span class=\"txto\">ri#-</span></span><span class=\"plain   hl\"  style=\"background-color: lightsalmon;\" ><span class=\"txto\">[isz </span></span><span class=\"plain   hl\"  style=\"background-color: lightsalmon;\" ><span class=\"txto\">...]</span></span></div></td><td class=\"tf ltr\"><div class=\"\"><span class=\"plain   hl\"  style=\"background-color: lightsalmon;\" ><span class=\"txto\">[isz </span></span></div></td><td class=\"tf ltr\"><div class=\"\"><span class=\"plain   hl\"  style=\"background-color: lightsalmon;\" ><span class=\"txto\">...]</span></span></div></td><td class=\"tf ltr\"><div class=\"\"><span class=\"plain   hl\"  style=\"background-color: mediumaquamarine;\" ><span class=\"txto\">ri#-</span></span></div></td></tr>\n",
       "<tr class=\"tf ltr\"><td class=\"tf ltr\">3</td><td class=\"tf ltr\"><span class=\"section ltr\"><a target=\"_blank\" href=\"https://cdli.ucla.edu/search/search_results.php?SearchMode=Text&amp;ObjectID=P481192\" title=\"Show this document on CDLI\" sec=\"P481192 obverse:13'\">P481192 obverse:13'</a></span></td><td class=\"tf ltr\"><div class=\"\"><span class=\"plain   hl\"  style=\"background-color: lightsalmon;\" ><span class=\"txto\">[x </span></span><span class=\"plain   hl\"  style=\"background-color: lightsalmon;\" ><span class=\"txto\">(x)] </span></span><span class=\"txto\">x-</span><span class=\"txto\">a-</span><span class=\"txto\">tum </span><span class=\"txto\">it-</span><span class=\"plain   hl\"  style=\"background-color: mediumaquamarine;\" ><span class=\"txto\">ta#-</span></span><span class=\"txto\">za-</span><span class=\"txto\">az-</span><span class=\"txto\">za </span><span class=\"txto\">i-</span><span class=\"txto\">mu-</span><span class=\"txto\">ut-</span><span class=\"txto\">ta</span></div></td><td class=\"tf ltr\"><div class=\"\"><span class=\"plain   hl\"  style=\"background-color: lightsalmon;\" ><span class=\"txto\">[x </span></span></div></td><td class=\"tf ltr\"><div class=\"\"><span class=\"plain   hl\"  style=\"background-color: lightsalmon;\" ><span class=\"txto\">(x)] </span></span></div></td><td class=\"tf ltr\"><div class=\"\"><span class=\"plain   hl\"  style=\"background-color: mediumaquamarine;\" ><span class=\"txto\">ta#-</span></span></div></td></tr>\n",
       "<tr class=\"tf ltr\"><td class=\"tf ltr\">4</td><td class=\"tf ltr\"><span class=\"section ltr\"><a target=\"_blank\" href=\"https://cdli.ucla.edu/search/search_results.php?SearchMode=Text&amp;ObjectID=P481192\" title=\"Show this document on CDLI\" sec=\"P481192 obverse:14'\">P481192 obverse:14'</a></span></td><td class=\"tf ltr\"><div class=\"\"><span class=\"plain   hl\"  style=\"background-color: lightsalmon;\" ><span class=\"txto\">[...] </span></span><span class=\"txto\">x </span><span class=\"txto\">tup-</span><span class=\"plain   hl\"  style=\"background-color: mediumaquamarine;\" ><span class=\"txto\">pu# </span></span><span class=\"plain   hl\"  style=\"background-color: lightsalmon;\" ><span class=\"txto\">[x </span></span><span class=\"plain   hl\"  style=\"background-color: lightsalmon;\" ><span class=\"txto\">x] </span></span><span class=\"txto\">a-</span><span class=\"plain   hl\"  style=\"background-color: mediumaquamarine;\" ><span class=\"txto\">na# </span></span><span class=\"plain   hl\"  style=\"background-color: mediumaquamarine;\" ><span class=\"txto\">ma#-</span></span><span class=\"txto\">har </span><span class=\"txto\">a-</span><span class=\"plain   hl\"  style=\"background-color: lightsalmon;\" ><span class=\"txto\">[wi-</span></span><span class=\"plain   hl\"  style=\"background-color: lightsalmon;\" ><span class=\"txto\">le-</span></span><span class=\"plain   hl\"  style=\"background-color: lightsalmon;\" ><span class=\"txto\">e]</span></span></div></td><td class=\"tf ltr\"><div class=\"\"><span class=\"plain   hl\"  style=\"background-color: lightsalmon;\" ><span class=\"txto\">[...] </span></span></div></td><td class=\"tf ltr\"><div class=\"\"><span class=\"plain   hl\"  style=\"background-color: lightsalmon;\" ><span class=\"txto\">[x </span></span></div></td><td class=\"tf ltr\"><div class=\"\"><span class=\"plain   hl\"  style=\"background-color: lightsalmon;\" ><span class=\"txto\">x] </span></span></div></td><td class=\"tf ltr\"><div class=\"\"><span class=\"plain   hl\"  style=\"background-color: lightsalmon;\" ><span class=\"txto\">[wi-</span></span></div></td><td class=\"tf ltr\"><div class=\"\"><span class=\"plain   hl\"  style=\"background-color: lightsalmon;\" ><span class=\"txto\">le-</span></span></div></td><td class=\"tf ltr\"><div class=\"\"><span class=\"plain   hl\"  style=\"background-color: lightsalmon;\" ><span class=\"txto\">e]</span></span></div></td><td class=\"tf ltr\"><div class=\"\"><span class=\"plain   hl\"  style=\"background-color: mediumaquamarine;\" ><span class=\"txto\">na# </span></span></div></td><td class=\"tf ltr\"><div class=\"\"><span class=\"plain   hl\"  style=\"background-color: mediumaquamarine;\" ><span class=\"txto\">ma#-</span></span></div></td><td class=\"tf ltr\"><div class=\"\"><span class=\"plain   hl\"  style=\"background-color: mediumaquamarine;\" ><span class=\"txto\">pu# </span></span></div></td></tr>\n",
       "<tr class=\"tf ltr\"><td class=\"tf ltr\">5</td><td class=\"tf ltr\"><span class=\"section ltr\"><a target=\"_blank\" href=\"https://cdli.ucla.edu/search/search_results.php?SearchMode=Text&amp;ObjectID=P481192\" title=\"Show this document on CDLI\" sec=\"P481192 reverse:13'\">P481192 reverse:13'</a></span></td><td class=\"tf ltr\"><div class=\"\"><span class=\"plain   hl\"  style=\"background-color: lightsalmon;\" ><span class=\"txto\">[x </span></span><span class=\"plain   hl\"  style=\"background-color: lightsalmon;\" ><span class=\"txto\">(x)] </span></span><span class=\"txto\">x-</span><span class=\"txto\">ma </span><span class=\"txto\">a-</span><span class=\"txto\">na </span><span class=\"txto\">ma-</span><span class=\"txto\">ah-</span><span class=\"plain   hl\"  style=\"background-color: mediumaquamarine;\" ><span class=\"txto\">ri#-</span></span><span class=\"plain   hl\"  style=\"background-color: mediumaquamarine;\" ><span class=\"txto\">ka# </span></span><span class=\"txto\">il-</span><span class=\"txto\">li-</span><span class=\"txto\">kam </span><span class=\"txto\">x </span><span class=\"txto\">x </span><span class=\"plain   hl\"  style=\"background-color: lightsalmon;\" ><span class=\"txto\">[(x) </span></span><span class=\"plain   hl\"  style=\"background-color: lightsalmon;\" ><span class=\"txto\">(x)]</span></span></div></td><td class=\"tf ltr\"><div class=\"\"><span class=\"plain   hl\"  style=\"background-color: lightsalmon;\" ><span class=\"txto\">(x)]</span></span></div></td><td class=\"tf ltr\"><div class=\"\"><span class=\"plain   hl\"  style=\"background-color: lightsalmon;\" ><span class=\"txto\">[(x) </span></span></div></td><td class=\"tf ltr\"><div class=\"\"><span class=\"plain   hl\"  style=\"background-color: lightsalmon;\" ><span class=\"txto\">[x </span></span></div></td><td class=\"tf ltr\"><div class=\"\"><span class=\"plain   hl\"  style=\"background-color: lightsalmon;\" ><span class=\"txto\">(x)] </span></span></div></td><td class=\"tf ltr\"><div class=\"\"><span class=\"plain   hl\"  style=\"background-color: mediumaquamarine;\" ><span class=\"txto\">ri#-</span></span></div></td><td class=\"tf ltr\"><div class=\"\"><span class=\"plain   hl\"  style=\"background-color: mediumaquamarine;\" ><span class=\"txto\">ka# </span></span></div></td></tr>\n",
       "<tr class=\"tf ltr\"><td class=\"tf ltr\">6</td><td class=\"tf ltr\"><span class=\"section ltr\"><a target=\"_blank\" href=\"https://cdli.ucla.edu/search/search_results.php?SearchMode=Text&amp;ObjectID=P389256\" title=\"Show this document on CDLI\" sec=\"P389256 obverse:4'\">P389256 obverse:4'</a></span></td><td class=\"tf ltr\"><div class=\"\"><span class=\"txto\">uz-</span><span class=\"txto\">ni-</span><span class=\"txto\">ia </span><span class=\"plain   hl\"  style=\"background-color: mediumaquamarine;\" ><span class=\"txto\">li#-</span></span><span class=\"plain   hl\"  style=\"background-color: lightsalmon;\" ><span class=\"txto\">[x </span></span><span class=\"plain   hl\"  style=\"background-color: lightsalmon;\" ><span class=\"txto\">...]</span></span></div></td><td class=\"tf ltr\"><div class=\"\"><span class=\"plain   hl\"  style=\"background-color: lightsalmon;\" ><span class=\"txto\">[x </span></span></div></td><td class=\"tf ltr\"><div class=\"\"><span class=\"plain   hl\"  style=\"background-color: lightsalmon;\" ><span class=\"txto\">...]</span></span></div></td><td class=\"tf ltr\"><div class=\"\"><span class=\"plain   hl\"  style=\"background-color: mediumaquamarine;\" ><span class=\"txto\">li#-</span></span></div></td></tr>\n",
       "<tr class=\"tf ltr\"><td class=\"tf ltr\">7</td><td class=\"tf ltr\"><span class=\"section ltr\"><a target=\"_blank\" href=\"https://cdli.ucla.edu/search/search_results.php?SearchMode=Text&amp;ObjectID=P389256\" title=\"Show this document on CDLI\" sec=\"P389256 left:2\">P389256 left:2</a></span></td><td class=\"tf ltr\"><div class=\"\"><span class=\"plain   hl\"  style=\"background-color: lightsalmon;\" ><span class=\"txto\">[...] </span></span><span class=\"txto\">i-</span><span class=\"txto\">di-</span><span class=\"plain   hl\"  style=\"background-color: mediumaquamarine;\" ><span class=\"txto\">in# </span></span><span class=\"plain   hl\"  style=\"background-color: lightsalmon;\" ><span class=\"txto\">[...]</span></span></div></td><td class=\"tf ltr\"><div class=\"\"><span class=\"plain   hl\"  style=\"background-color: lightsalmon;\" ><span class=\"txto\">[...] </span></span></div></td><td class=\"tf ltr\"><div class=\"\"><span class=\"plain   hl\"  style=\"background-color: lightsalmon;\" ><span class=\"txto\">[...]</span></span></div></td><td class=\"tf ltr\"><div class=\"\"><span class=\"plain   hl\"  style=\"background-color: mediumaquamarine;\" ><span class=\"txto\">in# </span></span></div></td></tr>\n",
       "<tr class=\"tf ltr\"><td class=\"tf ltr\">8</td><td class=\"tf ltr\"><span class=\"section ltr\"><a target=\"_blank\" href=\"https://cdli.ucla.edu/search/search_results.php?SearchMode=Text&amp;ObjectID=P510527\" title=\"Show this document on CDLI\" sec=\"P510527 reverse:1\">P510527 reverse:1</a></span></td><td class=\"tf ltr\"><div class=\"\"><span class=\"plain   hl\"  style=\"background-color: lightsalmon;\" ><span class=\"txto\">[a-</span></span><span class=\"plain   hl\"  style=\"background-color: lightsalmon;\" ><span class=\"txto\">wi]-</span></span><span class=\"plain   hl\"  style=\"background-color: mediumaquamarine;\" ><span class=\"txto\">lu#-</span></span><span class=\"txto\">u2 </span><span class=\"txto\">i-</span><span class=\"txto\">na </span><span class=\"txto\">mu-</span><span class=\"txto\">uh2-</span><span class=\"txto\">hi </span><span class=\"txto\">ip-</span><span class=\"txto\">qu2-</span><span class=\"txto\">i3-</span><span class=\"txto\">li2-</span><span class=\"txto\">szu </span><span class=\"txto\">_di-</span><span class=\"txto\">ku5_</span></div></td><td class=\"tf ltr\"><div class=\"\"><span class=\"plain   hl\"  style=\"background-color: lightsalmon;\" ><span class=\"txto\">[a-</span></span></div></td><td class=\"tf ltr\"><div class=\"\"><span class=\"plain   hl\"  style=\"background-color: lightsalmon;\" ><span class=\"txto\">wi]-</span></span></div></td><td class=\"tf ltr\"><div class=\"\"><span class=\"plain   hl\"  style=\"background-color: mediumaquamarine;\" ><span class=\"txto\">lu#-</span></span></div></td></tr>\n",
       "<tr class=\"tf ltr\"><td class=\"tf ltr\">9</td><td class=\"tf ltr\"><span class=\"section ltr\"><a target=\"_blank\" href=\"https://cdli.ucla.edu/search/search_results.php?SearchMode=Text&amp;ObjectID=P510528\" title=\"Show this document on CDLI\" sec=\"P510528 reverse:1\">P510528 reverse:1</a></span></td><td class=\"tf ltr\"><div class=\"\"><span class=\"plain   hl\"  style=\"background-color: lightsalmon;\" ><span class=\"txto\">[x </span></span><span class=\"plain   hl\"  style=\"background-color: lightsalmon;\" ><span class=\"txto\">x] </span></span><span class=\"txto\">x </span><span class=\"txto\">x </span><span class=\"plain   hl\"  style=\"background-color: mediumaquamarine;\" ><span class=\"txto\">ra# </span></span><span class=\"plain   hl\"  style=\"background-color: lightsalmon;\" ><span class=\"txto\">[...] </span></span><span class=\"plain   hl\"  style=\"background-color: lightsalmon;\" ><span class=\"txto\">[tup]-</span></span><span class=\"plain   hl\"  style=\"background-color: mediumaquamarine;\" ><span class=\"txto\">pi2#-</span></span><span class=\"plain   hl\"  style=\"background-color: mediumaquamarine;\" ><span class=\"txto\">im# </span></span><span class=\"txto\">lu </span><span class=\"txto\">x </span><span class=\"plain   hl\"  style=\"background-color: lightsalmon;\" ><span class=\"txto\">[x </span></span><span class=\"plain   hl\"  style=\"background-color: lightsalmon;\" ><span class=\"txto\">x]</span></span></div></td><td class=\"tf ltr\"><div class=\"\"><span class=\"plain   hl\"  style=\"background-color: lightsalmon;\" ><span class=\"txto\">[x </span></span></div></td><td class=\"tf ltr\"><div class=\"\"><span class=\"plain   hl\"  style=\"background-color: lightsalmon;\" ><span class=\"txto\">x] </span></span></div></td><td class=\"tf ltr\"><div class=\"\"><span class=\"plain   hl\"  style=\"background-color: lightsalmon;\" ><span class=\"txto\">[...] </span></span></div></td><td class=\"tf ltr\"><div class=\"\"><span class=\"plain   hl\"  style=\"background-color: lightsalmon;\" ><span class=\"txto\">[tup]-</span></span></div></td><td class=\"tf ltr\"><div class=\"\"><span class=\"plain   hl\"  style=\"background-color: lightsalmon;\" ><span class=\"txto\">[x </span></span></div></td><td class=\"tf ltr\"><div class=\"\"><span class=\"plain   hl\"  style=\"background-color: lightsalmon;\" ><span class=\"txto\">x]</span></span></div></td><td class=\"tf ltr\"><div class=\"\"><span class=\"plain   hl\"  style=\"background-color: mediumaquamarine;\" ><span class=\"txto\">pi2#-</span></span></div></td><td class=\"tf ltr\"><div class=\"\"><span class=\"plain   hl\"  style=\"background-color: mediumaquamarine;\" ><span class=\"txto\">im# </span></span></div></td><td class=\"tf ltr\"><div class=\"\"><span class=\"plain   hl\"  style=\"background-color: mediumaquamarine;\" ><span class=\"txto\">ra# </span></span></div></td></tr>\n",
       "<tr class=\"tf ltr\"><td class=\"tf ltr\">10</td><td class=\"tf ltr\"><span class=\"section ltr\"><a target=\"_blank\" href=\"https://cdli.ucla.edu/search/search_results.php?SearchMode=Text&amp;ObjectID=P510530\" title=\"Show this document on CDLI\" sec=\"P510530 obverse:3\">P510530 obverse:3</a></span></td><td class=\"tf ltr\"><div class=\"\"><span class=\"plain   hl\"  style=\"background-color: lightsalmon;\" ><span class=\"txto\">[um-</span></span><span class=\"plain   hl\"  style=\"background-color: lightsalmon;\" ><span class=\"txto\">ma </span></span><span class=\"plain   hl\"  style=\"background-color: lightsalmon;\" ><span class=\"txto\">{d}</span></span><span class=\"plain   hl\"  style=\"background-color: lightsalmon;\" ><span class=\"txto\">na-</span></span><span class=\"plain   hl\"  style=\"background-color: lightsalmon;\" ><span class=\"txto\">bi]-</span></span><span class=\"plain   hl\"  style=\"background-color: mediumaquamarine;\" ><span class=\"txto\">um#-</span></span><span class=\"txto\">na-</span><span class=\"txto\">s,i-</span><span class=\"txto\">ir-</span><span class=\"txto\">ma</span></div></td><td class=\"tf ltr\"><div class=\"\"><span class=\"plain   hl\"  style=\"background-color: lightsalmon;\" ><span class=\"txto\">[um-</span></span></div></td><td class=\"tf ltr\"><div class=\"\"><span class=\"plain   hl\"  style=\"background-color: lightsalmon;\" ><span class=\"txto\">ma </span></span></div></td><td class=\"tf ltr\"><div class=\"\"><span class=\"plain   hl\"  style=\"background-color: lightsalmon;\" ><span class=\"txto\">{d}</span></span></div></td><td class=\"tf ltr\"><div class=\"\"><span class=\"plain   hl\"  style=\"background-color: lightsalmon;\" ><span class=\"txto\">na-</span></span></div></td><td class=\"tf ltr\"><div class=\"\"><span class=\"plain   hl\"  style=\"background-color: lightsalmon;\" ><span class=\"txto\">bi]-</span></span></div></td><td class=\"tf ltr\"><div class=\"\"><span class=\"plain   hl\"  style=\"background-color: mediumaquamarine;\" ><span class=\"txto\">um#-</span></span></div></td></tr></table>"
      ],
      "text/plain": [
       "<IPython.core.display.HTML object>"
      ]
     },
     "metadata": {},
     "output_type": "display_data"
    }
   ],
   "source": [
    "A.table(answer, start=1, end=10, highlights=highlights)"
   ]
  },
  {
   "cell_type": "markdown",
   "metadata": {},
   "source": [
    "As you see, you have total control."
   ]
  },
  {
   "cell_type": "markdown",
   "metadata": {},
   "source": [
    "---\n",
    "\n",
    "All chapters:\n",
    "\n",
    "* **[start](start.ipynb)** become an expert in creating pretty displays of your text structures\n",
    "* **[display](display.ipynb)** become an expert in creating pretty displays of your text structures\n",
    "* **search** turbo charge your hand-coding with search templates\n",
    "* **[exportExcel](exportExcel.ipynb)** make tailor-made spreadsheets out of your results\n",
    "* **[share](share.ipynb)** draw in other people's data and let them use yours\n",
    "* **[similarLines](similarLines.ipynb)** spot the similarities between lines\n",
    "\n",
    "---\n",
    "\n",
    "See the [cookbook](cookbook) for recipes for small, concrete tasks.\n",
    "\n",
    "CC-BY Dirk Roorda"
   ]
  }
 ],
 "metadata": {
  "kernelspec": {
   "display_name": "Python 3",
   "language": "python",
   "name": "python3"
  },
  "language_info": {
   "codemirror_mode": {
    "name": "ipython",
    "version": 3
   },
   "file_extension": ".py",
   "mimetype": "text/x-python",
   "name": "python",
   "nbconvert_exporter": "python",
   "pygments_lexer": "ipython3",
   "version": "3.8.3"
  }
 },
 "nbformat": 4,
 "nbformat_minor": 4
}
