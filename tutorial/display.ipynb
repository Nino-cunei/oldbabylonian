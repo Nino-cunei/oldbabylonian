{
 "cells": [
  {
   "cell_type": "markdown",
   "metadata": {},
   "source": [
    "<img align=\"right\" src=\"images/tf.png\" width=\"128\"/>\n",
    "<img align=\"right\" src=\"images/ninologo.png\" width=\"128\"/>\n",
    "<img align=\"right\" src=\"images/dans.png\" width=\"128\"/>\n",
    "\n",
    "---\n",
    "\n",
    "To get started: consult [start](start.ipynb)\n",
    "\n",
    "---\n",
    "\n",
    "# Display\n",
    "\n",
    "We show the ins and outs of displaying cuneiform ATF transcriptions."
   ]
  },
  {
   "cell_type": "code",
   "execution_count": 1,
   "metadata": {},
   "outputs": [],
   "source": [
    "%load_ext autoreload\n",
    "%autoreload 2"
   ]
  },
  {
   "cell_type": "code",
   "execution_count": 2,
   "metadata": {
    "ExecuteTime": {
     "end_time": "2018-05-18T09:17:16.202764Z",
     "start_time": "2018-05-18T09:17:16.197546Z"
    }
   },
   "outputs": [],
   "source": [
    "from tf.app import use"
   ]
  },
  {
   "cell_type": "code",
   "execution_count": 3,
   "metadata": {},
   "outputs": [
    {
     "data": {
      "text/html": [
       "<b title=\"local github\">TF-app:</b> <span title=\"repo clone offline under ~/github\">~/github/annotation/app-oldbabylonian/code</span>"
      ],
      "text/plain": [
       "<IPython.core.display.HTML object>"
      ]
     },
     "metadata": {},
     "output_type": "display_data"
    },
    {
     "data": {
      "text/html": [
       "<b title=\"local github\">data:</b> <span title=\"repo clone offline under ~/github\">~/github/Nino-cunei/oldbabylonian/tf/1.0.6</span>"
      ],
      "text/plain": [
       "<IPython.core.display.HTML object>"
      ]
     },
     "metadata": {},
     "output_type": "display_data"
    },
    {
     "data": {
      "text/html": [
       "<b>Text-Fabric:</b> <a target=\"_blank\" href=\"https://annotation.github.io/text-fabric/cheatsheet.html\" title=\"text-fabric-api\">Text-Fabric API 8.4.2</a>, <a target=\"_blank\" href=\"https://github.com/annotation/app-oldbabylonian\" title=\"oldbabylonian TF-app\">app-oldbabylonian</a>, <a target=\"_blank\" href=\"https://annotation.github.io/text-fabric/about/searchusage.html\" title=\"Search Templates Introduction and Reference\">Search Reference</a><br><b>Data:</b> <a target=\"_blank\" href=\"https://github.com/Nino-cunei/oldbabylonian/blob/master/docs/about.md\" title=\"provenance of Old Babylonian Letters 1900-1600: Cuneiform tablets\">OLDBABYLONIAN</a>, <a target=\"_blank\" href=\"https://nbviewer.jupyter.org/github/Nino-cunei/tfFromAtf/blob/master/programs/mapReadings.ipynb\" title=\"mapping from readings to UNICODE\">Character table</a>, <a target=\"_blank\" href=\"https://github.com/Nino-cunei/tfFromAtf/blob/master/docs/transcription.md\" title=\"OLDBABYLONIAN feature documentation\">Feature docs</a><br><b>Features:</b><br><details><summary><b>Old Babylonian Letters 1900-1600: Cuneiform tablets</b></summary><a target=\"_blank\" href=\"https://github.com/Nino-cunei/tfFromAtf/blob/master/docs/transcription.md\" title=\"~/github/Nino-cunei/oldbabylonian/tf/1.0.6/ARK.tf\">ARK</a><br><a target=\"_blank\" href=\"https://github.com/Nino-cunei/tfFromAtf/blob/master/docs/transcription.md\" title=\"~/github/Nino-cunei/oldbabylonian/tf/1.0.6/after.tf\">after</a><br><a target=\"_blank\" href=\"https://github.com/Nino-cunei/tfFromAtf/blob/master/docs/transcription.md\" title=\"~/github/Nino-cunei/oldbabylonian/tf/1.0.6/afterr.tf\">afterr</a><br><a target=\"_blank\" href=\"https://github.com/Nino-cunei/tfFromAtf/blob/master/docs/transcription.md\" title=\"~/github/Nino-cunei/oldbabylonian/tf/1.0.6/afteru.tf\">afteru</a><br><a target=\"_blank\" href=\"https://github.com/Nino-cunei/tfFromAtf/blob/master/docs/transcription.md\" title=\"~/github/Nino-cunei/oldbabylonian/tf/1.0.6/atf.tf\">atf</a><br><a target=\"_blank\" href=\"https://github.com/Nino-cunei/tfFromAtf/blob/master/docs/transcription.md\" title=\"~/github/Nino-cunei/oldbabylonian/tf/1.0.6/atfpost.tf\">atfpost</a><br><a target=\"_blank\" href=\"https://github.com/Nino-cunei/tfFromAtf/blob/master/docs/transcription.md\" title=\"~/github/Nino-cunei/oldbabylonian/tf/1.0.6/atfpre.tf\">atfpre</a><br><a target=\"_blank\" href=\"https://github.com/Nino-cunei/tfFromAtf/blob/master/docs/transcription.md\" title=\"~/github/Nino-cunei/oldbabylonian/tf/1.0.6/author.tf\">author</a><br><a target=\"_blank\" href=\"https://github.com/Nino-cunei/tfFromAtf/blob/master/docs/transcription.md\" title=\"~/github/Nino-cunei/oldbabylonian/tf/1.0.6/col.tf\">col</a><br><a target=\"_blank\" href=\"https://github.com/Nino-cunei/tfFromAtf/blob/master/docs/transcription.md\" title=\"~/github/Nino-cunei/oldbabylonian/tf/1.0.6/collated.tf\">collated</a><br><a target=\"_blank\" href=\"https://github.com/Nino-cunei/tfFromAtf/blob/master/docs/transcription.md\" title=\"~/github/Nino-cunei/oldbabylonian/tf/1.0.6/collection.tf\">collection</a><br><a target=\"_blank\" href=\"https://github.com/Nino-cunei/tfFromAtf/blob/master/docs/transcription.md\" title=\"~/github/Nino-cunei/oldbabylonian/tf/1.0.6/comment.tf\">comment</a><br><a target=\"_blank\" href=\"https://github.com/Nino-cunei/tfFromAtf/blob/master/docs/transcription.md\" title=\"~/github/Nino-cunei/oldbabylonian/tf/1.0.6/damage.tf\">damage</a><br><a target=\"_blank\" href=\"https://github.com/Nino-cunei/tfFromAtf/blob/master/docs/transcription.md\" title=\"~/github/Nino-cunei/oldbabylonian/tf/1.0.6/det.tf\">det</a><br><a target=\"_blank\" href=\"https://github.com/Nino-cunei/tfFromAtf/blob/master/docs/transcription.md\" title=\"~/github/Nino-cunei/oldbabylonian/tf/1.0.6/docnote.tf\">docnote</a><br><a target=\"_blank\" href=\"https://github.com/Nino-cunei/tfFromAtf/blob/master/docs/transcription.md\" title=\"~/github/Nino-cunei/oldbabylonian/tf/1.0.6/docnumber.tf\">docnumber</a><br><a target=\"_blank\" href=\"https://github.com/Nino-cunei/tfFromAtf/blob/master/docs/transcription.md\" title=\"~/github/Nino-cunei/oldbabylonian/tf/1.0.6/excavation.tf\">excavation</a><br><a target=\"_blank\" href=\"https://github.com/Nino-cunei/tfFromAtf/blob/master/docs/transcription.md\" title=\"~/github/Nino-cunei/oldbabylonian/tf/1.0.6/excised.tf\">excised</a><br><a target=\"_blank\" href=\"https://github.com/Nino-cunei/tfFromAtf/blob/master/docs/transcription.md\" title=\"~/github/Nino-cunei/oldbabylonian/tf/1.0.6/face.tf\">face</a><br><a target=\"_blank\" href=\"https://github.com/Nino-cunei/tfFromAtf/blob/master/docs/transcription.md\" title=\"~/github/Nino-cunei/oldbabylonian/tf/1.0.6/flags.tf\">flags</a><br><a target=\"_blank\" href=\"https://github.com/Nino-cunei/tfFromAtf/blob/master/docs/transcription.md\" title=\"~/github/Nino-cunei/oldbabylonian/tf/1.0.6/fraction.tf\">fraction</a><br><a target=\"_blank\" href=\"https://github.com/Nino-cunei/tfFromAtf/blob/master/docs/transcription.md\" title=\"~/github/Nino-cunei/oldbabylonian/tf/1.0.6/genre.tf\">genre</a><br><a target=\"_blank\" href=\"https://github.com/Nino-cunei/tfFromAtf/blob/master/docs/transcription.md\" title=\"~/github/Nino-cunei/oldbabylonian/tf/1.0.6/grapheme.tf\">grapheme</a><br><a target=\"_blank\" href=\"https://github.com/Nino-cunei/tfFromAtf/blob/master/docs/transcription.md\" title=\"~/github/Nino-cunei/oldbabylonian/tf/1.0.6/graphemer.tf\">graphemer</a><br><a target=\"_blank\" href=\"https://github.com/Nino-cunei/tfFromAtf/blob/master/docs/transcription.md\" title=\"~/github/Nino-cunei/oldbabylonian/tf/1.0.6/graphemeu.tf\">graphemeu</a><br><a target=\"_blank\" href=\"https://github.com/Nino-cunei/tfFromAtf/blob/master/docs/transcription.md\" title=\"~/github/Nino-cunei/oldbabylonian/tf/1.0.6/lang.tf\">lang</a><br><a target=\"_blank\" href=\"https://github.com/Nino-cunei/tfFromAtf/blob/master/docs/transcription.md\" title=\"~/github/Nino-cunei/oldbabylonian/tf/1.0.6/langalt.tf\">langalt</a><br><a target=\"_blank\" href=\"https://github.com/Nino-cunei/tfFromAtf/blob/master/docs/transcription.md\" title=\"~/github/Nino-cunei/oldbabylonian/tf/1.0.6/ln.tf\">ln</a><br><a target=\"_blank\" href=\"https://github.com/Nino-cunei/tfFromAtf/blob/master/docs/transcription.md\" title=\"~/github/Nino-cunei/oldbabylonian/tf/1.0.6/lnc.tf\">lnc</a><br><a target=\"_blank\" href=\"https://github.com/Nino-cunei/tfFromAtf/blob/master/docs/transcription.md\" title=\"~/github/Nino-cunei/oldbabylonian/tf/1.0.6/lnno.tf\">lnno</a><br><a target=\"_blank\" href=\"https://github.com/Nino-cunei/tfFromAtf/blob/master/docs/transcription.md\" title=\"~/github/Nino-cunei/oldbabylonian/tf/1.0.6/material.tf\">material</a><br><a target=\"_blank\" href=\"https://github.com/Nino-cunei/tfFromAtf/blob/master/docs/transcription.md\" title=\"~/github/Nino-cunei/oldbabylonian/tf/1.0.6/missing.tf\">missing</a><br><a target=\"_blank\" href=\"https://github.com/Nino-cunei/tfFromAtf/blob/master/docs/transcription.md\" title=\"~/github/Nino-cunei/oldbabylonian/tf/1.0.6/museumcode.tf\">museumcode</a><br><a target=\"_blank\" href=\"https://github.com/Nino-cunei/tfFromAtf/blob/master/docs/transcription.md\" title=\"~/github/Nino-cunei/oldbabylonian/tf/1.0.6/museumname.tf\">museumname</a><br><a target=\"_blank\" href=\"https://github.com/Nino-cunei/tfFromAtf/blob/master/docs/transcription.md\" title=\"~/github/Nino-cunei/oldbabylonian/tf/1.0.6/object.tf\">object</a><br><a target=\"_blank\" href=\"https://github.com/Nino-cunei/tfFromAtf/blob/master/docs/transcription.md\" title=\"~/github/Nino-cunei/oldbabylonian/tf/1.0.6/operator.tf\">operator</a><br><a target=\"_blank\" href=\"https://github.com/Nino-cunei/tfFromAtf/blob/master/docs/transcription.md\" title=\"~/github/Nino-cunei/oldbabylonian/tf/1.0.6/operatorr.tf\">operatorr</a><br><a target=\"_blank\" href=\"https://github.com/Nino-cunei/tfFromAtf/blob/master/docs/transcription.md\" title=\"~/github/Nino-cunei/oldbabylonian/tf/1.0.6/operatoru.tf\">operatoru</a><br><a target=\"_blank\" href=\"https://github.com/Nino-cunei/tfFromAtf/blob/master/docs/transcription.md\" title=\"~/github/Nino-cunei/oldbabylonian/tf/1.0.6/otype.tf\">otype</a><br><a target=\"_blank\" href=\"https://github.com/Nino-cunei/tfFromAtf/blob/master/docs/transcription.md\" title=\"~/github/Nino-cunei/oldbabylonian/tf/1.0.6/period.tf\">period</a><br><a target=\"_blank\" href=\"https://github.com/Nino-cunei/tfFromAtf/blob/master/docs/transcription.md\" title=\"~/github/Nino-cunei/oldbabylonian/tf/1.0.6/pnumber.tf\">pnumber</a><br><a target=\"_blank\" href=\"https://github.com/Nino-cunei/tfFromAtf/blob/master/docs/transcription.md\" title=\"~/github/Nino-cunei/oldbabylonian/tf/1.0.6/primecol.tf\">primecol</a><br><a target=\"_blank\" href=\"https://github.com/Nino-cunei/tfFromAtf/blob/master/docs/transcription.md\" title=\"~/github/Nino-cunei/oldbabylonian/tf/1.0.6/primeln.tf\">primeln</a><br><a target=\"_blank\" href=\"https://github.com/Nino-cunei/tfFromAtf/blob/master/docs/transcription.md\" title=\"~/github/Nino-cunei/oldbabylonian/tf/1.0.6/pubdate.tf\">pubdate</a><br><a target=\"_blank\" href=\"https://github.com/Nino-cunei/tfFromAtf/blob/master/docs/transcription.md\" title=\"~/github/Nino-cunei/oldbabylonian/tf/1.0.6/question.tf\">question</a><br><a target=\"_blank\" href=\"https://github.com/Nino-cunei/tfFromAtf/blob/master/docs/transcription.md\" title=\"~/github/Nino-cunei/oldbabylonian/tf/1.0.6/reading.tf\">reading</a><br><a target=\"_blank\" href=\"https://github.com/Nino-cunei/tfFromAtf/blob/master/docs/transcription.md\" title=\"~/github/Nino-cunei/oldbabylonian/tf/1.0.6/readingr.tf\">readingr</a><br><a target=\"_blank\" href=\"https://github.com/Nino-cunei/tfFromAtf/blob/master/docs/transcription.md\" title=\"~/github/Nino-cunei/oldbabylonian/tf/1.0.6/readingu.tf\">readingu</a><br><a target=\"_blank\" href=\"https://github.com/Nino-cunei/tfFromAtf/blob/master/docs/transcription.md\" title=\"~/github/Nino-cunei/oldbabylonian/tf/1.0.6/remarkable.tf\">remarkable</a><br><a target=\"_blank\" href=\"https://github.com/Nino-cunei/tfFromAtf/blob/master/docs/transcription.md\" title=\"~/github/Nino-cunei/oldbabylonian/tf/1.0.6/remarks.tf\">remarks</a><br><a target=\"_blank\" href=\"https://github.com/Nino-cunei/tfFromAtf/blob/master/docs/transcription.md\" title=\"~/github/Nino-cunei/oldbabylonian/tf/1.0.6/repeat.tf\">repeat</a><br><a target=\"_blank\" href=\"https://github.com/Nino-cunei/tfFromAtf/blob/master/docs/transcription.md\" title=\"~/github/Nino-cunei/oldbabylonian/tf/1.0.6/srcLn.tf\">srcLn</a><br><a target=\"_blank\" href=\"https://github.com/Nino-cunei/tfFromAtf/blob/master/docs/transcription.md\" title=\"~/github/Nino-cunei/oldbabylonian/tf/1.0.6/srcLnNum.tf\">srcLnNum</a><br><a target=\"_blank\" href=\"https://github.com/Nino-cunei/tfFromAtf/blob/master/docs/transcription.md\" title=\"~/github/Nino-cunei/oldbabylonian/tf/1.0.6/srcfile.tf\">srcfile</a><br><a target=\"_blank\" href=\"https://github.com/Nino-cunei/tfFromAtf/blob/master/docs/transcription.md\" title=\"~/github/Nino-cunei/oldbabylonian/tf/1.0.6/subgenre.tf\">subgenre</a><br><a target=\"_blank\" href=\"https://github.com/Nino-cunei/tfFromAtf/blob/master/docs/transcription.md\" title=\"~/github/Nino-cunei/oldbabylonian/tf/1.0.6/supplied.tf\">supplied</a><br><a target=\"_blank\" href=\"https://github.com/Nino-cunei/tfFromAtf/blob/master/docs/transcription.md\" title=\"~/github/Nino-cunei/oldbabylonian/tf/1.0.6/sym.tf\">sym</a><br><a target=\"_blank\" href=\"https://github.com/Nino-cunei/tfFromAtf/blob/master/docs/transcription.md\" title=\"~/github/Nino-cunei/oldbabylonian/tf/1.0.6/symr.tf\">symr</a><br><a target=\"_blank\" href=\"https://github.com/Nino-cunei/tfFromAtf/blob/master/docs/transcription.md\" title=\"~/github/Nino-cunei/oldbabylonian/tf/1.0.6/symu.tf\">symu</a><br><a target=\"_blank\" href=\"https://github.com/Nino-cunei/tfFromAtf/blob/master/docs/transcription.md\" title=\"~/github/Nino-cunei/oldbabylonian/tf/1.0.6/trans.tf\">trans</a><br><a target=\"_blank\" href=\"https://github.com/Nino-cunei/tfFromAtf/blob/master/docs/transcription.md\" title=\"~/github/Nino-cunei/oldbabylonian/tf/1.0.6/transcriber.tf\">transcriber</a><br><a target=\"_blank\" href=\"https://github.com/Nino-cunei/tfFromAtf/blob/master/docs/transcription.md\" title=\"~/github/Nino-cunei/oldbabylonian/tf/1.0.6/translation@en.tf\">translation@ll</a><br><a target=\"_blank\" href=\"https://github.com/Nino-cunei/tfFromAtf/blob/master/docs/transcription.md\" title=\"~/github/Nino-cunei/oldbabylonian/tf/1.0.6/type.tf\">type</a><br><a target=\"_blank\" href=\"https://github.com/Nino-cunei/tfFromAtf/blob/master/docs/transcription.md\" title=\"~/github/Nino-cunei/oldbabylonian/tf/1.0.6/uncertain.tf\">uncertain</a><br><a target=\"_blank\" href=\"https://github.com/Nino-cunei/tfFromAtf/blob/master/docs/transcription.md\" title=\"~/github/Nino-cunei/oldbabylonian/tf/1.0.6/volume.tf\">volume</a><br><b><i><a target=\"_blank\" href=\"https://github.com/Nino-cunei/tfFromAtf/blob/master/docs/transcription.md\" title=\"~/github/Nino-cunei/oldbabylonian/tf/1.0.6/oslots.tf\">oslots</a></i></b><br></details>"
      ],
      "text/plain": [
       "<IPython.core.display.HTML object>"
      ]
     },
     "metadata": {},
     "output_type": "display_data"
    },
    {
     "data": {
      "text/html": [
       "<style>tr.tf.ltr, td.tf.ltr, th.tf.ltr { text-align: left ! important;}\n",
       "tr.tf.rtl, td.tf.rtl, th.tf.rtl { text-align: right ! important;}\n",
       "@font-face {\n",
       "  font-family: \"Gentium Plus\";\n",
       "  src: local('Gentium Plus'), local('GentiumPlus'),\n",
       "    url('/server/static/fonts/GentiumPlus-R.woff') format('woff'),\n",
       "    url('https://github.com/annotation/text-fabric/blob/master/tf/server/static/fonts/GentiumPlus-R.woff?raw=true') format('woff');\n",
       "}\n",
       "\n",
       "@font-face {\n",
       "  font-family: \"Ezra SIL\";\n",
       "  src: local('Ezra SIL'), local('EzraSIL'),\n",
       "    url('/server/static/fonts/SILEOT.woff') format('woff'),\n",
       "    url('https://github.com/annotation/text-fabric/blob/master/tf/server/static/fonts/SILEOT.woff?raw=true') format('woff');\n",
       "}\n",
       "\n",
       "@font-face {\n",
       "  font-family: \"SBL Hebrew\";\n",
       "  src: local('SBL Hebrew'), local('SBLHebrew'),\n",
       "    url('/server/static/fonts/SBL_Hbrw.woff') format('woff'),\n",
       "    url('https://github.com/annotation/text-fabric/blob/master/tf/server/static/fonts/SBL_Hbrw.woff?raw=true') format('woff');\n",
       "}\n",
       "\n",
       "@font-face {\n",
       "  font-family: \"Estrangelo Edessa\";\n",
       "  src: local('Estrangelo Edessa'), local('EstrangeloEdessa');\n",
       "    url('/server/static/fonts/SyrCOMEdessa.woff') format('woff'),\n",
       "    url('https://github.com/annotation/text-fabric/blob/master/tf/server/static/fonts/SyrCOMEdessa.woff?raw=true') format('woff');\n",
       "}\n",
       "\n",
       "@font-face {\n",
       "  font-family: AmiriQuran;\n",
       "  font-style: normal;\n",
       "  font-weight: 400;\n",
       "  src: local('Amiri Quran'), local('AmiriQuran'),\n",
       "    url('/server/static/fonts/AmiriQuran.woff') format('woff'),\n",
       "    url('https://github.com/annotation/text-fabric/blob/master/tf/server/static/fonts/AmiriQuran.woff?raw=true') format('woff');\n",
       "}\n",
       "\n",
       "@font-face {\n",
       "  font-family: AmiriQuranColored;\n",
       "  font-style: normal;\n",
       "  font-weight: 400;\n",
       "  src: local('Amiri Quran Colored'), local('AmiriQuranColored'),\n",
       "    url('/server/static/fonts/AmiriQuranColored.woff') format('woff'),\n",
       "    url('https://github.com/annotation/text-fabric/blob/master/tf/server/static/fonts/AmiriQuranColored.woff?raw=true') format('woff');\n",
       "}\n",
       "\n",
       "@font-face {\n",
       "  font-family: \"Santakku\";\n",
       "  src: local('Santakku'),\n",
       "    url('/server/static/fonts/Santakku.woff') format('woff'),\n",
       "    url('https://github.com/annotation/text-fabric/blob/master/tf/server/static/fonts/Santakku.woff?raw=true') format('woff');\n",
       "}\n",
       "\n",
       "@font-face {\n",
       "  font-family: \"SantakkuM\";\n",
       "  src: local('SantakkuM'),\n",
       "    url('/server/static/fonts/SantakkuM.woff') format('woff'),\n",
       "    url('https://github.com/annotation/text-fabric/blob/master/tf/server/static/fonts/SantakkuM.woff?raw=true') format('woff');\n",
       "}\n",
       "/* bypassing some classical notebook settings */\n",
       "div#notebook {\n",
       "  line-height: unset;\n",
       "}\n",
       "/* neutral text */\n",
       ".txtn,.txtn a:visited,.txtn a:link {\n",
       "    font-family: sans-serif;\n",
       "    font-size: medium;\n",
       "    direction: ltr;\n",
       "    text-decoration: none;\n",
       "    color: var(--text-color);\n",
       "}\n",
       "/* transcription text */\n",
       ".txtt,.txtt a:visited,.txtt a:link {\n",
       "    font-family: monospace;\n",
       "    font-size: medium;\n",
       "    direction: ltr;\n",
       "    text-decoration: none;\n",
       "    color: var(--text-color);\n",
       "}\n",
       "/* source text */\n",
       ".txto,.txto a:visited,.txto a:link {\n",
       "    font-family: serif;\n",
       "    font-size: medium;\n",
       "    direction: ltr;\n",
       "    text-decoration: none;\n",
       "    color: var(--text-color);\n",
       "}\n",
       "/* phonetic text */\n",
       ".txtp,.txtp a:visited,.txtp a:link {\n",
       "    font-family: Gentium, sans-serif;\n",
       "    font-size: medium;\n",
       "    direction: ltr;\n",
       "    text-decoration: none;\n",
       "    color: var(--text-color);\n",
       "}\n",
       "/* original script text */\n",
       ".txtu,.txtu a:visited,.txtu a:link {\n",
       "    font-family: Gentium, sans-serif;\n",
       "    font-size: medium;\n",
       "    text-decoration: none;\n",
       "    color: var(--text-color);\n",
       "}\n",
       "/* hebrew */\n",
       ".txtu.hbo,.lex.hbo {\n",
       "    font-family: \"Ezra SIL\", \"SBL Hebrew\", sans-serif;\n",
       "    font-size: large;\n",
       "    direction: rtl ! important;\n",
       "    unicode-bidi: embed;\n",
       "}\n",
       "/* syriac */\n",
       ".txtu.syc,.lex.syc {\n",
       "    font-family: \"Estrangelo Edessa\", sans-serif;\n",
       "    font-size: medium;\n",
       "    direction: rtl ! important;\n",
       "    unicode-bidi: embed;\n",
       "}\n",
       "/* neo aramaic */\n",
       ".txtu.cld,.lex.cld {\n",
       "    font-family: \"CharisSIL-R\", sans-serif;\n",
       "    font-size: medium;\n",
       "    direction: ltr ! important;\n",
       "    unicode-bidi: embed;\n",
       "}\n",
       "/* standard arabic */\n",
       ".txtu.ara,.lex.ara {\n",
       "    font-family: \"AmiriQuran\", sans-serif;\n",
       "    font-size: large;\n",
       "    direction: rtl ! important;\n",
       "    unicode-bidi: embed;\n",
       "}\n",
       "/* cuneiform */\n",
       ".txtu.akk,.lex.akk {\n",
       "    font-family: Santakku, sans-serif;\n",
       "    font-size: large;\n",
       "    direction: ltr ! important;\n",
       "    unicode-bidi: embed;\n",
       "}\n",
       "/* greek */\n",
       ".txtu.grc,.lex.grc a:link {\n",
       "    font-family: Gentium, sans-serif;\n",
       "    font-size: medium;\n",
       "    direction: ltr ! important;\n",
       "    unicode-bidi: embed;\n",
       "}\n",
       "a:hover {\n",
       "    text-decoration: underline | important;\n",
       "    color: #0000ff | important;\n",
       "}\n",
       ".ltr {\n",
       "    direction: ltr ! important;\n",
       "}\n",
       ".rtl {\n",
       "    direction: rtl ! important;\n",
       "}\n",
       ".ubd {\n",
       "    unicode-bidi: embed;\n",
       "}\n",
       ".col {\n",
       "   display: inline-block;\n",
       "}\n",
       ".features {\n",
       "    font-family: monospace;\n",
       "    font-size: medium;\n",
       "    font-weight: bold;\n",
       "    color: var(--features);\n",
       "    display: flex;\n",
       "    flex-flow: column nowrap;\n",
       "    justify-content: flex-start;\n",
       "    align-items: flex-start;\n",
       "    align-content: flex-start;\n",
       "    padding: 2px;\n",
       "    margin: 2px;\n",
       "    direction: ltr;\n",
       "    border: var(--meta-width) solid var(--meta-color);\n",
       "    border-radius: var(--meta-width);\n",
       "}\n",
       ".features div,.features span {\n",
       "    padding: 0;\n",
       "    margin: -2px 0;\n",
       "}\n",
       ".features .f {\n",
       "    font-family: sans-serif;\n",
       "    font-size: small;\n",
       "    font-weight: normal;\n",
       "    color: #5555bb;\n",
       "}\n",
       ".features .xft {\n",
       "  color: #000000;\n",
       "  background-color: #eeeeee;\n",
       "  font-size: medium;\n",
       "  margin: 2px 0px;\n",
       "}\n",
       ".features .xft .f {\n",
       "  color: #000000;\n",
       "  background-color: #eeeeee;\n",
       "  font-size: small;\n",
       "  font-weight: normal;\n",
       "}\n",
       ".section {\n",
       "    font-family: sans-serif;\n",
       "    font-size: small;\n",
       "    font-weight: bold;\n",
       "    color: var(--section);\n",
       "    unicode-bidi: embed;\n",
       "    text-align: start;\n",
       "}\n",
       ".structure {\n",
       "    font-family: sans-serif;\n",
       "    font-size: small;\n",
       "    font-weight: bold;\n",
       "    color: var(--structure);\n",
       "    unicode-bidi: embed;\n",
       "    text-align: start;\n",
       "}\n",
       ".comments {\n",
       "    display: flex;\n",
       "    justify-content: flex-start;\n",
       "    align-items: flex-start;\n",
       "    align-content: flex-start;\n",
       "    flex-flow: column nowrap;\n",
       "}\n",
       ".nd, a:link.nd {\n",
       "    font-family: sans-serif;\n",
       "    font-size: small;\n",
       "    color: var(--node);\n",
       "    vertical-align: super;\n",
       "    direction: ltr ! important;\n",
       "    unicode-bidi: embed;\n",
       "}\n",
       ".lex {\n",
       "  color: var(--lex-color);;\n",
       "}\n",
       ".children,.children.ltr {\n",
       "    display: flex;\n",
       "    border: 0;\n",
       "    background-color: #ffffff;\n",
       "    justify-content: flex-start;\n",
       "    align-items: flex-start;\n",
       "    align-content: flex-start;\n",
       "}\n",
       ".children.stretch {\n",
       "    align-items: stretch;\n",
       "}\n",
       ".children.hor {\n",
       "    flex-flow: row nowrap;\n",
       "}\n",
       ".children.hor.wrap {\n",
       "    flex-flow: row wrap;\n",
       "}\n",
       ".children.ver {\n",
       "    flex-flow: column nowrap;\n",
       "}\n",
       ".children.ver.wrap {\n",
       "    flex-flow: column wrap;\n",
       "}\n",
       ".contnr {\n",
       "    width: fit-content;\n",
       "    display: flex;\n",
       "    justify-content: flex-start;\n",
       "    align-items: flex-start;\n",
       "    align-content: flex-start;\n",
       "    flex-flow: column nowrap;\n",
       "    background: #ffffff none repeat scroll 0 0;\n",
       "    padding:  10px 2px 2px 2px;\n",
       "    margin: 16px 2px 2px 2px;\n",
       "    border-style: solid;\n",
       "    font-size: small;\n",
       "}\n",
       ".contnr.trm {\n",
       "    background-attachment: local;\n",
       "}\n",
       ".contnr.cnul {\n",
       "    padding:  0;\n",
       "    margin: 0;\n",
       "    border-style: solid;\n",
       "    font-size: xx-small;\n",
       "}\n",
       ".contnr.cnul,.lbl.cnul {\n",
       "    border-color: var(--border-color-nul);\n",
       "    border-width: var(--border-width-nul);\n",
       "    border-radius: var(--border-width-nul);\n",
       "}\n",
       ".contnr.c0,.lbl.c0 {\n",
       "    border-color: var(--border-color0);\n",
       "    border-width: var(--border-width0);\n",
       "    border-radius: var(--border-width0);\n",
       "}\n",
       ".contnr.c1,.lbl.c1 {\n",
       "    border-color: var(--border-color1);\n",
       "    border-width: var(--border-width1);\n",
       "    border-radius: var(--border-width1);\n",
       "}\n",
       ".contnr.c2,.lbl.c2 {\n",
       "    border-color: var(--border-color2);\n",
       "    border-width: var(--border-width2);\n",
       "    border-radius: var(--border-width2);\n",
       "}\n",
       ".contnr.c3,.lbl.c3 {\n",
       "    border-color: var(--border-color3);\n",
       "    border-width: var(--border-width3);\n",
       "    border-radius: var(--border-width3);\n",
       "}\n",
       ".contnr.c4,.lbl.c4 {\n",
       "    border-color: var(--border-color4);\n",
       "    border-width: var(--border-width4);\n",
       "    border-radius: var(--border-width4);\n",
       "}\n",
       "span.plain {\n",
       "    display: inline-block;\n",
       "    white-space: pre-wrap;\n",
       "}\n",
       ".plain {\n",
       "    background-color: #ffffff;\n",
       "}\n",
       ".plain.l,.contnr.l,.contnr.l>.lbl {\n",
       "    border-left-style: dotted\n",
       "}\n",
       ".plain.r,.contnr.r,.contnr.r>.lbl {\n",
       "    border-right-style: dotted\n",
       "}\n",
       ".plain.lno,.contnr.lno,.contnr.lno>.lbl {\n",
       "    border-left-style: none\n",
       "}\n",
       ".plain.rno,.contnr.rno,.contnr.rno>.lbl {\n",
       "    border-right-style: none\n",
       "}\n",
       ".plain.l {\n",
       "    padding-left: 4px;\n",
       "    margin-left: 2px;\n",
       "    border-width: var(--border-width-plain);\n",
       "}\n",
       ".plain.r {\n",
       "    padding-right: 4px;\n",
       "    margin-right: 2px;\n",
       "    border-width: var(--border-width-plain);\n",
       "}\n",
       ".lbl {\n",
       "    font-family: monospace;\n",
       "    margin-top: -24px;\n",
       "    margin-left: 20px;\n",
       "    background: #ffffff none repeat scroll 0 0;\n",
       "    padding: 0 6px;\n",
       "    border-style: solid;\n",
       "    display: block;\n",
       "    color: var(--label)\n",
       "}\n",
       ".lbl.trm {\n",
       "    background-attachment: local;\n",
       "    margin-top: 2px;\n",
       "    margin-left: 2px;\n",
       "    padding: 2px 2px;\n",
       "    border-style: none;\n",
       "}\n",
       ".lbl.cnul {\n",
       "    font-size: xx-small;\n",
       "}\n",
       ".lbl.c0 {\n",
       "    font-size: small;\n",
       "}\n",
       ".lbl.c1 {\n",
       "    font-size: small;\n",
       "}\n",
       ".lbl.c2 {\n",
       "    font-size: medium;\n",
       "}\n",
       ".lbl.c3 {\n",
       "    font-size: medium;\n",
       "}\n",
       ".lbl.c4 {\n",
       "    font-size: large;\n",
       "}\n",
       ".occs, a:link.occs {\n",
       "    font-size: small;\n",
       "}\n",
       "\n",
       "/* PROVENANCE */\n",
       "\n",
       "div.prov {\n",
       "\tmargin: 40px;\n",
       "\tpadding: 20px;\n",
       "\tborder: 2px solid var(--fog-rim);\n",
       "}\n",
       "div.pline {\n",
       "\tdisplay: flex;\n",
       "\tflex-flow: row nowrap;\n",
       "\tjustify-content: stretch;\n",
       "\talign-items: baseline;\n",
       "}\n",
       "div.p2line {\n",
       "\tmargin-left: 2em;\n",
       "\tdisplay: flex;\n",
       "\tflex-flow: row nowrap;\n",
       "\tjustify-content: stretch;\n",
       "\talign-items: baseline;\n",
       "}\n",
       "div.psline {\n",
       "\tdisplay: flex;\n",
       "\tflex-flow: row nowrap;\n",
       "\tjustify-content: stretch;\n",
       "\talign-items: baseline;\n",
       "\tbackground-color: var(--gold-mist-back);\n",
       "}\n",
       "div.pname {\n",
       "\tflex: 0 0 5rem;\n",
       "\tfont-weight: bold;\n",
       "}\n",
       "div.pval {\n",
       "    flex: 1 1 auto;\n",
       "}\n",
       "\n",
       ":root {\n",
       "\t--node:               hsla(120, 100%,  20%, 1.0  );\n",
       "\t--label:              hsla(  0, 100%,  20%, 1.0  );\n",
       "\t--section:            hsla(  0, 100%,  25%, 1.0  );\n",
       "\t--structure:          hsla(120, 100%,  25%, 1.0  );\n",
       "\t--features:           hsla(  0,   0%,  30%, 1.0  );\n",
       "  --text-color:         hsla( 60,  80%,  10%, 1.0  );\n",
       "  --lex-color:          hsla(220,  90%,  60%, 1.0  );\n",
       "  --meta-color:         hsla(  0,   0%,  90%, 0.7  );\n",
       "  --meta-width:         3px;\n",
       "  --border-color-nul:   hsla(  0,   0%,  90%, 0.5  );\n",
       "  --border-color0:      hsla(  0,   0%,  90%, 0.9  );\n",
       "  --border-color1:      hsla(  0,   0%,  80%, 0.9  );\n",
       "  --border-color2:      hsla(  0,   0%,  70%, 0.9  );\n",
       "  --border-color3:      hsla(  0,   0%,  80%, 0.8  );\n",
       "  --border-color4:      hsla(  0,   0%,  60%, 0.9  );\n",
       "  --border-width-nul:   2px;\n",
       "  --border-width0:      2px;\n",
       "  --border-width1:      3px;\n",
       "  --border-width2:      4px;\n",
       "  --border-width3:      6px;\n",
       "  --border-width4:      5px;\n",
       "  --border-width-plain: 2px;\n",
       "}\n",
       ".hl {\n",
       "  background-color: var(--hl-strong);\n",
       "}\n",
       "span.hl {\n",
       "\tbackground-color: var(--hl-strong);\n",
       "\tborder-width: 0;\n",
       "\tborder-radius: 2px;\n",
       "\tborder-style: solid;\n",
       "}\n",
       "div.contnr.hl,div.lbl.hl {\n",
       "  background-color: var(--hl-strong);\n",
       "}\n",
       "div.contnr.hl {\n",
       "  border-color: var(--hl-rim) ! important;\n",
       "\tborder-width: 4px ! important;\n",
       "}\n",
       "\n",
       "span.hlbx {\n",
       "\tborder-color: var(--hl-rim);\n",
       "\tborder-width: 4px ! important;\n",
       "\tborder-style: solid;\n",
       "\tborder-radius: 6px;\n",
       "  padding: 4px;\n",
       "  margin: 4px;\n",
       "}\n",
       "\n",
       "span.plain {\n",
       "  display: inline-block;\n",
       "  white-space: pre-wrap;\n",
       "}\n",
       "\n",
       ":root {\n",
       "\t--hl-strong:        hsla( 60, 100%,  70%, 0.9  );\n",
       "\t--hl-rim:           hsla( 55,  80%,  50%, 1.0  );\n",
       "}\n",
       ".pnum {\n",
       "    font-family: sans-serif;\n",
       "    font-size: small;\n",
       "    font-weight: bold;\n",
       "    color: #444444;\n",
       "}\n",
       ".op {\n",
       "    padding:  0.5em 0.1em 0.1em 0.1em;\n",
       "    margin: 0.8em 0.1em 0.1em 0.1em;\n",
       "    font-family: monospace;\n",
       "    font-size: x-large;\n",
       "    font-weight: bold;\n",
       "}\n",
       ".period {\n",
       "    font-family: monospace;\n",
       "    font-size: medium;\n",
       "    font-weight: bold;\n",
       "    color: #0000bb;\n",
       "}\n",
       ".comment {\n",
       "    color: #7777dd;\n",
       "    font-family: monospace;\n",
       "    font-size: small;\n",
       "}\n",
       ".operator {\n",
       "    color: #ff77ff;\n",
       "    font-size: large;\n",
       "}\n",
       "/* LANGUAGE: superscript and subscript */\n",
       "\n",
       "/* cluster */\n",
       ".det {\n",
       "    vertical-align: super;\n",
       "}\n",
       "/* cluster */\n",
       ".langalt {\n",
       "    vertical-align: sub;\n",
       "}\n",
       "/* REDACTIONAL: line over or under  */\n",
       "\n",
       "/* flag */\n",
       ".collated {\n",
       "    font-weight: bold;\n",
       "    text-decoration: underline;\n",
       "}\n",
       "/* cluster */\n",
       ".excised {\n",
       "    color: #dd0000;\n",
       "    text-decoration: line-through;\n",
       "}\n",
       "/* cluster */\n",
       ".supplied {\n",
       "    color: #0000ff;\n",
       "    text-decoration: overline;\n",
       "}\n",
       "/* flag */\n",
       ".remarkable {\n",
       "    font-weight: bold;\n",
       "    text-decoration: overline;\n",
       "}\n",
       "\n",
       "/* UNSURE: italic*/\n",
       "\n",
       "/* cluster */\n",
       ".uncertain {\n",
       "    font-style: italic\n",
       "}\n",
       "/* flag */\n",
       ".question {\n",
       "    font-weight: bold;\n",
       "    font-style: italic\n",
       "}\n",
       "\n",
       "/* BROKEN: text-shadow */\n",
       "\n",
       "/* cluster */\n",
       ".missing {\n",
       "    color: #999999;\n",
       "    text-shadow: #bbbbbb 1px 1px;\n",
       "}\n",
       "/* flag */\n",
       ".damage {\n",
       "    font-weight: bold;\n",
       "    color: #999999;\n",
       "    text-shadow: #bbbbbb 1px 1px;\n",
       "}\n",
       ".empty {\n",
       "  color: #ff0000;\n",
       "}\n",
       "\n",
       "</style>"
      ],
      "text/plain": [
       "<IPython.core.display.HTML object>"
      ]
     },
     "metadata": {},
     "output_type": "display_data"
    },
    {
     "data": {
      "text/html": [
       "<div><b>Text-Fabric API:</b> names <a target=\"_blank\" href=\"https://annotation.github.io/text-fabric/cheatsheet.html\" title=\"doc\">N F E L T S C TF</a> directly usable</div><hr>"
      ],
      "text/plain": [
       "<IPython.core.display.HTML object>"
      ]
     },
     "metadata": {},
     "output_type": "display_data"
    }
   ],
   "source": [
    "A = use(\"oldbabylonian:clone\", checkout=\"clone\", hoist=globals())\n",
    "# A = use('oldbabylonian', hoist=globals())"
   ]
  },
  {
   "cell_type": "markdown",
   "metadata": {},
   "source": [
    "We pick an example face with which we illustrate many ways to represent cuneiform text."
   ]
  },
  {
   "cell_type": "code",
   "execution_count": 4,
   "metadata": {},
   "outputs": [],
   "source": [
    "# exampleFace = ('P509373', 'obverse')\n",
    "# exampleFace = ('P292990', 'obverse')\n",
    "exampleFace = (\"P292987\", \"reverse\")\n",
    "f = T.nodeFromSection(exampleFace)\n",
    "lines = L.d(f, otype=\"line\")"
   ]
  },
  {
   "cell_type": "markdown",
   "metadata": {},
   "source": [
    "# Raw text\n",
    "\n",
    "The most basic way is to show the source material for each line, which is in the feature `srcLn`.\n",
    "\n",
    "This feature has been filled by mere copying the numbered lines from the CDLI ATF sources."
   ]
  },
  {
   "cell_type": "code",
   "execution_count": 5,
   "metadata": {},
   "outputs": [
    {
     "name": "stdout",
     "output_type": "stream",
     "text": [
      "1. nu-uk!(AZ)-ta-la-al-li-mu\n",
      "2. dumu ku3#-{d}nanna\n",
      "3. i-he#-[er]-ri#\n",
      "4. la-ma qa2-as-su2\n",
      "5. isz#-ku-nu\n",
      "6. at#-ta hi-i-ri\n",
      "7. u3 a-na\n",
      "8. i-szar-ku-bi\n"
     ]
    }
   ],
   "source": [
    "for ln in lines:\n",
    "    print(F.srcLn.v(ln))"
   ]
  },
  {
   "cell_type": "markdown",
   "metadata": {},
   "source": [
    "# Text formats\n",
    "\n",
    "The TF API supports *text formats*. Text formats make selections and apply templates and styles based\n",
    "on the analysed features of the text. For example: a text-format may ignore flags or clusters, or\n",
    "format numerals in special ways.\n",
    "\n",
    "Text formats are not baked into TF, but they are defined in the feature `otext` of the corpus.\n",
    "\n",
    "Moreover, for this corpus a TF app has been build that defines additional text-formats.\n",
    "\n",
    "Whereas the formats defined in `otext` are strictly plain text formats, the formats\n",
    "defined in the app are able to use typographic styles to shape the text, such as bold, italic, colors, etc.\n",
    "\n",
    "Here is the list of all formats."
   ]
  },
  {
   "cell_type": "code",
   "execution_count": 6,
   "metadata": {},
   "outputs": [
    {
     "data": {
      "text/plain": [
       "{'text-orig-full': 'sign',\n",
       " 'text-orig-plain': 'sign',\n",
       " 'text-orig-rich': 'sign',\n",
       " 'text-orig-unicode': 'sign',\n",
       " 'layout-orig-rich': 'sign',\n",
       " 'layout-orig-unicode': 'sign'}"
      ]
     },
     "execution_count": 6,
     "metadata": {},
     "output_type": "execute_result"
    }
   ],
   "source": [
    "T.formats"
   ]
  },
  {
   "cell_type": "markdown",
   "metadata": {},
   "source": [
    "## Plain text formats\n",
    "\n",
    "The formats whose names start with `text-` are the plain text formats.\n",
    "\n",
    "### `text-orig-full`\n",
    "\n",
    "This format is really close to the ATF. It contains all original information.\n",
    "\n",
    "This is the default format. We do not have to specify it."
   ]
  },
  {
   "cell_type": "code",
   "execution_count": 7,
   "metadata": {},
   "outputs": [
    {
     "name": "stdout",
     "output_type": "stream",
     "text": [
      "239995 nu-uk!(AZ)-ta-la-al-li-mu\n"
     ]
    },
    {
     "data": {
      "text/html": [
       "<div class=\"\"><span class=\"section \"><a target=\"_blank\" href=\"https://cdli.ucla.edu/search/search_results.php?SearchMode=Text&amp;ObjectID=P292987\" title=\"Show this document on CDLI\" sec=\"P292987 reverse:1\">P292987 reverse:1</a></span>  <span class=\"txto\">nu-</span><span class=\"txto\">uk!(AZ)-</span><span class=\"txto\">ta-</span><span class=\"txto\">la-</span><span class=\"txto\">al-</span><span class=\"txto\">li-</span><span class=\"txto\">mu</span></div>"
      ],
      "text/plain": [
       "<IPython.core.display.HTML object>"
      ]
     },
     "metadata": {},
     "output_type": "display_data"
    },
    {
     "name": "stdout",
     "output_type": "stream",
     "text": [
      "239996 dumu ku3#-{d}nanna\n"
     ]
    },
    {
     "data": {
      "text/html": [
       "<div class=\"\"><span class=\"section \"><a target=\"_blank\" href=\"https://cdli.ucla.edu/search/search_results.php?SearchMode=Text&amp;ObjectID=P292987\" title=\"Show this document on CDLI\" sec=\"P292987 reverse:2\">P292987 reverse:2</a></span>  <span class=\"txto\">dumu </span><span class=\"txto\">ku3#-</span><span class=\"txto\">{d}</span><span class=\"txto\">nanna</span></div>"
      ],
      "text/plain": [
       "<IPython.core.display.HTML object>"
      ]
     },
     "metadata": {},
     "output_type": "display_data"
    },
    {
     "name": "stdout",
     "output_type": "stream",
     "text": [
      "239997 i-he#-[er]-ri#\n"
     ]
    },
    {
     "data": {
      "text/html": [
       "<div class=\"\"><span class=\"section \"><a target=\"_blank\" href=\"https://cdli.ucla.edu/search/search_results.php?SearchMode=Text&amp;ObjectID=P292987\" title=\"Show this document on CDLI\" sec=\"P292987 reverse:3\">P292987 reverse:3</a></span>  <span class=\"txto\">i-</span><span class=\"txto\">he#-</span><span class=\"txto\">[er]-</span><span class=\"txto\">ri#</span></div>"
      ],
      "text/plain": [
       "<IPython.core.display.HTML object>"
      ]
     },
     "metadata": {},
     "output_type": "display_data"
    },
    {
     "name": "stdout",
     "output_type": "stream",
     "text": [
      "239998 la-ma qa2-as-su2\n"
     ]
    },
    {
     "data": {
      "text/html": [
       "<div class=\"\"><span class=\"section \"><a target=\"_blank\" href=\"https://cdli.ucla.edu/search/search_results.php?SearchMode=Text&amp;ObjectID=P292987\" title=\"Show this document on CDLI\" sec=\"P292987 reverse:4\">P292987 reverse:4</a></span>  <span class=\"txto\">la-</span><span class=\"txto\">ma </span><span class=\"txto\">qa2-</span><span class=\"txto\">as-</span><span class=\"txto\">su2</span></div>"
      ],
      "text/plain": [
       "<IPython.core.display.HTML object>"
      ]
     },
     "metadata": {},
     "output_type": "display_data"
    },
    {
     "name": "stdout",
     "output_type": "stream",
     "text": [
      "239999 isz#-ku-nu\n"
     ]
    },
    {
     "data": {
      "text/html": [
       "<div class=\"\"><span class=\"section \"><a target=\"_blank\" href=\"https://cdli.ucla.edu/search/search_results.php?SearchMode=Text&amp;ObjectID=P292987\" title=\"Show this document on CDLI\" sec=\"P292987 reverse:5\">P292987 reverse:5</a></span>  <span class=\"txto\">isz#-</span><span class=\"txto\">ku-</span><span class=\"txto\">nu</span></div>"
      ],
      "text/plain": [
       "<IPython.core.display.HTML object>"
      ]
     },
     "metadata": {},
     "output_type": "display_data"
    },
    {
     "name": "stdout",
     "output_type": "stream",
     "text": [
      "240000 at#-ta hi-i-ri\n"
     ]
    },
    {
     "data": {
      "text/html": [
       "<div class=\"\"><span class=\"section \"><a target=\"_blank\" href=\"https://cdli.ucla.edu/search/search_results.php?SearchMode=Text&amp;ObjectID=P292987\" title=\"Show this document on CDLI\" sec=\"P292987 reverse:6\">P292987 reverse:6</a></span>  <span class=\"txto\">at#-</span><span class=\"txto\">ta </span><span class=\"txto\">hi-</span><span class=\"txto\">i-</span><span class=\"txto\">ri</span></div>"
      ],
      "text/plain": [
       "<IPython.core.display.HTML object>"
      ]
     },
     "metadata": {},
     "output_type": "display_data"
    },
    {
     "name": "stdout",
     "output_type": "stream",
     "text": [
      "240001 u3 a-na\n"
     ]
    },
    {
     "data": {
      "text/html": [
       "<div class=\"\"><span class=\"section \"><a target=\"_blank\" href=\"https://cdli.ucla.edu/search/search_results.php?SearchMode=Text&amp;ObjectID=P292987\" title=\"Show this document on CDLI\" sec=\"P292987 reverse:7\">P292987 reverse:7</a></span>  <span class=\"txto\">u3 </span><span class=\"txto\">a-</span><span class=\"txto\">na</span></div>"
      ],
      "text/plain": [
       "<IPython.core.display.HTML object>"
      ]
     },
     "metadata": {},
     "output_type": "display_data"
    },
    {
     "name": "stdout",
     "output_type": "stream",
     "text": [
      "240002 i-szar-ku-bi\n"
     ]
    },
    {
     "data": {
      "text/html": [
       "<div class=\"\"><span class=\"section \"><a target=\"_blank\" href=\"https://cdli.ucla.edu/search/search_results.php?SearchMode=Text&amp;ObjectID=P292987\" title=\"Show this document on CDLI\" sec=\"P292987 reverse:8\">P292987 reverse:8</a></span>  <span class=\"txto\">i-</span><span class=\"txto\">szar-</span><span class=\"txto\">ku-</span><span class=\"txto\">bi</span></div>"
      ],
      "text/plain": [
       "<IPython.core.display.HTML object>"
      ]
     },
     "metadata": {},
     "output_type": "display_data"
    }
   ],
   "source": [
    "for ln in lines:\n",
    "    print(ln, T.text(ln))\n",
    "    A.plain(ln)"
   ]
  },
  {
   "cell_type": "markdown",
   "metadata": {},
   "source": [
    "The `plain()` function focuses on the *contents*, and instead of the line number, it gives a full specification\n",
    "of the location, linked to the online source on CDLI.\n",
    "\n",
    "But we can omit the locations:"
   ]
  },
  {
   "cell_type": "code",
   "execution_count": 8,
   "metadata": {},
   "outputs": [
    {
     "data": {
      "text/html": [
       "<div class=\"\"><span class=\"txto\">nu-</span><span class=\"txto\">uk!(AZ)-</span><span class=\"txto\">ta-</span><span class=\"txto\">la-</span><span class=\"txto\">al-</span><span class=\"txto\">li-</span><span class=\"txto\">mu</span></div>"
      ],
      "text/plain": [
       "<IPython.core.display.HTML object>"
      ]
     },
     "metadata": {},
     "output_type": "display_data"
    },
    {
     "data": {
      "text/html": [
       "<div class=\"\"><span class=\"txto\">dumu </span><span class=\"txto\">ku3#-</span><span class=\"txto\">{d}</span><span class=\"txto\">nanna</span></div>"
      ],
      "text/plain": [
       "<IPython.core.display.HTML object>"
      ]
     },
     "metadata": {},
     "output_type": "display_data"
    },
    {
     "data": {
      "text/html": [
       "<div class=\"\"><span class=\"txto\">i-</span><span class=\"txto\">he#-</span><span class=\"txto\">[er]-</span><span class=\"txto\">ri#</span></div>"
      ],
      "text/plain": [
       "<IPython.core.display.HTML object>"
      ]
     },
     "metadata": {},
     "output_type": "display_data"
    },
    {
     "data": {
      "text/html": [
       "<div class=\"\"><span class=\"txto\">la-</span><span class=\"txto\">ma </span><span class=\"txto\">qa2-</span><span class=\"txto\">as-</span><span class=\"txto\">su2</span></div>"
      ],
      "text/plain": [
       "<IPython.core.display.HTML object>"
      ]
     },
     "metadata": {},
     "output_type": "display_data"
    },
    {
     "data": {
      "text/html": [
       "<div class=\"\"><span class=\"txto\">isz#-</span><span class=\"txto\">ku-</span><span class=\"txto\">nu</span></div>"
      ],
      "text/plain": [
       "<IPython.core.display.HTML object>"
      ]
     },
     "metadata": {},
     "output_type": "display_data"
    },
    {
     "data": {
      "text/html": [
       "<div class=\"\"><span class=\"txto\">at#-</span><span class=\"txto\">ta </span><span class=\"txto\">hi-</span><span class=\"txto\">i-</span><span class=\"txto\">ri</span></div>"
      ],
      "text/plain": [
       "<IPython.core.display.HTML object>"
      ]
     },
     "metadata": {},
     "output_type": "display_data"
    },
    {
     "data": {
      "text/html": [
       "<div class=\"\"><span class=\"txto\">u3 </span><span class=\"txto\">a-</span><span class=\"txto\">na</span></div>"
      ],
      "text/plain": [
       "<IPython.core.display.HTML object>"
      ]
     },
     "metadata": {},
     "output_type": "display_data"
    },
    {
     "data": {
      "text/html": [
       "<div class=\"\"><span class=\"txto\">i-</span><span class=\"txto\">szar-</span><span class=\"txto\">ku-</span><span class=\"txto\">bi</span></div>"
      ],
      "text/plain": [
       "<IPython.core.display.HTML object>"
      ]
     },
     "metadata": {},
     "output_type": "display_data"
    }
   ],
   "source": [
    "for ln in lines:\n",
    "    A.plain(ln, withPassage=False)"
   ]
  },
  {
   "cell_type": "markdown",
   "metadata": {},
   "source": [
    "### `text-orig-plain`\n",
    "\n",
    "This is a somewhat reduced format. It omits all flags and bracketing constructs.\n",
    "\n",
    "For clarity, adjacent signs are separated with a `⁼` character."
   ]
  },
  {
   "cell_type": "code",
   "execution_count": 9,
   "metadata": {},
   "outputs": [
    {
     "data": {
      "text/html": [
       "<div class=\"\"><span class=\"section \"><a target=\"_blank\" href=\"https://cdli.ucla.edu/search/search_results.php?SearchMode=Text&amp;ObjectID=P292987\" title=\"Show this document on CDLI\" sec=\"P292987 reverse:1\">P292987 reverse:1</a></span>  <span class=\"txtt\">nu-</span><span class=\"txtt\">uk!AZ-</span><span class=\"txtt\">ta-</span><span class=\"txtt\">la-</span><span class=\"txtt\">al-</span><span class=\"txtt\">li-</span><span class=\"txtt\">mu</span></div>"
      ],
      "text/plain": [
       "<IPython.core.display.HTML object>"
      ]
     },
     "metadata": {},
     "output_type": "display_data"
    },
    {
     "data": {
      "text/html": [
       "<div class=\"\"><span class=\"section \"><a target=\"_blank\" href=\"https://cdli.ucla.edu/search/search_results.php?SearchMode=Text&amp;ObjectID=P292987\" title=\"Show this document on CDLI\" sec=\"P292987 reverse:2\">P292987 reverse:2</a></span>  <span class=\"txtt\">dumu </span><span class=\"txtt\">ku3-</span><span class=\"txtt\">d⁼</span><span class=\"txtt\">nanna</span></div>"
      ],
      "text/plain": [
       "<IPython.core.display.HTML object>"
      ]
     },
     "metadata": {},
     "output_type": "display_data"
    },
    {
     "data": {
      "text/html": [
       "<div class=\"\"><span class=\"section \"><a target=\"_blank\" href=\"https://cdli.ucla.edu/search/search_results.php?SearchMode=Text&amp;ObjectID=P292987\" title=\"Show this document on CDLI\" sec=\"P292987 reverse:3\">P292987 reverse:3</a></span>  <span class=\"txtt\">i-</span><span class=\"txtt\">he-</span><span class=\"txtt\">er-</span><span class=\"txtt\">ri</span></div>"
      ],
      "text/plain": [
       "<IPython.core.display.HTML object>"
      ]
     },
     "metadata": {},
     "output_type": "display_data"
    },
    {
     "data": {
      "text/html": [
       "<div class=\"\"><span class=\"section \"><a target=\"_blank\" href=\"https://cdli.ucla.edu/search/search_results.php?SearchMode=Text&amp;ObjectID=P292987\" title=\"Show this document on CDLI\" sec=\"P292987 reverse:4\">P292987 reverse:4</a></span>  <span class=\"txtt\">la-</span><span class=\"txtt\">ma </span><span class=\"txtt\">qa2-</span><span class=\"txtt\">as-</span><span class=\"txtt\">su2</span></div>"
      ],
      "text/plain": [
       "<IPython.core.display.HTML object>"
      ]
     },
     "metadata": {},
     "output_type": "display_data"
    },
    {
     "data": {
      "text/html": [
       "<div class=\"\"><span class=\"section \"><a target=\"_blank\" href=\"https://cdli.ucla.edu/search/search_results.php?SearchMode=Text&amp;ObjectID=P292987\" title=\"Show this document on CDLI\" sec=\"P292987 reverse:5\">P292987 reverse:5</a></span>  <span class=\"txtt\">isz-</span><span class=\"txtt\">ku-</span><span class=\"txtt\">nu</span></div>"
      ],
      "text/plain": [
       "<IPython.core.display.HTML object>"
      ]
     },
     "metadata": {},
     "output_type": "display_data"
    },
    {
     "data": {
      "text/html": [
       "<div class=\"\"><span class=\"section \"><a target=\"_blank\" href=\"https://cdli.ucla.edu/search/search_results.php?SearchMode=Text&amp;ObjectID=P292987\" title=\"Show this document on CDLI\" sec=\"P292987 reverse:6\">P292987 reverse:6</a></span>  <span class=\"txtt\">at-</span><span class=\"txtt\">ta </span><span class=\"txtt\">hi-</span><span class=\"txtt\">i-</span><span class=\"txtt\">ri</span></div>"
      ],
      "text/plain": [
       "<IPython.core.display.HTML object>"
      ]
     },
     "metadata": {},
     "output_type": "display_data"
    },
    {
     "data": {
      "text/html": [
       "<div class=\"\"><span class=\"section \"><a target=\"_blank\" href=\"https://cdli.ucla.edu/search/search_results.php?SearchMode=Text&amp;ObjectID=P292987\" title=\"Show this document on CDLI\" sec=\"P292987 reverse:7\">P292987 reverse:7</a></span>  <span class=\"txtt\">u3 </span><span class=\"txtt\">a-</span><span class=\"txtt\">na</span></div>"
      ],
      "text/plain": [
       "<IPython.core.display.HTML object>"
      ]
     },
     "metadata": {},
     "output_type": "display_data"
    },
    {
     "data": {
      "text/html": [
       "<div class=\"\"><span class=\"section \"><a target=\"_blank\" href=\"https://cdli.ucla.edu/search/search_results.php?SearchMode=Text&amp;ObjectID=P292987\" title=\"Show this document on CDLI\" sec=\"P292987 reverse:8\">P292987 reverse:8</a></span>  <span class=\"txtt\">i-</span><span class=\"txtt\">szar-</span><span class=\"txtt\">ku-</span><span class=\"txtt\">bi</span></div>"
      ],
      "text/plain": [
       "<IPython.core.display.HTML object>"
      ]
     },
     "metadata": {},
     "output_type": "display_data"
    }
   ],
   "source": [
    "for ln in lines:\n",
    "    A.plain(ln, fmt=\"text-orig-plain\")"
   ]
  },
  {
   "cell_type": "markdown",
   "metadata": {},
   "source": [
    "### `text-orig-rich`\n",
    "\n",
    "This format is a bit prettier: instead of the strict ASCII encoding used by the CDLI archive, it uses\n",
    "characters with diacritics.\n",
    "\n",
    "There is no flag/cluster information in this representation."
   ]
  },
  {
   "cell_type": "code",
   "execution_count": 10,
   "metadata": {},
   "outputs": [
    {
     "data": {
      "text/html": [
       "<div class=\"\"><span class=\"section \"><a target=\"_blank\" href=\"https://cdli.ucla.edu/search/search_results.php?SearchMode=Text&amp;ObjectID=P292987\" title=\"Show this document on CDLI\" sec=\"P292987 reverse:1\">P292987 reverse:1</a></span>  <span class=\"txtt\">nu-</span><span class=\"txtt\">uk=AZ-</span><span class=\"txtt\">ta-</span><span class=\"txtt\">la-</span><span class=\"txtt\">al-</span><span class=\"txtt\">li-</span><span class=\"txtt\">mu</span></div>"
      ],
      "text/plain": [
       "<IPython.core.display.HTML object>"
      ]
     },
     "metadata": {},
     "output_type": "display_data"
    },
    {
     "data": {
      "text/html": [
       "<div class=\"\"><span class=\"section \"><a target=\"_blank\" href=\"https://cdli.ucla.edu/search/search_results.php?SearchMode=Text&amp;ObjectID=P292987\" title=\"Show this document on CDLI\" sec=\"P292987 reverse:2\">P292987 reverse:2</a></span>  <span class=\"txtt\">dumu </span><span class=\"txtt\">ku₃-</span><span class=\"txtt\">d⁼</span><span class=\"txtt\">nanna</span></div>"
      ],
      "text/plain": [
       "<IPython.core.display.HTML object>"
      ]
     },
     "metadata": {},
     "output_type": "display_data"
    },
    {
     "data": {
      "text/html": [
       "<div class=\"\"><span class=\"section \"><a target=\"_blank\" href=\"https://cdli.ucla.edu/search/search_results.php?SearchMode=Text&amp;ObjectID=P292987\" title=\"Show this document on CDLI\" sec=\"P292987 reverse:3\">P292987 reverse:3</a></span>  <span class=\"txtt\">i-</span><span class=\"txtt\">he-</span><span class=\"txtt\">er-</span><span class=\"txtt\">ri</span></div>"
      ],
      "text/plain": [
       "<IPython.core.display.HTML object>"
      ]
     },
     "metadata": {},
     "output_type": "display_data"
    },
    {
     "data": {
      "text/html": [
       "<div class=\"\"><span class=\"section \"><a target=\"_blank\" href=\"https://cdli.ucla.edu/search/search_results.php?SearchMode=Text&amp;ObjectID=P292987\" title=\"Show this document on CDLI\" sec=\"P292987 reverse:4\">P292987 reverse:4</a></span>  <span class=\"txtt\">la-</span><span class=\"txtt\">ma </span><span class=\"txtt\">qa₂-</span><span class=\"txtt\">as-</span><span class=\"txtt\">su₂</span></div>"
      ],
      "text/plain": [
       "<IPython.core.display.HTML object>"
      ]
     },
     "metadata": {},
     "output_type": "display_data"
    },
    {
     "data": {
      "text/html": [
       "<div class=\"\"><span class=\"section \"><a target=\"_blank\" href=\"https://cdli.ucla.edu/search/search_results.php?SearchMode=Text&amp;ObjectID=P292987\" title=\"Show this document on CDLI\" sec=\"P292987 reverse:5\">P292987 reverse:5</a></span>  <span class=\"txtt\">iš-</span><span class=\"txtt\">ku-</span><span class=\"txtt\">nu</span></div>"
      ],
      "text/plain": [
       "<IPython.core.display.HTML object>"
      ]
     },
     "metadata": {},
     "output_type": "display_data"
    },
    {
     "data": {
      "text/html": [
       "<div class=\"\"><span class=\"section \"><a target=\"_blank\" href=\"https://cdli.ucla.edu/search/search_results.php?SearchMode=Text&amp;ObjectID=P292987\" title=\"Show this document on CDLI\" sec=\"P292987 reverse:6\">P292987 reverse:6</a></span>  <span class=\"txtt\">at-</span><span class=\"txtt\">ta </span><span class=\"txtt\">hi-</span><span class=\"txtt\">i-</span><span class=\"txtt\">ri</span></div>"
      ],
      "text/plain": [
       "<IPython.core.display.HTML object>"
      ]
     },
     "metadata": {},
     "output_type": "display_data"
    },
    {
     "data": {
      "text/html": [
       "<div class=\"\"><span class=\"section \"><a target=\"_blank\" href=\"https://cdli.ucla.edu/search/search_results.php?SearchMode=Text&amp;ObjectID=P292987\" title=\"Show this document on CDLI\" sec=\"P292987 reverse:7\">P292987 reverse:7</a></span>  <span class=\"txtt\">u₃ </span><span class=\"txtt\">a-</span><span class=\"txtt\">na</span></div>"
      ],
      "text/plain": [
       "<IPython.core.display.HTML object>"
      ]
     },
     "metadata": {},
     "output_type": "display_data"
    },
    {
     "data": {
      "text/html": [
       "<div class=\"\"><span class=\"section \"><a target=\"_blank\" href=\"https://cdli.ucla.edu/search/search_results.php?SearchMode=Text&amp;ObjectID=P292987\" title=\"Show this document on CDLI\" sec=\"P292987 reverse:8\">P292987 reverse:8</a></span>  <span class=\"txtt\">i-</span><span class=\"txtt\">šar-</span><span class=\"txtt\">ku-</span><span class=\"txtt\">bi</span></div>"
      ],
      "text/plain": [
       "<IPython.core.display.HTML object>"
      ]
     },
     "metadata": {},
     "output_type": "display_data"
    }
   ],
   "source": [
    "for ln in lines:\n",
    "    A.plain(ln, fmt=\"text-orig-rich\")"
   ]
  },
  {
   "cell_type": "markdown",
   "metadata": {},
   "source": [
    "### `text-orig-unicode`\n",
    "\n",
    "This format uses the Cuneiform Unicode characters.\n",
    "\n",
    "Numerals with repeats are represented by placing that many copies of the character in question.\n",
    "\n",
    "Readings that could not be found in the\n",
    "[mapping](https://github.com/Nino-cunei/oldbabylonian/blob/master/sources/writing/GeneratedSignList.json)\n",
    "we use, appear in latin characters.\n",
    "\n",
    "There is no flag/cluster information in this representation."
   ]
  },
  {
   "cell_type": "code",
   "execution_count": 11,
   "metadata": {},
   "outputs": [
    {
     "data": {
      "text/html": [
       "<div class=\"\"><span class=\"section \"><a target=\"_blank\" href=\"https://cdli.ucla.edu/search/search_results.php?SearchMode=Text&amp;ObjectID=P292987\" title=\"Show this document on CDLI\" sec=\"P292987 reverse:1\">P292987 reverse:1</a></span>  <span class=\"txtu akk\">𒉡</span><span class=\"txtu akk\">𒊌=𒊍</span><span class=\"txtu akk\">𒋫</span><span class=\"txtu akk\">𒆷</span><span class=\"txtu akk\">𒀠</span><span class=\"txtu akk\">𒇷</span><span class=\"txtu akk\">𒈬</span></div>"
      ],
      "text/plain": [
       "<IPython.core.display.HTML object>"
      ]
     },
     "metadata": {},
     "output_type": "display_data"
    },
    {
     "data": {
      "text/html": [
       "<div class=\"\"><span class=\"section \"><a target=\"_blank\" href=\"https://cdli.ucla.edu/search/search_results.php?SearchMode=Text&amp;ObjectID=P292987\" title=\"Show this document on CDLI\" sec=\"P292987 reverse:2\">P292987 reverse:2</a></span>  <span class=\"txtu akk\">𒌉 </span><span class=\"txtu akk\">𒆬</span><span class=\"txtu akk\">𒀭</span><span class=\"txtu akk\">𒌶𒆠</span></div>"
      ],
      "text/plain": [
       "<IPython.core.display.HTML object>"
      ]
     },
     "metadata": {},
     "output_type": "display_data"
    },
    {
     "data": {
      "text/html": [
       "<div class=\"\"><span class=\"section \"><a target=\"_blank\" href=\"https://cdli.ucla.edu/search/search_results.php?SearchMode=Text&amp;ObjectID=P292987\" title=\"Show this document on CDLI\" sec=\"P292987 reverse:3\">P292987 reverse:3</a></span>  <span class=\"txtu akk\">𒄿</span><span class=\"txtu akk\">𒄭</span><span class=\"txtu akk\">𒅕</span><span class=\"txtu akk\">𒊑</span></div>"
      ],
      "text/plain": [
       "<IPython.core.display.HTML object>"
      ]
     },
     "metadata": {},
     "output_type": "display_data"
    },
    {
     "data": {
      "text/html": [
       "<div class=\"\"><span class=\"section \"><a target=\"_blank\" href=\"https://cdli.ucla.edu/search/search_results.php?SearchMode=Text&amp;ObjectID=P292987\" title=\"Show this document on CDLI\" sec=\"P292987 reverse:4\">P292987 reverse:4</a></span>  <span class=\"txtu akk\">𒆷</span><span class=\"txtu akk\">𒈠 </span><span class=\"txtu akk\">𒂵</span><span class=\"txtu akk\">𒊍</span><span class=\"txtu akk\">𒍪</span></div>"
      ],
      "text/plain": [
       "<IPython.core.display.HTML object>"
      ]
     },
     "metadata": {},
     "output_type": "display_data"
    },
    {
     "data": {
      "text/html": [
       "<div class=\"\"><span class=\"section \"><a target=\"_blank\" href=\"https://cdli.ucla.edu/search/search_results.php?SearchMode=Text&amp;ObjectID=P292987\" title=\"Show this document on CDLI\" sec=\"P292987 reverse:5\">P292987 reverse:5</a></span>  <span class=\"txtu akk\">𒅖</span><span class=\"txtu akk\">𒆪</span><span class=\"txtu akk\">𒉡</span></div>"
      ],
      "text/plain": [
       "<IPython.core.display.HTML object>"
      ]
     },
     "metadata": {},
     "output_type": "display_data"
    },
    {
     "data": {
      "text/html": [
       "<div class=\"\"><span class=\"section \"><a target=\"_blank\" href=\"https://cdli.ucla.edu/search/search_results.php?SearchMode=Text&amp;ObjectID=P292987\" title=\"Show this document on CDLI\" sec=\"P292987 reverse:6\">P292987 reverse:6</a></span>  <span class=\"txtu akk\">𒀜</span><span class=\"txtu akk\">𒋫 </span><span class=\"txtu akk\">𒄭</span><span class=\"txtu akk\">𒄿</span><span class=\"txtu akk\">𒊑</span></div>"
      ],
      "text/plain": [
       "<IPython.core.display.HTML object>"
      ]
     },
     "metadata": {},
     "output_type": "display_data"
    },
    {
     "data": {
      "text/html": [
       "<div class=\"\"><span class=\"section \"><a target=\"_blank\" href=\"https://cdli.ucla.edu/search/search_results.php?SearchMode=Text&amp;ObjectID=P292987\" title=\"Show this document on CDLI\" sec=\"P292987 reverse:7\">P292987 reverse:7</a></span>  <span class=\"txtu akk\">𒅇 </span><span class=\"txtu akk\">𒀀</span><span class=\"txtu akk\">𒈾</span></div>"
      ],
      "text/plain": [
       "<IPython.core.display.HTML object>"
      ]
     },
     "metadata": {},
     "output_type": "display_data"
    },
    {
     "data": {
      "text/html": [
       "<div class=\"\"><span class=\"section \"><a target=\"_blank\" href=\"https://cdli.ucla.edu/search/search_results.php?SearchMode=Text&amp;ObjectID=P292987\" title=\"Show this document on CDLI\" sec=\"P292987 reverse:8\">P292987 reverse:8</a></span>  <span class=\"txtu akk\">𒄿</span><span class=\"txtu akk\">𒊬</span><span class=\"txtu akk\">𒆪</span><span class=\"txtu akk\">𒁉</span></div>"
      ],
      "text/plain": [
       "<IPython.core.display.HTML object>"
      ]
     },
     "metadata": {},
     "output_type": "display_data"
    }
   ],
   "source": [
    "for ln in lines:\n",
    "    A.plain(ln, fmt=\"text-orig-unicode\")"
   ]
  },
  {
   "cell_type": "markdown",
   "metadata": {},
   "source": [
    "## Styled text formats\n",
    "\n",
    "The formats whose names start with `layout-` are the styled text formats.\n",
    "\n",
    "### `layout-orig-rich`\n",
    "\n",
    "This format looks like `text-orig-rich`, but now we re-introduce the flags and clusters by specific\n",
    "layout devices.\n",
    "\n",
    "See below for detailed examples."
   ]
  },
  {
   "cell_type": "code",
   "execution_count": 12,
   "metadata": {},
   "outputs": [
    {
     "data": {
      "text/html": [
       "<div class=\"\"><span class=\"section \"><a target=\"_blank\" href=\"https://cdli.ucla.edu/search/search_results.php?SearchMode=Text&amp;ObjectID=P292987\" title=\"Show this document on CDLI\" sec=\"P292987 reverse:1\">P292987 reverse:1</a></span>  <span class=\"txtt\"><span class=\"r\">nu</span>-</span><span class=\"txtt\"><span class=\"r\">uk</span><span class=\"operator\">=</span>⌈<span class=\"g\">AZ</span>⌉-</span><span class=\"txtt\"><span class=\"r\">ta</span>-</span><span class=\"txtt\"><span class=\"r\">la</span>-</span><span class=\"txtt\"><span class=\"r\">al</span>-</span><span class=\"txtt\"><span class=\"r\">li</span>-</span><span class=\"txtt\"><span class=\"r\">mu</span></span></div>"
      ],
      "text/plain": [
       "<IPython.core.display.HTML object>"
      ]
     },
     "metadata": {},
     "output_type": "display_data"
    },
    {
     "data": {
      "text/html": [
       "<div class=\"\"><span class=\"section \"><a target=\"_blank\" href=\"https://cdli.ucla.edu/search/search_results.php?SearchMode=Text&amp;ObjectID=P292987\" title=\"Show this document on CDLI\" sec=\"P292987 reverse:2\">P292987 reverse:2</a></span>  <span class=\"txtt\"><span class=\"r\">dumu</span> </span><span class=\"txtt\"><span class=\"damage\"><span class=\"r\">ku₃</span></span>-</span><span class=\"txtt\"><span class=\"det\"><span class=\"r\">d</span></span></span><span class=\"txtt\"><span class=\"r\">nanna</span></span></div>"
      ],
      "text/plain": [
       "<IPython.core.display.HTML object>"
      ]
     },
     "metadata": {},
     "output_type": "display_data"
    },
    {
     "data": {
      "text/html": [
       "<div class=\"\"><span class=\"section \"><a target=\"_blank\" href=\"https://cdli.ucla.edu/search/search_results.php?SearchMode=Text&amp;ObjectID=P292987\" title=\"Show this document on CDLI\" sec=\"P292987 reverse:3\">P292987 reverse:3</a></span>  <span class=\"txtt\"><span class=\"r\">i</span>-</span><span class=\"txtt\"><span class=\"damage\"><span class=\"r\">he</span></span>-</span><span class=\"txtt\"><span class=\"missing\"><span class=\"r\">er</span></span>-</span><span class=\"txtt\"><span class=\"damage\"><span class=\"r\">ri</span></span></span></div>"
      ],
      "text/plain": [
       "<IPython.core.display.HTML object>"
      ]
     },
     "metadata": {},
     "output_type": "display_data"
    },
    {
     "data": {
      "text/html": [
       "<div class=\"\"><span class=\"section \"><a target=\"_blank\" href=\"https://cdli.ucla.edu/search/search_results.php?SearchMode=Text&amp;ObjectID=P292987\" title=\"Show this document on CDLI\" sec=\"P292987 reverse:4\">P292987 reverse:4</a></span>  <span class=\"txtt\"><span class=\"r\">la</span>-</span><span class=\"txtt\"><span class=\"r\">ma</span> </span><span class=\"txtt\"><span class=\"r\">qa₂</span>-</span><span class=\"txtt\"><span class=\"r\">as</span>-</span><span class=\"txtt\"><span class=\"r\">su₂</span></span></div>"
      ],
      "text/plain": [
       "<IPython.core.display.HTML object>"
      ]
     },
     "metadata": {},
     "output_type": "display_data"
    },
    {
     "data": {
      "text/html": [
       "<div class=\"\"><span class=\"section \"><a target=\"_blank\" href=\"https://cdli.ucla.edu/search/search_results.php?SearchMode=Text&amp;ObjectID=P292987\" title=\"Show this document on CDLI\" sec=\"P292987 reverse:5\">P292987 reverse:5</a></span>  <span class=\"txtt\"><span class=\"damage\"><span class=\"r\">iš</span></span>-</span><span class=\"txtt\"><span class=\"r\">ku</span>-</span><span class=\"txtt\"><span class=\"r\">nu</span></span></div>"
      ],
      "text/plain": [
       "<IPython.core.display.HTML object>"
      ]
     },
     "metadata": {},
     "output_type": "display_data"
    },
    {
     "data": {
      "text/html": [
       "<div class=\"\"><span class=\"section \"><a target=\"_blank\" href=\"https://cdli.ucla.edu/search/search_results.php?SearchMode=Text&amp;ObjectID=P292987\" title=\"Show this document on CDLI\" sec=\"P292987 reverse:6\">P292987 reverse:6</a></span>  <span class=\"txtt\"><span class=\"damage\"><span class=\"r\">at</span></span>-</span><span class=\"txtt\"><span class=\"r\">ta</span> </span><span class=\"txtt\"><span class=\"r\">hi</span>-</span><span class=\"txtt\"><span class=\"r\">i</span>-</span><span class=\"txtt\"><span class=\"r\">ri</span></span></div>"
      ],
      "text/plain": [
       "<IPython.core.display.HTML object>"
      ]
     },
     "metadata": {},
     "output_type": "display_data"
    },
    {
     "data": {
      "text/html": [
       "<div class=\"\"><span class=\"section \"><a target=\"_blank\" href=\"https://cdli.ucla.edu/search/search_results.php?SearchMode=Text&amp;ObjectID=P292987\" title=\"Show this document on CDLI\" sec=\"P292987 reverse:7\">P292987 reverse:7</a></span>  <span class=\"txtt\"><span class=\"r\">u₃</span> </span><span class=\"txtt\"><span class=\"r\">a</span>-</span><span class=\"txtt\"><span class=\"r\">na</span></span></div>"
      ],
      "text/plain": [
       "<IPython.core.display.HTML object>"
      ]
     },
     "metadata": {},
     "output_type": "display_data"
    },
    {
     "data": {
      "text/html": [
       "<div class=\"\"><span class=\"section \"><a target=\"_blank\" href=\"https://cdli.ucla.edu/search/search_results.php?SearchMode=Text&amp;ObjectID=P292987\" title=\"Show this document on CDLI\" sec=\"P292987 reverse:8\">P292987 reverse:8</a></span>  <span class=\"txtt\"><span class=\"r\">i</span>-</span><span class=\"txtt\"><span class=\"r\">šar</span>-</span><span class=\"txtt\"><span class=\"r\">ku</span>-</span><span class=\"txtt\"><span class=\"r\">bi</span></span></div>"
      ],
      "text/plain": [
       "<IPython.core.display.HTML object>"
      ]
     },
     "metadata": {},
     "output_type": "display_data"
    }
   ],
   "source": [
    "for ln in lines:\n",
    "    A.plain(ln, fmt=\"layout-orig-rich\")"
   ]
  },
  {
   "cell_type": "markdown",
   "metadata": {},
   "source": [
    "### `layout-orig-unicode`\n",
    "\n",
    "This format looks like `text-orig-unicode`, but now we re-introduce the flags and clusters by specific\n",
    "layout devices.\n",
    "\n",
    "See below for detailed examples."
   ]
  },
  {
   "cell_type": "code",
   "execution_count": 13,
   "metadata": {},
   "outputs": [
    {
     "data": {
      "text/html": [
       "<div class=\"\"><span class=\"section \"><a target=\"_blank\" href=\"https://cdli.ucla.edu/search/search_results.php?SearchMode=Text&amp;ObjectID=P292987\" title=\"Show this document on CDLI\" sec=\"P292987 reverse:1\">P292987 reverse:1</a></span>  <span class=\"txtu akk\"><span class=\"r\">𒉡</span></span><span class=\"txtu akk\"><span class=\"r\">𒊌</span><span class=\"operator\">=</span>⌈<span class=\"g\">𒊍</span>⌉</span><span class=\"txtu akk\"><span class=\"r\">𒋫</span></span><span class=\"txtu akk\"><span class=\"r\">𒆷</span></span><span class=\"txtu akk\"><span class=\"r\">𒀠</span></span><span class=\"txtu akk\"><span class=\"r\">𒇷</span></span><span class=\"txtu akk\"><span class=\"r\">𒈬</span></span></div>"
      ],
      "text/plain": [
       "<IPython.core.display.HTML object>"
      ]
     },
     "metadata": {},
     "output_type": "display_data"
    },
    {
     "data": {
      "text/html": [
       "<div class=\"\"><span class=\"section \"><a target=\"_blank\" href=\"https://cdli.ucla.edu/search/search_results.php?SearchMode=Text&amp;ObjectID=P292987\" title=\"Show this document on CDLI\" sec=\"P292987 reverse:2\">P292987 reverse:2</a></span>  <span class=\"txtu akk\"><span class=\"r\">𒌉</span> </span><span class=\"txtu akk\"><span class=\"damage\"><span class=\"r\">𒆬</span></span></span><span class=\"txtu akk\"><span class=\"det\"><span class=\"r\">𒀭</span></span></span><span class=\"txtu akk\"><span class=\"r\">𒌶𒆠</span></span></div>"
      ],
      "text/plain": [
       "<IPython.core.display.HTML object>"
      ]
     },
     "metadata": {},
     "output_type": "display_data"
    },
    {
     "data": {
      "text/html": [
       "<div class=\"\"><span class=\"section \"><a target=\"_blank\" href=\"https://cdli.ucla.edu/search/search_results.php?SearchMode=Text&amp;ObjectID=P292987\" title=\"Show this document on CDLI\" sec=\"P292987 reverse:3\">P292987 reverse:3</a></span>  <span class=\"txtu akk\"><span class=\"r\">𒄿</span></span><span class=\"txtu akk\"><span class=\"damage\"><span class=\"r\">𒄭</span></span></span><span class=\"txtu akk\"><span class=\"missing\"><span class=\"r\">𒅕</span></span></span><span class=\"txtu akk\"><span class=\"damage\"><span class=\"r\">𒊑</span></span></span></div>"
      ],
      "text/plain": [
       "<IPython.core.display.HTML object>"
      ]
     },
     "metadata": {},
     "output_type": "display_data"
    },
    {
     "data": {
      "text/html": [
       "<div class=\"\"><span class=\"section \"><a target=\"_blank\" href=\"https://cdli.ucla.edu/search/search_results.php?SearchMode=Text&amp;ObjectID=P292987\" title=\"Show this document on CDLI\" sec=\"P292987 reverse:4\">P292987 reverse:4</a></span>  <span class=\"txtu akk\"><span class=\"r\">𒆷</span></span><span class=\"txtu akk\"><span class=\"r\">𒈠</span> </span><span class=\"txtu akk\"><span class=\"r\">𒂵</span></span><span class=\"txtu akk\"><span class=\"r\">𒊍</span></span><span class=\"txtu akk\"><span class=\"r\">𒍪</span></span></div>"
      ],
      "text/plain": [
       "<IPython.core.display.HTML object>"
      ]
     },
     "metadata": {},
     "output_type": "display_data"
    },
    {
     "data": {
      "text/html": [
       "<div class=\"\"><span class=\"section \"><a target=\"_blank\" href=\"https://cdli.ucla.edu/search/search_results.php?SearchMode=Text&amp;ObjectID=P292987\" title=\"Show this document on CDLI\" sec=\"P292987 reverse:5\">P292987 reverse:5</a></span>  <span class=\"txtu akk\"><span class=\"damage\"><span class=\"r\">𒅖</span></span></span><span class=\"txtu akk\"><span class=\"r\">𒆪</span></span><span class=\"txtu akk\"><span class=\"r\">𒉡</span></span></div>"
      ],
      "text/plain": [
       "<IPython.core.display.HTML object>"
      ]
     },
     "metadata": {},
     "output_type": "display_data"
    },
    {
     "data": {
      "text/html": [
       "<div class=\"\"><span class=\"section \"><a target=\"_blank\" href=\"https://cdli.ucla.edu/search/search_results.php?SearchMode=Text&amp;ObjectID=P292987\" title=\"Show this document on CDLI\" sec=\"P292987 reverse:6\">P292987 reverse:6</a></span>  <span class=\"txtu akk\"><span class=\"damage\"><span class=\"r\">𒀜</span></span></span><span class=\"txtu akk\"><span class=\"r\">𒋫</span> </span><span class=\"txtu akk\"><span class=\"r\">𒄭</span></span><span class=\"txtu akk\"><span class=\"r\">𒄿</span></span><span class=\"txtu akk\"><span class=\"r\">𒊑</span></span></div>"
      ],
      "text/plain": [
       "<IPython.core.display.HTML object>"
      ]
     },
     "metadata": {},
     "output_type": "display_data"
    },
    {
     "data": {
      "text/html": [
       "<div class=\"\"><span class=\"section \"><a target=\"_blank\" href=\"https://cdli.ucla.edu/search/search_results.php?SearchMode=Text&amp;ObjectID=P292987\" title=\"Show this document on CDLI\" sec=\"P292987 reverse:7\">P292987 reverse:7</a></span>  <span class=\"txtu akk\"><span class=\"r\">𒅇</span> </span><span class=\"txtu akk\"><span class=\"r\">𒀀</span></span><span class=\"txtu akk\"><span class=\"r\">𒈾</span></span></div>"
      ],
      "text/plain": [
       "<IPython.core.display.HTML object>"
      ]
     },
     "metadata": {},
     "output_type": "display_data"
    },
    {
     "data": {
      "text/html": [
       "<div class=\"\"><span class=\"section \"><a target=\"_blank\" href=\"https://cdli.ucla.edu/search/search_results.php?SearchMode=Text&amp;ObjectID=P292987\" title=\"Show this document on CDLI\" sec=\"P292987 reverse:8\">P292987 reverse:8</a></span>  <span class=\"txtu akk\"><span class=\"r\">𒄿</span></span><span class=\"txtu akk\"><span class=\"r\">𒊬</span></span><span class=\"txtu akk\"><span class=\"r\">𒆪</span></span><span class=\"txtu akk\"><span class=\"r\">𒁉</span></span></div>"
      ],
      "text/plain": [
       "<IPython.core.display.HTML object>"
      ]
     },
     "metadata": {},
     "output_type": "display_data"
    }
   ],
   "source": [
    "for ln in lines:\n",
    "    A.plain(ln, fmt=\"layout-orig-unicode\")"
   ]
  },
  {
   "cell_type": "markdown",
   "metadata": {},
   "source": [
    "Here is the text of the face in each of the plain text formats, i.e. no additional HTML formatting is applied."
   ]
  },
  {
   "cell_type": "markdown",
   "metadata": {},
   "source": [
    "# Pretty\n",
    "\n",
    "The ultimate of graphical display is by means of the `pretty()` function.\n",
    "\n",
    "This display is less useful for reading, but instead optimized for showing all information that you might\n",
    "wish for.\n",
    "\n",
    "It shows a base representation according to a text format of your choice\n",
    "(here we choose `layout-orig-rich`), and it shows the values\n",
    "of a standard set of features."
   ]
  },
  {
   "cell_type": "code",
   "execution_count": 14,
   "metadata": {},
   "outputs": [
    {
     "data": {
      "text/plain": [
       "'_{d}suen_-i-[din-nam]'"
      ]
     },
     "execution_count": 14,
     "metadata": {},
     "output_type": "execute_result"
    }
   ],
   "source": [
    "w = F.otype.s(\"word\")[1]\n",
    "F.atf.v(w)"
   ]
  },
  {
   "cell_type": "code",
   "execution_count": 15,
   "metadata": {},
   "outputs": [
    {
     "data": {
      "text/html": [
       "<div class=\"section \"><a target=\"_blank\" href=\"https://cdli.ucla.edu/search/search_results.php?SearchMode=Text&amp;ObjectID=P509373\" title=\"Show this document on CDLI\" sec=\"P509373 obverse:1\">P509373 obverse:1</a></div><div class=\" children\"><div class=\"contnr c2 trm   \" ><div class=\"lbl c2 trm \" ><span class=\"nd\">word</span> <span class=\"txto\"><span class=\"plain   \" ><span class=\"txto\">_{d}</span><span class=\"txto\">suen_-</span><span class=\"txto\">i-</span><span class=\"txto\">[din-</span><span class=\"txto\">nam]</span></span></span></div></div></div>"
      ],
      "text/plain": [
       "<IPython.core.display.HTML object>"
      ]
     },
     "metadata": {},
     "output_type": "display_data"
    }
   ],
   "source": [
    "A.pretty(w)"
   ]
  },
  {
   "cell_type": "code",
   "execution_count": 16,
   "metadata": {},
   "outputs": [
    {
     "data": {
      "text/html": [
       "<div class=\"section \"><a target=\"_blank\" href=\"https://cdli.ucla.edu/search/search_results.php?SearchMode=Text&amp;ObjectID=P509373\" title=\"Show this document on CDLI\" sec=\"P509373 obverse:1\">P509373 obverse:1</a></div><div class=\" children\"><div class=\"contnr c2 trm   \" ><div class=\"lbl c2 trm \" ><span class=\"nd\">word:258164</span> <span class=\"txtu akk\"><span class=\"plain   \" ><span class=\"txtu akk\"><span class=\"langalt\"><span class=\"det\"><span class=\"r\">𒀭</span></span></span></span><span class=\"txtu akk\"><span class=\"langalt\"><span class=\"r\">𒂗𒍪</span></span></span><span class=\"txtu akk\"><span class=\"r\">𒄿</span></span><span class=\"txtu akk\"><span class=\"missing\"><span class=\"r\">𒁷</span></span></span><span class=\"txtu akk\"><span class=\"missing\"><span class=\"r\">𒉆</span></span></span></span></span></div></div></div>"
      ],
      "text/plain": [
       "<IPython.core.display.HTML object>"
      ]
     },
     "metadata": {},
     "output_type": "display_data"
    }
   ],
   "source": [
    "A.pretty(w, fmt=\"layout-orig-unicode\", withNodes=True)"
   ]
  },
  {
   "cell_type": "markdown",
   "metadata": {},
   "source": [
    "By default, pretty displays descend to the word level, but you can also descend to the sign level:"
   ]
  },
  {
   "cell_type": "code",
   "execution_count": 17,
   "metadata": {},
   "outputs": [
    {
     "data": {
      "text/html": [
       "<div class=\"section \"><a target=\"_blank\" href=\"https://cdli.ucla.edu/search/search_results.php?SearchMode=Text&amp;ObjectID=P509373\" title=\"Show this document on CDLI\" sec=\"P509373 obverse:1\">P509373 obverse:1</a></div><div class=\" children\"><div class=\"contnr c2    \" ><div class=\"lbl c2  \" ><span class=\"nd\">word</span> <span class=\"txto\">_{d}suen_-i-[din-nam]</span></div><div class=\"children hor  \"><div class=\"contnr c1    \" ><div class=\"lbl c1  \" ><span class=\"nd\">cluster</span></div><div class=\"children hor wrap \"><div class=\"contnr c1    \" ><div class=\"lbl c1  \" ><span class=\"nd\">cluster</span></div><div class=\"children hor wrap \"><div class=\"contnr c0 trm   \" ><div class=\"lbl c0 trm \" ><span class=\"txto\">_{d}</span></div></div></div></div><div class=\"contnr c0 trm   \" ><div class=\"lbl c0 trm \" ><span class=\"txto\">suen_-</span></div></div></div></div><div class=\"contnr c0 trm   \" ><div class=\"lbl c0 trm \" ><span class=\"txto\">i-</span></div></div><div class=\"contnr c1    \" ><div class=\"lbl c1  \" ><span class=\"nd\">cluster</span></div><div class=\"children hor wrap \"><div class=\"contnr c0 trm   \" ><div class=\"lbl c0 trm \" ><span class=\"txto\">[din-</span></div></div><div class=\"contnr c0 trm   \" ><div class=\"lbl c0 trm \" ><span class=\"txto\">nam]</span></div></div></div></div></div></div></div>"
      ],
      "text/plain": [
       "<IPython.core.display.HTML object>"
      ]
     },
     "metadata": {},
     "output_type": "display_data"
    }
   ],
   "source": [
    "A.pretty(w, baseTypes=\"sign\")"
   ]
  },
  {
   "cell_type": "code",
   "execution_count": 18,
   "metadata": {},
   "outputs": [
    {
     "data": {
      "text/html": [
       "<div class=\"section \"><a target=\"_blank\" href=\"https://cdli.ucla.edu/search/search_results.php?SearchMode=Text&amp;ObjectID=P509373\" title=\"Show this document on CDLI\" sec=\"P509373 obverse:1\">P509373 obverse:1</a></div><div class=\" children\"><div class=\"contnr c2    \" ><div class=\"lbl c2  \" ><span class=\"nd\">word:258164</span> <span class=\"txtu akk\"><span class=\"langalt\"><span class=\"det\"><span class=\"r\">𒀭</span></span></span><span class=\"langalt\"><span class=\"r\">𒂗𒍪</span></span><span class=\"r\">𒄿</span><span class=\"missing\"><span class=\"r\">𒁷</span></span><span class=\"missing\"><span class=\"r\">𒉆</span></span></span></div><div class=\"children hor  \"><div class=\"contnr c1    \" ><div class=\"lbl c1  \" ><span class=\"nd\">cluster:203221</span></div><div class=\"children hor wrap \"><div class=\"contnr c1    \" ><div class=\"lbl c1  \" ><span class=\"nd\">cluster:203222</span></div><div class=\"children hor wrap \"><div class=\"contnr c0 trm   \" ><div class=\"lbl c0 trm \" ><span class=\"nd\">3</span> <span class=\"txtu akk\"><span class=\"langalt\"><span class=\"det\"><span class=\"r\">𒀭</span></span></span></span></div></div></div></div><div class=\"contnr c0 trm   \" ><div class=\"lbl c0 trm \" ><span class=\"nd\">4</span> <span class=\"txtu akk\"><span class=\"langalt\"><span class=\"r\">𒂗𒍪</span></span></span></div></div></div></div><div class=\"contnr c0 trm   \" ><div class=\"lbl c0 trm \" ><span class=\"nd\">5</span> <span class=\"txtu akk\"><span class=\"r\">𒄿</span></span></div></div><div class=\"contnr c1    \" ><div class=\"lbl c1  \" ><span class=\"nd\">cluster:203223</span></div><div class=\"children hor wrap \"><div class=\"contnr c0 trm   \" ><div class=\"lbl c0 trm \" ><span class=\"nd\">6</span> <span class=\"txtu akk\"><span class=\"missing\"><span class=\"r\">𒁷</span></span></span></div></div><div class=\"contnr c0 trm   \" ><div class=\"lbl c0 trm \" ><span class=\"nd\">7</span> <span class=\"txtu akk\"><span class=\"missing\"><span class=\"r\">𒉆</span></span></span></div></div></div></div></div></div></div>"
      ],
      "text/plain": [
       "<IPython.core.display.HTML object>"
      ]
     },
     "metadata": {},
     "output_type": "display_data"
    }
   ],
   "source": [
    "A.pretty(w, fmt=\"layout-orig-unicode\", baseTypes=\"sign\", withNodes=True)"
   ]
  },
  {
   "cell_type": "markdown",
   "metadata": {},
   "source": [
    "Later on, in the [search](search.ipynb) tutorial we see that `pretty()` can also display other features,\n",
    "even features that you or other people have created and added later.\n",
    "\n",
    "Here we call for the feature `atf`, which shows the original atf for the sign in question\n",
    "excluding the bracketing characters.\n",
    "\n",
    "Consult the\n",
    "[feature documentation](https://github.com/Nino-cunei/oldbabylonian/blob/master/docs//transcription.md)\n",
    "to see what information is stored in all the features.\n",
    "\n",
    "We show it with node numbers, but you could leave them out in an obvious way."
   ]
  },
  {
   "cell_type": "code",
   "execution_count": 19,
   "metadata": {},
   "outputs": [
    {
     "data": {
      "text/html": [
       "<div class=\"section \"><a target=\"_blank\" href=\"https://cdli.ucla.edu/search/search_results.php?SearchMode=Text&amp;ObjectID=P292987\" title=\"Show this document on CDLI\" sec=\"P292987 reverse\">P292987 reverse</a></div><div class=\" children\"><div class=\"contnr c4 trm   \" ><div class=\"lbl c4 trm \" ><span class=\"nd\">face:228928</span> <span class=\"txtt\"><span class=\"section\">P292987 reverse</span></span></div></div></div>"
      ],
      "text/plain": [
       "<IPython.core.display.HTML object>"
      ]
     },
     "metadata": {},
     "output_type": "display_data"
    }
   ],
   "source": [
    "A.pretty(f, extraFeatures=\"atf\", fmt=\"layout-orig-rich\", withNodes=True)"
   ]
  },
  {
   "cell_type": "markdown",
   "metadata": {},
   "source": [
    "We do not see much, because the default condense type is `line`, and a `document` is bigger than that.\n",
    "Objects bigger than de condense type will be abbreviated to a label that indicates their identity,\n",
    "not their contents.\n",
    "\n",
    "But we can override this by adding `full=True`.\n",
    "\n",
    "See also the documentation on [`pretty`](https://annotation.github.io/text-fabric/tf/advanced/display.html#tf.advanced.display.pretty)."
   ]
  },
  {
   "cell_type": "code",
   "execution_count": 20,
   "metadata": {},
   "outputs": [
    {
     "data": {
      "text/html": [
       "<div class=\"section \"><a target=\"_blank\" href=\"https://cdli.ucla.edu/search/search_results.php?SearchMode=Text&amp;ObjectID=P292987\" title=\"Show this document on CDLI\" sec=\"P292987 reverse\">P292987 reverse</a></div><div class=\" children\"><div class=\"contnr c4    \" ><div class=\"lbl c4  \" ><span class=\"nd\">face:228928</span> <span class=\"txtt\"><span class=\"section\">P292987 reverse</span></span></div><div class=\"children hor wrap \"><div class=\"contnr c3    \" ><div class=\"lbl c3  \" ><span class=\"nd\">line:239995</span></div><div class=\"children hor wrap \"><div class=\"contnr c2 trm   \" ><div class=\"lbl c2 trm \" ><span class=\"nd\">word:284534</span> <span class=\"txtt\"><span class=\"plain   \" ><span class=\"txtt\"><span class=\"r\">nu</span>-</span><span class=\"txtt\"><span class=\"r\">uk</span><span class=\"operator\">=</span>⌈<span class=\"g\">AZ</span>⌉-</span><span class=\"txtt\"><span class=\"r\">ta</span>-</span><span class=\"txtt\"><span class=\"r\">la</span>-</span><span class=\"txtt\"><span class=\"r\">al</span>-</span><span class=\"txtt\"><span class=\"r\">li</span>-</span><span class=\"txtt\"><span class=\"r\">mu</span></span></span></span></div><div class='features'><span class=\"atf xft\" ><span class=\"f\">atf=</span>nu-uk!(AZ)-ta-la-al-li-mu</span></div></div></div></div><div class=\"contnr c3    \" ><div class=\"lbl c3  \" ><span class=\"nd\">line:239996</span></div><div class=\"children hor wrap \"><div class=\"contnr c2 trm   \" ><div class=\"lbl c2 trm \" ><span class=\"nd\">word:284535</span> <span class=\"txtt\"><span class=\"plain   \" ><span class=\"txtt\"><span class=\"r\">dumu</span> </span></span></span></div><div class='features'><span class=\"atf xft\" ><span class=\"f\">atf=</span>dumu</span></div></div><div class=\"contnr c2 trm   \" ><div class=\"lbl c2 trm \" ><span class=\"nd\">word:284536</span> <span class=\"txtt\"><span class=\"plain   \" ><span class=\"txtt\"><span class=\"damage\"><span class=\"r\">ku₃</span></span>-</span><span class=\"txtt\"><span class=\"det\"><span class=\"r\">d</span></span></span><span class=\"txtt\"><span class=\"r\">nanna</span></span></span></span></div><div class='features'><span class=\"atf xft\" ><span class=\"f\">atf=</span>ku3#-{d}nanna</span></div></div></div></div><div class=\"contnr c3    \" ><div class=\"lbl c3  \" ><span class=\"nd\">line:239997</span></div><div class=\"children hor wrap \"><div class=\"contnr c2 trm   \" ><div class=\"lbl c2 trm \" ><span class=\"nd\">word:284537</span> <span class=\"txtt\"><span class=\"plain   \" ><span class=\"txtt\"><span class=\"r\">i</span>-</span><span class=\"txtt\"><span class=\"damage\"><span class=\"r\">he</span></span>-</span><span class=\"txtt\"><span class=\"missing\"><span class=\"r\">er</span></span>-</span><span class=\"txtt\"><span class=\"damage\"><span class=\"r\">ri</span></span></span></span></span></div><div class='features'><span class=\"atf xft\" ><span class=\"f\">atf=</span>i-he#-[er]-ri#</span></div></div></div></div><div class=\"contnr c3    \" ><div class=\"lbl c3  \" ><span class=\"nd\">line:239998</span></div><div class=\"children hor wrap \"><div class=\"contnr c2 trm   \" ><div class=\"lbl c2 trm \" ><span class=\"nd\">word:284538</span> <span class=\"txtt\"><span class=\"plain   \" ><span class=\"txtt\"><span class=\"r\">la</span>-</span><span class=\"txtt\"><span class=\"r\">ma</span> </span></span></span></div><div class='features'><span class=\"atf xft\" ><span class=\"f\">atf=</span>la-ma</span></div></div><div class=\"contnr c2 trm   \" ><div class=\"lbl c2 trm \" ><span class=\"nd\">word:284539</span> <span class=\"txtt\"><span class=\"plain   \" ><span class=\"txtt\"><span class=\"r\">qa₂</span>-</span><span class=\"txtt\"><span class=\"r\">as</span>-</span><span class=\"txtt\"><span class=\"r\">su₂</span></span></span></span></div><div class='features'><span class=\"atf xft\" ><span class=\"f\">atf=</span>qa2-as-su2</span></div></div></div></div><div class=\"contnr c3    \" ><div class=\"lbl c3  \" ><span class=\"nd\">line:239999</span></div><div class=\"children hor wrap \"><div class=\"contnr c2 trm   \" ><div class=\"lbl c2 trm \" ><span class=\"nd\">word:284540</span> <span class=\"txtt\"><span class=\"plain   \" ><span class=\"txtt\"><span class=\"damage\"><span class=\"r\">iš</span></span>-</span><span class=\"txtt\"><span class=\"r\">ku</span>-</span><span class=\"txtt\"><span class=\"r\">nu</span></span></span></span></div><div class='features'><span class=\"atf xft\" ><span class=\"f\">atf=</span>isz#-ku-nu</span></div></div></div></div><div class=\"contnr c3    \" ><div class=\"lbl c3  \" ><span class=\"nd\">line:240000</span></div><div class=\"children hor wrap \"><div class=\"contnr c2 trm   \" ><div class=\"lbl c2 trm \" ><span class=\"nd\">word:284541</span> <span class=\"txtt\"><span class=\"plain   \" ><span class=\"txtt\"><span class=\"damage\"><span class=\"r\">at</span></span>-</span><span class=\"txtt\"><span class=\"r\">ta</span> </span></span></span></div><div class='features'><span class=\"atf xft\" ><span class=\"f\">atf=</span>at#-ta</span></div></div><div class=\"contnr c2 trm   \" ><div class=\"lbl c2 trm \" ><span class=\"nd\">word:284542</span> <span class=\"txtt\"><span class=\"plain   \" ><span class=\"txtt\"><span class=\"r\">hi</span>-</span><span class=\"txtt\"><span class=\"r\">i</span>-</span><span class=\"txtt\"><span class=\"r\">ri</span></span></span></span></div><div class='features'><span class=\"atf xft\" ><span class=\"f\">atf=</span>hi-i-ri</span></div></div></div></div><div class=\"contnr c3    \" ><div class=\"lbl c3  \" ><span class=\"nd\">line:240001</span></div><div class=\"children hor wrap \"><div class=\"contnr c2 trm   \" ><div class=\"lbl c2 trm \" ><span class=\"nd\">word:284543</span> <span class=\"txtt\"><span class=\"plain   \" ><span class=\"txtt\"><span class=\"r\">u₃</span> </span></span></span></div><div class='features'><span class=\"atf xft\" ><span class=\"f\">atf=</span>u3</span></div></div><div class=\"contnr c2 trm   \" ><div class=\"lbl c2 trm \" ><span class=\"nd\">word:284544</span> <span class=\"txtt\"><span class=\"plain   \" ><span class=\"txtt\"><span class=\"r\">a</span>-</span><span class=\"txtt\"><span class=\"r\">na</span></span></span></span></div><div class='features'><span class=\"atf xft\" ><span class=\"f\">atf=</span>a-na</span></div></div></div></div><div class=\"contnr c3    \" ><div class=\"lbl c3  \" ><span class=\"nd\">line:240002</span></div><div class=\"children hor wrap \"><div class=\"contnr c2 trm   \" ><div class=\"lbl c2 trm \" ><span class=\"nd\">word:284545</span> <span class=\"txtt\"><span class=\"plain   \" ><span class=\"txtt\"><span class=\"r\">i</span>-</span><span class=\"txtt\"><span class=\"r\">šar</span>-</span><span class=\"txtt\"><span class=\"r\">ku</span>-</span><span class=\"txtt\"><span class=\"r\">bi</span></span></span></span></div><div class='features'><span class=\"atf xft\" ><span class=\"f\">atf=</span>i-szar-ku-bi</span></div></div></div></div></div></div></div>"
      ],
      "text/plain": [
       "<IPython.core.display.HTML object>"
      ]
     },
     "metadata": {},
     "output_type": "display_data"
    }
   ],
   "source": [
    "A.pretty(f, extraFeatures=\"atf\", fmt=\"layout-orig-rich\", withNodes=True, full=True)"
   ]
  },
  {
   "cell_type": "markdown",
   "metadata": {},
   "source": [
    "# Layout formats: the details\n",
    "\n",
    "We give detailed examples of how the material is styled in the `layout-` formats.\n",
    "\n",
    "We show the representation of all kinds of signs and also what the influence of\n",
    "clustering and flags are.\n",
    "\n",
    "Here are the design principles:\n",
    "\n",
    "* all flags `# ? ! *` cause the preceding sign to be in bold\n",
    "* damage `#` and missing `[ ]` text is blurry and in grey\n",
    "* questioned `?` and uncertain `( )` text is in italics\n",
    "* remarkable `!` and supplied `< >` text is overlined, supplied text is in blue\n",
    "* excised `<< >>` text has a strike-through and is in red\n",
    "* collated `*` text is underlined\n",
    "\n",
    "**Numerals** are written with repeats/fractions and the repeated material is in `⌈ ⌉`.\n",
    "If represented in cuneiform unicode, repeated material is actually repeated that many times, and the repeat number and\n",
    "the brackets are not shown.\n",
    "\n",
    "**Ligatures** (the `x` operator as in `kux(DU)`) are written with the `␣` character between the operands, and the second\n",
    "operand (`DU`) is written between `⌈ ⌉`.\n",
    "\n",
    "**Corrections** (as in `ku!(LU)`) are written as `ku=⌈LU⌉`.\n",
    "\n",
    "Just a quick overview of the sign types:"
   ]
  },
  {
   "cell_type": "code",
   "execution_count": 21,
   "metadata": {},
   "outputs": [
    {
     "data": {
      "text/plain": [
       "(('reading', 188292),\n",
       " ('unknown', 8761),\n",
       " ('numeral', 2184),\n",
       " ('ellipsis', 1617),\n",
       " ('grapheme', 1272),\n",
       " ('commentline', 969),\n",
       " ('complex', 122),\n",
       " ('comment', 2))"
      ]
     },
     "execution_count": 21,
     "metadata": {},
     "output_type": "execute_result"
    }
   ],
   "source": [
    "F.type.freqList(\"sign\")"
   ]
  },
  {
   "cell_type": "markdown",
   "metadata": {},
   "source": [
    "# Styled display of ATF text"
   ]
  },
  {
   "cell_type": "code",
   "execution_count": 22,
   "metadata": {},
   "outputs": [],
   "source": [
    "lines = (\n",
    "    ((\"P510536\", \"obverse\", \"15\"), (\"cluster: language\", [1, 2, 3])),\n",
    "    ((\"P509373\", \"obverse\", \"1\"), (\"cluster: determinative\", [3])),\n",
    "    ((\"P509375\", \"obverse\", \"3\"), (\"cluster: missing\", [1, 2, 3, 6])),\n",
    "    ((\"P510736\", \"reverse\", \"5\"), (\"cluster: uncertain\", [6, 7, 8])),\n",
    "    ((\"P510526\", \"obverse\", \"8\"), (\"cluster: supplied\", [7, 8, 9])),\n",
    "    ((\"P373056\", \"obverse\", \"11\"), (\"cluster: excised\", [9, 10])),\n",
    "    ((\"P510536\", \"obverse\", \"8\"), (\"flag: damage\", [1, 2, 3, 6, 9, 10])),\n",
    "    ((\"P297171\", \"reverse\", \"1\"), (\"flag: question\", [3, 4, 5])),\n",
    "    ((\"P510536\", \"obverse\", \"15\"), (\"flag: remarkable\", [6])),\n",
    "    ((\"P387299\", \"obverse\", \"5\"), (\"flag: collated\", [1])),\n",
    "    ((\"P510534\", \"reverse\", \"20'\"), (\"flag: damage + question\", [3])),\n",
    "    ((\"P497780\", \"reverse\", \"4\"), (\"flag: damage + remarkable\", [1])),\n",
    "    ((\"P305744\", \"obverse\", \"10\"), (\"flag: damage + collated\", [5])),\n",
    "    ((\"P305799\", \"left side\", \"1\"), (\"flag: collated + remarkable\", [3, 5])),\n",
    "    ((\"P305806\", \"reverse\", \"1\"), (\"flag: remarkable + question + collated\", [3])),\n",
    "    ((\"P305744\", \"obverse\", \"10\"), (\"flag collated in cluster missing\", [6, 7])),\n",
    "    ((\"P275088\", \"reverse\", \"2\"), (\"sign: comment\", [1])),\n",
    "    ((\"P510636\", \"obverse\", \"3\"), (\"sign: grapheme\", [9])),\n",
    "    ((\"P386451\", \"reverse\", \"11\"), (\"sign: correction\", [6])),\n",
    "    ((\"P312032\", \"left edge\", \"1\"), (\"sign: numeral\", [4, 6])),\n",
    "    ((\"P492284\", \"obverse\", \"5\"), (\"sign: ligature\", [2, 3])),\n",
    "    ((\"P509373\", \"reverse\", \"18'\"), (\"sign: unknown and ellipsis\", [7, 8])),\n",
    ")"
   ]
  },
  {
   "cell_type": "code",
   "execution_count": 23,
   "metadata": {},
   "outputs": [
    {
     "data": {
      "text/markdown": [
       "---\n",
       "# cluster: language\n",
       "\n",
       "Location: P510536 obverse:15"
      ],
      "text/plain": [
       "<IPython.core.display.Markdown object>"
      ]
     },
     "metadata": {},
     "output_type": "display_data"
    },
    {
     "name": "stdout",
     "output_type": "stream",
     "text": [
      "15. _ma2 hi-a_ as-sa3-ki!-ip\n"
     ]
    },
    {
     "data": {
      "text/html": [
       "<div class=\"\"><span class=\"section \"><a target=\"_blank\" href=\"https://cdli.ucla.edu/search/search_results.php?SearchMode=Text&amp;ObjectID=P510536\" title=\"Show this document on CDLI\" sec=\"P510536 obverse:15\">P510536 obverse:15</a></span>  <span class=\"plain   hl\" ><span class=\"txtt\"><span class=\"langalt\"><span class=\"r\">ma₂</span></span> </span></span><span class=\"plain   hl\" ><span class=\"txtt\"><span class=\"langalt\"><span class=\"r\">hi</span></span>-</span></span><span class=\"plain   hl\" ><span class=\"txtt\"><span class=\"langalt\"><span class=\"r\">a</span></span> </span></span><span class=\"txtt\"><span class=\"r\">as</span>-</span><span class=\"txtt\"><span class=\"r\">sa₃</span>-</span><span class=\"txtt\"><span class=\"remarkable\"><span class=\"r\">ki</span></span>-</span><span class=\"txtt\"><span class=\"r\">ip</span></span></div>"
      ],
      "text/plain": [
       "<IPython.core.display.HTML object>"
      ]
     },
     "metadata": {},
     "output_type": "display_data"
    },
    {
     "data": {
      "text/html": [
       "<div class=\"\"><span class=\"section \"><a target=\"_blank\" href=\"https://cdli.ucla.edu/search/search_results.php?SearchMode=Text&amp;ObjectID=P510536\" title=\"Show this document on CDLI\" sec=\"P510536 obverse:15\">P510536 obverse:15</a></span>  <span class=\"plain   hl\" ><span class=\"txtu akk\"><span class=\"langalt\"><span class=\"r\">𒈣</span></span> </span></span><span class=\"plain   hl\" ><span class=\"txtu akk\"><span class=\"langalt\"><span class=\"r\">𒄭</span></span></span></span><span class=\"plain   hl\" ><span class=\"txtu akk\"><span class=\"langalt\"><span class=\"r\">𒀀</span></span> </span></span><span class=\"txtu akk\"><span class=\"r\">𒊍</span></span><span class=\"txtu akk\"><span class=\"r\">𒍝</span></span><span class=\"txtu akk\"><span class=\"remarkable\"><span class=\"r\">𒆠</span></span></span><span class=\"txtu akk\"><span class=\"r\">𒅁</span></span></div>"
      ],
      "text/plain": [
       "<IPython.core.display.HTML object>"
      ]
     },
     "metadata": {},
     "output_type": "display_data"
    },
    {
     "data": {
      "text/html": [
       "<div class=\"section \"><a target=\"_blank\" href=\"https://cdli.ucla.edu/search/search_results.php?SearchMode=Text&amp;ObjectID=P510536\" title=\"Show this document on CDLI\" sec=\"P510536 obverse:15\">P510536 obverse:15</a></div><div class=\" children\"><div class=\"contnr c3    \" ><div class=\"lbl c3  \" ><span class=\"nd\">line</span></div><div class=\"children hor wrap \"><div class=\"contnr c2    \" ><div class=\"lbl c2  \" ><span class=\"nd\">word</span> <span class=\"txtt\">ma₂ </span></div><div class='features'><span class=\"atf xft\" ><span class=\"f\">atf=</span>_ma2</span></div><div class=\"children hor  \"><div class=\"contnr c1   rno \" ><div class=\"lbl c1  \" ><span class=\"nd\">cluster</span></div><div class=\"children hor wrap \"><div class=\"contnr c0 trm   hl\" ><div class=\"lbl c0 trm hl\" ><span class=\"txtt\">ma₂ </span></div><div class='features'><span class=\"atf xft\" ><span class=\"f\">atf=</span>ma2</span></div></div></div></div></div></div><div class=\"contnr c2    \" ><div class=\"lbl c2  \" ><span class=\"nd\">word</span> <span class=\"txtt\">hi-a </span></div><div class='features'><span class=\"atf xft\" ><span class=\"f\">atf=</span>hi-a_</span></div><div class=\"children hor  \"><div class=\"contnr c1   lno \" ><div class=\"lbl c1  \" ><span class=\"nd\">cluster</span></div><div class=\"children hor wrap \"><div class=\"contnr c0 trm   hl\" ><div class=\"lbl c0 trm hl\" ><span class=\"txtt\">hi-</span></div><div class='features'><span class=\"atf xft\" ><span class=\"f\">atf=</span>hi</span></div></div><div class=\"contnr c0 trm   hl\" ><div class=\"lbl c0 trm hl\" ><span class=\"txtt\">a </span></div><div class='features'><span class=\"atf xft\" ><span class=\"f\">atf=</span>a</span></div></div></div></div></div></div><div class=\"contnr c2    \" ><div class=\"lbl c2  \" ><span class=\"nd\">word</span> <span class=\"txtt\">as-sa₃-ki-ip</span></div><div class='features'><span class=\"atf xft\" ><span class=\"f\">atf=</span>as-sa3-ki!-ip</span></div><div class=\"children hor  \"><div class=\"contnr c0 trm   \" ><div class=\"lbl c0 trm \" ><span class=\"txtt\">as-</span></div><div class='features'><span class=\"atf xft\" ><span class=\"f\">atf=</span>as</span></div></div><div class=\"contnr c0 trm   \" ><div class=\"lbl c0 trm \" ><span class=\"txtt\">sa₃-</span></div><div class='features'><span class=\"atf xft\" ><span class=\"f\">atf=</span>sa3</span></div></div><div class=\"contnr c0 trm   \" ><div class=\"lbl c0 trm \" ><span class=\"txtt\">ki-</span></div><div class='features'><span class=\"atf xft\" ><span class=\"f\">atf=</span>ki!</span></div></div><div class=\"contnr c0 trm   \" ><div class=\"lbl c0 trm \" ><span class=\"txtt\">ip</span></div><div class='features'><span class=\"atf xft\" ><span class=\"f\">atf=</span>ip</span></div></div></div></div></div></div></div>"
      ],
      "text/plain": [
       "<IPython.core.display.HTML object>"
      ]
     },
     "metadata": {},
     "output_type": "display_data"
    },
    {
     "data": {
      "text/markdown": [
       "---\n",
       "# cluster: determinative\n",
       "\n",
       "Location: P509373 obverse:1"
      ],
      "text/plain": [
       "<IPython.core.display.Markdown object>"
      ]
     },
     "metadata": {},
     "output_type": "display_data"
    },
    {
     "name": "stdout",
     "output_type": "stream",
     "text": [
      "1. [a-na] _{d}suen_-i-[din-nam]\n"
     ]
    },
    {
     "data": {
      "text/html": [
       "<div class=\"\"><span class=\"section \"><a target=\"_blank\" href=\"https://cdli.ucla.edu/search/search_results.php?SearchMode=Text&amp;ObjectID=P509373\" title=\"Show this document on CDLI\" sec=\"P509373 obverse:1\">P509373 obverse:1</a></span>  <span class=\"txtt\"><span class=\"missing\"><span class=\"r\">a</span></span>-</span><span class=\"txtt\"><span class=\"missing\"><span class=\"r\">na</span></span> </span><span class=\"plain   hl\" ><span class=\"txtt\"><span class=\"langalt\"><span class=\"det\"><span class=\"r\">d</span></span></span></span></span><span class=\"txtt\"><span class=\"langalt\"><span class=\"r\">suen</span></span>-</span><span class=\"txtt\"><span class=\"r\">i</span>-</span><span class=\"txtt\"><span class=\"missing\"><span class=\"r\">din</span></span>-</span><span class=\"txtt\"><span class=\"missing\"><span class=\"r\">nam</span></span></span></div>"
      ],
      "text/plain": [
       "<IPython.core.display.HTML object>"
      ]
     },
     "metadata": {},
     "output_type": "display_data"
    },
    {
     "data": {
      "text/html": [
       "<div class=\"\"><span class=\"section \"><a target=\"_blank\" href=\"https://cdli.ucla.edu/search/search_results.php?SearchMode=Text&amp;ObjectID=P509373\" title=\"Show this document on CDLI\" sec=\"P509373 obverse:1\">P509373 obverse:1</a></span>  <span class=\"txtu akk\"><span class=\"missing\"><span class=\"r\">𒀀</span></span></span><span class=\"txtu akk\"><span class=\"missing\"><span class=\"r\">𒈾</span></span> </span><span class=\"plain   hl\" ><span class=\"txtu akk\"><span class=\"langalt\"><span class=\"det\"><span class=\"r\">𒀭</span></span></span></span></span><span class=\"txtu akk\"><span class=\"langalt\"><span class=\"r\">𒂗𒍪</span></span></span><span class=\"txtu akk\"><span class=\"r\">𒄿</span></span><span class=\"txtu akk\"><span class=\"missing\"><span class=\"r\">𒁷</span></span></span><span class=\"txtu akk\"><span class=\"missing\"><span class=\"r\">𒉆</span></span></span></div>"
      ],
      "text/plain": [
       "<IPython.core.display.HTML object>"
      ]
     },
     "metadata": {},
     "output_type": "display_data"
    },
    {
     "data": {
      "text/html": [
       "<div class=\"section \"><a target=\"_blank\" href=\"https://cdli.ucla.edu/search/search_results.php?SearchMode=Text&amp;ObjectID=P509373\" title=\"Show this document on CDLI\" sec=\"P509373 obverse:1\">P509373 obverse:1</a></div><div class=\" children\"><div class=\"contnr c3    \" ><div class=\"lbl c3  \" ><span class=\"nd\">line</span></div><div class=\"children hor wrap \"><div class=\"contnr c2    \" ><div class=\"lbl c2  \" ><span class=\"nd\">word</span> <span class=\"txtt\">a-na </span></div><div class='features'><span class=\"atf xft\" ><span class=\"f\">atf=</span>[a-na]</span></div><div class=\"children hor  \"><div class=\"contnr c1    \" ><div class=\"lbl c1  \" ><span class=\"nd\">cluster</span></div><div class=\"children hor wrap \"><div class=\"contnr c0 trm   \" ><div class=\"lbl c0 trm \" ><span class=\"txtt\">a-</span></div><div class='features'><span class=\"atf xft\" ><span class=\"f\">atf=</span>a</span></div></div><div class=\"contnr c0 trm   \" ><div class=\"lbl c0 trm \" ><span class=\"txtt\">na </span></div><div class='features'><span class=\"atf xft\" ><span class=\"f\">atf=</span>na</span></div></div></div></div></div></div><div class=\"contnr c2    \" ><div class=\"lbl c2  \" ><span class=\"nd\">word</span> <span class=\"txtt\">d⁼suen-i-din-nam</span></div><div class='features'><span class=\"atf xft\" ><span class=\"f\">atf=</span>_{d}suen_-i-[din-nam]</span></div><div class=\"children hor  \"><div class=\"contnr c1    \" ><div class=\"lbl c1  \" ><span class=\"nd\">cluster</span></div><div class=\"children hor wrap \"><div class=\"contnr c1    \" ><div class=\"lbl c1  \" ><span class=\"nd\">cluster</span></div><div class=\"children hor wrap \"><div class=\"contnr c0 trm   hl\" ><div class=\"lbl c0 trm hl\" ><span class=\"txtt\">d⁼</span></div><div class='features'><span class=\"atf xft\" ><span class=\"f\">atf=</span>d</span></div></div></div></div><div class=\"contnr c0 trm   \" ><div class=\"lbl c0 trm \" ><span class=\"txtt\">suen-</span></div><div class='features'><span class=\"atf xft\" ><span class=\"f\">atf=</span>suen</span></div></div></div></div><div class=\"contnr c0 trm   \" ><div class=\"lbl c0 trm \" ><span class=\"txtt\">i-</span></div><div class='features'><span class=\"atf xft\" ><span class=\"f\">atf=</span>i</span></div></div><div class=\"contnr c1    \" ><div class=\"lbl c1  \" ><span class=\"nd\">cluster</span></div><div class=\"children hor wrap \"><div class=\"contnr c0 trm   \" ><div class=\"lbl c0 trm \" ><span class=\"txtt\">din-</span></div><div class='features'><span class=\"atf xft\" ><span class=\"f\">atf=</span>din</span></div></div><div class=\"contnr c0 trm   \" ><div class=\"lbl c0 trm \" ><span class=\"txtt\">nam</span></div><div class='features'><span class=\"atf xft\" ><span class=\"f\">atf=</span>nam</span></div></div></div></div></div></div></div></div></div>"
      ],
      "text/plain": [
       "<IPython.core.display.HTML object>"
      ]
     },
     "metadata": {},
     "output_type": "display_data"
    },
    {
     "data": {
      "text/markdown": [
       "---\n",
       "# cluster: missing\n",
       "\n",
       "Location: P509375 obverse:3"
      ],
      "text/plain": [
       "<IPython.core.display.Markdown object>"
      ]
     },
     "metadata": {},
     "output_type": "display_data"
    },
    {
     "name": "stdout",
     "output_type": "stream",
     "text": [
      "3. [um-ma x]-na-su-[x]-ma\n"
     ]
    },
    {
     "data": {
      "text/html": [
       "<div class=\"\"><span class=\"section \"><a target=\"_blank\" href=\"https://cdli.ucla.edu/search/search_results.php?SearchMode=Text&amp;ObjectID=P509375\" title=\"Show this document on CDLI\" sec=\"P509375 obverse:3\">P509375 obverse:3</a></span>  <span class=\"plain   hl\" ><span class=\"txtt\"><span class=\"missing\"><span class=\"r\">um</span></span>-</span></span><span class=\"plain   hl\" ><span class=\"txtt\"><span class=\"missing\"><span class=\"r\">ma</span></span> </span></span><span class=\"plain   hl\" ><span class=\"txtt\"><span class=\"missing\"><span class=\"uncertain\"><span class=\"r\">x</span></span></span>-</span></span><span class=\"txtt\"><span class=\"r\">na</span>-</span><span class=\"txtt\"><span class=\"r\">su</span>-</span><span class=\"plain   hl\" ><span class=\"txtt\"><span class=\"missing\"><span class=\"uncertain\"><span class=\"r\">x</span></span></span>-</span></span><span class=\"txtt\"><span class=\"r\">ma</span></span></div>"
      ],
      "text/plain": [
       "<IPython.core.display.HTML object>"
      ]
     },
     "metadata": {},
     "output_type": "display_data"
    },
    {
     "data": {
      "text/html": [
       "<div class=\"\"><span class=\"section \"><a target=\"_blank\" href=\"https://cdli.ucla.edu/search/search_results.php?SearchMode=Text&amp;ObjectID=P509375\" title=\"Show this document on CDLI\" sec=\"P509375 obverse:3\">P509375 obverse:3</a></span>  <span class=\"plain   hl\" ><span class=\"txtu akk\"><span class=\"missing\"><span class=\"r\">𒌝</span></span></span></span><span class=\"plain   hl\" ><span class=\"txtu akk\"><span class=\"missing\"><span class=\"r\">𒈠</span></span> </span></span><span class=\"plain   hl\" ><span class=\"txtu akk\"><span class=\"missing\"><span class=\"uncertain\"><span class=\"r\">x</span></span></span></span></span><span class=\"txtu akk\"><span class=\"r\">𒈾</span></span><span class=\"txtu akk\"><span class=\"r\">𒋢</span></span><span class=\"plain   hl\" ><span class=\"txtu akk\"><span class=\"missing\"><span class=\"uncertain\"><span class=\"r\">x</span></span></span></span></span><span class=\"txtu akk\"><span class=\"r\">𒈠</span></span></div>"
      ],
      "text/plain": [
       "<IPython.core.display.HTML object>"
      ]
     },
     "metadata": {},
     "output_type": "display_data"
    },
    {
     "data": {
      "text/html": [
       "<div class=\"section \"><a target=\"_blank\" href=\"https://cdli.ucla.edu/search/search_results.php?SearchMode=Text&amp;ObjectID=P509375\" title=\"Show this document on CDLI\" sec=\"P509375 obverse:3\">P509375 obverse:3</a></div><div class=\" children\"><div class=\"contnr c3    \" ><div class=\"lbl c3  \" ><span class=\"nd\">line</span></div><div class=\"children hor wrap \"><div class=\"contnr c2    \" ><div class=\"lbl c2  \" ><span class=\"nd\">word</span> <span class=\"txtt\">um-ma </span></div><div class='features'><span class=\"atf xft\" ><span class=\"f\">atf=</span>[um-ma</span></div><div class=\"children hor  \"><div class=\"contnr c1   rno \" ><div class=\"lbl c1  \" ><span class=\"nd\">cluster</span></div><div class=\"children hor wrap \"><div class=\"contnr c0 trm   hl\" ><div class=\"lbl c0 trm hl\" ><span class=\"txtt\">um-</span></div><div class='features'><span class=\"atf xft\" ><span class=\"f\">atf=</span>um</span></div></div><div class=\"contnr c0 trm   hl\" ><div class=\"lbl c0 trm hl\" ><span class=\"txtt\">ma </span></div><div class='features'><span class=\"atf xft\" ><span class=\"f\">atf=</span>ma</span></div></div></div></div></div></div><div class=\"contnr c2    \" ><div class=\"lbl c2  \" ><span class=\"nd\">word</span> <span class=\"txtt\">x-na-su-x-ma</span></div><div class='features'><span class=\"atf xft\" ><span class=\"f\">atf=</span>x]-na-su-[x]-ma</span></div><div class=\"children hor  \"><div class=\"contnr c1   lno \" ><div class=\"lbl c1  \" ><span class=\"nd\">cluster</span></div><div class=\"children hor wrap \"><div class=\"contnr c0 trm   hl\" ><div class=\"lbl c0 trm hl\" ><span class=\"txtt\">x-</span></div><div class='features'><span class=\"atf xft\" ><span class=\"f\">atf=</span>x</span></div></div></div></div><div class=\"contnr c0 trm   \" ><div class=\"lbl c0 trm \" ><span class=\"txtt\">na-</span></div><div class='features'><span class=\"atf xft\" ><span class=\"f\">atf=</span>na</span></div></div><div class=\"contnr c0 trm   \" ><div class=\"lbl c0 trm \" ><span class=\"txtt\">su-</span></div><div class='features'><span class=\"atf xft\" ><span class=\"f\">atf=</span>su</span></div></div><div class=\"contnr c1    \" ><div class=\"lbl c1  \" ><span class=\"nd\">cluster</span></div><div class=\"children hor wrap \"><div class=\"contnr c0 trm   hl\" ><div class=\"lbl c0 trm hl\" ><span class=\"txtt\">x-</span></div><div class='features'><span class=\"atf xft\" ><span class=\"f\">atf=</span>x</span></div></div></div></div><div class=\"contnr c0 trm   \" ><div class=\"lbl c0 trm \" ><span class=\"txtt\">ma</span></div><div class='features'><span class=\"atf xft\" ><span class=\"f\">atf=</span>ma</span></div></div></div></div></div></div></div>"
      ],
      "text/plain": [
       "<IPython.core.display.HTML object>"
      ]
     },
     "metadata": {},
     "output_type": "display_data"
    },
    {
     "data": {
      "text/markdown": [
       "---\n",
       "# cluster: uncertain\n",
       "\n",
       "Location: P510736 reverse:5"
      ],
      "text/plain": [
       "<IPython.core.display.Markdown object>"
      ]
     },
     "metadata": {},
     "output_type": "display_data"
    },
    {
     "name": "stdout",
     "output_type": "stream",
     "text": [
      "5. ut,-t,e4-eh-[hu-u2-(szu-nu-ti)]\n"
     ]
    },
    {
     "data": {
      "text/html": [
       "<div class=\"\"><span class=\"section \"><a target=\"_blank\" href=\"https://cdli.ucla.edu/search/search_results.php?SearchMode=Text&amp;ObjectID=P510736\" title=\"Show this document on CDLI\" sec=\"P510736 reverse:5\">P510736 reverse:5</a></span>  <span class=\"txtt\"><span class=\"r\">uṭ</span>-</span><span class=\"txtt\"><span class=\"r\">ṭe₄</span>-</span><span class=\"txtt\"><span class=\"r\">eh</span>-</span><span class=\"txtt\"><span class=\"missing\"><span class=\"r\">hu</span></span>-</span><span class=\"txtt\"><span class=\"missing\"><span class=\"r\">u₂</span></span>-</span><span class=\"plain   hl\" ><span class=\"txtt\"><span class=\"uncertain missing\"><span class=\"r\">šu</span></span>-</span></span><span class=\"plain   hl\" ><span class=\"txtt\"><span class=\"uncertain missing\"><span class=\"r\">nu</span></span>-</span></span><span class=\"plain   hl\" ><span class=\"txtt\"><span class=\"uncertain missing\"><span class=\"r\">ti</span></span></span></span></div>"
      ],
      "text/plain": [
       "<IPython.core.display.HTML object>"
      ]
     },
     "metadata": {},
     "output_type": "display_data"
    },
    {
     "data": {
      "text/html": [
       "<div class=\"\"><span class=\"section \"><a target=\"_blank\" href=\"https://cdli.ucla.edu/search/search_results.php?SearchMode=Text&amp;ObjectID=P510736\" title=\"Show this document on CDLI\" sec=\"P510736 reverse:5\">P510736 reverse:5</a></span>  <span class=\"txtu akk\"><span class=\"r\">𒌓</span></span><span class=\"txtu akk\"><span class=\"r\">𒋼</span></span><span class=\"txtu akk\"><span class=\"r\">𒄴</span></span><span class=\"txtu akk\"><span class=\"missing\"><span class=\"r\">𒄷</span></span></span><span class=\"txtu akk\"><span class=\"missing\"><span class=\"r\">𒌑</span></span></span><span class=\"plain   hl\" ><span class=\"txtu akk\"><span class=\"uncertain missing\"><span class=\"r\">𒋗</span></span></span></span><span class=\"plain   hl\" ><span class=\"txtu akk\"><span class=\"uncertain missing\"><span class=\"r\">𒉡</span></span></span></span><span class=\"plain   hl\" ><span class=\"txtu akk\"><span class=\"uncertain missing\"><span class=\"r\">𒋾</span></span></span></span></div>"
      ],
      "text/plain": [
       "<IPython.core.display.HTML object>"
      ]
     },
     "metadata": {},
     "output_type": "display_data"
    },
    {
     "data": {
      "text/html": [
       "<div class=\"section \"><a target=\"_blank\" href=\"https://cdli.ucla.edu/search/search_results.php?SearchMode=Text&amp;ObjectID=P510736\" title=\"Show this document on CDLI\" sec=\"P510736 reverse:5\">P510736 reverse:5</a></div><div class=\" children\"><div class=\"contnr c3    \" ><div class=\"lbl c3  \" ><span class=\"nd\">line</span></div><div class=\"children hor wrap \"><div class=\"contnr c2    \" ><div class=\"lbl c2  \" ><span class=\"nd\">word</span> <span class=\"txtt\">uṭ-ṭe₄-eh-hu-u₂-šu-nu-ti</span></div><div class='features'><span class=\"atf xft\" ><span class=\"f\">atf=</span>ut,-t,e4-eh-[hu-u2-(szu-nu-ti)]</span></div><div class=\"children hor  \"><div class=\"contnr c0 trm   \" ><div class=\"lbl c0 trm \" ><span class=\"txtt\">uṭ-</span></div><div class='features'><span class=\"atf xft\" ><span class=\"f\">atf=</span>ut,</span></div></div><div class=\"contnr c0 trm   \" ><div class=\"lbl c0 trm \" ><span class=\"txtt\">ṭe₄-</span></div><div class='features'><span class=\"atf xft\" ><span class=\"f\">atf=</span>t,e4</span></div></div><div class=\"contnr c0 trm   \" ><div class=\"lbl c0 trm \" ><span class=\"txtt\">eh-</span></div><div class='features'><span class=\"atf xft\" ><span class=\"f\">atf=</span>eh</span></div></div><div class=\"contnr c1    \" ><div class=\"lbl c1  \" ><span class=\"nd\">cluster</span></div><div class=\"children hor wrap \"><div class=\"contnr c0 trm   \" ><div class=\"lbl c0 trm \" ><span class=\"txtt\">hu-</span></div><div class='features'><span class=\"atf xft\" ><span class=\"f\">atf=</span>hu</span></div></div><div class=\"contnr c0 trm   \" ><div class=\"lbl c0 trm \" ><span class=\"txtt\">u₂-</span></div><div class='features'><span class=\"atf xft\" ><span class=\"f\">atf=</span>u2</span></div></div><div class=\"contnr c1    \" ><div class=\"lbl c1  \" ><span class=\"nd\">cluster</span></div><div class=\"children hor wrap \"><div class=\"contnr c0 trm   hl\" ><div class=\"lbl c0 trm hl\" ><span class=\"txtt\">šu-</span></div><div class='features'><span class=\"atf xft\" ><span class=\"f\">atf=</span>szu</span></div></div><div class=\"contnr c0 trm   hl\" ><div class=\"lbl c0 trm hl\" ><span class=\"txtt\">nu-</span></div><div class='features'><span class=\"atf xft\" ><span class=\"f\">atf=</span>nu</span></div></div><div class=\"contnr c0 trm   hl\" ><div class=\"lbl c0 trm hl\" ><span class=\"txtt\">ti</span></div><div class='features'><span class=\"atf xft\" ><span class=\"f\">atf=</span>ti</span></div></div></div></div></div></div></div></div></div></div></div>"
      ],
      "text/plain": [
       "<IPython.core.display.HTML object>"
      ]
     },
     "metadata": {},
     "output_type": "display_data"
    },
    {
     "data": {
      "text/markdown": [
       "---\n",
       "# cluster: supplied\n",
       "\n",
       "Location: P510526 obverse:8"
      ],
      "text/plain": [
       "<IPython.core.display.Markdown object>"
      ]
     },
     "metadata": {},
     "output_type": "display_data"
    },
    {
     "name": "stdout",
     "output_type": "stream",
     "text": [
      "8. a-na da-mi-iq-tim <li-ki-il>\n"
     ]
    },
    {
     "data": {
      "text/html": [
       "<div class=\"\"><span class=\"section \"><a target=\"_blank\" href=\"https://cdli.ucla.edu/search/search_results.php?SearchMode=Text&amp;ObjectID=P510526\" title=\"Show this document on CDLI\" sec=\"P510526 obverse:8\">P510526 obverse:8</a></span>  <span class=\"txtt\"><span class=\"r\">a</span>-</span><span class=\"txtt\"><span class=\"r\">na</span> </span><span class=\"txtt\"><span class=\"r\">da</span>-</span><span class=\"txtt\"><span class=\"r\">mi</span>-</span><span class=\"txtt\"><span class=\"r\">iq</span>-</span><span class=\"txtt\"><span class=\"r\">tim</span> </span><span class=\"plain   hl\" ><span class=\"txtt\"><span class=\"supplied\"><span class=\"r\">li</span></span>-</span></span><span class=\"plain   hl\" ><span class=\"txtt\"><span class=\"supplied\"><span class=\"r\">ki</span></span>-</span></span><span class=\"plain   hl\" ><span class=\"txtt\"><span class=\"supplied\"><span class=\"r\">il</span></span></span></span></div>"
      ],
      "text/plain": [
       "<IPython.core.display.HTML object>"
      ]
     },
     "metadata": {},
     "output_type": "display_data"
    },
    {
     "data": {
      "text/html": [
       "<div class=\"\"><span class=\"section \"><a target=\"_blank\" href=\"https://cdli.ucla.edu/search/search_results.php?SearchMode=Text&amp;ObjectID=P510526\" title=\"Show this document on CDLI\" sec=\"P510526 obverse:8\">P510526 obverse:8</a></span>  <span class=\"txtu akk\"><span class=\"r\">𒀀</span></span><span class=\"txtu akk\"><span class=\"r\">𒈾</span> </span><span class=\"txtu akk\"><span class=\"r\">𒁕</span></span><span class=\"txtu akk\"><span class=\"r\">𒈪</span></span><span class=\"txtu akk\"><span class=\"r\">𒅅</span></span><span class=\"txtu akk\"><span class=\"r\">𒁴</span> </span><span class=\"plain   hl\" ><span class=\"txtu akk\"><span class=\"supplied\"><span class=\"r\">𒇷</span></span></span></span><span class=\"plain   hl\" ><span class=\"txtu akk\"><span class=\"supplied\"><span class=\"r\">𒆠</span></span></span></span><span class=\"plain   hl\" ><span class=\"txtu akk\"><span class=\"supplied\"><span class=\"r\">𒀧</span></span></span></span></div>"
      ],
      "text/plain": [
       "<IPython.core.display.HTML object>"
      ]
     },
     "metadata": {},
     "output_type": "display_data"
    },
    {
     "data": {
      "text/html": [
       "<div class=\"section \"><a target=\"_blank\" href=\"https://cdli.ucla.edu/search/search_results.php?SearchMode=Text&amp;ObjectID=P510526\" title=\"Show this document on CDLI\" sec=\"P510526 obverse:8\">P510526 obverse:8</a></div><div class=\" children\"><div class=\"contnr c3    \" ><div class=\"lbl c3  \" ><span class=\"nd\">line</span></div><div class=\"children hor wrap \"><div class=\"contnr c2    \" ><div class=\"lbl c2  \" ><span class=\"nd\">word</span> <span class=\"txtt\">a-na </span></div><div class='features'><span class=\"atf xft\" ><span class=\"f\">atf=</span>a-na</span></div><div class=\"children hor  \"><div class=\"contnr c0 trm   \" ><div class=\"lbl c0 trm \" ><span class=\"txtt\">a-</span></div><div class='features'><span class=\"atf xft\" ><span class=\"f\">atf=</span>a</span></div></div><div class=\"contnr c0 trm   \" ><div class=\"lbl c0 trm \" ><span class=\"txtt\">na </span></div><div class='features'><span class=\"atf xft\" ><span class=\"f\">atf=</span>na</span></div></div></div></div><div class=\"contnr c2    \" ><div class=\"lbl c2  \" ><span class=\"nd\">word</span> <span class=\"txtt\">da-mi-iq-tim </span></div><div class='features'><span class=\"atf xft\" ><span class=\"f\">atf=</span>da-mi-iq-tim</span></div><div class=\"children hor  \"><div class=\"contnr c0 trm   \" ><div class=\"lbl c0 trm \" ><span class=\"txtt\">da-</span></div><div class='features'><span class=\"atf xft\" ><span class=\"f\">atf=</span>da</span></div></div><div class=\"contnr c0 trm   \" ><div class=\"lbl c0 trm \" ><span class=\"txtt\">mi-</span></div><div class='features'><span class=\"atf xft\" ><span class=\"f\">atf=</span>mi</span></div></div><div class=\"contnr c0 trm   \" ><div class=\"lbl c0 trm \" ><span class=\"txtt\">iq-</span></div><div class='features'><span class=\"atf xft\" ><span class=\"f\">atf=</span>iq</span></div></div><div class=\"contnr c0 trm   \" ><div class=\"lbl c0 trm \" ><span class=\"txtt\">tim </span></div><div class='features'><span class=\"atf xft\" ><span class=\"f\">atf=</span>tim</span></div></div></div></div><div class=\"contnr c2    \" ><div class=\"lbl c2  \" ><span class=\"nd\">word</span> <span class=\"txtt\">li-ki-il</span></div><div class='features'><span class=\"atf xft\" ><span class=\"f\">atf=</span>&lt;li-ki-il></span></div><div class=\"children hor  \"><div class=\"contnr c1    \" ><div class=\"lbl c1  \" ><span class=\"nd\">cluster</span></div><div class=\"children hor wrap \"><div class=\"contnr c0 trm   hl\" ><div class=\"lbl c0 trm hl\" ><span class=\"txtt\">li-</span></div><div class='features'><span class=\"atf xft\" ><span class=\"f\">atf=</span>li</span></div></div><div class=\"contnr c0 trm   hl\" ><div class=\"lbl c0 trm hl\" ><span class=\"txtt\">ki-</span></div><div class='features'><span class=\"atf xft\" ><span class=\"f\">atf=</span>ki</span></div></div><div class=\"contnr c0 trm   hl\" ><div class=\"lbl c0 trm hl\" ><span class=\"txtt\">il</span></div><div class='features'><span class=\"atf xft\" ><span class=\"f\">atf=</span>il</span></div></div></div></div></div></div></div></div></div>"
      ],
      "text/plain": [
       "<IPython.core.display.HTML object>"
      ]
     },
     "metadata": {},
     "output_type": "display_data"
    },
    {
     "data": {
      "text/markdown": [
       "---\n",
       "# cluster: excised\n",
       "\n",
       "Location: P373056 obverse:11"
      ],
      "text/plain": [
       "<IPython.core.display.Markdown object>"
      ]
     },
     "metadata": {},
     "output_type": "display_data"
    },
    {
     "name": "stdout",
     "output_type": "stream",
     "text": [
      "11. pu-ru#-us# a-na-ku i-na <<i-na>>\n"
     ]
    },
    {
     "data": {
      "text/html": [
       "<div class=\"\"><span class=\"section \"><a target=\"_blank\" href=\"https://cdli.ucla.edu/search/search_results.php?SearchMode=Text&amp;ObjectID=P373056\" title=\"Show this document on CDLI\" sec=\"P373056 obverse:11\">P373056 obverse:11</a></span>  <span class=\"txtt\"><span class=\"r\">pu</span>-</span><span class=\"txtt\"><span class=\"damage\"><span class=\"r\">ru</span></span>-</span><span class=\"txtt\"><span class=\"damage\"><span class=\"r\">us</span></span> </span><span class=\"txtt\"><span class=\"r\">a</span>-</span><span class=\"txtt\"><span class=\"r\">na</span>-</span><span class=\"txtt\"><span class=\"r\">ku</span> </span><span class=\"txtt\"><span class=\"r\">i</span>-</span><span class=\"txtt\"><span class=\"r\">na</span> </span><span class=\"plain   hl\" ><span class=\"txtt\"><span class=\"excised\"><span class=\"r\">i</span></span>-</span></span><span class=\"plain   hl\" ><span class=\"txtt\"><span class=\"excised\"><span class=\"r\">na</span></span></span></span></div>"
      ],
      "text/plain": [
       "<IPython.core.display.HTML object>"
      ]
     },
     "metadata": {},
     "output_type": "display_data"
    },
    {
     "data": {
      "text/html": [
       "<div class=\"\"><span class=\"section \"><a target=\"_blank\" href=\"https://cdli.ucla.edu/search/search_results.php?SearchMode=Text&amp;ObjectID=P373056\" title=\"Show this document on CDLI\" sec=\"P373056 obverse:11\">P373056 obverse:11</a></span>  <span class=\"txtu akk\"><span class=\"r\">𒁍</span></span><span class=\"txtu akk\"><span class=\"damage\"><span class=\"r\">𒊒</span></span></span><span class=\"txtu akk\"><span class=\"damage\"><span class=\"r\">𒊻</span></span> </span><span class=\"txtu akk\"><span class=\"r\">𒀀</span></span><span class=\"txtu akk\"><span class=\"r\">𒈾</span></span><span class=\"txtu akk\"><span class=\"r\">𒆪</span> </span><span class=\"txtu akk\"><span class=\"r\">𒄿</span></span><span class=\"txtu akk\"><span class=\"r\">𒈾</span> </span><span class=\"plain   hl\" ><span class=\"txtu akk\"><span class=\"excised\"><span class=\"r\">𒄿</span></span></span></span><span class=\"plain   hl\" ><span class=\"txtu akk\"><span class=\"excised\"><span class=\"r\">𒈾</span></span></span></span></div>"
      ],
      "text/plain": [
       "<IPython.core.display.HTML object>"
      ]
     },
     "metadata": {},
     "output_type": "display_data"
    },
    {
     "data": {
      "text/html": [
       "<div class=\"section \"><a target=\"_blank\" href=\"https://cdli.ucla.edu/search/search_results.php?SearchMode=Text&amp;ObjectID=P373056\" title=\"Show this document on CDLI\" sec=\"P373056 obverse:11\">P373056 obverse:11</a></div><div class=\" children\"><div class=\"contnr c3    \" ><div class=\"lbl c3  \" ><span class=\"nd\">line</span></div><div class=\"children hor wrap \"><div class=\"contnr c2    \" ><div class=\"lbl c2  \" ><span class=\"nd\">word</span> <span class=\"txtt\">pu-ru-us </span></div><div class='features'><span class=\"atf xft\" ><span class=\"f\">atf=</span>pu-ru#-us#</span></div><div class=\"children hor  \"><div class=\"contnr c0 trm   \" ><div class=\"lbl c0 trm \" ><span class=\"txtt\">pu-</span></div><div class='features'><span class=\"atf xft\" ><span class=\"f\">atf=</span>pu</span></div></div><div class=\"contnr c0 trm   \" ><div class=\"lbl c0 trm \" ><span class=\"txtt\">ru-</span></div><div class='features'><span class=\"atf xft\" ><span class=\"f\">atf=</span>ru#</span></div></div><div class=\"contnr c0 trm   \" ><div class=\"lbl c0 trm \" ><span class=\"txtt\">us </span></div><div class='features'><span class=\"atf xft\" ><span class=\"f\">atf=</span>us#</span></div></div></div></div><div class=\"contnr c2    \" ><div class=\"lbl c2  \" ><span class=\"nd\">word</span> <span class=\"txtt\">a-na-ku </span></div><div class='features'><span class=\"atf xft\" ><span class=\"f\">atf=</span>a-na-ku</span></div><div class=\"children hor  \"><div class=\"contnr c0 trm   \" ><div class=\"lbl c0 trm \" ><span class=\"txtt\">a-</span></div><div class='features'><span class=\"atf xft\" ><span class=\"f\">atf=</span>a</span></div></div><div class=\"contnr c0 trm   \" ><div class=\"lbl c0 trm \" ><span class=\"txtt\">na-</span></div><div class='features'><span class=\"atf xft\" ><span class=\"f\">atf=</span>na</span></div></div><div class=\"contnr c0 trm   \" ><div class=\"lbl c0 trm \" ><span class=\"txtt\">ku </span></div><div class='features'><span class=\"atf xft\" ><span class=\"f\">atf=</span>ku</span></div></div></div></div><div class=\"contnr c2    \" ><div class=\"lbl c2  \" ><span class=\"nd\">word</span> <span class=\"txtt\">i-na </span></div><div class='features'><span class=\"atf xft\" ><span class=\"f\">atf=</span>i-na</span></div><div class=\"children hor  \"><div class=\"contnr c0 trm   \" ><div class=\"lbl c0 trm \" ><span class=\"txtt\">i-</span></div><div class='features'><span class=\"atf xft\" ><span class=\"f\">atf=</span>i</span></div></div><div class=\"contnr c0 trm   \" ><div class=\"lbl c0 trm \" ><span class=\"txtt\">na </span></div><div class='features'><span class=\"atf xft\" ><span class=\"f\">atf=</span>na</span></div></div></div></div><div class=\"contnr c2    \" ><div class=\"lbl c2  \" ><span class=\"nd\">word</span> <span class=\"txtt\">i-na</span></div><div class='features'><span class=\"atf xft\" ><span class=\"f\">atf=</span>&lt;&lt;i-na>></span></div><div class=\"children hor  \"><div class=\"contnr c1    \" ><div class=\"lbl c1  \" ><span class=\"nd\">cluster</span></div><div class=\"children hor wrap \"><div class=\"contnr c0 trm   hl\" ><div class=\"lbl c0 trm hl\" ><span class=\"txtt\">i-</span></div><div class='features'><span class=\"atf xft\" ><span class=\"f\">atf=</span>i</span></div></div><div class=\"contnr c0 trm   hl\" ><div class=\"lbl c0 trm hl\" ><span class=\"txtt\">na</span></div><div class='features'><span class=\"atf xft\" ><span class=\"f\">atf=</span>na</span></div></div></div></div></div></div></div></div></div>"
      ],
      "text/plain": [
       "<IPython.core.display.HTML object>"
      ]
     },
     "metadata": {},
     "output_type": "display_data"
    },
    {
     "data": {
      "text/markdown": [
       "---\n",
       "# flag: damage\n",
       "\n",
       "Location: P510536 obverse:8"
      ],
      "text/plain": [
       "<IPython.core.display.Markdown object>"
      ]
     },
     "metadata": {},
     "output_type": "display_data"
    },
    {
     "name": "stdout",
     "output_type": "stream",
     "text": [
      "8. tup#-pi2# ARAD#-i3-li2-szu# [is3-ni]-qa2#-am#\n"
     ]
    },
    {
     "data": {
      "text/html": [
       "<div class=\"\"><span class=\"section \"><a target=\"_blank\" href=\"https://cdli.ucla.edu/search/search_results.php?SearchMode=Text&amp;ObjectID=P510536\" title=\"Show this document on CDLI\" sec=\"P510536 obverse:8\">P510536 obverse:8</a></span>  <span class=\"plain   hl\" ><span class=\"txtt\"><span class=\"damage\"><span class=\"r\">tup</span></span>-</span></span><span class=\"plain   hl\" ><span class=\"txtt\"><span class=\"damage\"><span class=\"r\">pi₂</span></span> </span></span><span class=\"plain   hl\" ><span class=\"txtt\"><span class=\"damage\"><span class=\"g\">ARAD</span></span>-</span></span><span class=\"txtt\"><span class=\"r\">i₃</span>-</span><span class=\"txtt\"><span class=\"r\">li₂</span>-</span><span class=\"plain   hl\" ><span class=\"txtt\"><span class=\"damage\"><span class=\"r\">šu</span></span> </span></span><span class=\"txtt\"><span class=\"missing\"><span class=\"r\">is₃</span></span>-</span><span class=\"txtt\"><span class=\"missing\"><span class=\"r\">ni</span></span>-</span><span class=\"plain   hl\" ><span class=\"txtt\"><span class=\"damage\"><span class=\"r\">qa₂</span></span>-</span></span><span class=\"plain   hl\" ><span class=\"txtt\"><span class=\"damage\"><span class=\"r\">am</span></span></span></span></div>"
      ],
      "text/plain": [
       "<IPython.core.display.HTML object>"
      ]
     },
     "metadata": {},
     "output_type": "display_data"
    },
    {
     "data": {
      "text/html": [
       "<div class=\"\"><span class=\"section \"><a target=\"_blank\" href=\"https://cdli.ucla.edu/search/search_results.php?SearchMode=Text&amp;ObjectID=P510536\" title=\"Show this document on CDLI\" sec=\"P510536 obverse:8\">P510536 obverse:8</a></span>  <span class=\"plain   hl\" ><span class=\"txtu akk\"><span class=\"damage\"><span class=\"r\">𒁾</span></span></span></span><span class=\"plain   hl\" ><span class=\"txtu akk\"><span class=\"damage\"><span class=\"r\">𒁉</span></span> </span></span><span class=\"plain   hl\" ><span class=\"txtu akk\"><span class=\"damage\"><span class=\"g\">𒀴</span></span></span></span><span class=\"txtu akk\"><span class=\"r\">𒉌</span></span><span class=\"txtu akk\"><span class=\"r\">𒉌</span></span><span class=\"plain   hl\" ><span class=\"txtu akk\"><span class=\"damage\"><span class=\"r\">𒋗</span></span> </span></span><span class=\"txtu akk\"><span class=\"missing\"><span class=\"r\">𒀊</span></span></span><span class=\"txtu akk\"><span class=\"missing\"><span class=\"r\">𒉌</span></span></span><span class=\"plain   hl\" ><span class=\"txtu akk\"><span class=\"damage\"><span class=\"r\">𒂵</span></span></span></span><span class=\"plain   hl\" ><span class=\"txtu akk\"><span class=\"damage\"><span class=\"r\">𒄠</span></span></span></span></div>"
      ],
      "text/plain": [
       "<IPython.core.display.HTML object>"
      ]
     },
     "metadata": {},
     "output_type": "display_data"
    },
    {
     "data": {
      "text/html": [
       "<div class=\"section \"><a target=\"_blank\" href=\"https://cdli.ucla.edu/search/search_results.php?SearchMode=Text&amp;ObjectID=P510536\" title=\"Show this document on CDLI\" sec=\"P510536 obverse:8\">P510536 obverse:8</a></div><div class=\" children\"><div class=\"contnr c3    \" ><div class=\"lbl c3  \" ><span class=\"nd\">line</span></div><div class=\"children hor wrap \"><div class=\"contnr c2    \" ><div class=\"lbl c2  \" ><span class=\"nd\">word</span> <span class=\"txtt\">tup-pi₂ </span></div><div class='features'><span class=\"atf xft\" ><span class=\"f\">atf=</span>tup#-pi2#</span></div><div class=\"children hor  \"><div class=\"contnr c0 trm   hl\" ><div class=\"lbl c0 trm hl\" ><span class=\"txtt\">tup-</span></div><div class='features'><span class=\"atf xft\" ><span class=\"f\">atf=</span>tup#</span></div></div><div class=\"contnr c0 trm   hl\" ><div class=\"lbl c0 trm hl\" ><span class=\"txtt\">pi₂ </span></div><div class='features'><span class=\"atf xft\" ><span class=\"f\">atf=</span>pi2#</span></div></div></div></div><div class=\"contnr c2    \" ><div class=\"lbl c2  \" ><span class=\"nd\">word</span> <span class=\"txtt\">ARAD-i₃-li₂-šu </span></div><div class='features'><span class=\"atf xft\" ><span class=\"f\">atf=</span>ARAD#-i3-li2-szu#</span></div><div class=\"children hor  \"><div class=\"contnr c0 trm   hl\" ><div class=\"lbl c0 trm hl\" ><span class=\"txtt\">ARAD-</span></div><div class='features'><span class=\"atf xft\" ><span class=\"f\">atf=</span>ARAD#</span></div></div><div class=\"contnr c0 trm   \" ><div class=\"lbl c0 trm \" ><span class=\"txtt\">i₃-</span></div><div class='features'><span class=\"atf xft\" ><span class=\"f\">atf=</span>i3</span></div></div><div class=\"contnr c0 trm   \" ><div class=\"lbl c0 trm \" ><span class=\"txtt\">li₂-</span></div><div class='features'><span class=\"atf xft\" ><span class=\"f\">atf=</span>li2</span></div></div><div class=\"contnr c0 trm   hl\" ><div class=\"lbl c0 trm hl\" ><span class=\"txtt\">šu </span></div><div class='features'><span class=\"atf xft\" ><span class=\"f\">atf=</span>szu#</span></div></div></div></div><div class=\"contnr c2    \" ><div class=\"lbl c2  \" ><span class=\"nd\">word</span> <span class=\"txtt\">is₃-ni-qa₂-am</span></div><div class='features'><span class=\"atf xft\" ><span class=\"f\">atf=</span>[is3-ni]-qa2#-am#</span></div><div class=\"children hor  \"><div class=\"contnr c1    \" ><div class=\"lbl c1  \" ><span class=\"nd\">cluster</span></div><div class=\"children hor wrap \"><div class=\"contnr c0 trm   \" ><div class=\"lbl c0 trm \" ><span class=\"txtt\">is₃-</span></div><div class='features'><span class=\"atf xft\" ><span class=\"f\">atf=</span>is3</span></div></div><div class=\"contnr c0 trm   \" ><div class=\"lbl c0 trm \" ><span class=\"txtt\">ni-</span></div><div class='features'><span class=\"atf xft\" ><span class=\"f\">atf=</span>ni</span></div></div></div></div><div class=\"contnr c0 trm   hl\" ><div class=\"lbl c0 trm hl\" ><span class=\"txtt\">qa₂-</span></div><div class='features'><span class=\"atf xft\" ><span class=\"f\">atf=</span>qa2#</span></div></div><div class=\"contnr c0 trm   hl\" ><div class=\"lbl c0 trm hl\" ><span class=\"txtt\">am</span></div><div class='features'><span class=\"atf xft\" ><span class=\"f\">atf=</span>am#</span></div></div></div></div></div></div></div>"
      ],
      "text/plain": [
       "<IPython.core.display.HTML object>"
      ]
     },
     "metadata": {},
     "output_type": "display_data"
    },
    {
     "data": {
      "text/markdown": [
       "---\n",
       "# flag: question\n",
       "\n",
       "Location: P297171 reverse:1"
      ],
      "text/plain": [
       "<IPython.core.display.Markdown object>"
      ]
     },
     "metadata": {},
     "output_type": "display_data"
    },
    {
     "name": "stdout",
     "output_type": "stream",
     "text": [
      "1. ki-ma UD?-AD?-DI? i-na-ad-di-[x]\n"
     ]
    },
    {
     "data": {
      "text/html": [
       "<div class=\"\"><span class=\"section \"><a target=\"_blank\" href=\"https://cdli.ucla.edu/search/search_results.php?SearchMode=Text&amp;ObjectID=P297171\" title=\"Show this document on CDLI\" sec=\"P297171 reverse:1\">P297171 reverse:1</a></span>  <span class=\"txtt\"><span class=\"r\">ki</span>-</span><span class=\"txtt\"><span class=\"r\">ma</span> </span><span class=\"plain   hl\" ><span class=\"txtt\"><span class=\"question\"><span class=\"g\">UD</span></span>-</span></span><span class=\"plain   hl\" ><span class=\"txtt\"><span class=\"question\"><span class=\"g\">AD</span></span>-</span></span><span class=\"plain   hl\" ><span class=\"txtt\"><span class=\"question\"><span class=\"g\">DI</span></span> </span></span><span class=\"txtt\"><span class=\"r\">i</span>-</span><span class=\"txtt\"><span class=\"r\">na</span>-</span><span class=\"txtt\"><span class=\"r\">ad</span>-</span><span class=\"txtt\"><span class=\"r\">di</span>-</span><span class=\"txtt\"><span class=\"missing\"><span class=\"uncertain\"><span class=\"r\">x</span></span></span></span></div>"
      ],
      "text/plain": [
       "<IPython.core.display.HTML object>"
      ]
     },
     "metadata": {},
     "output_type": "display_data"
    },
    {
     "data": {
      "text/html": [
       "<div class=\"\"><span class=\"section \"><a target=\"_blank\" href=\"https://cdli.ucla.edu/search/search_results.php?SearchMode=Text&amp;ObjectID=P297171\" title=\"Show this document on CDLI\" sec=\"P297171 reverse:1\">P297171 reverse:1</a></span>  <span class=\"txtu akk\"><span class=\"r\">𒆠</span></span><span class=\"txtu akk\"><span class=\"r\">𒈠</span> </span><span class=\"plain   hl\" ><span class=\"txtu akk\"><span class=\"question\"><span class=\"g\">𒌓</span></span></span></span><span class=\"plain   hl\" ><span class=\"txtu akk\"><span class=\"question\"><span class=\"g\">𒀜</span></span></span></span><span class=\"plain   hl\" ><span class=\"txtu akk\"><span class=\"question\"><span class=\"g\">𒁲</span></span> </span></span><span class=\"txtu akk\"><span class=\"r\">𒄿</span></span><span class=\"txtu akk\"><span class=\"r\">𒈾</span></span><span class=\"txtu akk\"><span class=\"r\">𒀜</span></span><span class=\"txtu akk\"><span class=\"r\">𒁲</span></span><span class=\"txtu akk\"><span class=\"missing\"><span class=\"uncertain\"><span class=\"r\">x</span></span></span></span></div>"
      ],
      "text/plain": [
       "<IPython.core.display.HTML object>"
      ]
     },
     "metadata": {},
     "output_type": "display_data"
    },
    {
     "data": {
      "text/html": [
       "<div class=\"section \"><a target=\"_blank\" href=\"https://cdli.ucla.edu/search/search_results.php?SearchMode=Text&amp;ObjectID=P297171\" title=\"Show this document on CDLI\" sec=\"P297171 reverse:1\">P297171 reverse:1</a></div><div class=\" children\"><div class=\"contnr c3    \" ><div class=\"lbl c3  \" ><span class=\"nd\">line</span></div><div class=\"children hor wrap \"><div class=\"contnr c2    \" ><div class=\"lbl c2  \" ><span class=\"nd\">word</span> <span class=\"txtt\">ki-ma </span></div><div class='features'><span class=\"atf xft\" ><span class=\"f\">atf=</span>ki-ma</span></div><div class=\"children hor  \"><div class=\"contnr c0 trm   \" ><div class=\"lbl c0 trm \" ><span class=\"txtt\">ki-</span></div><div class='features'><span class=\"atf xft\" ><span class=\"f\">atf=</span>ki</span></div></div><div class=\"contnr c0 trm   \" ><div class=\"lbl c0 trm \" ><span class=\"txtt\">ma </span></div><div class='features'><span class=\"atf xft\" ><span class=\"f\">atf=</span>ma</span></div></div></div></div><div class=\"contnr c2    \" ><div class=\"lbl c2  \" ><span class=\"nd\">word</span> <span class=\"txtt\">UD-AD-DI </span></div><div class='features'><span class=\"atf xft\" ><span class=\"f\">atf=</span>UD?-AD?-DI?</span></div><div class=\"children hor  \"><div class=\"contnr c0 trm   hl\" ><div class=\"lbl c0 trm hl\" ><span class=\"txtt\">UD-</span></div><div class='features'><span class=\"atf xft\" ><span class=\"f\">atf=</span>UD?</span></div></div><div class=\"contnr c0 trm   hl\" ><div class=\"lbl c0 trm hl\" ><span class=\"txtt\">AD-</span></div><div class='features'><span class=\"atf xft\" ><span class=\"f\">atf=</span>AD?</span></div></div><div class=\"contnr c0 trm   hl\" ><div class=\"lbl c0 trm hl\" ><span class=\"txtt\">DI </span></div><div class='features'><span class=\"atf xft\" ><span class=\"f\">atf=</span>DI?</span></div></div></div></div><div class=\"contnr c2    \" ><div class=\"lbl c2  \" ><span class=\"nd\">word</span> <span class=\"txtt\">i-na-ad-di-x</span></div><div class='features'><span class=\"atf xft\" ><span class=\"f\">atf=</span>i-na-ad-di-[x]</span></div><div class=\"children hor  \"><div class=\"contnr c0 trm   \" ><div class=\"lbl c0 trm \" ><span class=\"txtt\">i-</span></div><div class='features'><span class=\"atf xft\" ><span class=\"f\">atf=</span>i</span></div></div><div class=\"contnr c0 trm   \" ><div class=\"lbl c0 trm \" ><span class=\"txtt\">na-</span></div><div class='features'><span class=\"atf xft\" ><span class=\"f\">atf=</span>na</span></div></div><div class=\"contnr c0 trm   \" ><div class=\"lbl c0 trm \" ><span class=\"txtt\">ad-</span></div><div class='features'><span class=\"atf xft\" ><span class=\"f\">atf=</span>ad</span></div></div><div class=\"contnr c0 trm   \" ><div class=\"lbl c0 trm \" ><span class=\"txtt\">di-</span></div><div class='features'><span class=\"atf xft\" ><span class=\"f\">atf=</span>di</span></div></div><div class=\"contnr c1    \" ><div class=\"lbl c1  \" ><span class=\"nd\">cluster</span></div><div class=\"children hor wrap \"><div class=\"contnr c0 trm   \" ><div class=\"lbl c0 trm \" ><span class=\"txtt\">x</span></div><div class='features'><span class=\"atf xft\" ><span class=\"f\">atf=</span>x</span></div></div></div></div></div></div></div></div></div>"
      ],
      "text/plain": [
       "<IPython.core.display.HTML object>"
      ]
     },
     "metadata": {},
     "output_type": "display_data"
    },
    {
     "data": {
      "text/markdown": [
       "---\n",
       "# flag: remarkable\n",
       "\n",
       "Location: P510536 obverse:15"
      ],
      "text/plain": [
       "<IPython.core.display.Markdown object>"
      ]
     },
     "metadata": {},
     "output_type": "display_data"
    },
    {
     "name": "stdout",
     "output_type": "stream",
     "text": [
      "15. _ma2 hi-a_ as-sa3-ki!-ip\n"
     ]
    },
    {
     "data": {
      "text/html": [
       "<div class=\"\"><span class=\"section \"><a target=\"_blank\" href=\"https://cdli.ucla.edu/search/search_results.php?SearchMode=Text&amp;ObjectID=P510536\" title=\"Show this document on CDLI\" sec=\"P510536 obverse:15\">P510536 obverse:15</a></span>  <span class=\"txtt\"><span class=\"langalt\"><span class=\"r\">ma₂</span></span> </span><span class=\"txtt\"><span class=\"langalt\"><span class=\"r\">hi</span></span>-</span><span class=\"txtt\"><span class=\"langalt\"><span class=\"r\">a</span></span> </span><span class=\"txtt\"><span class=\"r\">as</span>-</span><span class=\"txtt\"><span class=\"r\">sa₃</span>-</span><span class=\"plain   hl\" ><span class=\"txtt\"><span class=\"remarkable\"><span class=\"r\">ki</span></span>-</span></span><span class=\"txtt\"><span class=\"r\">ip</span></span></div>"
      ],
      "text/plain": [
       "<IPython.core.display.HTML object>"
      ]
     },
     "metadata": {},
     "output_type": "display_data"
    },
    {
     "data": {
      "text/html": [
       "<div class=\"\"><span class=\"section \"><a target=\"_blank\" href=\"https://cdli.ucla.edu/search/search_results.php?SearchMode=Text&amp;ObjectID=P510536\" title=\"Show this document on CDLI\" sec=\"P510536 obverse:15\">P510536 obverse:15</a></span>  <span class=\"txtu akk\"><span class=\"langalt\"><span class=\"r\">𒈣</span></span> </span><span class=\"txtu akk\"><span class=\"langalt\"><span class=\"r\">𒄭</span></span></span><span class=\"txtu akk\"><span class=\"langalt\"><span class=\"r\">𒀀</span></span> </span><span class=\"txtu akk\"><span class=\"r\">𒊍</span></span><span class=\"txtu akk\"><span class=\"r\">𒍝</span></span><span class=\"plain   hl\" ><span class=\"txtu akk\"><span class=\"remarkable\"><span class=\"r\">𒆠</span></span></span></span><span class=\"txtu akk\"><span class=\"r\">𒅁</span></span></div>"
      ],
      "text/plain": [
       "<IPython.core.display.HTML object>"
      ]
     },
     "metadata": {},
     "output_type": "display_data"
    },
    {
     "data": {
      "text/html": [
       "<div class=\"section \"><a target=\"_blank\" href=\"https://cdli.ucla.edu/search/search_results.php?SearchMode=Text&amp;ObjectID=P510536\" title=\"Show this document on CDLI\" sec=\"P510536 obverse:15\">P510536 obverse:15</a></div><div class=\" children\"><div class=\"contnr c3    \" ><div class=\"lbl c3  \" ><span class=\"nd\">line</span></div><div class=\"children hor wrap \"><div class=\"contnr c2    \" ><div class=\"lbl c2  \" ><span class=\"nd\">word</span> <span class=\"txtt\">ma₂ </span></div><div class='features'><span class=\"atf xft\" ><span class=\"f\">atf=</span>_ma2</span></div><div class=\"children hor  \"><div class=\"contnr c1   rno \" ><div class=\"lbl c1  \" ><span class=\"nd\">cluster</span></div><div class=\"children hor wrap \"><div class=\"contnr c0 trm   \" ><div class=\"lbl c0 trm \" ><span class=\"txtt\">ma₂ </span></div><div class='features'><span class=\"atf xft\" ><span class=\"f\">atf=</span>ma2</span></div></div></div></div></div></div><div class=\"contnr c2    \" ><div class=\"lbl c2  \" ><span class=\"nd\">word</span> <span class=\"txtt\">hi-a </span></div><div class='features'><span class=\"atf xft\" ><span class=\"f\">atf=</span>hi-a_</span></div><div class=\"children hor  \"><div class=\"contnr c1   lno \" ><div class=\"lbl c1  \" ><span class=\"nd\">cluster</span></div><div class=\"children hor wrap \"><div class=\"contnr c0 trm   \" ><div class=\"lbl c0 trm \" ><span class=\"txtt\">hi-</span></div><div class='features'><span class=\"atf xft\" ><span class=\"f\">atf=</span>hi</span></div></div><div class=\"contnr c0 trm   \" ><div class=\"lbl c0 trm \" ><span class=\"txtt\">a </span></div><div class='features'><span class=\"atf xft\" ><span class=\"f\">atf=</span>a</span></div></div></div></div></div></div><div class=\"contnr c2    \" ><div class=\"lbl c2  \" ><span class=\"nd\">word</span> <span class=\"txtt\">as-sa₃-ki-ip</span></div><div class='features'><span class=\"atf xft\" ><span class=\"f\">atf=</span>as-sa3-ki!-ip</span></div><div class=\"children hor  \"><div class=\"contnr c0 trm   \" ><div class=\"lbl c0 trm \" ><span class=\"txtt\">as-</span></div><div class='features'><span class=\"atf xft\" ><span class=\"f\">atf=</span>as</span></div></div><div class=\"contnr c0 trm   \" ><div class=\"lbl c0 trm \" ><span class=\"txtt\">sa₃-</span></div><div class='features'><span class=\"atf xft\" ><span class=\"f\">atf=</span>sa3</span></div></div><div class=\"contnr c0 trm   hl\" ><div class=\"lbl c0 trm hl\" ><span class=\"txtt\">ki-</span></div><div class='features'><span class=\"atf xft\" ><span class=\"f\">atf=</span>ki!</span></div></div><div class=\"contnr c0 trm   \" ><div class=\"lbl c0 trm \" ><span class=\"txtt\">ip</span></div><div class='features'><span class=\"atf xft\" ><span class=\"f\">atf=</span>ip</span></div></div></div></div></div></div></div>"
      ],
      "text/plain": [
       "<IPython.core.display.HTML object>"
      ]
     },
     "metadata": {},
     "output_type": "display_data"
    },
    {
     "data": {
      "text/markdown": [
       "---\n",
       "# flag: collated\n",
       "\n",
       "Location: P387299 obverse:5"
      ],
      "text/plain": [
       "<IPython.core.display.Markdown object>"
      ]
     },
     "metadata": {},
     "output_type": "display_data"
    },
    {
     "name": "stdout",
     "output_type": "stream",
     "text": [
      "5. _8(gesz2)* sze gur_ i-ib-szu-u2\n"
     ]
    },
    {
     "data": {
      "text/html": [
       "<div class=\"\"><span class=\"section \"><a target=\"_blank\" href=\"https://cdli.ucla.edu/search/search_results.php?SearchMode=Text&amp;ObjectID=P387299\" title=\"Show this document on CDLI\" sec=\"P387299 obverse:5\">P387299 obverse:5</a></span>  <span class=\"plain   hl\" ><span class=\"txtt\"><span class=\"langalt\"><span class=\"collated\"><span class=\"quantity\">8</span>⌈<span class=\"r\">geš₂</span>⌉</span></span> </span></span><span class=\"txtt\"><span class=\"langalt\"><span class=\"r\">še</span></span> </span><span class=\"txtt\"><span class=\"langalt\"><span class=\"r\">gur</span></span> </span><span class=\"txtt\"><span class=\"r\">i</span>-</span><span class=\"txtt\"><span class=\"r\">ib</span>-</span><span class=\"txtt\"><span class=\"r\">šu</span>-</span><span class=\"txtt\"><span class=\"r\">u₂</span></span></div>"
      ],
      "text/plain": [
       "<IPython.core.display.HTML object>"
      ]
     },
     "metadata": {},
     "output_type": "display_data"
    },
    {
     "data": {
      "text/html": [
       "<div class=\"\"><span class=\"section \"><a target=\"_blank\" href=\"https://cdli.ucla.edu/search/search_results.php?SearchMode=Text&amp;ObjectID=P387299\" title=\"Show this document on CDLI\" sec=\"P387299 obverse:5\">P387299 obverse:5</a></span>  <span class=\"plain   hl\" ><span class=\"txtu akk\"><span class=\"langalt\"><span class=\"collated\">𒐜</span></span> </span></span><span class=\"txtu akk\"><span class=\"langalt\"><span class=\"r\">𒊺</span></span> </span><span class=\"txtu akk\"><span class=\"langalt\"><span class=\"r\">𒄥</span></span> </span><span class=\"txtu akk\"><span class=\"r\">𒄿</span></span><span class=\"txtu akk\"><span class=\"r\">𒅁</span></span><span class=\"txtu akk\"><span class=\"r\">𒋗</span></span><span class=\"txtu akk\"><span class=\"r\">𒌑</span></span></div>"
      ],
      "text/plain": [
       "<IPython.core.display.HTML object>"
      ]
     },
     "metadata": {},
     "output_type": "display_data"
    },
    {
     "data": {
      "text/html": [
       "<div class=\"section \"><a target=\"_blank\" href=\"https://cdli.ucla.edu/search/search_results.php?SearchMode=Text&amp;ObjectID=P387299\" title=\"Show this document on CDLI\" sec=\"P387299 obverse:5\">P387299 obverse:5</a></div><div class=\" children\"><div class=\"contnr c3    \" ><div class=\"lbl c3  \" ><span class=\"nd\">line</span></div><div class=\"children hor wrap \"><div class=\"contnr c2    \" ><div class=\"lbl c2  \" ><span class=\"nd\">word</span> <span class=\"txtt\">8(geš₂) </span></div><div class='features'><span class=\"atf xft\" ><span class=\"f\">atf=</span>_8(gesz2)*</span></div><div class=\"children hor  \"><div class=\"contnr c1   rno \" ><div class=\"lbl c1  \" ><span class=\"nd\">cluster</span></div><div class=\"children hor wrap \"><div class=\"contnr c0 trm   hl\" ><div class=\"lbl c0 trm hl\" ><span class=\"txtt\">8(geš₂) </span></div><div class='features'><span class=\"atf xft\" ><span class=\"f\">atf=</span>8(gesz2)*</span></div></div></div></div></div></div><div class=\"contnr c2    \" ><div class=\"lbl c2  \" ><span class=\"nd\">word</span> <span class=\"txtt\">še </span></div><div class='features'><span class=\"atf xft\" ><span class=\"f\">atf=</span>sze</span></div><div class=\"children hor  \"><div class=\"contnr c1   lno rno \" ><div class=\"lbl c1  \" ><span class=\"nd\">cluster</span></div><div class=\"children hor wrap \"><div class=\"contnr c0 trm   \" ><div class=\"lbl c0 trm \" ><span class=\"txtt\">še </span></div><div class='features'><span class=\"atf xft\" ><span class=\"f\">atf=</span>sze</span></div></div></div></div></div></div><div class=\"contnr c2    \" ><div class=\"lbl c2  \" ><span class=\"nd\">word</span> <span class=\"txtt\">gur </span></div><div class='features'><span class=\"atf xft\" ><span class=\"f\">atf=</span>gur_</span></div><div class=\"children hor  \"><div class=\"contnr c1   lno \" ><div class=\"lbl c1  \" ><span class=\"nd\">cluster</span></div><div class=\"children hor wrap \"><div class=\"contnr c0 trm   \" ><div class=\"lbl c0 trm \" ><span class=\"txtt\">gur </span></div><div class='features'><span class=\"atf xft\" ><span class=\"f\">atf=</span>gur</span></div></div></div></div></div></div><div class=\"contnr c2    \" ><div class=\"lbl c2  \" ><span class=\"nd\">word</span> <span class=\"txtt\">i-ib-šu-u₂</span></div><div class='features'><span class=\"atf xft\" ><span class=\"f\">atf=</span>i-ib-szu-u2</span></div><div class=\"children hor  \"><div class=\"contnr c0 trm   \" ><div class=\"lbl c0 trm \" ><span class=\"txtt\">i-</span></div><div class='features'><span class=\"atf xft\" ><span class=\"f\">atf=</span>i</span></div></div><div class=\"contnr c0 trm   \" ><div class=\"lbl c0 trm \" ><span class=\"txtt\">ib-</span></div><div class='features'><span class=\"atf xft\" ><span class=\"f\">atf=</span>ib</span></div></div><div class=\"contnr c0 trm   \" ><div class=\"lbl c0 trm \" ><span class=\"txtt\">šu-</span></div><div class='features'><span class=\"atf xft\" ><span class=\"f\">atf=</span>szu</span></div></div><div class=\"contnr c0 trm   \" ><div class=\"lbl c0 trm \" ><span class=\"txtt\">u₂</span></div><div class='features'><span class=\"atf xft\" ><span class=\"f\">atf=</span>u2</span></div></div></div></div></div></div></div>"
      ],
      "text/plain": [
       "<IPython.core.display.HTML object>"
      ]
     },
     "metadata": {},
     "output_type": "display_data"
    },
    {
     "data": {
      "text/markdown": [
       "---\n",
       "# flag: damage + question\n",
       "\n",
       "Location: P510534 reverse:20'"
      ],
      "text/plain": [
       "<IPython.core.display.Markdown object>"
      ]
     },
     "metadata": {},
     "output_type": "display_data"
    },
    {
     "name": "stdout",
     "output_type": "stream",
     "text": [
      "20'. li#-il#-qe2#?-[szu-ma?]\n"
     ]
    },
    {
     "data": {
      "text/html": [
       "<div class=\"\"><span class=\"section \"><a target=\"_blank\" href=\"https://cdli.ucla.edu/search/search_results.php?SearchMode=Text&amp;ObjectID=P510534\" title=\"Show this document on CDLI\" sec=\"P510534 reverse:20'\">P510534 reverse:20'</a></span>  <span class=\"txtt\"><span class=\"damage\"><span class=\"r\">li</span></span>-</span><span class=\"txtt\"><span class=\"damage\"><span class=\"r\">il</span></span>-</span><span class=\"plain   hl\" ><span class=\"txtt\"><span class=\"question damage\"><span class=\"r\">qe₂</span></span>-</span></span><span class=\"txtt\"><span class=\"missing\"><span class=\"r\">šu</span></span>-</span><span class=\"txtt\"><span class=\"question missing\"><span class=\"r\">ma</span></span></span></div>"
      ],
      "text/plain": [
       "<IPython.core.display.HTML object>"
      ]
     },
     "metadata": {},
     "output_type": "display_data"
    },
    {
     "data": {
      "text/html": [
       "<div class=\"\"><span class=\"section \"><a target=\"_blank\" href=\"https://cdli.ucla.edu/search/search_results.php?SearchMode=Text&amp;ObjectID=P510534\" title=\"Show this document on CDLI\" sec=\"P510534 reverse:20'\">P510534 reverse:20'</a></span>  <span class=\"txtu akk\"><span class=\"damage\"><span class=\"r\">𒇷</span></span></span><span class=\"txtu akk\"><span class=\"damage\"><span class=\"r\">𒀧</span></span></span><span class=\"plain   hl\" ><span class=\"txtu akk\"><span class=\"question damage\"><span class=\"r\">𒆠</span></span></span></span><span class=\"txtu akk\"><span class=\"missing\"><span class=\"r\">𒋗</span></span></span><span class=\"txtu akk\"><span class=\"question missing\"><span class=\"r\">𒈠</span></span></span></div>"
      ],
      "text/plain": [
       "<IPython.core.display.HTML object>"
      ]
     },
     "metadata": {},
     "output_type": "display_data"
    },
    {
     "data": {
      "text/html": [
       "<div class=\"section \"><a target=\"_blank\" href=\"https://cdli.ucla.edu/search/search_results.php?SearchMode=Text&amp;ObjectID=P510534\" title=\"Show this document on CDLI\" sec=\"P510534 reverse:20'\">P510534 reverse:20'</a></div><div class=\" children\"><div class=\"contnr c3    \" ><div class=\"lbl c3  \" ><span class=\"nd\">line</span></div><div class=\"children hor wrap \"><div class=\"contnr c2    \" ><div class=\"lbl c2  \" ><span class=\"nd\">word</span> <span class=\"txtt\">li-il-qe₂-šu-ma</span></div><div class='features'><span class=\"atf xft\" ><span class=\"f\">atf=</span>li#-il#-qe2#?-[szu-ma?]</span></div><div class=\"children hor  \"><div class=\"contnr c0 trm   \" ><div class=\"lbl c0 trm \" ><span class=\"txtt\">li-</span></div><div class='features'><span class=\"atf xft\" ><span class=\"f\">atf=</span>li#</span></div></div><div class=\"contnr c0 trm   \" ><div class=\"lbl c0 trm \" ><span class=\"txtt\">il-</span></div><div class='features'><span class=\"atf xft\" ><span class=\"f\">atf=</span>il#</span></div></div><div class=\"contnr c0 trm   hl\" ><div class=\"lbl c0 trm hl\" ><span class=\"txtt\">qe₂-</span></div><div class='features'><span class=\"atf xft\" ><span class=\"f\">atf=</span>qe2#?</span></div></div><div class=\"contnr c1    \" ><div class=\"lbl c1  \" ><span class=\"nd\">cluster</span></div><div class=\"children hor wrap \"><div class=\"contnr c0 trm   \" ><div class=\"lbl c0 trm \" ><span class=\"txtt\">šu-</span></div><div class='features'><span class=\"atf xft\" ><span class=\"f\">atf=</span>szu</span></div></div><div class=\"contnr c0 trm   \" ><div class=\"lbl c0 trm \" ><span class=\"txtt\">ma</span></div><div class='features'><span class=\"atf xft\" ><span class=\"f\">atf=</span>ma?</span></div></div></div></div></div></div></div></div></div>"
      ],
      "text/plain": [
       "<IPython.core.display.HTML object>"
      ]
     },
     "metadata": {},
     "output_type": "display_data"
    },
    {
     "data": {
      "text/markdown": [
       "---\n",
       "# flag: damage + remarkable\n",
       "\n",
       "Location: P497780 reverse:4"
      ],
      "text/plain": [
       "<IPython.core.display.Markdown object>"
      ]
     },
     "metadata": {},
     "output_type": "display_data"
    },
    {
     "name": "stdout",
     "output_type": "stream",
     "text": [
      "4. lu#!-usz-ku-un-ma\n"
     ]
    },
    {
     "data": {
      "text/html": [
       "<div class=\"\"><span class=\"section \"><a target=\"_blank\" href=\"https://cdli.ucla.edu/search/search_results.php?SearchMode=Text&amp;ObjectID=P497780\" title=\"Show this document on CDLI\" sec=\"P497780 reverse:4\">P497780 reverse:4</a></span>  <span class=\"plain   hl\" ><span class=\"txtt\"><span class=\"remarkable damage\"><span class=\"r\">lu</span></span>-</span></span><span class=\"txtt\"><span class=\"r\">uš</span>-</span><span class=\"txtt\"><span class=\"r\">ku</span>-</span><span class=\"txtt\"><span class=\"r\">un</span>-</span><span class=\"txtt\"><span class=\"r\">ma</span></span></div>"
      ],
      "text/plain": [
       "<IPython.core.display.HTML object>"
      ]
     },
     "metadata": {},
     "output_type": "display_data"
    },
    {
     "data": {
      "text/html": [
       "<div class=\"\"><span class=\"section \"><a target=\"_blank\" href=\"https://cdli.ucla.edu/search/search_results.php?SearchMode=Text&amp;ObjectID=P497780\" title=\"Show this document on CDLI\" sec=\"P497780 reverse:4\">P497780 reverse:4</a></span>  <span class=\"plain   hl\" ><span class=\"txtu akk\"><span class=\"remarkable damage\"><span class=\"r\">𒇻</span></span></span></span><span class=\"txtu akk\"><span class=\"r\">𒍑</span></span><span class=\"txtu akk\"><span class=\"r\">𒆪</span></span><span class=\"txtu akk\"><span class=\"r\">𒌦</span></span><span class=\"txtu akk\"><span class=\"r\">𒈠</span></span></div>"
      ],
      "text/plain": [
       "<IPython.core.display.HTML object>"
      ]
     },
     "metadata": {},
     "output_type": "display_data"
    },
    {
     "data": {
      "text/html": [
       "<div class=\"section \"><a target=\"_blank\" href=\"https://cdli.ucla.edu/search/search_results.php?SearchMode=Text&amp;ObjectID=P497780\" title=\"Show this document on CDLI\" sec=\"P497780 reverse:4\">P497780 reverse:4</a></div><div class=\" children\"><div class=\"contnr c3    \" ><div class=\"lbl c3  \" ><span class=\"nd\">line</span></div><div class=\"children hor wrap \"><div class=\"contnr c2    \" ><div class=\"lbl c2  \" ><span class=\"nd\">word</span> <span class=\"txtt\">lu-uš-ku-un-ma</span></div><div class='features'><span class=\"atf xft\" ><span class=\"f\">atf=</span>lu#!-usz-ku-un-ma</span></div><div class=\"children hor  \"><div class=\"contnr c0 trm   hl\" ><div class=\"lbl c0 trm hl\" ><span class=\"txtt\">lu-</span></div><div class='features'><span class=\"atf xft\" ><span class=\"f\">atf=</span>lu#!</span></div></div><div class=\"contnr c0 trm   \" ><div class=\"lbl c0 trm \" ><span class=\"txtt\">uš-</span></div><div class='features'><span class=\"atf xft\" ><span class=\"f\">atf=</span>usz</span></div></div><div class=\"contnr c0 trm   \" ><div class=\"lbl c0 trm \" ><span class=\"txtt\">ku-</span></div><div class='features'><span class=\"atf xft\" ><span class=\"f\">atf=</span>ku</span></div></div><div class=\"contnr c0 trm   \" ><div class=\"lbl c0 trm \" ><span class=\"txtt\">un-</span></div><div class='features'><span class=\"atf xft\" ><span class=\"f\">atf=</span>un</span></div></div><div class=\"contnr c0 trm   \" ><div class=\"lbl c0 trm \" ><span class=\"txtt\">ma</span></div><div class='features'><span class=\"atf xft\" ><span class=\"f\">atf=</span>ma</span></div></div></div></div></div></div></div>"
      ],
      "text/plain": [
       "<IPython.core.display.HTML object>"
      ]
     },
     "metadata": {},
     "output_type": "display_data"
    },
    {
     "data": {
      "text/markdown": [
       "---\n",
       "# flag: damage + collated\n",
       "\n",
       "Location: P305744 obverse:10"
      ],
      "text/plain": [
       "<IPython.core.display.Markdown object>"
      ]
     },
     "metadata": {},
     "output_type": "display_data"
    },
    {
     "name": "stdout",
     "output_type": "stream",
     "text": [
      "10. u3 a-na di*-ia#*-[at* t,e*]-e-em\n"
     ]
    },
    {
     "data": {
      "text/html": [
       "<div class=\"\"><span class=\"section \"><a target=\"_blank\" href=\"https://cdli.ucla.edu/search/search_results.php?SearchMode=Text&amp;ObjectID=P305744\" title=\"Show this document on CDLI\" sec=\"P305744 obverse:10\">P305744 obverse:10</a></span>  <span class=\"txtt\"><span class=\"r\">u₃</span> </span><span class=\"txtt\"><span class=\"r\">a</span>-</span><span class=\"txtt\"><span class=\"r\">na</span> </span><span class=\"txtt\"><span class=\"collated\"><span class=\"r\">di</span></span>-</span><span class=\"plain   hl\" ><span class=\"txtt\"><span class=\"collated damage\"><span class=\"r\">ia</span></span>-</span></span><span class=\"txtt\"><span class=\"collated missing\"><span class=\"r\">at</span></span> </span><span class=\"txtt\"><span class=\"collated missing\"><span class=\"r\">ṭe</span></span>-</span><span class=\"txtt\"><span class=\"r\">e</span>-</span><span class=\"txtt\"><span class=\"r\">em</span></span></div>"
      ],
      "text/plain": [
       "<IPython.core.display.HTML object>"
      ]
     },
     "metadata": {},
     "output_type": "display_data"
    },
    {
     "data": {
      "text/html": [
       "<div class=\"\"><span class=\"section \"><a target=\"_blank\" href=\"https://cdli.ucla.edu/search/search_results.php?SearchMode=Text&amp;ObjectID=P305744\" title=\"Show this document on CDLI\" sec=\"P305744 obverse:10\">P305744 obverse:10</a></span>  <span class=\"txtu akk\"><span class=\"r\">𒅇</span> </span><span class=\"txtu akk\"><span class=\"r\">𒀀</span></span><span class=\"txtu akk\"><span class=\"r\">𒈾</span> </span><span class=\"txtu akk\"><span class=\"collated\"><span class=\"r\">𒁲</span></span></span><span class=\"plain   hl\" ><span class=\"txtu akk\"><span class=\"collated damage\"><span class=\"r\">𒅀</span></span></span></span><span class=\"txtu akk\"><span class=\"collated missing\"><span class=\"r\">𒀜</span></span> </span><span class=\"txtu akk\"><span class=\"collated missing\"><span class=\"r\">𒁲</span></span></span><span class=\"txtu akk\"><span class=\"r\">𒂊</span></span><span class=\"txtu akk\"><span class=\"r\">𒅎</span></span></div>"
      ],
      "text/plain": [
       "<IPython.core.display.HTML object>"
      ]
     },
     "metadata": {},
     "output_type": "display_data"
    },
    {
     "data": {
      "text/html": [
       "<div class=\"section \"><a target=\"_blank\" href=\"https://cdli.ucla.edu/search/search_results.php?SearchMode=Text&amp;ObjectID=P305744\" title=\"Show this document on CDLI\" sec=\"P305744 obverse:10\">P305744 obverse:10</a></div><div class=\" children\"><div class=\"contnr c3    \" ><div class=\"lbl c3  \" ><span class=\"nd\">line</span></div><div class=\"children hor wrap \"><div class=\"contnr c2    \" ><div class=\"lbl c2  \" ><span class=\"nd\">word</span> <span class=\"txtt\">u₃ </span></div><div class='features'><span class=\"atf xft\" ><span class=\"f\">atf=</span>u3</span></div><div class=\"children hor  \"><div class=\"contnr c0 trm   \" ><div class=\"lbl c0 trm \" ><span class=\"txtt\">u₃ </span></div><div class='features'><span class=\"atf xft\" ><span class=\"f\">atf=</span>u3</span></div></div></div></div><div class=\"contnr c2    \" ><div class=\"lbl c2  \" ><span class=\"nd\">word</span> <span class=\"txtt\">a-na </span></div><div class='features'><span class=\"atf xft\" ><span class=\"f\">atf=</span>a-na</span></div><div class=\"children hor  \"><div class=\"contnr c0 trm   \" ><div class=\"lbl c0 trm \" ><span class=\"txtt\">a-</span></div><div class='features'><span class=\"atf xft\" ><span class=\"f\">atf=</span>a</span></div></div><div class=\"contnr c0 trm   \" ><div class=\"lbl c0 trm \" ><span class=\"txtt\">na </span></div><div class='features'><span class=\"atf xft\" ><span class=\"f\">atf=</span>na</span></div></div></div></div><div class=\"contnr c2    \" ><div class=\"lbl c2  \" ><span class=\"nd\">word</span> <span class=\"txtt\">di-ia-at </span></div><div class='features'><span class=\"atf xft\" ><span class=\"f\">atf=</span>di*-ia#*-[at*</span></div><div class=\"children hor  \"><div class=\"contnr c0 trm   \" ><div class=\"lbl c0 trm \" ><span class=\"txtt\">di-</span></div><div class='features'><span class=\"atf xft\" ><span class=\"f\">atf=</span>di*</span></div></div><div class=\"contnr c0 trm   hl\" ><div class=\"lbl c0 trm hl\" ><span class=\"txtt\">ia-</span></div><div class='features'><span class=\"atf xft\" ><span class=\"f\">atf=</span>ia#*</span></div></div><div class=\"contnr c1   rno \" ><div class=\"lbl c1  \" ><span class=\"nd\">cluster</span></div><div class=\"children hor wrap \"><div class=\"contnr c0 trm   \" ><div class=\"lbl c0 trm \" ><span class=\"txtt\">at </span></div><div class='features'><span class=\"atf xft\" ><span class=\"f\">atf=</span>at*</span></div></div></div></div></div></div><div class=\"contnr c2    \" ><div class=\"lbl c2  \" ><span class=\"nd\">word</span> <span class=\"txtt\">ṭe-e-em</span></div><div class='features'><span class=\"atf xft\" ><span class=\"f\">atf=</span>t,e*]-e-em</span></div><div class=\"children hor  \"><div class=\"contnr c1   lno \" ><div class=\"lbl c1  \" ><span class=\"nd\">cluster</span></div><div class=\"children hor wrap \"><div class=\"contnr c0 trm   \" ><div class=\"lbl c0 trm \" ><span class=\"txtt\">ṭe-</span></div><div class='features'><span class=\"atf xft\" ><span class=\"f\">atf=</span>t,e*</span></div></div></div></div><div class=\"contnr c0 trm   \" ><div class=\"lbl c0 trm \" ><span class=\"txtt\">e-</span></div><div class='features'><span class=\"atf xft\" ><span class=\"f\">atf=</span>e</span></div></div><div class=\"contnr c0 trm   \" ><div class=\"lbl c0 trm \" ><span class=\"txtt\">em</span></div><div class='features'><span class=\"atf xft\" ><span class=\"f\">atf=</span>em</span></div></div></div></div></div></div></div>"
      ],
      "text/plain": [
       "<IPython.core.display.HTML object>"
      ]
     },
     "metadata": {},
     "output_type": "display_data"
    },
    {
     "data": {
      "text/markdown": [
       "---\n",
       "# flag: collated + remarkable\n",
       "\n",
       "Location: P305799 left side:1"
      ],
      "text/plain": [
       "<IPython.core.display.Markdown object>"
      ]
     },
     "metadata": {},
     "output_type": "display_data"
    },
    {
     "name": "stdout",
     "output_type": "stream",
     "text": [
      "1. ki-ma ta!*-da*-ga!*-li* eb*-szi\n",
      "@left side\n"
     ]
    },
    {
     "data": {
      "text/html": [
       "<div class=\"\"><span class=\"section \"><a target=\"_blank\" href=\"https://cdli.ucla.edu/search/search_results.php?SearchMode=Text&amp;ObjectID=P305799\" title=\"Show this document on CDLI\" sec=\"P305799 left side:1\">P305799 left side:1</a></span>  <span class=\"txtt\"><span class=\"r\">ki</span>-</span><span class=\"txtt\"><span class=\"r\">ma</span> </span><span class=\"plain   hl\" ><span class=\"txtt\"><span class=\"collated remarkable\"><span class=\"r\">ta</span></span>-</span></span><span class=\"txtt\"><span class=\"collated\"><span class=\"r\">da</span></span>-</span><span class=\"plain   hl\" ><span class=\"txtt\"><span class=\"collated remarkable\"><span class=\"r\">ga</span></span>-</span></span><span class=\"txtt\"><span class=\"collated\"><span class=\"r\">li</span></span> </span><span class=\"txtt\"><span class=\"collated\"><span class=\"r\">eb</span></span>-</span><span class=\"txtt\"><span class=\"r\">ši</span></span></div>"
      ],
      "text/plain": [
       "<IPython.core.display.HTML object>"
      ]
     },
     "metadata": {},
     "output_type": "display_data"
    },
    {
     "data": {
      "text/html": [
       "<div class=\"\"><span class=\"section \"><a target=\"_blank\" href=\"https://cdli.ucla.edu/search/search_results.php?SearchMode=Text&amp;ObjectID=P305799\" title=\"Show this document on CDLI\" sec=\"P305799 left side:1\">P305799 left side:1</a></span>  <span class=\"txtu akk\"><span class=\"r\">𒆠</span></span><span class=\"txtu akk\"><span class=\"r\">𒈠</span> </span><span class=\"plain   hl\" ><span class=\"txtu akk\"><span class=\"collated remarkable\"><span class=\"r\">𒋫</span></span></span></span><span class=\"txtu akk\"><span class=\"collated\"><span class=\"r\">𒁕</span></span></span><span class=\"plain   hl\" ><span class=\"txtu akk\"><span class=\"collated remarkable\"><span class=\"r\">𒂵</span></span></span></span><span class=\"txtu akk\"><span class=\"collated\"><span class=\"r\">𒇷</span></span> </span><span class=\"txtu akk\"><span class=\"collated\"><span class=\"r\">𒅁</span></span></span><span class=\"txtu akk\"><span class=\"r\">𒅆</span></span></div>"
      ],
      "text/plain": [
       "<IPython.core.display.HTML object>"
      ]
     },
     "metadata": {},
     "output_type": "display_data"
    },
    {
     "data": {
      "text/html": [
       "<div class=\"section \"><a target=\"_blank\" href=\"https://cdli.ucla.edu/search/search_results.php?SearchMode=Text&amp;ObjectID=P305799\" title=\"Show this document on CDLI\" sec=\"P305799 left side:1\">P305799 left side:1</a></div><div class=\" children\"><div class=\"contnr c3    \" ><div class=\"lbl c3  \" ><span class=\"nd\">line</span></div><div class=\"children hor wrap \"><div class=\"contnr c2    \" ><div class=\"lbl c2  \" ><span class=\"nd\">word</span> <span class=\"txtt\">ki-ma </span></div><div class='features'><span class=\"atf xft\" ><span class=\"f\">atf=</span>ki-ma</span></div><div class=\"children hor  \"><div class=\"contnr c0 trm   \" ><div class=\"lbl c0 trm \" ><span class=\"txtt\">ki-</span></div><div class='features'><span class=\"atf xft\" ><span class=\"f\">atf=</span>ki</span></div></div><div class=\"contnr c0 trm   \" ><div class=\"lbl c0 trm \" ><span class=\"txtt\">ma </span></div><div class='features'><span class=\"atf xft\" ><span class=\"f\">atf=</span>ma</span></div></div></div></div><div class=\"contnr c2    \" ><div class=\"lbl c2  \" ><span class=\"nd\">word</span> <span class=\"txtt\">ta-da-ga-li </span></div><div class='features'><span class=\"atf xft\" ><span class=\"f\">atf=</span>ta!*-da*-ga!*-li*</span></div><div class=\"children hor  \"><div class=\"contnr c0 trm   hl\" ><div class=\"lbl c0 trm hl\" ><span class=\"txtt\">ta-</span></div><div class='features'><span class=\"atf xft\" ><span class=\"f\">atf=</span>ta!*</span></div></div><div class=\"contnr c0 trm   \" ><div class=\"lbl c0 trm \" ><span class=\"txtt\">da-</span></div><div class='features'><span class=\"atf xft\" ><span class=\"f\">atf=</span>da*</span></div></div><div class=\"contnr c0 trm   hl\" ><div class=\"lbl c0 trm hl\" ><span class=\"txtt\">ga-</span></div><div class='features'><span class=\"atf xft\" ><span class=\"f\">atf=</span>ga!*</span></div></div><div class=\"contnr c0 trm   \" ><div class=\"lbl c0 trm \" ><span class=\"txtt\">li </span></div><div class='features'><span class=\"atf xft\" ><span class=\"f\">atf=</span>li*</span></div></div></div></div><div class=\"contnr c2    \" ><div class=\"lbl c2  \" ><span class=\"nd\">word</span> <span class=\"txtt\">eb-ši</span></div><div class='features'><span class=\"atf xft\" ><span class=\"f\">atf=</span>eb*-szi</span></div><div class=\"children hor  \"><div class=\"contnr c0 trm   \" ><div class=\"lbl c0 trm \" ><span class=\"txtt\">eb-</span></div><div class='features'><span class=\"atf xft\" ><span class=\"f\">atf=</span>eb*</span></div></div><div class=\"contnr c0 trm   \" ><div class=\"lbl c0 trm \" ><span class=\"txtt\">ši</span></div><div class='features'><span class=\"atf xft\" ><span class=\"f\">atf=</span>szi</span></div></div></div></div></div></div></div>"
      ],
      "text/plain": [
       "<IPython.core.display.HTML object>"
      ]
     },
     "metadata": {},
     "output_type": "display_data"
    },
    {
     "data": {
      "text/markdown": [
       "---\n",
       "# flag: remarkable + question + collated\n",
       "\n",
       "Location: P305806 reverse:1"
      ],
      "text/plain": [
       "<IPython.core.display.Markdown object>"
      ]
     },
     "metadata": {},
     "output_type": "display_data"
    },
    {
     "name": "stdout",
     "output_type": "stream",
     "text": [
      "1. ia-ti er?!*-ha-tu-szu\n"
     ]
    },
    {
     "data": {
      "text/html": [
       "<div class=\"\"><span class=\"section \"><a target=\"_blank\" href=\"https://cdli.ucla.edu/search/search_results.php?SearchMode=Text&amp;ObjectID=P305806\" title=\"Show this document on CDLI\" sec=\"P305806 reverse:1\">P305806 reverse:1</a></span>  <span class=\"txtt\"><span class=\"r\">ia</span>-</span><span class=\"txtt\"><span class=\"r\">ti</span> </span><span class=\"plain   hl\" ><span class=\"txtt\"><span class=\"collated remarkable question\"><span class=\"r\">er</span></span>-</span></span><span class=\"txtt\"><span class=\"r\">ha</span>-</span><span class=\"txtt\"><span class=\"r\">tu</span>-</span><span class=\"txtt\"><span class=\"r\">šu</span></span></div>"
      ],
      "text/plain": [
       "<IPython.core.display.HTML object>"
      ]
     },
     "metadata": {},
     "output_type": "display_data"
    },
    {
     "data": {
      "text/html": [
       "<div class=\"\"><span class=\"section \"><a target=\"_blank\" href=\"https://cdli.ucla.edu/search/search_results.php?SearchMode=Text&amp;ObjectID=P305806\" title=\"Show this document on CDLI\" sec=\"P305806 reverse:1\">P305806 reverse:1</a></span>  <span class=\"txtu akk\"><span class=\"r\">𒅀</span></span><span class=\"txtu akk\"><span class=\"r\">𒋾</span> </span><span class=\"plain   hl\" ><span class=\"txtu akk\"><span class=\"collated remarkable question\"><span class=\"r\">𒅕</span></span></span></span><span class=\"txtu akk\"><span class=\"r\">𒄩</span></span><span class=\"txtu akk\"><span class=\"r\">𒌅</span></span><span class=\"txtu akk\"><span class=\"r\">𒋗</span></span></div>"
      ],
      "text/plain": [
       "<IPython.core.display.HTML object>"
      ]
     },
     "metadata": {},
     "output_type": "display_data"
    },
    {
     "data": {
      "text/html": [
       "<div class=\"section \"><a target=\"_blank\" href=\"https://cdli.ucla.edu/search/search_results.php?SearchMode=Text&amp;ObjectID=P305806\" title=\"Show this document on CDLI\" sec=\"P305806 reverse:1\">P305806 reverse:1</a></div><div class=\" children\"><div class=\"contnr c3    \" ><div class=\"lbl c3  \" ><span class=\"nd\">line</span></div><div class=\"children hor wrap \"><div class=\"contnr c2    \" ><div class=\"lbl c2  \" ><span class=\"nd\">word</span> <span class=\"txtt\">ia-ti </span></div><div class='features'><span class=\"atf xft\" ><span class=\"f\">atf=</span>ia-ti</span></div><div class=\"children hor  \"><div class=\"contnr c0 trm   \" ><div class=\"lbl c0 trm \" ><span class=\"txtt\">ia-</span></div><div class='features'><span class=\"atf xft\" ><span class=\"f\">atf=</span>ia</span></div></div><div class=\"contnr c0 trm   \" ><div class=\"lbl c0 trm \" ><span class=\"txtt\">ti </span></div><div class='features'><span class=\"atf xft\" ><span class=\"f\">atf=</span>ti</span></div></div></div></div><div class=\"contnr c2    \" ><div class=\"lbl c2  \" ><span class=\"nd\">word</span> <span class=\"txtt\">er-ha-tu-šu</span></div><div class='features'><span class=\"atf xft\" ><span class=\"f\">atf=</span>er?!*-ha-tu-szu</span></div><div class=\"children hor  \"><div class=\"contnr c0 trm   hl\" ><div class=\"lbl c0 trm hl\" ><span class=\"txtt\">er-</span></div><div class='features'><span class=\"atf xft\" ><span class=\"f\">atf=</span>er?!*</span></div></div><div class=\"contnr c0 trm   \" ><div class=\"lbl c0 trm \" ><span class=\"txtt\">ha-</span></div><div class='features'><span class=\"atf xft\" ><span class=\"f\">atf=</span>ha</span></div></div><div class=\"contnr c0 trm   \" ><div class=\"lbl c0 trm \" ><span class=\"txtt\">tu-</span></div><div class='features'><span class=\"atf xft\" ><span class=\"f\">atf=</span>tu</span></div></div><div class=\"contnr c0 trm   \" ><div class=\"lbl c0 trm \" ><span class=\"txtt\">šu</span></div><div class='features'><span class=\"atf xft\" ><span class=\"f\">atf=</span>szu</span></div></div></div></div></div></div></div>"
      ],
      "text/plain": [
       "<IPython.core.display.HTML object>"
      ]
     },
     "metadata": {},
     "output_type": "display_data"
    },
    {
     "data": {
      "text/markdown": [
       "---\n",
       "# flag collated in cluster missing\n",
       "\n",
       "Location: P305744 obverse:10"
      ],
      "text/plain": [
       "<IPython.core.display.Markdown object>"
      ]
     },
     "metadata": {},
     "output_type": "display_data"
    },
    {
     "name": "stdout",
     "output_type": "stream",
     "text": [
      "10. u3 a-na di*-ia#*-[at* t,e*]-e-em\n"
     ]
    },
    {
     "data": {
      "text/html": [
       "<div class=\"\"><span class=\"section \"><a target=\"_blank\" href=\"https://cdli.ucla.edu/search/search_results.php?SearchMode=Text&amp;ObjectID=P305744\" title=\"Show this document on CDLI\" sec=\"P305744 obverse:10\">P305744 obverse:10</a></span>  <span class=\"txtt\"><span class=\"r\">u₃</span> </span><span class=\"txtt\"><span class=\"r\">a</span>-</span><span class=\"txtt\"><span class=\"r\">na</span> </span><span class=\"txtt\"><span class=\"collated\"><span class=\"r\">di</span></span>-</span><span class=\"txtt\"><span class=\"collated damage\"><span class=\"r\">ia</span></span>-</span><span class=\"plain   hl\" ><span class=\"txtt\"><span class=\"collated missing\"><span class=\"r\">at</span></span> </span></span><span class=\"plain   hl\" ><span class=\"txtt\"><span class=\"collated missing\"><span class=\"r\">ṭe</span></span>-</span></span><span class=\"txtt\"><span class=\"r\">e</span>-</span><span class=\"txtt\"><span class=\"r\">em</span></span></div>"
      ],
      "text/plain": [
       "<IPython.core.display.HTML object>"
      ]
     },
     "metadata": {},
     "output_type": "display_data"
    },
    {
     "data": {
      "text/html": [
       "<div class=\"\"><span class=\"section \"><a target=\"_blank\" href=\"https://cdli.ucla.edu/search/search_results.php?SearchMode=Text&amp;ObjectID=P305744\" title=\"Show this document on CDLI\" sec=\"P305744 obverse:10\">P305744 obverse:10</a></span>  <span class=\"txtu akk\"><span class=\"r\">𒅇</span> </span><span class=\"txtu akk\"><span class=\"r\">𒀀</span></span><span class=\"txtu akk\"><span class=\"r\">𒈾</span> </span><span class=\"txtu akk\"><span class=\"collated\"><span class=\"r\">𒁲</span></span></span><span class=\"txtu akk\"><span class=\"collated damage\"><span class=\"r\">𒅀</span></span></span><span class=\"plain   hl\" ><span class=\"txtu akk\"><span class=\"collated missing\"><span class=\"r\">𒀜</span></span> </span></span><span class=\"plain   hl\" ><span class=\"txtu akk\"><span class=\"collated missing\"><span class=\"r\">𒁲</span></span></span></span><span class=\"txtu akk\"><span class=\"r\">𒂊</span></span><span class=\"txtu akk\"><span class=\"r\">𒅎</span></span></div>"
      ],
      "text/plain": [
       "<IPython.core.display.HTML object>"
      ]
     },
     "metadata": {},
     "output_type": "display_data"
    },
    {
     "data": {
      "text/html": [
       "<div class=\"section \"><a target=\"_blank\" href=\"https://cdli.ucla.edu/search/search_results.php?SearchMode=Text&amp;ObjectID=P305744\" title=\"Show this document on CDLI\" sec=\"P305744 obverse:10\">P305744 obverse:10</a></div><div class=\" children\"><div class=\"contnr c3    \" ><div class=\"lbl c3  \" ><span class=\"nd\">line</span></div><div class=\"children hor wrap \"><div class=\"contnr c2    \" ><div class=\"lbl c2  \" ><span class=\"nd\">word</span> <span class=\"txtt\">u₃ </span></div><div class='features'><span class=\"atf xft\" ><span class=\"f\">atf=</span>u3</span></div><div class=\"children hor  \"><div class=\"contnr c0 trm   \" ><div class=\"lbl c0 trm \" ><span class=\"txtt\">u₃ </span></div><div class='features'><span class=\"atf xft\" ><span class=\"f\">atf=</span>u3</span></div></div></div></div><div class=\"contnr c2    \" ><div class=\"lbl c2  \" ><span class=\"nd\">word</span> <span class=\"txtt\">a-na </span></div><div class='features'><span class=\"atf xft\" ><span class=\"f\">atf=</span>a-na</span></div><div class=\"children hor  \"><div class=\"contnr c0 trm   \" ><div class=\"lbl c0 trm \" ><span class=\"txtt\">a-</span></div><div class='features'><span class=\"atf xft\" ><span class=\"f\">atf=</span>a</span></div></div><div class=\"contnr c0 trm   \" ><div class=\"lbl c0 trm \" ><span class=\"txtt\">na </span></div><div class='features'><span class=\"atf xft\" ><span class=\"f\">atf=</span>na</span></div></div></div></div><div class=\"contnr c2    \" ><div class=\"lbl c2  \" ><span class=\"nd\">word</span> <span class=\"txtt\">di-ia-at </span></div><div class='features'><span class=\"atf xft\" ><span class=\"f\">atf=</span>di*-ia#*-[at*</span></div><div class=\"children hor  \"><div class=\"contnr c0 trm   \" ><div class=\"lbl c0 trm \" ><span class=\"txtt\">di-</span></div><div class='features'><span class=\"atf xft\" ><span class=\"f\">atf=</span>di*</span></div></div><div class=\"contnr c0 trm   \" ><div class=\"lbl c0 trm \" ><span class=\"txtt\">ia-</span></div><div class='features'><span class=\"atf xft\" ><span class=\"f\">atf=</span>ia#*</span></div></div><div class=\"contnr c1   rno \" ><div class=\"lbl c1  \" ><span class=\"nd\">cluster</span></div><div class=\"children hor wrap \"><div class=\"contnr c0 trm   hl\" ><div class=\"lbl c0 trm hl\" ><span class=\"txtt\">at </span></div><div class='features'><span class=\"atf xft\" ><span class=\"f\">atf=</span>at*</span></div></div></div></div></div></div><div class=\"contnr c2    \" ><div class=\"lbl c2  \" ><span class=\"nd\">word</span> <span class=\"txtt\">ṭe-e-em</span></div><div class='features'><span class=\"atf xft\" ><span class=\"f\">atf=</span>t,e*]-e-em</span></div><div class=\"children hor  \"><div class=\"contnr c1   lno \" ><div class=\"lbl c1  \" ><span class=\"nd\">cluster</span></div><div class=\"children hor wrap \"><div class=\"contnr c0 trm   hl\" ><div class=\"lbl c0 trm hl\" ><span class=\"txtt\">ṭe-</span></div><div class='features'><span class=\"atf xft\" ><span class=\"f\">atf=</span>t,e*</span></div></div></div></div><div class=\"contnr c0 trm   \" ><div class=\"lbl c0 trm \" ><span class=\"txtt\">e-</span></div><div class='features'><span class=\"atf xft\" ><span class=\"f\">atf=</span>e</span></div></div><div class=\"contnr c0 trm   \" ><div class=\"lbl c0 trm \" ><span class=\"txtt\">em</span></div><div class='features'><span class=\"atf xft\" ><span class=\"f\">atf=</span>em</span></div></div></div></div></div></div></div>"
      ],
      "text/plain": [
       "<IPython.core.display.HTML object>"
      ]
     },
     "metadata": {},
     "output_type": "display_data"
    },
    {
     "data": {
      "text/markdown": [
       "---\n",
       "# sign: comment\n",
       "\n",
       "Location: P275088 reverse:2"
      ],
      "text/plain": [
       "<IPython.core.display.Markdown object>"
      ]
     },
     "metadata": {},
     "output_type": "display_data"
    },
    {
     "name": "stdout",
     "output_type": "stream",
     "text": [
      "2. ($ blank space $) 8(disz) _lu2-mesz_ an-nu-ti-in\n"
     ]
    },
    {
     "data": {
      "text/html": [
       "<div class=\"\"><span class=\"section \"><a target=\"_blank\" href=\"https://cdli.ucla.edu/search/search_results.php?SearchMode=Text&amp;ObjectID=P275088\" title=\"Show this document on CDLI\" sec=\"P275088 reverse:2\">P275088 reverse:2</a></span>  <span class=\"plain   hl\" ><span class=\"txtt\"><span class=\"comment\">blank space</span> </span></span><span class=\"txtt\"><span class=\"quantity\">8</span>⌈<span class=\"r\">diš</span>⌉ </span><span class=\"txtt\"><span class=\"langalt\"><span class=\"r\">lu₂</span></span>-</span><span class=\"txtt\"><span class=\"langalt\"><span class=\"r\">meš</span></span> </span><span class=\"txtt\"><span class=\"r\">an</span>-</span><span class=\"txtt\"><span class=\"r\">nu</span>-</span><span class=\"txtt\"><span class=\"r\">ti</span>-</span><span class=\"txtt\"><span class=\"r\">in</span></span></div>"
      ],
      "text/plain": [
       "<IPython.core.display.HTML object>"
      ]
     },
     "metadata": {},
     "output_type": "display_data"
    },
    {
     "data": {
      "text/html": [
       "<div class=\"\"><span class=\"section \"><a target=\"_blank\" href=\"https://cdli.ucla.edu/search/search_results.php?SearchMode=Text&amp;ObjectID=P275088\" title=\"Show this document on CDLI\" sec=\"P275088 reverse:2\">P275088 reverse:2</a></span>  <span class=\"plain   hl\" ><span class=\"txtu akk\"><span class=\"comment\">blank space</span> </span></span><span class=\"txtu akk\">𒐍 </span><span class=\"txtu akk\"><span class=\"langalt\"><span class=\"r\">𒇽</span></span></span><span class=\"txtu akk\"><span class=\"langalt\"><span class=\"r\">𒈨𒌍</span></span> </span><span class=\"txtu akk\"><span class=\"r\">𒀭</span></span><span class=\"txtu akk\"><span class=\"r\">𒉡</span></span><span class=\"txtu akk\"><span class=\"r\">𒋾</span></span><span class=\"txtu akk\"><span class=\"r\">𒅔</span></span></div>"
      ],
      "text/plain": [
       "<IPython.core.display.HTML object>"
      ]
     },
     "metadata": {},
     "output_type": "display_data"
    },
    {
     "data": {
      "text/html": [
       "<div class=\"section \"><a target=\"_blank\" href=\"https://cdli.ucla.edu/search/search_results.php?SearchMode=Text&amp;ObjectID=P275088\" title=\"Show this document on CDLI\" sec=\"P275088 reverse:2\">P275088 reverse:2</a></div><div class=\" children\"><div class=\"contnr c3    \" ><div class=\"lbl c3  \" ><span class=\"nd\">line</span></div><div class=\"children hor wrap \"><div class=\"contnr c2    \" ><div class=\"lbl c2  \" ><span class=\"nd\">word</span> <span class=\"txtt\">(<span>$</span> blank space <span>$</span>) </span></div><div class=\"children hor  \"><div class=\"contnr c0 trm   hl\" ><div class=\"lbl c0 trm hl\" ><span class=\"txtt\">(<span>$</span> blank space <span>$</span>) </span></div><div class='features'><span class=\"atf xft\" ><span class=\"f\">atf=</span>(<span>$</span> blank space <span>$</span>)</span></div></div></div></div><div class=\"contnr c2    \" ><div class=\"lbl c2  \" ><span class=\"nd\">word</span> <span class=\"txtt\">8(diš) </span></div><div class='features'><span class=\"atf xft\" ><span class=\"f\">atf=</span>8(disz)</span></div><div class=\"children hor  \"><div class=\"contnr c0 trm   \" ><div class=\"lbl c0 trm \" ><span class=\"txtt\">8(diš) </span></div><div class='features'><span class=\"atf xft\" ><span class=\"f\">atf=</span>8(disz)</span></div></div></div></div><div class=\"contnr c2    \" ><div class=\"lbl c2  \" ><span class=\"nd\">word</span> <span class=\"txtt\">lu₂-meš </span></div><div class='features'><span class=\"atf xft\" ><span class=\"f\">atf=</span>_lu2-mesz_</span></div><div class=\"children hor  \"><div class=\"contnr c1    \" ><div class=\"lbl c1  \" ><span class=\"nd\">cluster</span></div><div class=\"children hor wrap \"><div class=\"contnr c0 trm   \" ><div class=\"lbl c0 trm \" ><span class=\"txtt\">lu₂-</span></div><div class='features'><span class=\"atf xft\" ><span class=\"f\">atf=</span>lu2</span></div></div><div class=\"contnr c0 trm   \" ><div class=\"lbl c0 trm \" ><span class=\"txtt\">meš </span></div><div class='features'><span class=\"atf xft\" ><span class=\"f\">atf=</span>mesz</span></div></div></div></div></div></div><div class=\"contnr c2    \" ><div class=\"lbl c2  \" ><span class=\"nd\">word</span> <span class=\"txtt\">an-nu-ti-in</span></div><div class='features'><span class=\"atf xft\" ><span class=\"f\">atf=</span>an-nu-ti-in</span></div><div class=\"children hor  \"><div class=\"contnr c0 trm   \" ><div class=\"lbl c0 trm \" ><span class=\"txtt\">an-</span></div><div class='features'><span class=\"atf xft\" ><span class=\"f\">atf=</span>an</span></div></div><div class=\"contnr c0 trm   \" ><div class=\"lbl c0 trm \" ><span class=\"txtt\">nu-</span></div><div class='features'><span class=\"atf xft\" ><span class=\"f\">atf=</span>nu</span></div></div><div class=\"contnr c0 trm   \" ><div class=\"lbl c0 trm \" ><span class=\"txtt\">ti-</span></div><div class='features'><span class=\"atf xft\" ><span class=\"f\">atf=</span>ti</span></div></div><div class=\"contnr c0 trm   \" ><div class=\"lbl c0 trm \" ><span class=\"txtt\">in</span></div><div class='features'><span class=\"atf xft\" ><span class=\"f\">atf=</span>in</span></div></div></div></div></div></div></div>"
      ],
      "text/plain": [
       "<IPython.core.display.HTML object>"
      ]
     },
     "metadata": {},
     "output_type": "display_data"
    },
    {
     "data": {
      "text/markdown": [
       "---\n",
       "# sign: grapheme\n",
       "\n",
       "Location: P510636 obverse:3"
      ],
      "text/plain": [
       "<IPython.core.display.Markdown object>"
      ]
     },
     "metadata": {},
     "output_type": "display_data"
    },
    {
     "name": "stdout",
     "output_type": "stream",
     "text": [
      "3. um-ma {d}suen-isz-me-a-ni _ARAD_-ka-ma\n"
     ]
    },
    {
     "data": {
      "text/html": [
       "<div class=\"\"><span class=\"section \"><a target=\"_blank\" href=\"https://cdli.ucla.edu/search/search_results.php?SearchMode=Text&amp;ObjectID=P510636\" title=\"Show this document on CDLI\" sec=\"P510636 obverse:3\">P510636 obverse:3</a></span>  <span class=\"txtt\"><span class=\"r\">um</span>-</span><span class=\"txtt\"><span class=\"r\">ma</span> </span><span class=\"txtt\"><span class=\"det\"><span class=\"r\">d</span></span></span><span class=\"txtt\"><span class=\"r\">suen</span>-</span><span class=\"txtt\"><span class=\"r\">iš</span>-</span><span class=\"txtt\"><span class=\"r\">me</span>-</span><span class=\"txtt\"><span class=\"r\">a</span>-</span><span class=\"txtt\"><span class=\"r\">ni</span> </span><span class=\"plain   hl\" ><span class=\"txtt\"><span class=\"langalt\"><span class=\"g\">ARAD</span></span>-</span></span><span class=\"txtt\"><span class=\"r\">ka</span>-</span><span class=\"txtt\"><span class=\"r\">ma</span></span></div>"
      ],
      "text/plain": [
       "<IPython.core.display.HTML object>"
      ]
     },
     "metadata": {},
     "output_type": "display_data"
    },
    {
     "data": {
      "text/html": [
       "<div class=\"\"><span class=\"section \"><a target=\"_blank\" href=\"https://cdli.ucla.edu/search/search_results.php?SearchMode=Text&amp;ObjectID=P510636\" title=\"Show this document on CDLI\" sec=\"P510636 obverse:3\">P510636 obverse:3</a></span>  <span class=\"txtu akk\"><span class=\"r\">𒌝</span></span><span class=\"txtu akk\"><span class=\"r\">𒈠</span> </span><span class=\"txtu akk\"><span class=\"det\"><span class=\"r\">𒀭</span></span></span><span class=\"txtu akk\"><span class=\"r\">𒂗𒍪</span></span><span class=\"txtu akk\"><span class=\"r\">𒅖</span></span><span class=\"txtu akk\"><span class=\"r\">𒈨</span></span><span class=\"txtu akk\"><span class=\"r\">𒀀</span></span><span class=\"txtu akk\"><span class=\"r\">𒉌</span> </span><span class=\"plain   hl\" ><span class=\"txtu akk\"><span class=\"langalt\"><span class=\"g\">𒀴</span></span></span></span><span class=\"txtu akk\"><span class=\"r\">𒅗</span></span><span class=\"txtu akk\"><span class=\"r\">𒈠</span></span></div>"
      ],
      "text/plain": [
       "<IPython.core.display.HTML object>"
      ]
     },
     "metadata": {},
     "output_type": "display_data"
    },
    {
     "data": {
      "text/html": [
       "<div class=\"section \"><a target=\"_blank\" href=\"https://cdli.ucla.edu/search/search_results.php?SearchMode=Text&amp;ObjectID=P510636\" title=\"Show this document on CDLI\" sec=\"P510636 obverse:3\">P510636 obverse:3</a></div><div class=\" children\"><div class=\"contnr c3    \" ><div class=\"lbl c3  \" ><span class=\"nd\">line</span></div><div class=\"children hor wrap \"><div class=\"contnr c2    \" ><div class=\"lbl c2  \" ><span class=\"nd\">word</span> <span class=\"txtt\">um-ma </span></div><div class='features'><span class=\"atf xft\" ><span class=\"f\">atf=</span>um-ma</span></div><div class=\"children hor  \"><div class=\"contnr c0 trm   \" ><div class=\"lbl c0 trm \" ><span class=\"txtt\">um-</span></div><div class='features'><span class=\"atf xft\" ><span class=\"f\">atf=</span>um</span></div></div><div class=\"contnr c0 trm   \" ><div class=\"lbl c0 trm \" ><span class=\"txtt\">ma </span></div><div class='features'><span class=\"atf xft\" ><span class=\"f\">atf=</span>ma</span></div></div></div></div><div class=\"contnr c2    \" ><div class=\"lbl c2  \" ><span class=\"nd\">word</span> <span class=\"txtt\">d⁼suen-iš-me-a-ni </span></div><div class='features'><span class=\"atf xft\" ><span class=\"f\">atf=</span>{d}suen-isz-me-a-ni</span></div><div class=\"children hor  \"><div class=\"contnr c1    \" ><div class=\"lbl c1  \" ><span class=\"nd\">cluster</span></div><div class=\"children hor wrap \"><div class=\"contnr c0 trm   \" ><div class=\"lbl c0 trm \" ><span class=\"txtt\">d⁼</span></div><div class='features'><span class=\"atf xft\" ><span class=\"f\">atf=</span>d</span></div></div></div></div><div class=\"contnr c0 trm   \" ><div class=\"lbl c0 trm \" ><span class=\"txtt\">suen-</span></div><div class='features'><span class=\"atf xft\" ><span class=\"f\">atf=</span>suen</span></div></div><div class=\"contnr c0 trm   \" ><div class=\"lbl c0 trm \" ><span class=\"txtt\">iš-</span></div><div class='features'><span class=\"atf xft\" ><span class=\"f\">atf=</span>isz</span></div></div><div class=\"contnr c0 trm   \" ><div class=\"lbl c0 trm \" ><span class=\"txtt\">me-</span></div><div class='features'><span class=\"atf xft\" ><span class=\"f\">atf=</span>me</span></div></div><div class=\"contnr c0 trm   \" ><div class=\"lbl c0 trm \" ><span class=\"txtt\">a-</span></div><div class='features'><span class=\"atf xft\" ><span class=\"f\">atf=</span>a</span></div></div><div class=\"contnr c0 trm   \" ><div class=\"lbl c0 trm \" ><span class=\"txtt\">ni </span></div><div class='features'><span class=\"atf xft\" ><span class=\"f\">atf=</span>ni</span></div></div></div></div><div class=\"contnr c2    \" ><div class=\"lbl c2  \" ><span class=\"nd\">word</span> <span class=\"txtt\">ARAD-ka-ma</span></div><div class='features'><span class=\"atf xft\" ><span class=\"f\">atf=</span>_ARAD_-ka-ma</span></div><div class=\"children hor  \"><div class=\"contnr c1    \" ><div class=\"lbl c1  \" ><span class=\"nd\">cluster</span></div><div class=\"children hor wrap \"><div class=\"contnr c0 trm   hl\" ><div class=\"lbl c0 trm hl\" ><span class=\"txtt\">ARAD-</span></div><div class='features'><span class=\"atf xft\" ><span class=\"f\">atf=</span>ARAD</span></div></div></div></div><div class=\"contnr c0 trm   \" ><div class=\"lbl c0 trm \" ><span class=\"txtt\">ka-</span></div><div class='features'><span class=\"atf xft\" ><span class=\"f\">atf=</span>ka</span></div></div><div class=\"contnr c0 trm   \" ><div class=\"lbl c0 trm \" ><span class=\"txtt\">ma</span></div><div class='features'><span class=\"atf xft\" ><span class=\"f\">atf=</span>ma</span></div></div></div></div></div></div></div>"
      ],
      "text/plain": [
       "<IPython.core.display.HTML object>"
      ]
     },
     "metadata": {},
     "output_type": "display_data"
    },
    {
     "data": {
      "text/markdown": [
       "---\n",
       "# sign: correction\n",
       "\n",
       "Location: P386451 reverse:11"
      ],
      "text/plain": [
       "<IPython.core.display.Markdown object>"
      ]
     },
     "metadata": {},
     "output_type": "display_data"
    },
    {
     "name": "stdout",
     "output_type": "stream",
     "text": [
      "11. {disz}pa#-ri-du-um il!(AL)-qe2\n"
     ]
    },
    {
     "data": {
      "text/html": [
       "<div class=\"\"><span class=\"section \"><a target=\"_blank\" href=\"https://cdli.ucla.edu/search/search_results.php?SearchMode=Text&amp;ObjectID=P386451\" title=\"Show this document on CDLI\" sec=\"P386451 reverse:11\">P386451 reverse:11</a></span>  <span class=\"txtt\"><span class=\"det\"><span class=\"r\">diš</span></span></span><span class=\"txtt\"><span class=\"damage\"><span class=\"r\">pa</span></span>-</span><span class=\"txtt\"><span class=\"r\">ri</span>-</span><span class=\"txtt\"><span class=\"r\">du</span>-</span><span class=\"txtt\"><span class=\"r\">um</span> </span><span class=\"plain   hl\" ><span class=\"txtt\"><span class=\"r\">il</span><span class=\"operator\">=</span>⌈<span class=\"g\">AL</span>⌉-</span></span><span class=\"txtt\"><span class=\"r\">qe₂</span></span></div>"
      ],
      "text/plain": [
       "<IPython.core.display.HTML object>"
      ]
     },
     "metadata": {},
     "output_type": "display_data"
    },
    {
     "data": {
      "text/html": [
       "<div class=\"\"><span class=\"section \"><a target=\"_blank\" href=\"https://cdli.ucla.edu/search/search_results.php?SearchMode=Text&amp;ObjectID=P386451\" title=\"Show this document on CDLI\" sec=\"P386451 reverse:11\">P386451 reverse:11</a></span>  <span class=\"txtu akk\"><span class=\"det\"><span class=\"r\">𒁹</span></span></span><span class=\"txtu akk\"><span class=\"damage\"><span class=\"r\">𒉺</span></span></span><span class=\"txtu akk\"><span class=\"r\">𒊑</span></span><span class=\"txtu akk\"><span class=\"r\">𒁺</span></span><span class=\"txtu akk\"><span class=\"r\">𒌝</span> </span><span class=\"plain   hl\" ><span class=\"txtu akk\"><span class=\"r\">𒀧</span><span class=\"operator\">=</span>⌈<span class=\"g\">𒀠</span>⌉</span></span><span class=\"txtu akk\"><span class=\"r\">𒆠</span></span></div>"
      ],
      "text/plain": [
       "<IPython.core.display.HTML object>"
      ]
     },
     "metadata": {},
     "output_type": "display_data"
    },
    {
     "data": {
      "text/html": [
       "<div class=\"section \"><a target=\"_blank\" href=\"https://cdli.ucla.edu/search/search_results.php?SearchMode=Text&amp;ObjectID=P386451\" title=\"Show this document on CDLI\" sec=\"P386451 reverse:11\">P386451 reverse:11</a></div><div class=\" children\"><div class=\"contnr c3    \" ><div class=\"lbl c3  \" ><span class=\"nd\">line</span></div><div class=\"children hor wrap \"><div class=\"contnr c2    \" ><div class=\"lbl c2  \" ><span class=\"nd\">word</span> <span class=\"txtt\">diš⁼pa-ri-du-um </span></div><div class='features'><span class=\"atf xft\" ><span class=\"f\">atf=</span>{disz}pa#-ri-du-um</span></div><div class=\"children hor  \"><div class=\"contnr c1    \" ><div class=\"lbl c1  \" ><span class=\"nd\">cluster</span></div><div class=\"children hor wrap \"><div class=\"contnr c0 trm   \" ><div class=\"lbl c0 trm \" ><span class=\"txtt\">diš⁼</span></div><div class='features'><span class=\"atf xft\" ><span class=\"f\">atf=</span>disz</span></div></div></div></div><div class=\"contnr c0 trm   \" ><div class=\"lbl c0 trm \" ><span class=\"txtt\">pa-</span></div><div class='features'><span class=\"atf xft\" ><span class=\"f\">atf=</span>pa#</span></div></div><div class=\"contnr c0 trm   \" ><div class=\"lbl c0 trm \" ><span class=\"txtt\">ri-</span></div><div class='features'><span class=\"atf xft\" ><span class=\"f\">atf=</span>ri</span></div></div><div class=\"contnr c0 trm   \" ><div class=\"lbl c0 trm \" ><span class=\"txtt\">du-</span></div><div class='features'><span class=\"atf xft\" ><span class=\"f\">atf=</span>du</span></div></div><div class=\"contnr c0 trm   \" ><div class=\"lbl c0 trm \" ><span class=\"txtt\">um </span></div><div class='features'><span class=\"atf xft\" ><span class=\"f\">atf=</span>um</span></div></div></div></div><div class=\"contnr c2    \" ><div class=\"lbl c2  \" ><span class=\"nd\">word</span> <span class=\"txtt\">il=AL-qe₂</span></div><div class='features'><span class=\"atf xft\" ><span class=\"f\">atf=</span>il!(AL)-qe2</span></div><div class=\"children hor  \"><div class=\"contnr c0 trm   hl\" ><div class=\"lbl c0 trm hl\" ><span class=\"txtt\">il=AL-</span></div><div class='features'><span class=\"atf xft\" ><span class=\"f\">atf=</span>il!(AL)</span></div></div><div class=\"contnr c0 trm   \" ><div class=\"lbl c0 trm \" ><span class=\"txtt\">qe₂</span></div><div class='features'><span class=\"atf xft\" ><span class=\"f\">atf=</span>qe2</span></div></div></div></div></div></div></div>"
      ],
      "text/plain": [
       "<IPython.core.display.HTML object>"
      ]
     },
     "metadata": {},
     "output_type": "display_data"
    },
    {
     "data": {
      "text/markdown": [
       "---\n",
       "# sign: numeral\n",
       "\n",
       "Location: P312032 left edge:1"
      ],
      "text/plain": [
       "<IPython.core.display.Markdown object>"
      ]
     },
     "metadata": {},
     "output_type": "display_data"
    },
    {
     "name": "stdout",
     "output_type": "stream",
     "text": [
      "1. e-zi-ib _3(u) gur 8(asz) ziz2-an-na_\n"
     ]
    },
    {
     "data": {
      "text/html": [
       "<div class=\"\"><span class=\"section \"><a target=\"_blank\" href=\"https://cdli.ucla.edu/search/search_results.php?SearchMode=Text&amp;ObjectID=P312032\" title=\"Show this document on CDLI\" sec=\"P312032 left edge:1\">P312032 left edge:1</a></span>  <span class=\"txtt\"><span class=\"r\">e</span>-</span><span class=\"txtt\"><span class=\"r\">zi</span>-</span><span class=\"txtt\"><span class=\"r\">ib</span> </span><span class=\"plain   hl\" ><span class=\"txtt\"><span class=\"langalt\"><span class=\"quantity\">3</span>⌈<span class=\"r\">u</span>⌉</span> </span></span><span class=\"txtt\"><span class=\"langalt\"><span class=\"r\">gur</span></span> </span><span class=\"plain   hl\" ><span class=\"txtt\"><span class=\"langalt\"><span class=\"quantity\">8</span>⌈<span class=\"r\">aš</span>⌉</span> </span></span><span class=\"txtt\"><span class=\"langalt\"><span class=\"r\">ziz₂</span></span>-</span><span class=\"txtt\"><span class=\"langalt\"><span class=\"r\">an</span></span>-</span><span class=\"txtt\"><span class=\"langalt\"><span class=\"r\">na</span></span></span></div>"
      ],
      "text/plain": [
       "<IPython.core.display.HTML object>"
      ]
     },
     "metadata": {},
     "output_type": "display_data"
    },
    {
     "data": {
      "text/html": [
       "<div class=\"\"><span class=\"section \"><a target=\"_blank\" href=\"https://cdli.ucla.edu/search/search_results.php?SearchMode=Text&amp;ObjectID=P312032\" title=\"Show this document on CDLI\" sec=\"P312032 left edge:1\">P312032 left edge:1</a></span>  <span class=\"txtu akk\"><span class=\"r\">𒂊</span></span><span class=\"txtu akk\"><span class=\"r\">𒍣</span></span><span class=\"txtu akk\"><span class=\"r\">𒅁</span> </span><span class=\"plain   hl\" ><span class=\"txtu akk\"><span class=\"langalt\">𒌍</span> </span></span><span class=\"txtu akk\"><span class=\"langalt\"><span class=\"r\">𒄥</span></span> </span><span class=\"plain   hl\" ><span class=\"txtu akk\"><span class=\"langalt\">𒐆</span> </span></span><span class=\"txtu akk\"><span class=\"langalt\"><span class=\"r\">𒀾</span></span></span><span class=\"txtu akk\"><span class=\"langalt\"><span class=\"r\">𒀭</span></span></span><span class=\"txtu akk\"><span class=\"langalt\"><span class=\"r\">𒈾</span></span></span></div>"
      ],
      "text/plain": [
       "<IPython.core.display.HTML object>"
      ]
     },
     "metadata": {},
     "output_type": "display_data"
    },
    {
     "data": {
      "text/html": [
       "<div class=\"section \"><a target=\"_blank\" href=\"https://cdli.ucla.edu/search/search_results.php?SearchMode=Text&amp;ObjectID=P312032\" title=\"Show this document on CDLI\" sec=\"P312032 left edge:1\">P312032 left edge:1</a></div><div class=\" children\"><div class=\"contnr c3    \" ><div class=\"lbl c3  \" ><span class=\"nd\">line</span></div><div class=\"children hor wrap \"><div class=\"contnr c2    \" ><div class=\"lbl c2  \" ><span class=\"nd\">word</span> <span class=\"txtt\">e-zi-ib </span></div><div class='features'><span class=\"atf xft\" ><span class=\"f\">atf=</span>e-zi-ib</span></div><div class=\"children hor  \"><div class=\"contnr c0 trm   \" ><div class=\"lbl c0 trm \" ><span class=\"txtt\">e-</span></div><div class='features'><span class=\"atf xft\" ><span class=\"f\">atf=</span>e</span></div></div><div class=\"contnr c0 trm   \" ><div class=\"lbl c0 trm \" ><span class=\"txtt\">zi-</span></div><div class='features'><span class=\"atf xft\" ><span class=\"f\">atf=</span>zi</span></div></div><div class=\"contnr c0 trm   \" ><div class=\"lbl c0 trm \" ><span class=\"txtt\">ib </span></div><div class='features'><span class=\"atf xft\" ><span class=\"f\">atf=</span>ib</span></div></div></div></div><div class=\"contnr c2    \" ><div class=\"lbl c2  \" ><span class=\"nd\">word</span> <span class=\"txtt\">3(u) </span></div><div class='features'><span class=\"atf xft\" ><span class=\"f\">atf=</span>_3(u)</span></div><div class=\"children hor  \"><div class=\"contnr c1   rno \" ><div class=\"lbl c1  \" ><span class=\"nd\">cluster</span></div><div class=\"children hor wrap \"><div class=\"contnr c0 trm   hl\" ><div class=\"lbl c0 trm hl\" ><span class=\"txtt\">3(u) </span></div><div class='features'><span class=\"atf xft\" ><span class=\"f\">atf=</span>3(u)</span></div></div></div></div></div></div><div class=\"contnr c2    \" ><div class=\"lbl c2  \" ><span class=\"nd\">word</span> <span class=\"txtt\">gur </span></div><div class='features'><span class=\"atf xft\" ><span class=\"f\">atf=</span>gur</span></div><div class=\"children hor  \"><div class=\"contnr c1   lno rno \" ><div class=\"lbl c1  \" ><span class=\"nd\">cluster</span></div><div class=\"children hor wrap \"><div class=\"contnr c0 trm   \" ><div class=\"lbl c0 trm \" ><span class=\"txtt\">gur </span></div><div class='features'><span class=\"atf xft\" ><span class=\"f\">atf=</span>gur</span></div></div></div></div></div></div><div class=\"contnr c2    \" ><div class=\"lbl c2  \" ><span class=\"nd\">word</span> <span class=\"txtt\">8(aš) </span></div><div class='features'><span class=\"atf xft\" ><span class=\"f\">atf=</span>8(asz)</span></div><div class=\"children hor  \"><div class=\"contnr c1   lno rno \" ><div class=\"lbl c1  \" ><span class=\"nd\">cluster</span></div><div class=\"children hor wrap \"><div class=\"contnr c0 trm   hl\" ><div class=\"lbl c0 trm hl\" ><span class=\"txtt\">8(aš) </span></div><div class='features'><span class=\"atf xft\" ><span class=\"f\">atf=</span>8(asz)</span></div></div></div></div></div></div><div class=\"contnr c2    \" ><div class=\"lbl c2  \" ><span class=\"nd\">word</span> <span class=\"txtt\">ziz₂-an-na</span></div><div class='features'><span class=\"atf xft\" ><span class=\"f\">atf=</span>ziz2-an-na_</span></div><div class=\"children hor  \"><div class=\"contnr c1   lno \" ><div class=\"lbl c1  \" ><span class=\"nd\">cluster</span></div><div class=\"children hor wrap \"><div class=\"contnr c0 trm   \" ><div class=\"lbl c0 trm \" ><span class=\"txtt\">ziz₂-</span></div><div class='features'><span class=\"atf xft\" ><span class=\"f\">atf=</span>ziz2</span></div></div><div class=\"contnr c0 trm   \" ><div class=\"lbl c0 trm \" ><span class=\"txtt\">an-</span></div><div class='features'><span class=\"atf xft\" ><span class=\"f\">atf=</span>an</span></div></div><div class=\"contnr c0 trm   \" ><div class=\"lbl c0 trm \" ><span class=\"txtt\">na</span></div><div class='features'><span class=\"atf xft\" ><span class=\"f\">atf=</span>na</span></div></div></div></div></div></div></div></div></div>"
      ],
      "text/plain": [
       "<IPython.core.display.HTML object>"
      ]
     },
     "metadata": {},
     "output_type": "display_data"
    },
    {
     "data": {
      "text/markdown": [
       "---\n",
       "# sign: ligature\n",
       "\n",
       "Location: P492284 obverse:5"
      ],
      "text/plain": [
       "<IPython.core.display.Markdown object>"
      ]
     },
     "metadata": {},
     "output_type": "display_data"
    },
    {
     "name": "stdout",
     "output_type": "stream",
     "text": [
      "5. _mu-kux(DU)#_ [x x x]-tum?\n"
     ]
    },
    {
     "data": {
      "text/html": [
       "<div class=\"\"><span class=\"section \"><a target=\"_blank\" href=\"https://cdli.ucla.edu/search/search_results.php?SearchMode=Text&amp;ObjectID=P492284\" title=\"Show this document on CDLI\" sec=\"P492284 obverse:5\">P492284 obverse:5</a></span>  <span class=\"txtt\"><span class=\"langalt\"><span class=\"r\">mu</span></span>-</span><span class=\"plain   hl\" ><span class=\"txtt\"><span class=\"langalt\"><span class=\"damage\"><span class=\"r\">ku</span><span class=\"operator\">␣</span>⌈<span class=\"g\">DU</span>⌉</span></span> </span></span><span class=\"plain   hl\" ><span class=\"txtt\"><span class=\"missing\"><span class=\"uncertain\"><span class=\"r\">x</span></span></span> </span></span><span class=\"txtt\"><span class=\"missing\"><span class=\"uncertain\"><span class=\"r\">x</span></span></span> </span><span class=\"txtt\"><span class=\"missing\"><span class=\"uncertain\"><span class=\"r\">x</span></span></span>-</span><span class=\"txtt\"><span class=\"question\"><span class=\"r\">tum</span></span></span></div>"
      ],
      "text/plain": [
       "<IPython.core.display.HTML object>"
      ]
     },
     "metadata": {},
     "output_type": "display_data"
    },
    {
     "data": {
      "text/html": [
       "<div class=\"\"><span class=\"section \"><a target=\"_blank\" href=\"https://cdli.ucla.edu/search/search_results.php?SearchMode=Text&amp;ObjectID=P492284\" title=\"Show this document on CDLI\" sec=\"P492284 obverse:5\">P492284 obverse:5</a></span>  <span class=\"txtu akk\"><span class=\"langalt\"><span class=\"r\">𒈬</span></span></span><span class=\"plain   hl\" ><span class=\"txtu akk\"><span class=\"langalt\"><span class=\"damage\"><span class=\"r\">𒆪</span><span class=\"operator\">␣</span>⌈<span class=\"g\">𒁺</span>⌉</span></span> </span></span><span class=\"plain   hl\" ><span class=\"txtu akk\"><span class=\"missing\"><span class=\"uncertain\"><span class=\"r\">x</span></span></span> </span></span><span class=\"txtu akk\"><span class=\"missing\"><span class=\"uncertain\"><span class=\"r\">x</span></span></span> </span><span class=\"txtu akk\"><span class=\"missing\"><span class=\"uncertain\"><span class=\"r\">x</span></span></span></span><span class=\"txtu akk\"><span class=\"question\"><span class=\"r\">𒌈</span></span></span></div>"
      ],
      "text/plain": [
       "<IPython.core.display.HTML object>"
      ]
     },
     "metadata": {},
     "output_type": "display_data"
    },
    {
     "data": {
      "text/html": [
       "<div class=\"section \"><a target=\"_blank\" href=\"https://cdli.ucla.edu/search/search_results.php?SearchMode=Text&amp;ObjectID=P492284\" title=\"Show this document on CDLI\" sec=\"P492284 obverse:5\">P492284 obverse:5</a></div><div class=\" children\"><div class=\"contnr c3    \" ><div class=\"lbl c3  \" ><span class=\"nd\">line</span></div><div class=\"children hor wrap \"><div class=\"contnr c2    \" ><div class=\"lbl c2  \" ><span class=\"nd\">word</span> <span class=\"txtt\">mu-ku␣DU </span></div><div class='features'><span class=\"atf xft\" ><span class=\"f\">atf=</span>_mu-kux(DU)#_</span></div><div class=\"children hor  \"><div class=\"contnr c1    \" ><div class=\"lbl c1  \" ><span class=\"nd\">cluster</span></div><div class=\"children hor wrap \"><div class=\"contnr c0 trm   \" ><div class=\"lbl c0 trm \" ><span class=\"txtt\">mu-</span></div><div class='features'><span class=\"atf xft\" ><span class=\"f\">atf=</span>mu</span></div></div><div class=\"contnr c0 trm   hl\" ><div class=\"lbl c0 trm hl\" ><span class=\"txtt\">ku␣DU </span></div><div class='features'><span class=\"atf xft\" ><span class=\"f\">atf=</span>kux(DU)#</span></div></div></div></div></div></div><div class=\"contnr c2    \" ><div class=\"lbl c2  \" ><span class=\"nd\">word</span> <span class=\"txtt\">x </span></div><div class='features'><span class=\"atf xft\" ><span class=\"f\">atf=</span>[x</span></div><div class=\"children hor  \"><div class=\"contnr c1   rno \" ><div class=\"lbl c1  \" ><span class=\"nd\">cluster</span></div><div class=\"children hor wrap \"><div class=\"contnr c0 trm   hl\" ><div class=\"lbl c0 trm hl\" ><span class=\"txtt\">x </span></div><div class='features'><span class=\"atf xft\" ><span class=\"f\">atf=</span>x</span></div></div></div></div></div></div><div class=\"contnr c2    \" ><div class=\"lbl c2  \" ><span class=\"nd\">word</span> <span class=\"txtt\">x </span></div><div class='features'><span class=\"atf xft\" ><span class=\"f\">atf=</span>x</span></div><div class=\"children hor  \"><div class=\"contnr c1   lno rno \" ><div class=\"lbl c1  \" ><span class=\"nd\">cluster</span></div><div class=\"children hor wrap \"><div class=\"contnr c0 trm   \" ><div class=\"lbl c0 trm \" ><span class=\"txtt\">x </span></div><div class='features'><span class=\"atf xft\" ><span class=\"f\">atf=</span>x</span></div></div></div></div></div></div><div class=\"contnr c2    \" ><div class=\"lbl c2  \" ><span class=\"nd\">word</span> <span class=\"txtt\">x-tum</span></div><div class='features'><span class=\"atf xft\" ><span class=\"f\">atf=</span>x]-tum?</span></div><div class=\"children hor  \"><div class=\"contnr c1   lno \" ><div class=\"lbl c1  \" ><span class=\"nd\">cluster</span></div><div class=\"children hor wrap \"><div class=\"contnr c0 trm   \" ><div class=\"lbl c0 trm \" ><span class=\"txtt\">x-</span></div><div class='features'><span class=\"atf xft\" ><span class=\"f\">atf=</span>x</span></div></div></div></div><div class=\"contnr c0 trm   \" ><div class=\"lbl c0 trm \" ><span class=\"txtt\">tum</span></div><div class='features'><span class=\"atf xft\" ><span class=\"f\">atf=</span>tum?</span></div></div></div></div></div></div></div>"
      ],
      "text/plain": [
       "<IPython.core.display.HTML object>"
      ]
     },
     "metadata": {},
     "output_type": "display_data"
    },
    {
     "data": {
      "text/markdown": [
       "---\n",
       "# sign: unknown and ellipsis\n",
       "\n",
       "Location: P509373 reverse:18'"
      ],
      "text/plain": [
       "<IPython.core.display.Markdown object>"
      ]
     },
     "metadata": {},
     "output_type": "display_data"
    },
    {
     "name": "stdout",
     "output_type": "stream",
     "text": [
      "18'. u2-ul a-sza-ap-pa-[x ...]\n"
     ]
    },
    {
     "data": {
      "text/html": [
       "<div class=\"\"><span class=\"section \"><a target=\"_blank\" href=\"https://cdli.ucla.edu/search/search_results.php?SearchMode=Text&amp;ObjectID=P509373\" title=\"Show this document on CDLI\" sec=\"P509373 reverse:18'\">P509373 reverse:18'</a></span>  <span class=\"txtt\"><span class=\"r\">u₂</span>-</span><span class=\"txtt\"><span class=\"r\">ul</span> </span><span class=\"txtt\"><span class=\"r\">a</span>-</span><span class=\"txtt\"><span class=\"r\">ša</span>-</span><span class=\"txtt\"><span class=\"r\">ap</span>-</span><span class=\"txtt\"><span class=\"r\">pa</span>-</span><span class=\"plain   hl\" ><span class=\"txtt\"><span class=\"missing\"><span class=\"uncertain\"><span class=\"r\">x</span></span></span> </span></span><span class=\"plain   hl\" ><span class=\"txtt\"><span class=\"missing\"><span class=\"missing\">...</span></span></span></span></div>"
      ],
      "text/plain": [
       "<IPython.core.display.HTML object>"
      ]
     },
     "metadata": {},
     "output_type": "display_data"
    },
    {
     "data": {
      "text/html": [
       "<div class=\"\"><span class=\"section \"><a target=\"_blank\" href=\"https://cdli.ucla.edu/search/search_results.php?SearchMode=Text&amp;ObjectID=P509373\" title=\"Show this document on CDLI\" sec=\"P509373 reverse:18'\">P509373 reverse:18'</a></span>  <span class=\"txtu akk\"><span class=\"r\">𒌑</span></span><span class=\"txtu akk\"><span class=\"r\">𒌌</span> </span><span class=\"txtu akk\"><span class=\"r\">𒀀</span></span><span class=\"txtu akk\"><span class=\"r\">𒊭</span></span><span class=\"txtu akk\"><span class=\"r\">𒀊</span></span><span class=\"txtu akk\"><span class=\"r\">𒉺</span></span><span class=\"plain   hl\" ><span class=\"txtu akk\"><span class=\"missing\"><span class=\"uncertain\"><span class=\"r\">x</span></span></span> </span></span><span class=\"plain   hl\" ><span class=\"txtu akk\"><span class=\"missing\"><span class=\"missing\">...</span></span></span></span></div>"
      ],
      "text/plain": [
       "<IPython.core.display.HTML object>"
      ]
     },
     "metadata": {},
     "output_type": "display_data"
    },
    {
     "data": {
      "text/html": [
       "<div class=\"section \"><a target=\"_blank\" href=\"https://cdli.ucla.edu/search/search_results.php?SearchMode=Text&amp;ObjectID=P509373\" title=\"Show this document on CDLI\" sec=\"P509373 reverse:18'\">P509373 reverse:18'</a></div><div class=\" children\"><div class=\"contnr c3    \" ><div class=\"lbl c3  \" ><span class=\"nd\">line</span></div><div class=\"children hor wrap \"><div class=\"contnr c2    \" ><div class=\"lbl c2  \" ><span class=\"nd\">word</span> <span class=\"txtt\">u₂-ul </span></div><div class='features'><span class=\"atf xft\" ><span class=\"f\">atf=</span>u2-ul</span></div><div class=\"children hor  \"><div class=\"contnr c0 trm   \" ><div class=\"lbl c0 trm \" ><span class=\"txtt\">u₂-</span></div><div class='features'><span class=\"atf xft\" ><span class=\"f\">atf=</span>u2</span></div></div><div class=\"contnr c0 trm   \" ><div class=\"lbl c0 trm \" ><span class=\"txtt\">ul </span></div><div class='features'><span class=\"atf xft\" ><span class=\"f\">atf=</span>ul</span></div></div></div></div><div class=\"contnr c2    \" ><div class=\"lbl c2  \" ><span class=\"nd\">word</span> <span class=\"txtt\">a-ša-ap-pa-x </span></div><div class='features'><span class=\"atf xft\" ><span class=\"f\">atf=</span>a-sza-ap-pa-[x</span></div><div class=\"children hor  \"><div class=\"contnr c0 trm   \" ><div class=\"lbl c0 trm \" ><span class=\"txtt\">a-</span></div><div class='features'><span class=\"atf xft\" ><span class=\"f\">atf=</span>a</span></div></div><div class=\"contnr c0 trm   \" ><div class=\"lbl c0 trm \" ><span class=\"txtt\">ša-</span></div><div class='features'><span class=\"atf xft\" ><span class=\"f\">atf=</span>sza</span></div></div><div class=\"contnr c0 trm   \" ><div class=\"lbl c0 trm \" ><span class=\"txtt\">ap-</span></div><div class='features'><span class=\"atf xft\" ><span class=\"f\">atf=</span>ap</span></div></div><div class=\"contnr c0 trm   \" ><div class=\"lbl c0 trm \" ><span class=\"txtt\">pa-</span></div><div class='features'><span class=\"atf xft\" ><span class=\"f\">atf=</span>pa</span></div></div><div class=\"contnr c1   rno \" ><div class=\"lbl c1  \" ><span class=\"nd\">cluster</span></div><div class=\"children hor wrap \"><div class=\"contnr c0 trm   hl\" ><div class=\"lbl c0 trm hl\" ><span class=\"txtt\">x </span></div><div class='features'><span class=\"atf xft\" ><span class=\"f\">atf=</span>x</span></div></div></div></div></div></div><div class=\"contnr c2    \" ><div class=\"lbl c2  \" ><span class=\"nd\">word</span> <span class=\"txtt\">…</span></div><div class='features'><span class=\"atf xft\" ><span class=\"f\">atf=</span>...]</span></div><div class=\"children hor  \"><div class=\"contnr c1   lno \" ><div class=\"lbl c1  \" ><span class=\"nd\">cluster</span></div><div class=\"children hor wrap \"><div class=\"contnr c0 trm   hl\" ><div class=\"lbl c0 trm hl\" ><span class=\"txtt\">…</span></div><div class='features'><span class=\"atf xft\" ><span class=\"f\">atf=</span>...</span></div></div></div></div></div></div></div></div></div>"
      ],
      "text/plain": [
       "<IPython.core.display.HTML object>"
      ]
     },
     "metadata": {},
     "output_type": "display_data"
    }
   ],
   "source": [
    "for (line, (desc, positions)) in lines:\n",
    "    ln = T.nodeFromSection(line)\n",
    "    A.dm(\"---\\n# {}\\n\\nLocation: {} {}:{}\".format(desc, *line))\n",
    "    s = L.d(ln, otype=\"sign\")[0]\n",
    "    highlights = {s + p - 1 for p in positions}\n",
    "    print(*A.getSource(ln), sep=\"\\n\")\n",
    "    A.plain(ln, fmt=\"layout-orig-rich\", highlights=highlights)\n",
    "    A.plain(ln, fmt=\"layout-orig-unicode\", highlights=highlights)\n",
    "    A.pretty(\n",
    "        ln,\n",
    "        extraFeatures=\"atf\",\n",
    "        fmt=\"text-orig-rich\",\n",
    "        baseTypes=\"sign\",\n",
    "        highlights=highlights,\n",
    "    )"
   ]
  },
  {
   "cell_type": "markdown",
   "metadata": {},
   "source": [
    "---\n",
    "\n",
    "All chapters:\n",
    "\n",
    "* **[start](start.ipynb)** introduction to computing with your corpus\n",
    "* **display** become an expert in creating pretty displays of your text structures\n",
    "* **[search](search.ipynb)** turbo charge your hand-coding with search templates\n",
    "* **[exportExcel](exportExcel.ipynb)** make tailor-made spreadsheets out of your results\n",
    "* **[share](share.ipynb)** draw in other people's data and let them use yours\n",
    "* **[similarLines](similarLines.ipynb)** spot the similarities between lines\n",
    "\n",
    "---\n",
    "\n",
    "See the [cookbook](cookbook) for recipes for small, concrete tasks.\n",
    "\n",
    "CC-BY Dirk Roorda"
   ]
  }
 ],
 "metadata": {
  "jupytext": {
   "encoding": "# -*- coding: utf-8 -*-"
  },
  "kernelspec": {
   "display_name": "Python 3",
   "language": "python",
   "name": "python3"
  },
  "language_info": {
   "codemirror_mode": {
    "name": "ipython",
    "version": 3
   },
   "file_extension": ".py",
   "mimetype": "text/x-python",
   "name": "python",
   "nbconvert_exporter": "python",
   "pygments_lexer": "ipython3",
   "version": "3.8.5"
  },
  "toc": {
   "base_numbering": 1,
   "nav_menu": {},
   "number_sections": true,
   "sideBar": true,
   "skip_h1_title": false,
   "title_cell": "Table of Contents",
   "title_sidebar": "Contents",
   "toc_cell": false,
   "toc_position": {},
   "toc_section_display": "block",
   "toc_window_display": false
  }
 },
 "nbformat": 4,
 "nbformat_minor": 4
}
