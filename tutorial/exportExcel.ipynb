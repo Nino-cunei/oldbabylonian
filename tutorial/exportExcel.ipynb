{
 "cells": [
  {
   "cell_type": "markdown",
   "metadata": {},
   "source": [
    "<img align=\"right\" src=\"images/tf.png\" width=\"128\"/>\n",
    "<img align=\"right\" src=\"images/ninologo.png\" width=\"128\"/>\n",
    "<img align=\"right\" src=\"images/dans.png\" width=\"128\"/>\n",
    "\n",
    "---\n",
    "\n",
    "To get started: consult [start](start.ipynb)\n",
    "\n",
    "---\n",
    "\n",
    "# Export to Excel\n",
    "\n",
    "In a notebook, you can perform searches and view them in a tabular display and zoom in on items with\n",
    "pretty displays.\n",
    "\n",
    "But there are times that you want to take your results outside Text-Fabric, outside a notebook, outside Python, and just\n",
    "work with them in other programs, such as Excel.\n",
    "\n",
    "You want to do that not only with query results, but with all kinds of lists of tuples of nodes.\n",
    "\n",
    "There is a function for that, `A.export()`, and here we show what it can do."
   ]
  },
  {
   "cell_type": "code",
   "execution_count": 1,
   "metadata": {},
   "outputs": [],
   "source": [
    "%load_ext autoreload\n",
    "%autoreload 2"
   ]
  },
  {
   "cell_type": "code",
   "execution_count": 2,
   "metadata": {
    "ExecuteTime": {
     "end_time": "2018-05-24T10:06:39.818664Z",
     "start_time": "2018-05-24T10:06:39.796588Z"
    }
   },
   "outputs": [],
   "source": [
    "import os\n",
    "from tf.app import use"
   ]
  },
  {
   "cell_type": "code",
   "execution_count": 3,
   "metadata": {},
   "outputs": [
    {
     "data": {
      "text/html": [
       "<b title=\"local github\">TF-app:</b> <span title=\"repo clone offline under ~/github\">~/github/annotation/app-oldbabylonian/code</span>"
      ],
      "text/plain": [
       "<IPython.core.display.HTML object>"
      ]
     },
     "metadata": {},
     "output_type": "display_data"
    },
    {
     "data": {
      "text/html": [
       "<b title=\"local github\">data:</b> <span title=\"repo clone offline under ~/github\">~/github/Nino-cunei/oldbabylonian/tf/1.0.6</span>"
      ],
      "text/plain": [
       "<IPython.core.display.HTML object>"
      ]
     },
     "metadata": {},
     "output_type": "display_data"
    },
    {
     "data": {
      "text/html": [
       "<b>Text-Fabric:</b> <a target=\"_blank\" href=\"https://annotation.github.io/text-fabric/cheatsheet.html\" title=\"text-fabric-api\">Text-Fabric API 8.3.4</a>, <a target=\"_blank\" href=\"https://github.com/annotation/app-oldbabylonian\" title=\"oldbabylonian TF-app\">app-oldbabylonian</a>, <a target=\"_blank\" href=\"https://annotation.github.io/text-fabric/about/searchusage.html\" title=\"Search Templates Introduction and Reference\">Search Reference</a><br><b>Data:</b> <a target=\"_blank\" href=\"https://github.com/Nino-cunei/oldbabylonian/blob/master/docs/about.md\" title=\"provenance of Old Babylonian Letters 1900-1600: Cuneiform tablets\">OLDBABYLONIAN</a>, <a target=\"_blank\" href=\"https://github.com/Nino-cunei/oldbabylonian/blob/master/programs/mapReadings.ipynb\" title=\"mapping from readings to UNICODE\">Character table</a>, <a target=\"_blank\" href=\"https://github.com/Nino-cunei/tfFromAtf/blob/master/docs/transcription.md\" title=\"OLDBABYLONIAN feature documentation\">Feature docs</a><br><b>Features:</b><br><details><summary><b>Old Babylonian Letters 1900-1600: Cuneiform tablets</b></summary><a target=\"_blank\" href=\"https://github.com/Nino-cunei/tfFromAtf/blob/master/docs/transcription.md\" title=\"~/github/Nino-cunei/oldbabylonian/tf/1.0.6/ARK.tf\">ARK</a><br><a target=\"_blank\" href=\"https://github.com/Nino-cunei/tfFromAtf/blob/master/docs/transcription.md\" title=\"~/github/Nino-cunei/oldbabylonian/tf/1.0.6/after.tf\">after</a><br><a target=\"_blank\" href=\"https://github.com/Nino-cunei/tfFromAtf/blob/master/docs/transcription.md\" title=\"~/github/Nino-cunei/oldbabylonian/tf/1.0.6/afterr.tf\">afterr</a><br><a target=\"_blank\" href=\"https://github.com/Nino-cunei/tfFromAtf/blob/master/docs/transcription.md\" title=\"~/github/Nino-cunei/oldbabylonian/tf/1.0.6/afteru.tf\">afteru</a><br><a target=\"_blank\" href=\"https://github.com/Nino-cunei/tfFromAtf/blob/master/docs/transcription.md\" title=\"~/github/Nino-cunei/oldbabylonian/tf/1.0.6/atf.tf\">atf</a><br><a target=\"_blank\" href=\"https://github.com/Nino-cunei/tfFromAtf/blob/master/docs/transcription.md\" title=\"~/github/Nino-cunei/oldbabylonian/tf/1.0.6/atfpost.tf\">atfpost</a><br><a target=\"_blank\" href=\"https://github.com/Nino-cunei/tfFromAtf/blob/master/docs/transcription.md\" title=\"~/github/Nino-cunei/oldbabylonian/tf/1.0.6/atfpre.tf\">atfpre</a><br><a target=\"_blank\" href=\"https://github.com/Nino-cunei/tfFromAtf/blob/master/docs/transcription.md\" title=\"~/github/Nino-cunei/oldbabylonian/tf/1.0.6/author.tf\">author</a><br><a target=\"_blank\" href=\"https://github.com/Nino-cunei/tfFromAtf/blob/master/docs/transcription.md\" title=\"~/github/Nino-cunei/oldbabylonian/tf/1.0.6/col.tf\">col</a><br><a target=\"_blank\" href=\"https://github.com/Nino-cunei/tfFromAtf/blob/master/docs/transcription.md\" title=\"~/github/Nino-cunei/oldbabylonian/tf/1.0.6/collated.tf\">collated</a><br><a target=\"_blank\" href=\"https://github.com/Nino-cunei/tfFromAtf/blob/master/docs/transcription.md\" title=\"~/github/Nino-cunei/oldbabylonian/tf/1.0.6/collection.tf\">collection</a><br><a target=\"_blank\" href=\"https://github.com/Nino-cunei/tfFromAtf/blob/master/docs/transcription.md\" title=\"~/github/Nino-cunei/oldbabylonian/tf/1.0.6/comment.tf\">comment</a><br><a target=\"_blank\" href=\"https://github.com/Nino-cunei/tfFromAtf/blob/master/docs/transcription.md\" title=\"~/github/Nino-cunei/oldbabylonian/tf/1.0.6/damage.tf\">damage</a><br><a target=\"_blank\" href=\"https://github.com/Nino-cunei/tfFromAtf/blob/master/docs/transcription.md\" title=\"~/github/Nino-cunei/oldbabylonian/tf/1.0.6/det.tf\">det</a><br><a target=\"_blank\" href=\"https://github.com/Nino-cunei/tfFromAtf/blob/master/docs/transcription.md\" title=\"~/github/Nino-cunei/oldbabylonian/tf/1.0.6/docnote.tf\">docnote</a><br><a target=\"_blank\" href=\"https://github.com/Nino-cunei/tfFromAtf/blob/master/docs/transcription.md\" title=\"~/github/Nino-cunei/oldbabylonian/tf/1.0.6/docnumber.tf\">docnumber</a><br><a target=\"_blank\" href=\"https://github.com/Nino-cunei/tfFromAtf/blob/master/docs/transcription.md\" title=\"~/github/Nino-cunei/oldbabylonian/tf/1.0.6/excavation.tf\">excavation</a><br><a target=\"_blank\" href=\"https://github.com/Nino-cunei/tfFromAtf/blob/master/docs/transcription.md\" title=\"~/github/Nino-cunei/oldbabylonian/tf/1.0.6/excised.tf\">excised</a><br><a target=\"_blank\" href=\"https://github.com/Nino-cunei/tfFromAtf/blob/master/docs/transcription.md\" title=\"~/github/Nino-cunei/oldbabylonian/tf/1.0.6/face.tf\">face</a><br><a target=\"_blank\" href=\"https://github.com/Nino-cunei/tfFromAtf/blob/master/docs/transcription.md\" title=\"~/github/Nino-cunei/oldbabylonian/tf/1.0.6/flags.tf\">flags</a><br><a target=\"_blank\" href=\"https://github.com/Nino-cunei/tfFromAtf/blob/master/docs/transcription.md\" title=\"~/github/Nino-cunei/oldbabylonian/tf/1.0.6/fraction.tf\">fraction</a><br><a target=\"_blank\" href=\"https://github.com/Nino-cunei/tfFromAtf/blob/master/docs/transcription.md\" title=\"~/github/Nino-cunei/oldbabylonian/tf/1.0.6/genre.tf\">genre</a><br><a target=\"_blank\" href=\"https://github.com/Nino-cunei/tfFromAtf/blob/master/docs/transcription.md\" title=\"~/github/Nino-cunei/oldbabylonian/tf/1.0.6/grapheme.tf\">grapheme</a><br><a target=\"_blank\" href=\"https://github.com/Nino-cunei/tfFromAtf/blob/master/docs/transcription.md\" title=\"~/github/Nino-cunei/oldbabylonian/tf/1.0.6/graphemer.tf\">graphemer</a><br><a target=\"_blank\" href=\"https://github.com/Nino-cunei/tfFromAtf/blob/master/docs/transcription.md\" title=\"~/github/Nino-cunei/oldbabylonian/tf/1.0.6/graphemeu.tf\">graphemeu</a><br><a target=\"_blank\" href=\"https://github.com/Nino-cunei/tfFromAtf/blob/master/docs/transcription.md\" title=\"~/github/Nino-cunei/oldbabylonian/tf/1.0.6/lang.tf\">lang</a><br><a target=\"_blank\" href=\"https://github.com/Nino-cunei/tfFromAtf/blob/master/docs/transcription.md\" title=\"~/github/Nino-cunei/oldbabylonian/tf/1.0.6/langalt.tf\">langalt</a><br><a target=\"_blank\" href=\"https://github.com/Nino-cunei/tfFromAtf/blob/master/docs/transcription.md\" title=\"~/github/Nino-cunei/oldbabylonian/tf/1.0.6/ln.tf\">ln</a><br><a target=\"_blank\" href=\"https://github.com/Nino-cunei/tfFromAtf/blob/master/docs/transcription.md\" title=\"~/github/Nino-cunei/oldbabylonian/tf/1.0.6/lnc.tf\">lnc</a><br><a target=\"_blank\" href=\"https://github.com/Nino-cunei/tfFromAtf/blob/master/docs/transcription.md\" title=\"~/github/Nino-cunei/oldbabylonian/tf/1.0.6/lnno.tf\">lnno</a><br><a target=\"_blank\" href=\"https://github.com/Nino-cunei/tfFromAtf/blob/master/docs/transcription.md\" title=\"~/github/Nino-cunei/oldbabylonian/tf/1.0.6/material.tf\">material</a><br><a target=\"_blank\" href=\"https://github.com/Nino-cunei/tfFromAtf/blob/master/docs/transcription.md\" title=\"~/github/Nino-cunei/oldbabylonian/tf/1.0.6/missing.tf\">missing</a><br><a target=\"_blank\" href=\"https://github.com/Nino-cunei/tfFromAtf/blob/master/docs/transcription.md\" title=\"~/github/Nino-cunei/oldbabylonian/tf/1.0.6/museumcode.tf\">museumcode</a><br><a target=\"_blank\" href=\"https://github.com/Nino-cunei/tfFromAtf/blob/master/docs/transcription.md\" title=\"~/github/Nino-cunei/oldbabylonian/tf/1.0.6/museumname.tf\">museumname</a><br><a target=\"_blank\" href=\"https://github.com/Nino-cunei/tfFromAtf/blob/master/docs/transcription.md\" title=\"~/github/Nino-cunei/oldbabylonian/tf/1.0.6/object.tf\">object</a><br><a target=\"_blank\" href=\"https://github.com/Nino-cunei/tfFromAtf/blob/master/docs/transcription.md\" title=\"~/github/Nino-cunei/oldbabylonian/tf/1.0.6/operator.tf\">operator</a><br><a target=\"_blank\" href=\"https://github.com/Nino-cunei/tfFromAtf/blob/master/docs/transcription.md\" title=\"~/github/Nino-cunei/oldbabylonian/tf/1.0.6/operatorr.tf\">operatorr</a><br><a target=\"_blank\" href=\"https://github.com/Nino-cunei/tfFromAtf/blob/master/docs/transcription.md\" title=\"~/github/Nino-cunei/oldbabylonian/tf/1.0.6/operatoru.tf\">operatoru</a><br><a target=\"_blank\" href=\"https://github.com/Nino-cunei/tfFromAtf/blob/master/docs/transcription.md\" title=\"~/github/Nino-cunei/oldbabylonian/tf/1.0.6/otype.tf\">otype</a><br><a target=\"_blank\" href=\"https://github.com/Nino-cunei/tfFromAtf/blob/master/docs/transcription.md\" title=\"~/github/Nino-cunei/oldbabylonian/tf/1.0.6/period.tf\">period</a><br><a target=\"_blank\" href=\"https://github.com/Nino-cunei/tfFromAtf/blob/master/docs/transcription.md\" title=\"~/github/Nino-cunei/oldbabylonian/tf/1.0.6/pnumber.tf\">pnumber</a><br><a target=\"_blank\" href=\"https://github.com/Nino-cunei/tfFromAtf/blob/master/docs/transcription.md\" title=\"~/github/Nino-cunei/oldbabylonian/tf/1.0.6/primecol.tf\">primecol</a><br><a target=\"_blank\" href=\"https://github.com/Nino-cunei/tfFromAtf/blob/master/docs/transcription.md\" title=\"~/github/Nino-cunei/oldbabylonian/tf/1.0.6/primeln.tf\">primeln</a><br><a target=\"_blank\" href=\"https://github.com/Nino-cunei/tfFromAtf/blob/master/docs/transcription.md\" title=\"~/github/Nino-cunei/oldbabylonian/tf/1.0.6/pubdate.tf\">pubdate</a><br><a target=\"_blank\" href=\"https://github.com/Nino-cunei/tfFromAtf/blob/master/docs/transcription.md\" title=\"~/github/Nino-cunei/oldbabylonian/tf/1.0.6/question.tf\">question</a><br><a target=\"_blank\" href=\"https://github.com/Nino-cunei/tfFromAtf/blob/master/docs/transcription.md\" title=\"~/github/Nino-cunei/oldbabylonian/tf/1.0.6/reading.tf\">reading</a><br><a target=\"_blank\" href=\"https://github.com/Nino-cunei/tfFromAtf/blob/master/docs/transcription.md\" title=\"~/github/Nino-cunei/oldbabylonian/tf/1.0.6/readingr.tf\">readingr</a><br><a target=\"_blank\" href=\"https://github.com/Nino-cunei/tfFromAtf/blob/master/docs/transcription.md\" title=\"~/github/Nino-cunei/oldbabylonian/tf/1.0.6/readingu.tf\">readingu</a><br><a target=\"_blank\" href=\"https://github.com/Nino-cunei/tfFromAtf/blob/master/docs/transcription.md\" title=\"~/github/Nino-cunei/oldbabylonian/tf/1.0.6/remarkable.tf\">remarkable</a><br><a target=\"_blank\" href=\"https://github.com/Nino-cunei/tfFromAtf/blob/master/docs/transcription.md\" title=\"~/github/Nino-cunei/oldbabylonian/tf/1.0.6/remarks.tf\">remarks</a><br><a target=\"_blank\" href=\"https://github.com/Nino-cunei/tfFromAtf/blob/master/docs/transcription.md\" title=\"~/github/Nino-cunei/oldbabylonian/tf/1.0.6/repeat.tf\">repeat</a><br><a target=\"_blank\" href=\"https://github.com/Nino-cunei/tfFromAtf/blob/master/docs/transcription.md\" title=\"~/github/Nino-cunei/oldbabylonian/tf/1.0.6/srcLn.tf\">srcLn</a><br><a target=\"_blank\" href=\"https://github.com/Nino-cunei/tfFromAtf/blob/master/docs/transcription.md\" title=\"~/github/Nino-cunei/oldbabylonian/tf/1.0.6/srcLnNum.tf\">srcLnNum</a><br><a target=\"_blank\" href=\"https://github.com/Nino-cunei/tfFromAtf/blob/master/docs/transcription.md\" title=\"~/github/Nino-cunei/oldbabylonian/tf/1.0.6/srcfile.tf\">srcfile</a><br><a target=\"_blank\" href=\"https://github.com/Nino-cunei/tfFromAtf/blob/master/docs/transcription.md\" title=\"~/github/Nino-cunei/oldbabylonian/tf/1.0.6/subgenre.tf\">subgenre</a><br><a target=\"_blank\" href=\"https://github.com/Nino-cunei/tfFromAtf/blob/master/docs/transcription.md\" title=\"~/github/Nino-cunei/oldbabylonian/tf/1.0.6/supplied.tf\">supplied</a><br><a target=\"_blank\" href=\"https://github.com/Nino-cunei/tfFromAtf/blob/master/docs/transcription.md\" title=\"~/github/Nino-cunei/oldbabylonian/tf/1.0.6/sym.tf\">sym</a><br><a target=\"_blank\" href=\"https://github.com/Nino-cunei/tfFromAtf/blob/master/docs/transcription.md\" title=\"~/github/Nino-cunei/oldbabylonian/tf/1.0.6/symr.tf\">symr</a><br><a target=\"_blank\" href=\"https://github.com/Nino-cunei/tfFromAtf/blob/master/docs/transcription.md\" title=\"~/github/Nino-cunei/oldbabylonian/tf/1.0.6/symu.tf\">symu</a><br><a target=\"_blank\" href=\"https://github.com/Nino-cunei/tfFromAtf/blob/master/docs/transcription.md\" title=\"~/github/Nino-cunei/oldbabylonian/tf/1.0.6/trans.tf\">trans</a><br><a target=\"_blank\" href=\"https://github.com/Nino-cunei/tfFromAtf/blob/master/docs/transcription.md\" title=\"~/github/Nino-cunei/oldbabylonian/tf/1.0.6/transcriber.tf\">transcriber</a><br><a target=\"_blank\" href=\"https://github.com/Nino-cunei/tfFromAtf/blob/master/docs/transcription.md\" title=\"~/github/Nino-cunei/oldbabylonian/tf/1.0.6/translation@en.tf\">translation@ll</a><br><a target=\"_blank\" href=\"https://github.com/Nino-cunei/tfFromAtf/blob/master/docs/transcription.md\" title=\"~/github/Nino-cunei/oldbabylonian/tf/1.0.6/type.tf\">type</a><br><a target=\"_blank\" href=\"https://github.com/Nino-cunei/tfFromAtf/blob/master/docs/transcription.md\" title=\"~/github/Nino-cunei/oldbabylonian/tf/1.0.6/uncertain.tf\">uncertain</a><br><a target=\"_blank\" href=\"https://github.com/Nino-cunei/tfFromAtf/blob/master/docs/transcription.md\" title=\"~/github/Nino-cunei/oldbabylonian/tf/1.0.6/volume.tf\">volume</a><br><b><i><a target=\"_blank\" href=\"https://github.com/Nino-cunei/tfFromAtf/blob/master/docs/transcription.md\" title=\"~/github/Nino-cunei/oldbabylonian/tf/1.0.6/oslots.tf\">oslots</a></i></b><br></details>"
      ],
      "text/plain": [
       "<IPython.core.display.HTML object>"
      ]
     },
     "metadata": {},
     "output_type": "display_data"
    },
    {
     "data": {
      "text/html": [
       "<style>tr.tf.ltr, td.tf.ltr, th.tf.ltr { text-align: left ! important;}\n",
       "tr.tf.rtl, td.tf.rtl, th.tf.rtl { text-align: right ! important;}\n",
       "@font-face {\n",
       "  font-family: \"Gentium Plus\";\n",
       "  src: local('Gentium Plus'), local('GentiumPlus'),\n",
       "    url('/server/static/fonts/GentiumPlus-R.woff') format('woff'),\n",
       "    url('https://github.com/annotation/text-fabric/blob/master/tf/server/static/fonts/GentiumPlus-R.woff?raw=true') format('woff');\n",
       "}\n",
       "\n",
       "@font-face {\n",
       "  font-family: \"Ezra SIL\";\n",
       "  src: local('Ezra SIL'), local('EzraSIL'),\n",
       "    url('/server/static/fonts/SILEOT.woff') format('woff'),\n",
       "    url('https://github.com/annotation/text-fabric/blob/master/tf/server/static/fonts/SILEOT.woff?raw=true') format('woff');\n",
       "}\n",
       "\n",
       "@font-face {\n",
       "  font-family: \"SBL Hebrew\";\n",
       "  src: local('SBL Hebrew'), local('SBLHebrew'),\n",
       "    url('/server/static/fonts/SBL_Hbrw.woff') format('woff'),\n",
       "    url('https://github.com/annotation/text-fabric/blob/master/tf/server/static/fonts/SBL_Hbrw.woff?raw=true') format('woff');\n",
       "}\n",
       "\n",
       "@font-face {\n",
       "  font-family: \"Estrangelo Edessa\";\n",
       "  src: local('Estrangelo Edessa'), local('EstrangeloEdessa');\n",
       "    url('/server/static/fonts/SyrCOMEdessa.woff') format('woff'),\n",
       "    url('https://github.com/annotation/text-fabric/blob/master/tf/server/static/fonts/SyrCOMEdessa.woff?raw=true') format('woff');\n",
       "}\n",
       "\n",
       "@font-face {\n",
       "  font-family: AmiriQuran;\n",
       "  font-style: normal;\n",
       "  font-weight: 400;\n",
       "  src: local('Amiri Quran'), local('AmiriQuran'),\n",
       "    url('/server/static/fonts/AmiriQuran.woff') format('woff'),\n",
       "    url('https://github.com/annotation/text-fabric/blob/master/tf/server/static/fonts/AmiriQuran.woff?raw=true') format('woff');\n",
       "}\n",
       "\n",
       "@font-face {\n",
       "  font-family: AmiriQuranColored;\n",
       "  font-style: normal;\n",
       "  font-weight: 400;\n",
       "  src: local('Amiri Quran Colored'), local('AmiriQuranColored'),\n",
       "    url('/server/static/fonts/AmiriQuranColored.woff') format('woff'),\n",
       "    url('https://github.com/annotation/text-fabric/blob/master/tf/server/static/fonts/AmiriQuranColored.woff?raw=true') format('woff');\n",
       "}\n",
       "\n",
       "@font-face {\n",
       "  font-family: \"Santakku\";\n",
       "  src: local('Santakku'),\n",
       "    url('/server/static/fonts/Santakku.woff') format('woff'),\n",
       "    url('https://github.com/annotation/text-fabric/blob/master/tf/server/static/fonts/Santakku.woff?raw=true') format('woff');\n",
       "}\n",
       "\n",
       "@font-face {\n",
       "  font-family: \"SantakkuM\";\n",
       "  src: local('SantakkuM'),\n",
       "    url('/server/static/fonts/SantakkuM.woff') format('woff'),\n",
       "    url('https://github.com/annotation/text-fabric/blob/master/tf/server/static/fonts/SantakkuM.woff?raw=true') format('woff');\n",
       "}\n",
       "/* bypassing some classical notebook settings */\n",
       "div#notebook {\n",
       "  line-height: unset;\n",
       "}\n",
       "/* neutral text */\n",
       ".txtn,.txtn a:visited,.txtn a:link {\n",
       "    font-family: sans-serif;\n",
       "    font-size: medium;\n",
       "    direction: ltr;\n",
       "    text-decoration: none;\n",
       "    color: var(--text-color);\n",
       "}\n",
       "/* transcription text */\n",
       ".txtt,.txtt a:visited,.txtt a:link {\n",
       "    font-family: monospace;\n",
       "    font-size: medium;\n",
       "    direction: ltr;\n",
       "    text-decoration: none;\n",
       "    color: var(--text-color);\n",
       "}\n",
       "/* source text */\n",
       ".txto,.txto a:visited,.txto a:link {\n",
       "    font-family: serif;\n",
       "    font-size: medium;\n",
       "    direction: ltr;\n",
       "    text-decoration: none;\n",
       "    color: var(--text-color);\n",
       "}\n",
       "/* phonetic text */\n",
       ".txtp,.txtp a:visited,.txtp a:link {\n",
       "    font-family: Gentium, sans-serif;\n",
       "    font-size: medium;\n",
       "    direction: ltr;\n",
       "    text-decoration: none;\n",
       "    color: var(--text-color);\n",
       "}\n",
       "/* original script text */\n",
       ".txtu,.txtu a:visited,.txtu a:link {\n",
       "    font-family: Gentium, sans-serif;\n",
       "    font-size: medium;\n",
       "    text-decoration: none;\n",
       "    color: var(--text-color);\n",
       "}\n",
       "/* hebrew */\n",
       ".txtu.hbo,.lex.hbo {\n",
       "    font-family: \"Ezra SIL\", \"SBL Hebrew\", sans-serif;\n",
       "    font-size: large;\n",
       "    direction: rtl ! important;\n",
       "    unicode-bidi: embed;\n",
       "}\n",
       "/* syriac */\n",
       ".txtu.syc,.lex.syc {\n",
       "    font-family: \"Estrangelo Edessa\", sans-serif;\n",
       "    font-size: medium;\n",
       "    direction: rtl ! important;\n",
       "    unicode-bidi: embed;\n",
       "}\n",
       "/* neo aramaic */\n",
       ".txtu.cld,.lex.cld {\n",
       "    font-family: \"CharisSIL-R\", sans-serif;\n",
       "    font-size: medium;\n",
       "    direction: ltr ! important;\n",
       "    unicode-bidi: embed;\n",
       "}\n",
       "/* standard arabic */\n",
       ".txtu.ara,.lex.ara {\n",
       "    font-family: \"AmiriQuran\", sans-serif;\n",
       "    font-size: large;\n",
       "    direction: rtl ! important;\n",
       "    unicode-bidi: embed;\n",
       "}\n",
       "/* cuneiform */\n",
       ".txtu.akk,.lex.akk {\n",
       "    font-family: Santakku, sans-serif;\n",
       "    font-size: large;\n",
       "    direction: ltr ! important;\n",
       "    unicode-bidi: embed;\n",
       "}\n",
       "/* greek */\n",
       ".txtu.grc,.lex.grc a:link {\n",
       "    font-family: Gentium, sans-serif;\n",
       "    font-size: medium;\n",
       "    direction: ltr ! important;\n",
       "    unicode-bidi: embed;\n",
       "}\n",
       "a:hover {\n",
       "    text-decoration: underline | important;\n",
       "    color: #0000ff | important;\n",
       "}\n",
       ".ltr {\n",
       "    direction: ltr ! important;\n",
       "}\n",
       ".rtl {\n",
       "    direction: rtl ! important;\n",
       "}\n",
       ".features {\n",
       "    font-family: monospace;\n",
       "    font-size: medium;\n",
       "    font-weight: bold;\n",
       "    color: var(--features);\n",
       "    display: flex;\n",
       "    flex-flow: column nowrap;\n",
       "    justify-content: flex-start;\n",
       "    align-items: flex-start;\n",
       "    align-content: flex-start;\n",
       "    padding: 0.1rem;\n",
       "    margin: 0.1rem;\n",
       "    direction: ltr;\n",
       "    border: var(--meta-width) solid var(--meta-color);\n",
       "    border-radius: var(--meta-width);\n",
       "}\n",
       ".features div,.features span {\n",
       "    padding: 0;\n",
       "    margin: -0.1rem 0;\n",
       "}\n",
       ".features .f {\n",
       "    font-family: sans-serif;\n",
       "    font-size: small;\n",
       "    font-weight: normal;\n",
       "    color: #5555bb;\n",
       "}\n",
       ".features .xft {\n",
       "  color: #000000;\n",
       "  background-color: #eeeeee;\n",
       "  font-size: medium;\n",
       "  margin: 0.1rem 0rem;\n",
       "}\n",
       ".features .xft .f {\n",
       "  color: #000000;\n",
       "  background-color: #eeeeee;\n",
       "  font-size: small;\n",
       "  font-weight: normal;\n",
       "}\n",
       ".section {\n",
       "    font-family: sans-serif;\n",
       "    font-size: small;\n",
       "    font-weight: bold;\n",
       "    color: var(--section);\n",
       "    unicode-bidi: embed;\n",
       "    text-align: start;\n",
       "}\n",
       ".structure {\n",
       "    font-family: sans-serif;\n",
       "    font-size: small;\n",
       "    font-weight: bold;\n",
       "    color: var(--structure);\n",
       "    unicode-bidi: embed;\n",
       "    text-align: start;\n",
       "}\n",
       ".comments {\n",
       "    display: flex;\n",
       "    justify-content: flex-start;\n",
       "    align-items: flex-start;\n",
       "    align-content: flex-start;\n",
       "    flex-flow: column nowrap;\n",
       "}\n",
       ".nd, a:link.nd {\n",
       "    font-family: sans-serif;\n",
       "    font-size: small;\n",
       "    color: var(--node);\n",
       "    vertical-align: super;\n",
       "    direction: ltr ! important;\n",
       "    unicode-bidi: embed;\n",
       "}\n",
       ".lex {\n",
       "  color: var(--lex-color);;\n",
       "}\n",
       ".children,.children.ltr {\n",
       "    display: flex;\n",
       "    border: 0;\n",
       "    background-color: #ffffff;\n",
       "    justify-content: flex-start;\n",
       "    align-items: flex-start;\n",
       "    align-content: flex-start;\n",
       "}\n",
       ".children.stretch {\n",
       "    align-items: stretch;\n",
       "}\n",
       ".children.hor {\n",
       "    flex-flow: row nowrap;\n",
       "}\n",
       ".children.hor.wrap {\n",
       "    flex-flow: row wrap;\n",
       "}\n",
       ".children.ver {\n",
       "    flex-flow: column nowrap;\n",
       "}\n",
       ".children.ver.wrap {\n",
       "    flex-flow: column wrap;\n",
       "}\n",
       ".contnr {\n",
       "    width: fit-content;\n",
       "    display: flex;\n",
       "    justify-content: flex-start;\n",
       "    align-items: flex-start;\n",
       "    align-content: flex-start;\n",
       "    flex-flow: column nowrap;\n",
       "    background: #ffffff none repeat scroll 0 0;\n",
       "    padding:  0.5rem 0.1rem 0.1rem 0.1rem;\n",
       "    margin: 0.8rem 0.1rem 0.1rem 0.1rem;\n",
       "    border-style: solid;\n",
       "    font-size: small;\n",
       "}\n",
       ".contnr.trm {\n",
       "    background-attachment: local;\n",
       "}\n",
       ".contnr.cnul {\n",
       "    padding:  0;\n",
       "    margin: 0;\n",
       "    border-style: solid;\n",
       "    font-size: xx-small;\n",
       "}\n",
       ".contnr.cnul,.lbl.cnul {\n",
       "    border-color: var(--border-color-nul);\n",
       "    border-width: var(--border-width-nul);\n",
       "    border-radius: var(--border-width-nul);\n",
       "}\n",
       ".contnr.c0,.lbl.c0 {\n",
       "    border-color: var(--border-color0);\n",
       "    border-width: var(--border-width0);\n",
       "    border-radius: var(--border-width0);\n",
       "}\n",
       ".contnr.c1,.lbl.c1 {\n",
       "    border-color: var(--border-color1);\n",
       "    border-width: var(--border-width1);\n",
       "    border-radius: var(--border-width1);\n",
       "}\n",
       ".contnr.c2,.lbl.c2 {\n",
       "    border-color: var(--border-color2);\n",
       "    border-width: var(--border-width2);\n",
       "    border-radius: var(--border-width2);\n",
       "}\n",
       ".contnr.c3,.lbl.c3 {\n",
       "    border-color: var(--border-color3);\n",
       "    border-width: var(--border-width3);\n",
       "    border-radius: var(--border-width3);\n",
       "}\n",
       ".contnr.c4,.lbl.c4 {\n",
       "    border-color: var(--border-color4);\n",
       "    border-width: var(--border-width4);\n",
       "    border-radius: var(--border-width4);\n",
       "}\n",
       "span.plain {\n",
       "    display: inline-block;\n",
       "    white-space: pre-wrap;\n",
       "}\n",
       ".plain {\n",
       "    background-color: #ffffff;\n",
       "}\n",
       ".plain.l,.contnr.l,.contnr.l>.lbl {\n",
       "    border-left-style: dotted\n",
       "}\n",
       ".plain.r,.contnr.r,.contnr.r>.lbl {\n",
       "    border-right-style: dotted\n",
       "}\n",
       ".plain.lno,.contnr.lno,.contnr.lno>.lbl {\n",
       "    border-left-style: none\n",
       "}\n",
       ".plain.rno,.contnr.rno,.contnr.rno>.lbl {\n",
       "    border-right-style: none\n",
       "}\n",
       ".plain.l {\n",
       "    padding-left: 0.2rem;\n",
       "    margin-left: 0.1rem;\n",
       "    border-width: var(--border-width-plain);\n",
       "}\n",
       ".plain.r {\n",
       "    padding-right: 0.2rem;\n",
       "    margin-right: 0.1rem;\n",
       "    border-width: var(--border-width-plain);\n",
       "}\n",
       ".lbl {\n",
       "    font-family: monospace;\n",
       "    margin-top: -1.2rem;\n",
       "    margin-left: 1rem;\n",
       "    background: #ffffff none repeat scroll 0 0;\n",
       "    padding: 0 0.3rem;\n",
       "    border-style: solid;\n",
       "    display: block;\n",
       "    color: var(--label)\n",
       "}\n",
       ".lbl.trm {\n",
       "    background-attachment: local;\n",
       "    margin-top: 0.1rem;\n",
       "    margin-left: 0.1rem;\n",
       "    padding: 0.1rem 0.1rem;\n",
       "    border-style: none;\n",
       "}\n",
       ".lbl.cnul {\n",
       "    font-size: xx-small;\n",
       "}\n",
       ".lbl.c0 {\n",
       "    font-size: small;\n",
       "}\n",
       ".lbl.c1 {\n",
       "    font-size: small;\n",
       "}\n",
       ".lbl.c2 {\n",
       "    font-size: medium;\n",
       "}\n",
       ".lbl.c3 {\n",
       "    font-size: medium;\n",
       "}\n",
       ".lbl.c4 {\n",
       "    font-size: large;\n",
       "}\n",
       ".occs, a:link.occs {\n",
       "    font-size: small;\n",
       "}\n",
       "\n",
       "/* PROVENANCE */\n",
       "\n",
       "div.prov {\n",
       "\tmargin: 2rem;\n",
       "\tpadding: 1rem;\n",
       "\tborder: 0.1rem solid var(--fog-rim);\n",
       "}\n",
       "div.pline {\n",
       "\tdisplay: flex;\n",
       "\tflex-flow: row nowrap;\n",
       "\tjustify-content: stretch;\n",
       "\talign-items: baseline;\n",
       "}\n",
       "div.p2line {\n",
       "\tmargin-left: 2em;\n",
       "\tdisplay: flex;\n",
       "\tflex-flow: row nowrap;\n",
       "\tjustify-content: stretch;\n",
       "\talign-items: baseline;\n",
       "}\n",
       "div.psline {\n",
       "\tdisplay: flex;\n",
       "\tflex-flow: row nowrap;\n",
       "\tjustify-content: stretch;\n",
       "\talign-items: baseline;\n",
       "\tbackground-color: var(--gold-mist-back);\n",
       "}\n",
       "div.pname {\n",
       "\tflex: 0 0 5rem;\n",
       "\tfont-weight: bold;\n",
       "}\n",
       "div.pval {\n",
       "    flex: 1 1 auto;\n",
       "}\n",
       "\n",
       ":root {\n",
       "\t--node:               hsla(120, 100%,  20%, 1.0  );\n",
       "\t--label:              hsla(  0, 100%,  20%, 1.0  );\n",
       "\t--section:            hsla(  0, 100%,  25%, 1.0  );\n",
       "\t--structure:          hsla(120, 100%,  25%, 1.0  );\n",
       "\t--features:           hsla(  0,   0%,  30%, 1.0  );\n",
       "  --text-color:         hsla( 60,  80%,  10%, 1.0  );\n",
       "  --lex-color:          hsla(220,  90%,  60%, 1.0  );\n",
       "  --meta-color:         hsla(  0,   0%,  90%, 0.7  );\n",
       "  --meta-width:         0.15rem;\n",
       "  --border-color-nul:   hsla(  0,   0%,  90%, 0.5  );\n",
       "  --border-color0:      hsla(  0,   0%,  90%, 0.9  );\n",
       "  --border-color1:      hsla(  0,   0%,  80%, 0.9  );\n",
       "  --border-color2:      hsla(  0,   0%,  70%, 0.9  );\n",
       "  --border-color3:      hsla(  0,   0%,  80%, 0.8  );\n",
       "  --border-color4:      hsla(  0,   0%,  60%, 0.9  );\n",
       "  --border-width-nul:   0.1rem;\n",
       "  --border-width0:      0.1rem;\n",
       "  --border-width1:      0.15rem;\n",
       "  --border-width2:      0.2rem;\n",
       "  --border-width3:      0.3rem;\n",
       "  --border-width4:      0.25rem;\n",
       "  --border-width-plain: 0.1rem;\n",
       "}\n",
       ".hl {\n",
       "  background-color: var(--hl-strong);\n",
       "}\n",
       "span.hl {\n",
       "\tbackground-color: var(--hl-strong);\n",
       "\tborder-width: 0;\n",
       "\tborder-radius: 0.1rem;\n",
       "\tborder-style: solid;\n",
       "}\n",
       "div.contnr.hl,div.lbl.hl {\n",
       "  background-color: var(--hl-strong);\n",
       "}\n",
       "div.contnr.hl {\n",
       "  border-color: var(--hl-rim) ! important;\n",
       "\tborder-width: 0.2rem ! important;\n",
       "}\n",
       "\n",
       "span.hlbx {\n",
       "\tborder-color: var(--hl-rim);\n",
       "\tborder-width: 0.2rem ! important;\n",
       "\tborder-style: solid;\n",
       "\tborder-radius: 0.3rem;\n",
       "  padding: 0.2rem;\n",
       "  margin: 0.2rem;\n",
       "}\n",
       "\n",
       "span.plain {\n",
       "  display: inline-block;\n",
       "  white-space: pre-wrap;\n",
       "}\n",
       "\n",
       ":root {\n",
       "\t--hl-strong:        hsla( 60, 100%,  70%, 0.9  );\n",
       "\t--hl-rim:           hsla( 55,  80%,  50%, 1.0  );\n",
       "}\n",
       ".pnum {\n",
       "    font-family: sans-serif;\n",
       "    font-size: small;\n",
       "    font-weight: bold;\n",
       "    color: #444444;\n",
       "}\n",
       ".op {\n",
       "    padding:  0.5em 0.1em 0.1em 0.1em;\n",
       "    margin: 0.8em 0.1em 0.1em 0.1em;\n",
       "    font-family: monospace;\n",
       "    font-size: x-large;\n",
       "    font-weight: bold;\n",
       "}\n",
       ".period {\n",
       "    font-family: monospace;\n",
       "    font-size: medium;\n",
       "    font-weight: bold;\n",
       "    color: #0000bb;\n",
       "}\n",
       ".comment {\n",
       "    color: #7777dd;\n",
       "    font-family: monospace;\n",
       "    font-size: small;\n",
       "}\n",
       ".operator {\n",
       "    color: #ff77ff;\n",
       "    font-size: large;\n",
       "}\n",
       "/* LANGUAGE: superscript and subscript */\n",
       "\n",
       "/* cluster */\n",
       ".det {\n",
       "    vertical-align: super;\n",
       "}\n",
       "/* cluster */\n",
       ".langalt {\n",
       "    vertical-align: sub;\n",
       "}\n",
       "/* REDACTIONAL: line over or under  */\n",
       "\n",
       "/* flag */\n",
       ".collated {\n",
       "    font-weight: bold;\n",
       "    text-decoration: underline;\n",
       "}\n",
       "/* cluster */\n",
       ".excised {\n",
       "    color: #dd0000;\n",
       "    text-decoration: line-through;\n",
       "}\n",
       "/* cluster */\n",
       ".supplied {\n",
       "    color: #0000ff;\n",
       "    text-decoration: overline;\n",
       "}\n",
       "/* flag */\n",
       ".remarkable {\n",
       "    font-weight: bold;\n",
       "    text-decoration: overline;\n",
       "}\n",
       "\n",
       "/* UNSURE: italic*/\n",
       "\n",
       "/* cluster */\n",
       ".uncertain {\n",
       "    font-style: italic\n",
       "}\n",
       "/* flag */\n",
       ".question {\n",
       "    font-weight: bold;\n",
       "    font-style: italic\n",
       "}\n",
       "\n",
       "/* BROKEN: text-shadow */\n",
       "\n",
       "/* cluster */\n",
       ".missing {\n",
       "    color: #999999;\n",
       "    text-shadow: #bbbbbb 1px 1px;\n",
       "}\n",
       "/* flag */\n",
       ".damage {\n",
       "    font-weight: bold;\n",
       "    color: #999999;\n",
       "    text-shadow: #bbbbbb 1px 1px;\n",
       "}\n",
       ".empty {\n",
       "  color: #ff0000;\n",
       "}\n",
       "\n",
       "</style>"
      ],
      "text/plain": [
       "<IPython.core.display.HTML object>"
      ]
     },
     "metadata": {},
     "output_type": "display_data"
    },
    {
     "data": {
      "text/html": [
       "<div><b>Text-Fabric API:</b> names <a target=\"_blank\" href=\"https://annotation.github.io/text-fabric/cheatsheet.html\" title=\"doc\">N F E L T S C TF</a> directly usable</div><hr>"
      ],
      "text/plain": [
       "<IPython.core.display.HTML object>"
      ]
     },
     "metadata": {},
     "output_type": "display_data"
    }
   ],
   "source": [
    "A = use(\"oldbabylonian:clone\", checkout=\"clone\", hoist=globals())\n",
    "# A = use('oldbabylonian', hoist=globals())"
   ]
  },
  {
   "cell_type": "markdown",
   "metadata": {},
   "source": [
    "# Inspect the contents of a file\n",
    "We write a function that can peek into file on your system, and show the first few lines.\n",
    "We'll use it to inspect the exported files that we are going to produce."
   ]
  },
  {
   "cell_type": "code",
   "execution_count": 4,
   "metadata": {},
   "outputs": [],
   "source": [
    "EXPORT_FILE = os.path.expanduser(\"~/Downloads/results.tsv\")\n",
    "UPTO = 10\n",
    "\n",
    "\n",
    "def checkout():\n",
    "    with open(EXPORT_FILE, encoding=\"utf_16\") as fh:\n",
    "        for (i, line) in enumerate(fh):\n",
    "            if i >= UPTO:\n",
    "                break\n",
    "            print(line.rstrip(\"\\n\"))"
   ]
  },
  {
   "cell_type": "markdown",
   "metadata": {},
   "source": [
    "# Encoding\n",
    "\n",
    "Our exported `.tsv` files open in Excel without hassle, even if they contain non-latin characters.\n",
    "That is because TF writes such files in an\n",
    "encoding that works well with Excel: `utf_16_le`.\n",
    "You can just open them in Excel, there is no need for conversion before or after opening these files.\n",
    "\n",
    "Should you want to process these files by means of a (Python) program,\n",
    "take care to read them with encoding `utf_16`."
   ]
  },
  {
   "cell_type": "markdown",
   "metadata": {},
   "source": [
    "# Example query\n",
    "\n",
    "We first run a query in order to export the results."
   ]
  },
  {
   "cell_type": "code",
   "execution_count": 5,
   "metadata": {
    "ExecuteTime": {
     "end_time": "2018-05-24T07:46:55.998382Z",
     "start_time": "2018-05-24T07:46:55.137956Z"
    }
   },
   "outputs": [
    {
     "name": "stdout",
     "output_type": "stream",
     "text": [
      "  0.62s 1052 results\n"
     ]
    }
   ],
   "source": [
    "query = \"\"\"\n",
    "line ln<4\n",
    "  =: sign reading=um\n",
    "  <: sign reading=ma\n",
    "  < sign reading=ma\n",
    "\"\"\"\n",
    "results = A.search(query)"
   ]
  },
  {
   "cell_type": "markdown",
   "metadata": {},
   "source": [
    "# Bare export\n",
    "\n",
    "You can export the table of results to Excel.\n",
    "\n",
    "The following command writes a tab-separated file `results.tsv` to your downloads directory.\n",
    "\n",
    "You can specify arguments `toDir=directory` and `toFile=file name` to write to a different file.\n",
    "If the directory does not exist, it will be created.\n",
    "\n",
    "We stick to the default, however."
   ]
  },
  {
   "cell_type": "code",
   "execution_count": 6,
   "metadata": {},
   "outputs": [],
   "source": [
    "A.export(results)"
   ]
  },
  {
   "cell_type": "markdown",
   "metadata": {},
   "source": [
    "Check out the contents:"
   ]
  },
  {
   "cell_type": "code",
   "execution_count": 7,
   "metadata": {},
   "outputs": [
    {
     "name": "stdout",
     "output_type": "stream",
     "text": [
      "R\tS1\tS2\tS3\tNODE1\tTYPE1\tTEXT1\tln1\tNODE2\tTYPE2\tTEXT2\treading2\tNODE3\tTYPE3\tTEXT3\treading3\tNODE4\tTYPE4\tTEXT4\treading4\n",
      "1\tP509373\tobverse\t3\t230790\tline\tum-ma _{d}en-lil2_-sza-du-u2-ni-ma\t3\t11\tsign\tum-\tum\t12\tsign\tma \tma\t20\tsign\tma\tma\n",
      "2\tP509374\tobverse\t3\t230826\tline\tum-[ma] _dingir_ x zi x [...] ma\t3\t359\tsign\tum-\tum\t360\tsign\t[ma] \tma\t366\tsign\tma\tma\n",
      "3\tP509375\tobverse\t3\t230844\tline\t[um-ma x]-na-su-[x]-ma\t3\t509\tsign\t[um-\tum\t510\tsign\tma \tma\t515\tsign\tma\tma\n",
      "4\tP481190\tobverse\t3\t230916\tline\tum-ma nu#-ur2#-i3-li2-szu-ma\t3\t1123\tsign\tum-\tum\t1124\tsign\tma \tma\t1130\tsign\tma\tma\n",
      "5\tP510526\tobverse\t3\t231004\tline\tum-ma geme2-{d}utu-ma\t3\t1686\tsign\tum-\tum\t1687\tsign\tma \tma\t1691\tsign\tma\tma\n",
      "6\tP510527\tobverse\t3\t231022\tline\tum-ma i-lu-ni-ma\t3\t1808\tsign\tum-\tum\t1809\tsign\tma \tma\t1813\tsign\tma\tma\n",
      "7\tP510528\tobverse\t3\t231055\tline\t[um]-ma# i-lu-ni-ma\t3\t2161\tsign\t[um]-\tum\t2162\tsign\tma# \tma\t2166\tsign\tma\tma\n",
      "8\tP510529\tobverse\t3\t231068\tline\tum-ma i-lu-ni-ma\t3\t2272\tsign\tum-\tum\t2273\tsign\tma \tma\t2277\tsign\tma\tma\n",
      "9\tP510530\tobverse\t3\t231088\tline\t[um-ma {d}na-bi]-um#-na-s,i-ir-ma\t3\t2401\tsign\t[um-\tum\t2402\tsign\tma \tma\t2410\tsign\tma\tma\n"
     ]
    }
   ],
   "source": [
    "checkout()"
   ]
  },
  {
   "cell_type": "markdown",
   "metadata": {},
   "source": [
    "You see the following columns:\n",
    "\n",
    "* **R** the sequence number of the result tuple in the result list\n",
    "* **S1 S2 S3** the section as P-number, face, line number, in separate columns\n",
    "* **NODEi TYPEi** the node and its type, for each node **i** in the result tuple\n",
    "* **TEXTi** the full text of node **i**, if the node type admits a concise text representation\n",
    "* **reading2-4** the value of feature **reading**, since our query mentions the feature `reading` on nodes 2-4"
   ]
  },
  {
   "cell_type": "markdown",
   "metadata": {},
   "source": [
    "# Poorer exports\n",
    "\n",
    "If you do not need the full text of the lines, you can leave them out by specifying a smaller *condense type*.\n",
    "\n",
    "The export function provides text for all nodes whose type is not too big.\n",
    "What is too big is determined by the condense type.\n",
    "\n",
    "In this corpus, the default condens type is line. Node types bigger than lines will not get text.\n",
    "\n",
    "Now, if we change the condenseType to something smaller than line, e.g. `word`, the line text will be suppressed."
   ]
  },
  {
   "cell_type": "code",
   "execution_count": 8,
   "metadata": {},
   "outputs": [
    {
     "name": "stdout",
     "output_type": "stream",
     "text": [
      "R\tS1\tS2\tS3\tNODE1\tTYPE1\tln1\tNODE2\tTYPE2\tTEXT2\treading2\tNODE3\tTYPE3\tTEXT3\treading3\tNODE4\tTYPE4\tTEXT4\treading4\n",
      "1\tP509373\tobverse\t3\t230790\tline\t3\t11\tsign\tum-\tum\t12\tsign\tma \tma\t20\tsign\tma\tma\n",
      "2\tP509374\tobverse\t3\t230826\tline\t3\t359\tsign\tum-\tum\t360\tsign\t[ma] \tma\t366\tsign\tma\tma\n",
      "3\tP509375\tobverse\t3\t230844\tline\t3\t509\tsign\t[um-\tum\t510\tsign\tma \tma\t515\tsign\tma\tma\n",
      "4\tP481190\tobverse\t3\t230916\tline\t3\t1123\tsign\tum-\tum\t1124\tsign\tma \tma\t1130\tsign\tma\tma\n",
      "5\tP510526\tobverse\t3\t231004\tline\t3\t1686\tsign\tum-\tum\t1687\tsign\tma \tma\t1691\tsign\tma\tma\n",
      "6\tP510527\tobverse\t3\t231022\tline\t3\t1808\tsign\tum-\tum\t1809\tsign\tma \tma\t1813\tsign\tma\tma\n",
      "7\tP510528\tobverse\t3\t231055\tline\t3\t2161\tsign\t[um]-\tum\t2162\tsign\tma# \tma\t2166\tsign\tma\tma\n",
      "8\tP510529\tobverse\t3\t231068\tline\t3\t2272\tsign\tum-\tum\t2273\tsign\tma \tma\t2277\tsign\tma\tma\n",
      "9\tP510530\tobverse\t3\t231088\tline\t3\t2401\tsign\t[um-\tum\t2402\tsign\tma \tma\t2410\tsign\tma\tma\n"
     ]
    }
   ],
   "source": [
    "A.export(results, condenseType=\"word\")\n",
    "checkout()"
   ]
  },
  {
   "cell_type": "markdown",
   "metadata": {},
   "source": [
    "# Richer exports\n",
    "\n",
    "If we want to see the text in another format, we can specify it:"
   ]
  },
  {
   "cell_type": "code",
   "execution_count": 9,
   "metadata": {},
   "outputs": [
    {
     "name": "stdout",
     "output_type": "stream",
     "text": [
      "R\tS1\tS2\tS3\tNODE1\tTYPE1\tTEXT1\tln1\tNODE2\tTYPE2\tTEXT2\treading2\tNODE3\tTYPE3\tTEXT3\treading3\tNODE4\tTYPE4\tTEXT4\treading4\n",
      "1\tP509373\tobverse\t3\t230790\tline\t𒌝𒈠 𒀭𒂗𒆤𒊭𒁺𒌑𒉌𒈠\t3\t11\tsign\t𒌝\tum\t12\tsign\t𒈠 \tma\t20\tsign\t𒈠\tma\n",
      "2\tP509374\tobverse\t3\t230826\tline\t𒌝𒈠 𒀭 x 𒍣 x … 𒈠\t3\t359\tsign\t𒌝\tum\t360\tsign\t𒈠 \tma\t366\tsign\t𒈠\tma\n",
      "3\tP509375\tobverse\t3\t230844\tline\t𒌝𒈠 x𒈾𒋢x𒈠\t3\t509\tsign\t𒌝\tum\t510\tsign\t𒈠 \tma\t515\tsign\t𒈠\tma\n",
      "4\tP481190\tobverse\t3\t230916\tline\t𒌝𒈠 𒉡𒌫𒉌𒉌𒋗𒈠\t3\t1123\tsign\t𒌝\tum\t1124\tsign\t𒈠 \tma\t1130\tsign\t𒈠\tma\n",
      "5\tP510526\tobverse\t3\t231004\tline\t𒌝𒈠 𒊩𒆳𒀭𒌓𒈠\t3\t1686\tsign\t𒌝\tum\t1687\tsign\t𒈠 \tma\t1691\tsign\t𒈠\tma\n",
      "6\tP510527\tobverse\t3\t231022\tline\t𒌝𒈠 𒄿𒇻𒉌𒈠\t3\t1808\tsign\t𒌝\tum\t1809\tsign\t𒈠 \tma\t1813\tsign\t𒈠\tma\n",
      "7\tP510528\tobverse\t3\t231055\tline\t𒌝𒈠 𒄿𒇻𒉌𒈠\t3\t2161\tsign\t𒌝\tum\t2162\tsign\t𒈠 \tma\t2166\tsign\t𒈠\tma\n",
      "8\tP510529\tobverse\t3\t231068\tline\t𒌝𒈠 𒄿𒇻𒉌𒈠\t3\t2272\tsign\t𒌝\tum\t2273\tsign\t𒈠 \tma\t2277\tsign\t𒈠\tma\n",
      "9\tP510530\tobverse\t3\t231088\tline\t𒌝𒈠 𒀭𒈾𒁉𒌝𒈾𒍢𒅕𒈠\t3\t2401\tsign\t𒌝\tum\t2402\tsign\t𒈠 \tma\t2410\tsign\t𒈠\tma\n"
     ]
    }
   ],
   "source": [
    "A.export(results, fmt=\"text-orig-unicode\")\n",
    "checkout()"
   ]
  },
  {
   "cell_type": "markdown",
   "metadata": {},
   "source": [
    "## Additional features\n",
    "\n",
    "If we want to export additional features, we just have to mention them.\n",
    "In order to do so and not change the result set, put a `*` behind the feature.\n",
    "\n",
    "The `*` means: *always true, no matter what's in the feature, even if there is nothing in there*.\n",
    "\n",
    "Lets ask for the flags on the first `ma`."
   ]
  },
  {
   "cell_type": "code",
   "execution_count": 10,
   "metadata": {
    "ExecuteTime": {
     "end_time": "2018-05-24T07:46:55.998382Z",
     "start_time": "2018-05-24T07:46:55.137956Z"
    }
   },
   "outputs": [
    {
     "name": "stdout",
     "output_type": "stream",
     "text": [
      "  0.80s 1052 results\n"
     ]
    }
   ],
   "source": [
    "query = \"\"\"\n",
    "line ln<4\n",
    "  =: sign reading=um\n",
    "  <: sign reading=ma flags*\n",
    "  < sign reading=ma\n",
    "\"\"\"\n",
    "results = A.search(query)"
   ]
  },
  {
   "cell_type": "markdown",
   "metadata": {},
   "source": [
    "The same number of results.\n",
    "\n",
    "We do the export again and peek at the results."
   ]
  },
  {
   "cell_type": "code",
   "execution_count": 11,
   "metadata": {},
   "outputs": [
    {
     "name": "stdout",
     "output_type": "stream",
     "text": [
      "R\tS1\tS2\tS3\tNODE1\tTYPE1\tln1\tNODE2\tTYPE2\tTEXT2\treading2\tNODE3\tTYPE3\tTEXT3\tflags3\treading3\tNODE4\tTYPE4\tTEXT4\treading4\n",
      "1\tP509373\tobverse\t3\t230790\tline\t3\t11\tsign\tum-\tum\t12\tsign\tma \t\tma\t20\tsign\tma\tma\n",
      "2\tP509374\tobverse\t3\t230826\tline\t3\t359\tsign\tum-\tum\t360\tsign\t[ma] \t\tma\t366\tsign\tma\tma\n",
      "3\tP509375\tobverse\t3\t230844\tline\t3\t509\tsign\t[um-\tum\t510\tsign\tma \t\tma\t515\tsign\tma\tma\n",
      "4\tP481190\tobverse\t3\t230916\tline\t3\t1123\tsign\tum-\tum\t1124\tsign\tma \t\tma\t1130\tsign\tma\tma\n",
      "5\tP510526\tobverse\t3\t231004\tline\t3\t1686\tsign\tum-\tum\t1687\tsign\tma \t\tma\t1691\tsign\tma\tma\n",
      "6\tP510527\tobverse\t3\t231022\tline\t3\t1808\tsign\tum-\tum\t1809\tsign\tma \t\tma\t1813\tsign\tma\tma\n",
      "7\tP510528\tobverse\t3\t231055\tline\t3\t2161\tsign\t[um]-\tum\t2162\tsign\tma# \t#\tma\t2166\tsign\tma\tma\n",
      "8\tP510529\tobverse\t3\t231068\tline\t3\t2272\tsign\tum-\tum\t2273\tsign\tma \t\tma\t2277\tsign\tma\tma\n",
      "9\tP510530\tobverse\t3\t231088\tline\t3\t2401\tsign\t[um-\tum\t2402\tsign\tma \t\tma\t2410\tsign\tma\tma\n"
     ]
    }
   ],
   "source": [
    "A.export(results, condenseType=\"word\")\n",
    "checkout()"
   ]
  },
  {
   "cell_type": "markdown",
   "metadata": {},
   "source": [
    "As you see, you have an extra column **flags3**.\n",
    "\n",
    "This gives you a lot of control over the generation of spreadsheets."
   ]
  },
  {
   "cell_type": "markdown",
   "metadata": {},
   "source": [
    "# Not from queries\n",
    "\n",
    "You can also export lists of node tuples that are not obtained by a query:"
   ]
  },
  {
   "cell_type": "code",
   "execution_count": 12,
   "metadata": {},
   "outputs": [
    {
     "data": {
      "text/plain": [
       "[(259163, 100001, 200001),\n",
       " (259164, 100002, 200002),\n",
       " (259165, 100003, 200003),\n",
       " (259166, 100004, 200004),\n",
       " (259167, 100005, 200005),\n",
       " (259168, 100006, 200006),\n",
       " (259169, 100007, 200007),\n",
       " (259170, 100008, 200008),\n",
       " (259171, 100009, 200009),\n",
       " (259172, 100010, 200010)]"
      ]
     },
     "execution_count": 12,
     "metadata": {},
     "output_type": "execute_result"
    }
   ],
   "source": [
    "words = F.otype.s(\"word\")[1000:1010]\n",
    "signs1 = F.otype.s(\"sign\")[100000:100010]\n",
    "signs2 = F.otype.s(\"sign\")[200000:200010]\n",
    "tuples = list(zip(words, signs1, signs2))\n",
    "\n",
    "tuples"
   ]
  },
  {
   "cell_type": "markdown",
   "metadata": {},
   "source": [
    "Ten rows, each row has a word node and two sign nodes.\n",
    "\n",
    "The word and the signs in each row do not have any meaningful relationship!\n",
    "\n",
    "Let's do a bare export:"
   ]
  },
  {
   "cell_type": "code",
   "execution_count": 13,
   "metadata": {},
   "outputs": [
    {
     "name": "stdout",
     "output_type": "stream",
     "text": [
      "R\tS1\tS2\tS3\tNODE1\tTYPE1\tTEXT1\tln1\tNODE2\tTYPE2\tTEXT2\treading2\tNODE3\tTYPE3\tTEXT3\tflags3\treading3\n",
      "1\tP510530\tobverse\t19\t259163\tword\tgin2 \t\t100001\tsign\ts,i-\ts,i\t200001\tsign\tka\t\tka\n",
      "2\tP510530\tobverse\t19\t259164\tword\tku3-babbar_\t\t100002\tsign\tbu-\tbu\t200002\tsign\tki-\t\tki\n",
      "3\tP510530\tobverse\t20\t259165\tword\tid-di-nu-ni-ik-ku\t\t100003\tsign\ttam \ttam\t200003\tsign\tma \t\tma\n",
      "4\tP510530\treverse\t1\t259166\tword\tu3 \t\t100004\tsign\tia \tia\t200004\tsign\tti-\t\tti\n",
      "5\tP510530\treverse\t1\t259167\tword\tka-ni-ik \t\t100005\tsign\tir-\tir\t200005\tsign\tdu \t\tdu\n",
      "6\tP510530\treverse\t1\t259168\tword\tszi-ma-tim \t\t100006\tsign\tszi\tszi\t200006\tsign\tma-\t\tma\n",
      "7\tP510530\treverse\t1\t259169\tword\tta-ad-di-in\t\t100007\tsign\ti-\ti\t200007\tsign\tWI?-\t?\t\n",
      "8\tP510530\treverse\t2\t259170\tword\tmi-nu-u2 \t\t100008\tsign\tnu-\tnu\t200008\tsign\ti-\t\ti\n",
      "9\tP510530\treverse\t2\t259171\tword\ta-wa-tum-ma \t\t100009\tsign\tma \tma\t200009\tsign\tma\t\tma\n"
     ]
    }
   ],
   "source": [
    "A.export(tuples)\n",
    "checkout()"
   ]
  },
  {
   "cell_type": "markdown",
   "metadata": {},
   "source": [
    "Wait a minute: why are the `reading2` and `reading3` and `flags3` columns showing up?\n",
    "\n",
    "It is because we have run a query before where we asked for these features.\n",
    "\n",
    "If we do not want to be influenced by previous things we've run, we need to reset the display:"
   ]
  },
  {
   "cell_type": "code",
   "execution_count": 14,
   "metadata": {},
   "outputs": [],
   "source": [
    "A.displayReset(\"tupleFeatures\")"
   ]
  },
  {
   "cell_type": "markdown",
   "metadata": {},
   "source": [
    "Again:"
   ]
  },
  {
   "cell_type": "code",
   "execution_count": 15,
   "metadata": {},
   "outputs": [
    {
     "name": "stdout",
     "output_type": "stream",
     "text": [
      "R\tS1\tS2\tS3\tNODE1\tTYPE1\tTEXT1\tNODE2\tTYPE2\tTEXT2\tNODE3\tTYPE3\tTEXT3\n",
      "1\tP510530\tobverse\t19\t259163\tword\tgin2 \t100001\tsign\ts,i-\t200001\tsign\tka\n",
      "2\tP510530\tobverse\t19\t259164\tword\tku3-babbar_\t100002\tsign\tbu-\t200002\tsign\tki-\n",
      "3\tP510530\tobverse\t20\t259165\tword\tid-di-nu-ni-ik-ku\t100003\tsign\ttam \t200003\tsign\tma \n",
      "4\tP510530\treverse\t1\t259166\tword\tu3 \t100004\tsign\tia \t200004\tsign\tti-\n",
      "5\tP510530\treverse\t1\t259167\tword\tka-ni-ik \t100005\tsign\tir-\t200005\tsign\tdu \n",
      "6\tP510530\treverse\t1\t259168\tword\tszi-ma-tim \t100006\tsign\tszi\t200006\tsign\tma-\n",
      "7\tP510530\treverse\t1\t259169\tword\tta-ad-di-in\t100007\tsign\ti-\t200007\tsign\tWI?-\n",
      "8\tP510530\treverse\t2\t259170\tword\tmi-nu-u2 \t100008\tsign\tnu-\t200008\tsign\ti-\n",
      "9\tP510530\treverse\t2\t259171\tword\ta-wa-tum-ma \t100009\tsign\tma \t200009\tsign\tma\n"
     ]
    }
   ],
   "source": [
    "A.export(tuples)\n",
    "checkout()"
   ]
  },
  {
   "cell_type": "markdown",
   "metadata": {},
   "source": [
    "# Display setup\n",
    "\n",
    "When we exported query results, we could mention features in the query with a `*` so that they got exported.\n",
    "If we do not have a previous query we can achieve the same effect by specifying the desired export features per column.\n",
    "\n",
    "The display option `tupleFeatures` takes care of that."
   ]
  },
  {
   "cell_type": "code",
   "execution_count": 16,
   "metadata": {},
   "outputs": [],
   "source": [
    "A.displaySetup(\n",
    "    tupleFeatures=(\n",
    "        (0, \"atfpre atf atfpost\"),\n",
    "        (1, \"symr symu\"),\n",
    "        (2, \"symr symu\"),\n",
    "    )\n",
    ")"
   ]
  },
  {
   "cell_type": "markdown",
   "metadata": {},
   "source": [
    "We assign extra features per member of the tuple.\n",
    "\n",
    "In the above case:\n",
    "\n",
    "* the first (`0`) member (the word node), gets features `atfpre` (preceding bracketing characters), `atf`, `atfpost` (subsequent clustering characters);\n",
    "* the second and third member (the sign nodes), get features `symr` (subscripted latin text) and `symu` (cuneiform unicode)."
   ]
  },
  {
   "cell_type": "code",
   "execution_count": 17,
   "metadata": {},
   "outputs": [
    {
     "name": "stdout",
     "output_type": "stream",
     "text": [
      "R\tS1\tS2\tS3\tNODE1\tTYPE1\tTEXT1\tatfpre1\tatf1\tatfpost1\tNODE2\tTYPE2\tTEXT2\tsymr2\tsymu2\tNODE3\tTYPE3\tTEXT3\tsymr3\tsymu3\n",
      "1\tP510530\tobverse\t19\t259163\tword\tgin2 \t\tgin2\t\t100001\tsign\ts,i-\tṣi\t𒍢\t200001\tsign\tka\tka\t𒅗\n",
      "2\tP510530\tobverse\t19\t259164\tword\tku3-babbar_\t\tku3-babbar_\t\t100002\tsign\tbu-\tbu\t𒁍\t200002\tsign\tki-\tki\t𒆠\n",
      "3\tP510530\tobverse\t20\t259165\tword\tid-di-nu-ni-ik-ku\t\tid-di-nu-ni-ik-ku\t\t100003\tsign\ttam \ttam\t𒌓\t200003\tsign\tma \tma\t𒈠\n",
      "4\tP510530\treverse\t1\t259166\tword\tu3 \t\tu3\t\t100004\tsign\tia \tia\t𒅀\t200004\tsign\tti-\tti\t𒋾\n",
      "5\tP510530\treverse\t1\t259167\tword\tka-ni-ik \t\tka-ni-ik\t\t100005\tsign\tir-\tir\t𒅕\t200005\tsign\tdu \tdu\t𒁺\n",
      "6\tP510530\treverse\t1\t259168\tword\tszi-ma-tim \t\tszi-ma-tim\t\t100006\tsign\tszi\tši\t𒅆\t200006\tsign\tma-\tma\t𒈠\n",
      "7\tP510530\treverse\t1\t259169\tword\tta-ad-di-in\t\tta-ad-di-in\t\t100007\tsign\ti-\ti\t𒄿\t200007\tsign\tWI?-\tWI\t𒉿\n",
      "8\tP510530\treverse\t2\t259170\tword\tmi-nu-u2 \t\tmi-nu-u2\t\t100008\tsign\tnu-\tnu\t𒉡\t200008\tsign\ti-\ti\t𒄿\n",
      "9\tP510530\treverse\t2\t259171\tword\ta-wa-tum-ma \t\ta-wa-tum-ma\t\t100009\tsign\tma \tma\t𒈠\t200009\tsign\tma\tma\t𒈠\n"
     ]
    }
   ],
   "source": [
    "A.export(tuples)\n",
    "checkout()"
   ]
  },
  {
   "cell_type": "markdown",
   "metadata": {},
   "source": [
    "# Chained queries\n",
    "\n",
    "You can chain queries like this:"
   ]
  },
  {
   "cell_type": "code",
   "execution_count": 18,
   "metadata": {},
   "outputs": [
    {
     "name": "stdout",
     "output_type": "stream",
     "text": [
      "  0.23s 4 results\n",
      "  0.23s 15 results\n"
     ]
    }
   ],
   "source": [
    "results = (\n",
    "    A.search(\n",
    "        \"\"\"\n",
    "line\n",
    "  cluster type=missing\n",
    "    sign reading=disz repeat>4\n",
    "\"\"\"\n",
    "    )\n",
    "    + A.search(\n",
    "        \"\"\"\n",
    "line\n",
    "  cluster type=langalt\n",
    "    sign reading=um\n",
    "\"\"\"\n",
    "    )\n",
    ")"
   ]
  },
  {
   "cell_type": "markdown",
   "metadata": {},
   "source": [
    "In such cases, it is better to setup the features yourself:"
   ]
  },
  {
   "cell_type": "code",
   "execution_count": 19,
   "metadata": {},
   "outputs": [],
   "source": [
    "A.displaySetup(\n",
    "    tupleFeatures=(\n",
    "        (0, \"lnno\"),\n",
    "        (1, \"type\"),\n",
    "        (2, \"langalt missing\"),\n",
    "    ),\n",
    "    fmt=\"text-orig-rich\",\n",
    ")"
   ]
  },
  {
   "cell_type": "markdown",
   "metadata": {},
   "source": [
    "Now we can do a fine export:"
   ]
  },
  {
   "cell_type": "code",
   "execution_count": 20,
   "metadata": {},
   "outputs": [
    {
     "name": "stdout",
     "output_type": "stream",
     "text": [
      "R\tS1\tS2\tS3\tNODE1\tTYPE1\tTEXT1\tlnno1\tNODE2\tTYPE2\tTEXT2\ttype2\tNODE3\tTYPE3\tTEXT3\tlangalt3\tmissing3\n",
      "1\tP510754\tobverse\t11\t235994\tline\t5(diš) lu₂-meš an-nu-ti-in lu₂ la-ga-aš⁼ki-meš\t11\t207965\tcluster\t5(diš) lu₂-meš an-nu-ti-\tmissing\t39275\tsign\t5(diš) \t\t1\n",
      "2\tP313375\tobverse\t10\t245175\tline\t1(u) 8(diš) gin₂ ku₃-babbar wa-at-ra-am\t10\t215367\tcluster\t1(u) 8(diš) \tmissing\t106850\tsign\t8(diš) \t\t1\n",
      "3\tP373035\treverse\t3\t255006\tline\tša 5(diš) gin₂ ku₃-babbar gu₄ hi-a\t3\t223992\tcluster\tša 5(diš) \tmissing\t180799\tsign\t5(diš) \t1\t1\n",
      "4\tP373044\tleft\t1:2\t255237\tline\t1(u) 5(diš) ma-na siki hi-a ši-na\t1:2\t224274\tcluster\t1(u) 5(diš) ma-na \tmissing\t182906\tsign\t5(diš) \t1\t1\n",
      "5\tP509373\tobverse\t6\t230793\tline\tdiš⁼še-ep-d⁼suen a₂-gal₂ dumu um-mi-a-meš\t6\t203234\tcluster\td⁼suen a₂-gal₂ dumu um-mi-a-meš\tlangalt\t47\tsign\tum-\t1\t\n",
      "6\tP510550\tobverse\t4\t231520\tline\taš-šum ha-za-nu-um⁼sar\t4\t203984\tcluster\tha-za-nu-um⁼sar\tlangalt\t5899\tsign\tum⁼\t1\t\n",
      "7\tP510550\tobverse\t7\t231523\tline\tšum-ma ha-za-nu-um⁼sar la ba-aš-lu-ma\t7\t203987\tcluster\tha-za-nu-um⁼sar \tlangalt\t5924\tsign\tum⁼\t1\t\n",
      "8\tP510550\tobverse\t9\t231525\tline\tha-za-nu-um⁼sar i-ka-am x x-al-la-x-ma\t9\t203989\tcluster\tha-za-nu-um⁼sar \tlangalt\t5941\tsign\tum⁼\t1\t\n",
      "9\tP510550\treverse\t1\t231528\tline\ta-na mi-nim ha-za-nu-um⁼sar\t1\t203992\tcluster\tha-za-nu-um⁼sar\tlangalt\t5971\tsign\tum⁼\t1\t\n"
     ]
    }
   ],
   "source": [
    "A.export(results)\n",
    "checkout()"
   ]
  },
  {
   "cell_type": "markdown",
   "metadata": {},
   "source": [
    "---\n",
    "\n",
    "All chapters:\n",
    "\n",
    "* **[start](start.ipynb)** become an expert in creating pretty displays of your text structures\n",
    "* **[display](display.ipynb)** become an expert in creating pretty displays of your text structures\n",
    "* **[search](search.ipynb)** turbo charge your hand-coding with search templates\n",
    "* **exportExcel** make tailor-made spreadsheets out of your results\n",
    "* **[share](share.ipynb)** draw in other people's data and let them use yours\n",
    "* **[similarLines](similarLines.ipynb)** spot the similarities between lines\n",
    "\n",
    "---\n",
    "\n",
    "See the [cookbook](cookbook) for recipes for small, concrete tasks.\n",
    "\n",
    "CC-BY Dirk Roorda"
   ]
  }
 ],
 "metadata": {
  "kernelspec": {
   "display_name": "Python 3",
   "language": "python",
   "name": "python3"
  },
  "language_info": {
   "codemirror_mode": {
    "name": "ipython",
    "version": 3
   },
   "file_extension": ".py",
   "mimetype": "text/x-python",
   "name": "python",
   "nbconvert_exporter": "python",
   "pygments_lexer": "ipython3",
   "version": "3.8.3"
  }
 },
 "nbformat": 4,
 "nbformat_minor": 4
}
