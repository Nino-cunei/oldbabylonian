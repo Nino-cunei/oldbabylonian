{
 "cells": [
  {
   "cell_type": "code",
   "execution_count": 76,
   "metadata": {},
   "outputs": [],
   "source": [
    "import os\n",
    "import collections\n",
    "import re\n",
    "\n",
    "from tf.fabric import Fabric"
   ]
  },
  {
   "cell_type": "markdown",
   "metadata": {},
   "source": [
    "# Local environment"
   ]
  },
  {
   "cell_type": "code",
   "execution_count": 77,
   "metadata": {},
   "outputs": [],
   "source": [
    "BASE = os.path.expanduser('~/github')\n",
    "ORG = 'Nino-cunei'\n",
    "REPO = 'oldbabylonian'\n",
    "VERSION = '0.2'\n",
    "\n",
    "REPO_PATH = f'{BASE}/{ORG}/{REPO}'\n",
    "TF_PATH = f'{REPO_PATH}/tf/{VERSION}'"
   ]
  },
  {
   "cell_type": "markdown",
   "metadata": {},
   "source": [
    "# Launch Text-Fabric with all features loaded"
   ]
  },
  {
   "cell_type": "code",
   "execution_count": 78,
   "metadata": {},
   "outputs": [
    {
     "name": "stdout",
     "output_type": "stream",
     "text": [
      "This is Text-Fabric 7.4.3\n",
      "Api reference : https://annotation.github.io/text-fabric/Api/Fabric/\n",
      "\n",
      "25 features found and 0 ignored\n"
     ]
    },
    {
     "data": {
      "text/plain": [
       "[('Computed',\n",
       "  'computed-data',\n",
       "  ('C Computed', 'Call AllComputeds', 'Cs ComputedString')),\n",
       " ('Features', 'edge-features', ('E Edge', 'Eall AllEdges', 'Es EdgeString')),\n",
       " ('Fabric', 'loading', ('ensureLoaded', 'TF', 'ignored', 'loadLog')),\n",
       " ('Locality', 'locality', ('L Locality',)),\n",
       " ('Misc', 'messaging', ('cache', 'error', 'indent', 'info', 'reset')),\n",
       " ('Nodes',\n",
       "  'navigating-nodes',\n",
       "  ('N Nodes', 'sortKey', 'sortKeyTuple', 'otypeRank', 'sortNodes')),\n",
       " ('Features',\n",
       "  'node-features',\n",
       "  ('F Feature', 'Fall AllFeatures', 'Fs FeatureString')),\n",
       " ('Search', 'search', ('S Search',)),\n",
       " ('Text', 'text', ('T Text',))]"
      ]
     },
     "execution_count": 78,
     "metadata": {},
     "output_type": "execute_result"
    }
   ],
   "source": [
    "TF = Fabric(locations=TF_PATH)\n",
    "allFeatures = TF.explore(silent=True, show=True)\n",
    "loadableFeatures = allFeatures['nodes'] + allFeatures['edges']\n",
    "api = TF.load(loadableFeatures, silent=True)\n",
    "api.makeAvailableIn(globals())"
   ]
  },
  {
   "cell_type": "markdown",
   "metadata": {},
   "source": [
    "# Quick exercises\n",
    "\n",
    "What are the superscripts?"
   ]
  },
  {
   "cell_type": "code",
   "execution_count": 79,
   "metadata": {},
   "outputs": [],
   "source": [
    "supers = collections.Counter()\n",
    "\n",
    "for s in F.otype.s('sign'):\n",
    "  if F.super.v(s):\n",
    "    supers[F.reading.v(s)] += 1"
   ]
  },
  {
   "cell_type": "code",
   "execution_count": 80,
   "metadata": {},
   "outputs": [
    {
     "data": {
      "text/plain": [
       "Counter({'d': 3848,\n",
       "         'disz': 1153,\n",
       "         'ki': 844,\n",
       "         'gesz': 247,\n",
       "         'sar': 76,\n",
       "         'muszen': 3,\n",
       "         'mi2': 44,\n",
       "         'gi': 34,\n",
       "         'na4': 17,\n",
       "         'lu2': 29,\n",
       "         'ap': 2,\n",
       "         'tug2': 25,\n",
       "         'am': 2,\n",
       "         'duru5': 5,\n",
       "         'dug': 2,\n",
       "         'ku': 1,\n",
       "         'iri': 25,\n",
       "         'gar': 3,\n",
       "         'kusz': 12,\n",
       "         'uruda': 9,\n",
       "         'u2': 4,\n",
       "         'i7': 1,\n",
       "         'iti': 1,\n",
       "         'ir': 1,\n",
       "         'p': 2,\n",
       "         'id2': 2,\n",
       "         'urudu': 6,\n",
       "         'asz': 1,\n",
       "         'an': 2,\n",
       "         'uzu': 1,\n",
       "         'ti': 1,\n",
       "         'munus': 1,\n",
       "         'la': 1,\n",
       "         'ku6': 4,\n",
       "         'at': 1,\n",
       "         'ar': 1,\n",
       "         'ururdu': 1,\n",
       "         'szim': 3})"
      ]
     },
     "execution_count": 80,
     "metadata": {},
     "output_type": "execute_result"
    }
   ],
   "source": [
    "supers"
   ]
  },
  {
   "cell_type": "markdown",
   "metadata": {},
   "source": [
    "What is the language use?\n",
    "* 1 = Akkadian\n",
    "* 2 = Sumerian"
   ]
  },
  {
   "cell_type": "code",
   "execution_count": 81,
   "metadata": {},
   "outputs": [
    {
     "data": {
      "text/plain": [
       "((1, 171644), (2, 18178))"
      ]
     },
     "execution_count": 81,
     "metadata": {},
     "output_type": "execute_result"
    }
   ],
   "source": [
    "F.language.freqList()"
   ]
  },
  {
   "cell_type": "markdown",
   "metadata": {},
   "source": [
    "# Proper nouns\n",
    "\n",
    "List of sign stretches that occur between `um-ma` and `ma`."
   ]
  },
  {
   "cell_type": "code",
   "execution_count": 82,
   "metadata": {},
   "outputs": [
    {
     "name": "stdout",
     "output_type": "stream",
     "text": [
      "Found 2538 occurrences of intro nouns\n"
     ]
    }
   ],
   "source": [
    "introNouns = []\n",
    "\n",
    "for line in F.otype.s('line'):\n",
    "  signs = L.d(line, otype='sign')\n",
    "  \n",
    "  # um-ma ...  ma\n",
    "  # 0  1  >=2  >=3\n",
    "  \n",
    "  # first find the ma on at least position 3\n",
    "  \n",
    "  mas = []\n",
    "  \n",
    "  for i in range(3, len(signs)):\n",
    "    if F.reading.v(signs[i]) == 'ma':\n",
    "      mas.append(i)\n",
    "      \n",
    "  # if there is no ma, skip the line\n",
    "  \n",
    "    if not mas:\n",
    "      continue\n",
    "      \n",
    "  # test the last ma\n",
    "  # find the first um-ma in front of it, with room for something in between\n",
    "    \n",
    "    lastMa = mas[-1]\n",
    "    between = None\n",
    "    \n",
    "    for i in range(lastMa - 2):\n",
    "      if (\n",
    "        F.reading.v(signs[i]) == 'um'\n",
    "        and\n",
    "        F.reading.v(signs[i + 1]) == 'ma'\n",
    "      ):\n",
    "        between = signs[i + 2:lastMa]\n",
    "      \n",
    "    if between:\n",
    "      introNouns.append(between)\n",
    "\n",
    "print(f'Found {len(introNouns)} occurrences of intro nouns')"
   ]
  },
  {
   "cell_type": "markdown",
   "metadata": {},
   "source": [
    "Let's show them and their frequencies."
   ]
  },
  {
   "cell_type": "code",
   "execution_count": 83,
   "metadata": {},
   "outputs": [
    {
     "data": {
      "text/plain": [
       "2538"
      ]
     },
     "execution_count": 83,
     "metadata": {},
     "output_type": "execute_result"
    }
   ],
   "source": [
    "len(introNouns)"
   ]
  },
  {
   "cell_type": "code",
   "execution_count": 84,
   "metadata": {},
   "outputs": [],
   "source": [
    "def getReading(word):\n",
    "    signs = L.d(word, otype='sign') if type(word) is int else word\n",
    "    return ''.join(f'{F.atf.v(n)}{F.after.v(n)}' for n in signs).rstrip('-')"
   ]
  },
  {
   "cell_type": "code",
   "execution_count": 85,
   "metadata": {},
   "outputs": [],
   "source": [
    "introNounsCount = collections.Counter()\n",
    "\n",
    "for between in introNouns:\n",
    "    introNounsCount[getReading(between)] += 1"
   ]
  },
  {
   "cell_type": "code",
   "execution_count": 86,
   "metadata": {},
   "outputs": [
    {
     "data": {
      "text/plain": [
       "769"
      ]
     },
     "execution_count": 86,
     "metadata": {},
     "output_type": "execute_result"
    }
   ],
   "source": [
    "len(introNounsCount)"
   ]
  },
  {
   "cell_type": "code",
   "execution_count": 87,
   "metadata": {},
   "outputs": [
    {
     "name": "stdout",
     "output_type": "stream",
     "text": [
      "szu                             192 x\n",
      "szu-u2                          179 x\n",
      "a-na-ku                         140 x\n",
      "at-ta                           114 x\n",
      "at-ta-a                         110 x\n",
      "ha-am-mu-ra-bi                   85 x\n",
      "szu-nu                           60 x\n",
      "at-ti                            59 x\n",
      "a-na-ku-u2                       48 x\n",
      "szi                              40 x\n",
      "a-wi-il-dingir                   23 x\n",
      "a-hu-um                          21 x\n",
      "ni-nu                            19 x\n",
      "be-li2                           18 x\n",
      "szu#                             17 x\n",
      "a-bi-e-szu-uh                    13 x\n",
      "szi-i                            13 x\n",
      "ta-tu-ur                         13 x\n",
      "ha-am-mu-ra-pi2                  12 x\n",
      "la                               12 x\n",
      "s,i-li2-{d}-utu                  12 x\n",
      "sag-il2                          12 x\n",
      "{d}-iszkur                       12 x\n",
      "{d}-na-bi-um                     12 x\n",
      "2(disz)                          10 x\n",
      "am-mi-s,a-du-qa2                 10 x\n",
      "lu2-igi-sa6                      10 x\n",
      "sa-am-su-i-lu-na                 10 x\n",
      "{d}-marduk-mu-sza-lim            10 x\n",
      "{d}-suen-i-din-nam               10 x\n",
      "{d}-utu-na-s,i-ir                10 x\n",
      "u-bar-{d}-utu                     9 x\n",
      "{d}-iszkur-ra-bi                  9 x\n",
      "{d}-marduk-na-s,i-ir              9 x\n",
      "{d}-nanna                         9 x\n",
      "a                                 8 x\n",
      "at-ta-a-ma ki                     8 x\n",
      "at-ti-na                          8 x\n",
      "be-el a-wa-ti#-ia                 8 x\n",
      "szu-nu-ma                         8 x\n",
      "szu-nu-u2                         8 x\n",
      "{d}-utu                           8 x\n",
      "...                               7 x\n",
      "5(disz)                           7 x\n",
      "at#-ta-a                          7 x\n",
      "at-tu-nu                          7 x\n",
      "e-tel-pi4-{d}-marduk              7 x\n",
      "gi-mil-{d}-marduk                 7 x\n",
      "i3-li2-us,-ra-an-ni               7 x\n",
      "lik                               7 x\n",
      "qa2-bu-um                         7 x\n",
      "szi-ma                            7 x\n",
      "szum#                             7 x\n",
      "{d}-na-bi-um-na-s,i-ir            7 x\n",
      "{d}-suen                          7 x\n",
      "a-na#-ku#                         6 x\n",
      "a-na#-ku-u2-ma                    6 x\n",
      "a-na-ku-u2-ma ki-i                6 x\n",
      "at-ti-i                           6 x\n",
      "dingir-utu-ma i-nu                6 x\n",
      "du-um                             6 x\n",
      "e2-gal                            6 x\n",
      "i-din-{d}-suen                    6 x\n",
      "i3-li2-i                          6 x\n",
      "{d}-nanna-ibila                   6 x\n",
      "1(u) 5(disz)                      5 x\n",
      "a-na-ku-u2-ma ki                  5 x\n",
      "at-ti-ma                          5 x\n",
      "be-el-szu-nu                      5 x\n",
      "be-la-nu-um                       5 x\n",
      "i3-li2                            5 x\n",
      "nu-ur2-{d}-suen                   5 x\n",
      "si-i                              5 x\n",
      "szu#-u2                           5 x\n",
      "{disz}-{mi2}-a-su-tum             5 x\n",
      "{d}-suen-i-qi2-sza-am             5 x\n",
      "6(disz)                           4 x\n",
      "a-am                              4 x\n",
      "a-ra-am                           4 x\n",
      "dingir-szu-ib-ni-szu              4 x\n",
      "e2-ki                             4 x\n",
      "ha-am#-mu-ra-bi                   4 x\n",
      "ha-am-mu-ra-bi#                   4 x\n",
      "i-din-{d}-iszkur                  4 x\n",
      "i-din-{d}-marduk                  4 x\n",
      "i3-li2-i-qi2-sza-am               4 x\n",
      "i3-li2-ip-pa-al-sa3-am            4 x\n",
      "ki                                4 x\n",
      "mu-na-wi-rum                      4 x\n",
      "na-ra-am-ta-ni                    4 x\n",
      "pi2-lah-{d}-inana)                4 x\n",
      "szu-ma a-wi-lu-u2 u2-ul           4 x\n",
      "ta-ri-isz                         4 x\n",
      "{disz}-szum                       4 x\n",
      "{d}-iszkur-szar-rum               4 x\n",
      "{d}-isztaran-szi-it-ma-ar         4 x\n",
      "{d}-suen-i-qi2-sza-am             4 x\n",
      "(x) la#                           3 x\n",
      "a-bi-e-szu#-uh                    3 x\n",
      "a-na-ku#-u2                       3 x\n"
     ]
    }
   ],
   "source": [
    "for (proper, amount) in sorted(\n",
    "  introNounsCount.items(),\n",
    "  key=lambda x: (-x[1], x[0]),\n",
    ")[0:100]:\n",
    "  print(f'{proper:<30} {amount:>4} x')"
   ]
  },
  {
   "cell_type": "markdown",
   "metadata": {},
   "source": [
    "Most of these are proper names or prouns, but we should try to exclude broken passages from this list and correct the representation of divine names: {d}-iszkur-szar-rum should read {d}iszkur-szar-rum. There is also a recursion issue hiding in this list: the entry with si-i, recorded five times, is probably deriving from examples like AbB 12, 077, which has um-ma i3-li2-a-si-ima in line 3."
   ]
  },
  {
   "cell_type": "markdown",
   "metadata": {},
   "source": [
    "# Making sign lists"
   ]
  },
  {
   "cell_type": "markdown",
   "metadata": {},
   "source": [
    "Now we are going to produce sign lists from the Akkadian parts of the letters and the Sumerograms in two different lists."
   ]
  },
  {
   "cell_type": "code",
   "execution_count": 88,
   "metadata": {},
   "outputs": [],
   "source": [
    "signList = collections.defaultdict(lambda: collections.Counter())\n",
    "for sign in F.otype.s('sign'):\n",
    "    reading = F.reading.v(sign)\n",
    "    grapheme = F.grapheme.v(sign)\n",
    "    form = reading if reading else grapheme if grapheme else None\n",
    "    if form:\n",
    "        signList[F.language.v(sign)][form] += 1 "
   ]
  },
  {
   "cell_type": "code",
   "execution_count": 89,
   "metadata": {
    "scrolled": false
   },
   "outputs": [],
   "source": [
    "byFreqDesc = lambda x: (-x[1], x[0])\n",
    "byFreqAsc = lambda x: (x[1], x[0])\n",
    "byAlpha = lambda x: x[0]\n",
    "\n",
    "def makeSignList(showCase, sortKey):\n",
    "    for language in signList:\n",
    "        print('Akk' if language == 1 else 'Sum')\n",
    "        for (sign, amount) in sorted(\n",
    "            signList[language].items(), \n",
    "            key=sortKey,\n",
    "        )[0:showCase]:\n",
    "            print(f'\\t{sign:<10} {amount:>4}')"
   ]
  },
  {
   "cell_type": "code",
   "execution_count": 90,
   "metadata": {},
   "outputs": [
    {
     "name": "stdout",
     "output_type": "stream",
     "text": [
      "Akk\n",
      "\t(a            1\n",
      "\t(szu          1\n",
      "\t(u3           1\n",
      "\t(x            3\n",
      "\t...        1413\n",
      "\t...szu        1\n",
      "\t...x          6\n",
      "\tA             7\n",
      "\tAB           21\n",
      "\tAD           17\n",
      "Sum\n",
      "\t(hi           1\n",
      "\t...           8\n",
      "\tAD            1\n",
      "\tAG            1\n",
      "\tARAD         30\n",
      "\tARAD2         7\n",
      "\tBA            2\n",
      "\tBAD           3\n",
      "\tBUR           1\n",
      "\tDU            2\n"
     ]
    }
   ],
   "source": [
    "makeSignList(10, byAlpha)"
   ]
  },
  {
   "cell_type": "code",
   "execution_count": 91,
   "metadata": {
    "scrolled": false
   },
   "outputs": [
    {
     "name": "stdout",
     "output_type": "stream",
     "text": [
      "Akk\n",
      "\tma         10587\n",
      "\ta          9738\n",
      "\tx          8198\n",
      "\tna         7811\n",
      "\ti          4579\n",
      "\tsza        4422\n",
      "\tszu        4130\n",
      "\tli         3611\n",
      "\tam         3577\n",
      "\td          3235\n",
      "\tta         3138\n",
      "\tu2         3039\n",
      "\tka         3023\n",
      "\tum         2791\n",
      "\tki         2695\n",
      "\tni         2656\n",
      "\tla         2534\n",
      "\tbi         2446\n",
      "\tu3         2367\n",
      "\tti         2312\n",
      "\tri         2224\n",
      "\tba         2217\n",
      "\tra         2132\n",
      "\tnu         2045\n",
      "\tasz        2012\n",
      "\tim         1934\n",
      "\tia         1694\n",
      "\tal         1632\n",
      "\tdisz       1549\n",
      "\tku         1496\n",
      "\tdi         1470\n",
      "\tqi2        1470\n",
      "\tmi         1436\n",
      "\t...        1413\n",
      "\tisz        1405\n",
      "\tan         1372\n",
      "\tszi        1308\n",
      "\te          1289\n",
      "\tlu         1256\n",
      "\tda         1225\n",
      "\tszum       1131\n",
      "\ttu         1090\n",
      "\tbi2        1087\n",
      "\tpu         1050\n",
      "\tat         1041\n",
      "\tul         1038\n",
      "\tha          971\n",
      "\tmu          958\n",
      "\tpi2         918\n",
      "\tutu         895\n",
      "\ttim         882\n",
      "\tbu          866\n",
      "\tpa          864\n",
      "\tru          827\n",
      "\tli2         770\n",
      "\tar          754\n",
      "\tit          736\n",
      "\til          712\n",
      "\tmarduk      698\n",
      "\thi          695\n",
      "\tin          684\n",
      "\tsuen        684\n",
      "\tt,u2        679\n",
      "\tak          672\n",
      "\tbe          666\n",
      "\tqa2         655\n",
      "\ttum         620\n",
      "\tlam         602\n",
      "\tte          579\n",
      "\tir          576\n",
      "\tsze         558\n",
      "\tib          542\n",
      "\twi          532\n",
      "\tkum         525\n",
      "\tah          517\n",
      "\tdu          510\n",
      "\twa          501\n",
      "\tusz         497\n",
      "\tnim         481\n",
      "\tur          476\n",
      "\ts,i         448\n",
      "\tnam         419\n",
      "\tiq          407\n",
      "\ter          403\n",
      "\tab          398\n",
      "\thu          398\n",
      "\tlim         393\n",
      "\tkam         389\n",
      "\tad          375\n",
      "\tid          363\n",
      "\ttup         354\n",
      "\tme          353\n",
      "\tre          350\n",
      "\tik          348\n",
      "\tap          347\n",
      "\ttam         335\n",
      "\tlum         327\n",
      "\tqu2         322\n",
      "\tzi          304\n",
      "\ti3          301\n",
      "Sum\n",
      "\ta          1203\n",
      "\tdisz        747\n",
      "\tsza3        660\n",
      "\tku3         641\n",
      "\tbabbar      621\n",
      "\td           613\n",
      "\thi          526\n",
      "\tmesz        518\n",
      "\tsze         487\n",
      "\tu4          433\n",
      "\tutu         385\n",
      "\te2          383\n",
      "\tgesz        364\n",
      "\tdumu        338\n",
      "\tlu2         259\n",
      "\tgin2        258\n",
      "\tu           240\n",
      "\tgur         229\n",
      "\tkam         226\n",
      "\ti3          218\n",
      "\tgu4         201\n",
      "\tdingir      194\n",
      "\tki          190\n",
      "\tna          188\n",
      "\terin2       186\n",
      "\tugula       183\n",
      "\tamar        165\n",
      "\tma          162\n",
      "\tma2         158\n",
      "\tszu         140\n",
      "\tsag         133\n",
      "\tdub         131\n",
      "\tgal         130\n",
      "\tudu         120\n",
      "\tgar3        111\n",
      "\tiri         106\n",
      "\titi         105\n",
      "\tasz         103\n",
      "\tsuen         99\n",
      "\tsar          98\n",
      "\tgu2          97\n",
      "\tgeme2        96\n",
      "\tus2          91\n",
      "\tGAN2         90\n",
      "\taga          88\n",
      "\tsila3        87\n",
      "\tdam          85\n",
      "\tszuku        84\n",
      "\tban2         79\n",
      "\tba           77\n",
      "\tlum          76\n",
      "\tnu           75\n",
      "\tmu           74\n",
      "\tzu2          74\n",
      "\tdi           71\n",
      "\tu8           71\n",
      "\tku5          70\n",
      "\tx            69\n",
      "\ti7           67\n",
      "\tnig2         66\n",
      "\tkiri6        65\n",
      "\tmar          64\n",
      "\tun           64\n",
      "\tab2          63\n",
      "\ttu           62\n",
      "\tsiki         61\n",
      "\tgi           53\n",
      "\tta           53\n",
      "\tda           51\n",
      "\tgesz2        49\n",
      "\tbur3         48\n",
      "\tbarig        47\n",
      "\tsipa         46\n",
      "\tra           45\n",
      "\tka2          44\n",
      "\ttug2         44\n",
      "\tga           42\n",
      "\tnita2        42\n",
      "\tgid2         41\n",
      "\ti            41\n",
      "\tka           41\n",
      "\tzi3          41\n",
      "\tir3          40\n",
      "\tkar          40\n",
      "\tigi          39\n",
      "\tku6          38\n",
      "\tmunus        38\n",
      "\tu3           37\n",
      "\tu2           35\n",
      "\tapin         34\n",
      "\tsahar        33\n",
      "\tszum2        33\n",
      "\tza           33\n",
      "\tensi2        31\n",
      "\tnumun        31\n",
      "\tARAD         30\n",
      "\te            30\n",
      "\tan           29\n",
      "\tgidri        29\n",
      "\tna4          28\n"
     ]
    }
   ],
   "source": [
    "makeSignList(100, byFreqDesc)"
   ]
  },
  {
   "cell_type": "markdown",
   "metadata": {},
   "source": [
    "# First steps to identify verbs"
   ]
  },
  {
   "cell_type": "markdown",
   "metadata": {},
   "source": []
  },
  {
   "cell_type": "code",
   "execution_count": 92,
   "metadata": {},
   "outputs": [
    {
     "data": {
      "text/plain": [
       "[222, 223, 224, 225, 226, 227]"
      ]
     },
     "execution_count": 92,
     "metadata": {},
     "output_type": "execute_result"
    }
   ],
   "source": [
    "word = F.otype.s('word')[100]\n",
    "L.d(word, otype='sign')"
   ]
  },
  {
   "cell_type": "code",
   "execution_count": null,
   "metadata": {},
   "outputs": [],
   "source": []
  },
  {
   "cell_type": "code",
   "execution_count": 93,
   "metadata": {},
   "outputs": [
    {
     "data": {
      "text/plain": [
       "{'text-graphic-full', 'text-ling-full', 'text-orig-full'}"
      ]
     },
     "execution_count": 93,
     "metadata": {},
     "output_type": "execute_result"
    }
   ],
   "source": [
    "T.formats"
   ]
  },
  {
   "cell_type": "code",
   "execution_count": 94,
   "metadata": {},
   "outputs": [
    {
     "data": {
      "text/plain": [
       "776"
      ]
     },
     "execution_count": 94,
     "metadata": {},
     "output_type": "execute_result"
    }
   ],
   "source": [
    "include = {'u2', 'ib', 'im'}\n",
    "\n",
    "verbs = collections.Counter()\n",
    "\n",
    "for word in F.otype.s('word'):\n",
    "    signs = L.d(word, otype='sign')\n",
    "    \n",
    "    if F.reading.v(signs[0]) not in include:\n",
    "        continue\n",
    "    if any(F.language.v(sign) == 2 for sign in signs):\n",
    "        continue\n",
    "    verbs[T.text(word, fmt='text-ling-full', descend=True)] += 1\n",
    "    \n",
    "len(verbs)"
   ]
  },
  {
   "cell_type": "code",
   "execution_count": 95,
   "metadata": {
    "scrolled": false
   },
   "outputs": [
    {
     "name": "stdout",
     "output_type": "stream",
     "text": [
      "\tu2-ul                           737\n",
      "\tu2-ba-al-la-t,u2-szu             62\n",
      "\tu2-la                            35\n",
      "\tu2                               34\n",
      "\tu2-lam-mi-da-an-ni               34\n",
      "\tu2-sza-bi-lam                    22\n",
      "\tu2-lu                            15\n",
      "\tu2-ba-la-t,u2-szu                11\n",
      "\tib-ni-d-mar-tu                   10\n",
      "\tu2-lam-mi-da-an-ni                9\n",
      "\tib-ni-d-mar-tu                    8\n",
      "\tu2-                               8\n",
      "\tu2-da-ab-ba-ab                    8\n",
      "\tu2-sza-bi-la-kum                  8\n",
      "\tib-ba-szu-u2                      7\n",
      "\tib-ni-d-marduk                    7\n",
      "\tu2-ba-al-li-t,u2-szu              7\n",
      "\tu2-ka-al                          7\n",
      "\tu2-sza-bi-la-ki-im                7\n",
      "\tib-ni-d-suen                      6\n",
      "\tu2-ka-al-lu                       6\n",
      "\tu2-lam-mi-du-ni-in-ni             6\n",
      "\tu2-sza-ab-ba-lam                  6\n",
      "\tu2-sza-ba-la-kum                  6\n",
      "\tu2-ul                             6\n",
      "\tib-ni-d-marduk                    5\n",
      "\tim                                5\n",
      "\tu2--                              5\n",
      "\tu2-sza-bi-la-ak-kum               5\n",
      "\tu2-sza-bi-lam-ma                  5\n",
      "\tib-ba-tum                         4\n",
      "\tib-ni-d-iszkur                    4\n",
      "\tib-ni-d-suen                      4\n",
      "\tib-ni-d-utu                       4\n",
      "\tim                                4\n",
      "\tim-gur-d-suen                     4\n",
      "\tim-hu-ra-an-ni                    4\n",
      "\tu2-ka-a-al                        4\n",
      "\tu2-la-ap-pa-tam                   4\n",
      "\tu2-sza-bi-lam                     4\n",
      "\tib-ba-a-szi                       3\n",
      "\tib-ba-szi-i                       3\n",
      "\tim-gur                            3\n",
      "\tim-gur-d-suen                     3\n",
      "\tim-hu-ur                          3\n",
      "\tim-tu-ut                          3\n",
      "\tu2-                               3\n",
      "\tu2--                              3\n",
      "\tu2-ka-al-la-mu-ku-nu-ti           3\n",
      "\tu2-ki-in-nu                       3\n",
      "\tu2-ma-am                          3\n",
      "\tu2-nu-tam                         3\n",
      "\tu2-nu-tim                         3\n",
      "\tu2-ra-ti-ku-nu                    3\n",
      "\tu2-s,u2-ur                        3\n",
      "\tu2-su-uh                          3\n",
      "\tu2-sza-ab-ba-la-ak-kum            3\n",
      "\tu2-sza-ab-ba-la-kum               3\n",
      "\tu2-sza-bi-lu-nim                  3\n",
      "\tu2-ur                             3\n",
      "\tu2-wa-e-ra-am-ma                  3\n",
      "\tib-ba-ab-ba-lu                    2\n",
      "\tib-ba-asz-szi                     2\n",
      "\tib-ba-szi                         2\n",
      "\tib-ba-szi-ma                      2\n",
      "\tib-ba-szu-u2                      2\n",
      "\tib-ba-tim                         2\n",
      "\tib-ba-tum-ma                      2\n",
      "\tib-ni-d-iszkur                    2\n",
      "\tib-ni-d-mar-tu-ma                 2\n",
      "\tib-ni-d-utu                       2\n",
      "\tib-ni-e2-a                        2\n",
      "\tib-qu2-ra-an-ni-ma                2\n",
      "\tib-ta-aq-ra-an-ni                 2\n",
      "\tim-du-ud                          2\n",
      "\tim-gur-akszak-ki                  2\n",
      "\tim-gur-d-en-lil2                  2\n",
      "\tim-gur-esz18-dar                  2\n",
      "\tim-hu-ra-an-ni-ma                 2\n",
      "\tim-hu-ru                          2\n",
      "\tim-ku-ru                          2\n",
      "\tim-qu2-tu                         2\n",
      "\tim-qu2-ut-ma                      2\n",
      "\tim-ta-sza-ah                      2\n",
      "\tu2                                2\n",
      "\tu2-ba-al                          2\n",
      "\tu2-ba-al-la-t,u2                  2\n",
      "\tu2-ba-al-la-tu2-szu               2\n",
      "\tu2-ba-az-za-u2                    2\n",
      "\tu2-ba-ne                          2\n",
      "\tu2-da-ab-ba-ab-szu                2\n",
      "\tu2-da-ab-ba-bu                    2\n",
      "\tu2-da-ab-ba-bu-ni-in-ni           2\n",
      "\tu2-da-an-na-nu                    2\n",
      "\tu2-ka-al                          2\n",
      "\tu2-ka-al-la-mu-ka                 2\n",
      "\tu2-ki-il-ma                       2\n",
      "\tu2-ki-in                          2\n",
      "\tu2-ku-la-am                       2\n",
      "\tu2-ku-le-e                        2\n",
      "\tu2-ku-ul-tam                      2\n",
      "\tu2-la-am-ma-ad                    2\n",
      "\tu2-la-ap-pa-tu-nim                2\n",
      "\tu2-lam-mi-du-ni                   2\n",
      "\tu2-lam-mi-id-ma                   2\n",
      "\tu2-lu-u2                          2\n",
      "\tu2-mi-sza                         2\n",
      "\tu2-na-ah-hi-du-ka                 2\n",
      "\tu2-na-ah-i-du-ka                  2\n",
      "\tu2-na-i-du-ka                     2\n",
      "\tu2-pa-ar-ra-ak                    2\n",
      "\tu2-pu-ul-ma                       2\n",
      "\tu2-ra-am                          2\n",
      "\tu2-ri                             2\n",
      "\tu2-ri-im                          2\n",
      "\tu2-ri-im-ma                       2\n",
      "\tu2-s,i-nu-rum                     2\n",
      "\tu2-s,i2-ma                        2\n",
      "\tu2-s,u2-u2                        2\n",
      "\tu2-sa-ap-pi2-ih                   2\n",
      "\tu2-sa-tum                         2\n",
      "\tu2-sza-ad-da-an                   2\n",
      "\tu2-sza-ad-da-nu                   2\n",
      "\tu2-sza-ad-di-nu-ni-ik-kum         2\n",
      "\tu2-sza-ar-ka-ab                   2\n",
      "\tu2-sza-asz-qa2-lu-ku-nu-ti        2\n",
      "\tu2-sza-ba-la-ki-im                2\n",
      "\tu2-sza-ba-lu-ni-kum               2\n",
      "\tu2-sza-bi-la-ak-ku                2\n",
      "\tu2-sza-bi-la-ak-kum-ma            2\n",
      "\tu2-sza-bi-la-am                   2\n",
      "\tu2-sza-bi-la-kum                  2\n",
      "\tu2-sza-bi-lam-ma                  2\n",
      "\tu2-sze-re-si2                     2\n",
      "\tu2-sze-ri-bu                      2\n",
      "\tu2-sze-ri-bu-nim-ma               2\n",
      "\tu2-szu-um-mi                      2\n",
      "\tu2-t,a-ab                         2\n",
      "\tu2-t,a3-ab                        2\n",
      "\tu2-ta-ar                          2\n",
      "\tu2-te-e-er-ma                     2\n",
      "\tu2-te-er                          2\n",
      "\tu2-te-er                          2\n",
      "\tu2-te-er-ma                       2\n",
      "\tu2-te-er-ru-nim                   2\n",
      "\tu2-te-ra-ak-kum                   2\n",
      "\tu2-tul2-esz18-dar                 2\n",
      "\tu2-ub-ba-lam                      2\n",
      "\tu2-ul-                            2\n",
      "\tu2-us,-s,i                        2\n",
      "\tu2-us,-s,i2-i                     2\n",
      "\tu2-wa-e-ra-am-ma                  2\n",
      "\tu2-wa-e-ru-ku-nu-ti               2\n",
      "\tib                                1\n",
      "\tib-ba-                            1\n",
      "\tib-ba-al-ki-tu-ma                 1\n",
      "\tib-ba-asz-szu-ma                  1\n",
      "\tib-ba-asz-szu-u2                  1\n",
      "\tib-ba-asz-szu-u2                  1\n",
      "\tib-ba-nu-u2                       1\n",
      "\tib-ba-qir                         1\n",
      "\tib-ba-szi-a                       1\n",
      "\tib-ba-szu                         1\n",
      "\tib-ba-szu-u2-ma                   1\n",
      "\tib-la-ad--ki                      1\n",
      "\tib-na-tum                         1\n",
      "\tib-ni-d-                          1\n",
      "\tib-ni-d-er3-ra-ma                 1\n",
      "\tib-ni-d-iszkur-ma                 1\n",
      "\tib-ni-d-marduk-ma                 1\n",
      "\tib-ni-d-suen-ma                   1\n",
      "\tib-ni-d-tiszpak-ma                1\n",
      "\tib-ni-d-urasz                     1\n",
      "\tib-ni-d-urasz                     1\n",
      "\tib-ni-d-utu-ma                    1\n",
      "\tib-ni-er3-ra                      1\n",
      "\tib-ni-ka                          1\n",
      "\tib-ni-sze-rum                     1\n",
      "\tib-qu2-ru                         1\n",
      "\tib-qu2-ru-u2                      1\n",
      "\tib-qu2-ru-u2-szu                  1\n",
      "\tib-qu2-ur                         1\n",
      "\tib-qu2-ur-szu                     1\n",
      "\tib-ri-ka                          1\n",
      "\tib-ru-u2                          1\n",
      "\tib-szi                            1\n",
      "\tib-szu-u2                         1\n",
      "\tib-szu-u2-ma                      1\n",
      "\tib-t,i-lu-ma                      1\n",
      "\tib-ta-aq-ru-ni-a-ti               1\n",
      "\tib-ta-aq-ru-ni-in-ni              1\n",
      "\tim-                               1\n",
      "\tim-du-ud-ma                       1\n",
      "\tim-gu-ra-an-ni                    1\n",
      "\tim-gu-ru-ki                       1\n",
      "\tim-gu-ur                          1\n",
      "\tim-gu-ur-ki                       1\n",
      "\tim-gur-an-ni                      1\n",
      "\tim-gur-an-ni-a-ti                 1\n",
      "\tim-gur-d-suen-ma                  1\n",
      "\tim-gur-esz18-dar                  1\n",
      "\tim-ha-s,u2                        1\n",
      "\tim-ha-s,u2-u2-ma                  1\n",
      "\tim-hu-ra                          1\n",
      "\tim-hu-ra-ka                       1\n",
      "\tim-hu-ra-ni-ma                    1\n",
      "\tim-hu-ru-ma                       1\n",
      "\tim-hu-ru-u2-ka                    1\n",
      "\tim-hu-ur-                         1\n",
      "\tim-hu-ur-da-an                    1\n",
      "\tim-hu-ur-ma                       1\n",
      "\tim-ku-su                          1\n",
      "\tim-ku-su-ma                       1\n",
      "\tim-ku-ur                          1\n",
      "\tim-lik-d-suen                     1\n",
      "\tim-lu-u2                          1\n",
      "\tim-ma-                            1\n",
      "\tim-ma--                           1\n",
      "\tim-ma-ak-ka-ru-ma                 1\n",
      "\tim-ma-asz-hu                      1\n",
      "\tim-me-er-i3-li2-ma                1\n",
      "\tim-me-ra-am                       1\n",
      "\tim-me-ri                          1\n",
      "\tim-me-ri-i                        1\n",
      "\tim-me-ri-ia                       1\n",
      "\tim-qu2-ta-am                      1\n",
      "\tim-qu2-ta-ki-im                   1\n",
      "\tim-qu2-ta-ni                      1\n",
      "\tim-qu2-ta-szu                     1\n",
      "\tim-qu2-tu-ma                      1\n",
      "\tim-qu2-u2-tu                      1\n",
      "\tim-ra-a-as,                       1\n",
      "\tim-ra-as,-ma                      1\n",
      "\tim-ra-s,u2-ma                     1\n",
      "\tim-si                             1\n",
      "\tim-szu-u2-ma                      1\n",
      "\tim-szu-uh                         1\n",
      "\tim-szu-uh2-ma                     1\n",
      "\tim-t,i3                           1\n",
      "\tim-ta-ag-ra-ka                    1\n",
      "\tim-ta-ag-ra-ni-a-ti               1\n",
      "\tim-ta-ag-ru-ka                    1\n",
      "\tim-ta-ah-ru-ne-en6-ni             1\n",
      "\tim-ta-ah-ru-szu                   1\n",
      "\tim-ta-aq-tam                      1\n",
      "\tim-ta-ar-s,a-ni-a-szi-im          1\n",
      "\tim-ta-asz-u2                      1\n",
      "\tim-ta-ga-ar-d-utu                 1\n",
      "\tim-ta-ha-ar                       1\n",
      "\tim-ta-lu-u2                       1\n",
      "\tim-ta-na-ha-ru-ni-ni              1\n",
      "\tim-ta-ra-as,-ma                   1\n",
      "\tim-ta-sza-                        1\n",
      "\tim-ti-du-u2                       1\n",
      "\tim-tu-ta-an-ni                    1\n",
      "\tim-tu-ut-ma                       1\n",
      "\tu2----                            1\n",
      "\tu2----u2                          1\n",
      "\tu2---in-szu-nu-ti                 1\n",
      "\tu2--e-ru-u2-ka                    1\n",
      "\tu2--ha-                           1\n",
      "\tu2-a                              1\n",
      "\tu2-ba-                            1\n",
      "\tu2-ba-ad-di-a-ni-ma               1\n",
      "\tu2-ba-ah-a-ma                     1\n",
      "\tu2-ba-al-                         1\n",
      "\tu2-ba-al-la-at,-ka                1\n",
      "\tu2-ba-al-la-t,u2-szi              1\n",
      "\tu2-ba-al-la-t,u2-szu-nu-ti        1\n",
      "\tu2-ba-al-la-t,u3-szu              1\n",
      "\tu2-ba-al-li-t,u3-szu              1\n",
      "\tu2-ba-an                          1\n",
      "\tu2-ba-ar-ru-ma                    1\n",
      "\tu2-ba-ar-szi                      1\n",
      "\tu2-ba-az-za-u2-szu                1\n",
      "\tu2-ba-la-am-ma                    1\n",
      "\tu2-ba-la-ki-im                    1\n",
      "\tu2-ba-la-tim                      1\n",
      "\tu2-ba-li                          1\n",
      "\tu2-ba-li-t,u2-szu                 1\n",
      "\tu2-ba-lu                          1\n",
      "\tu2-ba-ni                          1\n",
      "\tu2-ba-za-hu-ni-a-ti               1\n",
      "\tu2-bi-il                          1\n",
      "\tu2-bi-il-ma                       1\n",
      "\tu2-bi-ir                          1\n",
      "\tu2-bi-ir-ru-ma                    1\n",
      "\tu2-bi-ir-ru-szu-ma                1\n",
      "\tu2-bi-la-ki                       1\n",
      "\tu2-da--is3-su                     1\n",
      "\tu2-da-ab-ba-ab-ka                 1\n",
      "\tu2-da-ab-ba-ab-szu-nu             1\n",
      "\tu2-da-ab-ba-ba-an-ni              1\n",
      "\tu2-da-ab-ba-ba-ni-a-ti            1\n",
      "\tu2-da-ab-ba-bu                    1\n",
      "\tu2-da-ab-ba-bu-szu                1\n",
      "\tu2-da-am-ma-qa2                   1\n",
      "\tu2-da-am-ma-qa2-am-ma             1\n",
      "\tu2-da-an-ni-in-ma                 1\n",
      "\tu2-da-an-ni-in-ma                 1\n"
     ]
    }
   ],
   "source": [
    "for (item, amount) in sorted(\n",
    "    verbs.items(), \n",
    "    key=byFreqDesc,\n",
    ")[0:300]:\n",
    "    print(f'\\t{item:<30} {amount:>4}')"
   ]
  },
  {
   "cell_type": "code",
   "execution_count": null,
   "metadata": {},
   "outputs": [],
   "source": []
  },
  {
   "cell_type": "code",
   "execution_count": null,
   "metadata": {},
   "outputs": [],
   "source": []
  },
  {
   "cell_type": "code",
   "execution_count": null,
   "metadata": {},
   "outputs": [],
   "source": []
  },
  {
   "cell_type": "code",
   "execution_count": null,
   "metadata": {},
   "outputs": [],
   "source": []
  },
  {
   "cell_type": "code",
   "execution_count": null,
   "metadata": {},
   "outputs": [],
   "source": []
  }
 ],
 "metadata": {
  "kernelspec": {
   "display_name": "Python 3",
   "language": "python",
   "name": "python3"
  },
  "language_info": {
   "codemirror_mode": {
    "name": "ipython",
    "version": 3
   },
   "file_extension": ".py",
   "mimetype": "text/x-python",
   "name": "python",
   "nbconvert_exporter": "python",
   "pygments_lexer": "ipython3",
   "version": "3.7.1"
  }
 },
 "nbformat": 4,
 "nbformat_minor": 2
}
