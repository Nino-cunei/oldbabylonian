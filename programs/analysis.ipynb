{
 "cells": [
  {
   "cell_type": "code",
   "execution_count": 1,
   "metadata": {},
   "outputs": [],
   "source": [
    "import os\n",
    "import collections\n",
    "import re\n",
    "\n",
    "from tf.fabric import Fabric"
   ]
  },
  {
   "cell_type": "markdown",
   "metadata": {},
   "source": [
    "# Local environment"
   ]
  },
  {
   "cell_type": "code",
   "execution_count": 2,
   "metadata": {},
   "outputs": [],
   "source": [
    "BASE = os.path.expanduser('~/github')\n",
    "ORG = 'Nino-cunei'\n",
    "REPO = 'oldbabylonian'\n",
    "VERSION = '0.2'\n",
    "\n",
    "REPO_PATH = f'{BASE}/{ORG}/{REPO}'\n",
    "TF_PATH = f'{REPO_PATH}/tf/{VERSION}'"
   ]
  },
  {
   "cell_type": "markdown",
   "metadata": {},
   "source": [
    "# Launch Text-Fabric with all features loaded"
   ]
  },
  {
   "cell_type": "code",
   "execution_count": 3,
   "metadata": {},
   "outputs": [
    {
     "name": "stdout",
     "output_type": "stream",
     "text": [
      "This is Text-Fabric 7.4.5\n",
      "Api reference : https://annotation.github.io/text-fabric/Api/Fabric/\n",
      "\n",
      "25 features found and 0 ignored\n"
     ]
    },
    {
     "data": {
      "text/plain": [
       "[('Computed',\n",
       "  'computed-data',\n",
       "  ('C Computed', 'Call AllComputeds', 'Cs ComputedString')),\n",
       " ('Features', 'edge-features', ('E Edge', 'Eall AllEdges', 'Es EdgeString')),\n",
       " ('Fabric', 'loading', ('ensureLoaded', 'TF', 'ignored', 'loadLog')),\n",
       " ('Locality', 'locality', ('L Locality',)),\n",
       " ('Misc', 'messaging', ('cache', 'error', 'indent', 'info', 'reset')),\n",
       " ('Nodes',\n",
       "  'navigating-nodes',\n",
       "  ('N Nodes', 'sortKey', 'sortKeyTuple', 'otypeRank', 'sortNodes')),\n",
       " ('Features',\n",
       "  'node-features',\n",
       "  ('F Feature', 'Fall AllFeatures', 'Fs FeatureString')),\n",
       " ('Search', 'search', ('S Search',)),\n",
       " ('Text', 'text', ('T Text',))]"
      ]
     },
     "execution_count": 3,
     "metadata": {},
     "output_type": "execute_result"
    }
   ],
   "source": [
    "TF = Fabric(locations=TF_PATH)\n",
    "allFeatures = TF.explore(silent=True, show=True)\n",
    "loadableFeatures = allFeatures['nodes'] + allFeatures['edges']\n",
    "api = TF.load(loadableFeatures, silent=True)\n",
    "api.makeAvailableIn(globals())"
   ]
  },
  {
   "cell_type": "markdown",
   "metadata": {},
   "source": [
    "# Quick exercises\n",
    "\n",
    "What are the superscripts?"
   ]
  },
  {
   "cell_type": "code",
   "execution_count": 4,
   "metadata": {},
   "outputs": [],
   "source": [
    "supers = collections.Counter()\n",
    "\n",
    "for s in F.otype.s('sign'):\n",
    "  if F.super.v(s):\n",
    "    supers[F.reading.v(s)] += 1"
   ]
  },
  {
   "cell_type": "code",
   "execution_count": 5,
   "metadata": {},
   "outputs": [
    {
     "data": {
      "text/plain": [
       "Counter({'d': 3848,\n",
       "         'disz': 1153,\n",
       "         'ki': 844,\n",
       "         'gesz': 247,\n",
       "         'sar': 76,\n",
       "         'muszen': 3,\n",
       "         'mi2': 44,\n",
       "         'gi': 34,\n",
       "         'na4': 17,\n",
       "         'lu2': 29,\n",
       "         'ap': 2,\n",
       "         'tug2': 25,\n",
       "         'am': 2,\n",
       "         'duru5': 5,\n",
       "         'dug': 2,\n",
       "         'ku': 1,\n",
       "         'iri': 25,\n",
       "         'gar': 3,\n",
       "         'kusz': 12,\n",
       "         'uruda': 9,\n",
       "         'u2': 4,\n",
       "         'i7': 1,\n",
       "         'iti': 1,\n",
       "         'ir': 1,\n",
       "         'p': 2,\n",
       "         'id2': 2,\n",
       "         'urudu': 6,\n",
       "         'asz': 1,\n",
       "         'an': 2,\n",
       "         'uzu': 1,\n",
       "         'ti': 1,\n",
       "         'munus': 1,\n",
       "         'la': 1,\n",
       "         'ku6': 4,\n",
       "         'at': 1,\n",
       "         'ar': 1,\n",
       "         'ururdu': 1,\n",
       "         'szim': 3})"
      ]
     },
     "execution_count": 5,
     "metadata": {},
     "output_type": "execute_result"
    }
   ],
   "source": [
    "supers"
   ]
  },
  {
   "cell_type": "markdown",
   "metadata": {},
   "source": [
    "What is the language use?\n",
    "* 1 = Akkadian\n",
    "* 2 = Sumerian"
   ]
  },
  {
   "cell_type": "code",
   "execution_count": 6,
   "metadata": {},
   "outputs": [
    {
     "data": {
      "text/plain": [
       "((1, 171644), (2, 18178))"
      ]
     },
     "execution_count": 6,
     "metadata": {},
     "output_type": "execute_result"
    }
   ],
   "source": [
    "F.language.freqList()"
   ]
  },
  {
   "cell_type": "markdown",
   "metadata": {},
   "source": [
    "## Frequency of the readings (Akkadian) and of the graphemes (Sumerian)"
   ]
  },
  {
   "cell_type": "code",
   "execution_count": 7,
   "metadata": {},
   "outputs": [
    {
     "data": {
      "text/plain": [
       "(('a', 10941),\n",
       " ('ma', 10749),\n",
       " ('na', 7999),\n",
       " ('i', 4620),\n",
       " ('sza', 4447),\n",
       " ('szu', 4270),\n",
       " ('d', 3848),\n",
       " ('li', 3638),\n",
       " ('am', 3588),\n",
       " ('ta', 3191),\n",
       " ('u2', 3074),\n",
       " ('ka', 3064),\n",
       " ('ki', 2885),\n",
       " ('um', 2811),\n",
       " ('ni', 2681),\n",
       " ('la', 2557),\n",
       " ('bi', 2467),\n",
       " ('u3', 2404),\n",
       " ('ti', 2322),\n",
       " ('disz', 2296),\n",
       " ('ba', 2294),\n",
       " ('ri', 2244),\n",
       " ('ra', 2177),\n",
       " ('nu', 2120),\n",
       " ('asz', 2115),\n",
       " ('im', 1946),\n",
       " ('ia', 1703),\n",
       " ('al', 1653),\n",
       " ('di', 1541),\n",
       " ('ku', 1505))"
      ]
     },
     "execution_count": 7,
     "metadata": {},
     "output_type": "execute_result"
    }
   ],
   "source": [
    "F.reading.freqList()[0:30]"
   ]
  },
  {
   "cell_type": "code",
   "execution_count": 8,
   "metadata": {},
   "outputs": [
    {
     "data": {
      "text/plain": [
       "(('x', 8267),\n",
       " ('...', 1421),\n",
       " ('ARAD', 117),\n",
       " ('GAN2', 102),\n",
       " ('ARAD2', 46),\n",
       " ('BI', 46),\n",
       " ('KI', 38),\n",
       " ('KU', 37),\n",
       " ('DI', 34),\n",
       " ('GA', 28),\n",
       " ('BU', 26),\n",
       " ('NI', 26),\n",
       " ('UD', 24),\n",
       " ('ZI', 24),\n",
       " ('KA', 23),\n",
       " ('PI', 23),\n",
       " ('AB', 21),\n",
       " ('ZA', 19),\n",
       " ('ZU', 19),\n",
       " ('AD', 18),\n",
       " ('NE', 18),\n",
       " ('AH', 16),\n",
       " ('ID', 15),\n",
       " ('IG', 15),\n",
       " ('SZI', 15),\n",
       " ('DA', 13),\n",
       " ('SU', 13),\n",
       " ('AN', 12),\n",
       " ('HI', 12),\n",
       " ('IA', 12))"
      ]
     },
     "execution_count": 8,
     "metadata": {},
     "output_type": "execute_result"
    }
   ],
   "source": [
    "F.grapheme.freqList()[0:30]"
   ]
  },
  {
   "cell_type": "markdown",
   "metadata": {},
   "source": [
    "# Proper nouns\n",
    "\n",
    "List of sign stretches that occur between `um-ma` and `ma`."
   ]
  },
  {
   "cell_type": "code",
   "execution_count": 9,
   "metadata": {},
   "outputs": [
    {
     "name": "stdout",
     "output_type": "stream",
     "text": [
      "Found 2538 occurrences of intro nouns\n"
     ]
    }
   ],
   "source": [
    "introNouns = []\n",
    "\n",
    "for line in F.otype.s('line'):\n",
    "  signs = L.d(line, otype='sign')\n",
    "  \n",
    "  # um-ma ...  ma\n",
    "  # 0  1  >=2  >=3\n",
    "  \n",
    "  # first find the ma on at least position 3\n",
    "  \n",
    "  mas = []\n",
    "  \n",
    "  for i in range(3, len(signs)):\n",
    "    if F.reading.v(signs[i]) == 'ma':\n",
    "      mas.append(i)\n",
    "      \n",
    "  # if there is no ma, skip the line\n",
    "  \n",
    "    if not mas:\n",
    "      continue\n",
    "      \n",
    "  # test the last ma\n",
    "  # find the first um-ma in front of it, with room for something in between\n",
    "    \n",
    "    lastMa = mas[-1]\n",
    "    between = None\n",
    "    \n",
    "    for i in range(lastMa - 2):\n",
    "      if (\n",
    "        F.reading.v(signs[i]) == 'um'\n",
    "        and\n",
    "        F.reading.v(signs[i + 1]) == 'ma'\n",
    "      ):\n",
    "        between = signs[i + 2:lastMa]\n",
    "      \n",
    "    if between:\n",
    "      introNouns.append(between)\n",
    "\n",
    "print(f'Found {len(introNouns)} occurrences of intro nouns')"
   ]
  },
  {
   "cell_type": "code",
   "execution_count": 14,
   "metadata": {},
   "outputs": [
    {
     "data": {
      "text/plain": [
       "[14, 15, 16, 17, 18, 19, 20]"
      ]
     },
     "execution_count": 14,
     "metadata": {},
     "output_type": "execute_result"
    }
   ],
   "source": [
    "introNouns[0]"
   ]
  },
  {
   "cell_type": "code",
   "execution_count": 18,
   "metadata": {},
   "outputs": [
    {
     "data": {
      "text/plain": [
       "'P509373'"
      ]
     },
     "execution_count": 18,
     "metadata": {},
     "output_type": "execute_result"
    }
   ],
   "source": [
    "t = L.u(14, otype='tablet')[0]\n",
    "F.pnumber.v(t)"
   ]
  },
  {
   "cell_type": "markdown",
   "metadata": {},
   "source": [
    "Let's show them and their frequencies."
   ]
  },
  {
   "cell_type": "code",
   "execution_count": 9,
   "metadata": {},
   "outputs": [
    {
     "data": {
      "text/plain": [
       "2538"
      ]
     },
     "execution_count": 9,
     "metadata": {},
     "output_type": "execute_result"
    }
   ],
   "source": [
    "len(introNouns)"
   ]
  },
  {
   "cell_type": "code",
   "execution_count": 10,
   "metadata": {},
   "outputs": [],
   "source": [
    "introNounsCount = collections.Counter()\n",
    "\n",
    "for between in introNouns:\n",
    "  form = ''.join(f'{F.reading.v(n) or F.grapheme.v(n)}{F.after.v(n)}' for n in between)\n",
    "  introNounsCount[form] += 1"
   ]
  },
  {
   "cell_type": "code",
   "execution_count": 11,
   "metadata": {},
   "outputs": [
    {
     "data": {
      "text/plain": [
       "681"
      ]
     },
     "execution_count": 11,
     "metadata": {},
     "output_type": "execute_result"
    }
   ],
   "source": [
    "len(introNounsCount)"
   ]
  },
  {
   "cell_type": "code",
   "execution_count": 12,
   "metadata": {},
   "outputs": [
    {
     "name": "stdout",
     "output_type": "stream",
     "text": [
      "szu-                            209 x\n",
      "szu-u2-                         184 x\n",
      "a-na-ku-                        149 x\n",
      "at-ta-                          121 x\n",
      "at-ta-a-                        118 x\n",
      "ha-am-mu-ra-bi-                 108 x\n",
      "at-ti-                           60 x\n",
      "szu-nu-                          60 x\n",
      "a-na-ku-u2-                      55 x\n",
      "szi-                             40 x\n",
      "a-hu-um-                         23 x\n",
      "a-wi-il-dingir-                  23 x\n",
      "disz                             21 x\n",
      "ni-nu-                           19 x\n",
      "be-li2-                          18 x\n",
      "ha-am-mu-ra-pi2-                 18 x\n",
      "a-bi-e-szu-uh-                   17 x\n",
      "d-marduk-mu-sza-lim-             15 x\n",
      "d-iszkur-                        14 x\n",
      "d-na-bi-um-                      14 x\n",
      "lu2-igi-sa6-                     13 x\n",
      "s,i-li2-d-utu-                   13 x\n",
      "szi-i-                           13 x\n",
      "ta-tu-ur-                        13 x\n",
      "am-mi-s,a-du-qa2-                12 x\n",
      "d-nanna-                         12 x\n",
      "la-                              12 x\n",
      "sa-am-su-i-lu-na-                12 x\n",
      "sag-il2-                         12 x\n",
      "d-utu-na-s,i-ir-                 11 x\n",
      "d-iszkur-ra-bi-                  10 x\n",
      "d-suen-i-din-nam-                10 x\n",
      "at-tu-nu-                         9 x\n",
      "d-marduk-na-s,i-ir-               9 x\n",
      "u-bar-d-utu-                      9 x\n",
      "a-                                8 x\n",
      "at-ta-a-ma ki-                    8 x\n",
      "at-ti-na-                         8 x\n",
      "be-el a-wa-ti-ia-                 8 x\n",
      "d-na-bi-um-na-s,i-ir-             8 x\n",
      "d-utu-                            8 x\n",
      "szu-nu-ma                         8 x\n",
      "szu-nu-u2-                        8 x\n",
      "...-                              7 x\n",
      "d-suen-                           7 x\n",
      "e-tel-pi4-d-marduk-               7 x\n",
      "gi-mil-d-marduk-                  7 x\n",
      "i3-li2-us,-ra-an-ni-              7 x\n",
      "lik-                              7 x\n",
      "qa2-bu-um-                        7 x\n",
      "szi-ma                            7 x\n",
      "szum-                             7 x\n",
      "a-na-ku-u2-ma                     6 x\n",
      "a-na-ku-u2-ma ki-i-               6 x\n",
      "at-ti-i-                          6 x\n",
      "d-nanna-ibila-                    6 x\n",
      "dingir-utu-ma i-nu-               6 x\n",
      "du-um-                            6 x\n",
      "e2-gal-                           6 x\n",
      "i-din-d-suen-                     6 x\n",
      "i3-li2-i-                         6 x\n",
      "nu-ur2-d-suen-                    6 x\n",
      "a-na-ku-u2-ma ki-                 5 x\n",
      "at-ti-ma                          5 x\n",
      "be-el-szu-nu-                     5 x\n",
      "be-la-nu-um-                      5 x\n",
      "d-suen-i-qi2-sza-am-              5 x\n",
      "disz-mi2-a-su-tum-                5 x\n",
      "i3-li2-                           5 x\n",
      "i3-li2-i-qi2-sza-am-              5 x\n",
      "si-i-                             5 x\n",
      "u disz                            5 x\n",
      "x x x x-                          5 x\n",
      "a-am-                             4 x\n",
      "a-ra-am-                          4 x\n",
      "be-el-ta-ni-                      4 x\n",
      "d-iszkur-szar-rum-                4 x\n",
      "d-isztaran-szi-it-ma-ar-          4 x\n",
      "d-marduk-dingir-                  4 x\n",
      "d-suen-i-qi2-sza-am               4 x\n",
      "d-suen-im-gur-an-ni-              4 x\n",
      "dingir-szu-ib-ni-szu-             4 x\n",
      "disz-szum-                        4 x\n",
      "e2-ki-                            4 x\n",
      "er3-ra-ba-ni-                     4 x\n",
      "i-din-d-iszkur                    4 x\n",
      "i-din-d-marduk-                   4 x\n",
      "i-szar-ku-bi-                     4 x\n",
      "i3-li2-ip-pa-al-sa3-am-           4 x\n",
      "ip-qu2-d-sza-la-                  4 x\n",
      "ki-                               4 x\n",
      "mu-na-wi-rum-                     4 x\n",
      "na-ra-am-ta-ni                    4 x\n",
      "pi2-lah-d-inana)                  4 x\n",
      "sa-am-su-di-ta-na-                4 x\n",
      "sag-il2-ma-an-szum2-              4 x\n",
      "szu-ma a-wi-lu-u2 u2-ul           4 x\n",
      "ta-ri-ba-tum-                     4 x\n",
      "ta-ri-isz-                        4 x\n",
      "a-na-ku-ma szum-                  3 x\n"
     ]
    }
   ],
   "source": [
    "for (proper, amount) in sorted(\n",
    "  introNounsCount.items(),\n",
    "  key=lambda x: (-x[1], x[0]),\n",
    ")[0:100]:\n",
    "  print(f'{proper:<30} {amount:>4} x')"
   ]
  },
  {
   "cell_type": "markdown",
   "metadata": {},
   "source": [
    "# Proper nouns\n",
    "\n",
    "List of sign stretches that occur between `um-ma` and `ma`."
   ]
  },
  {
   "cell_type": "code",
   "execution_count": 17,
   "metadata": {},
   "outputs": [
    {
     "name": "stdout",
     "output_type": "stream",
     "text": [
      "1622 results\n"
     ]
    }
   ],
   "source": [
    "query = '''\n",
    "line\n",
    "   sign reading=um\n",
    "   <: sign reading=ma\n",
    "   < sign reading=ma\n",
    "'''\n",
    "results = sorted(S.search(query))\n",
    "print(f'{len(results)} results')"
   ]
  },
  {
   "cell_type": "code",
   "execution_count": 16,
   "metadata": {},
   "outputs": [
    {
     "data": {
      "text/plain": [
       "[(206905, 12, 13, 21),\n",
       " (206909, 63, 64, 67),\n",
       " (206939, 357, 358, 364),\n",
       " (206957, 508, 509, 514),\n",
       " (206994, 792, 793, 799)]"
      ]
     },
     "execution_count": 16,
     "metadata": {},
     "output_type": "execute_result"
    }
   ],
   "source": [
    "results[0:5]"
   ]
  },
  {
   "cell_type": "code",
   "execution_count": 21,
   "metadata": {},
   "outputs": [],
   "source": [
    "introNouns = collections.Counter()\n",
    "\n",
    "for (line, um, ma1, ma2) in results:\n",
    "  betweenNodes = range(ma1 + 1, ma2)\n",
    "  introNoun = ''.join(\n",
    "    f'{F.reading.v(n) or F.grapheme.v(n)}{F.after.v(n)}'\n",
    "    for n in betweenNodes\n",
    "  )\n",
    "  introNouns[introNoun] += 1"
   ]
  },
  {
   "cell_type": "code",
   "execution_count": 22,
   "metadata": {},
   "outputs": [
    {
     "name": "stdout",
     "output_type": "stream",
     "text": [
      "ha-am-mu-ra-bi-                 108 x\n",
      "szu-                             83 x\n",
      "szu-u2-                          82 x\n",
      "at-ta-                           59 x\n",
      "a-na-ku-                         55 x\n",
      "at-ta-a-                         49 x\n",
      "a-na-ku-u2-                      36 x\n",
      "szu-nu-                          28 x\n",
      "a-hu-um-                         23 x\n",
      "ha-am-mu-ra-pi2-                 18 x\n",
      "a-bi-e-szu-uh-                   17 x\n",
      "d-marduk-mu-sza-lim-             15 x\n",
      "at-ti-                           14 x\n",
      "lu2-igi-sa6-                     13 x\n",
      "s,i-li2-d-utu-                   13 x\n",
      "am-mi-s,a-du-qa2-                12 x\n",
      "sa-am-su-i-lu-na-                12 x\n",
      "d-utu-na-s,i-ir-                 11 x\n",
      "d-iszkur-ra-bi-                  10 x\n",
      "d-suen-i-din-nam-                10 x\n",
      "                                  9 x\n",
      "at-tu-nu-                         9 x\n",
      "d-marduk-na-s,i-ir-               9 x\n",
      "szi-                              9 x\n",
      "d-na-bi-um-na-s,i-ir-             8 x\n",
      "...-                              7 x\n",
      "a-wi-il-dingir-                   7 x\n",
      "d-na-bi-um-                       7 x\n",
      "d-na-bi-um-ma-lik-                7 x\n",
      "e-tel-pi4-d-marduk-               7 x\n",
      "gi-mil-d-marduk-                  7 x\n",
      "lik-                              7 x\n",
      "nu-ur2-d-suen-                    6 x\n",
      "szi-i-                            6 x\n",
      "be-el-szu-nu-                     5 x\n",
      "be-la-nu-um-                      5 x\n",
      "d-iszkur-                         5 x\n",
      "d-suen-i-qi2-sza-am-              5 x\n",
      "i3-li2-i-qi2-sza-am-              5 x\n",
      "x x x x-                          5 x\n",
      "at-ti-i-                          4 x\n",
      "be-el-ta-ni-                      4 x\n",
      "be-li2-                           4 x\n",
      "d-iszkur-szar-rum-                4 x\n",
      "d-marduk-dingir-                  4 x\n",
      "d-nanna-                          4 x\n",
      "d-suen-im-gur-an-ni-              4 x\n",
      "dingir-szu-ib-ni-szu-             4 x\n",
      "disz                              4 x\n",
      "er3-ra-ba-ni-                     4 x\n",
      "i-din-d-marduk-                   4 x\n",
      "i-szar-ku-bi-                     4 x\n",
      "i3-li2-ip-pa-al-sa3-am-           4 x\n",
      "ip-qu2-d-sza-la-                  4 x\n",
      "mu-na-wi-rum-                     4 x\n",
      "sa-am-su-di-ta-na-                4 x\n",
      "sag-il2-                          4 x\n",
      "sag-il2-ma-an-szum2-              4 x\n",
      "ta-ri-ba-tum-                     4 x\n",
      "a-wi-il-d-na-bi-um-               3 x\n",
      "a-wi-il-esz18-dar-                3 x\n",
      "am-mi-di-ta-na-                   3 x\n",
      "d-iszkur-ma-an-szum2-             3 x\n",
      "d-nanna-tum-                      3 x\n",
      "d-suen-                           3 x\n",
      "d-suen-be-el-ap-lim-              3 x\n",
      "d-suen-dingir-                    3 x\n",
      "d-suen-e-ri-ba-am-                3 x\n",
      "d-suen-na-di-in-szu-mi-           3 x\n",
      "d-suen-na-s,i-ir-                 3 x\n",
      "ha-li-ia-um-                      3 x\n",
      "i-lu-ni-                          3 x\n",
      "i3-li2-i-                         3 x\n",
      "i3-li2-i-ma-dingir-               3 x\n",
      "id-da-tum-                        3 x\n",
      "il-ta-ni-                         3 x\n",
      "lu2-d-nin-urta-                   3 x\n",
      "lu2-igi-sa3-                      3 x\n",
      "nam-ra-tum-                       3 x\n",
      "ni-nu-                            3 x\n",
      "ri-isz-d-marduk-                  3 x\n",
      "ta-tu-ur-                         3 x\n",
      "wa-tar-d-utu-                     3 x\n",
      "... x-                            2 x\n",
      "a-                                2 x\n",
      "a-hu-szi-na-                      2 x\n",
      "a-li2-ta-li-mi-                   2 x\n",
      "a-ma-na-nu-um-                    2 x\n",
      "a-wi-il-d-iszkur-                 2 x\n",
      "ap-la-tum-                        2 x\n",
      "ba-nu-u2-um-                      2 x\n",
      "d-...-mu-sza-lim-                 2 x\n",
      "d-iszkur-na-s,ir-                 2 x\n",
      "d-marduk-ni-szu-                  2 x\n",
      "d-nanna-ibila-                    2 x\n",
      "d-nanna-ibila-ma-an-szum2-        2 x\n",
      "d-nanna-in-du8-                   2 x\n",
      "d-nanna-ma-an-szum2-              2 x\n",
      "d-suen-a-bu-szu-                  2 x\n",
      "d-suen-gim-la-an-ni-              2 x\n"
     ]
    }
   ],
   "source": [
    "for (proper, amount) in sorted(\n",
    "  introNouns.items(),\n",
    "  key=lambda x: (-x[1], x[0]),\n",
    ")[0:100]:\n",
    "  print(f'{proper:<30} {amount:>4} x')"
   ]
  },
  {
   "cell_type": "code",
   "execution_count": null,
   "metadata": {},
   "outputs": [],
   "source": []
  }
 ],
 "metadata": {
  "kernelspec": {
   "display_name": "Python 3",
   "language": "python",
   "name": "python3"
  },
  "language_info": {
   "codemirror_mode": {
    "name": "ipython",
    "version": 3
   },
   "file_extension": ".py",
   "mimetype": "text/x-python",
   "name": "python",
   "nbconvert_exporter": "python",
   "pygments_lexer": "ipython3",
   "version": "3.7.2"
  }
 },
 "nbformat": 4,
 "nbformat_minor": 2
}
