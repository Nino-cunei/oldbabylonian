{
 "cells": [
  {
   "cell_type": "code",
   "execution_count": 2,
   "metadata": {},
   "outputs": [
    {
     "name": "stdout",
     "output_type": "stream",
     "text": [
      "Using TF app oldbabylonian in /Users/dirk/github/annotation/app-oldbabylonian/code\n",
      "Using Nino-cunei/oldbabylonian/tf - 1.0.1 in /Users/dirk/github\n"
     ]
    },
    {
     "data": {
      "text/html": [
       "<b>Documentation:</b> <a target=\"_blank\" href=\"https://github.com/Nino-cunei/oldbabylonian/blob/master/docs/\" title=\"provenance of Old Babylonian Letters 1900-1600: Cuneiform tablets \">OLDBABYLONIAN</a> <a target=\"_blank\" href=\"https://github.com/Nino-cunei/oldbabylonian/blob/master/docs/transcription.md\" title=\"How TF features represent ATF\">Character table</a> <a target=\"_blank\" href=\"https://github.com/Nino-cunei/oldbabylonian/blob/master/docs//transcription.md\" title=\"OLDBABYLONIAN feature documentation\">Feature docs</a> <a target=\"_blank\" href=\"https://github.com/annotation/app-oldbabylonian\" title=\"oldbabylonian API documentation\">oldbabylonian API</a> <a target=\"_blank\" href=\"https://annotation.github.io/text-fabric/Api/Fabric/\" title=\"text-fabric-api\">Text-Fabric API 7.5.1</a> <a target=\"_blank\" href=\"https://annotation.github.io/text-fabric/Use/Search/\" title=\"Search Templates Introduction and Reference\">Search Reference</a><details open><summary><b>Loaded features</b>:</summary>\n",
       "<p><b>Old Babylonian Letters 1900-1600: Cuneiform tablets </b>: <a target=\"_blank\" href=\"https://github.com/Nino-cunei/oldbabylonian/blob/master/docs//transcription.md\" title=\"/Users/dirk/github/Nino-cunei/oldbabylonian/tf/1.0.1/after.tf\">after</a>  <a target=\"_blank\" href=\"https://github.com/Nino-cunei/oldbabylonian/blob/master/docs//transcription.md\" title=\"/Users/dirk/github/Nino-cunei/oldbabylonian/tf/1.0.1/afterr.tf\">afterr</a>  <a target=\"_blank\" href=\"https://github.com/Nino-cunei/oldbabylonian/blob/master/docs//transcription.md\" title=\"/Users/dirk/github/Nino-cunei/oldbabylonian/tf/1.0.1/afteru.tf\">afteru</a>  <a target=\"_blank\" href=\"https://github.com/Nino-cunei/oldbabylonian/blob/master/docs//transcription.md\" title=\"/Users/dirk/github/Nino-cunei/oldbabylonian/tf/1.0.1/atf.tf\">atf</a>  <a target=\"_blank\" href=\"https://github.com/Nino-cunei/oldbabylonian/blob/master/docs//transcription.md\" title=\"/Users/dirk/github/Nino-cunei/oldbabylonian/tf/1.0.1/atfpost.tf\">atfpost</a>  <a target=\"_blank\" href=\"https://github.com/Nino-cunei/oldbabylonian/blob/master/docs//transcription.md\" title=\"/Users/dirk/github/Nino-cunei/oldbabylonian/tf/1.0.1/atfpre.tf\">atfpre</a>  <a target=\"_blank\" href=\"https://github.com/Nino-cunei/oldbabylonian/blob/master/docs//transcription.md\" title=\"/Users/dirk/github/Nino-cunei/oldbabylonian/tf/1.0.1/col.tf\">col</a>  <a target=\"_blank\" href=\"https://github.com/Nino-cunei/oldbabylonian/blob/master/docs//transcription.md\" title=\"/Users/dirk/github/Nino-cunei/oldbabylonian/tf/1.0.1/collated.tf\">collated</a>  <a target=\"_blank\" href=\"https://github.com/Nino-cunei/oldbabylonian/blob/master/docs//transcription.md\" title=\"/Users/dirk/github/Nino-cunei/oldbabylonian/tf/1.0.1/collection.tf\">collection</a>  <a target=\"_blank\" href=\"https://github.com/Nino-cunei/oldbabylonian/blob/master/docs//transcription.md\" title=\"/Users/dirk/github/Nino-cunei/oldbabylonian/tf/1.0.1/comment.tf\">comment</a>  <a target=\"_blank\" href=\"https://github.com/Nino-cunei/oldbabylonian/blob/master/docs//transcription.md\" title=\"/Users/dirk/github/Nino-cunei/oldbabylonian/tf/1.0.1/damage.tf\">damage</a>  <a target=\"_blank\" href=\"https://github.com/Nino-cunei/oldbabylonian/blob/master/docs//transcription.md\" title=\"/Users/dirk/github/Nino-cunei/oldbabylonian/tf/1.0.1/det.tf\">det</a>  <a target=\"_blank\" href=\"https://github.com/Nino-cunei/oldbabylonian/blob/master/docs//transcription.md\" title=\"/Users/dirk/github/Nino-cunei/oldbabylonian/tf/1.0.1/docnote.tf\">docnote</a>  <a target=\"_blank\" href=\"https://github.com/Nino-cunei/oldbabylonian/blob/master/docs//transcription.md\" title=\"/Users/dirk/github/Nino-cunei/oldbabylonian/tf/1.0.1/docnumber.tf\">docnumber</a>  <a target=\"_blank\" href=\"https://github.com/Nino-cunei/oldbabylonian/blob/master/docs//transcription.md\" title=\"/Users/dirk/github/Nino-cunei/oldbabylonian/tf/1.0.1/excised.tf\">excised</a>  <a target=\"_blank\" href=\"https://github.com/Nino-cunei/oldbabylonian/blob/master/docs//transcription.md\" title=\"/Users/dirk/github/Nino-cunei/oldbabylonian/tf/1.0.1/face.tf\">face</a>  <a target=\"_blank\" href=\"https://github.com/Nino-cunei/oldbabylonian/blob/master/docs//transcription.md\" title=\"/Users/dirk/github/Nino-cunei/oldbabylonian/tf/1.0.1/flags.tf\">flags</a>  <a target=\"_blank\" href=\"https://github.com/Nino-cunei/oldbabylonian/blob/master/docs//transcription.md\" title=\"/Users/dirk/github/Nino-cunei/oldbabylonian/tf/1.0.1/fraction.tf\">fraction</a>  <a target=\"_blank\" href=\"https://github.com/Nino-cunei/oldbabylonian/blob/master/docs//transcription.md\" title=\"/Users/dirk/github/Nino-cunei/oldbabylonian/tf/1.0.1/grapheme.tf\">grapheme</a>  <a target=\"_blank\" href=\"https://github.com/Nino-cunei/oldbabylonian/blob/master/docs//transcription.md\" title=\"/Users/dirk/github/Nino-cunei/oldbabylonian/tf/1.0.1/graphemer.tf\">graphemer</a>  <a target=\"_blank\" href=\"https://github.com/Nino-cunei/oldbabylonian/blob/master/docs//transcription.md\" title=\"/Users/dirk/github/Nino-cunei/oldbabylonian/tf/1.0.1/graphemeu.tf\">graphemeu</a>  <a target=\"_blank\" href=\"https://github.com/Nino-cunei/oldbabylonian/blob/master/docs//transcription.md\" title=\"/Users/dirk/github/Nino-cunei/oldbabylonian/tf/1.0.1/lang.tf\">lang</a>  <a target=\"_blank\" href=\"https://github.com/Nino-cunei/oldbabylonian/blob/master/docs//transcription.md\" title=\"/Users/dirk/github/Nino-cunei/oldbabylonian/tf/1.0.1/langalt.tf\">langalt</a>  <a target=\"_blank\" href=\"https://github.com/Nino-cunei/oldbabylonian/blob/master/docs//transcription.md\" title=\"/Users/dirk/github/Nino-cunei/oldbabylonian/tf/1.0.1/ln.tf\">ln</a>  <a target=\"_blank\" href=\"https://github.com/Nino-cunei/oldbabylonian/blob/master/docs//transcription.md\" title=\"/Users/dirk/github/Nino-cunei/oldbabylonian/tf/1.0.1/lnc.tf\">lnc</a>  <a target=\"_blank\" href=\"https://github.com/Nino-cunei/oldbabylonian/blob/master/docs//transcription.md\" title=\"/Users/dirk/github/Nino-cunei/oldbabylonian/tf/1.0.1/lnno.tf\">lnno</a>  <a target=\"_blank\" href=\"https://github.com/Nino-cunei/oldbabylonian/blob/master/docs//transcription.md\" title=\"/Users/dirk/github/Nino-cunei/oldbabylonian/tf/1.0.1/missing.tf\">missing</a>  <a target=\"_blank\" href=\"https://github.com/Nino-cunei/oldbabylonian/blob/master/docs//transcription.md\" title=\"/Users/dirk/github/Nino-cunei/oldbabylonian/tf/1.0.1/object.tf\">object</a>  <a target=\"_blank\" href=\"https://github.com/Nino-cunei/oldbabylonian/blob/master/docs//transcription.md\" title=\"/Users/dirk/github/Nino-cunei/oldbabylonian/tf/1.0.1/operator.tf\">operator</a>  <a target=\"_blank\" href=\"https://github.com/Nino-cunei/oldbabylonian/blob/master/docs//transcription.md\" title=\"/Users/dirk/github/Nino-cunei/oldbabylonian/tf/1.0.1/operatorr.tf\">operatorr</a>  <a target=\"_blank\" href=\"https://github.com/Nino-cunei/oldbabylonian/blob/master/docs//transcription.md\" title=\"/Users/dirk/github/Nino-cunei/oldbabylonian/tf/1.0.1/operatoru.tf\">operatoru</a>  <a target=\"_blank\" href=\"https://github.com/Nino-cunei/oldbabylonian/blob/master/docs//transcription.md\" title=\"/Users/dirk/github/Nino-cunei/oldbabylonian/tf/1.0.1/otype.tf\">otype</a>  <a target=\"_blank\" href=\"https://github.com/Nino-cunei/oldbabylonian/blob/master/docs//transcription.md\" title=\"/Users/dirk/github/Nino-cunei/oldbabylonian/tf/1.0.1/pnumber.tf\">pnumber</a>  <a target=\"_blank\" href=\"https://github.com/Nino-cunei/oldbabylonian/blob/master/docs//transcription.md\" title=\"/Users/dirk/github/Nino-cunei/oldbabylonian/tf/1.0.1/primecol.tf\">primecol</a>  <a target=\"_blank\" href=\"https://github.com/Nino-cunei/oldbabylonian/blob/master/docs//transcription.md\" title=\"/Users/dirk/github/Nino-cunei/oldbabylonian/tf/1.0.1/primeln.tf\">primeln</a>  <a target=\"_blank\" href=\"https://github.com/Nino-cunei/oldbabylonian/blob/master/docs//transcription.md\" title=\"/Users/dirk/github/Nino-cunei/oldbabylonian/tf/1.0.1/question.tf\">question</a>  <a target=\"_blank\" href=\"https://github.com/Nino-cunei/oldbabylonian/blob/master/docs//transcription.md\" title=\"/Users/dirk/github/Nino-cunei/oldbabylonian/tf/1.0.1/reading.tf\">reading</a>  <a target=\"_blank\" href=\"https://github.com/Nino-cunei/oldbabylonian/blob/master/docs//transcription.md\" title=\"/Users/dirk/github/Nino-cunei/oldbabylonian/tf/1.0.1/readingr.tf\">readingr</a>  <a target=\"_blank\" href=\"https://github.com/Nino-cunei/oldbabylonian/blob/master/docs//transcription.md\" title=\"/Users/dirk/github/Nino-cunei/oldbabylonian/tf/1.0.1/readingu.tf\">readingu</a>  <a target=\"_blank\" href=\"https://github.com/Nino-cunei/oldbabylonian/blob/master/docs//transcription.md\" title=\"/Users/dirk/github/Nino-cunei/oldbabylonian/tf/1.0.1/remarkable.tf\">remarkable</a>  <a target=\"_blank\" href=\"https://github.com/Nino-cunei/oldbabylonian/blob/master/docs//transcription.md\" title=\"/Users/dirk/github/Nino-cunei/oldbabylonian/tf/1.0.1/remarks.tf\">remarks</a>  <a target=\"_blank\" href=\"https://github.com/Nino-cunei/oldbabylonian/blob/master/docs//transcription.md\" title=\"/Users/dirk/github/Nino-cunei/oldbabylonian/tf/1.0.1/repeat.tf\">repeat</a>  <a target=\"_blank\" href=\"https://github.com/Nino-cunei/oldbabylonian/blob/master/docs//transcription.md\" title=\"/Users/dirk/github/Nino-cunei/oldbabylonian/tf/1.0.1/srcLn.tf\">srcLn</a>  <a target=\"_blank\" href=\"https://github.com/Nino-cunei/oldbabylonian/blob/master/docs//transcription.md\" title=\"/Users/dirk/github/Nino-cunei/oldbabylonian/tf/1.0.1/srcLnNum.tf\">srcLnNum</a>  <a target=\"_blank\" href=\"https://github.com/Nino-cunei/oldbabylonian/blob/master/docs//transcription.md\" title=\"/Users/dirk/github/Nino-cunei/oldbabylonian/tf/1.0.1/srcfile.tf\">srcfile</a>  <a target=\"_blank\" href=\"https://github.com/Nino-cunei/oldbabylonian/blob/master/docs//transcription.md\" title=\"/Users/dirk/github/Nino-cunei/oldbabylonian/tf/1.0.1/supplied.tf\">supplied</a>  <a target=\"_blank\" href=\"https://github.com/Nino-cunei/oldbabylonian/blob/master/docs//transcription.md\" title=\"/Users/dirk/github/Nino-cunei/oldbabylonian/tf/1.0.1/sym.tf\">sym</a>  <a target=\"_blank\" href=\"https://github.com/Nino-cunei/oldbabylonian/blob/master/docs//transcription.md\" title=\"/Users/dirk/github/Nino-cunei/oldbabylonian/tf/1.0.1/symr.tf\">symr</a>  <a target=\"_blank\" href=\"https://github.com/Nino-cunei/oldbabylonian/blob/master/docs//transcription.md\" title=\"/Users/dirk/github/Nino-cunei/oldbabylonian/tf/1.0.1/symu.tf\">symu</a>  <a target=\"_blank\" href=\"https://github.com/Nino-cunei/oldbabylonian/blob/master/docs//transcription.md\" title=\"/Users/dirk/github/Nino-cunei/oldbabylonian/tf/1.0.1/trans.tf\">trans</a>  <a target=\"_blank\" href=\"https://github.com/Nino-cunei/oldbabylonian/blob/master/docs//transcription.md\" title=\"/Users/dirk/github/Nino-cunei/oldbabylonian/tf/1.0.1/translation@en.tf\">translation@ll</a>  <a target=\"_blank\" href=\"https://github.com/Nino-cunei/oldbabylonian/blob/master/docs//transcription.md\" title=\"/Users/dirk/github/Nino-cunei/oldbabylonian/tf/1.0.1/type.tf\">type</a>  <a target=\"_blank\" href=\"https://github.com/Nino-cunei/oldbabylonian/blob/master/docs//transcription.md\" title=\"/Users/dirk/github/Nino-cunei/oldbabylonian/tf/1.0.1/uncertain.tf\">uncertain</a>  <a target=\"_blank\" href=\"https://github.com/Nino-cunei/oldbabylonian/blob/master/docs//transcription.md\" title=\"/Users/dirk/github/Nino-cunei/oldbabylonian/tf/1.0.1/volume.tf\">volume</a>  <b><i><a target=\"_blank\" href=\"https://github.com/Nino-cunei/oldbabylonian/blob/master/docs//transcription.md\" title=\"/Users/dirk/github/Nino-cunei/oldbabylonian/tf/1.0.1/oslots.tf\">oslots</a></i></b> </p></details>"
      ],
      "text/plain": [
       "<IPython.core.display.HTML object>"
      ]
     },
     "metadata": {},
     "output_type": "display_data"
    },
    {
     "data": {
      "text/html": [
       "<style>\n",
       "@font-face {\n",
       "  font-family: \"Santakku\";\n",
       "  src:\n",
       "    local(\"Santakku.ttf\"),\n",
       "    url(\"https://github.com/annotation/text-fabric/blob/master/tf/server/static/fonts/Santakku.woff?raw=true\");\n",
       "}\n",
       ".txtn,.txtn a:visited,.txtn a:link {\n",
       "    font-family: sans-serif;\n",
       "    font-size: normal;\n",
       "    text-decoration: none;\n",
       "}\n",
       ".txtp,.txtp a:visited,.txtp a:link {\n",
       "    font-family: monospace;\n",
       "    font-size: normal;\n",
       "    text-decoration: none;\n",
       "}\n",
       ".txtr,.txtr a:visited,.txtr a:link {\n",
       "    font-family: serif;\n",
       "    font-size: large;\n",
       "    text-decoration: none;\n",
       "}\n",
       ".txtu,.txtu a:visited,.txtu a:link {\n",
       "    font-family: Santakku;\n",
       "    font-size: x-large;\n",
       "    text-decoration: none;\n",
       "}\n",
       ".features {\n",
       "    font-family: monospace;\n",
       "    font-size: medium;\n",
       "    font-weight: bold;\n",
       "    color: #0a6611;\n",
       "    display: flex;\n",
       "    flex-flow: column nowrap;\n",
       "    padding: 0.1em;\n",
       "    margin: 0.1em;\n",
       "    direction: ltr;\n",
       "}\n",
       ".features div,.features span {\n",
       "    padding: 0;\n",
       "    margin: -0.1rem 0;\n",
       "}\n",
       ".features .f {\n",
       "    font-family: sans-serif;\n",
       "    font-size: x-small;\n",
       "    font-weight: normal;\n",
       "    color: #5555bb;\n",
       "}\n",
       ".features .xft {\n",
       "  color: #000000;\n",
       "  background-color: #eeeeee;\n",
       "  font-size: medium;\n",
       "  margin: 0.1em 0em;\n",
       "}\n",
       ".features .xft .f {\n",
       "  color: #000000;\n",
       "  background-color: #eeeeee;\n",
       "  font-style: italic;\n",
       "  font-size: small;\n",
       "  font-weight: normal;\n",
       "}\n",
       ".pnum {\n",
       "    font-family: sans-serif;\n",
       "    font-size: small;\n",
       "    font-weight: bold;\n",
       "    color: #444444;\n",
       "}\n",
       ".nd {\n",
       "    font-family: monospace;\n",
       "    font-size: x-small;\n",
       "    color: #999999;\n",
       "}\n",
       ".meta {\n",
       "    display: flex;\n",
       "    justify-content: flex-start;\n",
       "    align-items: flex-start;\n",
       "    align-content: flex-start;\n",
       "    flex-flow: row nowrap;\n",
       "}\n",
       ".features,.comments {\n",
       "    display: flex;\n",
       "    justify-content: flex-start;\n",
       "    align-items: flex-start;\n",
       "    align-content: flex-start;\n",
       "    flex-flow: column nowrap;\n",
       "}\n",
       ".children {\n",
       "    display: flex;\n",
       "    justify-content: flex-start;\n",
       "    align-items: flex-start;\n",
       "    align-content: flex-start;\n",
       "    border: 0;\n",
       "    background-color: #ffffff;\n",
       "}\n",
       ".children.document {\n",
       "    flex-flow: column nowrap;\n",
       "}\n",
       ".children.face {\n",
       "    flex-flow: column nowrap;\n",
       "}\n",
       ".children.line {\n",
       "    align-items: stretch;\n",
       "    flex-flow: row nowrap;\n",
       "}\n",
       ".children.cluster {\n",
       "    flex-flow: row wrap;\n",
       "}\n",
       ".children.line {\n",
       "    align-items: stretch;\n",
       "    flex-flow: row nowrap;\n",
       "}\n",
       ".children.sign {\n",
       "    flex-flow: column nowrap;\n",
       "}\n",
       ".contnr {\n",
       "    width: fit-content;\n",
       "}\n",
       ".contnr.document,.contnr.face,\n",
       ".contnr.line,\n",
       ".contnr.cluster,\n",
       ".contnr.word,\n",
       ".contnr.sign {\n",
       "    display: flex;\n",
       "    justify-content: flex-start;\n",
       "    align-items: flex-start;\n",
       "    align-content: flex-start;\n",
       "    flex-flow: column nowrap;\n",
       "    background: #ffffff none repeat scroll 0 0;\n",
       "    padding:  0.5em 0.1em 0.1em 0.1em;\n",
       "    margin: 0.8em 0.1em 0.1em 0.1em;\n",
       "    border-radius: 0.2em;\n",
       "    border-style: solid;\n",
       "    border-width: 0.2em;\n",
       "    font-size: small;\n",
       "}\n",
       ".contnr.document,.contnr.face {\n",
       "    border-color: #bb8800;\n",
       "}\n",
       ".contnr.line {\n",
       "    border-color: #0088bb;\n",
       "}\n",
       ".contnr.cluster {\n",
       "    flex-flow: row wrap;\n",
       "    border: 0;\n",
       "}\n",
       ".contnr.word {\n",
       "    border-color: #44bbff;\n",
       "}\n",
       ".contnr.sign {\n",
       "    border-color: #bbbbbb;\n",
       "}\n",
       ".contnr.hl {\n",
       "    background-color: #ffee66;\n",
       "}\n",
       ".lbl.document,.lbl.face,\n",
       ".lbl.line,\n",
       ".lbl.cluster,\n",
       ".lbl.sign,.lbl.word {\n",
       "    margin-top: -1.2em;\n",
       "    margin-left: 1em;\n",
       "    background: #ffffff none repeat scroll 0 0;\n",
       "    padding: 0 0.3em;\n",
       "    border-style: solid;\n",
       "    font-size: small;\n",
       "    display: block;\n",
       "}\n",
       ".lbl.document,.lbl.face {\n",
       "    border-color: #bb8800;\n",
       "    border-width: 0.3em;\n",
       "    border-radius: 0.3em;\n",
       "    color: #bb8800;\n",
       "}\n",
       ".lbl.line {\n",
       "    border-color: #0088bb;\n",
       "    border-width: 0.3em;\n",
       "    border-radius: 0.3em;\n",
       "    color: #0088bb;\n",
       "}\n",
       ".lbl.cluster {\n",
       "    border-color: #dddddd;\n",
       "    border-width: 0.2em;\n",
       "    border-radius: 0.2em;\n",
       "    color: #0000cc;\n",
       "}\n",
       ".lbl.word {\n",
       "    border-color: #44bbff;\n",
       "    border-width: 0.2em;\n",
       "    border-radius: 0.2em;\n",
       "    font-size: medium;\n",
       "    color: #000000;\n",
       "}\n",
       ".lbl.sign {\n",
       "    border-color: #bbbbbb;\n",
       "    border-width: 0.1em;\n",
       "    border-radius: 0.1em;\n",
       "    font-size: small;\n",
       "    color: #000000;\n",
       "}\n",
       ".op {\n",
       "    padding:  0.5em 0.1em 0.1em 0.1em;\n",
       "    margin: 0.8em 0.1em 0.1em 0.1em;\n",
       "    font-family: monospace;\n",
       "    font-size: x-large;\n",
       "    font-weight: bold;\n",
       "}\n",
       ".name {\n",
       "    font-family: monospace;\n",
       "    font-size: medium;\n",
       "    color: #0000bb;\n",
       "}\n",
       ".period {\n",
       "    font-family: monospace;\n",
       "    font-size: medium;\n",
       "    font-weight: bold;\n",
       "    color: #0000bb;\n",
       "}\n",
       ".text {\n",
       "    font-family: sans-serif;\n",
       "    font-size: x-small;\n",
       "    color: #000000;\n",
       "}\n",
       ".srcln {\n",
       "    font-family: monospace;\n",
       "    font-size: medium;\n",
       "    color: #000000;\n",
       "}\n",
       ".srclnnum {\n",
       "    font-family: monospace;\n",
       "    font-size: x-small;\n",
       "    color: #0000bb;\n",
       "}\n",
       ".comment {\n",
       "    color: #7777dd;\n",
       "    font-family: monospace;\n",
       "    font-size: small;\n",
       "}\n",
       ".operator {\n",
       "    color: #ff77ff;\n",
       "    font-size: large;\n",
       "}\n",
       "/* LANGUAGE: superscript and subscript */\n",
       "\n",
       "/* cluster */\n",
       ".det {\n",
       "    vertical-align: super;\n",
       "}\n",
       "/* cluster */\n",
       ".langalt {\n",
       "    vertical-align: sub;\n",
       "}\n",
       "/* REDACTIONAL: line over or under  */\n",
       "\n",
       "/* flag */\n",
       ".collated {\n",
       "    font-weight: bold;\n",
       "    text-decoration: underline;\n",
       "}\n",
       "/* cluster */\n",
       ".excised {\n",
       "    color: #dd0000;\n",
       "    text-decoration: line-through;\n",
       "}\n",
       "/* cluster */\n",
       ".supplied {\n",
       "    color: #0000ff;\n",
       "    text-decoration: overline;\n",
       "}\n",
       "/* flag */\n",
       ".remarkable {\n",
       "    font-weight: bold;\n",
       "    text-decoration: overline;\n",
       "}\n",
       "\n",
       "/* UNSURE: italic*/\n",
       "\n",
       "/* cluster */\n",
       ".uncertain {\n",
       "    font-style: italic\n",
       "}\n",
       "/* flag */\n",
       ".question {\n",
       "    font-weight: bold;\n",
       "    font-style: italic\n",
       "}\n",
       "\n",
       "/* BROKEN: text-shadow */\n",
       "\n",
       "/* cluster */\n",
       ".missing {\n",
       "    color: #999999;\n",
       "    text-shadow: #bbbbbb 1px 1px;\n",
       "}\n",
       "/* flag */\n",
       ".damage {\n",
       "    font-weight: bold;\n",
       "    color: #999999;\n",
       "    text-shadow: #bbbbbb 1px 1px;\n",
       "}\n",
       ".empty {\n",
       "  color: #ff0000;\n",
       "}\n",
       "\n",
       "\n",
       "tr.tf, td.tf, th.tf {\n",
       "  text-align: left;\n",
       "}\n",
       "\n",
       "span.hldot {\n",
       "\tbackground-color: var(--hl-strong);\n",
       "\tborder: 0.2rem solid var(--hl-rim);\n",
       "\tborder-radius: 0.4rem;\n",
       "\t/*\n",
       "\tdisplay: inline-block;\n",
       "\twidth: 0.8rem;\n",
       "\theight: 0.8rem;\n",
       "\t*/\n",
       "}\n",
       "span.hl {\n",
       "\tbackground-color: var(--hl-strong);\n",
       "\tborder-width: 0;\n",
       "\tborder-radius: 0.1rem;\n",
       "\tborder-style: solid;\n",
       "}\n",
       "\n",
       "span.hlup {\n",
       "\tborder-color: var(--hl-dark);\n",
       "\tborder-width: 0.1rem;\n",
       "\tborder-style: solid;\n",
       "\tborder-radius: 0.2rem;\n",
       "  padding: 0.2rem;\n",
       "}\n",
       "\n",
       ":root {\n",
       "\t--hl-strong:        hsla( 60, 100%,  70%, 0.9  );\n",
       "\t--hl-rim:           hsla( 55, 100%,  60%, 0.9  );\n",
       "\t--hl-dark:          hsla( 55, 100%,  40%, 0.9  );\n",
       "}\n",
       "</style>"
      ],
      "text/plain": [
       "<IPython.core.display.HTML object>"
      ]
     },
     "metadata": {},
     "output_type": "display_data"
    },
    {
     "data": {
      "text/html": [
       "<details open><summary><b>API members</b>:</summary>\n",
       "<a target=\"_blank\" href=\"https://annotation.github.io/text-fabric/Api/Computed/#computed-data\" title=\"doc\">C Computed</a>, <a target=\"_blank\" href=\"https://annotation.github.io/text-fabric/Api/Computed/#computed-data\" title=\"doc\">Call AllComputeds</a>, <a target=\"_blank\" href=\"https://annotation.github.io/text-fabric/Api/Computed/#computed-data\" title=\"doc\">Cs ComputedString</a><br/>\n",
       "<a target=\"_blank\" href=\"https://annotation.github.io/text-fabric/Api/Features/#edge-features\" title=\"doc\">E Edge</a>, <a target=\"_blank\" href=\"https://annotation.github.io/text-fabric/Api/Features/#edge-features\" title=\"doc\">Eall AllEdges</a>, <a target=\"_blank\" href=\"https://annotation.github.io/text-fabric/Api/Features/#edge-features\" title=\"doc\">Es EdgeString</a><br/>\n",
       "<a target=\"_blank\" href=\"https://annotation.github.io/text-fabric/Api/Fabric/#loading\" title=\"doc\">ensureLoaded</a>, <a target=\"_blank\" href=\"https://annotation.github.io/text-fabric/Api/Fabric/#loading\" title=\"doc\">TF</a>, <a target=\"_blank\" href=\"https://annotation.github.io/text-fabric/Api/Fabric/#loading\" title=\"doc\">ignored</a>, <a target=\"_blank\" href=\"https://annotation.github.io/text-fabric/Api/Fabric/#loading\" title=\"doc\">loadLog</a><br/>\n",
       "<a target=\"_blank\" href=\"https://annotation.github.io/text-fabric/Api/Locality/#locality\" title=\"doc\">L Locality</a><br/>\n",
       "<a target=\"_blank\" href=\"https://annotation.github.io/text-fabric/Api/Misc/#messaging\" title=\"doc\">cache</a>, <a target=\"_blank\" href=\"https://annotation.github.io/text-fabric/Api/Misc/#messaging\" title=\"doc\">error</a>, <a target=\"_blank\" href=\"https://annotation.github.io/text-fabric/Api/Misc/#messaging\" title=\"doc\">indent</a>, <a target=\"_blank\" href=\"https://annotation.github.io/text-fabric/Api/Misc/#messaging\" title=\"doc\">info</a>, <a target=\"_blank\" href=\"https://annotation.github.io/text-fabric/Api/Misc/#messaging\" title=\"doc\">reset</a><br/>\n",
       "<a target=\"_blank\" href=\"https://annotation.github.io/text-fabric/Api/Nodes/#navigating-nodes\" title=\"doc\">N Nodes</a>, <a target=\"_blank\" href=\"https://annotation.github.io/text-fabric/Api/Nodes/#navigating-nodes\" title=\"doc\">sortKey</a>, <a target=\"_blank\" href=\"https://annotation.github.io/text-fabric/Api/Nodes/#navigating-nodes\" title=\"doc\">sortKeyTuple</a>, <a target=\"_blank\" href=\"https://annotation.github.io/text-fabric/Api/Nodes/#navigating-nodes\" title=\"doc\">otypeRank</a>, <a target=\"_blank\" href=\"https://annotation.github.io/text-fabric/Api/Nodes/#navigating-nodes\" title=\"doc\">sortNodes</a><br/>\n",
       "<a target=\"_blank\" href=\"https://annotation.github.io/text-fabric/Api/Features/#node-features\" title=\"doc\">F Feature</a>, <a target=\"_blank\" href=\"https://annotation.github.io/text-fabric/Api/Features/#node-features\" title=\"doc\">Fall AllFeatures</a>, <a target=\"_blank\" href=\"https://annotation.github.io/text-fabric/Api/Features/#node-features\" title=\"doc\">Fs FeatureString</a><br/>\n",
       "<a target=\"_blank\" href=\"https://annotation.github.io/text-fabric/Api/Search/#search\" title=\"doc\">S Search</a><br/>\n",
       "<a target=\"_blank\" href=\"https://annotation.github.io/text-fabric/Api/Text/#text\" title=\"doc\">T Text</a></details>"
      ],
      "text/plain": [
       "<IPython.core.display.HTML object>"
      ]
     },
     "metadata": {},
     "output_type": "display_data"
    }
   ],
   "source": [
    "from tf.app import use\n",
    "\n",
    "A = use('oldbabylonian', hoist=globals(), lgc=True)"
   ]
  },
  {
   "cell_type": "markdown",
   "metadata": {},
   "source": [
    "# Study problematic tokens\n",
    "\n",
    "Some readings/graphemes cannot be resolved through our mapping and there is no obvious candidate in the Unicode list.\n",
    "\n",
    "We show those tokens here with their occurrences."
   ]
  },
  {
   "cell_type": "markdown",
   "metadata": {},
   "source": [
    "# `AH` `ah`"
   ]
  },
  {
   "cell_type": "code",
   "execution_count": 37,
   "metadata": {},
   "outputs": [
    {
     "name": "stdout",
     "output_type": "stream",
     "text": [
      "  0.20s 18 results\n"
     ]
    }
   ],
   "source": [
    "results = A.search('''\n",
    "line\n",
    "  sign grapheme=AH\n",
    "''')"
   ]
  },
  {
   "cell_type": "code",
   "execution_count": 38,
   "metadata": {},
   "outputs": [
    {
     "data": {
      "text/html": [
       "<table>\n",
       "<tr class=\"tf\">\n",
       "  <th class=\"tf\">n</th><th class=\"tf\">p</th>\n",
       "  <th class=\"tf\">line</th><th>sign</th>\n",
       "</tr>\n",
       "\n",
       "<tr class=\"tf\"><td class=\"tf\">1</td><td class=\"tf\"> <a href=\"https://cdli.ucla.edu/search/search_results.php?SearchMode=Text&amp;ObjectID=P510581\" title=\"show this document on CDLI\" sec=\"P510581 reverse:8\">P510581 reverse:8</a></td><td class=\"tf\"><span class=\"txtp\"><span  class=\"hl\" >AH-</span>ru-AZ-ma _4(disz) gin2 ku3-babbar_</span></td><td class=\"tf\"><span class=\"txtp\"><span  class=\"hl\" >AH-</span></span></td></tr>\n",
       "<tr class=\"tf\"><td class=\"tf\">2</td><td class=\"tf\"> <a href=\"https://cdli.ucla.edu/search/search_results.php?SearchMode=Text&amp;ObjectID=P510618\" title=\"show this document on CDLI\" sec=\"P510618 reverse:13\">P510618 reverse:13</a></td><td class=\"tf\"><span class=\"txtp\">_{tug2}bar-si-ig_ ta <span  class=\"hl\" >AH? </span>ti i ma</span></td><td class=\"tf\"><span class=\"txtp\"><span  class=\"hl\" >AH? </span></span></td></tr>\n",
       "<tr class=\"tf\"><td class=\"tf\">3</td><td class=\"tf\"> <a href=\"https://cdli.ucla.edu/search/search_results.php?SearchMode=Text&amp;ObjectID=P510859\" title=\"show this document on CDLI\" sec=\"P510859 obverse:11\">P510859 obverse:11</a></td><td class=\"tf\"><span class=\"txtp\">x <span  class=\"hl\" >AH </span>hu x [...]</span></td><td class=\"tf\"><span class=\"txtp\"><span  class=\"hl\" >AH </span></span></td></tr>\n",
       "<tr class=\"tf\"><td class=\"tf\">4</td><td class=\"tf\"> <a href=\"https://cdli.ucla.edu/search/search_results.php?SearchMode=Text&amp;ObjectID=P365092\" title=\"show this document on CDLI\" sec=\"P365092 reverse:15\">P365092 reverse:15</a></td><td class=\"tf\"><span class=\"txtp\">la# ta#-<span  class=\"hl\" >AH-</span>a-da-ar</span></td><td class=\"tf\"><span class=\"txtp\"><span  class=\"hl\" >AH-</span></span></td></tr>\n",
       "<tr class=\"tf\"><td class=\"tf\">5</td><td class=\"tf\"> <a href=\"https://cdli.ucla.edu/search/search_results.php?SearchMode=Text&amp;ObjectID=P345570\" title=\"show this document on CDLI\" sec=\"P345570 reverse:13\">P345570 reverse:13</a></td><td class=\"tf\"><span class=\"txtp\">[x-x]-la-<span  class=\"hl\" >AH?-</span>[x-x]-KI?</span></td><td class=\"tf\"><span class=\"txtp\"><span  class=\"hl\" >AH?-</span></span></td></tr>\n",
       "<tr class=\"tf\"><td class=\"tf\">6</td><td class=\"tf\"> <a href=\"https://cdli.ucla.edu/search/search_results.php?SearchMode=Text&amp;ObjectID=P275125\" title=\"show this document on CDLI\" sec=\"P275125 obverse:9\">P275125 obverse:9</a></td><td class=\"tf\"><span class=\"txtp\">[pa-ni _u8 udu hi]-a_ sza te-re-<span  class=\"hl\" >AH-</span>a</span></td><td class=\"tf\"><span class=\"txtp\"><span  class=\"hl\" >AH-</span></span></td></tr>\n",
       "<tr class=\"tf\"><td class=\"tf\">7</td><td class=\"tf\"> <a href=\"https://cdli.ucla.edu/search/search_results.php?SearchMode=Text&amp;ObjectID=P372421\" title=\"show this document on CDLI\" sec=\"P372421 reverse:1\">P372421 reverse:1</a></td><td class=\"tf\"><span class=\"txtp\">_ib2-tak4 ab2 gu4 hi-a_ ia-<span  class=\"hl\" >AH-</span>a-tum</span></td><td class=\"tf\"><span class=\"txtp\"><span  class=\"hl\" >AH-</span></span></td></tr>\n",
       "<tr class=\"tf\"><td class=\"tf\">8</td><td class=\"tf\"> <a href=\"https://cdli.ucla.edu/search/search_results.php?SearchMode=Text&amp;ObjectID=P372421\" title=\"show this document on CDLI\" sec=\"P372421 reverse:11\">P372421 reverse:11</a></td><td class=\"tf\"><span class=\"txtp\">a-di ma-ah-ri-ia i-la-<span  class=\"hl\" >AH-</span>a</span></td><td class=\"tf\"><span class=\"txtp\"><span  class=\"hl\" >AH-</span></span></td></tr>\n",
       "<tr class=\"tf\"><td class=\"tf\">9</td><td class=\"tf\"> <a href=\"https://cdli.ucla.edu/search/search_results.php?SearchMode=Text&amp;ObjectID=P372423\" title=\"show this document on CDLI\" sec=\"P372423 obverse:15\">P372423 obverse:15</a></td><td class=\"tf\"><span class=\"txtp\">a-na sze-e-ia ma-sza-<span  class=\"hl\" >AH-</span>im pa-nu-szu sza-ak-nu-ma</span></td><td class=\"tf\"><span class=\"txtp\"><span  class=\"hl\" >AH-</span></span></td></tr>\n",
       "<tr class=\"tf\"><td class=\"tf\">10</td><td class=\"tf\"> <a href=\"https://cdli.ucla.edu/search/search_results.php?SearchMode=Text&amp;ObjectID=P372423\" title=\"show this document on CDLI\" sec=\"P372423 obverse:18\">P372423 obverse:18</a></td><td class=\"tf\"><span class=\"txtp\">sze-e im-ta-sza!(RA)-<span  class=\"hl\" >AH</span></span></td><td class=\"tf\"><span class=\"txtp\"><span  class=\"hl\" >AH</span></span></td></tr></table>"
      ],
      "text/plain": [
       "<IPython.core.display.HTML object>"
      ]
     },
     "metadata": {},
     "output_type": "display_data"
    }
   ],
   "source": [
    "A.table(results, end=10, condensed=True)"
   ]
  },
  {
   "cell_type": "code",
   "execution_count": 39,
   "metadata": {},
   "outputs": [
    {
     "name": "stdout",
     "output_type": "stream",
     "text": [
      "  0.22s 555 results\n"
     ]
    }
   ],
   "source": [
    "results = A.search('''\n",
    "line\n",
    "  sign reading=ah\n",
    "''')"
   ]
  },
  {
   "cell_type": "code",
   "execution_count": 40,
   "metadata": {},
   "outputs": [
    {
     "data": {
      "text/html": [
       "<table>\n",
       "<tr class=\"tf\">\n",
       "  <th class=\"tf\">n</th><th class=\"tf\">p</th>\n",
       "  <th class=\"tf\">line</th><th>sign</th>\n",
       "</tr>\n",
       "\n",
       "<tr class=\"tf\"><td class=\"tf\">1</td><td class=\"tf\"> <a href=\"https://cdli.ucla.edu/search/search_results.php?SearchMode=Text&amp;ObjectID=P509373\" title=\"show this document on CDLI\" sec=\"P509373 obverse:8\">P509373 obverse:8</a></td><td class=\"tf\"><span class=\"txtp\">{disz}sa-am-su-ba-<span  class=\"hl\" >ah-</span>li sza-pi2-ir ma-[tim]</span></td><td class=\"tf\"><span class=\"txtp\"><span  class=\"hl\" >ah-</span></span></td></tr>\n",
       "<tr class=\"tf\"><td class=\"tf\">2</td><td class=\"tf\"> <a href=\"https://cdli.ucla.edu/search/search_results.php?SearchMode=Text&amp;ObjectID=P509373\" title=\"show this document on CDLI\" sec=\"P509373 reverse:8'\">P509373 reverse:8'</a></td><td class=\"tf\"><span class=\"txtp\">a-[na] sa-[am-su]-ba-<span  class=\"hl\" >ah-</span>[la] x x li ig bu</span></td><td class=\"tf\"><span class=\"txtp\"><span  class=\"hl\" >ah-</span></span></td></tr>\n",
       "<tr class=\"tf\"><td class=\"tf\">3</td><td class=\"tf\"> <a href=\"https://cdli.ucla.edu/search/search_results.php?SearchMode=Text&amp;ObjectID=P509373\" title=\"show this document on CDLI\" sec=\"P509373 reverse:14'\">P509373 reverse:14'</a></td><td class=\"tf\"><span class=\"txtp\">a-wa-tim sza ma-<span  class=\"hl\" >ah-</span>hi-rum u2-lam-ma-du-u2-ma</span></td><td class=\"tf\"><span class=\"txtp\"><span  class=\"hl\" >ah-</span></span></td></tr>\n",
       "<tr class=\"tf\"><td class=\"tf\">4</td><td class=\"tf\"> <a href=\"https://cdli.ucla.edu/search/search_results.php?SearchMode=Text&amp;ObjectID=P509376\" title=\"show this document on CDLI\" sec=\"P509376 obverse:3\">P509376 obverse:3</a></td><td class=\"tf\"><span class=\"txtp\">u2-na-<span  class=\"hl\" >ah-</span>hi-id-ka</span></td><td class=\"tf\"><span class=\"txtp\"><span  class=\"hl\" >ah-</span></span></td></tr>\n",
       "<tr class=\"tf\"><td class=\"tf\">5</td><td class=\"tf\"> <a href=\"https://cdli.ucla.edu/search/search_results.php?SearchMode=Text&amp;ObjectID=P509376\" title=\"show this document on CDLI\" sec=\"P509376 obverse:10\">P509376 obverse:10</a></td><td class=\"tf\"><span class=\"txtp\">a-na ma-<span  class=\"hl\" >ah-</span>ri-ka at,-t,ar-dam</span></td><td class=\"tf\"><span class=\"txtp\"><span  class=\"hl\" >ah-</span></span></td></tr>\n",
       "<tr class=\"tf\"><td class=\"tf\">6</td><td class=\"tf\"> <a href=\"https://cdli.ucla.edu/search/search_results.php?SearchMode=Text&amp;ObjectID=P509377\" title=\"show this document on CDLI\" sec=\"P509377 obverse:2\">P509377 obverse:2</a></td><td class=\"tf\"><span class=\"txtp\">ma-<span  class=\"hl\" >ah-</span>ri-ia ta-az-[...]</span></td><td class=\"tf\"><span class=\"txtp\"><span  class=\"hl\" >ah-</span></span></td></tr>\n",
       "<tr class=\"tf\"><td class=\"tf\">7</td><td class=\"tf\"> <a href=\"https://cdli.ucla.edu/search/search_results.php?SearchMode=Text&amp;ObjectID=P509377\" title=\"show this document on CDLI\" sec=\"P509377 obverse:6\">P509377 obverse:6</a></td><td class=\"tf\"><span class=\"txtp\">a-na 3(u) _gur duh-ud-du_ szu-bu-lim u2-na-<span  class=\"hl\" >ah-</span>i-id-ka</span></td><td class=\"tf\"><span class=\"txtp\"><span  class=\"hl\" >ah-</span></span></td></tr>\n",
       "<tr class=\"tf\"><td class=\"tf\">8</td><td class=\"tf\"> <a href=\"https://cdli.ucla.edu/search/search_results.php?SearchMode=Text&amp;ObjectID=P509377\" title=\"show this document on CDLI\" sec=\"P509377 reverse:8\">P509377 reverse:8</a></td><td class=\"tf\"><span class=\"txtp\">_{disz}{d}nanna-ibila-ma-an-sum_ a-na ma-<span  class=\"hl\" >ah-</span>ri-ka</span></td><td class=\"tf\"><span class=\"txtp\"><span  class=\"hl\" >ah-</span></span></td></tr>\n",
       "<tr class=\"tf\"><td class=\"tf\">9</td><td class=\"tf\"> <a href=\"https://cdli.ucla.edu/search/search_results.php?SearchMode=Text&amp;ObjectID=P481192\" title=\"show this document on CDLI\" sec=\"P481192 reverse:13'\">P481192 reverse:13'</a></td><td class=\"tf\"><span class=\"txtp\">[x (x)] x-ma a-na ma-<span  class=\"hl\" >ah-</span>ri#-ka# il-li-kam x x [(x) (x)]</span></td><td class=\"tf\"><span class=\"txtp\"><span  class=\"hl\" >ah-</span></span></td></tr>\n",
       "<tr class=\"tf\"><td class=\"tf\">10</td><td class=\"tf\"> <a href=\"https://cdli.ucla.edu/search/search_results.php?SearchMode=Text&amp;ObjectID=P510527\" title=\"show this document on CDLI\" sec=\"P510527 reverse:13\">P510527 reverse:13</a></td><td class=\"tf\"><span class=\"txtp\">{disz}{d}nin-urta-ni-szu a-na ma-<span  class=\"hl\" >ah-</span>ri-ka</span></td><td class=\"tf\"><span class=\"txtp\"><span  class=\"hl\" >ah-</span></span></td></tr></table>"
      ],
      "text/plain": [
       "<IPython.core.display.HTML object>"
      ]
     },
     "metadata": {},
     "output_type": "display_data"
    }
   ],
   "source": [
    "A.table(results, end=10, condensed=True)"
   ]
  },
  {
   "cell_type": "markdown",
   "metadata": {},
   "source": [
    "# `alamusz`"
   ]
  },
  {
   "cell_type": "code",
   "execution_count": 19,
   "metadata": {},
   "outputs": [
    {
     "name": "stdout",
     "output_type": "stream",
     "text": [
      "  0.22s 2 results\n"
     ]
    }
   ],
   "source": [
    "results = A.search('''\n",
    "line\n",
    "  sign reading=alamusz\n",
    "''')"
   ]
  },
  {
   "cell_type": "code",
   "execution_count": 20,
   "metadata": {},
   "outputs": [
    {
     "data": {
      "text/html": [
       "<table>\n",
       "<tr class=\"tf\">\n",
       "  <th class=\"tf\">n</th><th class=\"tf\">p</th>\n",
       "  <th class=\"tf\">line</th><th>sign</th>\n",
       "</tr>\n",
       "\n",
       "<tr class=\"tf\"><td class=\"tf\">1</td><td class=\"tf\"> <a href=\"https://cdli.ucla.edu/search/search_results.php?SearchMode=Text&amp;ObjectID=P372959\" title=\"show this document on CDLI\" sec=\"P372959 obverse:4\">P372959 obverse:4</a></td><td class=\"tf\"><span class=\"txtp\">ki-ma {disz}{d}<span  class=\"hl\" >alamusz-</span>i-din-nam x</span></td><td class=\"tf\"><span class=\"txtp\"><span  class=\"hl\" >alamusz-</span></span></td></tr>\n",
       "<tr class=\"tf\"><td class=\"tf\">2</td><td class=\"tf\"> <a href=\"https://cdli.ucla.edu/search/search_results.php?SearchMode=Text&amp;ObjectID=P372959\" title=\"show this document on CDLI\" sec=\"P372959 reverse:7\">P372959 reverse:7</a></td><td class=\"tf\"><span class=\"txtp\">{disz}{d}<span  class=\"hl\" >alamusz-</span>i-din#-[nam]</span></td><td class=\"tf\"><span class=\"txtp\"><span  class=\"hl\" >alamusz-</span></span></td></tr></table>"
      ],
      "text/plain": [
       "<IPython.core.display.HTML object>"
      ]
     },
     "metadata": {},
     "output_type": "display_data"
    }
   ],
   "source": [
    "A.table(results, condensed=True)"
   ]
  },
  {
   "cell_type": "markdown",
   "metadata": {},
   "source": [
    "# `babila2`"
   ]
  },
  {
   "cell_type": "code",
   "execution_count": 21,
   "metadata": {},
   "outputs": [
    {
     "name": "stdout",
     "output_type": "stream",
     "text": [
      "  0.21s 185 results\n"
     ]
    }
   ],
   "source": [
    "results = A.search('''\n",
    "line\n",
    "  sign reading=babila2\n",
    "''')"
   ]
  },
  {
   "cell_type": "code",
   "execution_count": 22,
   "metadata": {},
   "outputs": [
    {
     "data": {
      "text/html": [
       "<table>\n",
       "<tr class=\"tf\">\n",
       "  <th class=\"tf\">n</th><th class=\"tf\">p</th>\n",
       "  <th class=\"tf\">line</th><th>sign</th>\n",
       "</tr>\n",
       "\n",
       "<tr class=\"tf\"><td class=\"tf\">1</td><td class=\"tf\"> <a href=\"https://cdli.ucla.edu/search/search_results.php?SearchMode=Text&amp;ObjectID=P509376\" title=\"show this document on CDLI\" sec=\"P509376 obverse:7\">P509376 obverse:7</a></td><td class=\"tf\"><span class=\"txtp\">{disz}na-bi-{d}suen a-na <span  class=\"hl\" >babila2</span>{ki} i-li-a-am#-ma</span></td><td class=\"tf\"><span class=\"txtp\"><span  class=\"hl\" >babila2</span></span></td></tr>\n",
       "<tr class=\"tf\"><td class=\"tf\">2</td><td class=\"tf\"> <a href=\"https://cdli.ucla.edu/search/search_results.php?SearchMode=Text&amp;ObjectID=P509376\" title=\"show this document on CDLI\" sec=\"P509376 reverse:10\">P509376 reverse:10</a></td><td class=\"tf\"><span class=\"txtp\">it-ti na-bi-{d}suen a-na <span  class=\"hl\" >_babila2</span>{ki}_</span></td><td class=\"tf\"><span class=\"txtp\"><span  class=\"hl\" >_babila2</span></span></td></tr>\n",
       "<tr class=\"tf\"><td class=\"tf\">3</td><td class=\"tf\"> <a href=\"https://cdli.ucla.edu/search/search_results.php?SearchMode=Text&amp;ObjectID=P510529\" title=\"show this document on CDLI\" sec=\"P510529 obverse:13\">P510529 obverse:13</a></td><td class=\"tf\"><span class=\"txtp\">a-na <span  class=\"hl\" >babila2</span>{ki}</span></td><td class=\"tf\"><span class=\"txtp\"><span  class=\"hl\" >babila2</span></span></td></tr>\n",
       "<tr class=\"tf\"><td class=\"tf\">4</td><td class=\"tf\"> <a href=\"https://cdli.ucla.edu/search/search_results.php?SearchMode=Text&amp;ObjectID=P510530\" title=\"show this document on CDLI\" sec=\"P510530 reverse:20\">P510530 reverse:20</a></td><td class=\"tf\"><span class=\"txtp\">a-na <span  class=\"hl\" >babila2</span>{ki} i-il-la-kam</span></td><td class=\"tf\"><span class=\"txtp\"><span  class=\"hl\" >babila2</span></span></td></tr>\n",
       "<tr class=\"tf\"><td class=\"tf\">5</td><td class=\"tf\"> <a href=\"https://cdli.ucla.edu/search/search_results.php?SearchMode=Text&amp;ObjectID=P510532\" title=\"show this document on CDLI\" sec=\"P510532 reverse:1\">P510532 reverse:1</a></td><td class=\"tf\"><span class=\"txtp\">a-na <span  class=\"hl\" >babila2</span>{ki}</span></td><td class=\"tf\"><span class=\"txtp\"><span  class=\"hl\" >babila2</span></span></td></tr>\n",
       "<tr class=\"tf\"><td class=\"tf\">6</td><td class=\"tf\"> <a href=\"https://cdli.ucla.edu/search/search_results.php?SearchMode=Text&amp;ObjectID=P510532\" title=\"show this document on CDLI\" sec=\"P510532 reverse:9\">P510532 reverse:9</a></td><td class=\"tf\"><span class=\"txtp\">a-na <span  class=\"hl\" >babila2#</span>{ki} si-in-qa2-am</span></td><td class=\"tf\"><span class=\"txtp\"><span  class=\"hl\" >babila2#</span></span></td></tr>\n",
       "<tr class=\"tf\"><td class=\"tf\">7</td><td class=\"tf\"> <a href=\"https://cdli.ucla.edu/search/search_results.php?SearchMode=Text&amp;ObjectID=P510534\" title=\"show this document on CDLI\" sec=\"P510534 reverse:7'\">P510534 reverse:7'</a></td><td class=\"tf\"><span class=\"txtp\">1(disz) a-hu-szu sza i-na <span  class=\"hl\" >babila2#</span>[{ki}]</span></td><td class=\"tf\"><span class=\"txtp\"><span  class=\"hl\" >babila2#</span></span></td></tr>\n",
       "<tr class=\"tf\"><td class=\"tf\">8</td><td class=\"tf\"> <a href=\"https://cdli.ucla.edu/search/search_results.php?SearchMode=Text&amp;ObjectID=P510534\" title=\"show this document on CDLI\" sec=\"P510534 reverse:12'\">P510534 reverse:12'</a></td><td class=\"tf\"><span class=\"txtp\">a-na <span  class=\"hl\" >babila2#</span>{ki} a-na ma-har a-wi-lim a-[bi] _erin2_</span></td><td class=\"tf\"><span class=\"txtp\"><span  class=\"hl\" >babila2#</span></span></td></tr>\n",
       "<tr class=\"tf\"><td class=\"tf\">9</td><td class=\"tf\"> <a href=\"https://cdli.ucla.edu/search/search_results.php?SearchMode=Text&amp;ObjectID=P510540\" title=\"show this document on CDLI\" sec=\"P510540 obverse:7\">P510540 obverse:7</a></td><td class=\"tf\"><span class=\"txtp\">asz-szum sza a-na <span  class=\"hl\" >babila2#</span>{ki#}</span></td><td class=\"tf\"><span class=\"txtp\"><span  class=\"hl\" >babila2#</span></span></td></tr>\n",
       "<tr class=\"tf\"><td class=\"tf\">10</td><td class=\"tf\"> <a href=\"https://cdli.ucla.edu/search/search_results.php?SearchMode=Text&amp;ObjectID=P510545\" title=\"show this document on CDLI\" sec=\"P510545 reverse:5\">P510545 reverse:5</a></td><td class=\"tf\"><span class=\"txtp\">a-na <span  class=\"hl\" >babila2</span>{ki}</span></td><td class=\"tf\"><span class=\"txtp\"><span  class=\"hl\" >babila2</span></span></td></tr></table>"
      ],
      "text/plain": [
       "<IPython.core.display.HTML object>"
      ]
     },
     "metadata": {},
     "output_type": "display_data"
    }
   ],
   "source": [
    "A.table(results, end=10, condensed=True)"
   ]
  },
  {
   "cell_type": "markdown",
   "metadata": {},
   "source": [
    "# `barig` `1-5(barig)`"
   ]
  },
  {
   "cell_type": "code",
   "execution_count": 41,
   "metadata": {},
   "outputs": [
    {
     "name": "stdout",
     "output_type": "stream",
     "text": [
      "  0.21s 94 results\n"
     ]
    }
   ],
   "source": [
    "results = A.search('''\n",
    "line\n",
    "  sign reading=barig\n",
    "''')"
   ]
  },
  {
   "cell_type": "code",
   "execution_count": 24,
   "metadata": {},
   "outputs": [
    {
     "data": {
      "text/html": [
       "<table>\n",
       "<tr class=\"tf\">\n",
       "  <th class=\"tf\">n</th><th class=\"tf\">p</th>\n",
       "  <th class=\"tf\">line</th><th>sign</th>\n",
       "</tr>\n",
       "\n",
       "<tr class=\"tf\"><td class=\"tf\">1</td><td class=\"tf\"> <a href=\"https://cdli.ucla.edu/search/search_results.php?SearchMode=Text&amp;ObjectID=P510561\" title=\"show this document on CDLI\" sec=\"P510561 obverse:7\">P510561 obverse:7</a></td><td class=\"tf\"><span class=\"txtp\"><span  class=\"hl\" >1(barig) </span>sze-a-am i-di-isz-szum-ma</span></td><td class=\"tf\"><span class=\"txtp\"><span  class=\"hl\" >1(barig) </span></span></td></tr>\n",
       "<tr class=\"tf\"><td class=\"tf\">2</td><td class=\"tf\"> <a href=\"https://cdli.ucla.edu/search/search_results.php?SearchMode=Text&amp;ObjectID=P510570\" title=\"show this document on CDLI\" sec=\"P510570 obverse:6\">P510570 obverse:6</a></td><td class=\"tf\"><span class=\"txtp\"><span  class=\"hl\" >_4(barig) </span>5(ban2) gur kasz_ i-na# [x x (x)] x-ri-im [x (x)]</span></td><td class=\"tf\"><span class=\"txtp\"><span  class=\"hl\" >_4(barig) </span></span></td></tr>\n",
       "<tr class=\"tf\"><td class=\"tf\">3</td><td class=\"tf\"> <a href=\"https://cdli.ucla.edu/search/search_results.php?SearchMode=Text&amp;ObjectID=P510570\" title=\"show this document on CDLI\" sec=\"P510570 obverse:9\">P510570 obverse:9</a></td><td class=\"tf\"><span class=\"txtp\"><span  class=\"hl\" >_1(barig) </span>4(ban2) sze_ a-na x [x x (x)]</span></td><td class=\"tf\"><span class=\"txtp\"><span  class=\"hl\" >_1(barig) </span></span></td></tr>\n",
       "<tr class=\"tf\"><td class=\"tf\">4</td><td class=\"tf\"> <a href=\"https://cdli.ucla.edu/search/search_results.php?SearchMode=Text&amp;ObjectID=P510570\" title=\"show this document on CDLI\" sec=\"P510570 obverse:11\">P510570 obverse:11</a></td><td class=\"tf\"><span class=\"txtp\"><span  class=\"hl\" >_1(barig) </span>4(ban2) kasz_ a-na si-ia-[tum]</span></td><td class=\"tf\"><span class=\"txtp\"><span  class=\"hl\" >_1(barig) </span></span></td></tr>\n",
       "<tr class=\"tf\"><td class=\"tf\">5</td><td class=\"tf\"> <a href=\"https://cdli.ucla.edu/search/search_results.php?SearchMode=Text&amp;ObjectID=P510610\" title=\"show this document on CDLI\" sec=\"P510610 reverse:5\">P510610 reverse:5</a></td><td class=\"tf\"><span class=\"txtp\">i-na mu-uh-hi 4(asz) <span  class=\"hl\" >3(barig) </span>li-x [...]</span></td><td class=\"tf\"><span class=\"txtp\"><span  class=\"hl\" >3(barig) </span></span></td></tr>\n",
       "<tr class=\"tf\"><td class=\"tf\">6</td><td class=\"tf\"> <a href=\"https://cdli.ucla.edu/search/search_results.php?SearchMode=Text&amp;ObjectID=P510619\" title=\"show this document on CDLI\" sec=\"P510619 reverse:8\">P510619 reverse:8</a></td><td class=\"tf\"><span class=\"txtp\">u3 a-na _1(disz) sila3 i3-gesz <span  class=\"hl\" >2(barig) </span>sze_ u2-ul i-ba#-asz-szi</span></td><td class=\"tf\"><span class=\"txtp\"><span  class=\"hl\" >2(barig) </span></span></td></tr>\n",
       "<tr class=\"tf\"><td class=\"tf\">7</td><td class=\"tf\"> <a href=\"https://cdli.ucla.edu/search/search_results.php?SearchMode=Text&amp;ObjectID=P510621\" title=\"show this document on CDLI\" sec=\"P510621 obverse:2\">P510621 obverse:2</a></td><td class=\"tf\"><span class=\"txtp\">u3 4(asz) <span  class=\"hl\" >2(barig) </span>3(ban2) _sze gur_ la-bi-ir-tim#</span></td><td class=\"tf\"><span class=\"txtp\"><span  class=\"hl\" >2(barig) </span></span></td></tr>\n",
       "<tr class=\"tf\"><td class=\"tf\">8</td><td class=\"tf\"> <a href=\"https://cdli.ucla.edu/search/search_results.php?SearchMode=Text&amp;ObjectID=P510647\" title=\"show this document on CDLI\" sec=\"P510647 reverse:3\">P510647 reverse:3</a></td><td class=\"tf\"><span class=\"txtp\">ar-hi-isz <span  class=\"hl\" >_2(barig) </span>zi3-da_ szu-bi-lam</span></td><td class=\"tf\"><span class=\"txtp\"><span  class=\"hl\" >_2(barig) </span></span></td></tr>\n",
       "<tr class=\"tf\"><td class=\"tf\">9</td><td class=\"tf\"> <a href=\"https://cdli.ucla.edu/search/search_results.php?SearchMode=Text&amp;ObjectID=P510652\" title=\"show this document on CDLI\" sec=\"P510652 reverse:1\">P510652 reverse:1</a></td><td class=\"tf\"><span class=\"txtp\">_sze_-am szum-ma <span  class=\"hl\" >1(barig) </span>4(ban2) szum-ma <span  class=\"hl\" >2(barig) </span>3(ban2)</span></td><td class=\"tf\"><span class=\"txtp\"><span  class=\"hl\" >1(barig) </span></span></td><td class=\"tf\"><span class=\"txtp\"><span  class=\"hl\" >2(barig) </span></span></td></tr>\n",
       "<tr class=\"tf\"><td class=\"tf\">10</td><td class=\"tf\"> <a href=\"https://cdli.ucla.edu/search/search_results.php?SearchMode=Text&amp;ObjectID=P510652\" title=\"show this document on CDLI\" sec=\"P510652 reverse:6\">P510652 reverse:6</a></td><td class=\"tf\"><span class=\"txtp\">_sze_-am lu-u2 <span  class=\"hl\" >1(barig) </span>4(ban2) lu-u2 <span  class=\"hl\" >2(barig) </span>3(ban2)</span></td><td class=\"tf\"><span class=\"txtp\"><span  class=\"hl\" >1(barig) </span></span></td><td class=\"tf\"><span class=\"txtp\"><span  class=\"hl\" >2(barig) </span></span></td></tr></table>"
      ],
      "text/plain": [
       "<IPython.core.display.HTML object>"
      ]
     },
     "metadata": {},
     "output_type": "display_data"
    }
   ],
   "source": [
    "A.table(results, end=10, condensed=True)"
   ]
  },
  {
   "cell_type": "markdown",
   "metadata": {},
   "source": [
    "# `bub`"
   ]
  },
  {
   "cell_type": "code",
   "execution_count": 25,
   "metadata": {},
   "outputs": [
    {
     "name": "stdout",
     "output_type": "stream",
     "text": [
      "  0.21s 1 result\n"
     ]
    }
   ],
   "source": [
    "results = A.search('''\n",
    "line\n",
    "  sign reading=bub\n",
    "''')"
   ]
  },
  {
   "cell_type": "code",
   "execution_count": 26,
   "metadata": {},
   "outputs": [
    {
     "data": {
      "text/html": [
       "<table>\n",
       "<tr class=\"tf\">\n",
       "  <th class=\"tf\">n</th><th class=\"tf\">p</th>\n",
       "  <th class=\"tf\">line</th><th>sign</th>\n",
       "</tr>\n",
       "\n",
       "<tr class=\"tf\"><td class=\"tf\">1</td><td class=\"tf\"> <a href=\"https://cdli.ucla.edu/search/search_results.php?SearchMode=Text&amp;ObjectID=P296089\" title=\"show this document on CDLI\" sec=\"P296089 reverse:1\">P296089 reverse:1</a></td><td class=\"tf\"><span class=\"txtp\">it-ti _ir3_-{d}tasz-me-tum _dumu-e2-<span  class=\"hl\" >bub-</span>ba#-[a]_</span></td><td class=\"tf\"><span class=\"txtp\"><span  class=\"hl\" >bub-</span></span></td></tr></table>"
      ],
      "text/plain": [
       "<IPython.core.display.HTML object>"
      ]
     },
     "metadata": {},
     "output_type": "display_data"
    }
   ],
   "source": [
    "A.table(results, condensed=True)"
   ]
  },
  {
   "cell_type": "markdown",
   "metadata": {},
   "source": [
    "# `1-9(bur3)`"
   ]
  },
  {
   "cell_type": "code",
   "execution_count": 29,
   "metadata": {},
   "outputs": [
    {
     "name": "stdout",
     "output_type": "stream",
     "text": [
      "  0.21s 64 results\n"
     ]
    }
   ],
   "source": [
    "results = A.search('''\n",
    "line\n",
    "  sign reading=bur3\n",
    "''')"
   ]
  },
  {
   "cell_type": "code",
   "execution_count": 30,
   "metadata": {},
   "outputs": [
    {
     "data": {
      "text/html": [
       "<table>\n",
       "<tr class=\"tf\">\n",
       "  <th class=\"tf\">n</th><th class=\"tf\">p</th>\n",
       "  <th class=\"tf\">line</th><th>sign</th>\n",
       "</tr>\n",
       "\n",
       "<tr class=\"tf\"><td class=\"tf\">1</td><td class=\"tf\"> <a href=\"https://cdli.ucla.edu/search/search_results.php?SearchMode=Text&amp;ObjectID=P510541\" title=\"show this document on CDLI\" sec=\"P510541 obverse:4\">P510541 obverse:4</a></td><td class=\"tf\"><span class=\"txtp\">[asz]-szum# <span  class=\"hl\" >_1(bur3) </span>1(esze3) GAN2 a-sza3 gibil_ sza isz-ku-un-{d}suen{ki}</span></td><td class=\"tf\"><span class=\"txtp\"><span  class=\"hl\" >_1(bur3) </span></span></td></tr>\n",
       "<tr class=\"tf\"><td class=\"tf\">2</td><td class=\"tf\"> <a href=\"https://cdli.ucla.edu/search/search_results.php?SearchMode=Text&amp;ObjectID=P510541\" title=\"show this document on CDLI\" sec=\"P510541 obverse:9\">P510541 obverse:9</a></td><td class=\"tf\"><span class=\"txtp\"><span  class=\"hl\" >_1(bur3)# </span>1(esze3) GAN2 a-sza3_ sza _dumu-mesz#_ ni-id-na-at-{d}suen</span></td><td class=\"tf\"><span class=\"txtp\"><span  class=\"hl\" >_1(bur3)# </span></span></td></tr>\n",
       "<tr class=\"tf\"><td class=\"tf\">3</td><td class=\"tf\"> <a href=\"https://cdli.ucla.edu/search/search_results.php?SearchMode=Text&amp;ObjectID=P510541\" title=\"show this document on CDLI\" sec=\"P510541 obverse:13\">P510541 obverse:13</a></td><td class=\"tf\"><span class=\"txtp\">i-na qa2-be2-e-ka <span  class=\"hl\" >_1(bur3) </span>1(esze3) GAN2 a-sza3_ szu-a-ti</span></td><td class=\"tf\"><span class=\"txtp\"><span  class=\"hl\" >_1(bur3) </span></span></td></tr>\n",
       "<tr class=\"tf\"><td class=\"tf\">4</td><td class=\"tf\"> <a href=\"https://cdli.ucla.edu/search/search_results.php?SearchMode=Text&amp;ObjectID=P510541\" title=\"show this document on CDLI\" sec=\"P510541 reverse:3\">P510541 reverse:3</a></td><td class=\"tf\"><span class=\"txtp\"><span  class=\"hl\" >_1(bur3) </span>1(esze3) GAN2 a-sza3_ szu-u2 szi-ip-ra-am li-in-ne2-pu-usz</span></td><td class=\"tf\"><span class=\"txtp\"><span  class=\"hl\" >_1(bur3) </span></span></td></tr>\n",
       "<tr class=\"tf\"><td class=\"tf\">5</td><td class=\"tf\"> <a href=\"https://cdli.ucla.edu/search/search_results.php?SearchMode=Text&amp;ObjectID=P510621\" title=\"show this document on CDLI\" sec=\"P510621 obverse:1\">P510621 obverse:1</a></td><td class=\"tf\"><span class=\"txtp\">asz-szum _8(asz) sze gur gu2-un <span  class=\"hl\" >1(bur3) </span>GAN2 a-sza3_</span></td><td class=\"tf\"><span class=\"txtp\"><span  class=\"hl\" >1(bur3) </span></span></td></tr>\n",
       "<tr class=\"tf\"><td class=\"tf\">6</td><td class=\"tf\"> <a href=\"https://cdli.ucla.edu/search/search_results.php?SearchMode=Text&amp;ObjectID=P510726\" title=\"show this document on CDLI\" sec=\"P510726 obverse:5\">P510726 obverse:5</a></td><td class=\"tf\"><span class=\"txtp\"><span  class=\"hl\" >_4(bur3) </span>1(esze3) 3(iku) GAN2 a-sza3 szuku_ sza _bala-ri i7_ ir-ni-na it-ba#-lu</span></td><td class=\"tf\"><span class=\"txtp\"><span  class=\"hl\" >_4(bur3) </span></span></td></tr>\n",
       "<tr class=\"tf\"><td class=\"tf\">7</td><td class=\"tf\"> <a href=\"https://cdli.ucla.edu/search/search_results.php?SearchMode=Text&amp;ObjectID=P510726\" title=\"show this document on CDLI\" sec=\"P510726 obverse:6\">P510726 obverse:6</a></td><td class=\"tf\"><span class=\"txtp\">_1(bur'u) <span  class=\"hl\" >5(bur3) </span>GAN2 a-sza3_ i-na i3-si-in-na{ki} be-li2 it-ba-al#-ma</span></td><td class=\"tf\"><span class=\"txtp\"><span  class=\"hl\" >5(bur3) </span></span></td></tr>\n",
       "<tr class=\"tf\"><td class=\"tf\">8</td><td class=\"tf\"> <a href=\"https://cdli.ucla.edu/search/search_results.php?SearchMode=Text&amp;ObjectID=P510726\" title=\"show this document on CDLI\" sec=\"P510726 obverse:10\">P510726 obverse:10</a></td><td class=\"tf\"><span class=\"txtp\">sza <span  class=\"hl\" >_5(bur3) </span>GAN2 a-sza3_ i-ik-ka-lu it-ta-an-di-in</span></td><td class=\"tf\"><span class=\"txtp\"><span  class=\"hl\" >_5(bur3) </span></span></td></tr>\n",
       "<tr class=\"tf\"><td class=\"tf\">9</td><td class=\"tf\"> <a href=\"https://cdli.ucla.edu/search/search_results.php?SearchMode=Text&amp;ObjectID=P510726\" title=\"show this document on CDLI\" sec=\"P510726 reverse:15'\">P510726 reverse:15'</a></td><td class=\"tf\"><span class=\"txtp\">a-na <span  class=\"hl\" >_4(bur3) </span>1(esze3) 3(iku) &lt;GAN2> 4(u) sar a-sza3_ pe2-te-e-em sza be-li2 i-si-ha-an-ni</span></td><td class=\"tf\"><span class=\"txtp\"><span  class=\"hl\" >_4(bur3) </span></span></td></tr>\n",
       "<tr class=\"tf\"><td class=\"tf\">10</td><td class=\"tf\"> <a href=\"https://cdli.ucla.edu/search/search_results.php?SearchMode=Text&amp;ObjectID=P510733\" title=\"show this document on CDLI\" sec=\"P510733 reverse:7\">P510733 reverse:7</a></td><td class=\"tf\"><span class=\"txtp\"><span  class=\"hl\" >_5(bur3) </span>GAN2_-ma _a-sza3_ i-na _iri_ ur-sa6-ga{ki}</span></td><td class=\"tf\"><span class=\"txtp\"><span  class=\"hl\" >_5(bur3) </span></span></td></tr></table>"
      ],
      "text/plain": [
       "<IPython.core.display.HTML object>"
      ]
     },
     "metadata": {},
     "output_type": "display_data"
    }
   ],
   "source": [
    "A.table(results, end=10, condensed=True)"
   ]
  },
  {
   "cell_type": "markdown",
   "metadata": {},
   "source": [
    "# `dah`"
   ]
  },
  {
   "cell_type": "code",
   "execution_count": 42,
   "metadata": {},
   "outputs": [
    {
     "name": "stdout",
     "output_type": "stream",
     "text": [
      "  0.21s 12 results\n"
     ]
    }
   ],
   "source": [
    "results = A.search('''\n",
    "line\n",
    "  sign reading=dah\n",
    "''')"
   ]
  },
  {
   "cell_type": "code",
   "execution_count": 43,
   "metadata": {},
   "outputs": [
    {
     "data": {
      "text/html": [
       "<table>\n",
       "<tr class=\"tf\">\n",
       "  <th class=\"tf\">n</th><th class=\"tf\">p</th>\n",
       "  <th class=\"tf\">line</th><th>sign</th>\n",
       "</tr>\n",
       "\n",
       "<tr class=\"tf\"><td class=\"tf\">1</td><td class=\"tf\"> <a href=\"https://cdli.ucla.edu/search/search_results.php?SearchMode=Text&amp;ObjectID=P386437\" title=\"show this document on CDLI\" sec=\"P386437 obverse:13\">P386437 obverse:13</a></td><td class=\"tf\"><span class=\"txtp\"><span  class=\"hl\" >_dah_ </span>si2-ia-tum _szesz-ni_</span></td><td class=\"tf\"><span class=\"txtp\"><span  class=\"hl\" >_dah_ </span></span></td></tr>\n",
       "<tr class=\"tf\"><td class=\"tf\">2</td><td class=\"tf\"> <a href=\"https://cdli.ucla.edu/search/search_results.php?SearchMode=Text&amp;ObjectID=P386437\" title=\"show this document on CDLI\" sec=\"P386437 obverse:17\">P386437 obverse:17</a></td><td class=\"tf\"><span class=\"txtp\"><span  class=\"hl\" >[_dah_ </span>x x x x]-NI _sza3 sipa ab2 hi-a_</span></td><td class=\"tf\"><span class=\"txtp\"><span  class=\"hl\" >[_dah_ </span></span></td></tr>\n",
       "<tr class=\"tf\"><td class=\"tf\">3</td><td class=\"tf\"> <a href=\"https://cdli.ucla.edu/search/search_results.php?SearchMode=Text&amp;ObjectID=P386437\" title=\"show this document on CDLI\" sec=\"P386437 reverse:2\">P386437 reverse:2</a></td><td class=\"tf\"><span class=\"txtp\"><span  class=\"hl\" >[_dah_ </span>x-x]-rum _szesz-ni_ isz-ku-un-{d}utu{ki}</span></td><td class=\"tf\"><span class=\"txtp\"><span  class=\"hl\" >[_dah_ </span></span></td></tr>\n",
       "<tr class=\"tf\"><td class=\"tf\">4</td><td class=\"tf\"> <a href=\"https://cdli.ucla.edu/search/search_results.php?SearchMode=Text&amp;ObjectID=P386437\" title=\"show this document on CDLI\" sec=\"P386437 reverse:4\">P386437 reverse:4</a></td><td class=\"tf\"><span class=\"txtp\"><span  class=\"hl\" >[_dah_ </span>x]-x-ma-gir _szesz-ni_</span></td><td class=\"tf\"><span class=\"txtp\"><span  class=\"hl\" >[_dah_ </span></span></td></tr>\n",
       "<tr class=\"tf\"><td class=\"tf\">5</td><td class=\"tf\"> <a href=\"https://cdli.ucla.edu/search/search_results.php?SearchMode=Text&amp;ObjectID=P386437\" title=\"show this document on CDLI\" sec=\"P386437 reverse:6\">P386437 reverse:6</a></td><td class=\"tf\"><span class=\"txtp\"><span  class=\"hl\" >_dah#_ </span>dingir-szu-na-s,i-ir _szesz-ni_</span></td><td class=\"tf\"><span class=\"txtp\"><span  class=\"hl\" >_dah#_ </span></span></td></tr>\n",
       "<tr class=\"tf\"><td class=\"tf\">6</td><td class=\"tf\"> <a href=\"https://cdli.ucla.edu/search/search_results.php?SearchMode=Text&amp;ObjectID=P386437\" title=\"show this document on CDLI\" sec=\"P386437 reverse:9\">P386437 reverse:9</a></td><td class=\"tf\"><span class=\"txtp\"><span  class=\"hl\" >[_dah_ </span>x-x]-x-er3-ra _szesz-ni_ {iri}a-ha-[nu-ta]{ki}</span></td><td class=\"tf\"><span class=\"txtp\"><span  class=\"hl\" >[_dah_ </span></span></td></tr>\n",
       "<tr class=\"tf\"><td class=\"tf\">7</td><td class=\"tf\"> <a href=\"https://cdli.ucla.edu/search/search_results.php?SearchMode=Text&amp;ObjectID=P386437\" title=\"show this document on CDLI\" sec=\"P386437 reverse:12\">P386437 reverse:12</a></td><td class=\"tf\"><span class=\"txtp\"><span  class=\"hl\" >_dah#_ </span>esz18-dar-dingir _szesz-ni_ ka-ri#-[su{ki}]</span></td><td class=\"tf\"><span class=\"txtp\"><span  class=\"hl\" >_dah#_ </span></span></td></tr>\n",
       "<tr class=\"tf\"><td class=\"tf\">8</td><td class=\"tf\"> <a href=\"https://cdli.ucla.edu/search/search_results.php?SearchMode=Text&amp;ObjectID=P386008\" title=\"show this document on CDLI\" sec=\"P386008 obverse:10\">P386008 obverse:10</a></td><td class=\"tf\"><span class=\"txtp\">{disz}lu2-{d}nin-szubur-ka <span  class=\"hl\" >_dah_-</span>szu</span></td><td class=\"tf\"><span class=\"txtp\"><span  class=\"hl\" >_dah_-</span></span></td></tr>\n",
       "<tr class=\"tf\"><td class=\"tf\">9</td><td class=\"tf\"> <a href=\"https://cdli.ucla.edu/search/search_results.php?SearchMode=Text&amp;ObjectID=P386008\" title=\"show this document on CDLI\" sec=\"P386008 reverse:1\">P386008 reverse:1</a></td><td class=\"tf\"><span class=\"txtp\">{disz}lu2-{d}nin-szubur-[ka <span  class=\"hl\" >_dah_-</span>szu]</span></td><td class=\"tf\"><span class=\"txtp\"><span  class=\"hl\" >_dah_-</span></span></td></tr>\n",
       "<tr class=\"tf\"><td class=\"tf\">10</td><td class=\"tf\"> <a href=\"https://cdli.ucla.edu/search/search_results.php?SearchMode=Text&amp;ObjectID=P372864\" title=\"show this document on CDLI\" sec=\"P372864 reverse:3\">P372864 reverse:3</a></td><td class=\"tf\"><span class=\"txtp\">um-ma {d}nanna-in-<span  class=\"hl\" >dah-</span>ma</span></td><td class=\"tf\"><span class=\"txtp\"><span  class=\"hl\" >dah-</span></span></td></tr></table>"
      ],
      "text/plain": [
       "<IPython.core.display.HTML object>"
      ]
     },
     "metadata": {},
     "output_type": "display_data"
    }
   ],
   "source": [
    "A.table(results, end=10, condensed=True)"
   ]
  },
  {
   "cell_type": "markdown",
   "metadata": {},
   "source": [
    "# `1/2(disz)`"
   ]
  },
  {
   "cell_type": "code",
   "execution_count": 46,
   "metadata": {},
   "outputs": [
    {
     "name": "stdout",
     "output_type": "stream",
     "text": [
      "  0.20s 72 results\n"
     ]
    }
   ],
   "source": [
    "results = A.search('''\n",
    "line\n",
    "  sign reading=disz fraction=1/2\n",
    "''')"
   ]
  },
  {
   "cell_type": "code",
   "execution_count": 47,
   "metadata": {},
   "outputs": [
    {
     "data": {
      "text/html": [
       "<table>\n",
       "<tr class=\"tf\">\n",
       "  <th class=\"tf\">n</th><th class=\"tf\">p</th>\n",
       "  <th class=\"tf\">line</th><th>sign</th>\n",
       "</tr>\n",
       "\n",
       "<tr class=\"tf\"><td class=\"tf\">1</td><td class=\"tf\"> <a href=\"https://cdli.ucla.edu/search/search_results.php?SearchMode=Text&amp;ObjectID=P510573\" title=\"show this document on CDLI\" sec=\"P510573 obverse:6\">P510573 obverse:6</a></td><td class=\"tf\"><span class=\"txtp\"><span  class=\"hl\" >_1/2(disz) </span>gin2 1(u) sze ku3-babbar na4_ {d}utu usz-ta-bi-la#-[kum]</span></td><td class=\"tf\"><span class=\"txtp\"><span  class=\"hl\" >_1/2(disz) </span></span></td></tr>\n",
       "<tr class=\"tf\"><td class=\"tf\">2</td><td class=\"tf\"> <a href=\"https://cdli.ucla.edu/search/search_results.php?SearchMode=Text&amp;ObjectID=P510581\" title=\"show this document on CDLI\" sec=\"P510581 reverse:3\">P510581 reverse:3</a></td><td class=\"tf\"><span class=\"txtp\">_2(disz) <span  class=\"hl\" >1/2(disz) </span>ma-na 1(disz) <span  class=\"hl\" >1/2(disz) </span>gin2 ku3-babbar_</span></td><td class=\"tf\"><span class=\"txtp\"><span  class=\"hl\" >1/2(disz) </span></span></td><td class=\"tf\"><span class=\"txtp\"><span  class=\"hl\" >1/2(disz) </span></span></td></tr>\n",
       "<tr class=\"tf\"><td class=\"tf\">3</td><td class=\"tf\"> <a href=\"https://cdli.ucla.edu/search/search_results.php?SearchMode=Text&amp;ObjectID=P510599\" title=\"show this document on CDLI\" sec=\"P510599 obverse:10\">P510599 obverse:10</a></td><td class=\"tf\"><span class=\"txtp\">asz-szum <span  class=\"hl\" >_1/2(disz) </span>gin2 ku3-babbar_</span></td><td class=\"tf\"><span class=\"txtp\"><span  class=\"hl\" >_1/2(disz) </span></span></td></tr>\n",
       "<tr class=\"tf\"><td class=\"tf\">4</td><td class=\"tf\"> <a href=\"https://cdli.ucla.edu/search/search_results.php?SearchMode=Text&amp;ObjectID=P510616\" title=\"show this document on CDLI\" sec=\"P510616 obverse:8\">P510616 obverse:8</a></td><td class=\"tf\"><span class=\"txtp\"><span  class=\"hl\" >_1/2(disz) </span>gin2 ku3-babbar_ ar-du-um _dumu_ dingir-x-x-x</span></td><td class=\"tf\"><span class=\"txtp\"><span  class=\"hl\" >_1/2(disz) </span></span></td></tr>\n",
       "<tr class=\"tf\"><td class=\"tf\">5</td><td class=\"tf\"> <a href=\"https://cdli.ucla.edu/search/search_results.php?SearchMode=Text&amp;ObjectID=P510616\" title=\"show this document on CDLI\" sec=\"P510616 obverse:10\">P510616 obverse:10</a></td><td class=\"tf\"><span class=\"txtp\">u3 <span  class=\"hl\" >_1/2(disz) </span>gin2 ku3-babbar_ ar-ra-bu _aszgab_ id-di-nam!(LAM)</span></td><td class=\"tf\"><span class=\"txtp\"><span  class=\"hl\" >_1/2(disz) </span></span></td></tr>\n",
       "<tr class=\"tf\"><td class=\"tf\">6</td><td class=\"tf\"> <a href=\"https://cdli.ucla.edu/search/search_results.php?SearchMode=Text&amp;ObjectID=P510625\" title=\"show this document on CDLI\" sec=\"P510625 reverse:1\">P510625 reverse:1</a></td><td class=\"tf\"><span class=\"txtp\"><span  class=\"hl\" >_1/2(disz) </span>gin2 ku3#-babbar#_ sza e-li a-hi-szu</span></td><td class=\"tf\"><span class=\"txtp\"><span  class=\"hl\" >_1/2(disz) </span></span></td></tr>\n",
       "<tr class=\"tf\"><td class=\"tf\">7</td><td class=\"tf\"> <a href=\"https://cdli.ucla.edu/search/search_results.php?SearchMode=Text&amp;ObjectID=P510625\" title=\"show this document on CDLI\" sec=\"P510625 reverse:10\">P510625 reverse:10</a></td><td class=\"tf\"><span class=\"txtp\"><span  class=\"hl\" >_1/2(disz) </span>gin2 ku3-babbar_ i-na qa2-ti-szu il-te-qe2</span></td><td class=\"tf\"><span class=\"txtp\"><span  class=\"hl\" >_1/2(disz) </span></span></td></tr>\n",
       "<tr class=\"tf\"><td class=\"tf\">8</td><td class=\"tf\"> <a href=\"https://cdli.ucla.edu/search/search_results.php?SearchMode=Text&amp;ObjectID=P510625\" title=\"show this document on CDLI\" sec=\"P510625 reverse:11\">P510625 reverse:11</a></td><td class=\"tf\"><span class=\"txtp\">ki-ma <span  class=\"hl\" >_1/2(disz) </span>gin2 ku3-babbar_ sza i-na qa2-ti-szu il-qu2-u2</span></td><td class=\"tf\"><span class=\"txtp\"><span  class=\"hl\" >_1/2(disz) </span></span></td></tr>\n",
       "<tr class=\"tf\"><td class=\"tf\">9</td><td class=\"tf\"> <a href=\"https://cdli.ucla.edu/search/search_results.php?SearchMode=Text&amp;ObjectID=P510632\" title=\"show this document on CDLI\" sec=\"P510632 reverse:9'\">P510632 reverse:9'</a></td><td class=\"tf\"><span class=\"txtp\">sza <span  class=\"hl\" >_1/2(disz) </span>ma-na ku3-babbar_-ka</span></td><td class=\"tf\"><span class=\"txtp\"><span  class=\"hl\" >_1/2(disz) </span></span></td></tr>\n",
       "<tr class=\"tf\"><td class=\"tf\">10</td><td class=\"tf\"> <a href=\"https://cdli.ucla.edu/search/search_results.php?SearchMode=Text&amp;ObjectID=P510633\" title=\"show this document on CDLI\" sec=\"P510633 reverse:2\">P510633 reverse:2</a></td><td class=\"tf\"><span class=\"txtp\">_tug2# hi-a_ sza <span  class=\"hl\" >_1/2(disz) </span>gin2 ku3-babbar_ [(x)]</span></td><td class=\"tf\"><span class=\"txtp\"><span  class=\"hl\" >_1/2(disz) </span></span></td></tr></table>"
      ],
      "text/plain": [
       "<IPython.core.display.HTML object>"
      ]
     },
     "metadata": {},
     "output_type": "display_data"
    }
   ],
   "source": [
    "A.table(results, end=10, condensed=True)"
   ]
  },
  {
   "cell_type": "markdown",
   "metadata": {},
   "source": [
    "# `13(disz)`"
   ]
  },
  {
   "cell_type": "code",
   "execution_count": 44,
   "metadata": {},
   "outputs": [
    {
     "name": "stdout",
     "output_type": "stream",
     "text": [
      "  0.21s 1 result\n"
     ]
    }
   ],
   "source": [
    "results = A.search('''\n",
    "line\n",
    "  sign reading=disz repeat=13\n",
    "''')"
   ]
  },
  {
   "cell_type": "code",
   "execution_count": 45,
   "metadata": {},
   "outputs": [
    {
     "data": {
      "text/html": [
       "<table>\n",
       "<tr class=\"tf\">\n",
       "  <th class=\"tf\">n</th><th class=\"tf\">p</th>\n",
       "  <th class=\"tf\">line</th><th>sign</th>\n",
       "</tr>\n",
       "\n",
       "<tr class=\"tf\"><td class=\"tf\">1</td><td class=\"tf\"> <a href=\"https://cdli.ucla.edu/search/search_results.php?SearchMode=Text&amp;ObjectID=P372858\" title=\"show this document on CDLI\" sec=\"P372858 reverse:1\">P372858 reverse:1</a></td><td class=\"tf\"><span class=\"txtp\">[i]-na# 1/3(disz) _ma-na ku3-babbar <span  class=\"hl\" >13(disz) </span>gin2 ku3-babbar_</span></td><td class=\"tf\"><span class=\"txtp\"><span  class=\"hl\" >13(disz) </span></span></td></tr></table>"
      ],
      "text/plain": [
       "<IPython.core.display.HTML object>"
      ]
     },
     "metadata": {},
     "output_type": "display_data"
    }
   ],
   "source": [
    "A.table(results, end=10, condensed=True)"
   ]
  },
  {
   "cell_type": "markdown",
   "metadata": {},
   "source": [
    "# `EH` `eh`"
   ]
  },
  {
   "cell_type": "code",
   "execution_count": 48,
   "metadata": {},
   "outputs": [
    {
     "name": "stdout",
     "output_type": "stream",
     "text": [
      "  0.20s 1 result\n"
     ]
    }
   ],
   "source": [
    "results = A.search('''\n",
    "line\n",
    "  sign grapheme=EH\n",
    "''')"
   ]
  },
  {
   "cell_type": "code",
   "execution_count": 49,
   "metadata": {},
   "outputs": [
    {
     "data": {
      "text/html": [
       "<table>\n",
       "<tr class=\"tf\">\n",
       "  <th class=\"tf\">n</th><th class=\"tf\">p</th>\n",
       "  <th class=\"tf\">line</th><th>sign</th>\n",
       "</tr>\n",
       "\n",
       "<tr class=\"tf\"><td class=\"tf\">1</td><td class=\"tf\"> <a href=\"https://cdli.ucla.edu/search/search_results.php?SearchMode=Text&amp;ObjectID=P296089\" title=\"show this document on CDLI\" sec=\"P296089 obverse:4\">P296089 obverse:4</a></td><td class=\"tf\"><span class=\"txtp\">ki-ma ze-<span  class=\"hl\" >EH?-</span>pi2 ta-a-am-ma-ru</span></td><td class=\"tf\"><span class=\"txtp\"><span  class=\"hl\" >EH?-</span></span></td></tr></table>"
      ],
      "text/plain": [
       "<IPython.core.display.HTML object>"
      ]
     },
     "metadata": {},
     "output_type": "display_data"
    }
   ],
   "source": [
    "A.table(results, end=10, condensed=True)"
   ]
  },
  {
   "cell_type": "code",
   "execution_count": 50,
   "metadata": {},
   "outputs": [
    {
     "name": "stdout",
     "output_type": "stream",
     "text": [
      "  0.21s 102 results\n"
     ]
    }
   ],
   "source": [
    "results = A.search('''\n",
    "line\n",
    "  sign reading=eh\n",
    "''')"
   ]
  },
  {
   "cell_type": "code",
   "execution_count": 51,
   "metadata": {},
   "outputs": [
    {
     "data": {
      "text/html": [
       "<table>\n",
       "<tr class=\"tf\">\n",
       "  <th class=\"tf\">n</th><th class=\"tf\">p</th>\n",
       "  <th class=\"tf\">line</th><th>sign</th>\n",
       "</tr>\n",
       "\n",
       "<tr class=\"tf\"><td class=\"tf\">1</td><td class=\"tf\"> <a href=\"https://cdli.ucla.edu/search/search_results.php?SearchMode=Text&amp;ObjectID=P509376\" title=\"show this document on CDLI\" sec=\"P509376 obverse:2\">P509376 obverse:2</a></td><td class=\"tf\"><span class=\"txtp\">asz-szum s,e-<span  class=\"hl\" >eh-</span>he-ru-ti-ia i-ta-ap-lu-si-im</span></td><td class=\"tf\"><span class=\"txtp\"><span  class=\"hl\" >eh-</span></span></td></tr>\n",
       "<tr class=\"tf\"><td class=\"tf\">2</td><td class=\"tf\"> <a href=\"https://cdli.ucla.edu/search/search_results.php?SearchMode=Text&amp;ObjectID=P509376\" title=\"show this document on CDLI\" sec=\"P509376 reverse:7\">P509376 reverse:7</a></td><td class=\"tf\"><span class=\"txtp\">_sze_-um a-na _szuku_ s,e-<span  class=\"hl\" >eh-</span>he-ru-tim</span></td><td class=\"tf\"><span class=\"txtp\"><span  class=\"hl\" >eh-</span></span></td></tr>\n",
       "<tr class=\"tf\"><td class=\"tf\">3</td><td class=\"tf\"> <a href=\"https://cdli.ucla.edu/search/search_results.php?SearchMode=Text&amp;ObjectID=P509377\" title=\"show this document on CDLI\" sec=\"P509377 reverse:3\">P509377 reverse:3</a></td><td class=\"tf\"><span class=\"txtp\">u2-ne-<span  class=\"hl\" >eh-</span>[...]</span></td><td class=\"tf\"><span class=\"txtp\"><span  class=\"hl\" >eh-</span></span></td></tr>\n",
       "<tr class=\"tf\"><td class=\"tf\">4</td><td class=\"tf\"> <a href=\"https://cdli.ucla.edu/search/search_results.php?SearchMode=Text&amp;ObjectID=P510527\" title=\"show this document on CDLI\" sec=\"P510527 reverse:3\">P510527 reverse:3</a></td><td class=\"tf\"><span class=\"txtp\">u3 tup-pa-ti-szu-nu me-<span  class=\"hl\" >eh-</span>ra-am</span></td><td class=\"tf\"><span class=\"txtp\"><span  class=\"hl\" >eh-</span></span></td></tr>\n",
       "<tr class=\"tf\"><td class=\"tf\">5</td><td class=\"tf\"> <a href=\"https://cdli.ucla.edu/search/search_results.php?SearchMode=Text&amp;ObjectID=P510530\" title=\"show this document on CDLI\" sec=\"P510530 reverse:5\">P510530 reverse:5</a></td><td class=\"tf\"><span class=\"txtp\">_gu4_ ki-ma _gu4_ nu-up-te-<span  class=\"hl\" >eh-</span>ma</span></td><td class=\"tf\"><span class=\"txtp\"><span  class=\"hl\" >eh-</span></span></td></tr>\n",
       "<tr class=\"tf\"><td class=\"tf\">6</td><td class=\"tf\"> <a href=\"https://cdli.ucla.edu/search/search_results.php?SearchMode=Text&amp;ObjectID=P510557\" title=\"show this document on CDLI\" sec=\"P510557 reverse:7\">P510557 reverse:7</a></td><td class=\"tf\"><span class=\"txtp\">u2 s,e2-<span  class=\"hl\" >eh-</span>re-et</span></td><td class=\"tf\"><span class=\"txtp\"><span  class=\"hl\" >eh-</span></span></td></tr>\n",
       "<tr class=\"tf\"><td class=\"tf\">7</td><td class=\"tf\"> <a href=\"https://cdli.ucla.edu/search/search_results.php?SearchMode=Text&amp;ObjectID=P510587\" title=\"show this document on CDLI\" sec=\"P510587 obverse:6\">P510587 obverse:6</a></td><td class=\"tf\"><span class=\"txtp\">isz-tu s,e-<span  class=\"hl\" >eh-</span>re-et-ma</span></td><td class=\"tf\"><span class=\"txtp\"><span  class=\"hl\" >eh-</span></span></td></tr>\n",
       "<tr class=\"tf\"><td class=\"tf\">8</td><td class=\"tf\"> <a href=\"https://cdli.ucla.edu/search/search_results.php?SearchMode=Text&amp;ObjectID=P510591\" title=\"show this document on CDLI\" sec=\"P510591 left:1:2\">P510591 left:1:2</a></td><td class=\"tf\"><span class=\"txtp\">sze#-um ih-[ha-asz-sze]-<span  class=\"hl\" >eh </span>x x-lam? it-ti-ka u2-ul</span></td><td class=\"tf\"><span class=\"txtp\"><span  class=\"hl\" >eh </span></span></td></tr>\n",
       "<tr class=\"tf\"><td class=\"tf\">9</td><td class=\"tf\"> <a href=\"https://cdli.ucla.edu/search/search_results.php?SearchMode=Text&amp;ObjectID=P510596\" title=\"show this document on CDLI\" sec=\"P510596 obverse:15\">P510596 obverse:15</a></td><td class=\"tf\"><span class=\"txtp\">ar#-di _e2_-ia u3 s,e-<span  class=\"hl\" >eh-</span>he-ru#-[ti-ia]</span></td><td class=\"tf\"><span class=\"txtp\"><span  class=\"hl\" >eh-</span></span></td></tr>\n",
       "<tr class=\"tf\"><td class=\"tf\">10</td><td class=\"tf\"> <a href=\"https://cdli.ucla.edu/search/search_results.php?SearchMode=Text&amp;ObjectID=P510599\" title=\"show this document on CDLI\" sec=\"P510599 obverse:12\">P510599 obverse:12</a></td><td class=\"tf\"><span class=\"txtp\">_siki hi-a_ ah-sze-<span  class=\"hl\" >eh-</span>ma</span></td><td class=\"tf\"><span class=\"txtp\"><span  class=\"hl\" >eh-</span></span></td></tr></table>"
      ],
      "text/plain": [
       "<IPython.core.display.HTML object>"
      ]
     },
     "metadata": {},
     "output_type": "display_data"
    }
   ],
   "source": [
    "A.table(results, end=10, condensed=True)"
   ]
  },
  {
   "cell_type": "markdown",
   "metadata": {},
   "source": [
    "# `eri11`"
   ]
  },
  {
   "cell_type": "code",
   "execution_count": 52,
   "metadata": {},
   "outputs": [
    {
     "name": "stdout",
     "output_type": "stream",
     "text": [
      "  0.21s 8 results\n"
     ]
    }
   ],
   "source": [
    "results = A.search('''\n",
    "line\n",
    "  sign reading=eri11\n",
    "''')"
   ]
  },
  {
   "cell_type": "code",
   "execution_count": 53,
   "metadata": {},
   "outputs": [
    {
     "data": {
      "text/html": [
       "<table>\n",
       "<tr class=\"tf\">\n",
       "  <th class=\"tf\">n</th><th class=\"tf\">p</th>\n",
       "  <th class=\"tf\">line</th><th>sign</th>\n",
       "</tr>\n",
       "\n",
       "<tr class=\"tf\"><td class=\"tf\">1</td><td class=\"tf\"> <a href=\"https://cdli.ucla.edu/search/search_results.php?SearchMode=Text&amp;ObjectID=P479902\" title=\"show this document on CDLI\" sec=\"P479902 obverse:10\">P479902 obverse:10</a></td><td class=\"tf\"><span class=\"txtp\">u2-la sza _{d}ne3-<span  class=\"hl\" >eri11-</span>gal_</span></td><td class=\"tf\"><span class=\"txtp\"><span  class=\"hl\" >eri11-</span></span></td></tr>\n",
       "<tr class=\"tf\"><td class=\"tf\">2</td><td class=\"tf\"> <a href=\"https://cdli.ucla.edu/search/search_results.php?SearchMode=Text&amp;ObjectID=P303920\" title=\"show this document on CDLI\" sec=\"P303920 obverse:1\">P303920 obverse:1</a></td><td class=\"tf\"><span class=\"txtp\">a-na {d}ne3-<span  class=\"hl\" >eri11-</span>gal-ha#-zi#-ir</span></td><td class=\"tf\"><span class=\"txtp\"><span  class=\"hl\" >eri11-</span></span></td></tr>\n",
       "<tr class=\"tf\"><td class=\"tf\">3</td><td class=\"tf\"> <a href=\"https://cdli.ucla.edu/search/search_results.php?SearchMode=Text&amp;ObjectID=P275164\" title=\"show this document on CDLI\" sec=\"P275164 reverse:4'\">P275164 reverse:4'</a></td><td class=\"tf\"><span class=\"txtp\">[x x (x)] {d}ne3-<span  class=\"hl\" >eri11-</span>gal</span></td><td class=\"tf\"><span class=\"txtp\"><span  class=\"hl\" >eri11-</span></span></td></tr>\n",
       "<tr class=\"tf\"><td class=\"tf\">4</td><td class=\"tf\"> <a href=\"https://cdli.ucla.edu/search/search_results.php?SearchMode=Text&amp;ObjectID=P386450\" title=\"show this document on CDLI\" sec=\"P386450 obverse:4\">P386450 obverse:4</a></td><td class=\"tf\"><span class=\"txtp\">{d}utu u3 {d}ne3-<span  class=\"hl\" >eri11-</span>gal</span></td><td class=\"tf\"><span class=\"txtp\"><span  class=\"hl\" >eri11-</span></span></td></tr>\n",
       "<tr class=\"tf\"><td class=\"tf\">5</td><td class=\"tf\"> <a href=\"https://cdli.ucla.edu/search/search_results.php?SearchMode=Text&amp;ObjectID=P372926\" title=\"show this document on CDLI\" sec=\"P372926 obverse:3\">P372926 obverse:3</a></td><td class=\"tf\"><span class=\"txtp\">um-ma {d}ne3#-<span  class=\"hl\" >eri11!-</span>gal-e-mu-qa2-szu-ma#</span></td><td class=\"tf\"><span class=\"txtp\"><span  class=\"hl\" >eri11!-</span></span></td></tr>\n",
       "<tr class=\"tf\"><td class=\"tf\">6</td><td class=\"tf\"> <a href=\"https://cdli.ucla.edu/search/search_results.php?SearchMode=Text&amp;ObjectID=P373049\" title=\"show this document on CDLI\" sec=\"P373049 obverse:4\">P373049 obverse:4</a></td><td class=\"tf\"><span class=\"txtp\">{d}utu u3 {d}ne3-<span  class=\"hl\" >eri11-</span>gal</span></td><td class=\"tf\"><span class=\"txtp\"><span  class=\"hl\" >eri11-</span></span></td></tr>\n",
       "<tr class=\"tf\"><td class=\"tf\">7</td><td class=\"tf\"> <a href=\"https://cdli.ucla.edu/search/search_results.php?SearchMode=Text&amp;ObjectID=P305742\" title=\"show this document on CDLI\" sec=\"P305742 obverse:4\">P305742 obverse:4</a></td><td class=\"tf\"><span class=\"txtp\">_{d}utu_ u3 _{d}ne3-<span  class=\"hl\" >eri11-</span>gal_</span></td><td class=\"tf\"><span class=\"txtp\"><span  class=\"hl\" >eri11-</span></span></td></tr>\n",
       "<tr class=\"tf\"><td class=\"tf\">8</td><td class=\"tf\"> <a href=\"https://cdli.ucla.edu/search/search_results.php?SearchMode=Text&amp;ObjectID=P306658\" title=\"show this document on CDLI\" sec=\"P306658 obverse:4\">P306658 obverse:4</a></td><td class=\"tf\"><span class=\"txtp\">_{d}utu_ u3 _{d}ne3-<span  class=\"hl\" >eri11-</span>gal_ asz-szum-ia ma-di-isz _u4_-mi</span></td><td class=\"tf\"><span class=\"txtp\"><span  class=\"hl\" >eri11-</span></span></td></tr></table>"
      ],
      "text/plain": [
       "<IPython.core.display.HTML object>"
      ]
     },
     "metadata": {},
     "output_type": "display_data"
    }
   ],
   "source": [
    "A.table(results, end=10, condensed=True)"
   ]
  },
  {
   "cell_type": "markdown",
   "metadata": {},
   "source": [
    "# `3(esze3)`"
   ]
  },
  {
   "cell_type": "code",
   "execution_count": 54,
   "metadata": {},
   "outputs": [
    {
     "name": "stdout",
     "output_type": "stream",
     "text": [
      "  0.21s 1 result\n"
     ]
    }
   ],
   "source": [
    "results = A.search('''\n",
    "line\n",
    "  sign reading=esze3 repeat=3\n",
    "''')"
   ]
  },
  {
   "cell_type": "code",
   "execution_count": 55,
   "metadata": {},
   "outputs": [
    {
     "data": {
      "text/html": [
       "<table>\n",
       "<tr class=\"tf\">\n",
       "  <th class=\"tf\">n</th><th class=\"tf\">p</th>\n",
       "  <th class=\"tf\">line</th><th>sign</th>\n",
       "</tr>\n",
       "\n",
       "<tr class=\"tf\"><td class=\"tf\">1</td><td class=\"tf\"> <a href=\"https://cdli.ucla.edu/search/search_results.php?SearchMode=Text&amp;ObjectID=P510769\" title=\"show this document on CDLI\" sec=\"P510769 obverse:7\">P510769 obverse:7</a></td><td class=\"tf\"><span class=\"txtp\">[x x x (x) x] <span  class=\"hl\" >_3(esze3) </span>GAN2_ e-li# zimbir{ki}</span></td><td class=\"tf\"><span class=\"txtp\"><span  class=\"hl\" >_3(esze3) </span></span></td></tr></table>"
      ],
      "text/plain": [
       "<IPython.core.display.HTML object>"
      ]
     },
     "metadata": {},
     "output_type": "display_data"
    }
   ],
   "source": [
    "A.table(results, end=10, condensed=True)"
   ]
  },
  {
   "cell_type": "markdown",
   "metadata": {},
   "source": [
    "# `1(gesz)` `9(gesz)` `7(gesz'u)`\n",
    "\n",
    "Could it be `1(gesz2)` ?\n",
    "\n",
    "Then it would be 𒐕 `12415 CUNEIFORM NUMERIC SIGN ONE GESH2`"
   ]
  },
  {
   "cell_type": "code",
   "execution_count": 56,
   "metadata": {},
   "outputs": [
    {
     "name": "stdout",
     "output_type": "stream",
     "text": [
      "  0.21s 10 results\n"
     ]
    }
   ],
   "source": [
    "results = A.search('''\n",
    "line\n",
    "  sign reading=gesz|gesz'u repeat=1|7|9\n",
    "''')"
   ]
  },
  {
   "cell_type": "code",
   "execution_count": 57,
   "metadata": {},
   "outputs": [
    {
     "data": {
      "text/html": [
       "<table>\n",
       "<tr class=\"tf\">\n",
       "  <th class=\"tf\">n</th><th class=\"tf\">p</th>\n",
       "  <th class=\"tf\">line</th><th>sign</th>\n",
       "</tr>\n",
       "\n",
       "<tr class=\"tf\"><td class=\"tf\">1</td><td class=\"tf\"> <a href=\"https://cdli.ucla.edu/search/search_results.php?SearchMode=Text&amp;ObjectID=P510728\" title=\"show this document on CDLI\" sec=\"P510728 obverse:9\">P510728 obverse:9</a></td><td class=\"tf\"><span class=\"txtp\">_ma2-i3-dub <span  class=\"hl\" >1(gesz'u) </span>gur_ qa2-du _erin2_-szu#</span></td><td class=\"tf\"><span class=\"txtp\"><span  class=\"hl\" >1(gesz'u) </span></span></td></tr>\n",
       "<tr class=\"tf\"><td class=\"tf\">2</td><td class=\"tf\"> <a href=\"https://cdli.ucla.edu/search/search_results.php?SearchMode=Text&amp;ObjectID=P297170\" title=\"show this document on CDLI\" sec=\"P297170 obverse:8\">P297170 obverse:8</a></td><td class=\"tf\"><span class=\"txtp\"><span  class=\"hl\" >_1(gesz) </span>4(u) gur sze_ i-na _uru dumu-mesz_ ma-szum#</span></td><td class=\"tf\"><span class=\"txtp\"><span  class=\"hl\" >_1(gesz) </span></span></td></tr>\n",
       "<tr class=\"tf\"><td class=\"tf\">3</td><td class=\"tf\"> <a href=\"https://cdli.ucla.edu/search/search_results.php?SearchMode=Text&amp;ObjectID=P313323\" title=\"show this document on CDLI\" sec=\"P313323 obverse:11\">P313323 obverse:11</a></td><td class=\"tf\"><span class=\"txtp\">_esz3-gar3 3(disz) gud-apin <span  class=\"hl\" >1(gesz'u) </span>5(gesz2) sze gur_</span></td><td class=\"tf\"><span class=\"txtp\"><span  class=\"hl\" >1(gesz'u) </span></span></td></tr>\n",
       "<tr class=\"tf\"><td class=\"tf\">4</td><td class=\"tf\"> <a href=\"https://cdli.ucla.edu/search/search_results.php?SearchMode=Text&amp;ObjectID=P313323\" title=\"show this document on CDLI\" sec=\"P313323 obverse:13\">P313323 obverse:13</a></td><td class=\"tf\"><span class=\"txtp\">ma-ti-i-ma <span  class=\"hl\" >1(gesz'u) </span>_sze gur_ u2-ul tu-ma-al-li#</span></td><td class=\"tf\"><span class=\"txtp\"><span  class=\"hl\" >1(gesz'u) </span></span></td></tr>\n",
       "<tr class=\"tf\"><td class=\"tf\">5</td><td class=\"tf\"> <a href=\"https://cdli.ucla.edu/search/search_results.php?SearchMode=Text&amp;ObjectID=P313323\" title=\"show this document on CDLI\" sec=\"P313323 reverse:10\">P313323 reverse:10</a></td><td class=\"tf\"><span class=\"txtp\"><span  class=\"hl\" >9(gesz) </span>5(u) 3(asz) [x _sze-gur_ ...] x</span></td><td class=\"tf\"><span class=\"txtp\"><span  class=\"hl\" >9(gesz) </span></span></td></tr>\n",
       "<tr class=\"tf\"><td class=\"tf\">6</td><td class=\"tf\"> <a href=\"https://cdli.ucla.edu/search/search_results.php?SearchMode=Text&amp;ObjectID=P313380\" title=\"show this document on CDLI\" sec=\"P313380 obverse:9\">P313380 obverse:9</a></td><td class=\"tf\"><span class=\"txtp\"><span  class=\"hl\" >1(gesz'u) </span>6(gesz2) 2(u) 6(asz) _gur_</span></td><td class=\"tf\"><span class=\"txtp\"><span  class=\"hl\" >1(gesz'u) </span></span></td></tr>\n",
       "<tr class=\"tf\"><td class=\"tf\">7</td><td class=\"tf\"> <a href=\"https://cdli.ucla.edu/search/search_results.php?SearchMode=Text&amp;ObjectID=P387298\" title=\"show this document on CDLI\" sec=\"P387298 obverse:8\">P387298 obverse:8</a></td><td class=\"tf\"><span class=\"txtp\"><span  class=\"hl\" >_1(gesz'u) </span>4(gesz2) 1(u) 4(asz) gur_</span></td><td class=\"tf\"><span class=\"txtp\"><span  class=\"hl\" >_1(gesz'u) </span></span></td></tr>\n",
       "<tr class=\"tf\"><td class=\"tf\">8</td><td class=\"tf\"> <a href=\"https://cdli.ucla.edu/search/search_results.php?SearchMode=Text&amp;ObjectID=P387305\" title=\"show this document on CDLI\" sec=\"P387305 obverse:5\">P387305 obverse:5</a></td><td class=\"tf\"><span class=\"txtp\"><span  class=\"hl\" >_1(gesz'u) </span>4(gesz2) gur_ ib-ba#-szi-i</span></td><td class=\"tf\"><span class=\"txtp\"><span  class=\"hl\" >_1(gesz'u) </span></span></td></tr>\n",
       "<tr class=\"tf\"><td class=\"tf\">9</td><td class=\"tf\"> <a href=\"https://cdli.ucla.edu/search/search_results.php?SearchMode=Text&amp;ObjectID=P387313\" title=\"show this document on CDLI\" sec=\"P387313 obverse:5\">P387313 obverse:5</a></td><td class=\"tf\"><span class=\"txtp\"><span  class=\"hl\" >_7(gesz'u) </span>zu2-lum_ ri-ba-tum</span></td><td class=\"tf\"><span class=\"txtp\"><span  class=\"hl\" >_7(gesz'u) </span></span></td></tr>\n",
       "<tr class=\"tf\"><td class=\"tf\">10</td><td class=\"tf\"> <a href=\"https://cdli.ucla.edu/search/search_results.php?SearchMode=Text&amp;ObjectID=P372972\" title=\"show this document on CDLI\" sec=\"P372972 obverse:12\">P372972 obverse:12</a></td><td class=\"tf\"><span class=\"txtp\"><span  class=\"hl\" >_1(gesz'u) </span>gur zu2-lum_ i-na tu-ur-{d}u3-gul-la2{ki}</span></td><td class=\"tf\"><span class=\"txtp\"><span  class=\"hl\" >_1(gesz'u) </span></span></td></tr></table>"
      ],
      "text/plain": [
       "<IPython.core.display.HTML object>"
      ]
     },
     "metadata": {},
     "output_type": "display_data"
    }
   ],
   "source": [
    "A.table(results, end=10, condensed=True)"
   ]
  },
  {
   "cell_type": "markdown",
   "metadata": {},
   "source": [
    "# `geszimmar`"
   ]
  },
  {
   "cell_type": "code",
   "execution_count": 58,
   "metadata": {},
   "outputs": [
    {
     "name": "stdout",
     "output_type": "stream",
     "text": [
      "  0.21s 7 results\n"
     ]
    }
   ],
   "source": [
    "results = A.search('''\n",
    "line\n",
    "  sign reading=geszimmar\n",
    "''')"
   ]
  },
  {
   "cell_type": "code",
   "execution_count": 59,
   "metadata": {},
   "outputs": [
    {
     "data": {
      "text/html": [
       "<table>\n",
       "<tr class=\"tf\">\n",
       "  <th class=\"tf\">n</th><th class=\"tf\">p</th>\n",
       "  <th class=\"tf\">line</th><th>sign</th>\n",
       "</tr>\n",
       "\n",
       "<tr class=\"tf\"><td class=\"tf\">1</td><td class=\"tf\"> <a href=\"https://cdli.ucla.edu/search/search_results.php?SearchMode=Text&amp;ObjectID=P389958\" title=\"show this document on CDLI\" sec=\"P389958 obverse:7'\">P389958 obverse:7'</a></td><td class=\"tf\"><span class=\"txtp\">_5(disz) ma-na {gesz}zu2 <span  class=\"hl\" >geszimmar_</span></span></td><td class=\"tf\"><span class=\"txtp\"><span  class=\"hl\" >geszimmar_</span></span></td></tr>\n",
       "<tr class=\"tf\"><td class=\"tf\">2</td><td class=\"tf\"> <a href=\"https://cdli.ucla.edu/search/search_results.php?SearchMode=Text&amp;ObjectID=P355822\" title=\"show this document on CDLI\" sec=\"P355822 obverse:6\">P355822 obverse:6</a></td><td class=\"tf\"><span class=\"txtp\">u3 i-na-an-na a-na _gesz-ur3 <span  class=\"hl\" >geszimmar_ </span>na-sze-e-em</span></td><td class=\"tf\"><span class=\"txtp\"><span  class=\"hl\" >geszimmar_ </span></span></td></tr>\n",
       "<tr class=\"tf\"><td class=\"tf\">3</td><td class=\"tf\"> <a href=\"https://cdli.ucla.edu/search/search_results.php?SearchMode=Text&amp;ObjectID=P355822\" title=\"show this document on CDLI\" sec=\"P355822 obverse:10\">P355822 obverse:10</a></td><td class=\"tf\"><span class=\"txtp\">u3 i-na-an-na _gesz-ur3 <span  class=\"hl\" >geszimmar </span>hi-a_</span></td><td class=\"tf\"><span class=\"txtp\"><span  class=\"hl\" >geszimmar </span></span></td></tr>\n",
       "<tr class=\"tf\"><td class=\"tf\">4</td><td class=\"tf\"> <a href=\"https://cdli.ucla.edu/search/search_results.php?SearchMode=Text&amp;ObjectID=P386009\" title=\"show this document on CDLI\" sec=\"P386009 obverse:5\">P386009 obverse:5</a></td><td class=\"tf\"><span class=\"txtp\">_nu-{gesz}kiri6_ sza _{gesz}<span  class=\"hl\" >geszimmar </span>dilmun-na_</span></td><td class=\"tf\"><span class=\"txtp\"><span  class=\"hl\" >geszimmar </span></span></td></tr>\n",
       "<tr class=\"tf\"><td class=\"tf\">5</td><td class=\"tf\"> <a href=\"https://cdli.ucla.edu/search/search_results.php?SearchMode=Text&amp;ObjectID=P286507\" title=\"show this document on CDLI\" sec=\"P286507 obverse:4\">P286507 obverse:4</a></td><td class=\"tf\"><span class=\"txtp\">3(bur3) _gan2_-lam i-na _a-sza3 {gesz}<span  class=\"hl\" >geszimmar </span>nu2-a_</span></td><td class=\"tf\"><span class=\"txtp\"><span  class=\"hl\" >geszimmar </span></span></td></tr>\n",
       "<tr class=\"tf\"><td class=\"tf\">6</td><td class=\"tf\"> <a href=\"https://cdli.ucla.edu/search/search_results.php?SearchMode=Text&amp;ObjectID=P307168\" title=\"show this document on CDLI\" sec=\"P307168 reverse:5\">P307168 reverse:5</a></td><td class=\"tf\"><span class=\"txtp\">u3 1(gesz2) 1(u) _{gesz}sza3-<span  class=\"hl\" >geszimmar_</span></span></td><td class=\"tf\"><span class=\"txtp\"><span  class=\"hl\" >geszimmar_</span></span></td></tr>\n",
       "<tr class=\"tf\"><td class=\"tf\">7</td><td class=\"tf\"> <a href=\"https://cdli.ucla.edu/search/search_results.php?SearchMode=Text&amp;ObjectID=P307168\" title=\"show this document on CDLI\" sec=\"P307168 reverse:7\">P307168 reverse:7</a></td><td class=\"tf\"><span class=\"txtp\">s,i-bu-ut _{gesz}sza3-<span  class=\"hl\" >geszimmar_ </span>ni-szu</span></td><td class=\"tf\"><span class=\"txtp\"><span  class=\"hl\" >geszimmar_ </span></span></td></tr></table>"
      ],
      "text/plain": [
       "<IPython.core.display.HTML object>"
      ]
     },
     "metadata": {},
     "output_type": "display_data"
    }
   ],
   "source": [
    "A.table(results, end=10, condensed=True)"
   ]
  },
  {
   "cell_type": "markdown",
   "metadata": {},
   "source": [
    "# `gudu4`"
   ]
  },
  {
   "cell_type": "code",
   "execution_count": 60,
   "metadata": {},
   "outputs": [
    {
     "name": "stdout",
     "output_type": "stream",
     "text": [
      "  0.21s 5 results\n"
     ]
    }
   ],
   "source": [
    "results = A.search('''\n",
    "line\n",
    "  sign reading=gudu4\n",
    "''')"
   ]
  },
  {
   "cell_type": "code",
   "execution_count": 61,
   "metadata": {},
   "outputs": [
    {
     "data": {
      "text/html": [
       "<table>\n",
       "<tr class=\"tf\">\n",
       "  <th class=\"tf\">n</th><th class=\"tf\">p</th>\n",
       "  <th class=\"tf\">line</th><th>sign</th>\n",
       "</tr>\n",
       "\n",
       "<tr class=\"tf\"><td class=\"tf\">1</td><td class=\"tf\"> <a href=\"https://cdli.ucla.edu/search/search_results.php?SearchMode=Text&amp;ObjectID=P313354\" title=\"show this document on CDLI\" sec=\"P313354 obverse:6\">P313354 obverse:6</a></td><td class=\"tf\"><span class=\"txtp\"><span  class=\"hl\" >_gudu4 </span>{d}nin-si4-an-na_</span></td><td class=\"tf\"><span class=\"txtp\"><span  class=\"hl\" >_gudu4 </span></span></td></tr>\n",
       "<tr class=\"tf\"><td class=\"tf\">2</td><td class=\"tf\"> <a href=\"https://cdli.ucla.edu/search/search_results.php?SearchMode=Text&amp;ObjectID=P275156\" title=\"show this document on CDLI\" sec=\"P275156 obverse:14\">P275156 obverse:14</a></td><td class=\"tf\"><span class=\"txtp\">[e-ri-ib _e2] <span  class=\"hl\" >gudu4 </span>abzu-mesz_</span></td><td class=\"tf\"><span class=\"txtp\"><span  class=\"hl\" >gudu4 </span></span></td></tr>\n",
       "<tr class=\"tf\"><td class=\"tf\">3</td><td class=\"tf\"> <a href=\"https://cdli.ucla.edu/search/search_results.php?SearchMode=Text&amp;ObjectID=P275156\" title=\"show this document on CDLI\" sec=\"P275156 reverse:10\">P275156 reverse:10</a></td><td class=\"tf\"><span class=\"txtp\">e-ri-ib _e2 <span  class=\"hl\" >gudu4 </span>abzu-mesz#_</span></td><td class=\"tf\"><span class=\"txtp\"><span  class=\"hl\" >gudu4 </span></span></td></tr>\n",
       "<tr class=\"tf\"><td class=\"tf\">4</td><td class=\"tf\"> <a href=\"https://cdli.ucla.edu/search/search_results.php?SearchMode=Text&amp;ObjectID=P386487\" title=\"show this document on CDLI\" sec=\"P386487 obverse:12\">P386487 obverse:12</a></td><td class=\"tf\"><span class=\"txtp\">_1(u) 5(disz) gin2# ku3-babbar_ [i]-na# qa2#-ti# ARAD2-i3-li2-szu <span  class=\"hl\" >_gudu4#?_</span></span></td><td class=\"tf\"><span class=\"txtp\"><span  class=\"hl\" >_gudu4#?_</span></span></td></tr>\n",
       "<tr class=\"tf\"><td class=\"tf\">5</td><td class=\"tf\"> <a href=\"https://cdli.ucla.edu/search/search_results.php?SearchMode=Text&amp;ObjectID=P372414\" title=\"show this document on CDLI\" sec=\"P372414 obverse:2\">P372414 obverse:2</a></td><td class=\"tf\"><span class=\"txtp\">a-na <span  class=\"hl\" >_gudu4_ </span>sza {d}marduk</span></td><td class=\"tf\"><span class=\"txtp\"><span  class=\"hl\" >_gudu4_ </span></span></td></tr></table>"
      ],
      "text/plain": [
       "<IPython.core.display.HTML object>"
      ]
     },
     "metadata": {},
     "output_type": "display_data"
    }
   ],
   "source": [
    "A.table(results, end=10, condensed=True)"
   ]
  },
  {
   "cell_type": "markdown",
   "metadata": {},
   "source": [
    "# `had2`"
   ]
  },
  {
   "cell_type": "code",
   "execution_count": 62,
   "metadata": {},
   "outputs": [
    {
     "name": "stdout",
     "output_type": "stream",
     "text": [
      "  0.22s 4 results\n"
     ]
    }
   ],
   "source": [
    "results = A.search('''\n",
    "line\n",
    "  sign reading=had2\n",
    "''')"
   ]
  },
  {
   "cell_type": "code",
   "execution_count": 63,
   "metadata": {},
   "outputs": [
    {
     "data": {
      "text/html": [
       "<table>\n",
       "<tr class=\"tf\">\n",
       "  <th class=\"tf\">n</th><th class=\"tf\">p</th>\n",
       "  <th class=\"tf\">line</th><th>sign</th>\n",
       "</tr>\n",
       "\n",
       "<tr class=\"tf\"><td class=\"tf\">1</td><td class=\"tf\"> <a href=\"https://cdli.ucla.edu/search/search_results.php?SearchMode=Text&amp;ObjectID=P510660\" title=\"show this document on CDLI\" sec=\"P510660 obverse:6\">P510660 obverse:6</a></td><td class=\"tf\"><span class=\"txtp\">_duh <span  class=\"hl\" >had2# </span>du#_ li#-il#-qu2-nim</span></td><td class=\"tf\"><span class=\"txtp\"><span  class=\"hl\" >had2# </span></span></td></tr>\n",
       "<tr class=\"tf\"><td class=\"tf\">2</td><td class=\"tf\"> <a href=\"https://cdli.ucla.edu/search/search_results.php?SearchMode=Text&amp;ObjectID=P510660\" title=\"show this document on CDLI\" sec=\"P510660 reverse:4\">P510660 reverse:4</a></td><td class=\"tf\"><span class=\"txtp\">_duh <span  class=\"hl\" >had2# </span>du#_ sza e2-duru5-bi-sa3{ki}</span></td><td class=\"tf\"><span class=\"txtp\"><span  class=\"hl\" >had2# </span></span></td></tr>\n",
       "<tr class=\"tf\"><td class=\"tf\">3</td><td class=\"tf\"> <a href=\"https://cdli.ucla.edu/search/search_results.php?SearchMode=Text&amp;ObjectID=P386440\" title=\"show this document on CDLI\" sec=\"P386440 reverse:14\">P386440 reverse:14</a></td><td class=\"tf\"><span class=\"txtp\">u3 _gi-zi <span  class=\"hl\" >had2-</span>DU_ ta-ak-ku-mu</span></td><td class=\"tf\"><span class=\"txtp\"><span  class=\"hl\" >had2-</span></span></td></tr>\n",
       "<tr class=\"tf\"><td class=\"tf\">4</td><td class=\"tf\"> <a href=\"https://cdli.ucla.edu/search/search_results.php?SearchMode=Text&amp;ObjectID=P292981\" title=\"show this document on CDLI\" sec=\"P292981 obverse:4\">P292981 obverse:4</a></td><td class=\"tf\"><span class=\"txtp\">_duh <span  class=\"hl\" >had2 </span>du duru5_</span></td><td class=\"tf\"><span class=\"txtp\"><span  class=\"hl\" >had2 </span></span></td></tr></table>"
      ],
      "text/plain": [
       "<IPython.core.display.HTML object>"
      ]
     },
     "metadata": {},
     "output_type": "display_data"
    }
   ],
   "source": [
    "A.table(results, end=10, condensed=True)"
   ]
  },
  {
   "cell_type": "markdown",
   "metadata": {},
   "source": [
    "# `HAR` `har`"
   ]
  },
  {
   "cell_type": "code",
   "execution_count": 64,
   "metadata": {},
   "outputs": [
    {
     "name": "stdout",
     "output_type": "stream",
     "text": [
      "  0.20s 1 result\n"
     ]
    }
   ],
   "source": [
    "results = A.search('''\n",
    "line\n",
    "  sign grapheme=HAR\n",
    "''')"
   ]
  },
  {
   "cell_type": "code",
   "execution_count": 65,
   "metadata": {},
   "outputs": [
    {
     "data": {
      "text/html": [
       "<table>\n",
       "<tr class=\"tf\">\n",
       "  <th class=\"tf\">n</th><th class=\"tf\">p</th>\n",
       "  <th class=\"tf\">line</th><th>sign</th>\n",
       "</tr>\n",
       "\n",
       "<tr class=\"tf\"><td class=\"tf\">1</td><td class=\"tf\"> <a href=\"https://cdli.ucla.edu/search/search_results.php?SearchMode=Text&amp;ObjectID=P492284\" title=\"show this document on CDLI\" sec=\"P492284 reverse:6'\">P492284 reverse:6'</a></td><td class=\"tf\"><span class=\"txtp\">2(disz) ARAD <span  class=\"hl\" >HAR </span>HI UD TE ta x x</span></td><td class=\"tf\"><span class=\"txtp\"><span  class=\"hl\" >HAR </span></span></td></tr></table>"
      ],
      "text/plain": [
       "<IPython.core.display.HTML object>"
      ]
     },
     "metadata": {},
     "output_type": "display_data"
    }
   ],
   "source": [
    "A.table(results, condensed=True)"
   ]
  },
  {
   "cell_type": "code",
   "execution_count": 66,
   "metadata": {},
   "outputs": [
    {
     "name": "stdout",
     "output_type": "stream",
     "text": [
      "  0.21s 198 results\n"
     ]
    }
   ],
   "source": [
    "results = A.search('''\n",
    "line\n",
    "  sign reading=har\n",
    "''')"
   ]
  },
  {
   "cell_type": "code",
   "execution_count": 68,
   "metadata": {},
   "outputs": [
    {
     "data": {
      "text/html": [
       "<table>\n",
       "<tr class=\"tf\">\n",
       "  <th class=\"tf\">n</th><th class=\"tf\">p</th>\n",
       "  <th class=\"tf\">line</th><th>sign</th>\n",
       "</tr>\n",
       "\n",
       "<tr class=\"tf\"><td class=\"tf\">1</td><td class=\"tf\"> <a href=\"https://cdli.ucla.edu/search/search_results.php?SearchMode=Text&amp;ObjectID=P481192\" title=\"show this document on CDLI\" sec=\"P481192 obverse:6'\">P481192 obverse:6'</a></td><td class=\"tf\"><span class=\"txtp\">szu-lum-ka ma-<span  class=\"hl\" >har </span>{d}[x u3] {d}[x lu da-ri]</span></td><td class=\"tf\"><span class=\"txtp\"><span  class=\"hl\" >har </span></span></td></tr>\n",
       "<tr class=\"tf\"><td class=\"tf\">2</td><td class=\"tf\"> <a href=\"https://cdli.ucla.edu/search/search_results.php?SearchMode=Text&amp;ObjectID=P481192\" title=\"show this document on CDLI\" sec=\"P481192 obverse:14'\">P481192 obverse:14'</a></td><td class=\"tf\"><span class=\"txtp\">[...] x tup-pu# [x x] a-na# ma#-<span  class=\"hl\" >har </span>a-[wi-le-e]</span></td><td class=\"tf\"><span class=\"txtp\"><span  class=\"hl\" >har </span></span></td></tr>\n",
       "<tr class=\"tf\"><td class=\"tf\">3</td><td class=\"tf\"> <a href=\"https://cdli.ucla.edu/search/search_results.php?SearchMode=Text&amp;ObjectID=P481192\" title=\"show this document on CDLI\" sec=\"P481192 reverse:1'\">P481192 reverse:1'</a></td><td class=\"tf\"><span class=\"txtp\">i-na pu#-uh2#-ri i-na ma-<span  class=\"hl\" >har# </span>a-wi#-[le-e]</span></td><td class=\"tf\"><span class=\"txtp\"><span  class=\"hl\" >har# </span></span></td></tr>\n",
       "<tr class=\"tf\"><td class=\"tf\">4</td><td class=\"tf\"> <a href=\"https://cdli.ucla.edu/search/search_results.php?SearchMode=Text&amp;ObjectID=P510532\" title=\"show this document on CDLI\" sec=\"P510532 obverse:9\">P510532 obverse:9</a></td><td class=\"tf\"><span class=\"txtp\">ma-<span  class=\"hl\" >har </span>be-li2-ia</span></td><td class=\"tf\"><span class=\"txtp\"><span  class=\"hl\" >har </span></span></td></tr>\n",
       "<tr class=\"tf\"><td class=\"tf\">5</td><td class=\"tf\"> <a href=\"https://cdli.ucla.edu/search/search_results.php?SearchMode=Text&amp;ObjectID=P510534\" title=\"show this document on CDLI\" sec=\"P510534 reverse:8'\">P510534 reverse:8'</a></td><td class=\"tf\"><span class=\"txtp\">ma-<span  class=\"hl\" >har </span>a-wi-lim a-bi _erin2_ i-da-ab-bu#-bu#</span></td><td class=\"tf\"><span class=\"txtp\"><span  class=\"hl\" >har </span></span></td></tr>\n",
       "<tr class=\"tf\"><td class=\"tf\">6</td><td class=\"tf\"> <a href=\"https://cdli.ucla.edu/search/search_results.php?SearchMode=Text&amp;ObjectID=P510534\" title=\"show this document on CDLI\" sec=\"P510534 reverse:12'\">P510534 reverse:12'</a></td><td class=\"tf\"><span class=\"txtp\">a-na babila2#{ki} a-na ma-<span  class=\"hl\" >har </span>a-wi-lim a-[bi] _erin2_</span></td><td class=\"tf\"><span class=\"txtp\"><span  class=\"hl\" >har </span></span></td></tr>\n",
       "<tr class=\"tf\"><td class=\"tf\">7</td><td class=\"tf\"> <a href=\"https://cdli.ucla.edu/search/search_results.php?SearchMode=Text&amp;ObjectID=P510586\" title=\"show this document on CDLI\" sec=\"P510586 obverse:9\">P510586 obverse:9</a></td><td class=\"tf\"><span class=\"txtp\">szu-lum-ka ma-<span  class=\"hl\" >har </span>{d}utu u3 {d}marduk</span></td><td class=\"tf\"><span class=\"txtp\"><span  class=\"hl\" >har </span></span></td></tr>\n",
       "<tr class=\"tf\"><td class=\"tf\">8</td><td class=\"tf\"> <a href=\"https://cdli.ucla.edu/search/search_results.php?SearchMode=Text&amp;ObjectID=P510590\" title=\"show this document on CDLI\" sec=\"P510590 obverse:8'\">P510590 obverse:8'</a></td><td class=\"tf\"><span class=\"txtp\">a-na ma-<span  class=\"hl\" >har </span>a-wi-lim ib-ni-{d}utu a-bi _erin2_</span></td><td class=\"tf\"><span class=\"txtp\"><span  class=\"hl\" >har </span></span></td></tr>\n",
       "<tr class=\"tf\"><td class=\"tf\">9</td><td class=\"tf\"> <a href=\"https://cdli.ucla.edu/search/search_results.php?SearchMode=Text&amp;ObjectID=P510591\" title=\"show this document on CDLI\" sec=\"P510591 obverse:10\">P510591 obverse:10</a></td><td class=\"tf\"><span class=\"txtp\">szu-lum a-bi-ia ka-ta ma-<span  class=\"hl\" >har </span>_{d}utu_ u3 _{d}marduk_</span></td><td class=\"tf\"><span class=\"txtp\"><span  class=\"hl\" >har </span></span></td></tr>\n",
       "<tr class=\"tf\"><td class=\"tf\">10</td><td class=\"tf\"> <a href=\"https://cdli.ucla.edu/search/search_results.php?SearchMode=Text&amp;ObjectID=P510591\" title=\"show this document on CDLI\" sec=\"P510591 reverse:11\">P510591 reverse:11</a></td><td class=\"tf\"><span class=\"txtp\">[i]-na#-an#-na# ma-<span  class=\"hl\" >har </span>x [...] ta#-at,-ru#-dam#</span></td><td class=\"tf\"><span class=\"txtp\"><span  class=\"hl\" >har </span></span></td></tr></table>"
      ],
      "text/plain": [
       "<IPython.core.display.HTML object>"
      ]
     },
     "metadata": {},
     "output_type": "display_data"
    }
   ],
   "source": [
    "A.table(results, end=10, condensed=True)"
   ]
  },
  {
   "cell_type": "markdown",
   "metadata": {},
   "source": [
    "# `IH`"
   ]
  },
  {
   "cell_type": "code",
   "execution_count": 11,
   "metadata": {},
   "outputs": [
    {
     "name": "stdout",
     "output_type": "stream",
     "text": [
      "  0.19s 7 results\n"
     ]
    }
   ],
   "source": [
    "results = A.search('''\n",
    "line\n",
    "  sign grapheme=IH\n",
    "''')"
   ]
  },
  {
   "cell_type": "code",
   "execution_count": 12,
   "metadata": {},
   "outputs": [
    {
     "data": {
      "text/html": [
       "<table>\n",
       "<tr class=\"tf\">\n",
       "  <th class=\"tf\">n</th><th class=\"tf\">p</th>\n",
       "  <th class=\"tf\">line</th><th>sign</th>\n",
       "</tr>\n",
       "\n",
       "<tr class=\"tf\"><td class=\"tf\">1</td><td class=\"tf\"> <a href=\"https://cdli.ucla.edu/search/search_results.php?SearchMode=Text&amp;ObjectID=P372978\" title=\"show this document on CDLI\" sec=\"P372978 obverse:15\">P372978 obverse:15</a></td><td class=\"tf\"><span class=\"txtp\">i-na-an-na i-<span  class=\"hl\" >IH-</span>s,e-ku</span></td><td class=\"tf\"><span class=\"txtp\"><span  class=\"hl\" >IH-</span></span></td></tr>\n",
       "<tr class=\"tf\"><td class=\"tf\">2</td><td class=\"tf\"> <a href=\"https://cdli.ucla.edu/search/search_results.php?SearchMode=Text&amp;ObjectID=P373015\" title=\"show this document on CDLI\" sec=\"P373015 reverse:2\">P373015 reverse:2</a></td><td class=\"tf\"><span class=\"txtp\">ma#-ti#-ma x x al-<span  class=\"hl\" >IH</span></span></td><td class=\"tf\"><span class=\"txtp\"><span  class=\"hl\" >IH</span></span></td></tr>\n",
       "<tr class=\"tf\"><td class=\"tf\">3</td><td class=\"tf\"> <a href=\"https://cdli.ucla.edu/search/search_results.php?SearchMode=Text&amp;ObjectID=P305782\" title=\"show this document on CDLI\" sec=\"P305782 obverse:10\">P305782 obverse:10</a></td><td class=\"tf\"><span class=\"txtp\">u3 di-<span  class=\"hl\" >IH?-</span>ti-ia#</span></td><td class=\"tf\"><span class=\"txtp\"><span  class=\"hl\" >IH?-</span></span></td></tr>\n",
       "<tr class=\"tf\"><td class=\"tf\">4</td><td class=\"tf\"> <a href=\"https://cdli.ucla.edu/search/search_results.php?SearchMode=Text&amp;ObjectID=P305799\" title=\"show this document on CDLI\" sec=\"P305799 obverse:10\">P305799 obverse:10</a></td><td class=\"tf\"><span class=\"txtp\">szum-ma# bi#-tu#-um# la ma-szi-<span  class=\"hl\" >IH?</span></span></td><td class=\"tf\"><span class=\"txtp\"><span  class=\"hl\" >IH?</span></span></td></tr>\n",
       "<tr class=\"tf\"><td class=\"tf\">5</td><td class=\"tf\"> <a href=\"https://cdli.ucla.edu/search/search_results.php?SearchMode=Text&amp;ObjectID=P307851\" title=\"show this document on CDLI\" sec=\"P307851 reverse:5\">P307851 reverse:5</a></td><td class=\"tf\"><span class=\"txtp\">e-szi-<span  class=\"hl\" >IH?-</span>ma</span></td><td class=\"tf\"><span class=\"txtp\"><span  class=\"hl\" >IH?-</span></span></td></tr>\n",
       "<tr class=\"tf\"><td class=\"tf\">6</td><td class=\"tf\"> <a href=\"https://cdli.ucla.edu/search/search_results.php?SearchMode=Text&amp;ObjectID=P311363\" title=\"show this document on CDLI\" sec=\"P311363 obverse:7\">P311363 obverse:7</a></td><td class=\"tf\"><span class=\"txtp\">i-na-an-na S,I?-<span  class=\"hl\" >IH-</span>pi2 usz-ta-bi-la-ak-kum#</span></td><td class=\"tf\"><span class=\"txtp\"><span  class=\"hl\" >IH-</span></span></td></tr>\n",
       "<tr class=\"tf\"><td class=\"tf\">7</td><td class=\"tf\"> <a href=\"https://cdli.ucla.edu/search/search_results.php?SearchMode=Text&amp;ObjectID=P312152\" title=\"show this document on CDLI\" sec=\"P312152 obverse:12\">P312152 obverse:12</a></td><td class=\"tf\"><span class=\"txtp\">[ki]-ma# S,I?-<span  class=\"hl\" >IH?-</span>pi2 ta-am-ma-ru#</span></td><td class=\"tf\"><span class=\"txtp\"><span  class=\"hl\" >IH?-</span></span></td></tr></table>"
      ],
      "text/plain": [
       "<IPython.core.display.HTML object>"
      ]
     },
     "metadata": {},
     "output_type": "display_data"
    }
   ],
   "source": [
    "A.table(results, condensed=True)"
   ]
  },
  {
   "cell_type": "markdown",
   "metadata": {},
   "source": [
    "# `KA.TA`\n",
    "\n",
    "If this should be `KA.TAR`, then there is a unicode for it:\n",
    "\n",
    "𒆆 `12186 CUNEIFORM SIGN KA TIMES TAR`"
   ]
  },
  {
   "cell_type": "code",
   "execution_count": 13,
   "metadata": {},
   "outputs": [
    {
     "name": "stdout",
     "output_type": "stream",
     "text": [
      "  0.19s 1 result\n"
     ]
    }
   ],
   "source": [
    "results = A.search('''\n",
    "line\n",
    "  sign grapheme=KA.TA\n",
    "''')"
   ]
  },
  {
   "cell_type": "code",
   "execution_count": 14,
   "metadata": {},
   "outputs": [
    {
     "data": {
      "text/html": [
       "<table>\n",
       "<tr class=\"tf\">\n",
       "  <th class=\"tf\">n</th><th class=\"tf\">p</th>\n",
       "  <th class=\"tf\">line</th><th>sign</th>\n",
       "</tr>\n",
       "\n",
       "<tr class=\"tf\"><td class=\"tf\">1</td><td class=\"tf\"> <a href=\"https://cdli.ucla.edu/search/search_results.php?SearchMode=Text&amp;ObjectID=P313412\" title=\"show this document on CDLI\" sec=\"P313412 reverse:9\">P313412 reverse:9</a></td><td class=\"tf\"><span class=\"txtp\"><span  class=\"hl\" >puzur!(KA.TA)-</span>_{d}iszkur 3(disz) gu4_</span></td><td class=\"tf\"><span class=\"txtp\"><span  class=\"hl\" >puzur!(KA.TA)-</span></span></td></tr></table>"
      ],
      "text/plain": [
       "<IPython.core.display.HTML object>"
      ]
     },
     "metadata": {},
     "output_type": "display_data"
    }
   ],
   "source": [
    "A.table(results, condensed=True)"
   ]
  },
  {
   "cell_type": "markdown",
   "metadata": {},
   "source": [
    "# `UH` `UH2` `UH3`"
   ]
  },
  {
   "cell_type": "code",
   "execution_count": 16,
   "metadata": {},
   "outputs": [
    {
     "name": "stdout",
     "output_type": "stream",
     "text": [
      "  0.18s 4 results\n"
     ]
    }
   ],
   "source": [
    "results = A.search('''\n",
    "line\n",
    "  sign grapheme~^UH[23]?$\n",
    "''')"
   ]
  },
  {
   "cell_type": "code",
   "execution_count": 17,
   "metadata": {},
   "outputs": [
    {
     "data": {
      "text/html": [
       "<table>\n",
       "<tr class=\"tf\">\n",
       "  <th class=\"tf\">n</th><th class=\"tf\">p</th>\n",
       "  <th class=\"tf\">line</th><th>sign</th>\n",
       "</tr>\n",
       "\n",
       "<tr class=\"tf\"><td class=\"tf\">1</td><td class=\"tf\"> <a href=\"https://cdli.ucla.edu/search/search_results.php?SearchMode=Text&amp;ObjectID=P510553\" title=\"show this document on CDLI\" sec=\"P510553 obverse:7\">P510553 obverse:7</a></td><td class=\"tf\"><span class=\"txtp\">asz-szum {disz}dingir-ha-bil2 _iri_ KUR-bi-{d}<span  class=\"hl\" >UH3</span></span></td><td class=\"tf\"><span class=\"txtp\"><span  class=\"hl\" >UH3</span></span></td></tr>\n",
       "<tr class=\"tf\"><td class=\"tf\">2</td><td class=\"tf\"> <a href=\"https://cdli.ucla.edu/search/search_results.php?SearchMode=Text&amp;ObjectID=P510588\" title=\"show this document on CDLI\" sec=\"P510588 obverse:4\">P510588 obverse:4</a></td><td class=\"tf\"><span class=\"txtp\">[i-na] pa-lu-uh-ti {d}<span  class=\"hl\" >UH2 </span>u3 _nin-gar3-sa6_</span></td><td class=\"tf\"><span class=\"txtp\"><span  class=\"hl\" >UH2 </span></span></td></tr>\n",
       "<tr class=\"tf\"><td class=\"tf\">3</td><td class=\"tf\"> <a href=\"https://cdli.ucla.edu/search/search_results.php?SearchMode=Text&amp;ObjectID=P387297\" title=\"show this document on CDLI\" sec=\"P387297 reverse:13\">P387297 reverse:13</a></td><td class=\"tf\"><span class=\"txtp\">sza _{gesz}erin_ mi-<span  class=\"hl\" >UH3-</span>s,u2-u2-um</span></td><td class=\"tf\"><span class=\"txtp\"><span  class=\"hl\" >UH3-</span></span></td></tr>\n",
       "<tr class=\"tf\"><td class=\"tf\">4</td><td class=\"tf\"> <a href=\"https://cdli.ucla.edu/search/search_results.php?SearchMode=Text&amp;ObjectID=P373043\" title=\"show this document on CDLI\" sec=\"P373043 obverse:10'\">P373043 obverse:10'</a></td><td class=\"tf\"><span class=\"txtp\">ma-na-am tu-<span  class=\"hl\" >UH-</span>la-BI</span></td><td class=\"tf\"><span class=\"txtp\"><span  class=\"hl\" >UH-</span></span></td></tr></table>"
      ],
      "text/plain": [
       "<IPython.core.display.HTML object>"
      ]
     },
     "metadata": {},
     "output_type": "display_data"
    }
   ],
   "source": [
    "A.table(results, condensed=True)"
   ]
  },
  {
   "cell_type": "markdown",
   "metadata": {},
   "source": [
    "# The whole list\n",
    "\n",
    "There are more problematic tokens.\n",
    "\n",
    "Below is the full list.\n",
    "\n",
    "The quickest way to inspect them is with the TF browser.\n",
    "\n",
    "If you have TF installed, say\n",
    "\n",
    "```sh\n",
    "text-fabric oldbabylonian -c\n",
    "```\n",
    "\n",
    "and then enter queries in the search field, and click the little symbol above it."
   ]
  },
  {
   "cell_type": "markdown",
   "metadata": {},
   "source": [
    "```\n",
    "\tah              => ?\n",
    "\tAH              => ?\n",
    "\talamusz         => ?\n",
    "\tbabila2         => ?\n",
    "\tbarig           => ?\n",
    "\t(1, 'barig')    => ?\n",
    "\t(2, 'barig')    => ?\n",
    "\t(3, 'barig')    => ?\n",
    "\t(4, 'barig')    => ?\n",
    "\t(5, 'barig')    => ?\n",
    "\tbub             => ?\n",
    "\t(1, 'bur3')     => ?\n",
    "\t(2, 'bur3')     => ?\n",
    "\t(3, 'bur3')     => ?\n",
    "\t(4, 'bur3')     => ?\n",
    "\t(5, 'bur3')     => ?\n",
    "\t(6, 'bur3')     => ?\n",
    "\t(8, 'bur3')     => ?\n",
    "\t(9, 'bur3')     => ?\n",
    "\td               => ?\n",
    "\tdah             => ?\n",
    "\t('1/2', 'disz') => ?\n",
    "\t(13, 'disz')    => ?\n",
    "\teh              => ?\n",
    "\tEH              => ?\n",
    "\teri11           => ?\n",
    "\t(3, 'esze3')    => ?\n",
    "\t(1, 'gesz')     => ?\n",
    "\t(9, 'gesz')     => ?\n",
    "\t(7, \"gesz'u\")   => ?\n",
    "\tgeszimmar       => ?\n",
    "\tgudu4           => ?\n",
    "\thad2            => ?\n",
    "\thar             => ?\n",
    "\tHAR             => ?\n",
    "\the              => ?\n",
    "\the2             => ?\n",
    "\thun             => ?\n",
    "\thur             => ?\n",
    "\thuz             => ?\n",
    "\tih              => ?\n",
    "\tIH              => ?\n",
    "\t(1, 'iku')      => ?\n",
    "\t('1/2', 'iku')  => ?\n",
    "\t(2, 'iku')      => ?\n",
    "\t(3, 'iku')      => ?\n",
    "\t(4, 'iku')      => ?\n",
    "\titu             => ?\n",
    "\tKA.TA           => ?\n",
    "\tkislah          => ?\n",
    "\tlah             => ?\n",
    "\tlah4            => ?\n",
    "\tlah5            => ?\n",
    "\tlah6            => ?\n",
    "\tlal3            => ?\n",
    "\tm               => ?\n",
    "\tmuhaldim        => ?\n",
    "\tn               => ?\n",
    "\tnigar           => ?\n",
    "\tnirah           => ?\n",
    "\tp               => ?\n",
    "\tsa10            => ?\n",
    "\tsahar           => ?\n",
    "\tsiskur2         => ?\n",
    "\tsz              => ?\n",
    "\tszagina         => ?\n",
    "\tszah            => ?\n",
    "\tszah2           => ?\n",
    "\tszandana        => ?\n",
    "\tsze9            => ?\n",
    "\tszii            => ?\n",
    "\tszunigin        => ?\n",
    "\ttah             => ?\n",
    "\ttap             => ?\n",
    "\tudru            => ?\n",
    "\tUH              => ?\n",
    "\tuh              => ?\n",
    "\tUH2             => ?\n",
    "\tuh2             => ?\n",
    "\tuh3             => ?\n",
    "\tUH3             => ?\n",
    "\tukken           => ?\n",
    "\tumi             => ?\n",
    "\tunu             => ?\n",
    "\tura             => ?\n",
    "\t|A.GAB.LISZ|    => ?\n",
    "\t|UD.KIB.NU|     => ?\n",
    "\t|UD.KIB|        => ?\n",
    "```"
   ]
  },
  {
   "cell_type": "code",
   "execution_count": null,
   "metadata": {},
   "outputs": [],
   "source": []
  }
 ],
 "metadata": {
  "kernelspec": {
   "display_name": "Python 3",
   "language": "python",
   "name": "python3"
  },
  "language_info": {
   "codemirror_mode": {
    "name": "ipython",
    "version": 3
   },
   "file_extension": ".py",
   "mimetype": "text/x-python",
   "name": "python",
   "nbconvert_exporter": "python",
   "pygments_lexer": "ipython3",
   "version": "3.7.2"
  }
 },
 "nbformat": 4,
 "nbformat_minor": 2
}
